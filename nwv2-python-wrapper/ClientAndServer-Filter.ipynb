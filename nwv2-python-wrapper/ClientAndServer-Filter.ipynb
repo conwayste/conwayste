{
 "cells": [
  {
   "cell_type": "markdown",
   "id": "aba2c68e",
   "metadata": {},
   "source": [
    "# Boilerplate"
   ]
  },
  {
   "cell_type": "code",
   "execution_count": null,
   "id": "bf75903d",
   "metadata": {},
   "outputs": [],
   "source": [
    "import sys\n",
    "sys.path.insert(0, 'venv/lib/python3.10/site-packages')\n",
    "import asyncio\n",
    "import time\n",
    "import base64\n",
    "\n",
    "from nwv2_python_wrapper import *\n",
    "import nwv2_python_wrapper\n",
    "init_logging()"
   ]
  },
  {
   "cell_type": "markdown",
   "id": "4b39dc18",
   "metadata": {},
   "source": [
    "# Run"
   ]
  },
  {
   "cell_type": "markdown",
   "id": "a2c354f3",
   "metadata": {},
   "source": [
    "List all Python wrappers"
   ]
  },
  {
   "cell_type": "code",
   "execution_count": null,
   "id": "37227bf5",
   "metadata": {},
   "outputs": [],
   "source": [
    "[f for f in dir(nwv2_python_wrapper) if not f.startswith('__') and f != 'nwv2_python_wrapper']"
   ]
  },
  {
   "cell_type": "markdown",
   "id": "e28d4512",
   "metadata": {},
   "source": [
    "## Transport layer setup"
   ]
  },
  {
   "cell_type": "markdown",
   "id": "5d9622f6",
   "metadata": {},
   "source": [
    "Create a Client and Server Transport layer and run each in the background."
   ]
  },
  {
   "cell_type": "code",
   "execution_count": null,
   "id": "495f6d91",
   "metadata": {},
   "outputs": [],
   "source": [
    "# Temporary workaround until the random port generated from `0` passed in can be obtained\n",
    "CLIENT_PORT = 62012\n",
    "SERVER_PORT = 62013"
   ]
  },
  {
   "cell_type": "code",
   "execution_count": null,
   "id": "38346200",
   "metadata": {},
   "outputs": [],
   "source": [
    "client_tiface = await new_transport_interface(\"0.0.0.0\", CLIENT_PORT)\n",
    "client_tiface.run()\n",
    "\n",
    "server_tiface = await new_transport_interface(\"0.0.0.0\", SERVER_PORT)\n",
    "server_tiface.run()"
   ]
  },
  {
   "cell_type": "markdown",
   "id": "344a2a3f",
   "metadata": {},
   "source": [
    "# Filter layer setup"
   ]
  },
  {
   "cell_type": "code",
   "execution_count": null,
   "id": "6fa2ab7b",
   "metadata": {},
   "outputs": [],
   "source": [
    "client_fiface = FilterInterface(client_tiface, FilterModeW(\"client\"))\n",
    "server_fiface = FilterInterface(server_tiface, FilterModeW(\"server\"))\n",
    "\n",
    "(client_fiface, server_fiface)"
   ]
  },
  {
   "cell_type": "markdown",
   "id": "82345b04",
   "metadata": {},
   "source": [
    "Find methods to run"
   ]
  },
  {
   "cell_type": "code",
   "execution_count": null,
   "id": "5e2d7d02",
   "metadata": {},
   "outputs": [],
   "source": [
    "[m for m in dir(client_fiface) if not m.startswith('__')]"
   ]
  },
  {
   "cell_type": "markdown",
   "id": "794804e3",
   "metadata": {},
   "source": [
    "Run Client and Server Filter!"
   ]
  },
  {
   "cell_type": "code",
   "execution_count": null,
   "id": "5cda3921",
   "metadata": {},
   "outputs": [],
   "source": [
    "client_fiface_fut = client_fiface.run()\n",
    "server_fiface_fut = server_fiface.run()\n",
    "\n",
    "# After waiting a bit, the above future should not have completed\n",
    "time.sleep(0.1)\n",
    "assert not client_fiface_fut.done() and not server_fiface_fut.done()"
   ]
  },
  {
   "cell_type": "markdown",
   "id": "f713c42a",
   "metadata": {},
   "source": [
    "## Filter layer operation"
   ]
  },
  {
   "cell_type": "markdown",
   "id": "17a3b5a9",
   "metadata": {},
   "source": [
    "### As a client, connect to server"
   ]
  },
  {
   "cell_type": "code",
   "execution_count": null,
   "id": "6af62415",
   "metadata": {},
   "outputs": [],
   "source": [
    "import random\n",
    "id = random.randint(1,10000)\n",
    "connect_action = RequestActionW(\"connect\", name=\"FilterNotebookClient{}\".format(id), client_version=\"0.0.666\")\n",
    "connect_action"
   ]
  },
  {
   "cell_type": "code",
   "execution_count": null,
   "id": "3b3a1776",
   "metadata": {},
   "outputs": [],
   "source": [
    "jupyter_endpoint = EndpointW(f\"127.0.0.1:{SERVER_PORT}\")\n",
    "\n",
    "filter_cmd = FilterCmdW(\"sendrequestaction\", endpoint=jupyter_endpoint, action=connect_action)\n",
    "filter_cmd"
   ]
  },
  {
   "cell_type": "code",
   "execution_count": null,
   "id": "7b4b5724",
   "metadata": {
    "scrolled": true
   },
   "outputs": [],
   "source": [
    "await client_fiface.command_response(filter_cmd)"
   ]
  },
  {
   "cell_type": "code",
   "execution_count": null,
   "id": "2e0eb1df",
   "metadata": {},
   "outputs": [],
   "source": [
    "# XXX get endpoint programatically from client\n",
    "client_endpoint = EndpointW(f\"127.0.0.1:{CLIENT_PORT}\")\n",
    "client_endpoint"
   ]
  },
  {
   "cell_type": "code",
   "execution_count": null,
   "id": "508a922e",
   "metadata": {
    "scrolled": true
   },
   "outputs": [],
   "source": [
    "server_notifications = server_fiface.get_notifications()\n",
    "assert len(server_notifications) > 0\n",
    "new_request_action = server_notifications[0]\n",
    "\n",
    "assert new_request_action.request_action == connect_action"
   ]
  },
  {
   "cell_type": "code",
   "execution_count": null,
   "id": "184d3391",
   "metadata": {},
   "outputs": [],
   "source": [
    "cookie = base64.urlsafe_b64encode(bytes(new_request_action.request_action.name.encode()))\n",
    "cookie"
   ]
  },
  {
   "cell_type": "code",
   "execution_count": null,
   "id": "3eef1c81",
   "metadata": {},
   "outputs": [],
   "source": [
    "response_ok = ResponseCodeW(\"loggedin\", cookie=str(cookie), server_version=\"0.0.666\")\n",
    "response_ok"
   ]
  },
  {
   "cell_type": "code",
   "execution_count": null,
   "id": "14369ed8",
   "metadata": {},
   "outputs": [],
   "source": [
    "await server_fiface.command_response(FilterCmdW(\"sendresponsecode\", endpoint=client_endpoint, code=response_ok))"
   ]
  },
  {
   "cell_type": "code",
   "execution_count": null,
   "id": "22e24814",
   "metadata": {
    "scrolled": true
   },
   "outputs": [],
   "source": [
    "client_notifications = client_fiface.get_notifications()\n",
    "assert len(client_notifications) > 0\n",
    "new_response_code = client_notifications[0]\n",
    "new_response_code"
   ]
  },
  {
   "cell_type": "code",
   "execution_count": null,
   "id": "26b24dce",
   "metadata": {},
   "outputs": [],
   "source": [
    "new_response_code.response_code"
   ]
  },
  {
   "cell_type": "code",
   "execution_count": null,
   "id": "b249bbc9",
   "metadata": {},
   "outputs": [],
   "source": [
    "cookie_from_server = new_response_code.response_code.cookie\n",
    "assert str(cookie_from_server) == str(cookie)"
   ]
  },
  {
   "cell_type": "markdown",
   "id": "dc6ea9ec",
   "metadata": {},
   "source": [
    "### Convenience function"
   ]
  },
  {
   "cell_type": "code",
   "execution_count": null,
   "id": "49b15c8b",
   "metadata": {},
   "outputs": [],
   "source": [
    "async def request_action_to_filter(req_action, endpoint=jupyter_endpoint):\n",
    "    filter_cmd = FilterCmdW(\"sendrequestaction\", endpoint=endpoint, action=req_action)\n",
    "    return await client_fiface.command_response(filter_cmd)\n",
    "\n",
    "def get_all_notification(fiface, min_expected_count=1):\n",
    "    notifications = fiface.get_notifications()\n",
    "    assert len(notifications) >= min_expected_count\n",
    "    \n",
    "    return notifications"
   ]
  },
  {
   "cell_type": "markdown",
   "id": "f903f6d4",
   "metadata": {},
   "source": [
    "### Create a room"
   ]
  },
  {
   "cell_type": "code",
   "execution_count": null,
   "id": "2d843235",
   "metadata": {
    "scrolled": true
   },
   "outputs": [],
   "source": [
    "await request_action_to_filter(RequestActionW(\"newroom\", room_name=\"general\"))"
   ]
  },
  {
   "cell_type": "code",
   "execution_count": null,
   "id": "533958c2",
   "metadata": {},
   "outputs": [],
   "source": [
    "get_all_notification(server_fiface)"
   ]
  },
  {
   "cell_type": "markdown",
   "id": "b645dda2",
   "metadata": {},
   "source": [
    "### Join a room"
   ]
  },
  {
   "cell_type": "code",
   "execution_count": null,
   "id": "abf8bcd1",
   "metadata": {},
   "outputs": [],
   "source": [
    "await request_action_to_filter(RequestActionW(\"joinroom\", room_name=\"general\"))"
   ]
  },
  {
   "cell_type": "code",
   "execution_count": null,
   "id": "d34eac0d",
   "metadata": {},
   "outputs": [],
   "source": [
    "get_all_notification(server_fiface)"
   ]
  },
  {
   "cell_type": "code",
   "execution_count": null,
   "id": "de4852b4",
   "metadata": {},
   "outputs": [],
   "source": []
  }
 ],
 "metadata": {
  "kernelspec": {
   "display_name": "Python 3 (ipykernel)",
   "language": "python",
   "name": "python3"
  },
  "language_info": {
   "codemirror_mode": {
    "name": "ipython",
    "version": 3
   },
   "file_extension": ".py",
   "mimetype": "text/x-python",
   "name": "python",
   "nbconvert_exporter": "python",
   "pygments_lexer": "ipython3",
   "version": "3.10.6"
  },
  "vscode": {
   "interpreter": {
    "hash": "916dbcbb3f70747c44a77c7bcd40155683ae19c65e1c03b4aa3499c5328201f1"
   }
  }
 },
 "nbformat": 4,
 "nbformat_minor": 5
}
