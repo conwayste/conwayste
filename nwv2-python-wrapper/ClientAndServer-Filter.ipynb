{
 "cells": [
  {
   "cell_type": "markdown",
   "id": "aba2c68e",
   "metadata": {},
   "source": [
    "# Boilerplate"
   ]
  },
  {
   "cell_type": "code",
   "execution_count": 1,
   "id": "bf75903d",
   "metadata": {},
   "outputs": [],
   "source": [
    "import sys\n",
    "sys.path.insert(0, 'venv/lib/python3.10/site-packages')\n",
    "import asyncio\n",
    "import time\n",
    "import base64\n",
    "\n",
    "from nwv2_python_wrapper import *\n",
    "import nwv2_python_wrapper\n",
    "init_logging()"
   ]
  },
  {
   "cell_type": "markdown",
   "id": "4b39dc18",
   "metadata": {},
   "source": [
    "# Run"
   ]
  },
  {
   "cell_type": "markdown",
   "id": "a2c354f3",
   "metadata": {},
   "source": [
    "List all Python wrappers"
   ]
  },
  {
   "cell_type": "code",
   "execution_count": 2,
   "id": "37227bf5",
   "metadata": {},
   "outputs": [
    {
     "data": {
      "text/plain": [
       "['BroadcastChatMessageW',\n",
       " 'EndpointW',\n",
       " 'FilterCmdW',\n",
       " 'FilterInterface',\n",
       " 'FilterModeW',\n",
       " 'FilterNoticeW',\n",
       " 'FilterRspW',\n",
       " 'GameOptionsW',\n",
       " 'GameOutcomeW',\n",
       " 'GameUpdateW',\n",
       " 'GenPartInfoW',\n",
       " 'GenStateDiffPartW',\n",
       " 'GenStateDiffW',\n",
       " 'NetRegionW',\n",
       " 'PacketSettingsW',\n",
       " 'PacketW',\n",
       " 'PlayerInfoW',\n",
       " 'ProcessUniqueIdW',\n",
       " 'RequestActionW',\n",
       " 'ResponseCodeW',\n",
       " 'RoomListW',\n",
       " 'TransportCmdW',\n",
       " 'TransportInterface',\n",
       " 'TransportNoticeW',\n",
       " 'TransportRspW',\n",
       " 'UniUpdateW',\n",
       " 'debug_hello',\n",
       " 'init_logging',\n",
       " 'new_transport_interface']"
      ]
     },
     "execution_count": 2,
     "metadata": {},
     "output_type": "execute_result"
    }
   ],
   "source": [
    "[f for f in dir(nwv2_python_wrapper) if not f.startswith('__') and f != 'nwv2_python_wrapper']"
   ]
  },
  {
   "cell_type": "markdown",
   "id": "e28d4512",
   "metadata": {},
   "source": [
    "## Transport layer setup"
   ]
  },
  {
   "cell_type": "markdown",
   "id": "5d9622f6",
   "metadata": {},
   "source": [
    "Create a Client and Server Transport layer and run each in the background."
   ]
  },
  {
   "cell_type": "code",
   "execution_count": 3,
   "id": "495f6d91",
   "metadata": {},
   "outputs": [],
   "source": [
    "# Temporary workaround until the random port generated from `0` passed in can be obtained\n",
    "CLIENT_PORT = 62012\n",
    "SERVER_PORT = 62013"
   ]
  },
  {
   "cell_type": "code",
   "execution_count": 4,
   "id": "38346200",
   "metadata": {},
   "outputs": [
    {
     "name": "stdout",
     "output_type": "stream",
     "text": [
      "Sun 2023-01-22 10:48:39.235552 [TRACE] - registering event source with poller: token=Token(0), interests=READABLE | WRITABLE\n",
      "Sun 2023-01-22 10:48:39.236415 [INFO ] - [T] Attempting to bind to 0.0.0.0:62012\n",
      "Sun 2023-01-22 10:48:39.236435 [TRACE] - registering event source with poller: token=Token(1), interests=READABLE | WRITABLE\n",
      "Sun 2023-01-22 10:48:39.237519 [INFO ] - [T] Attempting to bind to 0.0.0.0:62013\n",
      "Sun 2023-01-22 10:48:39.271758 [TRACE] - registering event source with poller: token=Token(2), interests=READABLE | WRITABLE\n"
     ]
    },
    {
     "data": {
      "text/plain": [
       "<Future pending cb=[<builtins.PyDoneCallback object at 0x7fafcdede950>()]>"
      ]
     },
     "execution_count": 4,
     "metadata": {},
     "output_type": "execute_result"
    }
   ],
   "source": [
    "client_tiface_inner = await new_transport_interface(\"0.0.0.0\", CLIENT_PORT)\n",
    "client_tiface_inner.run()\n",
    "\n",
    "server_tiface_inner = await new_transport_interface(\"0.0.0.0\", SERVER_PORT)\n",
    "server_tiface_inner.run()"
   ]
  },
  {
   "cell_type": "markdown",
   "id": "36a04bac",
   "metadata": {},
   "source": [
    "## Wrap the PYO3 Transport Interface in a Python class with the same methods"
   ]
  },
  {
   "cell_type": "markdown",
   "id": "9d109c58",
   "metadata": {},
   "source": [
    "Note that there is no `run()`. Hence, the passed in `TransportInterface` instance must have already had its `run()` method called."
   ]
  },
  {
   "cell_type": "code",
   "execution_count": 5,
   "id": "ab35c95a",
   "metadata": {},
   "outputs": [
    {
     "data": {
      "text/plain": [
       "<__main__.LoggingTransportInterface at 0x7fafcc5447c0>"
      ]
     },
     "execution_count": 5,
     "metadata": {},
     "output_type": "execute_result"
    }
   ],
   "source": [
    "CRESET    = '\\33[0m'\n",
    "CBOLD     = '\\33[1m'\n",
    "CITALIC   = '\\33[3m'\n",
    "CURL      = '\\33[4m'\n",
    "CBLINK    = '\\33[5m'\n",
    "CBLINK2   = '\\33[6m'\n",
    "CSELECTED = '\\33[7m'\n",
    "\n",
    "CBLACK  = '\\33[30m'\n",
    "CRED    = '\\33[31m'\n",
    "CGREEN  = '\\33[32m'\n",
    "CYELLOW = '\\33[33m'\n",
    "CBLUE   = '\\33[34m'\n",
    "CVIOLET = '\\33[35m'\n",
    "CBEIGE  = '\\33[36m'\n",
    "CWHITE  = '\\33[37m'\n",
    "\n",
    "def cprint(tag, message):\n",
    "    if tag == \"client\":\n",
    "        color = CYELLOW\n",
    "    else:\n",
    "        color = CVIOLET\n",
    "    print(f\"{color}{message}{CRESET}\")\n",
    "        \n",
    "\n",
    "class LoggingTransportInterface:\n",
    "    def __init__(self, inner, tag):\n",
    "        self.inner = inner\n",
    "        self.ctr = 0\n",
    "        self.skipped_count = None\n",
    "        self.tag = tag\n",
    "        \n",
    "    async def command_response(self, transport_cmd):\n",
    "        cprint(self.tag, f\"LTI({self.tag}){self.ctr}{self.skipped()}: received transport_cmd {transport_cmd}\")\n",
    "        self.ctr += 1\n",
    "        transport_rsp = await self.inner.command_response(transport_cmd)\n",
    "        cprint(self.tag, f\"LTI({self.tag}){self.ctr}: got transport_rsp back from Transport layer: {transport_rsp}\")\n",
    "        self.ctr += 1\n",
    "        return transport_rsp\n",
    "    \n",
    "    def get_notifications(self):\n",
    "        transport_notif_list = self.inner.get_notifications()\n",
    "        if self.skipped_count is None:\n",
    "            cprint(self.tag, f\"LTI({self.tag}){self.ctr}: got transport notifications: {transport_notif_list}\")\n",
    "            self.skipped_count = 0\n",
    "            if len(transport_notif_list) > 0:\n",
    "                self.reset()\n",
    "        else:\n",
    "            self.skipped_count += 1\n",
    "        self.ctr += 1\n",
    "        return transport_notif_list\n",
    "    \n",
    "    def skipped(self):\n",
    "        if self.skipped_count is None:\n",
    "            return \"\"\n",
    "        count = self.skipped_count\n",
    "        self.skipped_count = None\n",
    "        return f\" skipped {count}\"\n",
    "    \n",
    "    def reset(self):\n",
    "        self.skipped_count = None\n",
    "        \n",
    "client_tiface = LoggingTransportInterface(client_tiface_inner, \"client\")\n",
    "client_tiface\n",
    "\n",
    "server_tiface = LoggingTransportInterface(server_tiface_inner, \"server\")\n",
    "server_tiface"
   ]
  },
  {
   "cell_type": "markdown",
   "id": "344a2a3f",
   "metadata": {},
   "source": [
    "# Filter layer setup"
   ]
  },
  {
   "cell_type": "code",
   "execution_count": 6,
   "id": "6fa2ab7b",
   "metadata": {},
   "outputs": [
    {
     "data": {
      "text/plain": [
       "(<FilterInterface at 0x7fafcc538c20>, <FilterInterface at 0x7fafcc538fb0>)"
      ]
     },
     "execution_count": 6,
     "metadata": {},
     "output_type": "execute_result"
    }
   ],
   "source": [
    "client_fiface = FilterInterface(client_tiface, FilterModeW(\"client\"))\n",
    "server_fiface = FilterInterface(server_tiface, FilterModeW(\"server\"))\n",
    "\n",
    "(client_fiface, server_fiface)"
   ]
  },
  {
   "cell_type": "markdown",
   "id": "82345b04",
   "metadata": {},
   "source": [
    "Find methods to run"
   ]
  },
  {
   "cell_type": "code",
   "execution_count": 7,
   "id": "5e2d7d02",
   "metadata": {},
   "outputs": [
    {
     "data": {
      "text/plain": [
       "['command',\n",
       " 'command_response',\n",
       " 'get_notifications',\n",
       " 'notif_poll_ms',\n",
       " 'response',\n",
       " 'run']"
      ]
     },
     "execution_count": 7,
     "metadata": {},
     "output_type": "execute_result"
    }
   ],
   "source": [
    "[m for m in dir(client_fiface) if not m.startswith('__')]"
   ]
  },
  {
   "cell_type": "markdown",
   "id": "794804e3",
   "metadata": {},
   "source": [
    "Run Client and Server Filter!"
   ]
  },
  {
   "cell_type": "code",
   "execution_count": 8,
   "id": "5cda3921",
   "metadata": {},
   "outputs": [
    {
     "name": "stdout",
     "output_type": "stream",
     "text": [
      "\u001b[33mLTI(client)0: got transport notifications: []\u001b[0m\n",
      "\u001b[35mLTI(server)0: got transport notifications: []\u001b[0m\n"
     ]
    }
   ],
   "source": [
    "client_fiface_fut = client_fiface.run()\n",
    "server_fiface_fut = server_fiface.run()\n",
    "\n",
    "# After waiting a bit, the above future should not have completed\n",
    "time.sleep(0.1)\n",
    "assert not client_fiface_fut.done() and not server_fiface_fut.done()"
   ]
  },
  {
   "cell_type": "code",
   "execution_count": 9,
   "id": "598eed8b",
   "metadata": {},
   "outputs": [],
   "source": [
    "client_fiface.notif_poll_ms = 100\n"
   ]
  },
  {
   "cell_type": "markdown",
   "id": "f713c42a",
   "metadata": {},
   "source": [
    "## Filter layer operation"
   ]
  },
  {
   "cell_type": "markdown",
   "id": "17a3b5a9",
   "metadata": {},
   "source": [
    "### As a client, connect to server"
   ]
  },
  {
   "cell_type": "code",
   "execution_count": 10,
   "id": "6af62415",
   "metadata": {},
   "outputs": [
    {
     "data": {
      "text/plain": [
       "Connect { name: \"FilterNotebookClient5089\", client_version: \"0.0.666\" }"
      ]
     },
     "execution_count": 10,
     "metadata": {},
     "output_type": "execute_result"
    }
   ],
   "source": [
    "import random\n",
    "id = random.randint(1,10000)\n",
    "connect_action = RequestActionW(\"connect\", name=\"FilterNotebookClient{}\".format(id), client_version=\"0.0.666\")\n",
    "connect_action"
   ]
  },
  {
   "cell_type": "code",
   "execution_count": 11,
   "id": "3b3a1776",
   "metadata": {},
   "outputs": [
    {
     "data": {
      "text/plain": [
       "SendRequestAction { endpoint: Endpoint(127.0.0.1:62013), action: Connect { name: \"FilterNotebookClient5089\", client_version: \"0.0.666\" } }"
      ]
     },
     "execution_count": 11,
     "metadata": {},
     "output_type": "execute_result"
    }
   ],
   "source": [
    "jupyter_endpoint = EndpointW(f\"127.0.0.1:{SERVER_PORT}\")\n",
    "\n",
    "filter_cmd = FilterCmdW(\"sendrequestaction\", endpoint=jupyter_endpoint, action=connect_action)\n",
    "filter_cmd"
   ]
  },
  {
   "cell_type": "code",
   "execution_count": 12,
   "id": "7b4b5724",
   "metadata": {
    "scrolled": true
   },
   "outputs": [
    {
     "name": "stdout",
     "output_type": "stream",
     "text": [
      "Sun 2023-01-22 10:48:39.456528 [TRACE] - [F<-A,C] New command: SendRequestAction { endpoint: Endpoint(127.0.0.1:62013), action: Connect { name: \"FilterNotebookClient5089\", client_version: \"0.0.666\" } }\n",
      "\u001b[33mLTI(client)5 skipped 4: received transport_cmd NewEndpoint { endpoint: Endpoint(127.0.0.1:62013), timeout: 999999999s }\u001b[0m\n",
      "Sun 2023-01-22 10:48:39.456909 [TRACE] - [T<-F,C] Processing command NewEndpoint { endpoint: Endpoint(127.0.0.1:62013), timeout: 999999999s }\n",
      "\u001b[33mLTI(client)6: got transport_rsp back from Transport layer: TransportRsp::Accepted\u001b[0m\n"
     ]
    },
    {
     "data": {
      "text/plain": [
       "Accepted"
      ]
     },
     "execution_count": 12,
     "metadata": {},
     "output_type": "execute_result"
    },
    {
     "name": "stdout",
     "output_type": "stream",
     "text": [
      "Sun 2023-01-22 10:48:39.458469 [TRACE] - [F<-T,R] Command Accepted\n"
     ]
    }
   ],
   "source": [
    "await client_fiface.command_response(filter_cmd)"
   ]
  },
  {
   "cell_type": "code",
   "execution_count": 13,
   "id": "2e0eb1df",
   "metadata": {},
   "outputs": [
    {
     "data": {
      "text/plain": [
       "Endpoint(127.0.0.1:62012)"
      ]
     },
     "execution_count": 13,
     "metadata": {},
     "output_type": "execute_result"
    }
   ],
   "source": [
    "# XXX get endpoint programatically from client\n",
    "client_endpoint = EndpointW(f\"127.0.0.1:{CLIENT_PORT}\")\n",
    "client_endpoint"
   ]
  },
  {
   "cell_type": "code",
   "execution_count": 15,
   "id": "508a922e",
   "metadata": {
    "scrolled": true
   },
   "outputs": [
    {
     "name": "stdout",
     "output_type": "stream",
     "text": [
      "Sun 2023-01-22 10:48:47.208596 [TRACE] - [T<-UDP] Request { sequence: 1, response_ack: None, cookie: None, action: Connect { name: \"FilterNotebookClient5089\", client_version: \"0.0.666\" } }\n",
      "Sun 2023-01-22 10:48:47.220859 [TRACE] - [F<-T,N] For Endpoint Endpoint(127.0.0.1:62012), Took packet Request { sequence: 1, response_ack: None, cookie: None, action: Connect { name: \"FilterNotebookClient5089\", client_version: \"0.0.666\" } }\n",
      "Sun 2023-01-22 10:48:47.467808 [TRACE] - [T<-UDP] Request { sequence: 1, response_ack: None, cookie: None, action: Connect { name: \"FilterNotebookClient5089\", client_version: \"0.0.666\" } }\n",
      "Sun 2023-01-22 10:48:47.468905 [TRACE] - [F<-T,N] For Endpoint Endpoint(127.0.0.1:62012), Took packet Request { sequence: 1, response_ack: None, cookie: None, action: Connect { name: \"FilterNotebookClient5089\", client_version: \"0.0.666\" } }\n"
     ]
    }
   ],
   "source": [
    "server_notifications = server_fiface.get_notifications()\n",
    "assert len(server_notifications) > 0\n",
    "new_request_action = server_notifications[0]\n",
    "\n",
    "assert new_request_action.request_action == connect_action"
   ]
  },
  {
   "cell_type": "code",
   "execution_count": 16,
   "id": "184d3391",
   "metadata": {},
   "outputs": [
    {
     "data": {
      "text/plain": [
       "b'RmlsdGVyTm90ZWJvb2tDbGllbnQ1MDg5'"
      ]
     },
     "execution_count": 16,
     "metadata": {},
     "output_type": "execute_result"
    }
   ],
   "source": [
    "cookie = base64.urlsafe_b64encode(bytes(new_request_action.request_action.name.encode()))\n",
    "cookie"
   ]
  },
  {
   "cell_type": "code",
   "execution_count": 17,
   "id": "3eef1c81",
   "metadata": {},
   "outputs": [
    {
     "name": "stdout",
     "output_type": "stream",
     "text": [
      "Sun 2023-01-22 10:48:47.718476 [TRACE] - [T<-UDP] Request { sequence: 1, response_ack: None, cookie: None, action: Connect { name: \"FilterNotebookClient5089\", client_version: \"0.0.666\" } }\n",
      "Sun 2023-01-22 10:48:47.748073 [TRACE] - [F<-T,N] For Endpoint Endpoint(127.0.0.1:62012), Took packet Request { sequence: 1, response_ack: None, cookie: None, action: Connect { name: \"FilterNotebookClient5089\", client_version: \"0.0.666\" } }\n"
     ]
    },
    {
     "data": {
      "text/plain": [
       "ResponseCodeW { inner: LoggedIn { cookie: \"b'RmlsdGVyTm90ZWJvb2tDbGllbnQ1MDg5'\", server_version: \"0.0.666\" } }"
      ]
     },
     "execution_count": 17,
     "metadata": {},
     "output_type": "execute_result"
    }
   ],
   "source": [
    "response_ok = ResponseCodeW(\"loggedin\", cookie=str(cookie), server_version=\"0.0.666\")\n",
    "response_ok"
   ]
  },
  {
   "cell_type": "code",
   "execution_count": 18,
   "id": "14369ed8",
   "metadata": {},
   "outputs": [
    {
     "name": "stdout",
     "output_type": "stream",
     "text": [
      "Sun 2023-01-22 10:48:47.978476 [TRACE] - [T<-UDP] Request { sequence: 1, response_ack: None, cookie: None, action: Connect { name: \"FilterNotebookClient5089\", client_version: \"0.0.666\" } }\n",
      "Sun 2023-01-22 10:48:47.995719 [TRACE] - [F<-T,N] For Endpoint Endpoint(127.0.0.1:62012), Took packet Request { sequence: 1, response_ack: None, cookie: None, action: Connect { name: \"FilterNotebookClient5089\", client_version: \"0.0.666\" } }\n",
      "\u001b[35mLTI(server)287 skipped 276: received transport_cmd SendPackets { endpoint: Endpoint(127.0.0.1:62012), packet_infos: [PacketSettings { tid: ProcessUniqueId { prefix: 1, offset: 0 }, retry_interval: 9999s }], packets: [Response { sequence: 1, request_ack: Some(1), code: LoggedIn { cookie: \"b'RmlsdGVyTm90ZWJvb2tDbGllbnQ1MDg5'\", server_version: \"0.0.666\" } }] }\u001b[0m\n",
      "Sun 2023-01-22 10:48:48.166629 [TRACE] - [F<-A,C] New command: SendResponseCode { endpoint: Endpoint(127.0.0.1:62012), code: LoggedIn { cookie: \"b'RmlsdGVyTm90ZWJvb2tDbGllbnQ1MDg5'\", server_version: \"0.0.666\" } }\n",
      "Sun 2023-01-22 10:48:48.167356 [TRACE] - [T<-F,C] Processing command SendPackets { endpoint: Endpoint(127.0.0.1:62012), packet_infos: [PacketSettings { tid: ProcessUniqueId { prefix: 1, offset: 0 }, retry_interval: 9999s }], packets: [Response { sequence: 1, request_ack: Some(1), code: LoggedIn { cookie: \"b'RmlsdGVyTm90ZWJvb2tDbGllbnQ1MDg5'\", server_version: \"0.0.666\" } }] }\n",
      "Sun 2023-01-22 10:48:48.167411 [TRACE] - [T<-UDP] Response { sequence: 1, request_ack: Some(1), code: LoggedIn { cookie: \"b'RmlsdGVyTm90ZWJvb2tDbGllbnQ1MDg5'\", server_version: \"0.0.666\" } }\n",
      "\u001b[35mLTI(server)288: got transport_rsp back from Transport layer: TransportRsp::Accepted\u001b[0m\n"
     ]
    },
    {
     "data": {
      "text/plain": [
       "Accepted"
      ]
     },
     "execution_count": 18,
     "metadata": {},
     "output_type": "execute_result"
    },
    {
     "name": "stdout",
     "output_type": "stream",
     "text": [
      "Sun 2023-01-22 10:48:48.169971 [TRACE] - [F<-T,R] Command Accepted\n",
      "\u001b[35mLTI(server)289: got transport notifications: []\u001b[0m\n",
      "Sun 2023-01-22 10:48:48.238173 [TRACE] - [T<-UDP] Request { sequence: 1, response_ack: None, cookie: None, action: Connect { name: \"FilterNotebookClient5089\", client_version: \"0.0.666\" } }\n",
      "Sun 2023-01-22 10:48:48.244339 [TRACE] - [F<-T,N] For Endpoint Endpoint(127.0.0.1:62012), Took packet Request { sequence: 1, response_ack: None, cookie: None, action: Connect { name: \"FilterNotebookClient5089\", client_version: \"0.0.666\" } }\n",
      "Sun 2023-01-22 10:48:48.245426 [TRACE] - [F<-T,N] For Endpoint Endpoint(127.0.0.1:62013), Took packet Response { sequence: 1, request_ack: Some(1), code: LoggedIn { cookie: \"b'RmlsdGVyTm90ZWJvb2tDbGllbnQ1MDg5'\", server_version: \"0.0.666\" } }\n",
      "\u001b[33mLTI(client)96 skipped 86: received transport_cmd DropPacket { endpoint: Endpoint(127.0.0.1:62013), tid: ProcessUniqueId { prefix: 0, offset: 0 } }\u001b[0m\n",
      "Sun 2023-01-22 10:48:48.245715 [TRACE] - [T<-F,C] Processing command DropPacket { endpoint: Endpoint(127.0.0.1:62013), tid: ProcessUniqueId { prefix: 0, offset: 0 } }\n",
      "\u001b[33mLTI(client)97: got transport_rsp back from Transport layer: TransportRsp::Accepted\u001b[0m\n",
      "Sun 2023-01-22 10:48:48.246073 [TRACE] - [F<-T,R] Command Accepted\n",
      "\u001b[33mLTI(client)98: got transport notifications: []\u001b[0m\n"
     ]
    }
   ],
   "source": [
    "await server_fiface.command_response(FilterCmdW(\"sendresponsecode\", endpoint=client_endpoint, code=response_ok))"
   ]
  },
  {
   "cell_type": "code",
   "execution_count": 19,
   "id": "22e24814",
   "metadata": {
    "scrolled": true
   },
   "outputs": [
    {
     "data": {
      "text/plain": [
       "NewResponseCode { endpoint: Endpoint(127.0.0.1:62013), code: LoggedIn { cookie: \"b'RmlsdGVyTm90ZWJvb2tDbGllbnQ1MDg5'\", server_version: \"0.0.666\" } }"
      ]
     },
     "execution_count": 19,
     "metadata": {},
     "output_type": "execute_result"
    }
   ],
   "source": [
    "client_notifications = client_fiface.get_notifications()\n",
    "assert len(client_notifications) > 0\n",
    "new_response_code = client_notifications[0]\n",
    "new_response_code"
   ]
  },
  {
   "cell_type": "code",
   "execution_count": 20,
   "id": "26b24dce",
   "metadata": {},
   "outputs": [
    {
     "data": {
      "text/plain": [
       "ResponseCodeW { inner: LoggedIn { cookie: \"b'RmlsdGVyTm90ZWJvb2tDbGllbnQ1MDg5'\", server_version: \"0.0.666\" } }"
      ]
     },
     "execution_count": 20,
     "metadata": {},
     "output_type": "execute_result"
    }
   ],
   "source": [
    "new_response_code.response_code"
   ]
  },
  {
   "cell_type": "code",
   "execution_count": 21,
   "id": "b249bbc9",
   "metadata": {},
   "outputs": [],
   "source": [
    "cookie_from_server = new_response_code.response_code.cookie\n",
    "assert str(cookie_from_server) == str(cookie)"
   ]
  },
  {
   "cell_type": "markdown",
   "id": "dc6ea9ec",
   "metadata": {},
   "source": [
    "### Convenience function"
   ]
  },
  {
   "cell_type": "code",
   "execution_count": 22,
   "id": "49b15c8b",
   "metadata": {},
   "outputs": [],
   "source": [
    "async def request_action_to_filter(req_action, endpoint=jupyter_endpoint):\n",
    "    filter_cmd = FilterCmdW(\"sendrequestaction\", endpoint=endpoint, action=req_action)\n",
    "    return await client_fiface.command_response(filter_cmd)\n",
    "\n",
    "def get_all_notification(fiface, min_expected_count=1):\n",
    "    notifications = fiface.get_notifications()\n",
    "    assert len(notifications) >= min_expected_count\n",
    "    \n",
    "    return notifications"
   ]
  },
  {
   "cell_type": "markdown",
   "id": "f903f6d4",
   "metadata": {},
   "source": [
    "### Create a room"
   ]
  },
  {
   "cell_type": "code",
   "execution_count": 23,
   "id": "2d843235",
   "metadata": {
    "scrolled": true
   },
   "outputs": [
    {
     "name": "stdout",
     "output_type": "stream",
     "text": [
      "Sun 2023-01-22 10:48:50.996950 [TRACE] - [F<-A,C] New command: SendRequestAction { endpoint: Endpoint(127.0.0.1:62013), action: NewRoom { room_name: \"general\" } }\n",
      "\u001b[33mLTI(client)125 skipped 26: received transport_cmd SendPackets { endpoint: Endpoint(127.0.0.1:62013), packet_infos: [PacketSettings { tid: ProcessUniqueId { prefix: 0, offset: 1 }, retry_interval: 250ms }], packets: [Request { sequence: 2, response_ack: Some(1), cookie: Some(\"b'RmlsdGVyTm90ZWJvb2tDbGllbnQ1MDg5'\"), action: NewRoom { room_name: \"general\" } }] }\u001b[0m\n"
     ]
    },
    {
     "data": {
      "text/plain": [
       "Accepted"
      ]
     },
     "execution_count": 23,
     "metadata": {},
     "output_type": "execute_result"
    },
    {
     "name": "stdout",
     "output_type": "stream",
     "text": [
      "Sun 2023-01-22 10:48:50.997399 [TRACE] - [T<-F,C] Processing command SendPackets { endpoint: Endpoint(127.0.0.1:62013), packet_infos: [PacketSettings { tid: ProcessUniqueId { prefix: 0, offset: 1 }, retry_interval: 250ms }], packets: [Request { sequence: 2, response_ack: Some(1), cookie: Some(\"b'RmlsdGVyTm90ZWJvb2tDbGllbnQ1MDg5'\"), action: NewRoom { room_name: \"general\" } }] }\n",
      "Sun 2023-01-22 10:48:50.997452 [TRACE] - [T<-UDP] Request { sequence: 2, response_ack: Some(1), cookie: Some(\"b'RmlsdGVyTm90ZWJvb2tDbGllbnQ1MDg5'\"), action: NewRoom { room_name: \"general\" } }\n",
      "\u001b[33mLTI(client)126: got transport_rsp back from Transport layer: TransportRsp::Accepted\u001b[0m\n",
      "Sun 2023-01-22 10:48:51.000859 [TRACE] - [F<-T,R] Command Accepted\n",
      "Sun 2023-01-22 10:48:51.014190 [TRACE] - [F<-T,N] For Endpoint Endpoint(127.0.0.1:62012), Took packet Request { sequence: 2, response_ack: Some(1), cookie: Some(\"b'RmlsdGVyTm90ZWJvb2tDbGllbnQ1MDg5'\"), action: NewRoom { room_name: \"general\" } }\n",
      "\u001b[35mLTI(server)381 skipped 91: received transport_cmd DropPacket { endpoint: Endpoint(127.0.0.1:62012), tid: ProcessUniqueId { prefix: 1, offset: 0 } }\u001b[0m\n",
      "Sun 2023-01-22 10:48:51.014473 [TRACE] - [T<-F,C] Processing command DropPacket { endpoint: Endpoint(127.0.0.1:62012), tid: ProcessUniqueId { prefix: 1, offset: 0 } }\n",
      "\u001b[35mLTI(server)382: got transport_rsp back from Transport layer: TransportRsp::Accepted\u001b[0m\n",
      "Sun 2023-01-22 10:48:51.014799 [TRACE] - [F<-T,R] Command Accepted\n",
      "\u001b[35mLTI(server)383: got transport notifications: []\u001b[0m\n",
      "\u001b[33mLTI(client)127: got transport notifications: []\u001b[0m\n"
     ]
    }
   ],
   "source": [
    "await request_action_to_filter(RequestActionW(\"newroom\", room_name=\"general\"))"
   ]
  },
  {
   "cell_type": "code",
   "execution_count": 24,
   "id": "533958c2",
   "metadata": {},
   "outputs": [
    {
     "data": {
      "text/plain": [
       "[NewRequestAction { endpoint: Endpoint(127.0.0.1:62012), action: NewRoom { room_name: \"general\" } }]"
      ]
     },
     "execution_count": 24,
     "metadata": {},
     "output_type": "execute_result"
    },
    {
     "name": "stdout",
     "output_type": "stream",
     "text": [
      "Sun 2023-01-22 10:48:51.247732 [TRACE] - [T<-UDP] Request { sequence: 2, response_ack: Some(1), cookie: Some(\"b'RmlsdGVyTm90ZWJvb2tDbGllbnQ1MDg5'\"), action: NewRoom { room_name: \"general\" } }\n",
      "Sun 2023-01-22 10:48:51.261963 [TRACE] - [F<-T,N] For Endpoint Endpoint(127.0.0.1:62012), Took packet Request { sequence: 2, response_ack: Some(1), cookie: Some(\"b'RmlsdGVyTm90ZWJvb2tDbGllbnQ1MDg5'\"), action: NewRoom { room_name: \"general\" } }\n",
      "Sun 2023-01-22 10:48:51.498498 [TRACE] - [T<-UDP] Request { sequence: 2, response_ack: Some(1), cookie: Some(\"b'RmlsdGVyTm90ZWJvb2tDbGllbnQ1MDg5'\"), action: NewRoom { room_name: \"general\" } }\n",
      "Sun 2023-01-22 10:48:51.509699 [TRACE] - [F<-T,N] For Endpoint Endpoint(127.0.0.1:62012), Took packet Request { sequence: 2, response_ack: Some(1), cookie: Some(\"b'RmlsdGVyTm90ZWJvb2tDbGllbnQ1MDg5'\"), action: NewRoom { room_name: \"general\" } }\n"
     ]
    }
   ],
   "source": [
    "get_all_notification(server_fiface)"
   ]
  },
  {
   "cell_type": "markdown",
   "id": "b645dda2",
   "metadata": {},
   "source": [
    "### Join a room"
   ]
  },
  {
   "cell_type": "code",
   "execution_count": 25,
   "id": "abf8bcd1",
   "metadata": {},
   "outputs": [
    {
     "name": "stdout",
     "output_type": "stream",
     "text": [
      "Sun 2023-01-22 10:48:51.731770 [TRACE] - [F<-A,C] New command: SendRequestAction { endpoint: Endpoint(127.0.0.1:62013), action: JoinRoom { room_name: \"general\" } }\n",
      "\u001b[33mLTI(client)134 skipped 6: received transport_cmd SendPackets { endpoint: Endpoint(127.0.0.1:62013), packet_infos: [PacketSettings { tid: ProcessUniqueId { prefix: 0, offset: 2 }, retry_interval: 250ms }], packets: [Request { sequence: 3, response_ack: Some(1), cookie: Some(\"b'RmlsdGVyTm90ZWJvb2tDbGllbnQ1MDg5'\"), action: JoinRoom { room_name: \"general\" } }] }\u001b[0m\n"
     ]
    },
    {
     "data": {
      "text/plain": [
       "Accepted"
      ]
     },
     "execution_count": 25,
     "metadata": {},
     "output_type": "execute_result"
    },
    {
     "name": "stdout",
     "output_type": "stream",
     "text": [
      "Sun 2023-01-22 10:48:51.732600 [TRACE] - [T<-F,C] Processing command SendPackets { endpoint: Endpoint(127.0.0.1:62013), packet_infos: [PacketSettings { tid: ProcessUniqueId { prefix: 0, offset: 2 }, retry_interval: 250ms }], packets: [Request { sequence: 3, response_ack: Some(1), cookie: Some(\"b'RmlsdGVyTm90ZWJvb2tDbGllbnQ1MDg5'\"), action: JoinRoom { room_name: \"general\" } }] }\n",
      "Sun 2023-01-22 10:48:51.732638 [TRACE] - [T<-UDP] Request { sequence: 3, response_ack: Some(1), cookie: Some(\"b'RmlsdGVyTm90ZWJvb2tDbGllbnQ1MDg5'\"), action: JoinRoom { room_name: \"general\" } }\n",
      "\u001b[33mLTI(client)135: got transport_rsp back from Transport layer: TransportRsp::Accepted\u001b[0m\n",
      "Sun 2023-01-22 10:48:51.735819 [TRACE] - [F<-T,R] Command Accepted\n",
      "Sun 2023-01-22 10:48:51.758161 [TRACE] - [T<-UDP] Request { sequence: 2, response_ack: Some(1), cookie: Some(\"b'RmlsdGVyTm90ZWJvb2tDbGllbnQ1MDg5'\"), action: NewRoom { room_name: \"general\" } }\n",
      "Sun 2023-01-22 10:48:51.759261 [TRACE] - [F<-T,N] For Endpoint Endpoint(127.0.0.1:62012), Took packet Request { sequence: 3, response_ack: Some(1), cookie: Some(\"b'RmlsdGVyTm90ZWJvb2tDbGllbnQ1MDg5'\"), action: JoinRoom { room_name: \"general\" } }\n",
      "Sun 2023-01-22 10:48:51.759275 [TRACE] - [F<-T,N] For Endpoint Endpoint(127.0.0.1:62012), Took packet Request { sequence: 2, response_ack: Some(1), cookie: Some(\"b'RmlsdGVyTm90ZWJvb2tDbGllbnQ1MDg5'\"), action: NewRoom { room_name: \"general\" } }\n",
      "\u001b[33mLTI(client)136: got transport notifications: []\u001b[0m\n"
     ]
    }
   ],
   "source": [
    "await request_action_to_filter(RequestActionW(\"joinroom\", room_name=\"general\"))"
   ]
  },
  {
   "cell_type": "code",
   "execution_count": 26,
   "id": "d34eac0d",
   "metadata": {},
   "outputs": [
    {
     "data": {
      "text/plain": [
       "[NewRequestAction { endpoint: Endpoint(127.0.0.1:62012), action: JoinRoom { room_name: \"general\" } }]"
      ]
     },
     "execution_count": 26,
     "metadata": {},
     "output_type": "execute_result"
    },
    {
     "name": "stdout",
     "output_type": "stream",
     "text": [
      "Sun 2023-01-22 10:48:51.988041 [TRACE] - [T<-UDP] Request { sequence: 3, response_ack: Some(1), cookie: Some(\"b'RmlsdGVyTm90ZWJvb2tDbGllbnQ1MDg5'\"), action: JoinRoom { room_name: \"general\" } }\n",
      "Sun 2023-01-22 10:48:52.007339 [TRACE] - [F<-T,N] For Endpoint Endpoint(127.0.0.1:62012), Took packet Request { sequence: 3, response_ack: Some(1), cookie: Some(\"b'RmlsdGVyTm90ZWJvb2tDbGllbnQ1MDg5'\"), action: JoinRoom { room_name: \"general\" } }\n",
      "Sun 2023-01-22 10:48:52.008444 [TRACE] - [T<-UDP] Request { sequence: 2, response_ack: Some(1), cookie: Some(\"b'RmlsdGVyTm90ZWJvb2tDbGllbnQ1MDg5'\"), action: NewRoom { room_name: \"general\" } }\n",
      "Sun 2023-01-22 10:48:52.037899 [TRACE] - [F<-T,N] For Endpoint Endpoint(127.0.0.1:62012), Took packet Request { sequence: 2, response_ack: Some(1), cookie: Some(\"b'RmlsdGVyTm90ZWJvb2tDbGllbnQ1MDg5'\"), action: NewRoom { room_name: \"general\" } }\n",
      "Sun 2023-01-22 10:48:52.238244 [TRACE] - [T<-UDP] Request { sequence: 3, response_ack: Some(1), cookie: Some(\"b'RmlsdGVyTm90ZWJvb2tDbGllbnQ1MDg5'\"), action: JoinRoom { room_name: \"general\" } }\n",
      "Sun 2023-01-22 10:48:52.255580 [TRACE] - [F<-T,N] For Endpoint Endpoint(127.0.0.1:62012), Took packet Request { sequence: 3, response_ack: Some(1), cookie: Some(\"b'RmlsdGVyTm90ZWJvb2tDbGllbnQ1MDg5'\"), action: JoinRoom { room_name: \"general\" } }\n",
      "Sun 2023-01-22 10:48:52.267783 [TRACE] - [T<-UDP] Request { sequence: 2, response_ack: Some(1), cookie: Some(\"b'RmlsdGVyTm90ZWJvb2tDbGllbnQ1MDg5'\"), action: NewRoom { room_name: \"general\" } }\n",
      "Sun 2023-01-22 10:48:52.286140 [TRACE] - [F<-T,N] For Endpoint Endpoint(127.0.0.1:62012), Took packet Request { sequence: 2, response_ack: Some(1), cookie: Some(\"b'RmlsdGVyTm90ZWJvb2tDbGllbnQ1MDg5'\"), action: NewRoom { room_name: \"general\" } }\n",
      "Sun 2023-01-22 10:48:52.488280 [TRACE] - [T<-UDP] Request { sequence: 3, response_ack: Some(1), cookie: Some(\"b'RmlsdGVyTm90ZWJvb2tDbGllbnQ1MDg5'\"), action: JoinRoom { room_name: \"general\" } }\n",
      "Sun 2023-01-22 10:48:52.504624 [TRACE] - [F<-T,N] For Endpoint Endpoint(127.0.0.1:62012), Took packet Request { sequence: 3, response_ack: Some(1), cookie: Some(\"b'RmlsdGVyTm90ZWJvb2tDbGllbnQ1MDg5'\"), action: JoinRoom { room_name: \"general\" } }\n",
      "Sun 2023-01-22 10:48:52.517852 [TRACE] - [T<-UDP] Request { sequence: 2, response_ack: Some(1), cookie: Some(\"b'RmlsdGVyTm90ZWJvb2tDbGllbnQ1MDg5'\"), action: NewRoom { room_name: \"general\" } }\n",
      "Sun 2023-01-22 10:48:52.536139 [TRACE] - [F<-T,N] For Endpoint Endpoint(127.0.0.1:62012), Took packet Request { sequence: 2, response_ack: Some(1), cookie: Some(\"b'RmlsdGVyTm90ZWJvb2tDbGllbnQ1MDg5'\"), action: NewRoom { room_name: \"general\" } }\n",
      "Sun 2023-01-22 10:48:52.748351 [TRACE] - [T<-UDP] Request { sequence: 3, response_ack: Some(1), cookie: Some(\"b'RmlsdGVyTm90ZWJvb2tDbGllbnQ1MDg5'\"), action: JoinRoom { room_name: \"general\" } }\n",
      "Sun 2023-01-22 10:48:52.754510 [TRACE] - [F<-T,N] For Endpoint Endpoint(127.0.0.1:62012), Took packet Request { sequence: 3, response_ack: Some(1), cookie: Some(\"b'RmlsdGVyTm90ZWJvb2tDbGllbnQ1MDg5'\"), action: JoinRoom { room_name: \"general\" } }\n",
      "Sun 2023-01-22 10:48:52.777854 [TRACE] - [T<-UDP] Request { sequence: 2, response_ack: Some(1), cookie: Some(\"b'RmlsdGVyTm90ZWJvb2tDbGllbnQ1MDg5'\"), action: NewRoom { room_name: \"general\" } }\n",
      "Sun 2023-01-22 10:48:52.785010 [TRACE] - [F<-T,N] For Endpoint Endpoint(127.0.0.1:62012), Took packet Request { sequence: 2, response_ack: Some(1), cookie: Some(\"b'RmlsdGVyTm90ZWJvb2tDbGllbnQ1MDg5'\"), action: NewRoom { room_name: \"general\" } }\n",
      "Sun 2023-01-22 10:48:52.998470 [TRACE] - [T<-UDP] Request { sequence: 3, response_ack: Some(1), cookie: Some(\"b'RmlsdGVyTm90ZWJvb2tDbGllbnQ1MDg5'\"), action: JoinRoom { room_name: \"general\" } }\n",
      "Sun 2023-01-22 10:48:53.002656 [TRACE] - [F<-T,N] For Endpoint Endpoint(127.0.0.1:62012), Took packet Request { sequence: 3, response_ack: Some(1), cookie: Some(\"b'RmlsdGVyTm90ZWJvb2tDbGllbnQ1MDg5'\"), action: JoinRoom { room_name: \"general\" } }\n",
      "Sun 2023-01-22 10:48:53.028007 [TRACE] - [T<-UDP] Request { sequence: 2, response_ack: Some(1), cookie: Some(\"b'RmlsdGVyTm90ZWJvb2tDbGllbnQ1MDg5'\"), action: NewRoom { room_name: \"general\" } }\n",
      "Sun 2023-01-22 10:48:53.034166 [TRACE] - [F<-T,N] For Endpoint Endpoint(127.0.0.1:62012), Took packet Request { sequence: 2, response_ack: Some(1), cookie: Some(\"b'RmlsdGVyTm90ZWJvb2tDbGllbnQ1MDg5'\"), action: NewRoom { room_name: \"general\" } }\n",
      "Sun 2023-01-22 10:48:53.258659 [TRACE] - [T<-UDP] Request { sequence: 3, response_ack: Some(1), cookie: Some(\"b'RmlsdGVyTm90ZWJvb2tDbGllbnQ1MDg5'\"), action: JoinRoom { room_name: \"general\" } }\n",
      "Sun 2023-01-22 10:48:53.282005 [TRACE] - [F<-T,N] For Endpoint Endpoint(127.0.0.1:62012), Took packet Request { sequence: 3, response_ack: Some(1), cookie: Some(\"b'RmlsdGVyTm90ZWJvb2tDbGllbnQ1MDg5'\"), action: JoinRoom { room_name: \"general\" } }\n",
      "Sun 2023-01-22 10:48:53.288169 [TRACE] - [T<-UDP] Request { sequence: 2, response_ack: Some(1), cookie: Some(\"b'RmlsdGVyTm90ZWJvb2tDbGllbnQ1MDg5'\"), action: NewRoom { room_name: \"general\" } }\n",
      "Sun 2023-01-22 10:48:53.313602 [TRACE] - [F<-T,N] For Endpoint Endpoint(127.0.0.1:62012), Took packet Request { sequence: 2, response_ack: Some(1), cookie: Some(\"b'RmlsdGVyTm90ZWJvb2tDbGllbnQ1MDg5'\"), action: NewRoom { room_name: \"general\" } }\n",
      "Sun 2023-01-22 10:48:53.517816 [TRACE] - [T<-UDP] Request { sequence: 3, response_ack: Some(1), cookie: Some(\"b'RmlsdGVyTm90ZWJvb2tDbGllbnQ1MDg5'\"), action: JoinRoom { room_name: \"general\" } }\n",
      "Sun 2023-01-22 10:48:53.531048 [TRACE] - [F<-T,N] For Endpoint Endpoint(127.0.0.1:62012), Took packet Request { sequence: 3, response_ack: Some(1), cookie: Some(\"b'RmlsdGVyTm90ZWJvb2tDbGllbnQ1MDg5'\"), action: JoinRoom { room_name: \"general\" } }\n",
      "Sun 2023-01-22 10:48:53.538188 [WARN ] - [T] Retry logging threshold exceeded for endpoint Endpoint(127.0.0.1:62013), tid puid-0-1\n",
      "Sun 2023-01-22 10:48:53.538221 [TRACE] - [T<-UDP] Request { sequence: 2, response_ack: Some(1), cookie: Some(\"b'RmlsdGVyTm90ZWJvb2tDbGllbnQ1MDg5'\"), action: NewRoom { room_name: \"general\" } }\n",
      "Sun 2023-01-22 10:48:53.562577 [TRACE] - [F<-T,N] For Endpoint Endpoint(127.0.0.1:62012), Took packet Request { sequence: 2, response_ack: Some(1), cookie: Some(\"b'RmlsdGVyTm90ZWJvb2tDbGllbnQ1MDg5'\"), action: NewRoom { room_name: \"general\" } }\n",
      "Sun 2023-01-22 10:48:53.777805 [TRACE] - [T<-UDP] Request { sequence: 3, response_ack: Some(1), cookie: Some(\"b'RmlsdGVyTm90ZWJvb2tDbGllbnQ1MDg5'\"), action: JoinRoom { room_name: \"general\" } }\n",
      "Sun 2023-01-22 10:48:53.778902 [TRACE] - [F<-T,N] For Endpoint Endpoint(127.0.0.1:62012), Took packet Request { sequence: 3, response_ack: Some(1), cookie: Some(\"b'RmlsdGVyTm90ZWJvb2tDbGllbnQ1MDg5'\"), action: JoinRoom { room_name: \"general\" } }\n",
      "Sun 2023-01-22 10:48:53.798189 [TRACE] - [T<-UDP] Request { sequence: 2, response_ack: Some(1), cookie: Some(\"b'RmlsdGVyTm90ZWJvb2tDbGllbnQ1MDg5'\"), action: NewRoom { room_name: \"general\" } }\n",
      "Sun 2023-01-22 10:48:53.810427 [TRACE] - [F<-T,N] For Endpoint Endpoint(127.0.0.1:62012), Took packet Request { sequence: 2, response_ack: Some(1), cookie: Some(\"b'RmlsdGVyTm90ZWJvb2tDbGllbnQ1MDg5'\"), action: NewRoom { room_name: \"general\" } }\n",
      "Sun 2023-01-22 10:48:54.027833 [TRACE] - [T<-UDP] Request { sequence: 3, response_ack: Some(1), cookie: Some(\"b'RmlsdGVyTm90ZWJvb2tDbGllbnQ1MDg5'\"), action: JoinRoom { room_name: \"general\" } }\n",
      "Sun 2023-01-22 10:48:54.058255 [TRACE] - [T<-UDP] Request { sequence: 2, response_ack: Some(1), cookie: Some(\"b'RmlsdGVyTm90ZWJvb2tDbGllbnQ1MDg5'\"), action: NewRoom { room_name: \"general\" } }\n",
      "Sun 2023-01-22 10:48:54.058279 [TRACE] - [F<-T,N] For Endpoint Endpoint(127.0.0.1:62012), Took packet Request { sequence: 3, response_ack: Some(1), cookie: Some(\"b'RmlsdGVyTm90ZWJvb2tDbGllbnQ1MDg5'\"), action: JoinRoom { room_name: \"general\" } }\n",
      "Sun 2023-01-22 10:48:54.088883 [TRACE] - [F<-T,N] For Endpoint Endpoint(127.0.0.1:62012), Took packet Request { sequence: 2, response_ack: Some(1), cookie: Some(\"b'RmlsdGVyTm90ZWJvb2tDbGllbnQ1MDg5'\"), action: NewRoom { room_name: \"general\" } }\n",
      "Sun 2023-01-22 10:48:54.287808 [WARN ] - [T] Retry logging threshold exceeded for endpoint Endpoint(127.0.0.1:62013), tid puid-0-2\n",
      "Sun 2023-01-22 10:48:54.287847 [TRACE] - [T<-UDP] Request { sequence: 3, response_ack: Some(1), cookie: Some(\"b'RmlsdGVyTm90ZWJvb2tDbGllbnQ1MDg5'\"), action: JoinRoom { room_name: \"general\" } }\n",
      "Sun 2023-01-22 10:48:54.306119 [TRACE] - [F<-T,N] For Endpoint Endpoint(127.0.0.1:62012), Took packet Request { sequence: 3, response_ack: Some(1), cookie: Some(\"b'RmlsdGVyTm90ZWJvb2tDbGllbnQ1MDg5'\"), action: JoinRoom { room_name: \"general\" } }\n",
      "Sun 2023-01-22 10:48:54.318405 [TRACE] - [T<-UDP] Request { sequence: 2, response_ack: Some(1), cookie: Some(\"b'RmlsdGVyTm90ZWJvb2tDbGllbnQ1MDg5'\"), action: NewRoom { room_name: \"general\" } }\n",
      "Sun 2023-01-22 10:48:54.336720 [TRACE] - [F<-T,N] For Endpoint Endpoint(127.0.0.1:62012), Took packet Request { sequence: 2, response_ack: Some(1), cookie: Some(\"b'RmlsdGVyTm90ZWJvb2tDbGllbnQ1MDg5'\"), action: NewRoom { room_name: \"general\" } }\n"
     ]
    },
    {
     "name": "stdout",
     "output_type": "stream",
     "text": [
      "Sun 2023-01-22 10:48:54.547810 [TRACE] - [T<-UDP] Request { sequence: 3, response_ack: Some(1), cookie: Some(\"b'RmlsdGVyTm90ZWJvb2tDbGllbnQ1MDg5'\"), action: JoinRoom { room_name: \"general\" } }\n",
      "Sun 2023-01-22 10:48:54.553975 [TRACE] - [F<-T,N] For Endpoint Endpoint(127.0.0.1:62012), Took packet Request { sequence: 3, response_ack: Some(1), cookie: Some(\"b'RmlsdGVyTm90ZWJvb2tDbGllbnQ1MDg5'\"), action: JoinRoom { room_name: \"general\" } }\n",
      "Sun 2023-01-22 10:48:54.578398 [TRACE] - [T<-UDP] Request { sequence: 2, response_ack: Some(1), cookie: Some(\"b'RmlsdGVyTm90ZWJvb2tDbGllbnQ1MDg5'\"), action: NewRoom { room_name: \"general\" } }\n",
      "Sun 2023-01-22 10:48:54.585568 [TRACE] - [F<-T,N] For Endpoint Endpoint(127.0.0.1:62012), Took packet Request { sequence: 2, response_ack: Some(1), cookie: Some(\"b'RmlsdGVyTm90ZWJvb2tDbGllbnQ1MDg5'\"), action: NewRoom { room_name: \"general\" } }\n",
      "Sun 2023-01-22 10:48:54.808001 [TRACE] - [T<-UDP] Request { sequence: 3, response_ack: Some(1), cookie: Some(\"b'RmlsdGVyTm90ZWJvb2tDbGllbnQ1MDg5'\"), action: JoinRoom { room_name: \"general\" } }\n",
      "Sun 2023-01-22 10:48:54.828398 [TRACE] - [T<-UDP] Request { sequence: 2, response_ack: Some(1), cookie: Some(\"b'RmlsdGVyTm90ZWJvb2tDbGllbnQ1MDg5'\"), action: NewRoom { room_name: \"general\" } }\n",
      "Sun 2023-01-22 10:48:54.833506 [TRACE] - [F<-T,N] For Endpoint Endpoint(127.0.0.1:62012), Took packet Request { sequence: 3, response_ack: Some(1), cookie: Some(\"b'RmlsdGVyTm90ZWJvb2tDbGllbnQ1MDg5'\"), action: JoinRoom { room_name: \"general\" } }\n",
      "Sun 2023-01-22 10:48:54.833520 [TRACE] - [F<-T,N] For Endpoint Endpoint(127.0.0.1:62012), Took packet Request { sequence: 2, response_ack: Some(1), cookie: Some(\"b'RmlsdGVyTm90ZWJvb2tDbGllbnQ1MDg5'\"), action: NewRoom { room_name: \"general\" } }\n",
      "Sun 2023-01-22 10:48:55.058139 [TRACE] - [T<-UDP] Request { sequence: 3, response_ack: Some(1), cookie: Some(\"b'RmlsdGVyTm90ZWJvb2tDbGllbnQ1MDg5'\"), action: JoinRoom { room_name: \"general\" } }\n",
      "Sun 2023-01-22 10:48:55.078439 [TRACE] - [T<-UDP] Request { sequence: 2, response_ack: Some(1), cookie: Some(\"b'RmlsdGVyTm90ZWJvb2tDbGllbnQ1MDg5'\"), action: NewRoom { room_name: \"general\" } }\n",
      "Sun 2023-01-22 10:48:55.081546 [TRACE] - [F<-T,N] For Endpoint Endpoint(127.0.0.1:62012), Took packet Request { sequence: 3, response_ack: Some(1), cookie: Some(\"b'RmlsdGVyTm90ZWJvb2tDbGllbnQ1MDg5'\"), action: JoinRoom { room_name: \"general\" } }\n",
      "Sun 2023-01-22 10:48:55.081562 [TRACE] - [F<-T,N] For Endpoint Endpoint(127.0.0.1:62012), Took packet Request { sequence: 2, response_ack: Some(1), cookie: Some(\"b'RmlsdGVyTm90ZWJvb2tDbGllbnQ1MDg5'\"), action: NewRoom { room_name: \"general\" } }\n",
      "Sun 2023-01-22 10:48:55.318221 [TRACE] - [T<-UDP] Request { sequence: 3, response_ack: Some(1), cookie: Some(\"b'RmlsdGVyTm90ZWJvb2tDbGllbnQ1MDg5'\"), action: JoinRoom { room_name: \"general\" } }\n",
      "Sun 2023-01-22 10:48:55.328540 [TRACE] - [T<-UDP] Request { sequence: 2, response_ack: Some(1), cookie: Some(\"b'RmlsdGVyTm90ZWJvb2tDbGllbnQ1MDg5'\"), action: NewRoom { room_name: \"general\" } }\n",
      "Sun 2023-01-22 10:48:55.329646 [TRACE] - [F<-T,N] For Endpoint Endpoint(127.0.0.1:62012), Took packet Request { sequence: 3, response_ack: Some(1), cookie: Some(\"b'RmlsdGVyTm90ZWJvb2tDbGllbnQ1MDg5'\"), action: JoinRoom { room_name: \"general\" } }\n",
      "Sun 2023-01-22 10:48:55.329663 [TRACE] - [F<-T,N] For Endpoint Endpoint(127.0.0.1:62012), Took packet Request { sequence: 2, response_ack: Some(1), cookie: Some(\"b'RmlsdGVyTm90ZWJvb2tDbGllbnQ1MDg5'\"), action: NewRoom { room_name: \"general\" } }\n",
      "Sun 2023-01-22 10:48:55.568234 [TRACE] - [T<-UDP] Request { sequence: 3, response_ack: Some(1), cookie: Some(\"b'RmlsdGVyTm90ZWJvb2tDbGllbnQ1MDg5'\"), action: JoinRoom { room_name: \"general\" } }\n",
      "Sun 2023-01-22 10:48:55.579452 [TRACE] - [F<-T,N] For Endpoint Endpoint(127.0.0.1:62012), Took packet Request { sequence: 3, response_ack: Some(1), cookie: Some(\"b'RmlsdGVyTm90ZWJvb2tDbGllbnQ1MDg5'\"), action: JoinRoom { room_name: \"general\" } }\n",
      "Sun 2023-01-22 10:48:55.588603 [TRACE] - [T<-UDP] Request { sequence: 2, response_ack: Some(1), cookie: Some(\"b'RmlsdGVyTm90ZWJvb2tDbGllbnQ1MDg5'\"), action: NewRoom { room_name: \"general\" } }\n",
      "Sun 2023-01-22 10:48:55.609949 [TRACE] - [F<-T,N] For Endpoint Endpoint(127.0.0.1:62012), Took packet Request { sequence: 2, response_ack: Some(1), cookie: Some(\"b'RmlsdGVyTm90ZWJvb2tDbGllbnQ1MDg5'\"), action: NewRoom { room_name: \"general\" } }\n",
      "Sun 2023-01-22 10:48:55.828232 [TRACE] - [T<-UDP] Request { sequence: 3, response_ack: Some(1), cookie: Some(\"b'RmlsdGVyTm90ZWJvb2tDbGllbnQ1MDg5'\"), action: JoinRoom { room_name: \"general\" } }\n",
      "Sun 2023-01-22 10:48:55.848569 [TRACE] - [T<-UDP] Request { sequence: 2, response_ack: Some(1), cookie: Some(\"b'RmlsdGVyTm90ZWJvb2tDbGllbnQ1MDg5'\"), action: NewRoom { room_name: \"general\" } }\n",
      "Sun 2023-01-22 10:48:55.857717 [TRACE] - [F<-T,N] For Endpoint Endpoint(127.0.0.1:62012), Took packet Request { sequence: 3, response_ack: Some(1), cookie: Some(\"b'RmlsdGVyTm90ZWJvb2tDbGllbnQ1MDg5'\"), action: JoinRoom { room_name: \"general\" } }\n",
      "Sun 2023-01-22 10:48:55.857728 [TRACE] - [F<-T,N] For Endpoint Endpoint(127.0.0.1:62012), Took packet Request { sequence: 2, response_ack: Some(1), cookie: Some(\"b'RmlsdGVyTm90ZWJvb2tDbGllbnQ1MDg5'\"), action: NewRoom { room_name: \"general\" } }\n",
      "Sun 2023-01-22 10:48:56.078517 [TRACE] - [T<-UDP] Request { sequence: 3, response_ack: Some(1), cookie: Some(\"b'RmlsdGVyTm90ZWJvb2tDbGllbnQ1MDg5'\"), action: JoinRoom { room_name: \"general\" } }\n",
      "Sun 2023-01-22 10:48:56.105936 [TRACE] - [F<-T,N] For Endpoint Endpoint(127.0.0.1:62012), Took packet Request { sequence: 3, response_ack: Some(1), cookie: Some(\"b'RmlsdGVyTm90ZWJvb2tDbGllbnQ1MDg5'\"), action: JoinRoom { room_name: \"general\" } }\n",
      "Sun 2023-01-22 10:48:56.108037 [TRACE] - [T<-UDP] Request { sequence: 2, response_ack: Some(1), cookie: Some(\"b'RmlsdGVyTm90ZWJvb2tDbGllbnQ1MDg5'\"), action: NewRoom { room_name: \"general\" } }\n",
      "Sun 2023-01-22 10:48:56.137589 [TRACE] - [F<-T,N] For Endpoint Endpoint(127.0.0.1:62012), Took packet Request { sequence: 2, response_ack: Some(1), cookie: Some(\"b'RmlsdGVyTm90ZWJvb2tDbGllbnQ1MDg5'\"), action: NewRoom { room_name: \"general\" } }\n",
      "Sun 2023-01-22 10:48:56.337922 [TRACE] - [T<-UDP] Request { sequence: 3, response_ack: Some(1), cookie: Some(\"b'RmlsdGVyTm90ZWJvb2tDbGllbnQ1MDg5'\"), action: JoinRoom { room_name: \"general\" } }\n",
      "Sun 2023-01-22 10:48:56.358215 [TRACE] - [F<-T,N] For Endpoint Endpoint(127.0.0.1:62012), Took packet Request { sequence: 3, response_ack: Some(1), cookie: Some(\"b'RmlsdGVyTm90ZWJvb2tDbGllbnQ1MDg5'\"), action: JoinRoom { room_name: \"general\" } }\n",
      "Sun 2023-01-22 10:48:56.358244 [TRACE] - [T<-UDP] Request { sequence: 2, response_ack: Some(1), cookie: Some(\"b'RmlsdGVyTm90ZWJvb2tDbGllbnQ1MDg5'\"), action: NewRoom { room_name: \"general\" } }\n",
      "Sun 2023-01-22 10:48:56.388621 [TRACE] - [F<-T,N] For Endpoint Endpoint(127.0.0.1:62012), Took packet Request { sequence: 2, response_ack: Some(1), cookie: Some(\"b'RmlsdGVyTm90ZWJvb2tDbGllbnQ1MDg5'\"), action: NewRoom { room_name: \"general\" } }\n",
      "Sun 2023-01-22 10:48:56.588034 [TRACE] - [T<-UDP] Request { sequence: 3, response_ack: Some(1), cookie: Some(\"b'RmlsdGVyTm90ZWJvb2tDbGllbnQ1MDg5'\"), action: JoinRoom { room_name: \"general\" } }\n",
      "Sun 2023-01-22 10:48:56.607410 [TRACE] - [F<-T,N] For Endpoint Endpoint(127.0.0.1:62012), Took packet Request { sequence: 3, response_ack: Some(1), cookie: Some(\"b'RmlsdGVyTm90ZWJvb2tDbGllbnQ1MDg5'\"), action: JoinRoom { room_name: \"general\" } }\n",
      "Sun 2023-01-22 10:48:56.608525 [TRACE] - [T<-UDP] Request { sequence: 2, response_ack: Some(1), cookie: Some(\"b'RmlsdGVyTm90ZWJvb2tDbGllbnQ1MDg5'\"), action: NewRoom { room_name: \"general\" } }\n",
      "Sun 2023-01-22 10:48:56.637960 [TRACE] - [F<-T,N] For Endpoint Endpoint(127.0.0.1:62012), Took packet Request { sequence: 2, response_ack: Some(1), cookie: Some(\"b'RmlsdGVyTm90ZWJvb2tDbGllbnQ1MDg5'\"), action: NewRoom { room_name: \"general\" } }\n",
      "Sun 2023-01-22 10:48:56.838435 [TRACE] - [T<-UDP] Request { sequence: 3, response_ack: Some(1), cookie: Some(\"b'RmlsdGVyTm90ZWJvb2tDbGllbnQ1MDg5'\"), action: JoinRoom { room_name: \"general\" } }\n",
      "Sun 2023-01-22 10:48:56.854801 [TRACE] - [F<-T,N] For Endpoint Endpoint(127.0.0.1:62012), Took packet Request { sequence: 3, response_ack: Some(1), cookie: Some(\"b'RmlsdGVyTm90ZWJvb2tDbGllbnQ1MDg5'\"), action: JoinRoom { room_name: \"general\" } }\n",
      "Sun 2023-01-22 10:48:56.868039 [TRACE] - [T<-UDP] Request { sequence: 2, response_ack: Some(1), cookie: Some(\"b'RmlsdGVyTm90ZWJvb2tDbGllbnQ1MDg5'\"), action: NewRoom { room_name: \"general\" } }\n",
      "Sun 2023-01-22 10:48:56.886344 [TRACE] - [F<-T,N] For Endpoint Endpoint(127.0.0.1:62012), Took packet Request { sequence: 2, response_ack: Some(1), cookie: Some(\"b'RmlsdGVyTm90ZWJvb2tDbGllbnQ1MDg5'\"), action: NewRoom { room_name: \"general\" } }\n"
     ]
    },
    {
     "name": "stdout",
     "output_type": "stream",
     "text": [
      "Sun 2023-01-22 10:48:57.088489 [TRACE] - [T<-UDP] Request { sequence: 3, response_ack: Some(1), cookie: Some(\"b'RmlsdGVyTm90ZWJvb2tDbGllbnQ1MDg5'\"), action: JoinRoom { room_name: \"general\" } }\n",
      "Sun 2023-01-22 10:48:57.102794 [TRACE] - [F<-T,N] For Endpoint Endpoint(127.0.0.1:62012), Took packet Request { sequence: 3, response_ack: Some(1), cookie: Some(\"b'RmlsdGVyTm90ZWJvb2tDbGllbnQ1MDg5'\"), action: JoinRoom { room_name: \"general\" } }\n",
      "Sun 2023-01-22 10:48:57.118182 [TRACE] - [T<-UDP] Request { sequence: 2, response_ack: Some(1), cookie: Some(\"b'RmlsdGVyTm90ZWJvb2tDbGllbnQ1MDg5'\"), action: NewRoom { room_name: \"general\" } }\n",
      "Sun 2023-01-22 10:48:57.134542 [TRACE] - [F<-T,N] For Endpoint Endpoint(127.0.0.1:62012), Took packet Request { sequence: 2, response_ack: Some(1), cookie: Some(\"b'RmlsdGVyTm90ZWJvb2tDbGllbnQ1MDg5'\"), action: NewRoom { room_name: \"general\" } }\n",
      "Sun 2023-01-22 10:48:57.348442 [TRACE] - [T<-UDP] Request { sequence: 3, response_ack: Some(1), cookie: Some(\"b'RmlsdGVyTm90ZWJvb2tDbGllbnQ1MDg5'\"), action: JoinRoom { room_name: \"general\" } }\n",
      "Sun 2023-01-22 10:48:57.351531 [TRACE] - [F<-T,N] For Endpoint Endpoint(127.0.0.1:62012), Took packet Request { sequence: 3, response_ack: Some(1), cookie: Some(\"b'RmlsdGVyTm90ZWJvb2tDbGllbnQ1MDg5'\"), action: JoinRoom { room_name: \"general\" } }\n",
      "Sun 2023-01-22 10:48:57.377882 [TRACE] - [T<-UDP] Request { sequence: 2, response_ack: Some(1), cookie: Some(\"b'RmlsdGVyTm90ZWJvb2tDbGllbnQ1MDg5'\"), action: NewRoom { room_name: \"general\" } }\n",
      "Sun 2023-01-22 10:48:57.381976 [TRACE] - [F<-T,N] For Endpoint Endpoint(127.0.0.1:62012), Took packet Request { sequence: 2, response_ack: Some(1), cookie: Some(\"b'RmlsdGVyTm90ZWJvb2tDbGllbnQ1MDg5'\"), action: NewRoom { room_name: \"general\" } }\n",
      "Sun 2023-01-22 10:48:57.608295 [TRACE] - [T<-UDP] Request { sequence: 3, response_ack: Some(1), cookie: Some(\"b'RmlsdGVyTm90ZWJvb2tDbGllbnQ1MDg5'\"), action: JoinRoom { room_name: \"general\" } }\n",
      "Sun 2023-01-22 10:48:57.628599 [TRACE] - [T<-UDP] Request { sequence: 2, response_ack: Some(1), cookie: Some(\"b'RmlsdGVyTm90ZWJvb2tDbGllbnQ1MDg5'\"), action: NewRoom { room_name: \"general\" } }\n",
      "Sun 2023-01-22 10:48:57.629723 [TRACE] - [F<-T,N] For Endpoint Endpoint(127.0.0.1:62012), Took packet Request { sequence: 3, response_ack: Some(1), cookie: Some(\"b'RmlsdGVyTm90ZWJvb2tDbGllbnQ1MDg5'\"), action: JoinRoom { room_name: \"general\" } }\n",
      "Sun 2023-01-22 10:48:57.629740 [TRACE] - [F<-T,N] For Endpoint Endpoint(127.0.0.1:62012), Took packet Request { sequence: 2, response_ack: Some(1), cookie: Some(\"b'RmlsdGVyTm90ZWJvb2tDbGllbnQ1MDg5'\"), action: NewRoom { room_name: \"general\" } }\n",
      "Sun 2023-01-22 10:48:57.868171 [TRACE] - [T<-UDP] Request { sequence: 3, response_ack: Some(1), cookie: Some(\"b'RmlsdGVyTm90ZWJvb2tDbGllbnQ1MDg5'\"), action: JoinRoom { room_name: \"general\" } }\n",
      "Sun 2023-01-22 10:48:57.880475 [TRACE] - [F<-T,N] For Endpoint Endpoint(127.0.0.1:62012), Took packet Request { sequence: 3, response_ack: Some(1), cookie: Some(\"b'RmlsdGVyTm90ZWJvb2tDbGllbnQ1MDg5'\"), action: JoinRoom { room_name: \"general\" } }\n",
      "Sun 2023-01-22 10:48:57.887694 [TRACE] - [T<-UDP] Request { sequence: 2, response_ack: Some(1), cookie: Some(\"b'RmlsdGVyTm90ZWJvb2tDbGllbnQ1MDg5'\"), action: NewRoom { room_name: \"general\" } }\n",
      "Sun 2023-01-22 10:48:57.911111 [TRACE] - [F<-T,N] For Endpoint Endpoint(127.0.0.1:62012), Took packet Request { sequence: 2, response_ack: Some(1), cookie: Some(\"b'RmlsdGVyTm90ZWJvb2tDbGllbnQ1MDg5'\"), action: NewRoom { room_name: \"general\" } }\n",
      "Sun 2023-01-22 10:48:58.118316 [TRACE] - [T<-UDP] Request { sequence: 3, response_ack: Some(1), cookie: Some(\"b'RmlsdGVyTm90ZWJvb2tDbGllbnQ1MDg5'\"), action: JoinRoom { room_name: \"general\" } }\n",
      "Sun 2023-01-22 10:48:58.128995 [TRACE] - [F<-T,N] For Endpoint Endpoint(127.0.0.1:62012), Took packet Request { sequence: 3, response_ack: Some(1), cookie: Some(\"b'RmlsdGVyTm90ZWJvb2tDbGllbnQ1MDg5'\"), action: JoinRoom { room_name: \"general\" } }\n",
      "Sun 2023-01-22 10:48:58.138220 [TRACE] - [T<-UDP] Request { sequence: 2, response_ack: Some(1), cookie: Some(\"b'RmlsdGVyTm90ZWJvb2tDbGllbnQ1MDg5'\"), action: NewRoom { room_name: \"general\" } }\n",
      "Sun 2023-01-22 10:48:58.159709 [TRACE] - [F<-T,N] For Endpoint Endpoint(127.0.0.1:62012), Took packet Request { sequence: 2, response_ack: Some(1), cookie: Some(\"b'RmlsdGVyTm90ZWJvb2tDbGllbnQ1MDg5'\"), action: NewRoom { room_name: \"general\" } }\n",
      "Sun 2023-01-22 10:48:58.378474 [TRACE] - [T<-UDP] Request { sequence: 3, response_ack: Some(1), cookie: Some(\"b'RmlsdGVyTm90ZWJvb2tDbGllbnQ1MDg5'\"), action: JoinRoom { room_name: \"general\" } }\n",
      "Sun 2023-01-22 10:48:58.397863 [TRACE] - [T<-UDP] Request { sequence: 2, response_ack: Some(1), cookie: Some(\"b'RmlsdGVyTm90ZWJvb2tDbGllbnQ1MDg5'\"), action: NewRoom { room_name: \"general\" } }\n",
      "Sun 2023-01-22 10:48:58.408023 [TRACE] - [F<-T,N] For Endpoint Endpoint(127.0.0.1:62012), Took packet Request { sequence: 3, response_ack: Some(1), cookie: Some(\"b'RmlsdGVyTm90ZWJvb2tDbGllbnQ1MDg5'\"), action: JoinRoom { room_name: \"general\" } }\n",
      "Sun 2023-01-22 10:48:58.408035 [TRACE] - [F<-T,N] For Endpoint Endpoint(127.0.0.1:62012), Took packet Request { sequence: 2, response_ack: Some(1), cookie: Some(\"b'RmlsdGVyTm90ZWJvb2tDbGllbnQ1MDg5'\"), action: NewRoom { room_name: \"general\" } }\n",
      "Sun 2023-01-22 10:48:58.637949 [TRACE] - [T<-UDP] Request { sequence: 3, response_ack: Some(1), cookie: Some(\"b'RmlsdGVyTm90ZWJvb2tDbGllbnQ1MDg5'\"), action: JoinRoom { room_name: \"general\" } }\n",
      "Sun 2023-01-22 10:48:58.648134 [TRACE] - [T<-UDP] Request { sequence: 2, response_ack: Some(1), cookie: Some(\"b'RmlsdGVyTm90ZWJvb2tDbGllbnQ1MDg5'\"), action: NewRoom { room_name: \"general\" } }\n",
      "Sun 2023-01-22 10:48:58.656316 [TRACE] - [F<-T,N] For Endpoint Endpoint(127.0.0.1:62012), Took packet Request { sequence: 3, response_ack: Some(1), cookie: Some(\"b'RmlsdGVyTm90ZWJvb2tDbGllbnQ1MDg5'\"), action: JoinRoom { room_name: \"general\" } }\n",
      "Sun 2023-01-22 10:48:58.656330 [TRACE] - [F<-T,N] For Endpoint Endpoint(127.0.0.1:62012), Took packet Request { sequence: 2, response_ack: Some(1), cookie: Some(\"b'RmlsdGVyTm90ZWJvb2tDbGllbnQ1MDg5'\"), action: NewRoom { room_name: \"general\" } }\n",
      "Sun 2023-01-22 10:48:58.888144 [TRACE] - [T<-UDP] Request { sequence: 3, response_ack: Some(1), cookie: Some(\"b'RmlsdGVyTm90ZWJvb2tDbGllbnQ1MDg5'\"), action: JoinRoom { room_name: \"general\" } }\n",
      "Sun 2023-01-22 10:48:58.898361 [TRACE] - [T<-UDP] Request { sequence: 2, response_ack: Some(1), cookie: Some(\"b'RmlsdGVyTm90ZWJvb2tDbGllbnQ1MDg5'\"), action: NewRoom { room_name: \"general\" } }\n",
      "Sun 2023-01-22 10:48:58.904573 [TRACE] - [F<-T,N] For Endpoint Endpoint(127.0.0.1:62012), Took packet Request { sequence: 3, response_ack: Some(1), cookie: Some(\"b'RmlsdGVyTm90ZWJvb2tDbGllbnQ1MDg5'\"), action: JoinRoom { room_name: \"general\" } }\n",
      "Sun 2023-01-22 10:48:58.904591 [TRACE] - [F<-T,N] For Endpoint Endpoint(127.0.0.1:62012), Took packet Request { sequence: 2, response_ack: Some(1), cookie: Some(\"b'RmlsdGVyTm90ZWJvb2tDbGllbnQ1MDg5'\"), action: NewRoom { room_name: \"general\" } }\n",
      "Sun 2023-01-22 10:48:59.148191 [TRACE] - [T<-UDP] Request { sequence: 3, response_ack: Some(1), cookie: Some(\"b'RmlsdGVyTm90ZWJvb2tDbGllbnQ1MDg5'\"), action: JoinRoom { room_name: \"general\" } }\n",
      "Sun 2023-01-22 10:48:59.152315 [TRACE] - [F<-T,N] For Endpoint Endpoint(127.0.0.1:62012), Took packet Request { sequence: 3, response_ack: Some(1), cookie: Some(\"b'RmlsdGVyTm90ZWJvb2tDbGllbnQ1MDg5'\"), action: JoinRoom { room_name: \"general\" } }\n",
      "Sun 2023-01-22 10:48:59.158534 [TRACE] - [T<-UDP] Request { sequence: 2, response_ack: Some(1), cookie: Some(\"b'RmlsdGVyTm90ZWJvb2tDbGllbnQ1MDg5'\"), action: NewRoom { room_name: \"general\" } }\n",
      "Sun 2023-01-22 10:48:59.183055 [TRACE] - [F<-T,N] For Endpoint Endpoint(127.0.0.1:62012), Took packet Request { sequence: 2, response_ack: Some(1), cookie: Some(\"b'RmlsdGVyTm90ZWJvb2tDbGllbnQ1MDg5'\"), action: NewRoom { room_name: \"general\" } }\n",
      "Sun 2023-01-22 10:48:59.408363 [TRACE] - [T<-UDP] Request { sequence: 3, response_ack: Some(1), cookie: Some(\"b'RmlsdGVyTm90ZWJvb2tDbGllbnQ1MDg5'\"), action: JoinRoom { room_name: \"general\" } }\n",
      "Sun 2023-01-22 10:48:59.418580 [TRACE] - [T<-UDP] Request { sequence: 2, response_ack: Some(1), cookie: Some(\"b'RmlsdGVyTm90ZWJvb2tDbGllbnQ1MDg5'\"), action: NewRoom { room_name: \"general\" } }\n",
      "Sun 2023-01-22 10:48:59.431864 [TRACE] - [F<-T,N] For Endpoint Endpoint(127.0.0.1:62012), Took packet Request { sequence: 3, response_ack: Some(1), cookie: Some(\"b'RmlsdGVyTm90ZWJvb2tDbGllbnQ1MDg5'\"), action: JoinRoom { room_name: \"general\" } }\n",
      "Sun 2023-01-22 10:48:59.431882 [TRACE] - [F<-T,N] For Endpoint Endpoint(127.0.0.1:62012), Took packet Request { sequence: 2, response_ack: Some(1), cookie: Some(\"b'RmlsdGVyTm90ZWJvb2tDbGllbnQ1MDg5'\"), action: NewRoom { room_name: \"general\" } }\n"
     ]
    },
    {
     "name": "stdout",
     "output_type": "stream",
     "text": [
      "Sun 2023-01-22 10:48:59.667779 [TRACE] - [T<-UDP] Request { sequence: 3, response_ack: Some(1), cookie: Some(\"b'RmlsdGVyTm90ZWJvb2tDbGllbnQ1MDg5'\"), action: JoinRoom { room_name: \"general\" } }\n",
      "Sun 2023-01-22 10:48:59.677985 [TRACE] - [T<-UDP] Request { sequence: 2, response_ack: Some(1), cookie: Some(\"b'RmlsdGVyTm90ZWJvb2tDbGllbnQ1MDg5'\"), action: NewRoom { room_name: \"general\" } }\n",
      "Sun 2023-01-22 10:48:59.680062 [TRACE] - [F<-T,N] For Endpoint Endpoint(127.0.0.1:62012), Took packet Request { sequence: 3, response_ack: Some(1), cookie: Some(\"b'RmlsdGVyTm90ZWJvb2tDbGllbnQ1MDg5'\"), action: JoinRoom { room_name: \"general\" } }\n",
      "Sun 2023-01-22 10:48:59.680071 [TRACE] - [F<-T,N] For Endpoint Endpoint(127.0.0.1:62012), Took packet Request { sequence: 2, response_ack: Some(1), cookie: Some(\"b'RmlsdGVyTm90ZWJvb2tDbGllbnQ1MDg5'\"), action: NewRoom { room_name: \"general\" } }\n",
      "Sun 2023-01-22 10:48:59.918679 [TRACE] - [T<-UDP] Request { sequence: 3, response_ack: Some(1), cookie: Some(\"b'RmlsdGVyTm90ZWJvb2tDbGllbnQ1MDg5'\"), action: JoinRoom { room_name: \"general\" } }\n",
      "Sun 2023-01-22 10:48:59.928980 [TRACE] - [F<-T,N] For Endpoint Endpoint(127.0.0.1:62012), Took packet Request { sequence: 3, response_ack: Some(1), cookie: Some(\"b'RmlsdGVyTm90ZWJvb2tDbGllbnQ1MDg5'\"), action: JoinRoom { room_name: \"general\" } }\n",
      "Sun 2023-01-22 10:48:59.938200 [TRACE] - [T<-UDP] Request { sequence: 2, response_ack: Some(1), cookie: Some(\"b'RmlsdGVyTm90ZWJvb2tDbGllbnQ1MDg5'\"), action: NewRoom { room_name: \"general\" } }\n",
      "Sun 2023-01-22 10:48:59.960622 [TRACE] - [F<-T,N] For Endpoint Endpoint(127.0.0.1:62012), Took packet Request { sequence: 2, response_ack: Some(1), cookie: Some(\"b'RmlsdGVyTm90ZWJvb2tDbGllbnQ1MDg5'\"), action: NewRoom { room_name: \"general\" } }\n",
      "Sun 2023-01-22 10:49:00.177840 [TRACE] - [T<-UDP] Request { sequence: 3, response_ack: Some(1), cookie: Some(\"b'RmlsdGVyTm90ZWJvb2tDbGllbnQ1MDg5'\"), action: JoinRoom { room_name: \"general\" } }\n",
      "Sun 2023-01-22 10:49:00.178963 [TRACE] - [F<-T,N] For Endpoint Endpoint(127.0.0.1:62012), Took packet Request { sequence: 3, response_ack: Some(1), cookie: Some(\"b'RmlsdGVyTm90ZWJvb2tDbGllbnQ1MDg5'\"), action: JoinRoom { room_name: \"general\" } }\n",
      "Sun 2023-01-22 10:49:00.198372 [TRACE] - [T<-UDP] Request { sequence: 2, response_ack: Some(1), cookie: Some(\"b'RmlsdGVyTm90ZWJvb2tDbGllbnQ1MDg5'\"), action: NewRoom { room_name: \"general\" } }\n",
      "Sun 2023-01-22 10:49:00.210614 [TRACE] - [F<-T,N] For Endpoint Endpoint(127.0.0.1:62012), Took packet Request { sequence: 2, response_ack: Some(1), cookie: Some(\"b'RmlsdGVyTm90ZWJvb2tDbGllbnQ1MDg5'\"), action: NewRoom { room_name: \"general\" } }\n",
      "Sun 2023-01-22 10:49:00.438017 [TRACE] - [T<-UDP] Request { sequence: 3, response_ack: Some(1), cookie: Some(\"b'RmlsdGVyTm90ZWJvb2tDbGllbnQ1MDg5'\"), action: JoinRoom { room_name: \"general\" } }\n",
      "Sun 2023-01-22 10:49:00.458623 [TRACE] - [F<-T,N] For Endpoint Endpoint(127.0.0.1:62012), Took packet Request { sequence: 3, response_ack: Some(1), cookie: Some(\"b'RmlsdGVyTm90ZWJvb2tDbGllbnQ1MDg5'\"), action: JoinRoom { room_name: \"general\" } }\n",
      "Sun 2023-01-22 10:49:00.458642 [TRACE] - [T<-UDP] Request { sequence: 2, response_ack: Some(1), cookie: Some(\"b'RmlsdGVyTm90ZWJvb2tDbGllbnQ1MDg5'\"), action: NewRoom { room_name: \"general\" } }\n",
      "Sun 2023-01-22 10:49:00.489687 [TRACE] - [F<-T,N] For Endpoint Endpoint(127.0.0.1:62012), Took packet Request { sequence: 2, response_ack: Some(1), cookie: Some(\"b'RmlsdGVyTm90ZWJvb2tDbGllbnQ1MDg5'\"), action: NewRoom { room_name: \"general\" } }\n",
      "Sun 2023-01-22 10:49:00.688591 [TRACE] - [T<-UDP] Request { sequence: 3, response_ack: Some(1), cookie: Some(\"b'RmlsdGVyTm90ZWJvb2tDbGllbnQ1MDg5'\"), action: JoinRoom { room_name: \"general\" } }\n",
      "Sun 2023-01-22 10:49:00.708108 [TRACE] - [F<-T,N] For Endpoint Endpoint(127.0.0.1:62012), Took packet Request { sequence: 3, response_ack: Some(1), cookie: Some(\"b'RmlsdGVyTm90ZWJvb2tDbGllbnQ1MDg5'\"), action: JoinRoom { room_name: \"general\" } }\n",
      "Sun 2023-01-22 10:49:00.718296 [TRACE] - [T<-UDP] Request { sequence: 2, response_ack: Some(1), cookie: Some(\"b'RmlsdGVyTm90ZWJvb2tDbGllbnQ1MDg5'\"), action: NewRoom { room_name: \"general\" } }\n",
      "Sun 2023-01-22 10:49:00.738691 [TRACE] - [F<-T,N] For Endpoint Endpoint(127.0.0.1:62012), Took packet Request { sequence: 2, response_ack: Some(1), cookie: Some(\"b'RmlsdGVyTm90ZWJvb2tDbGllbnQ1MDg5'\"), action: NewRoom { room_name: \"general\" } }\n",
      "Sun 2023-01-22 10:49:00.948673 [TRACE] - [T<-UDP] Request { sequence: 3, response_ack: Some(1), cookie: Some(\"b'RmlsdGVyTm90ZWJvb2tDbGllbnQ1MDg5'\"), action: JoinRoom { room_name: \"general\" } }\n",
      "Sun 2023-01-22 10:49:00.956833 [TRACE] - [F<-T,N] For Endpoint Endpoint(127.0.0.1:62012), Took packet Request { sequence: 3, response_ack: Some(1), cookie: Some(\"b'RmlsdGVyTm90ZWJvb2tDbGllbnQ1MDg5'\"), action: JoinRoom { room_name: \"general\" } }\n",
      "Sun 2023-01-22 10:49:00.978162 [TRACE] - [T<-UDP] Request { sequence: 2, response_ack: Some(1), cookie: Some(\"b'RmlsdGVyTm90ZWJvb2tDbGllbnQ1MDg5'\"), action: NewRoom { room_name: \"general\" } }\n",
      "Sun 2023-01-22 10:49:00.988377 [TRACE] - [F<-T,N] For Endpoint Endpoint(127.0.0.1:62012), Took packet Request { sequence: 2, response_ack: Some(1), cookie: Some(\"b'RmlsdGVyTm90ZWJvb2tDbGllbnQ1MDg5'\"), action: NewRoom { room_name: \"general\" } }\n",
      "Sun 2023-01-22 10:49:01.207728 [TRACE] - [T<-UDP] Request { sequence: 3, response_ack: Some(1), cookie: Some(\"b'RmlsdGVyTm90ZWJvb2tDbGllbnQ1MDg5'\"), action: JoinRoom { room_name: \"general\" } }\n",
      "Sun 2023-01-22 10:49:01.236126 [TRACE] - [F<-T,N] For Endpoint Endpoint(127.0.0.1:62012), Took packet Request { sequence: 3, response_ack: Some(1), cookie: Some(\"b'RmlsdGVyTm90ZWJvb2tDbGllbnQ1MDg5'\"), action: JoinRoom { room_name: \"general\" } }\n",
      "Sun 2023-01-22 10:49:01.238223 [TRACE] - [T<-UDP] Request { sequence: 2, response_ack: Some(1), cookie: Some(\"b'RmlsdGVyTm90ZWJvb2tDbGllbnQ1MDg5'\"), action: NewRoom { room_name: \"general\" } }\n",
      "Sun 2023-01-22 10:49:01.266664 [TRACE] - [F<-T,N] For Endpoint Endpoint(127.0.0.1:62012), Took packet Request { sequence: 2, response_ack: Some(1), cookie: Some(\"b'RmlsdGVyTm90ZWJvb2tDbGllbnQ1MDg5'\"), action: NewRoom { room_name: \"general\" } }\n",
      "Sun 2023-01-22 10:49:01.458469 [TRACE] - [T<-UDP] Request { sequence: 3, response_ack: Some(1), cookie: Some(\"b'RmlsdGVyTm90ZWJvb2tDbGllbnQ1MDg5'\"), action: JoinRoom { room_name: \"general\" } }\n",
      "Sun 2023-01-22 10:49:01.483907 [TRACE] - [F<-T,N] For Endpoint Endpoint(127.0.0.1:62012), Took packet Request { sequence: 3, response_ack: Some(1), cookie: Some(\"b'RmlsdGVyTm90ZWJvb2tDbGllbnQ1MDg5'\"), action: JoinRoom { room_name: \"general\" } }\n",
      "Sun 2023-01-22 10:49:01.498189 [TRACE] - [T<-UDP] Request { sequence: 2, response_ack: Some(1), cookie: Some(\"b'RmlsdGVyTm90ZWJvb2tDbGllbnQ1MDg5'\"), action: NewRoom { room_name: \"general\" } }\n",
      "Sun 2023-01-22 10:49:01.515456 [TRACE] - [F<-T,N] For Endpoint Endpoint(127.0.0.1:62012), Took packet Request { sequence: 2, response_ack: Some(1), cookie: Some(\"b'RmlsdGVyTm90ZWJvb2tDbGllbnQ1MDg5'\"), action: NewRoom { room_name: \"general\" } }\n",
      "Sun 2023-01-22 10:49:01.718192 [TRACE] - [T<-UDP] Request { sequence: 3, response_ack: Some(1), cookie: Some(\"b'RmlsdGVyTm90ZWJvb2tDbGllbnQ1MDg5'\"), action: JoinRoom { room_name: \"general\" } }\n",
      "Sun 2023-01-22 10:49:01.733502 [TRACE] - [F<-T,N] For Endpoint Endpoint(127.0.0.1:62012), Took packet Request { sequence: 3, response_ack: Some(1), cookie: Some(\"b'RmlsdGVyTm90ZWJvb2tDbGllbnQ1MDg5'\"), action: JoinRoom { room_name: \"general\" } }\n",
      "Sun 2023-01-22 10:49:01.757913 [TRACE] - [T<-UDP] Request { sequence: 2, response_ack: Some(1), cookie: Some(\"b'RmlsdGVyTm90ZWJvb2tDbGllbnQ1MDg5'\"), action: NewRoom { room_name: \"general\" } }\n",
      "Sun 2023-01-22 10:49:01.764072 [TRACE] - [F<-T,N] For Endpoint Endpoint(127.0.0.1:62012), Took packet Request { sequence: 2, response_ack: Some(1), cookie: Some(\"b'RmlsdGVyTm90ZWJvb2tDbGllbnQ1MDg5'\"), action: NewRoom { room_name: \"general\" } }\n",
      "Sun 2023-01-22 10:49:01.968240 [TRACE] - [T<-UDP] Request { sequence: 3, response_ack: Some(1), cookie: Some(\"b'RmlsdGVyTm90ZWJvb2tDbGllbnQ1MDg5'\"), action: JoinRoom { room_name: \"general\" } }\n",
      "Sun 2023-01-22 10:49:01.982453 [TRACE] - [F<-T,N] For Endpoint Endpoint(127.0.0.1:62012), Took packet Request { sequence: 3, response_ack: Some(1), cookie: Some(\"b'RmlsdGVyTm90ZWJvb2tDbGllbnQ1MDg5'\"), action: JoinRoom { room_name: \"general\" } }\n",
      "Sun 2023-01-22 10:49:02.018067 [TRACE] - [T<-UDP] Request { sequence: 2, response_ack: Some(1), cookie: Some(\"b'RmlsdGVyTm90ZWJvb2tDbGllbnQ1MDg5'\"), action: NewRoom { room_name: \"general\" } }\n",
      "Sun 2023-01-22 10:49:02.044529 [TRACE] - [F<-T,N] For Endpoint Endpoint(127.0.0.1:62012), Took packet Request { sequence: 2, response_ack: Some(1), cookie: Some(\"b'RmlsdGVyTm90ZWJvb2tDbGllbnQ1MDg5'\"), action: NewRoom { room_name: \"general\" } }\n"
     ]
    },
    {
     "name": "stdout",
     "output_type": "stream",
     "text": [
      "Sun 2023-01-22 10:49:02.218349 [TRACE] - [T<-UDP] Request { sequence: 3, response_ack: Some(1), cookie: Some(\"b'RmlsdGVyTm90ZWJvb2tDbGllbnQ1MDg5'\"), action: JoinRoom { room_name: \"general\" } }\n",
      "Sun 2023-01-22 10:49:02.231588 [TRACE] - [F<-T,N] For Endpoint Endpoint(127.0.0.1:62012), Took packet Request { sequence: 3, response_ack: Some(1), cookie: Some(\"b'RmlsdGVyTm90ZWJvb2tDbGllbnQ1MDg5'\"), action: JoinRoom { room_name: \"general\" } }\n",
      "Sun 2023-01-22 10:49:02.268221 [TRACE] - [T<-UDP] Request { sequence: 2, response_ack: Some(1), cookie: Some(\"b'RmlsdGVyTm90ZWJvb2tDbGllbnQ1MDg5'\"), action: NewRoom { room_name: \"general\" } }\n",
      "Sun 2023-01-22 10:49:02.293773 [TRACE] - [F<-T,N] For Endpoint Endpoint(127.0.0.1:62012), Took packet Request { sequence: 2, response_ack: Some(1), cookie: Some(\"b'RmlsdGVyTm90ZWJvb2tDbGllbnQ1MDg5'\"), action: NewRoom { room_name: \"general\" } }\n",
      "Sun 2023-01-22 10:49:02.468562 [TRACE] - [T<-UDP] Request { sequence: 3, response_ack: Some(1), cookie: Some(\"b'RmlsdGVyTm90ZWJvb2tDbGllbnQ1MDg5'\"), action: JoinRoom { room_name: \"general\" } }\n",
      "Sun 2023-01-22 10:49:02.480858 [TRACE] - [F<-T,N] For Endpoint Endpoint(127.0.0.1:62012), Took packet Request { sequence: 3, response_ack: Some(1), cookie: Some(\"b'RmlsdGVyTm90ZWJvb2tDbGllbnQ1MDg5'\"), action: JoinRoom { room_name: \"general\" } }\n",
      "Sun 2023-01-22 10:49:02.528090 [TRACE] - [T<-UDP] Request { sequence: 2, response_ack: Some(1), cookie: Some(\"b'RmlsdGVyTm90ZWJvb2tDbGllbnQ1MDg5'\"), action: NewRoom { room_name: \"general\" } }\n",
      "Sun 2023-01-22 10:49:02.543477 [TRACE] - [F<-T,N] For Endpoint Endpoint(127.0.0.1:62012), Took packet Request { sequence: 2, response_ack: Some(1), cookie: Some(\"b'RmlsdGVyTm90ZWJvb2tDbGllbnQ1MDg5'\"), action: NewRoom { room_name: \"general\" } }\n",
      "Sun 2023-01-22 10:49:02.718809 [TRACE] - [T<-UDP] Request { sequence: 3, response_ack: Some(1), cookie: Some(\"b'RmlsdGVyTm90ZWJvb2tDbGllbnQ1MDg5'\"), action: JoinRoom { room_name: \"general\" } }\n",
      "Sun 2023-01-22 10:49:02.730336 [TRACE] - [F<-T,N] For Endpoint Endpoint(127.0.0.1:62012), Took packet Request { sequence: 3, response_ack: Some(1), cookie: Some(\"b'RmlsdGVyTm90ZWJvb2tDbGllbnQ1MDg5'\"), action: JoinRoom { room_name: \"general\" } }\n",
      "Sun 2023-01-22 10:49:02.778342 [TRACE] - [T<-UDP] Request { sequence: 2, response_ack: Some(1), cookie: Some(\"b'RmlsdGVyTm90ZWJvb2tDbGllbnQ1MDg5'\"), action: NewRoom { room_name: \"general\" } }\n",
      "Sun 2023-01-22 10:49:02.792665 [TRACE] - [F<-T,N] For Endpoint Endpoint(127.0.0.1:62012), Took packet Request { sequence: 2, response_ack: Some(1), cookie: Some(\"b'RmlsdGVyTm90ZWJvb2tDbGllbnQ1MDg5'\"), action: NewRoom { room_name: \"general\" } }\n",
      "Sun 2023-01-22 10:49:02.978621 [TRACE] - [T<-UDP] Request { sequence: 3, response_ack: Some(1), cookie: Some(\"b'RmlsdGVyTm90ZWJvb2tDbGllbnQ1MDg5'\"), action: JoinRoom { room_name: \"general\" } }\n",
      "Sun 2023-01-22 10:49:02.979754 [TRACE] - [F<-T,N] For Endpoint Endpoint(127.0.0.1:62012), Took packet Request { sequence: 3, response_ack: Some(1), cookie: Some(\"b'RmlsdGVyTm90ZWJvb2tDbGllbnQ1MDg5'\"), action: JoinRoom { room_name: \"general\" } }\n",
      "Sun 2023-01-22 10:49:03.038072 [TRACE] - [T<-UDP] Request { sequence: 2, response_ack: Some(1), cookie: Some(\"b'RmlsdGVyTm90ZWJvb2tDbGllbnQ1MDg5'\"), action: NewRoom { room_name: \"general\" } }\n",
      "Sun 2023-01-22 10:49:03.042276 [TRACE] - [F<-T,N] For Endpoint Endpoint(127.0.0.1:62012), Took packet Request { sequence: 2, response_ack: Some(1), cookie: Some(\"b'RmlsdGVyTm90ZWJvb2tDbGllbnQ1MDg5'\"), action: NewRoom { room_name: \"general\" } }\n",
      "Sun 2023-01-22 10:49:03.238575 [TRACE] - [T<-UDP] Request { sequence: 3, response_ack: Some(1), cookie: Some(\"b'RmlsdGVyTm90ZWJvb2tDbGllbnQ1MDg5'\"), action: JoinRoom { room_name: \"general\" } }\n",
      "Sun 2023-01-22 10:49:03.259031 [TRACE] - [F<-T,N] For Endpoint Endpoint(127.0.0.1:62012), Took packet Request { sequence: 3, response_ack: Some(1), cookie: Some(\"b'RmlsdGVyTm90ZWJvb2tDbGllbnQ1MDg5'\"), action: JoinRoom { room_name: \"general\" } }\n",
      "Sun 2023-01-22 10:49:03.288564 [TRACE] - [T<-UDP] Request { sequence: 2, response_ack: Some(1), cookie: Some(\"b'RmlsdGVyTm90ZWJvb2tDbGllbnQ1MDg5'\"), action: NewRoom { room_name: \"general\" } }\n",
      "Sun 2023-01-22 10:49:03.289689 [TRACE] - [F<-T,N] For Endpoint Endpoint(127.0.0.1:62012), Took packet Request { sequence: 2, response_ack: Some(1), cookie: Some(\"b'RmlsdGVyTm90ZWJvb2tDbGllbnQ1MDg5'\"), action: NewRoom { room_name: \"general\" } }\n",
      "Sun 2023-01-22 10:49:03.498007 [TRACE] - [T<-UDP] Request { sequence: 3, response_ack: Some(1), cookie: Some(\"b'RmlsdGVyTm90ZWJvb2tDbGllbnQ1MDg5'\"), action: JoinRoom { room_name: \"general\" } }\n",
      "Sun 2023-01-22 10:49:03.507437 [TRACE] - [F<-T,N] For Endpoint Endpoint(127.0.0.1:62012), Took packet Request { sequence: 3, response_ack: Some(1), cookie: Some(\"b'RmlsdGVyTm90ZWJvb2tDbGllbnQ1MDg5'\"), action: JoinRoom { room_name: \"general\" } }\n",
      "Sun 2023-01-22 10:49:03.548641 [TRACE] - [T<-UDP] Request { sequence: 2, response_ack: Some(1), cookie: Some(\"b'RmlsdGVyTm90ZWJvb2tDbGllbnQ1MDg5'\"), action: NewRoom { room_name: \"general\" } }\n",
      "Sun 2023-01-22 10:49:03.569567 [TRACE] - [F<-T,N] For Endpoint Endpoint(127.0.0.1:62012), Took packet Request { sequence: 2, response_ack: Some(1), cookie: Some(\"b'RmlsdGVyTm90ZWJvb2tDbGllbnQ1MDg5'\"), action: NewRoom { room_name: \"general\" } }\n",
      "Sun 2023-01-22 10:49:03.748397 [TRACE] - [T<-UDP] Request { sequence: 3, response_ack: Some(1), cookie: Some(\"b'RmlsdGVyTm90ZWJvb2tDbGllbnQ1MDg5'\"), action: JoinRoom { room_name: \"general\" } }\n",
      "Sun 2023-01-22 10:49:03.755608 [TRACE] - [F<-T,N] For Endpoint Endpoint(127.0.0.1:62012), Took packet Request { sequence: 3, response_ack: Some(1), cookie: Some(\"b'RmlsdGVyTm90ZWJvb2tDbGllbnQ1MDg5'\"), action: JoinRoom { room_name: \"general\" } }\n",
      "Sun 2023-01-22 10:49:03.808691 [TRACE] - [T<-UDP] Request { sequence: 2, response_ack: Some(1), cookie: Some(\"b'RmlsdGVyTm90ZWJvb2tDbGllbnQ1MDg5'\"), action: NewRoom { room_name: \"general\" } }\n",
      "Sun 2023-01-22 10:49:03.818068 [TRACE] - [F<-T,N] For Endpoint Endpoint(127.0.0.1:62012), Took packet Request { sequence: 2, response_ack: Some(1), cookie: Some(\"b'RmlsdGVyTm90ZWJvb2tDbGllbnQ1MDg5'\"), action: NewRoom { room_name: \"general\" } }\n",
      "Sun 2023-01-22 10:49:03.998560 [TRACE] - [T<-UDP] Request { sequence: 3, response_ack: Some(1), cookie: Some(\"b'RmlsdGVyTm90ZWJvb2tDbGllbnQ1MDg5'\"), action: JoinRoom { room_name: \"general\" } }\n",
      "Sun 2023-01-22 10:49:04.006128 [TRACE] - [F<-T,N] For Endpoint Endpoint(127.0.0.1:62012), Took packet Request { sequence: 3, response_ack: Some(1), cookie: Some(\"b'RmlsdGVyTm90ZWJvb2tDbGllbnQ1MDg5'\"), action: JoinRoom { room_name: \"general\" } }\n",
      "Sun 2023-01-22 10:49:04.068219 [TRACE] - [T<-UDP] Request { sequence: 2, response_ack: Some(1), cookie: Some(\"b'RmlsdGVyTm90ZWJvb2tDbGllbnQ1MDg5'\"), action: NewRoom { room_name: \"general\" } }\n",
      "Sun 2023-01-22 10:49:04.098760 [TRACE] - [F<-T,N] For Endpoint Endpoint(127.0.0.1:62012), Took packet Request { sequence: 2, response_ack: Some(1), cookie: Some(\"b'RmlsdGVyTm90ZWJvb2tDbGllbnQ1MDg5'\"), action: NewRoom { room_name: \"general\" } }\n",
      "Sun 2023-01-22 10:49:04.258288 [TRACE] - [T<-UDP] Request { sequence: 3, response_ack: Some(1), cookie: Some(\"b'RmlsdGVyTm90ZWJvb2tDbGllbnQ1MDg5'\"), action: JoinRoom { room_name: \"general\" } }\n",
      "Sun 2023-01-22 10:49:04.285879 [TRACE] - [F<-T,N] For Endpoint Endpoint(127.0.0.1:62012), Took packet Request { sequence: 3, response_ack: Some(1), cookie: Some(\"b'RmlsdGVyTm90ZWJvb2tDbGllbnQ1MDg5'\"), action: JoinRoom { room_name: \"general\" } }\n",
      "Sun 2023-01-22 10:49:04.318572 [TRACE] - [T<-UDP] Request { sequence: 2, response_ack: Some(1), cookie: Some(\"b'RmlsdGVyTm90ZWJvb2tDbGllbnQ1MDg5'\"), action: NewRoom { room_name: \"general\" } }\n",
      "Sun 2023-01-22 10:49:04.348488 [TRACE] - [F<-T,N] For Endpoint Endpoint(127.0.0.1:62012), Took packet Request { sequence: 2, response_ack: Some(1), cookie: Some(\"b'RmlsdGVyTm90ZWJvb2tDbGllbnQ1MDg5'\"), action: NewRoom { room_name: \"general\" } }\n",
      "Sun 2023-01-22 10:49:04.518172 [TRACE] - [T<-UDP] Request { sequence: 3, response_ack: Some(1), cookie: Some(\"b'RmlsdGVyTm90ZWJvb2tDbGllbnQ1MDg5'\"), action: JoinRoom { room_name: \"general\" } }\n",
      "Sun 2023-01-22 10:49:04.536016 [TRACE] - [F<-T,N] For Endpoint Endpoint(127.0.0.1:62012), Took packet Request { sequence: 3, response_ack: Some(1), cookie: Some(\"b'RmlsdGVyTm90ZWJvb2tDbGllbnQ1MDg5'\"), action: JoinRoom { room_name: \"general\" } }\n",
      "Sun 2023-01-22 10:49:04.568687 [TRACE] - [T<-UDP] Request { sequence: 2, response_ack: Some(1), cookie: Some(\"b'RmlsdGVyTm90ZWJvb2tDbGllbnQ1MDg5'\"), action: NewRoom { room_name: \"general\" } }\n",
      "Sun 2023-01-22 10:49:04.598325 [TRACE] - [F<-T,N] For Endpoint Endpoint(127.0.0.1:62012), Took packet Request { sequence: 2, response_ack: Some(1), cookie: Some(\"b'RmlsdGVyTm90ZWJvb2tDbGllbnQ1MDg5'\"), action: NewRoom { room_name: \"general\" } }\n"
     ]
    },
    {
     "name": "stdout",
     "output_type": "stream",
     "text": [
      "Sun 2023-01-22 10:49:04.768675 [TRACE] - [T<-UDP] Request { sequence: 3, response_ack: Some(1), cookie: Some(\"b'RmlsdGVyTm90ZWJvb2tDbGllbnQ1MDg5'\"), action: JoinRoom { room_name: \"general\" } }\n",
      "Sun 2023-01-22 10:49:04.784131 [TRACE] - [F<-T,N] For Endpoint Endpoint(127.0.0.1:62012), Took packet Request { sequence: 3, response_ack: Some(1), cookie: Some(\"b'RmlsdGVyTm90ZWJvb2tDbGllbnQ1MDg5'\"), action: JoinRoom { room_name: \"general\" } }\n",
      "Sun 2023-01-22 10:49:04.828033 [TRACE] - [T<-UDP] Request { sequence: 2, response_ack: Some(1), cookie: Some(\"b'RmlsdGVyTm90ZWJvb2tDbGllbnQ1MDg5'\"), action: NewRoom { room_name: \"general\" } }\n",
      "Sun 2023-01-22 10:49:04.847441 [TRACE] - [F<-T,N] For Endpoint Endpoint(127.0.0.1:62012), Took packet Request { sequence: 2, response_ack: Some(1), cookie: Some(\"b'RmlsdGVyTm90ZWJvb2tDbGllbnQ1MDg5'\"), action: NewRoom { room_name: \"general\" } }\n",
      "Sun 2023-01-22 10:49:05.028420 [TRACE] - [T<-UDP] Request { sequence: 3, response_ack: Some(1), cookie: Some(\"b'RmlsdGVyTm90ZWJvb2tDbGllbnQ1MDg5'\"), action: JoinRoom { room_name: \"general\" } }\n",
      "Sun 2023-01-22 10:49:05.033648 [TRACE] - [F<-T,N] For Endpoint Endpoint(127.0.0.1:62012), Took packet Request { sequence: 3, response_ack: Some(1), cookie: Some(\"b'RmlsdGVyTm90ZWJvb2tDbGllbnQ1MDg5'\"), action: JoinRoom { room_name: \"general\" } }\n",
      "Sun 2023-01-22 10:49:05.088147 [TRACE] - [T<-UDP] Request { sequence: 2, response_ack: Some(1), cookie: Some(\"b'RmlsdGVyTm90ZWJvb2tDbGllbnQ1MDg5'\"), action: NewRoom { room_name: \"general\" } }\n",
      "Sun 2023-01-22 10:49:05.096432 [TRACE] - [F<-T,N] For Endpoint Endpoint(127.0.0.1:62012), Took packet Request { sequence: 2, response_ack: Some(1), cookie: Some(\"b'RmlsdGVyTm90ZWJvb2tDbGllbnQ1MDg5'\"), action: NewRoom { room_name: \"general\" } }\n",
      "Sun 2023-01-22 10:49:05.288065 [TRACE] - [T<-UDP] Request { sequence: 3, response_ack: Some(1), cookie: Some(\"b'RmlsdGVyTm90ZWJvb2tDbGllbnQ1MDg5'\"), action: JoinRoom { room_name: \"general\" } }\n",
      "Sun 2023-01-22 10:49:05.313526 [TRACE] - [F<-T,N] For Endpoint Endpoint(127.0.0.1:62012), Took packet Request { sequence: 3, response_ack: Some(1), cookie: Some(\"b'RmlsdGVyTm90ZWJvb2tDbGllbnQ1MDg5'\"), action: JoinRoom { room_name: \"general\" } }\n",
      "Sun 2023-01-22 10:49:05.338507 [TRACE] - [T<-UDP] Request { sequence: 2, response_ack: Some(1), cookie: Some(\"b'RmlsdGVyTm90ZWJvb2tDbGllbnQ1MDg5'\"), action: NewRoom { room_name: \"general\" } }\n",
      "Sun 2023-01-22 10:49:05.343628 [TRACE] - [F<-T,N] For Endpoint Endpoint(127.0.0.1:62012), Took packet Request { sequence: 2, response_ack: Some(1), cookie: Some(\"b'RmlsdGVyTm90ZWJvb2tDbGllbnQ1MDg5'\"), action: NewRoom { room_name: \"general\" } }\n",
      "Sun 2023-01-22 10:49:05.538124 [TRACE] - [T<-UDP] Request { sequence: 3, response_ack: Some(1), cookie: Some(\"b'RmlsdGVyTm90ZWJvb2tDbGllbnQ1MDg5'\"), action: JoinRoom { room_name: \"general\" } }\n",
      "Sun 2023-01-22 10:49:05.562661 [TRACE] - [F<-T,N] For Endpoint Endpoint(127.0.0.1:62012), Took packet Request { sequence: 3, response_ack: Some(1), cookie: Some(\"b'RmlsdGVyTm90ZWJvb2tDbGllbnQ1MDg5'\"), action: JoinRoom { room_name: \"general\" } }\n",
      "Sun 2023-01-22 10:49:05.598526 [TRACE] - [T<-UDP] Request { sequence: 2, response_ack: Some(1), cookie: Some(\"b'RmlsdGVyTm90ZWJvb2tDbGllbnQ1MDg5'\"), action: NewRoom { room_name: \"general\" } }\n",
      "Sun 2023-01-22 10:49:05.625080 [TRACE] - [F<-T,N] For Endpoint Endpoint(127.0.0.1:62012), Took packet Request { sequence: 2, response_ack: Some(1), cookie: Some(\"b'RmlsdGVyTm90ZWJvb2tDbGllbnQ1MDg5'\"), action: NewRoom { room_name: \"general\" } }\n",
      "Sun 2023-01-22 10:49:05.788628 [TRACE] - [T<-UDP] Request { sequence: 3, response_ack: Some(1), cookie: Some(\"b'RmlsdGVyTm90ZWJvb2tDbGllbnQ1MDg5'\"), action: JoinRoom { room_name: \"general\" } }\n",
      "Sun 2023-01-22 10:49:05.811088 [TRACE] - [F<-T,N] For Endpoint Endpoint(127.0.0.1:62012), Took packet Request { sequence: 3, response_ack: Some(1), cookie: Some(\"b'RmlsdGVyTm90ZWJvb2tDbGllbnQ1MDg5'\"), action: JoinRoom { room_name: \"general\" } }\n",
      "Sun 2023-01-22 10:49:05.858059 [TRACE] - [T<-UDP] Request { sequence: 2, response_ack: Some(1), cookie: Some(\"b'RmlsdGVyTm90ZWJvb2tDbGllbnQ1MDg5'\"), action: NewRoom { room_name: \"general\" } }\n",
      "Sun 2023-01-22 10:49:05.873438 [TRACE] - [F<-T,N] For Endpoint Endpoint(127.0.0.1:62012), Took packet Request { sequence: 2, response_ack: Some(1), cookie: Some(\"b'RmlsdGVyTm90ZWJvb2tDbGllbnQ1MDg5'\"), action: NewRoom { room_name: \"general\" } }\n",
      "Sun 2023-01-22 10:49:06.047668 [TRACE] - [T<-UDP] Request { sequence: 3, response_ack: Some(1), cookie: Some(\"b'RmlsdGVyTm90ZWJvb2tDbGllbnQ1MDg5'\"), action: JoinRoom { room_name: \"general\" } }\n",
      "Sun 2023-01-22 10:49:06.059929 [TRACE] - [F<-T,N] For Endpoint Endpoint(127.0.0.1:62012), Took packet Request { sequence: 3, response_ack: Some(1), cookie: Some(\"b'RmlsdGVyTm90ZWJvb2tDbGllbnQ1MDg5'\"), action: JoinRoom { room_name: \"general\" } }\n",
      "Sun 2023-01-22 10:49:06.118157 [TRACE] - [T<-UDP] Request { sequence: 2, response_ack: Some(1), cookie: Some(\"b'RmlsdGVyTm90ZWJvb2tDbGllbnQ1MDg5'\"), action: NewRoom { room_name: \"general\" } }\n",
      "Sun 2023-01-22 10:49:06.122491 [TRACE] - [F<-T,N] For Endpoint Endpoint(127.0.0.1:62012), Took packet Request { sequence: 2, response_ack: Some(1), cookie: Some(\"b'RmlsdGVyTm90ZWJvb2tDbGllbnQ1MDg5'\"), action: NewRoom { room_name: \"general\" } }\n",
      "Sun 2023-01-22 10:49:06.297884 [TRACE] - [T<-UDP] Request { sequence: 3, response_ack: Some(1), cookie: Some(\"b'RmlsdGVyTm90ZWJvb2tDbGllbnQ1MDg5'\"), action: JoinRoom { room_name: \"general\" } }\n",
      "Sun 2023-01-22 10:49:06.309138 [TRACE] - [F<-T,N] For Endpoint Endpoint(127.0.0.1:62012), Took packet Request { sequence: 3, response_ack: Some(1), cookie: Some(\"b'RmlsdGVyTm90ZWJvb2tDbGllbnQ1MDg5'\"), action: JoinRoom { room_name: \"general\" } }\n",
      "Sun 2023-01-22 10:49:06.368418 [TRACE] - [T<-UDP] Request { sequence: 2, response_ack: Some(1), cookie: Some(\"b'RmlsdGVyTm90ZWJvb2tDbGllbnQ1MDg5'\"), action: NewRoom { room_name: \"general\" } }\n",
      "Sun 2023-01-22 10:49:06.371540 [TRACE] - [F<-T,N] For Endpoint Endpoint(127.0.0.1:62012), Took packet Request { sequence: 2, response_ack: Some(1), cookie: Some(\"b'RmlsdGVyTm90ZWJvb2tDbGllbnQ1MDg5'\"), action: NewRoom { room_name: \"general\" } }\n",
      "Sun 2023-01-22 10:49:06.548173 [TRACE] - [T<-UDP] Request { sequence: 3, response_ack: Some(1), cookie: Some(\"b'RmlsdGVyTm90ZWJvb2tDbGllbnQ1MDg5'\"), action: JoinRoom { room_name: \"general\" } }\n",
      "Sun 2023-01-22 10:49:06.558616 [TRACE] - [F<-T,N] For Endpoint Endpoint(127.0.0.1:62012), Took packet Request { sequence: 3, response_ack: Some(1), cookie: Some(\"b'RmlsdGVyTm90ZWJvb2tDbGllbnQ1MDg5'\"), action: JoinRoom { room_name: \"general\" } }\n",
      "Sun 2023-01-22 10:49:06.627864 [TRACE] - [T<-UDP] Request { sequence: 2, response_ack: Some(1), cookie: Some(\"b'RmlsdGVyTm90ZWJvb2tDbGllbnQ1MDg5'\"), action: NewRoom { room_name: \"general\" } }\n",
      "Sun 2023-01-22 10:49:06.652259 [TRACE] - [F<-T,N] For Endpoint Endpoint(127.0.0.1:62012), Took packet Request { sequence: 2, response_ack: Some(1), cookie: Some(\"b'RmlsdGVyTm90ZWJvb2tDbGllbnQ1MDg5'\"), action: NewRoom { room_name: \"general\" } }\n",
      "Sun 2023-01-22 10:49:06.798230 [TRACE] - [T<-UDP] Request { sequence: 3, response_ack: Some(1), cookie: Some(\"b'RmlsdGVyTm90ZWJvb2tDbGllbnQ1MDg5'\"), action: JoinRoom { room_name: \"general\" } }\n",
      "Sun 2023-01-22 10:49:06.807436 [TRACE] - [F<-T,N] For Endpoint Endpoint(127.0.0.1:62012), Took packet Request { sequence: 3, response_ack: Some(1), cookie: Some(\"b'RmlsdGVyTm90ZWJvb2tDbGllbnQ1MDg5'\"), action: JoinRoom { room_name: \"general\" } }\n",
      "Sun 2023-01-22 10:49:06.888088 [TRACE] - [T<-UDP] Request { sequence: 2, response_ack: Some(1), cookie: Some(\"b'RmlsdGVyTm90ZWJvb2tDbGllbnQ1MDg5'\"), action: NewRoom { room_name: \"general\" } }\n",
      "Sun 2023-01-22 10:49:06.900385 [TRACE] - [F<-T,N] For Endpoint Endpoint(127.0.0.1:62012), Took packet Request { sequence: 2, response_ack: Some(1), cookie: Some(\"b'RmlsdGVyTm90ZWJvb2tDbGllbnQ1MDg5'\"), action: NewRoom { room_name: \"general\" } }\n",
      "Sun 2023-01-22 10:49:07.058035 [TRACE] - [T<-UDP] Request { sequence: 3, response_ack: Some(1), cookie: Some(\"b'RmlsdGVyTm90ZWJvb2tDbGllbnQ1MDg5'\"), action: JoinRoom { room_name: \"general\" } }\n",
      "Sun 2023-01-22 10:49:07.086505 [TRACE] - [F<-T,N] For Endpoint Endpoint(127.0.0.1:62012), Took packet Request { sequence: 3, response_ack: Some(1), cookie: Some(\"b'RmlsdGVyTm90ZWJvb2tDbGllbnQ1MDg5'\"), action: JoinRoom { room_name: \"general\" } }\n",
      "Sun 2023-01-22 10:49:07.138291 [TRACE] - [T<-UDP] Request { sequence: 2, response_ack: Some(1), cookie: Some(\"b'RmlsdGVyTm90ZWJvb2tDbGllbnQ1MDg5'\"), action: NewRoom { room_name: \"general\" } }\n",
      "Sun 2023-01-22 10:49:07.148513 [TRACE] - [F<-T,N] For Endpoint Endpoint(127.0.0.1:62012), Took packet Request { sequence: 2, response_ack: Some(1), cookie: Some(\"b'RmlsdGVyTm90ZWJvb2tDbGllbnQ1MDg5'\"), action: NewRoom { room_name: \"general\" } }\n"
     ]
    },
    {
     "name": "stdout",
     "output_type": "stream",
     "text": [
      "Sun 2023-01-22 10:49:07.308067 [TRACE] - [T<-UDP] Request { sequence: 3, response_ack: Some(1), cookie: Some(\"b'RmlsdGVyTm90ZWJvb2tDbGllbnQ1MDg5'\"), action: JoinRoom { room_name: \"general\" } }\n",
      "Sun 2023-01-22 10:49:07.333665 [TRACE] - [F<-T,N] For Endpoint Endpoint(127.0.0.1:62012), Took packet Request { sequence: 3, response_ack: Some(1), cookie: Some(\"b'RmlsdGVyTm90ZWJvb2tDbGllbnQ1MDg5'\"), action: JoinRoom { room_name: \"general\" } }\n",
      "Sun 2023-01-22 10:49:07.397703 [TRACE] - [T<-UDP] Request { sequence: 2, response_ack: Some(1), cookie: Some(\"b'RmlsdGVyTm90ZWJvb2tDbGllbnQ1MDg5'\"), action: NewRoom { room_name: \"general\" } }\n",
      "Sun 2023-01-22 10:49:07.428238 [TRACE] - [F<-T,N] For Endpoint Endpoint(127.0.0.1:62012), Took packet Request { sequence: 2, response_ack: Some(1), cookie: Some(\"b'RmlsdGVyTm90ZWJvb2tDbGllbnQ1MDg5'\"), action: NewRoom { room_name: \"general\" } }\n",
      "Sun 2023-01-22 10:49:07.568136 [TRACE] - [T<-UDP] Request { sequence: 3, response_ack: Some(1), cookie: Some(\"b'RmlsdGVyTm90ZWJvb2tDbGllbnQ1MDg5'\"), action: JoinRoom { room_name: \"general\" } }\n",
      "Sun 2023-01-22 10:49:07.584498 [TRACE] - [F<-T,N] For Endpoint Endpoint(127.0.0.1:62012), Took packet Request { sequence: 3, response_ack: Some(1), cookie: Some(\"b'RmlsdGVyTm90ZWJvb2tDbGllbnQ1MDg5'\"), action: JoinRoom { room_name: \"general\" } }\n",
      "Sun 2023-01-22 10:49:07.647800 [TRACE] - [T<-UDP] Request { sequence: 2, response_ack: Some(1), cookie: Some(\"b'RmlsdGVyTm90ZWJvb2tDbGllbnQ1MDg5'\"), action: NewRoom { room_name: \"general\" } }\n",
      "Sun 2023-01-22 10:49:07.677463 [TRACE] - [F<-T,N] For Endpoint Endpoint(127.0.0.1:62012), Took packet Request { sequence: 2, response_ack: Some(1), cookie: Some(\"b'RmlsdGVyTm90ZWJvb2tDbGllbnQ1MDg5'\"), action: NewRoom { room_name: \"general\" } }\n",
      "Sun 2023-01-22 10:49:07.818537 [TRACE] - [T<-UDP] Request { sequence: 3, response_ack: Some(1), cookie: Some(\"b'RmlsdGVyTm90ZWJvb2tDbGllbnQ1MDg5'\"), action: JoinRoom { room_name: \"general\" } }\n",
      "Sun 2023-01-22 10:49:07.831770 [TRACE] - [F<-T,N] For Endpoint Endpoint(127.0.0.1:62012), Took packet Request { sequence: 3, response_ack: Some(1), cookie: Some(\"b'RmlsdGVyTm90ZWJvb2tDbGllbnQ1MDg5'\"), action: JoinRoom { room_name: \"general\" } }\n",
      "Sun 2023-01-22 10:49:07.898305 [TRACE] - [T<-UDP] Request { sequence: 2, response_ack: Some(1), cookie: Some(\"b'RmlsdGVyTm90ZWJvb2tDbGllbnQ1MDg5'\"), action: NewRoom { room_name: \"general\" } }\n",
      "Sun 2023-01-22 10:49:07.924767 [TRACE] - [F<-T,N] For Endpoint Endpoint(127.0.0.1:62012), Took packet Request { sequence: 2, response_ack: Some(1), cookie: Some(\"b'RmlsdGVyTm90ZWJvb2tDbGllbnQ1MDg5'\"), action: NewRoom { room_name: \"general\" } }\n",
      "Sun 2023-01-22 10:49:08.068650 [TRACE] - [T<-UDP] Request { sequence: 3, response_ack: Some(1), cookie: Some(\"b'RmlsdGVyTm90ZWJvb2tDbGllbnQ1MDg5'\"), action: JoinRoom { room_name: \"general\" } }\n",
      "Sun 2023-01-22 10:49:08.080947 [TRACE] - [F<-T,N] For Endpoint Endpoint(127.0.0.1:62012), Took packet Request { sequence: 3, response_ack: Some(1), cookie: Some(\"b'RmlsdGVyTm90ZWJvb2tDbGllbnQ1MDg5'\"), action: JoinRoom { room_name: \"general\" } }\n",
      "Sun 2023-01-22 10:49:08.158440 [TRACE] - [T<-UDP] Request { sequence: 2, response_ack: Some(1), cookie: Some(\"b'RmlsdGVyTm90ZWJvb2tDbGllbnQ1MDg5'\"), action: NewRoom { room_name: \"general\" } }\n",
      "Sun 2023-01-22 10:49:08.174869 [TRACE] - [F<-T,N] For Endpoint Endpoint(127.0.0.1:62012), Took packet Request { sequence: 2, response_ack: Some(1), cookie: Some(\"b'RmlsdGVyTm90ZWJvb2tDbGllbnQ1MDg5'\"), action: NewRoom { room_name: \"general\" } }\n",
      "Sun 2023-01-22 10:49:08.327722 [TRACE] - [T<-UDP] Request { sequence: 3, response_ack: Some(1), cookie: Some(\"b'RmlsdGVyTm90ZWJvb2tDbGllbnQ1MDg5'\"), action: JoinRoom { room_name: \"general\" } }\n",
      "Sun 2023-01-22 10:49:08.329824 [TRACE] - [F<-T,N] For Endpoint Endpoint(127.0.0.1:62012), Took packet Request { sequence: 3, response_ack: Some(1), cookie: Some(\"b'RmlsdGVyTm90ZWJvb2tDbGllbnQ1MDg5'\"), action: JoinRoom { room_name: \"general\" } }\n",
      "Sun 2023-01-22 10:49:08.418120 [TRACE] - [T<-UDP] Request { sequence: 2, response_ack: Some(1), cookie: Some(\"b'RmlsdGVyTm90ZWJvb2tDbGllbnQ1MDg5'\"), action: NewRoom { room_name: \"general\" } }\n",
      "Sun 2023-01-22 10:49:08.423321 [TRACE] - [F<-T,N] For Endpoint Endpoint(127.0.0.1:62012), Took packet Request { sequence: 2, response_ack: Some(1), cookie: Some(\"b'RmlsdGVyTm90ZWJvb2tDbGllbnQ1MDg5'\"), action: NewRoom { room_name: \"general\" } }\n",
      "Sun 2023-01-22 10:49:08.578149 [TRACE] - [T<-UDP] Request { sequence: 3, response_ack: Some(1), cookie: Some(\"b'RmlsdGVyTm90ZWJvb2tDbGllbnQ1MDg5'\"), action: JoinRoom { room_name: \"general\" } }\n",
      "Sun 2023-01-22 10:49:08.579245 [TRACE] - [F<-T,N] For Endpoint Endpoint(127.0.0.1:62012), Took packet Request { sequence: 3, response_ack: Some(1), cookie: Some(\"b'RmlsdGVyTm90ZWJvb2tDbGllbnQ1MDg5'\"), action: JoinRoom { room_name: \"general\" } }\n",
      "Sun 2023-01-22 10:49:08.678383 [TRACE] - [T<-UDP] Request { sequence: 2, response_ack: Some(1), cookie: Some(\"b'RmlsdGVyTm90ZWJvb2tDbGllbnQ1MDg5'\"), action: NewRoom { room_name: \"general\" } }\n",
      "Sun 2023-01-22 10:49:08.702794 [TRACE] - [F<-T,N] For Endpoint Endpoint(127.0.0.1:62012), Took packet Request { sequence: 2, response_ack: Some(1), cookie: Some(\"b'RmlsdGVyTm90ZWJvb2tDbGllbnQ1MDg5'\"), action: NewRoom { room_name: \"general\" } }\n",
      "Sun 2023-01-22 10:49:08.838188 [TRACE] - [T<-UDP] Request { sequence: 3, response_ack: Some(1), cookie: Some(\"b'RmlsdGVyTm90ZWJvb2tDbGllbnQ1MDg5'\"), action: JoinRoom { room_name: \"general\" } }\n",
      "Sun 2023-01-22 10:49:08.858575 [TRACE] - [F<-T,N] For Endpoint Endpoint(127.0.0.1:62012), Took packet Request { sequence: 3, response_ack: Some(1), cookie: Some(\"b'RmlsdGVyTm90ZWJvb2tDbGllbnQ1MDg5'\"), action: JoinRoom { room_name: \"general\" } }\n",
      "Sun 2023-01-22 10:49:08.928392 [TRACE] - [T<-UDP] Request { sequence: 2, response_ack: Some(1), cookie: Some(\"b'RmlsdGVyTm90ZWJvb2tDbGllbnQ1MDg5'\"), action: NewRoom { room_name: \"general\" } }\n",
      "Sun 2023-01-22 10:49:08.950770 [TRACE] - [F<-T,N] For Endpoint Endpoint(127.0.0.1:62012), Took packet Request { sequence: 2, response_ack: Some(1), cookie: Some(\"b'RmlsdGVyTm90ZWJvb2tDbGllbnQ1MDg5'\"), action: NewRoom { room_name: \"general\" } }\n",
      "Sun 2023-01-22 10:49:09.098329 [TRACE] - [T<-UDP] Request { sequence: 3, response_ack: Some(1), cookie: Some(\"b'RmlsdGVyTm90ZWJvb2tDbGllbnQ1MDg5'\"), action: JoinRoom { room_name: \"general\" } }\n",
      "Sun 2023-01-22 10:49:09.106546 [TRACE] - [F<-T,N] For Endpoint Endpoint(127.0.0.1:62012), Took packet Request { sequence: 3, response_ack: Some(1), cookie: Some(\"b'RmlsdGVyTm90ZWJvb2tDbGllbnQ1MDg5'\"), action: JoinRoom { room_name: \"general\" } }\n",
      "Sun 2023-01-22 10:49:09.188287 [TRACE] - [T<-UDP] Request { sequence: 2, response_ack: Some(1), cookie: Some(\"b'RmlsdGVyTm90ZWJvb2tDbGllbnQ1MDg5'\"), action: NewRoom { room_name: \"general\" } }\n",
      "Sun 2023-01-22 10:49:09.199582 [TRACE] - [F<-T,N] For Endpoint Endpoint(127.0.0.1:62012), Took packet Request { sequence: 2, response_ack: Some(1), cookie: Some(\"b'RmlsdGVyTm90ZWJvb2tDbGllbnQ1MDg5'\"), action: NewRoom { room_name: \"general\" } }\n",
      "Sun 2023-01-22 10:49:09.358068 [TRACE] - [T<-UDP] Request { sequence: 3, response_ack: Some(1), cookie: Some(\"b'RmlsdGVyTm90ZWJvb2tDbGllbnQ1MDg5'\"), action: JoinRoom { room_name: \"general\" } }\n",
      "Sun 2023-01-22 10:49:09.385576 [TRACE] - [F<-T,N] For Endpoint Endpoint(127.0.0.1:62012), Took packet Request { sequence: 3, response_ack: Some(1), cookie: Some(\"b'RmlsdGVyTm90ZWJvb2tDbGllbnQ1MDg5'\"), action: JoinRoom { room_name: \"general\" } }\n",
      "Sun 2023-01-22 10:49:09.438350 [TRACE] - [T<-UDP] Request { sequence: 2, response_ack: Some(1), cookie: Some(\"b'RmlsdGVyTm90ZWJvb2tDbGllbnQ1MDg5'\"), action: NewRoom { room_name: \"general\" } }\n",
      "Sun 2023-01-22 10:49:09.447525 [TRACE] - [F<-T,N] For Endpoint Endpoint(127.0.0.1:62012), Took packet Request { sequence: 2, response_ack: Some(1), cookie: Some(\"b'RmlsdGVyTm90ZWJvb2tDbGllbnQ1MDg5'\"), action: NewRoom { room_name: \"general\" } }\n",
      "Sun 2023-01-22 10:49:09.618125 [TRACE] - [T<-UDP] Request { sequence: 3, response_ack: Some(1), cookie: Some(\"b'RmlsdGVyTm90ZWJvb2tDbGllbnQ1MDg5'\"), action: JoinRoom { room_name: \"general\" } }\n",
      "Sun 2023-01-22 10:49:09.633358 [TRACE] - [F<-T,N] For Endpoint Endpoint(127.0.0.1:62012), Took packet Request { sequence: 3, response_ack: Some(1), cookie: Some(\"b'RmlsdGVyTm90ZWJvb2tDbGllbnQ1MDg5'\"), action: JoinRoom { room_name: \"general\" } }\n",
      "Sun 2023-01-22 10:49:09.698592 [TRACE] - [T<-UDP] Request { sequence: 2, response_ack: Some(1), cookie: Some(\"b'RmlsdGVyTm90ZWJvb2tDbGllbnQ1MDg5'\"), action: NewRoom { room_name: \"general\" } }\n",
      "Sun 2023-01-22 10:49:09.726138 [TRACE] - [F<-T,N] For Endpoint Endpoint(127.0.0.1:62012), Took packet Request { sequence: 2, response_ack: Some(1), cookie: Some(\"b'RmlsdGVyTm90ZWJvb2tDbGllbnQ1MDg5'\"), action: NewRoom { room_name: \"general\" } }\n"
     ]
    },
    {
     "name": "stdout",
     "output_type": "stream",
     "text": [
      "Sun 2023-01-22 10:49:09.878164 [TRACE] - [T<-UDP] Request { sequence: 3, response_ack: Some(1), cookie: Some(\"b'RmlsdGVyTm90ZWJvb2tDbGllbnQ1MDg5'\"), action: JoinRoom { room_name: \"general\" } }\n",
      "Sun 2023-01-22 10:49:09.881266 [TRACE] - [F<-T,N] For Endpoint Endpoint(127.0.0.1:62012), Took packet Request { sequence: 3, response_ack: Some(1), cookie: Some(\"b'RmlsdGVyTm90ZWJvb2tDbGllbnQ1MDg5'\"), action: JoinRoom { room_name: \"general\" } }\n",
      "Sun 2023-01-22 10:49:09.957699 [TRACE] - [T<-UDP] Request { sequence: 2, response_ack: Some(1), cookie: Some(\"b'RmlsdGVyTm90ZWJvb2tDbGllbnQ1MDg5'\"), action: NewRoom { room_name: \"general\" } }\n",
      "Sun 2023-01-22 10:49:09.973961 [TRACE] - [F<-T,N] For Endpoint Endpoint(127.0.0.1:62012), Took packet Request { sequence: 2, response_ack: Some(1), cookie: Some(\"b'RmlsdGVyTm90ZWJvb2tDbGllbnQ1MDg5'\"), action: NewRoom { room_name: \"general\" } }\n",
      "Sun 2023-01-22 10:49:10.128248 [TRACE] - [T<-UDP] Request { sequence: 3, response_ack: Some(1), cookie: Some(\"b'RmlsdGVyTm90ZWJvb2tDbGllbnQ1MDg5'\"), action: JoinRoom { room_name: \"general\" } }\n",
      "Sun 2023-01-22 10:49:10.129346 [TRACE] - [F<-T,N] For Endpoint Endpoint(127.0.0.1:62012), Took packet Request { sequence: 3, response_ack: Some(1), cookie: Some(\"b'RmlsdGVyTm90ZWJvb2tDbGllbnQ1MDg5'\"), action: JoinRoom { room_name: \"general\" } }\n",
      "Sun 2023-01-22 10:49:10.208656 [TRACE] - [T<-UDP] Request { sequence: 2, response_ack: Some(1), cookie: Some(\"b'RmlsdGVyTm90ZWJvb2tDbGllbnQ1MDg5'\"), action: NewRoom { room_name: \"general\" } }\n",
      "Sun 2023-01-22 10:49:10.222032 [TRACE] - [F<-T,N] For Endpoint Endpoint(127.0.0.1:62012), Took packet Request { sequence: 2, response_ack: Some(1), cookie: Some(\"b'RmlsdGVyTm90ZWJvb2tDbGllbnQ1MDg5'\"), action: NewRoom { room_name: \"general\" } }\n",
      "Sun 2023-01-22 10:49:10.388435 [TRACE] - [T<-UDP] Request { sequence: 3, response_ack: Some(1), cookie: Some(\"b'RmlsdGVyTm90ZWJvb2tDbGllbnQ1MDg5'\"), action: JoinRoom { room_name: \"general\" } }\n",
      "Sun 2023-01-22 10:49:10.409918 [TRACE] - [F<-T,N] For Endpoint Endpoint(127.0.0.1:62012), Took packet Request { sequence: 3, response_ack: Some(1), cookie: Some(\"b'RmlsdGVyTm90ZWJvb2tDbGllbnQ1MDg5'\"), action: JoinRoom { room_name: \"general\" } }\n",
      "Sun 2023-01-22 10:49:10.468012 [TRACE] - [T<-UDP] Request { sequence: 2, response_ack: Some(1), cookie: Some(\"b'RmlsdGVyTm90ZWJvb2tDbGllbnQ1MDg5'\"), action: NewRoom { room_name: \"general\" } }\n",
      "Sun 2023-01-22 10:49:10.472134 [TRACE] - [F<-T,N] For Endpoint Endpoint(127.0.0.1:62012), Took packet Request { sequence: 2, response_ack: Some(1), cookie: Some(\"b'RmlsdGVyTm90ZWJvb2tDbGllbnQ1MDg5'\"), action: NewRoom { room_name: \"general\" } }\n",
      "Sun 2023-01-22 10:49:10.648285 [TRACE] - [T<-UDP] Request { sequence: 3, response_ack: Some(1), cookie: Some(\"b'RmlsdGVyTm90ZWJvb2tDbGllbnQ1MDg5'\"), action: JoinRoom { room_name: \"general\" } }\n",
      "Sun 2023-01-22 10:49:10.662137 [TRACE] - [F<-T,N] For Endpoint Endpoint(127.0.0.1:62012), Took packet Request { sequence: 3, response_ack: Some(1), cookie: Some(\"b'RmlsdGVyTm90ZWJvb2tDbGllbnQ1MDg5'\"), action: JoinRoom { room_name: \"general\" } }\n",
      "Sun 2023-01-22 10:49:10.718559 [TRACE] - [T<-UDP] Request { sequence: 2, response_ack: Some(1), cookie: Some(\"b'RmlsdGVyTm90ZWJvb2tDbGllbnQ1MDg5'\"), action: NewRoom { room_name: \"general\" } }\n",
      "Sun 2023-01-22 10:49:10.723692 [TRACE] - [F<-T,N] For Endpoint Endpoint(127.0.0.1:62012), Took packet Request { sequence: 2, response_ack: Some(1), cookie: Some(\"b'RmlsdGVyTm90ZWJvb2tDbGllbnQ1MDg5'\"), action: NewRoom { room_name: \"general\" } }\n",
      "Sun 2023-01-22 10:49:10.898478 [TRACE] - [T<-UDP] Request { sequence: 3, response_ack: Some(1), cookie: Some(\"b'RmlsdGVyTm90ZWJvb2tDbGllbnQ1MDg5'\"), action: JoinRoom { room_name: \"general\" } }\n",
      "Sun 2023-01-22 10:49:10.910693 [TRACE] - [F<-T,N] For Endpoint Endpoint(127.0.0.1:62012), Took packet Request { sequence: 3, response_ack: Some(1), cookie: Some(\"b'RmlsdGVyTm90ZWJvb2tDbGllbnQ1MDg5'\"), action: JoinRoom { room_name: \"general\" } }\n",
      "Sun 2023-01-22 10:49:10.968601 [TRACE] - [T<-UDP] Request { sequence: 2, response_ack: Some(1), cookie: Some(\"b'RmlsdGVyTm90ZWJvb2tDbGllbnQ1MDg5'\"), action: NewRoom { room_name: \"general\" } }\n",
      "Sun 2023-01-22 10:49:10.972697 [TRACE] - [F<-T,N] For Endpoint Endpoint(127.0.0.1:62012), Took packet Request { sequence: 2, response_ack: Some(1), cookie: Some(\"b'RmlsdGVyTm90ZWJvb2tDbGllbnQ1MDg5'\"), action: NewRoom { room_name: \"general\" } }\n",
      "Sun 2023-01-22 10:49:11.158274 [TRACE] - [T<-UDP] Request { sequence: 3, response_ack: Some(1), cookie: Some(\"b'RmlsdGVyTm90ZWJvb2tDbGllbnQ1MDg5'\"), action: JoinRoom { room_name: \"general\" } }\n",
      "Sun 2023-01-22 10:49:11.159398 [TRACE] - [F<-T,N] For Endpoint Endpoint(127.0.0.1:62012), Took packet Request { sequence: 3, response_ack: Some(1), cookie: Some(\"b'RmlsdGVyTm90ZWJvb2tDbGllbnQ1MDg5'\"), action: JoinRoom { room_name: \"general\" } }\n",
      "Sun 2023-01-22 10:49:11.218638 [TRACE] - [T<-UDP] Request { sequence: 2, response_ack: Some(1), cookie: Some(\"b'RmlsdGVyTm90ZWJvb2tDbGllbnQ1MDg5'\"), action: NewRoom { room_name: \"general\" } }\n",
      "Sun 2023-01-22 10:49:11.220762 [TRACE] - [F<-T,N] For Endpoint Endpoint(127.0.0.1:62012), Took packet Request { sequence: 2, response_ack: Some(1), cookie: Some(\"b'RmlsdGVyTm90ZWJvb2tDbGllbnQ1MDg5'\"), action: NewRoom { room_name: \"general\" } }\n",
      "Sun 2023-01-22 10:49:11.408471 [TRACE] - [T<-UDP] Request { sequence: 3, response_ack: Some(1), cookie: Some(\"b'RmlsdGVyTm90ZWJvb2tDbGllbnQ1MDg5'\"), action: JoinRoom { room_name: \"general\" } }\n",
      "Sun 2023-01-22 10:49:11.437858 [TRACE] - [F<-T,N] For Endpoint Endpoint(127.0.0.1:62012), Took packet Request { sequence: 3, response_ack: Some(1), cookie: Some(\"b'RmlsdGVyTm90ZWJvb2tDbGllbnQ1MDg5'\"), action: JoinRoom { room_name: \"general\" } }\n",
      "Sun 2023-01-22 10:49:11.478682 [TRACE] - [T<-UDP] Request { sequence: 2, response_ack: Some(1), cookie: Some(\"b'RmlsdGVyTm90ZWJvb2tDbGllbnQ1MDg5'\"), action: NewRoom { room_name: \"general\" } }\n",
      "Sun 2023-01-22 10:49:11.500216 [TRACE] - [F<-T,N] For Endpoint Endpoint(127.0.0.1:62012), Took packet Request { sequence: 2, response_ack: Some(1), cookie: Some(\"b'RmlsdGVyTm90ZWJvb2tDbGllbnQ1MDg5'\"), action: NewRoom { room_name: \"general\" } }\n",
      "Sun 2023-01-22 10:49:11.658515 [TRACE] - [T<-UDP] Request { sequence: 3, response_ack: Some(1), cookie: Some(\"b'RmlsdGVyTm90ZWJvb2tDbGllbnQ1MDg5'\"), action: JoinRoom { room_name: \"general\" } }\n",
      "Sun 2023-01-22 10:49:11.686076 [TRACE] - [F<-T,N] For Endpoint Endpoint(127.0.0.1:62012), Took packet Request { sequence: 3, response_ack: Some(1), cookie: Some(\"b'RmlsdGVyTm90ZWJvb2tDbGllbnQ1MDg5'\"), action: JoinRoom { room_name: \"general\" } }\n",
      "Sun 2023-01-22 10:49:11.738218 [TRACE] - [T<-UDP] Request { sequence: 2, response_ack: Some(1), cookie: Some(\"b'RmlsdGVyTm90ZWJvb2tDbGllbnQ1MDg5'\"), action: NewRoom { room_name: \"general\" } }\n",
      "Sun 2023-01-22 10:49:11.748440 [TRACE] - [F<-T,N] For Endpoint Endpoint(127.0.0.1:62012), Took packet Request { sequence: 2, response_ack: Some(1), cookie: Some(\"b'RmlsdGVyTm90ZWJvb2tDbGllbnQ1MDg5'\"), action: NewRoom { room_name: \"general\" } }\n",
      "Sun 2023-01-22 10:49:11.918492 [TRACE] - [T<-UDP] Request { sequence: 3, response_ack: Some(1), cookie: Some(\"b'RmlsdGVyTm90ZWJvb2tDbGllbnQ1MDg5'\"), action: JoinRoom { room_name: \"general\" } }\n",
      "Sun 2023-01-22 10:49:11.934058 [TRACE] - [F<-T,N] For Endpoint Endpoint(127.0.0.1:62012), Took packet Request { sequence: 3, response_ack: Some(1), cookie: Some(\"b'RmlsdGVyTm90ZWJvb2tDbGllbnQ1MDg5'\"), action: JoinRoom { room_name: \"general\" } }\n",
      "Sun 2023-01-22 10:49:11.988594 [TRACE] - [T<-UDP] Request { sequence: 2, response_ack: Some(1), cookie: Some(\"b'RmlsdGVyTm90ZWJvb2tDbGllbnQ1MDg5'\"), action: NewRoom { room_name: \"general\" } }\n",
      "Sun 2023-01-22 10:49:11.996004 [TRACE] - [F<-T,N] For Endpoint Endpoint(127.0.0.1:62012), Took packet Request { sequence: 2, response_ack: Some(1), cookie: Some(\"b'RmlsdGVyTm90ZWJvb2tDbGllbnQ1MDg5'\"), action: NewRoom { room_name: \"general\" } }\n",
      "Sun 2023-01-22 10:49:12.178440 [TRACE] - [T<-UDP] Request { sequence: 3, response_ack: Some(1), cookie: Some(\"b'RmlsdGVyTm90ZWJvb2tDbGllbnQ1MDg5'\"), action: JoinRoom { room_name: \"general\" } }\n",
      "Sun 2023-01-22 10:49:12.184606 [TRACE] - [F<-T,N] For Endpoint Endpoint(127.0.0.1:62012), Took packet Request { sequence: 3, response_ack: Some(1), cookie: Some(\"b'RmlsdGVyTm90ZWJvb2tDbGllbnQ1MDg5'\"), action: JoinRoom { room_name: \"general\" } }\n",
      "Sun 2023-01-22 10:49:12.238605 [TRACE] - [T<-UDP] Request { sequence: 2, response_ack: Some(1), cookie: Some(\"b'RmlsdGVyTm90ZWJvb2tDbGllbnQ1MDg5'\"), action: NewRoom { room_name: \"general\" } }\n",
      "Sun 2023-01-22 10:49:12.246772 [TRACE] - [F<-T,N] For Endpoint Endpoint(127.0.0.1:62012), Took packet Request { sequence: 2, response_ack: Some(1), cookie: Some(\"b'RmlsdGVyTm90ZWJvb2tDbGllbnQ1MDg5'\"), action: NewRoom { room_name: \"general\" } }\n"
     ]
    },
    {
     "name": "stdout",
     "output_type": "stream",
     "text": [
      "Sun 2023-01-22 10:49:12.428556 [TRACE] - [T<-UDP] Request { sequence: 3, response_ack: Some(1), cookie: Some(\"b'RmlsdGVyTm90ZWJvb2tDbGllbnQ1MDg5'\"), action: JoinRoom { room_name: \"general\" } }\n",
      "Sun 2023-01-22 10:49:12.433671 [TRACE] - [F<-T,N] For Endpoint Endpoint(127.0.0.1:62012), Took packet Request { sequence: 3, response_ack: Some(1), cookie: Some(\"b'RmlsdGVyTm90ZWJvb2tDbGllbnQ1MDg5'\"), action: JoinRoom { room_name: \"general\" } }\n",
      "Sun 2023-01-22 10:49:12.498652 [TRACE] - [T<-UDP] Request { sequence: 2, response_ack: Some(1), cookie: Some(\"b'RmlsdGVyTm90ZWJvb2tDbGllbnQ1MDg5'\"), action: NewRoom { room_name: \"general\" } }\n",
      "Sun 2023-01-22 10:49:12.527162 [TRACE] - [F<-T,N] For Endpoint Endpoint(127.0.0.1:62012), Took packet Request { sequence: 2, response_ack: Some(1), cookie: Some(\"b'RmlsdGVyTm90ZWJvb2tDbGllbnQ1MDg5'\"), action: NewRoom { room_name: \"general\" } }\n",
      "Sun 2023-01-22 10:49:12.688451 [TRACE] - [T<-UDP] Request { sequence: 3, response_ack: Some(1), cookie: Some(\"b'RmlsdGVyTm90ZWJvb2tDbGllbnQ1MDg5'\"), action: JoinRoom { room_name: \"general\" } }\n",
      "Sun 2023-01-22 10:49:12.716320 [TRACE] - [F<-T,N] For Endpoint Endpoint(127.0.0.1:62012), Took packet Request { sequence: 3, response_ack: Some(1), cookie: Some(\"b'RmlsdGVyTm90ZWJvb2tDbGllbnQ1MDg5'\"), action: JoinRoom { room_name: \"general\" } }\n",
      "Sun 2023-01-22 10:49:12.758429 [TRACE] - [T<-UDP] Request { sequence: 2, response_ack: Some(1), cookie: Some(\"b'RmlsdGVyTm90ZWJvb2tDbGllbnQ1MDg5'\"), action: NewRoom { room_name: \"general\" } }\n",
      "Sun 2023-01-22 10:49:12.777898 [TRACE] - [F<-T,N] For Endpoint Endpoint(127.0.0.1:62012), Took packet Request { sequence: 2, response_ack: Some(1), cookie: Some(\"b'RmlsdGVyTm90ZWJvb2tDbGllbnQ1MDg5'\"), action: NewRoom { room_name: \"general\" } }\n",
      "Sun 2023-01-22 10:49:12.948544 [TRACE] - [T<-UDP] Request { sequence: 3, response_ack: Some(1), cookie: Some(\"b'RmlsdGVyTm90ZWJvb2tDbGllbnQ1MDg5'\"), action: JoinRoom { room_name: \"general\" } }\n",
      "Sun 2023-01-22 10:49:12.963932 [TRACE] - [F<-T,N] For Endpoint Endpoint(127.0.0.1:62012), Took packet Request { sequence: 3, response_ack: Some(1), cookie: Some(\"b'RmlsdGVyTm90ZWJvb2tDbGllbnQ1MDg5'\"), action: JoinRoom { room_name: \"general\" } }\n",
      "Sun 2023-01-22 10:49:13.018175 [TRACE] - [T<-UDP] Request { sequence: 2, response_ack: Some(1), cookie: Some(\"b'RmlsdGVyTm90ZWJvb2tDbGllbnQ1MDg5'\"), action: NewRoom { room_name: \"general\" } }\n",
      "Sun 2023-01-22 10:49:13.026365 [TRACE] - [F<-T,N] For Endpoint Endpoint(127.0.0.1:62012), Took packet Request { sequence: 2, response_ack: Some(1), cookie: Some(\"b'RmlsdGVyTm90ZWJvb2tDbGllbnQ1MDg5'\"), action: NewRoom { room_name: \"general\" } }\n",
      "Sun 2023-01-22 10:49:13.208202 [TRACE] - [T<-UDP] Request { sequence: 3, response_ack: Some(1), cookie: Some(\"b'RmlsdGVyTm90ZWJvb2tDbGllbnQ1MDg5'\"), action: JoinRoom { room_name: \"general\" } }\n",
      "Sun 2023-01-22 10:49:13.212310 [TRACE] - [F<-T,N] For Endpoint Endpoint(127.0.0.1:62012), Took packet Request { sequence: 3, response_ack: Some(1), cookie: Some(\"b'RmlsdGVyTm90ZWJvb2tDbGllbnQ1MDg5'\"), action: JoinRoom { room_name: \"general\" } }\n",
      "Sun 2023-01-22 10:49:13.278364 [TRACE] - [T<-UDP] Request { sequence: 2, response_ack: Some(1), cookie: Some(\"b'RmlsdGVyTm90ZWJvb2tDbGllbnQ1MDg5'\"), action: NewRoom { room_name: \"general\" } }\n",
      "Sun 2023-01-22 10:49:13.304778 [TRACE] - [F<-T,N] For Endpoint Endpoint(127.0.0.1:62012), Took packet Request { sequence: 2, response_ack: Some(1), cookie: Some(\"b'RmlsdGVyTm90ZWJvb2tDbGllbnQ1MDg5'\"), action: NewRoom { room_name: \"general\" } }\n",
      "Sun 2023-01-22 10:49:13.468356 [TRACE] - [T<-UDP] Request { sequence: 3, response_ack: Some(1), cookie: Some(\"b'RmlsdGVyTm90ZWJvb2tDbGllbnQ1MDg5'\"), action: JoinRoom { room_name: \"general\" } }\n",
      "Sun 2023-01-22 10:49:13.490761 [TRACE] - [F<-T,N] For Endpoint Endpoint(127.0.0.1:62012), Took packet Request { sequence: 3, response_ack: Some(1), cookie: Some(\"b'RmlsdGVyTm90ZWJvb2tDbGllbnQ1MDg5'\"), action: JoinRoom { room_name: \"general\" } }\n",
      "Sun 2023-01-22 10:49:13.528428 [TRACE] - [T<-UDP] Request { sequence: 2, response_ack: Some(1), cookie: Some(\"b'RmlsdGVyTm90ZWJvb2tDbGllbnQ1MDg5'\"), action: NewRoom { room_name: \"general\" } }\n",
      "Sun 2023-01-22 10:49:13.552833 [TRACE] - [F<-T,N] For Endpoint Endpoint(127.0.0.1:62012), Took packet Request { sequence: 2, response_ack: Some(1), cookie: Some(\"b'RmlsdGVyTm90ZWJvb2tDbGllbnQ1MDg5'\"), action: NewRoom { room_name: \"general\" } }\n",
      "Sun 2023-01-22 10:49:13.718476 [TRACE] - [T<-UDP] Request { sequence: 3, response_ack: Some(1), cookie: Some(\"b'RmlsdGVyTm90ZWJvb2tDbGllbnQ1MDg5'\"), action: JoinRoom { room_name: \"general\" } }\n",
      "Sun 2023-01-22 10:49:13.738953 [TRACE] - [F<-T,N] For Endpoint Endpoint(127.0.0.1:62012), Took packet Request { sequence: 3, response_ack: Some(1), cookie: Some(\"b'RmlsdGVyTm90ZWJvb2tDbGllbnQ1MDg5'\"), action: JoinRoom { room_name: \"general\" } }\n",
      "Sun 2023-01-22 10:49:13.778659 [TRACE] - [T<-UDP] Request { sequence: 2, response_ack: Some(1), cookie: Some(\"b'RmlsdGVyTm90ZWJvb2tDbGllbnQ1MDg5'\"), action: NewRoom { room_name: \"general\" } }\n",
      "Sun 2023-01-22 10:49:13.801155 [TRACE] - [F<-T,N] For Endpoint Endpoint(127.0.0.1:62012), Took packet Request { sequence: 2, response_ack: Some(1), cookie: Some(\"b'RmlsdGVyTm90ZWJvb2tDbGllbnQ1MDg5'\"), action: NewRoom { room_name: \"general\" } }\n",
      "Sun 2023-01-22 10:49:13.978207 [TRACE] - [T<-UDP] Request { sequence: 3, response_ack: Some(1), cookie: Some(\"b'RmlsdGVyTm90ZWJvb2tDbGllbnQ1MDg5'\"), action: JoinRoom { room_name: \"general\" } }\n",
      "Sun 2023-01-22 10:49:13.988380 [TRACE] - [F<-T,N] For Endpoint Endpoint(127.0.0.1:62012), Took packet Request { sequence: 3, response_ack: Some(1), cookie: Some(\"b'RmlsdGVyTm90ZWJvb2tDbGllbnQ1MDg5'\"), action: JoinRoom { room_name: \"general\" } }\n",
      "Sun 2023-01-22 10:49:14.038163 [TRACE] - [T<-UDP] Request { sequence: 2, response_ack: Some(1), cookie: Some(\"b'RmlsdGVyTm90ZWJvb2tDbGllbnQ1MDg5'\"), action: NewRoom { room_name: \"general\" } }\n",
      "Sun 2023-01-22 10:49:14.050394 [TRACE] - [F<-T,N] For Endpoint Endpoint(127.0.0.1:62012), Took packet Request { sequence: 2, response_ack: Some(1), cookie: Some(\"b'RmlsdGVyTm90ZWJvb2tDbGllbnQ1MDg5'\"), action: NewRoom { room_name: \"general\" } }\n",
      "Sun 2023-01-22 10:49:14.238307 [TRACE] - [T<-UDP] Request { sequence: 3, response_ack: Some(1), cookie: Some(\"b'RmlsdGVyTm90ZWJvb2tDbGllbnQ1MDg5'\"), action: JoinRoom { room_name: \"general\" } }\n",
      "Sun 2023-01-22 10:49:14.266738 [TRACE] - [F<-T,N] For Endpoint Endpoint(127.0.0.1:62012), Took packet Request { sequence: 3, response_ack: Some(1), cookie: Some(\"b'RmlsdGVyTm90ZWJvb2tDbGllbnQ1MDg5'\"), action: JoinRoom { room_name: \"general\" } }\n",
      "Sun 2023-01-22 10:49:14.298257 [TRACE] - [T<-UDP] Request { sequence: 2, response_ack: Some(1), cookie: Some(\"b'RmlsdGVyTm90ZWJvb2tDbGllbnQ1MDg5'\"), action: NewRoom { room_name: \"general\" } }\n",
      "Sun 2023-01-22 10:49:14.329115 [TRACE] - [F<-T,N] For Endpoint Endpoint(127.0.0.1:62012), Took packet Request { sequence: 2, response_ack: Some(1), cookie: Some(\"b'RmlsdGVyTm90ZWJvb2tDbGllbnQ1MDg5'\"), action: NewRoom { room_name: \"general\" } }\n",
      "Sun 2023-01-22 10:49:14.488501 [TRACE] - [T<-UDP] Request { sequence: 3, response_ack: Some(1), cookie: Some(\"b'RmlsdGVyTm90ZWJvb2tDbGllbnQ1MDg5'\"), action: JoinRoom { room_name: \"general\" } }\n",
      "Sun 2023-01-22 10:49:14.514985 [TRACE] - [F<-T,N] For Endpoint Endpoint(127.0.0.1:62012), Took packet Request { sequence: 3, response_ack: Some(1), cookie: Some(\"b'RmlsdGVyTm90ZWJvb2tDbGllbnQ1MDg5'\"), action: JoinRoom { room_name: \"general\" } }\n",
      "Sun 2023-01-22 10:49:14.558183 [TRACE] - [T<-UDP] Request { sequence: 2, response_ack: Some(1), cookie: Some(\"b'RmlsdGVyTm90ZWJvb2tDbGllbnQ1MDg5'\"), action: NewRoom { room_name: \"general\" } }\n",
      "Sun 2023-01-22 10:49:14.577646 [TRACE] - [F<-T,N] For Endpoint Endpoint(127.0.0.1:62012), Took packet Request { sequence: 2, response_ack: Some(1), cookie: Some(\"b'RmlsdGVyTm90ZWJvb2tDbGllbnQ1MDg5'\"), action: NewRoom { room_name: \"general\" } }\n",
      "Sun 2023-01-22 10:49:14.748197 [TRACE] - [T<-UDP] Request { sequence: 3, response_ack: Some(1), cookie: Some(\"b'RmlsdGVyTm90ZWJvb2tDbGllbnQ1MDg5'\"), action: JoinRoom { room_name: \"general\" } }\n",
      "Sun 2023-01-22 10:49:14.765657 [TRACE] - [F<-T,N] For Endpoint Endpoint(127.0.0.1:62012), Took packet Request { sequence: 3, response_ack: Some(1), cookie: Some(\"b'RmlsdGVyTm90ZWJvb2tDbGllbnQ1MDg5'\"), action: JoinRoom { room_name: \"general\" } }\n",
      "Sun 2023-01-22 10:49:14.808539 [TRACE] - [T<-UDP] Request { sequence: 2, response_ack: Some(1), cookie: Some(\"b'RmlsdGVyTm90ZWJvb2tDbGllbnQ1MDg5'\"), action: NewRoom { room_name: \"general\" } }\n",
      "Sun 2023-01-22 10:49:14.827968 [TRACE] - [F<-T,N] For Endpoint Endpoint(127.0.0.1:62012), Took packet Request { sequence: 2, response_ack: Some(1), cookie: Some(\"b'RmlsdGVyTm90ZWJvb2tDbGllbnQ1MDg5'\"), action: NewRoom { room_name: \"general\" } }\n"
     ]
    },
    {
     "name": "stdout",
     "output_type": "stream",
     "text": [
      "Sun 2023-01-22 10:49:15.008212 [TRACE] - [T<-UDP] Request { sequence: 3, response_ack: Some(1), cookie: Some(\"b'RmlsdGVyTm90ZWJvb2tDbGllbnQ1MDg5'\"), action: JoinRoom { room_name: \"general\" } }\n",
      "Sun 2023-01-22 10:49:15.014419 [TRACE] - [F<-T,N] For Endpoint Endpoint(127.0.0.1:62012), Took packet Request { sequence: 3, response_ack: Some(1), cookie: Some(\"b'RmlsdGVyTm90ZWJvb2tDbGllbnQ1MDg5'\"), action: JoinRoom { room_name: \"general\" } }\n",
      "Sun 2023-01-22 10:49:15.068411 [TRACE] - [T<-UDP] Request { sequence: 2, response_ack: Some(1), cookie: Some(\"b'RmlsdGVyTm90ZWJvb2tDbGllbnQ1MDg5'\"), action: NewRoom { room_name: \"general\" } }\n",
      "Sun 2023-01-22 10:49:15.076620 [TRACE] - [F<-T,N] For Endpoint Endpoint(127.0.0.1:62012), Took packet Request { sequence: 2, response_ack: Some(1), cookie: Some(\"b'RmlsdGVyTm90ZWJvb2tDbGllbnQ1MDg5'\"), action: NewRoom { room_name: \"general\" } }\n",
      "Sun 2023-01-22 10:49:15.258342 [TRACE] - [T<-UDP] Request { sequence: 3, response_ack: Some(1), cookie: Some(\"b'RmlsdGVyTm90ZWJvb2tDbGllbnQ1MDg5'\"), action: JoinRoom { room_name: \"general\" } }\n",
      "Sun 2023-01-22 10:49:15.263484 [TRACE] - [F<-T,N] For Endpoint Endpoint(127.0.0.1:62012), Took packet Request { sequence: 3, response_ack: Some(1), cookie: Some(\"b'RmlsdGVyTm90ZWJvb2tDbGllbnQ1MDg5'\"), action: JoinRoom { room_name: \"general\" } }\n",
      "Sun 2023-01-22 10:49:15.318540 [TRACE] - [T<-UDP] Request { sequence: 2, response_ack: Some(1), cookie: Some(\"b'RmlsdGVyTm90ZWJvb2tDbGllbnQ1MDg5'\"), action: NewRoom { room_name: \"general\" } }\n",
      "Sun 2023-01-22 10:49:15.324759 [TRACE] - [F<-T,N] For Endpoint Endpoint(127.0.0.1:62012), Took packet Request { sequence: 2, response_ack: Some(1), cookie: Some(\"b'RmlsdGVyTm90ZWJvb2tDbGllbnQ1MDg5'\"), action: NewRoom { room_name: \"general\" } }\n",
      "Sun 2023-01-22 10:49:15.518494 [TRACE] - [T<-UDP] Request { sequence: 3, response_ack: Some(1), cookie: Some(\"b'RmlsdGVyTm90ZWJvb2tDbGllbnQ1MDg5'\"), action: JoinRoom { room_name: \"general\" } }\n",
      "Sun 2023-01-22 10:49:15.541942 [TRACE] - [F<-T,N] For Endpoint Endpoint(127.0.0.1:62012), Took packet Request { sequence: 3, response_ack: Some(1), cookie: Some(\"b'RmlsdGVyTm90ZWJvb2tDbGllbnQ1MDg5'\"), action: JoinRoom { room_name: \"general\" } }\n",
      "Sun 2023-01-22 10:49:15.568593 [TRACE] - [T<-UDP] Request { sequence: 2, response_ack: Some(1), cookie: Some(\"b'RmlsdGVyTm90ZWJvb2tDbGllbnQ1MDg5'\"), action: NewRoom { room_name: \"general\" } }\n",
      "Sun 2023-01-22 10:49:15.572724 [TRACE] - [F<-T,N] For Endpoint Endpoint(127.0.0.1:62012), Took packet Request { sequence: 2, response_ack: Some(1), cookie: Some(\"b'RmlsdGVyTm90ZWJvb2tDbGllbnQ1MDg5'\"), action: NewRoom { room_name: \"general\" } }\n",
      "Sun 2023-01-22 10:49:15.768615 [TRACE] - [T<-UDP] Request { sequence: 3, response_ack: Some(1), cookie: Some(\"b'RmlsdGVyTm90ZWJvb2tDbGllbnQ1MDg5'\"), action: JoinRoom { room_name: \"general\" } }\n",
      "Sun 2023-01-22 10:49:15.790149 [TRACE] - [F<-T,N] For Endpoint Endpoint(127.0.0.1:62012), Took packet Request { sequence: 3, response_ack: Some(1), cookie: Some(\"b'RmlsdGVyTm90ZWJvb2tDbGllbnQ1MDg5'\"), action: JoinRoom { room_name: \"general\" } }\n",
      "Sun 2023-01-22 10:49:15.827971 [TRACE] - [T<-UDP] Request { sequence: 2, response_ack: Some(1), cookie: Some(\"b'RmlsdGVyTm90ZWJvb2tDbGllbnQ1MDg5'\"), action: NewRoom { room_name: \"general\" } }\n",
      "Sun 2023-01-22 10:49:15.852623 [TRACE] - [F<-T,N] For Endpoint Endpoint(127.0.0.1:62012), Took packet Request { sequence: 2, response_ack: Some(1), cookie: Some(\"b'RmlsdGVyTm90ZWJvb2tDbGllbnQ1MDg5'\"), action: NewRoom { room_name: \"general\" } }\n",
      "Sun 2023-01-22 10:49:16.018656 [TRACE] - [T<-UDP] Request { sequence: 3, response_ack: Some(1), cookie: Some(\"b'RmlsdGVyTm90ZWJvb2tDbGllbnQ1MDg5'\"), action: JoinRoom { room_name: \"general\" } }\n",
      "Sun 2023-01-22 10:49:16.039353 [TRACE] - [F<-T,N] For Endpoint Endpoint(127.0.0.1:62012), Took packet Request { sequence: 3, response_ack: Some(1), cookie: Some(\"b'RmlsdGVyTm90ZWJvb2tDbGllbnQ1MDg5'\"), action: JoinRoom { room_name: \"general\" } }\n",
      "Sun 2023-01-22 10:49:16.078163 [TRACE] - [T<-UDP] Request { sequence: 2, response_ack: Some(1), cookie: Some(\"b'RmlsdGVyTm90ZWJvb2tDbGllbnQ1MDg5'\"), action: NewRoom { room_name: \"general\" } }\n",
      "Sun 2023-01-22 10:49:16.100864 [TRACE] - [F<-T,N] For Endpoint Endpoint(127.0.0.1:62012), Took packet Request { sequence: 2, response_ack: Some(1), cookie: Some(\"b'RmlsdGVyTm90ZWJvb2tDbGllbnQ1MDg5'\"), action: NewRoom { room_name: \"general\" } }\n",
      "Sun 2023-01-22 10:49:16.278677 [TRACE] - [T<-UDP] Request { sequence: 3, response_ack: Some(1), cookie: Some(\"b'RmlsdGVyTm90ZWJvb2tDbGllbnQ1MDg5'\"), action: JoinRoom { room_name: \"general\" } }\n",
      "Sun 2023-01-22 10:49:16.286886 [TRACE] - [F<-T,N] For Endpoint Endpoint(127.0.0.1:62012), Took packet Request { sequence: 3, response_ack: Some(1), cookie: Some(\"b'RmlsdGVyTm90ZWJvb2tDbGllbnQ1MDg5'\"), action: JoinRoom { room_name: \"general\" } }\n",
      "Sun 2023-01-22 10:49:16.337889 [TRACE] - [T<-UDP] Request { sequence: 2, response_ack: Some(1), cookie: Some(\"b'RmlsdGVyTm90ZWJvb2tDbGllbnQ1MDg5'\"), action: NewRoom { room_name: \"general\" } }\n",
      "Sun 2023-01-22 10:49:16.349163 [TRACE] - [F<-T,N] For Endpoint Endpoint(127.0.0.1:62012), Took packet Request { sequence: 2, response_ack: Some(1), cookie: Some(\"b'RmlsdGVyTm90ZWJvb2tDbGllbnQ1MDg5'\"), action: NewRoom { room_name: \"general\" } }\n",
      "Sun 2023-01-22 10:49:16.538415 [TRACE] - [T<-UDP] Request { sequence: 3, response_ack: Some(1), cookie: Some(\"b'RmlsdGVyTm90ZWJvb2tDbGllbnQ1MDg5'\"), action: JoinRoom { room_name: \"general\" } }\n",
      "Sun 2023-01-22 10:49:16.565973 [TRACE] - [F<-T,N] For Endpoint Endpoint(127.0.0.1:62012), Took packet Request { sequence: 3, response_ack: Some(1), cookie: Some(\"b'RmlsdGVyTm90ZWJvb2tDbGllbnQ1MDg5'\"), action: JoinRoom { room_name: \"general\" } }\n",
      "Sun 2023-01-22 10:49:16.588351 [TRACE] - [T<-UDP] Request { sequence: 2, response_ack: Some(1), cookie: Some(\"b'RmlsdGVyTm90ZWJvb2tDbGllbnQ1MDg5'\"), action: NewRoom { room_name: \"general\" } }\n",
      "Sun 2023-01-22 10:49:16.597523 [TRACE] - [F<-T,N] For Endpoint Endpoint(127.0.0.1:62012), Took packet Request { sequence: 2, response_ack: Some(1), cookie: Some(\"b'RmlsdGVyTm90ZWJvb2tDbGllbnQ1MDg5'\"), action: NewRoom { room_name: \"general\" } }\n",
      "Sun 2023-01-22 10:49:16.798536 [TRACE] - [T<-UDP] Request { sequence: 3, response_ack: Some(1), cookie: Some(\"b'RmlsdGVyTm90ZWJvb2tDbGllbnQ1MDg5'\"), action: JoinRoom { room_name: \"general\" } }\n",
      "Sun 2023-01-22 10:49:16.814917 [TRACE] - [F<-T,N] For Endpoint Endpoint(127.0.0.1:62012), Took packet Request { sequence: 3, response_ack: Some(1), cookie: Some(\"b'RmlsdGVyTm90ZWJvb2tDbGllbnQ1MDg5'\"), action: JoinRoom { room_name: \"general\" } }\n",
      "Sun 2023-01-22 10:49:16.848588 [TRACE] - [T<-UDP] Request { sequence: 2, response_ack: Some(1), cookie: Some(\"b'RmlsdGVyTm90ZWJvb2tDbGllbnQ1MDg5'\"), action: NewRoom { room_name: \"general\" } }\n",
      "Sun 2023-01-22 10:49:16.877165 [TRACE] - [F<-T,N] For Endpoint Endpoint(127.0.0.1:62012), Took packet Request { sequence: 2, response_ack: Some(1), cookie: Some(\"b'RmlsdGVyTm90ZWJvb2tDbGllbnQ1MDg5'\"), action: NewRoom { room_name: \"general\" } }\n",
      "Sun 2023-01-22 10:49:17.057792 [TRACE] - [T<-UDP] Request { sequence: 3, response_ack: Some(1), cookie: Some(\"b'RmlsdGVyTm90ZWJvb2tDbGllbnQ1MDg5'\"), action: JoinRoom { room_name: \"general\" } }\n",
      "Sun 2023-01-22 10:49:17.062955 [TRACE] - [F<-T,N] For Endpoint Endpoint(127.0.0.1:62012), Took packet Request { sequence: 3, response_ack: Some(1), cookie: Some(\"b'RmlsdGVyTm90ZWJvb2tDbGllbnQ1MDg5'\"), action: JoinRoom { room_name: \"general\" } }\n",
      "Sun 2023-01-22 10:49:17.108594 [TRACE] - [T<-UDP] Request { sequence: 2, response_ack: Some(1), cookie: Some(\"b'RmlsdGVyTm90ZWJvb2tDbGllbnQ1MDg5'\"), action: NewRoom { room_name: \"general\" } }\n",
      "Sun 2023-01-22 10:49:17.124914 [TRACE] - [F<-T,N] For Endpoint Endpoint(127.0.0.1:62012), Took packet Request { sequence: 2, response_ack: Some(1), cookie: Some(\"b'RmlsdGVyTm90ZWJvb2tDbGllbnQ1MDg5'\"), action: NewRoom { room_name: \"general\" } }\n",
      "Sun 2023-01-22 10:49:17.307877 [TRACE] - [T<-UDP] Request { sequence: 3, response_ack: Some(1), cookie: Some(\"b'RmlsdGVyTm90ZWJvb2tDbGllbnQ1MDg5'\"), action: JoinRoom { room_name: \"general\" } }\n",
      "Sun 2023-01-22 10:49:17.310980 [TRACE] - [F<-T,N] For Endpoint Endpoint(127.0.0.1:62012), Took packet Request { sequence: 3, response_ack: Some(1), cookie: Some(\"b'RmlsdGVyTm90ZWJvb2tDbGllbnQ1MDg5'\"), action: JoinRoom { room_name: \"general\" } }\n",
      "Sun 2023-01-22 10:49:17.367972 [TRACE] - [T<-UDP] Request { sequence: 2, response_ack: Some(1), cookie: Some(\"b'RmlsdGVyTm90ZWJvb2tDbGllbnQ1MDg5'\"), action: NewRoom { room_name: \"general\" } }\n",
      "Sun 2023-01-22 10:49:17.373076 [TRACE] - [F<-T,N] For Endpoint Endpoint(127.0.0.1:62012), Took packet Request { sequence: 2, response_ack: Some(1), cookie: Some(\"b'RmlsdGVyTm90ZWJvb2tDbGllbnQ1MDg5'\"), action: NewRoom { room_name: \"general\" } }\n"
     ]
    },
    {
     "name": "stdout",
     "output_type": "stream",
     "text": [
      "Sun 2023-01-22 10:49:17.567923 [TRACE] - [T<-UDP] Request { sequence: 3, response_ack: Some(1), cookie: Some(\"b'RmlsdGVyTm90ZWJvb2tDbGllbnQ1MDg5'\"), action: JoinRoom { room_name: \"general\" } }\n",
      "Sun 2023-01-22 10:49:17.590633 [TRACE] - [F<-T,N] For Endpoint Endpoint(127.0.0.1:62012), Took packet Request { sequence: 3, response_ack: Some(1), cookie: Some(\"b'RmlsdGVyTm90ZWJvb2tDbGllbnQ1MDg5'\"), action: JoinRoom { room_name: \"general\" } }\n",
      "Sun 2023-01-22 10:49:17.618195 [TRACE] - [T<-UDP] Request { sequence: 2, response_ack: Some(1), cookie: Some(\"b'RmlsdGVyTm90ZWJvb2tDbGllbnQ1MDg5'\"), action: NewRoom { room_name: \"general\" } }\n",
      "Sun 2023-01-22 10:49:17.622320 [TRACE] - [F<-T,N] For Endpoint Endpoint(127.0.0.1:62012), Took packet Request { sequence: 2, response_ack: Some(1), cookie: Some(\"b'RmlsdGVyTm90ZWJvb2tDbGllbnQ1MDg5'\"), action: NewRoom { room_name: \"general\" } }\n",
      "Sun 2023-01-22 10:49:17.818237 [TRACE] - [T<-UDP] Request { sequence: 3, response_ack: Some(1), cookie: Some(\"b'RmlsdGVyTm90ZWJvb2tDbGllbnQ1MDg5'\"), action: JoinRoom { room_name: \"general\" } }\n",
      "Sun 2023-01-22 10:49:17.839752 [TRACE] - [F<-T,N] For Endpoint Endpoint(127.0.0.1:62012), Took packet Request { sequence: 3, response_ack: Some(1), cookie: Some(\"b'RmlsdGVyTm90ZWJvb2tDbGllbnQ1MDg5'\"), action: JoinRoom { room_name: \"general\" } }\n",
      "Sun 2023-01-22 10:49:17.868290 [TRACE] - [T<-UDP] Request { sequence: 2, response_ack: Some(1), cookie: Some(\"b'RmlsdGVyTm90ZWJvb2tDbGllbnQ1MDg5'\"), action: NewRoom { room_name: \"general\" } }\n",
      "Sun 2023-01-22 10:49:17.871583 [TRACE] - [F<-T,N] For Endpoint Endpoint(127.0.0.1:62012), Took packet Request { sequence: 2, response_ack: Some(1), cookie: Some(\"b'RmlsdGVyTm90ZWJvb2tDbGllbnQ1MDg5'\"), action: NewRoom { room_name: \"general\" } }\n",
      "Sun 2023-01-22 10:49:18.078305 [TRACE] - [T<-UDP] Request { sequence: 3, response_ack: Some(1), cookie: Some(\"b'RmlsdGVyTm90ZWJvb2tDbGllbnQ1MDg5'\"), action: JoinRoom { room_name: \"general\" } }\n",
      "Sun 2023-01-22 10:49:18.087918 [TRACE] - [F<-T,N] For Endpoint Endpoint(127.0.0.1:62012), Took packet Request { sequence: 3, response_ack: Some(1), cookie: Some(\"b'RmlsdGVyTm90ZWJvb2tDbGllbnQ1MDg5'\"), action: JoinRoom { room_name: \"general\" } }\n",
      "Sun 2023-01-22 10:49:18.118523 [TRACE] - [T<-UDP] Request { sequence: 2, response_ack: Some(1), cookie: Some(\"b'RmlsdGVyTm90ZWJvb2tDbGllbnQ1MDg5'\"), action: NewRoom { room_name: \"general\" } }\n",
      "Sun 2023-01-22 10:49:18.119667 [TRACE] - [F<-T,N] For Endpoint Endpoint(127.0.0.1:62012), Took packet Request { sequence: 2, response_ack: Some(1), cookie: Some(\"b'RmlsdGVyTm90ZWJvb2tDbGllbnQ1MDg5'\"), action: NewRoom { room_name: \"general\" } }\n",
      "Sun 2023-01-22 10:49:18.337823 [TRACE] - [T<-UDP] Request { sequence: 3, response_ack: Some(1), cookie: Some(\"b'RmlsdGVyTm90ZWJvb2tDbGllbnQ1MDg5'\"), action: JoinRoom { room_name: \"general\" } }\n",
      "Sun 2023-01-22 10:49:18.368623 [TRACE] - [T<-UDP] Request { sequence: 2, response_ack: Some(1), cookie: Some(\"b'RmlsdGVyTm90ZWJvb2tDbGllbnQ1MDg5'\"), action: NewRoom { room_name: \"general\" } }\n",
      "Sun 2023-01-22 10:49:18.368640 [TRACE] - [F<-T,N] For Endpoint Endpoint(127.0.0.1:62012), Took packet Request { sequence: 3, response_ack: Some(1), cookie: Some(\"b'RmlsdGVyTm90ZWJvb2tDbGllbnQ1MDg5'\"), action: JoinRoom { room_name: \"general\" } }\n",
      "Sun 2023-01-22 10:49:18.400378 [TRACE] - [F<-T,N] For Endpoint Endpoint(127.0.0.1:62012), Took packet Request { sequence: 2, response_ack: Some(1), cookie: Some(\"b'RmlsdGVyTm90ZWJvb2tDbGllbnQ1MDg5'\"), action: NewRoom { room_name: \"general\" } }\n",
      "Sun 2023-01-22 10:49:18.588562 [TRACE] - [T<-UDP] Request { sequence: 3, response_ack: Some(1), cookie: Some(\"b'RmlsdGVyTm90ZWJvb2tDbGllbnQ1MDg5'\"), action: JoinRoom { room_name: \"general\" } }\n",
      "Sun 2023-01-22 10:49:18.618233 [TRACE] - [F<-T,N] For Endpoint Endpoint(127.0.0.1:62012), Took packet Request { sequence: 3, response_ack: Some(1), cookie: Some(\"b'RmlsdGVyTm90ZWJvb2tDbGllbnQ1MDg5'\"), action: JoinRoom { room_name: \"general\" } }\n",
      "Sun 2023-01-22 10:49:18.628541 [TRACE] - [T<-UDP] Request { sequence: 2, response_ack: Some(1), cookie: Some(\"b'RmlsdGVyTm90ZWJvb2tDbGllbnQ1MDg5'\"), action: NewRoom { room_name: \"general\" } }\n",
      "Sun 2023-01-22 10:49:18.648963 [TRACE] - [F<-T,N] For Endpoint Endpoint(127.0.0.1:62012), Took packet Request { sequence: 2, response_ack: Some(1), cookie: Some(\"b'RmlsdGVyTm90ZWJvb2tDbGllbnQ1MDg5'\"), action: NewRoom { room_name: \"general\" } }\n",
      "Sun 2023-01-22 10:49:18.847906 [TRACE] - [T<-UDP] Request { sequence: 3, response_ack: Some(1), cookie: Some(\"b'RmlsdGVyTm90ZWJvb2tDbGllbnQ1MDg5'\"), action: JoinRoom { room_name: \"general\" } }\n",
      "Sun 2023-01-22 10:49:18.866243 [TRACE] - [F<-T,N] For Endpoint Endpoint(127.0.0.1:62012), Took packet Request { sequence: 3, response_ack: Some(1), cookie: Some(\"b'RmlsdGVyTm90ZWJvb2tDbGllbnQ1MDg5'\"), action: JoinRoom { room_name: \"general\" } }\n",
      "Sun 2023-01-22 10:49:18.888647 [TRACE] - [T<-UDP] Request { sequence: 2, response_ack: Some(1), cookie: Some(\"b'RmlsdGVyTm90ZWJvb2tDbGllbnQ1MDg5'\"), action: NewRoom { room_name: \"general\" } }\n",
      "Sun 2023-01-22 10:49:18.896810 [TRACE] - [F<-T,N] For Endpoint Endpoint(127.0.0.1:62012), Took packet Request { sequence: 2, response_ack: Some(1), cookie: Some(\"b'RmlsdGVyTm90ZWJvb2tDbGllbnQ1MDg5'\"), action: NewRoom { room_name: \"general\" } }\n",
      "Sun 2023-01-22 10:49:19.107987 [TRACE] - [T<-UDP] Request { sequence: 3, response_ack: Some(1), cookie: Some(\"b'RmlsdGVyTm90ZWJvb2tDbGllbnQ1MDg5'\"), action: JoinRoom { room_name: \"general\" } }\n",
      "Sun 2023-01-22 10:49:19.114201 [TRACE] - [F<-T,N] For Endpoint Endpoint(127.0.0.1:62012), Took packet Request { sequence: 3, response_ack: Some(1), cookie: Some(\"b'RmlsdGVyTm90ZWJvb2tDbGllbnQ1MDg5'\"), action: JoinRoom { room_name: \"general\" } }\n",
      "Sun 2023-01-22 10:49:19.138657 [TRACE] - [T<-UDP] Request { sequence: 2, response_ack: Some(1), cookie: Some(\"b'RmlsdGVyTm90ZWJvb2tDbGllbnQ1MDg5'\"), action: NewRoom { room_name: \"general\" } }\n",
      "Sun 2023-01-22 10:49:19.144815 [TRACE] - [F<-T,N] For Endpoint Endpoint(127.0.0.1:62012), Took packet Request { sequence: 2, response_ack: Some(1), cookie: Some(\"b'RmlsdGVyTm90ZWJvb2tDbGllbnQ1MDg5'\"), action: NewRoom { room_name: \"general\" } }\n",
      "Sun 2023-01-22 10:49:19.358257 [TRACE] - [T<-UDP] Request { sequence: 3, response_ack: Some(1), cookie: Some(\"b'RmlsdGVyTm90ZWJvb2tDbGllbnQ1MDg5'\"), action: JoinRoom { room_name: \"general\" } }\n",
      "Sun 2023-01-22 10:49:19.362390 [TRACE] - [F<-T,N] For Endpoint Endpoint(127.0.0.1:62012), Took packet Request { sequence: 3, response_ack: Some(1), cookie: Some(\"b'RmlsdGVyTm90ZWJvb2tDbGllbnQ1MDg5'\"), action: JoinRoom { room_name: \"general\" } }\n",
      "Sun 2023-01-22 10:49:19.398158 [TRACE] - [T<-UDP] Request { sequence: 2, response_ack: Some(1), cookie: Some(\"b'RmlsdGVyTm90ZWJvb2tDbGllbnQ1MDg5'\"), action: NewRoom { room_name: \"general\" } }\n",
      "Sun 2023-01-22 10:49:19.424610 [TRACE] - [F<-T,N] For Endpoint Endpoint(127.0.0.1:62012), Took packet Request { sequence: 2, response_ack: Some(1), cookie: Some(\"b'RmlsdGVyTm90ZWJvb2tDbGllbnQ1MDg5'\"), action: NewRoom { room_name: \"general\" } }\n",
      "Sun 2023-01-22 10:49:19.608306 [TRACE] - [T<-UDP] Request { sequence: 3, response_ack: Some(1), cookie: Some(\"b'RmlsdGVyTm90ZWJvb2tDbGllbnQ1MDg5'\"), action: JoinRoom { room_name: \"general\" } }\n",
      "Sun 2023-01-22 10:49:19.611434 [TRACE] - [F<-T,N] For Endpoint Endpoint(127.0.0.1:62012), Took packet Request { sequence: 3, response_ack: Some(1), cookie: Some(\"b'RmlsdGVyTm90ZWJvb2tDbGllbnQ1MDg5'\"), action: JoinRoom { room_name: \"general\" } }\n",
      "Sun 2023-01-22 10:49:19.648574 [TRACE] - [T<-UDP] Request { sequence: 2, response_ack: Some(1), cookie: Some(\"b'RmlsdGVyTm90ZWJvb2tDbGllbnQ1MDg5'\"), action: NewRoom { room_name: \"general\" } }\n",
      "Sun 2023-01-22 10:49:19.673025 [TRACE] - [F<-T,N] For Endpoint Endpoint(127.0.0.1:62012), Took packet Request { sequence: 2, response_ack: Some(1), cookie: Some(\"b'RmlsdGVyTm90ZWJvb2tDbGllbnQ1MDg5'\"), action: NewRoom { room_name: \"general\" } }\n",
      "Sun 2023-01-22 10:49:19.858422 [TRACE] - [T<-UDP] Request { sequence: 3, response_ack: Some(1), cookie: Some(\"b'RmlsdGVyTm90ZWJvb2tDbGllbnQ1MDg5'\"), action: JoinRoom { room_name: \"general\" } }\n",
      "Sun 2023-01-22 10:49:19.859548 [TRACE] - [F<-T,N] For Endpoint Endpoint(127.0.0.1:62012), Took packet Request { sequence: 3, response_ack: Some(1), cookie: Some(\"b'RmlsdGVyTm90ZWJvb2tDbGllbnQ1MDg5'\"), action: JoinRoom { room_name: \"general\" } }\n",
      "Sun 2023-01-22 10:49:19.898681 [TRACE] - [T<-UDP] Request { sequence: 2, response_ack: Some(1), cookie: Some(\"b'RmlsdGVyTm90ZWJvb2tDbGllbnQ1MDg5'\"), action: NewRoom { room_name: \"general\" } }\n",
      "Sun 2023-01-22 10:49:19.921152 [TRACE] - [F<-T,N] For Endpoint Endpoint(127.0.0.1:62012), Took packet Request { sequence: 2, response_ack: Some(1), cookie: Some(\"b'RmlsdGVyTm90ZWJvb2tDbGllbnQ1MDg5'\"), action: NewRoom { room_name: \"general\" } }\n"
     ]
    },
    {
     "name": "stdout",
     "output_type": "stream",
     "text": [
      "Sun 2023-01-22 10:49:20.117792 [TRACE] - [T<-UDP] Request { sequence: 3, response_ack: Some(1), cookie: Some(\"b'RmlsdGVyTm90ZWJvb2tDbGllbnQ1MDg5'\"), action: JoinRoom { room_name: \"general\" } }\n",
      "Sun 2023-01-22 10:49:20.139323 [TRACE] - [F<-T,N] For Endpoint Endpoint(127.0.0.1:62012), Took packet Request { sequence: 3, response_ack: Some(1), cookie: Some(\"b'RmlsdGVyTm90ZWJvb2tDbGllbnQ1MDg5'\"), action: JoinRoom { room_name: \"general\" } }\n",
      "Sun 2023-01-22 10:49:20.158692 [TRACE] - [T<-UDP] Request { sequence: 2, response_ack: Some(1), cookie: Some(\"b'RmlsdGVyTm90ZWJvb2tDbGllbnQ1MDg5'\"), action: NewRoom { room_name: \"general\" } }\n",
      "Sun 2023-01-22 10:49:20.170219 [TRACE] - [F<-T,N] For Endpoint Endpoint(127.0.0.1:62012), Took packet Request { sequence: 2, response_ack: Some(1), cookie: Some(\"b'RmlsdGVyTm90ZWJvb2tDbGllbnQ1MDg5'\"), action: NewRoom { room_name: \"general\" } }\n",
      "Sun 2023-01-22 10:49:20.368641 [TRACE] - [T<-UDP] Request { sequence: 3, response_ack: Some(1), cookie: Some(\"b'RmlsdGVyTm90ZWJvb2tDbGllbnQ1MDg5'\"), action: JoinRoom { room_name: \"general\" } }\n",
      "Sun 2023-01-22 10:49:20.388010 [TRACE] - [F<-T,N] For Endpoint Endpoint(127.0.0.1:62012), Took packet Request { sequence: 3, response_ack: Some(1), cookie: Some(\"b'RmlsdGVyTm90ZWJvb2tDbGllbnQ1MDg5'\"), action: JoinRoom { room_name: \"general\" } }\n",
      "Sun 2023-01-22 10:49:20.408703 [TRACE] - [T<-UDP] Request { sequence: 2, response_ack: Some(1), cookie: Some(\"b'RmlsdGVyTm90ZWJvb2tDbGllbnQ1MDg5'\"), action: NewRoom { room_name: \"general\" } }\n",
      "Sun 2023-01-22 10:49:20.419214 [TRACE] - [F<-T,N] For Endpoint Endpoint(127.0.0.1:62012), Took packet Request { sequence: 2, response_ack: Some(1), cookie: Some(\"b'RmlsdGVyTm90ZWJvb2tDbGllbnQ1MDg5'\"), action: NewRoom { room_name: \"general\" } }\n",
      "Sun 2023-01-22 10:49:20.628459 [TRACE] - [T<-UDP] Request { sequence: 3, response_ack: Some(1), cookie: Some(\"b'RmlsdGVyTm90ZWJvb2tDbGllbnQ1MDg5'\"), action: JoinRoom { room_name: \"general\" } }\n",
      "Sun 2023-01-22 10:49:20.636670 [TRACE] - [F<-T,N] For Endpoint Endpoint(127.0.0.1:62012), Took packet Request { sequence: 3, response_ack: Some(1), cookie: Some(\"b'RmlsdGVyTm90ZWJvb2tDbGllbnQ1MDg5'\"), action: JoinRoom { room_name: \"general\" } }\n",
      "Sun 2023-01-22 10:49:20.668511 [TRACE] - [T<-UDP] Request { sequence: 2, response_ack: Some(1), cookie: Some(\"b'RmlsdGVyTm90ZWJvb2tDbGllbnQ1MDg5'\"), action: NewRoom { room_name: \"general\" } }\n",
      "Sun 2023-01-22 10:49:20.699131 [TRACE] - [F<-T,N] For Endpoint Endpoint(127.0.0.1:62012), Took packet Request { sequence: 2, response_ack: Some(1), cookie: Some(\"b'RmlsdGVyTm90ZWJvb2tDbGllbnQ1MDg5'\"), action: NewRoom { room_name: \"general\" } }\n",
      "Sun 2023-01-22 10:49:20.888408 [TRACE] - [T<-UDP] Request { sequence: 3, response_ack: Some(1), cookie: Some(\"b'RmlsdGVyTm90ZWJvb2tDbGllbnQ1MDg5'\"), action: JoinRoom { room_name: \"general\" } }\n",
      "Sun 2023-01-22 10:49:20.916528 [TRACE] - [F<-T,N] For Endpoint Endpoint(127.0.0.1:62012), Took packet Request { sequence: 3, response_ack: Some(1), cookie: Some(\"b'RmlsdGVyTm90ZWJvb2tDbGllbnQ1MDg5'\"), action: JoinRoom { room_name: \"general\" } }\n",
      "Sun 2023-01-22 10:49:20.918687 [TRACE] - [T<-UDP] Request { sequence: 2, response_ack: Some(1), cookie: Some(\"b'RmlsdGVyTm90ZWJvb2tDbGllbnQ1MDg5'\"), action: NewRoom { room_name: \"general\" } }\n",
      "Sun 2023-01-22 10:49:20.947243 [TRACE] - [F<-T,N] For Endpoint Endpoint(127.0.0.1:62012), Took packet Request { sequence: 2, response_ack: Some(1), cookie: Some(\"b'RmlsdGVyTm90ZWJvb2tDbGllbnQ1MDg5'\"), action: NewRoom { room_name: \"general\" } }\n",
      "Sun 2023-01-22 10:49:21.147950 [TRACE] - [T<-UDP] Request { sequence: 3, response_ack: Some(1), cookie: Some(\"b'RmlsdGVyTm90ZWJvb2tDbGllbnQ1MDg5'\"), action: JoinRoom { room_name: \"general\" } }\n",
      "Sun 2023-01-22 10:49:21.166418 [TRACE] - [F<-T,N] For Endpoint Endpoint(127.0.0.1:62012), Took packet Request { sequence: 3, response_ack: Some(1), cookie: Some(\"b'RmlsdGVyTm90ZWJvb2tDbGllbnQ1MDg5'\"), action: JoinRoom { room_name: \"general\" } }\n",
      "Sun 2023-01-22 10:49:21.177691 [TRACE] - [T<-UDP] Request { sequence: 2, response_ack: Some(1), cookie: Some(\"b'RmlsdGVyTm90ZWJvb2tDbGllbnQ1MDg5'\"), action: NewRoom { room_name: \"general\" } }\n",
      "Sun 2023-01-22 10:49:21.197034 [TRACE] - [F<-T,N] For Endpoint Endpoint(127.0.0.1:62012), Took packet Request { sequence: 2, response_ack: Some(1), cookie: Some(\"b'RmlsdGVyTm90ZWJvb2tDbGllbnQ1MDg5'\"), action: NewRoom { room_name: \"general\" } }\n",
      "Sun 2023-01-22 10:49:21.397966 [TRACE] - [T<-UDP] Request { sequence: 3, response_ack: Some(1), cookie: Some(\"b'RmlsdGVyTm90ZWJvb2tDbGllbnQ1MDg5'\"), action: JoinRoom { room_name: \"general\" } }\n",
      "Sun 2023-01-22 10:49:21.415527 [TRACE] - [F<-T,N] For Endpoint Endpoint(127.0.0.1:62012), Took packet Request { sequence: 3, response_ack: Some(1), cookie: Some(\"b'RmlsdGVyTm90ZWJvb2tDbGllbnQ1MDg5'\"), action: JoinRoom { room_name: \"general\" } }\n",
      "Sun 2023-01-22 10:49:21.427756 [TRACE] - [T<-UDP] Request { sequence: 2, response_ack: Some(1), cookie: Some(\"b'RmlsdGVyTm90ZWJvb2tDbGllbnQ1MDg5'\"), action: NewRoom { room_name: \"general\" } }\n",
      "Sun 2023-01-22 10:49:21.446111 [TRACE] - [F<-T,N] For Endpoint Endpoint(127.0.0.1:62012), Took packet Request { sequence: 2, response_ack: Some(1), cookie: Some(\"b'RmlsdGVyTm90ZWJvb2tDbGllbnQ1MDg5'\"), action: NewRoom { room_name: \"general\" } }\n",
      "Sun 2023-01-22 10:49:21.648344 [TRACE] - [T<-UDP] Request { sequence: 3, response_ack: Some(1), cookie: Some(\"b'RmlsdGVyTm90ZWJvb2tDbGllbnQ1MDg5'\"), action: JoinRoom { room_name: \"general\" } }\n",
      "Sun 2023-01-22 10:49:21.664725 [TRACE] - [F<-T,N] For Endpoint Endpoint(127.0.0.1:62012), Took packet Request { sequence: 3, response_ack: Some(1), cookie: Some(\"b'RmlsdGVyTm90ZWJvb2tDbGllbnQ1MDg5'\"), action: JoinRoom { room_name: \"general\" } }\n",
      "Sun 2023-01-22 10:49:21.678317 [TRACE] - [T<-UDP] Request { sequence: 2, response_ack: Some(1), cookie: Some(\"b'RmlsdGVyTm90ZWJvb2tDbGllbnQ1MDg5'\"), action: NewRoom { room_name: \"general\" } }\n",
      "Sun 2023-01-22 10:49:21.695677 [TRACE] - [F<-T,N] For Endpoint Endpoint(127.0.0.1:62012), Took packet Request { sequence: 2, response_ack: Some(1), cookie: Some(\"b'RmlsdGVyTm90ZWJvb2tDbGllbnQ1MDg5'\"), action: NewRoom { room_name: \"general\" } }\n",
      "Sun 2023-01-22 10:49:21.908216 [TRACE] - [T<-UDP] Request { sequence: 3, response_ack: Some(1), cookie: Some(\"b'RmlsdGVyTm90ZWJvb2tDbGllbnQ1MDg5'\"), action: JoinRoom { room_name: \"general\" } }\n",
      "Sun 2023-01-22 10:49:21.913356 [TRACE] - [F<-T,N] For Endpoint Endpoint(127.0.0.1:62012), Took packet Request { sequence: 3, response_ack: Some(1), cookie: Some(\"b'RmlsdGVyTm90ZWJvb2tDbGllbnQ1MDg5'\"), action: JoinRoom { room_name: \"general\" } }\n",
      "Sun 2023-01-22 10:49:21.937903 [TRACE] - [T<-UDP] Request { sequence: 2, response_ack: Some(1), cookie: Some(\"b'RmlsdGVyTm90ZWJvb2tDbGllbnQ1MDg5'\"), action: NewRoom { room_name: \"general\" } }\n",
      "Sun 2023-01-22 10:49:21.944120 [TRACE] - [F<-T,N] For Endpoint Endpoint(127.0.0.1:62012), Took packet Request { sequence: 2, response_ack: Some(1), cookie: Some(\"b'RmlsdGVyTm90ZWJvb2tDbGllbnQ1MDg5'\"), action: NewRoom { room_name: \"general\" } }\n",
      "Sun 2023-01-22 10:49:22.168007 [TRACE] - [T<-UDP] Request { sequence: 3, response_ack: Some(1), cookie: Some(\"b'RmlsdGVyTm90ZWJvb2tDbGllbnQ1MDg5'\"), action: JoinRoom { room_name: \"general\" } }\n",
      "Sun 2023-01-22 10:49:22.188234 [TRACE] - [T<-UDP] Request { sequence: 2, response_ack: Some(1), cookie: Some(\"b'RmlsdGVyTm90ZWJvb2tDbGllbnQ1MDg5'\"), action: NewRoom { room_name: \"general\" } }\n",
      "Sun 2023-01-22 10:49:22.193363 [TRACE] - [F<-T,N] For Endpoint Endpoint(127.0.0.1:62012), Took packet Request { sequence: 3, response_ack: Some(1), cookie: Some(\"b'RmlsdGVyTm90ZWJvb2tDbGllbnQ1MDg5'\"), action: JoinRoom { room_name: \"general\" } }\n",
      "Sun 2023-01-22 10:49:22.193378 [TRACE] - [F<-T,N] For Endpoint Endpoint(127.0.0.1:62012), Took packet Request { sequence: 2, response_ack: Some(1), cookie: Some(\"b'RmlsdGVyTm90ZWJvb2tDbGllbnQ1MDg5'\"), action: NewRoom { room_name: \"general\" } }\n",
      "Sun 2023-01-22 10:49:22.418216 [TRACE] - [T<-UDP] Request { sequence: 3, response_ack: Some(1), cookie: Some(\"b'RmlsdGVyTm90ZWJvb2tDbGllbnQ1MDg5'\"), action: JoinRoom { room_name: \"general\" } }\n",
      "Sun 2023-01-22 10:49:22.438650 [TRACE] - [T<-UDP] Request { sequence: 2, response_ack: Some(1), cookie: Some(\"b'RmlsdGVyTm90ZWJvb2tDbGllbnQ1MDg5'\"), action: NewRoom { room_name: \"general\" } }\n",
      "Sun 2023-01-22 10:49:22.440756 [TRACE] - [F<-T,N] For Endpoint Endpoint(127.0.0.1:62012), Took packet Request { sequence: 3, response_ack: Some(1), cookie: Some(\"b'RmlsdGVyTm90ZWJvb2tDbGllbnQ1MDg5'\"), action: JoinRoom { room_name: \"general\" } }\n",
      "Sun 2023-01-22 10:49:22.440770 [TRACE] - [F<-T,N] For Endpoint Endpoint(127.0.0.1:62012), Took packet Request { sequence: 2, response_ack: Some(1), cookie: Some(\"b'RmlsdGVyTm90ZWJvb2tDbGllbnQ1MDg5'\"), action: NewRoom { room_name: \"general\" } }\n"
     ]
    },
    {
     "name": "stdout",
     "output_type": "stream",
     "text": [
      "Sun 2023-01-22 10:49:22.668654 [TRACE] - [T<-UDP] Request { sequence: 3, response_ack: Some(1), cookie: Some(\"b'RmlsdGVyTm90ZWJvb2tDbGllbnQ1MDg5'\"), action: JoinRoom { room_name: \"general\" } }\n",
      "Sun 2023-01-22 10:49:22.690111 [TRACE] - [F<-T,N] For Endpoint Endpoint(127.0.0.1:62012), Took packet Request { sequence: 3, response_ack: Some(1), cookie: Some(\"b'RmlsdGVyTm90ZWJvb2tDbGllbnQ1MDg5'\"), action: JoinRoom { room_name: \"general\" } }\n",
      "Sun 2023-01-22 10:49:22.698333 [TRACE] - [T<-UDP] Request { sequence: 2, response_ack: Some(1), cookie: Some(\"b'RmlsdGVyTm90ZWJvb2tDbGllbnQ1MDg5'\"), action: NewRoom { room_name: \"general\" } }\n",
      "Sun 2023-01-22 10:49:22.720819 [TRACE] - [F<-T,N] For Endpoint Endpoint(127.0.0.1:62012), Took packet Request { sequence: 2, response_ack: Some(1), cookie: Some(\"b'RmlsdGVyTm90ZWJvb2tDbGllbnQ1MDg5'\"), action: NewRoom { room_name: \"general\" } }\n",
      "Sun 2023-01-22 10:49:22.928467 [TRACE] - [T<-UDP] Request { sequence: 3, response_ack: Some(1), cookie: Some(\"b'RmlsdGVyTm90ZWJvb2tDbGllbnQ1MDg5'\"), action: JoinRoom { room_name: \"general\" } }\n",
      "Sun 2023-01-22 10:49:22.938685 [TRACE] - [F<-T,N] For Endpoint Endpoint(127.0.0.1:62012), Took packet Request { sequence: 3, response_ack: Some(1), cookie: Some(\"b'RmlsdGVyTm90ZWJvb2tDbGllbnQ1MDg5'\"), action: JoinRoom { room_name: \"general\" } }\n",
      "Sun 2023-01-22 10:49:22.958061 [TRACE] - [T<-UDP] Request { sequence: 2, response_ack: Some(1), cookie: Some(\"b'RmlsdGVyTm90ZWJvb2tDbGllbnQ1MDg5'\"), action: NewRoom { room_name: \"general\" } }\n",
      "Sun 2023-01-22 10:49:22.970346 [TRACE] - [F<-T,N] For Endpoint Endpoint(127.0.0.1:62012), Took packet Request { sequence: 2, response_ack: Some(1), cookie: Some(\"b'RmlsdGVyTm90ZWJvb2tDbGllbnQ1MDg5'\"), action: NewRoom { room_name: \"general\" } }\n",
      "Sun 2023-01-22 10:49:23.188157 [TRACE] - [T<-UDP] Request { sequence: 3, response_ack: Some(1), cookie: Some(\"b'RmlsdGVyTm90ZWJvb2tDbGllbnQ1MDg5'\"), action: JoinRoom { room_name: \"general\" } }\n",
      "Sun 2023-01-22 10:49:23.208611 [TRACE] - [T<-UDP] Request { sequence: 2, response_ack: Some(1), cookie: Some(\"b'RmlsdGVyTm90ZWJvb2tDbGllbnQ1MDg5'\"), action: NewRoom { room_name: \"general\" } }\n",
      "Sun 2023-01-22 10:49:23.217806 [TRACE] - [F<-T,N] For Endpoint Endpoint(127.0.0.1:62012), Took packet Request { sequence: 3, response_ack: Some(1), cookie: Some(\"b'RmlsdGVyTm90ZWJvb2tDbGllbnQ1MDg5'\"), action: JoinRoom { room_name: \"general\" } }\n",
      "Sun 2023-01-22 10:49:23.217824 [TRACE] - [F<-T,N] For Endpoint Endpoint(127.0.0.1:62012), Took packet Request { sequence: 2, response_ack: Some(1), cookie: Some(\"b'RmlsdGVyTm90ZWJvb2tDbGllbnQ1MDg5'\"), action: NewRoom { room_name: \"general\" } }\n",
      "Sun 2023-01-22 10:49:23.448103 [TRACE] - [T<-UDP] Request { sequence: 3, response_ack: Some(1), cookie: Some(\"b'RmlsdGVyTm90ZWJvb2tDbGllbnQ1MDg5'\"), action: JoinRoom { room_name: \"general\" } }\n",
      "Sun 2023-01-22 10:49:23.466568 [TRACE] - [F<-T,N] For Endpoint Endpoint(127.0.0.1:62012), Took packet Request { sequence: 3, response_ack: Some(1), cookie: Some(\"b'RmlsdGVyTm90ZWJvb2tDbGllbnQ1MDg5'\"), action: JoinRoom { room_name: \"general\" } }\n",
      "Sun 2023-01-22 10:49:23.467701 [TRACE] - [T<-UDP] Request { sequence: 2, response_ack: Some(1), cookie: Some(\"b'RmlsdGVyTm90ZWJvb2tDbGllbnQ1MDg5'\"), action: NewRoom { room_name: \"general\" } }\n",
      "Sun 2023-01-22 10:49:23.497260 [TRACE] - [F<-T,N] For Endpoint Endpoint(127.0.0.1:62012), Took packet Request { sequence: 2, response_ack: Some(1), cookie: Some(\"b'RmlsdGVyTm90ZWJvb2tDbGllbnQ1MDg5'\"), action: NewRoom { room_name: \"general\" } }\n",
      "Sun 2023-01-22 10:49:23.698684 [TRACE] - [T<-UDP] Request { sequence: 3, response_ack: Some(1), cookie: Some(\"b'RmlsdGVyTm90ZWJvb2tDbGllbnQ1MDg5'\"), action: JoinRoom { room_name: \"general\" } }\n",
      "Sun 2023-01-22 10:49:23.715926 [TRACE] - [F<-T,N] For Endpoint Endpoint(127.0.0.1:62012), Took packet Request { sequence: 3, response_ack: Some(1), cookie: Some(\"b'RmlsdGVyTm90ZWJvb2tDbGllbnQ1MDg5'\"), action: JoinRoom { room_name: \"general\" } }\n",
      "Sun 2023-01-22 10:49:23.718105 [TRACE] - [T<-UDP] Request { sequence: 2, response_ack: Some(1), cookie: Some(\"b'RmlsdGVyTm90ZWJvb2tDbGllbnQ1MDg5'\"), action: NewRoom { room_name: \"general\" } }\n",
      "Sun 2023-01-22 10:49:23.747658 [TRACE] - [F<-T,N] For Endpoint Endpoint(127.0.0.1:62012), Took packet Request { sequence: 2, response_ack: Some(1), cookie: Some(\"b'RmlsdGVyTm90ZWJvb2tDbGllbnQ1MDg5'\"), action: NewRoom { room_name: \"general\" } }\n",
      "Sun 2023-01-22 10:49:23.957729 [TRACE] - [T<-UDP] Request { sequence: 3, response_ack: Some(1), cookie: Some(\"b'RmlsdGVyTm90ZWJvb2tDbGllbnQ1MDg5'\"), action: JoinRoom { room_name: \"general\" } }\n",
      "Sun 2023-01-22 10:49:23.964942 [TRACE] - [F<-T,N] For Endpoint Endpoint(127.0.0.1:62012), Took packet Request { sequence: 3, response_ack: Some(1), cookie: Some(\"b'RmlsdGVyTm90ZWJvb2tDbGllbnQ1MDg5'\"), action: JoinRoom { room_name: \"general\" } }\n",
      "Sun 2023-01-22 10:49:23.978324 [TRACE] - [T<-UDP] Request { sequence: 2, response_ack: Some(1), cookie: Some(\"b'RmlsdGVyTm90ZWJvb2tDbGllbnQ1MDg5'\"), action: NewRoom { room_name: \"general\" } }\n",
      "Sun 2023-01-22 10:49:23.995686 [TRACE] - [F<-T,N] For Endpoint Endpoint(127.0.0.1:62012), Took packet Request { sequence: 2, response_ack: Some(1), cookie: Some(\"b'RmlsdGVyTm90ZWJvb2tDbGllbnQ1MDg5'\"), action: NewRoom { room_name: \"general\" } }\n",
      "Sun 2023-01-22 10:49:24.208081 [TRACE] - [T<-UDP] Request { sequence: 3, response_ack: Some(1), cookie: Some(\"b'RmlsdGVyTm90ZWJvb2tDbGllbnQ1MDg5'\"), action: JoinRoom { room_name: \"general\" } }\n",
      "Sun 2023-01-22 10:49:24.215292 [TRACE] - [F<-T,N] For Endpoint Endpoint(127.0.0.1:62012), Took packet Request { sequence: 3, response_ack: Some(1), cookie: Some(\"b'RmlsdGVyTm90ZWJvb2tDbGllbnQ1MDg5'\"), action: JoinRoom { room_name: \"general\" } }\n",
      "Sun 2023-01-22 10:49:24.237917 [TRACE] - [T<-UDP] Request { sequence: 2, response_ack: Some(1), cookie: Some(\"b'RmlsdGVyTm90ZWJvb2tDbGllbnQ1MDg5'\"), action: NewRoom { room_name: \"general\" } }\n",
      "Sun 2023-01-22 10:49:24.246202 [TRACE] - [F<-T,N] For Endpoint Endpoint(127.0.0.1:62012), Took packet Request { sequence: 2, response_ack: Some(1), cookie: Some(\"b'RmlsdGVyTm90ZWJvb2tDbGllbnQ1MDg5'\"), action: NewRoom { room_name: \"general\" } }\n",
      "Sun 2023-01-22 10:49:24.458233 [TRACE] - [T<-UDP] Request { sequence: 3, response_ack: Some(1), cookie: Some(\"b'RmlsdGVyTm90ZWJvb2tDbGllbnQ1MDg5'\"), action: JoinRoom { room_name: \"general\" } }\n",
      "Sun 2023-01-22 10:49:24.464429 [TRACE] - [F<-T,N] For Endpoint Endpoint(127.0.0.1:62012), Took packet Request { sequence: 3, response_ack: Some(1), cookie: Some(\"b'RmlsdGVyTm90ZWJvb2tDbGllbnQ1MDg5'\"), action: JoinRoom { room_name: \"general\" } }\n",
      "Sun 2023-01-22 10:49:24.488052 [TRACE] - [T<-UDP] Request { sequence: 2, response_ack: Some(1), cookie: Some(\"b'RmlsdGVyTm90ZWJvb2tDbGllbnQ1MDg5'\"), action: NewRoom { room_name: \"general\" } }\n",
      "Sun 2023-01-22 10:49:24.495262 [TRACE] - [F<-T,N] For Endpoint Endpoint(127.0.0.1:62012), Took packet Request { sequence: 2, response_ack: Some(1), cookie: Some(\"b'RmlsdGVyTm90ZWJvb2tDbGllbnQ1MDg5'\"), action: NewRoom { room_name: \"general\" } }\n",
      "Sun 2023-01-22 10:49:24.708527 [TRACE] - [T<-UDP] Request { sequence: 3, response_ack: Some(1), cookie: Some(\"b'RmlsdGVyTm90ZWJvb2tDbGllbnQ1MDg5'\"), action: JoinRoom { room_name: \"general\" } }\n",
      "Sun 2023-01-22 10:49:24.712658 [TRACE] - [F<-T,N] For Endpoint Endpoint(127.0.0.1:62012), Took packet Request { sequence: 3, response_ack: Some(1), cookie: Some(\"b'RmlsdGVyTm90ZWJvb2tDbGllbnQ1MDg5'\"), action: JoinRoom { room_name: \"general\" } }\n",
      "Sun 2023-01-22 10:49:24.738147 [TRACE] - [T<-UDP] Request { sequence: 2, response_ack: Some(1), cookie: Some(\"b'RmlsdGVyTm90ZWJvb2tDbGllbnQ1MDg5'\"), action: NewRoom { room_name: \"general\" } }\n",
      "Sun 2023-01-22 10:49:24.744459 [TRACE] - [F<-T,N] For Endpoint Endpoint(127.0.0.1:62012), Took packet Request { sequence: 2, response_ack: Some(1), cookie: Some(\"b'RmlsdGVyTm90ZWJvb2tDbGllbnQ1MDg5'\"), action: NewRoom { room_name: \"general\" } }\n",
      "Sun 2023-01-22 10:49:24.968104 [TRACE] - [T<-UDP] Request { sequence: 3, response_ack: Some(1), cookie: Some(\"b'RmlsdGVyTm90ZWJvb2tDbGllbnQ1MDg5'\"), action: JoinRoom { room_name: \"general\" } }\n",
      "Sun 2023-01-22 10:49:24.988496 [TRACE] - [T<-UDP] Request { sequence: 2, response_ack: Some(1), cookie: Some(\"b'RmlsdGVyTm90ZWJvb2tDbGllbnQ1MDg5'\"), action: NewRoom { room_name: \"general\" } }\n",
      "Sun 2023-01-22 10:49:24.992629 [TRACE] - [F<-T,N] For Endpoint Endpoint(127.0.0.1:62012), Took packet Request { sequence: 3, response_ack: Some(1), cookie: Some(\"b'RmlsdGVyTm90ZWJvb2tDbGllbnQ1MDg5'\"), action: JoinRoom { room_name: \"general\" } }\n",
      "Sun 2023-01-22 10:49:24.992646 [TRACE] - [F<-T,N] For Endpoint Endpoint(127.0.0.1:62012), Took packet Request { sequence: 2, response_ack: Some(1), cookie: Some(\"b'RmlsdGVyTm90ZWJvb2tDbGllbnQ1MDg5'\"), action: NewRoom { room_name: \"general\" } }\n"
     ]
    },
    {
     "name": "stdout",
     "output_type": "stream",
     "text": [
      "Sun 2023-01-22 10:49:25.218153 [TRACE] - [T<-UDP] Request { sequence: 3, response_ack: Some(1), cookie: Some(\"b'RmlsdGVyTm90ZWJvb2tDbGllbnQ1MDg5'\"), action: JoinRoom { room_name: \"general\" } }\n",
      "Sun 2023-01-22 10:49:25.238553 [TRACE] - [T<-UDP] Request { sequence: 2, response_ack: Some(1), cookie: Some(\"b'RmlsdGVyTm90ZWJvb2tDbGllbnQ1MDg5'\"), action: NewRoom { room_name: \"general\" } }\n",
      "Sun 2023-01-22 10:49:25.241680 [TRACE] - [F<-T,N] For Endpoint Endpoint(127.0.0.1:62012), Took packet Request { sequence: 3, response_ack: Some(1), cookie: Some(\"b'RmlsdGVyTm90ZWJvb2tDbGllbnQ1MDg5'\"), action: JoinRoom { room_name: \"general\" } }\n",
      "Sun 2023-01-22 10:49:25.241700 [TRACE] - [F<-T,N] For Endpoint Endpoint(127.0.0.1:62012), Took packet Request { sequence: 2, response_ack: Some(1), cookie: Some(\"b'RmlsdGVyTm90ZWJvb2tDbGllbnQ1MDg5'\"), action: NewRoom { room_name: \"general\" } }\n",
      "Sun 2023-01-22 10:49:25.478127 [TRACE] - [T<-UDP] Request { sequence: 3, response_ack: Some(1), cookie: Some(\"b'RmlsdGVyTm90ZWJvb2tDbGllbnQ1MDg5'\"), action: JoinRoom { room_name: \"general\" } }\n",
      "Sun 2023-01-22 10:49:25.492425 [TRACE] - [F<-T,N] For Endpoint Endpoint(127.0.0.1:62012), Took packet Request { sequence: 3, response_ack: Some(1), cookie: Some(\"b'RmlsdGVyTm90ZWJvb2tDbGllbnQ1MDg5'\"), action: JoinRoom { room_name: \"general\" } }\n",
      "Sun 2023-01-22 10:49:25.498645 [TRACE] - [T<-UDP] Request { sequence: 2, response_ack: Some(1), cookie: Some(\"b'RmlsdGVyTm90ZWJvb2tDbGllbnQ1MDg5'\"), action: NewRoom { room_name: \"general\" } }\n",
      "Sun 2023-01-22 10:49:25.523567 [TRACE] - [F<-T,N] For Endpoint Endpoint(127.0.0.1:62012), Took packet Request { sequence: 2, response_ack: Some(1), cookie: Some(\"b'RmlsdGVyTm90ZWJvb2tDbGllbnQ1MDg5'\"), action: NewRoom { room_name: \"general\" } }\n",
      "Sun 2023-01-22 10:49:25.728503 [TRACE] - [T<-UDP] Request { sequence: 3, response_ack: Some(1), cookie: Some(\"b'RmlsdGVyTm90ZWJvb2tDbGllbnQ1MDg5'\"), action: JoinRoom { room_name: \"general\" } }\n",
      "Sun 2023-01-22 10:49:25.739851 [TRACE] - [F<-T,N] For Endpoint Endpoint(127.0.0.1:62012), Took packet Request { sequence: 3, response_ack: Some(1), cookie: Some(\"b'RmlsdGVyTm90ZWJvb2tDbGllbnQ1MDg5'\"), action: JoinRoom { room_name: \"general\" } }\n",
      "Sun 2023-01-22 10:49:25.758264 [TRACE] - [T<-UDP] Request { sequence: 2, response_ack: Some(1), cookie: Some(\"b'RmlsdGVyTm90ZWJvb2tDbGllbnQ1MDg5'\"), action: NewRoom { room_name: \"general\" } }\n",
      "Sun 2023-01-22 10:49:25.771593 [TRACE] - [F<-T,N] For Endpoint Endpoint(127.0.0.1:62012), Took packet Request { sequence: 2, response_ack: Some(1), cookie: Some(\"b'RmlsdGVyTm90ZWJvb2tDbGllbnQ1MDg5'\"), action: NewRoom { room_name: \"general\" } }\n",
      "Sun 2023-01-22 10:49:25.978577 [TRACE] - [T<-UDP] Request { sequence: 3, response_ack: Some(1), cookie: Some(\"b'RmlsdGVyTm90ZWJvb2tDbGllbnQ1MDg5'\"), action: JoinRoom { room_name: \"general\" } }\n",
      "Sun 2023-01-22 10:49:25.988877 [TRACE] - [F<-T,N] For Endpoint Endpoint(127.0.0.1:62012), Took packet Request { sequence: 3, response_ack: Some(1), cookie: Some(\"b'RmlsdGVyTm90ZWJvb2tDbGllbnQ1MDg5'\"), action: JoinRoom { room_name: \"general\" } }\n",
      "Sun 2023-01-22 10:49:26.008258 [TRACE] - [T<-UDP] Request { sequence: 2, response_ack: Some(1), cookie: Some(\"b'RmlsdGVyTm90ZWJvb2tDbGllbnQ1MDg5'\"), action: NewRoom { room_name: \"general\" } }\n",
      "Sun 2023-01-22 10:49:26.020512 [TRACE] - [F<-T,N] For Endpoint Endpoint(127.0.0.1:62012), Took packet Request { sequence: 2, response_ack: Some(1), cookie: Some(\"b'RmlsdGVyTm90ZWJvb2tDbGllbnQ1MDg5'\"), action: NewRoom { room_name: \"general\" } }\n",
      "Sun 2023-01-22 10:49:26.238355 [TRACE] - [T<-UDP] Request { sequence: 3, response_ack: Some(1), cookie: Some(\"b'RmlsdGVyTm90ZWJvb2tDbGllbnQ1MDg5'\"), action: JoinRoom { room_name: \"general\" } }\n",
      "Sun 2023-01-22 10:49:26.267884 [TRACE] - [F<-T,N] For Endpoint Endpoint(127.0.0.1:62012), Took packet Request { sequence: 3, response_ack: Some(1), cookie: Some(\"b'RmlsdGVyTm90ZWJvb2tDbGllbnQ1MDg5'\"), action: JoinRoom { room_name: \"general\" } }\n",
      "Sun 2023-01-22 10:49:26.267899 [TRACE] - [T<-UDP] Request { sequence: 2, response_ack: Some(1), cookie: Some(\"b'RmlsdGVyTm90ZWJvb2tDbGllbnQ1MDg5'\"), action: NewRoom { room_name: \"general\" } }\n",
      "Sun 2023-01-22 10:49:26.299609 [TRACE] - [F<-T,N] For Endpoint Endpoint(127.0.0.1:62012), Took packet Request { sequence: 2, response_ack: Some(1), cookie: Some(\"b'RmlsdGVyTm90ZWJvb2tDbGllbnQ1MDg5'\"), action: NewRoom { room_name: \"general\" } }\n",
      "Sun 2023-01-22 10:49:26.488500 [TRACE] - [T<-UDP] Request { sequence: 3, response_ack: Some(1), cookie: Some(\"b'RmlsdGVyTm90ZWJvb2tDbGllbnQ1MDg5'\"), action: JoinRoom { room_name: \"general\" } }\n",
      "Sun 2023-01-22 10:49:26.516893 [TRACE] - [F<-T,N] For Endpoint Endpoint(127.0.0.1:62012), Took packet Request { sequence: 3, response_ack: Some(1), cookie: Some(\"b'RmlsdGVyTm90ZWJvb2tDbGllbnQ1MDg5'\"), action: JoinRoom { room_name: \"general\" } }\n",
      "Sun 2023-01-22 10:49:26.517997 [TRACE] - [T<-UDP] Request { sequence: 2, response_ack: Some(1), cookie: Some(\"b'RmlsdGVyTm90ZWJvb2tDbGllbnQ1MDg5'\"), action: NewRoom { room_name: \"general\" } }\n",
      "Sun 2023-01-22 10:49:26.548500 [TRACE] - [F<-T,N] For Endpoint Endpoint(127.0.0.1:62012), Took packet Request { sequence: 2, response_ack: Some(1), cookie: Some(\"b'RmlsdGVyTm90ZWJvb2tDbGllbnQ1MDg5'\"), action: NewRoom { room_name: \"general\" } }\n",
      "Sun 2023-01-22 10:49:26.748465 [TRACE] - [T<-UDP] Request { sequence: 3, response_ack: Some(1), cookie: Some(\"b'RmlsdGVyTm90ZWJvb2tDbGllbnQ1MDg5'\"), action: JoinRoom { room_name: \"general\" } }\n",
      "Sun 2023-01-22 10:49:26.765848 [TRACE] - [F<-T,N] For Endpoint Endpoint(127.0.0.1:62012), Took packet Request { sequence: 3, response_ack: Some(1), cookie: Some(\"b'RmlsdGVyTm90ZWJvb2tDbGllbnQ1MDg5'\"), action: JoinRoom { room_name: \"general\" } }\n",
      "Sun 2023-01-22 10:49:26.778135 [TRACE] - [T<-UDP] Request { sequence: 2, response_ack: Some(1), cookie: Some(\"b'RmlsdGVyTm90ZWJvb2tDbGllbnQ1MDg5'\"), action: NewRoom { room_name: \"general\" } }\n",
      "Sun 2023-01-22 10:49:26.797498 [TRACE] - [F<-T,N] For Endpoint Endpoint(127.0.0.1:62012), Took packet Request { sequence: 2, response_ack: Some(1), cookie: Some(\"b'RmlsdGVyTm90ZWJvb2tDbGllbnQ1MDg5'\"), action: NewRoom { room_name: \"general\" } }\n",
      "Sun 2023-01-22 10:49:27.008379 [TRACE] - [T<-UDP] Request { sequence: 3, response_ack: Some(1), cookie: Some(\"b'RmlsdGVyTm90ZWJvb2tDbGllbnQ1MDg5'\"), action: JoinRoom { room_name: \"general\" } }\n",
      "Sun 2023-01-22 10:49:27.014568 [TRACE] - [F<-T,N] For Endpoint Endpoint(127.0.0.1:62012), Took packet Request { sequence: 3, response_ack: Some(1), cookie: Some(\"b'RmlsdGVyTm90ZWJvb2tDbGllbnQ1MDg5'\"), action: JoinRoom { room_name: \"general\" } }\n",
      "Sun 2023-01-22 10:49:27.037887 [TRACE] - [T<-UDP] Request { sequence: 2, response_ack: Some(1), cookie: Some(\"b'RmlsdGVyTm90ZWJvb2tDbGllbnQ1MDg5'\"), action: NewRoom { room_name: \"general\" } }\n",
      "Sun 2023-01-22 10:49:27.045100 [TRACE] - [F<-T,N] For Endpoint Endpoint(127.0.0.1:62012), Took packet Request { sequence: 2, response_ack: Some(1), cookie: Some(\"b'RmlsdGVyTm90ZWJvb2tDbGllbnQ1MDg5'\"), action: NewRoom { room_name: \"general\" } }\n",
      "Sun 2023-01-22 10:49:27.258437 [TRACE] - [T<-UDP] Request { sequence: 3, response_ack: Some(1), cookie: Some(\"b'RmlsdGVyTm90ZWJvb2tDbGllbnQ1MDg5'\"), action: JoinRoom { room_name: \"general\" } }\n",
      "Sun 2023-01-22 10:49:27.265592 [TRACE] - [F<-T,N] For Endpoint Endpoint(127.0.0.1:62012), Took packet Request { sequence: 3, response_ack: Some(1), cookie: Some(\"b'RmlsdGVyTm90ZWJvb2tDbGllbnQ1MDg5'\"), action: JoinRoom { room_name: \"general\" } }\n",
      "Sun 2023-01-22 10:49:27.287987 [TRACE] - [T<-UDP] Request { sequence: 2, response_ack: Some(1), cookie: Some(\"b'RmlsdGVyTm90ZWJvb2tDbGllbnQ1MDg5'\"), action: NewRoom { room_name: \"general\" } }\n",
      "Sun 2023-01-22 10:49:27.297134 [TRACE] - [F<-T,N] For Endpoint Endpoint(127.0.0.1:62012), Took packet Request { sequence: 2, response_ack: Some(1), cookie: Some(\"b'RmlsdGVyTm90ZWJvb2tDbGllbnQ1MDg5'\"), action: NewRoom { room_name: \"general\" } }\n",
      "Sun 2023-01-22 10:49:27.518261 [TRACE] - [T<-UDP] Request { sequence: 3, response_ack: Some(1), cookie: Some(\"b'RmlsdGVyTm90ZWJvb2tDbGllbnQ1MDg5'\"), action: JoinRoom { room_name: \"general\" } }\n",
      "Sun 2023-01-22 10:49:27.538607 [TRACE] - [T<-UDP] Request { sequence: 2, response_ack: Some(1), cookie: Some(\"b'RmlsdGVyTm90ZWJvb2tDbGllbnQ1MDg5'\"), action: NewRoom { room_name: \"general\" } }\n",
      "Sun 2023-01-22 10:49:27.546778 [TRACE] - [F<-T,N] For Endpoint Endpoint(127.0.0.1:62012), Took packet Request { sequence: 3, response_ack: Some(1), cookie: Some(\"b'RmlsdGVyTm90ZWJvb2tDbGllbnQ1MDg5'\"), action: JoinRoom { room_name: \"general\" } }\n",
      "Sun 2023-01-22 10:49:27.546798 [TRACE] - [F<-T,N] For Endpoint Endpoint(127.0.0.1:62012), Took packet Request { sequence: 2, response_ack: Some(1), cookie: Some(\"b'RmlsdGVyTm90ZWJvb2tDbGllbnQ1MDg5'\"), action: NewRoom { room_name: \"general\" } }\n"
     ]
    },
    {
     "name": "stdout",
     "output_type": "stream",
     "text": [
      "Sun 2023-01-22 10:49:27.777966 [TRACE] - [T<-UDP] Request { sequence: 3, response_ack: Some(1), cookie: Some(\"b'RmlsdGVyTm90ZWJvb2tDbGllbnQ1MDg5'\"), action: JoinRoom { room_name: \"general\" } }\n",
      "Sun 2023-01-22 10:49:27.795318 [TRACE] - [F<-T,N] For Endpoint Endpoint(127.0.0.1:62012), Took packet Request { sequence: 3, response_ack: Some(1), cookie: Some(\"b'RmlsdGVyTm90ZWJvb2tDbGllbnQ1MDg5'\"), action: JoinRoom { room_name: \"general\" } }\n",
      "Sun 2023-01-22 10:49:27.798416 [TRACE] - [T<-UDP] Request { sequence: 2, response_ack: Some(1), cookie: Some(\"b'RmlsdGVyTm90ZWJvb2tDbGllbnQ1MDg5'\"), action: NewRoom { room_name: \"general\" } }\n",
      "Sun 2023-01-22 10:49:27.825806 [TRACE] - [F<-T,N] For Endpoint Endpoint(127.0.0.1:62012), Took packet Request { sequence: 2, response_ack: Some(1), cookie: Some(\"b'RmlsdGVyTm90ZWJvb2tDbGllbnQ1MDg5'\"), action: NewRoom { room_name: \"general\" } }\n",
      "Sun 2023-01-22 10:49:28.038078 [TRACE] - [T<-UDP] Request { sequence: 3, response_ack: Some(1), cookie: Some(\"b'RmlsdGVyTm90ZWJvb2tDbGllbnQ1MDg5'\"), action: JoinRoom { room_name: \"general\" } }\n",
      "Sun 2023-01-22 10:49:28.044283 [TRACE] - [F<-T,N] For Endpoint Endpoint(127.0.0.1:62012), Took packet Request { sequence: 3, response_ack: Some(1), cookie: Some(\"b'RmlsdGVyTm90ZWJvb2tDbGllbnQ1MDg5'\"), action: JoinRoom { room_name: \"general\" } }\n",
      "Sun 2023-01-22 10:49:28.058567 [TRACE] - [T<-UDP] Request { sequence: 2, response_ack: Some(1), cookie: Some(\"b'RmlsdGVyTm90ZWJvb2tDbGllbnQ1MDg5'\"), action: NewRoom { room_name: \"general\" } }\n",
      "Sun 2023-01-22 10:49:28.075174 [TRACE] - [F<-T,N] For Endpoint Endpoint(127.0.0.1:62012), Took packet Request { sequence: 2, response_ack: Some(1), cookie: Some(\"b'RmlsdGVyTm90ZWJvb2tDbGllbnQ1MDg5'\"), action: NewRoom { room_name: \"general\" } }\n",
      "Sun 2023-01-22 10:49:28.297867 [TRACE] - [T<-UDP] Request { sequence: 3, response_ack: Some(1), cookie: Some(\"b'RmlsdGVyTm90ZWJvb2tDbGllbnQ1MDg5'\"), action: JoinRoom { room_name: \"general\" } }\n",
      "Sun 2023-01-22 10:49:28.318135 [TRACE] - [T<-UDP] Request { sequence: 2, response_ack: Some(1), cookie: Some(\"b'RmlsdGVyTm90ZWJvb2tDbGllbnQ1MDg5'\"), action: NewRoom { room_name: \"general\" } }\n",
      "Sun 2023-01-22 10:49:28.324289 [TRACE] - [F<-T,N] For Endpoint Endpoint(127.0.0.1:62012), Took packet Request { sequence: 3, response_ack: Some(1), cookie: Some(\"b'RmlsdGVyTm90ZWJvb2tDbGllbnQ1MDg5'\"), action: JoinRoom { room_name: \"general\" } }\n",
      "Sun 2023-01-22 10:49:28.324302 [TRACE] - [F<-T,N] For Endpoint Endpoint(127.0.0.1:62012), Took packet Request { sequence: 2, response_ack: Some(1), cookie: Some(\"b'RmlsdGVyTm90ZWJvb2tDbGllbnQ1MDg5'\"), action: NewRoom { room_name: \"general\" } }\n",
      "Sun 2023-01-22 10:49:28.548027 [TRACE] - [T<-UDP] Request { sequence: 3, response_ack: Some(1), cookie: Some(\"b'RmlsdGVyTm90ZWJvb2tDbGllbnQ1MDg5'\"), action: JoinRoom { room_name: \"general\" } }\n",
      "Sun 2023-01-22 10:49:28.568426 [TRACE] - [T<-UDP] Request { sequence: 2, response_ack: Some(1), cookie: Some(\"b'RmlsdGVyTm90ZWJvb2tDbGllbnQ1MDg5'\"), action: NewRoom { room_name: \"general\" } }\n",
      "Sun 2023-01-22 10:49:28.572553 [TRACE] - [F<-T,N] For Endpoint Endpoint(127.0.0.1:62012), Took packet Request { sequence: 3, response_ack: Some(1), cookie: Some(\"b'RmlsdGVyTm90ZWJvb2tDbGllbnQ1MDg5'\"), action: JoinRoom { room_name: \"general\" } }\n",
      "Sun 2023-01-22 10:49:28.572573 [TRACE] - [F<-T,N] For Endpoint Endpoint(127.0.0.1:62012), Took packet Request { sequence: 2, response_ack: Some(1), cookie: Some(\"b'RmlsdGVyTm90ZWJvb2tDbGllbnQ1MDg5'\"), action: NewRoom { room_name: \"general\" } }\n",
      "Sun 2023-01-22 10:49:28.798046 [TRACE] - [T<-UDP] Request { sequence: 3, response_ack: Some(1), cookie: Some(\"b'RmlsdGVyTm90ZWJvb2tDbGllbnQ1MDg5'\"), action: JoinRoom { room_name: \"general\" } }\n",
      "Sun 2023-01-22 10:49:28.821394 [TRACE] - [F<-T,N] For Endpoint Endpoint(127.0.0.1:62012), Took packet Request { sequence: 3, response_ack: Some(1), cookie: Some(\"b'RmlsdGVyTm90ZWJvb2tDbGllbnQ1MDg5'\"), action: JoinRoom { room_name: \"general\" } }\n",
      "Sun 2023-01-22 10:49:28.828617 [TRACE] - [T<-UDP] Request { sequence: 2, response_ack: Some(1), cookie: Some(\"b'RmlsdGVyTm90ZWJvb2tDbGllbnQ1MDg5'\"), action: NewRoom { room_name: \"general\" } }\n",
      "Sun 2023-01-22 10:49:28.852012 [TRACE] - [F<-T,N] For Endpoint Endpoint(127.0.0.1:62012), Took packet Request { sequence: 2, response_ack: Some(1), cookie: Some(\"b'RmlsdGVyTm90ZWJvb2tDbGllbnQ1MDg5'\"), action: NewRoom { room_name: \"general\" } }\n",
      "Sun 2023-01-22 10:49:29.048136 [TRACE] - [T<-UDP] Request { sequence: 3, response_ack: Some(1), cookie: Some(\"b'RmlsdGVyTm90ZWJvb2tDbGllbnQ1MDg5'\"), action: JoinRoom { room_name: \"general\" } }\n",
      "Sun 2023-01-22 10:49:29.070457 [TRACE] - [F<-T,N] For Endpoint Endpoint(127.0.0.1:62012), Took packet Request { sequence: 3, response_ack: Some(1), cookie: Some(\"b'RmlsdGVyTm90ZWJvb2tDbGllbnQ1MDg5'\"), action: JoinRoom { room_name: \"general\" } }\n",
      "Sun 2023-01-22 10:49:29.078623 [TRACE] - [T<-UDP] Request { sequence: 2, response_ack: Some(1), cookie: Some(\"b'RmlsdGVyTm90ZWJvb2tDbGllbnQ1MDg5'\"), action: NewRoom { room_name: \"general\" } }\n",
      "Sun 2023-01-22 10:49:29.101074 [TRACE] - [F<-T,N] For Endpoint Endpoint(127.0.0.1:62012), Took packet Request { sequence: 2, response_ack: Some(1), cookie: Some(\"b'RmlsdGVyTm90ZWJvb2tDbGllbnQ1MDg5'\"), action: NewRoom { room_name: \"general\" } }\n",
      "Sun 2023-01-22 10:49:29.298201 [TRACE] - [T<-UDP] Request { sequence: 3, response_ack: Some(1), cookie: Some(\"b'RmlsdGVyTm90ZWJvb2tDbGllbnQ1MDg5'\"), action: JoinRoom { room_name: \"general\" } }\n",
      "Sun 2023-01-22 10:49:29.318551 [TRACE] - [F<-T,N] For Endpoint Endpoint(127.0.0.1:62012), Took packet Request { sequence: 3, response_ack: Some(1), cookie: Some(\"b'RmlsdGVyTm90ZWJvb2tDbGllbnQ1MDg5'\"), action: JoinRoom { room_name: \"general\" } }\n",
      "Sun 2023-01-22 10:49:29.337948 [TRACE] - [T<-UDP] Request { sequence: 2, response_ack: Some(1), cookie: Some(\"b'RmlsdGVyTm90ZWJvb2tDbGllbnQ1MDg5'\"), action: NewRoom { room_name: \"general\" } }\n",
      "Sun 2023-01-22 10:49:29.349246 [TRACE] - [F<-T,N] For Endpoint Endpoint(127.0.0.1:62012), Took packet Request { sequence: 2, response_ack: Some(1), cookie: Some(\"b'RmlsdGVyTm90ZWJvb2tDbGllbnQ1MDg5'\"), action: NewRoom { room_name: \"general\" } }\n",
      "Sun 2023-01-22 10:49:29.548352 [TRACE] - [T<-UDP] Request { sequence: 3, response_ack: Some(1), cookie: Some(\"b'RmlsdGVyTm90ZWJvb2tDbGllbnQ1MDg5'\"), action: JoinRoom { room_name: \"general\" } }\n",
      "Sun 2023-01-22 10:49:29.566746 [TRACE] - [F<-T,N] For Endpoint Endpoint(127.0.0.1:62012), Took packet Request { sequence: 3, response_ack: Some(1), cookie: Some(\"b'RmlsdGVyTm90ZWJvb2tDbGllbnQ1MDg5'\"), action: JoinRoom { room_name: \"general\" } }\n",
      "Sun 2023-01-22 10:49:29.588255 [TRACE] - [T<-UDP] Request { sequence: 2, response_ack: Some(1), cookie: Some(\"b'RmlsdGVyTm90ZWJvb2tDbGllbnQ1MDg5'\"), action: NewRoom { room_name: \"general\" } }\n",
      "Sun 2023-01-22 10:49:29.598472 [TRACE] - [F<-T,N] For Endpoint Endpoint(127.0.0.1:62012), Took packet Request { sequence: 2, response_ack: Some(1), cookie: Some(\"b'RmlsdGVyTm90ZWJvb2tDbGllbnQ1MDg5'\"), action: NewRoom { room_name: \"general\" } }\n",
      "Sun 2023-01-22 10:49:29.807972 [TRACE] - [T<-UDP] Request { sequence: 3, response_ack: Some(1), cookie: Some(\"b'RmlsdGVyTm90ZWJvb2tDbGllbnQ1MDg5'\"), action: JoinRoom { room_name: \"general\" } }\n",
      "Sun 2023-01-22 10:49:29.815135 [TRACE] - [F<-T,N] For Endpoint Endpoint(127.0.0.1:62012), Took packet Request { sequence: 3, response_ack: Some(1), cookie: Some(\"b'RmlsdGVyTm90ZWJvb2tDbGllbnQ1MDg5'\"), action: JoinRoom { room_name: \"general\" } }\n",
      "Sun 2023-01-22 10:49:29.838530 [TRACE] - [T<-UDP] Request { sequence: 2, response_ack: Some(1), cookie: Some(\"b'RmlsdGVyTm90ZWJvb2tDbGllbnQ1MDg5'\"), action: NewRoom { room_name: \"general\" } }\n",
      "Sun 2023-01-22 10:49:29.845741 [TRACE] - [F<-T,N] For Endpoint Endpoint(127.0.0.1:62012), Took packet Request { sequence: 2, response_ack: Some(1), cookie: Some(\"b'RmlsdGVyTm90ZWJvb2tDbGllbnQ1MDg5'\"), action: NewRoom { room_name: \"general\" } }\n",
      "Sun 2023-01-22 10:49:30.058611 [TRACE] - [T<-UDP] Request { sequence: 3, response_ack: Some(1), cookie: Some(\"b'RmlsdGVyTm90ZWJvb2tDbGllbnQ1MDg5'\"), action: JoinRoom { room_name: \"general\" } }\n",
      "Sun 2023-01-22 10:49:30.063755 [TRACE] - [F<-T,N] For Endpoint Endpoint(127.0.0.1:62012), Took packet Request { sequence: 3, response_ack: Some(1), cookie: Some(\"b'RmlsdGVyTm90ZWJvb2tDbGllbnQ1MDg5'\"), action: JoinRoom { room_name: \"general\" } }\n",
      "Sun 2023-01-22 10:49:30.098276 [TRACE] - [T<-UDP] Request { sequence: 2, response_ack: Some(1), cookie: Some(\"b'RmlsdGVyTm90ZWJvb2tDbGllbnQ1MDg5'\"), action: NewRoom { room_name: \"general\" } }\n",
      "Sun 2023-01-22 10:49:30.125760 [TRACE] - [F<-T,N] For Endpoint Endpoint(127.0.0.1:62012), Took packet Request { sequence: 2, response_ack: Some(1), cookie: Some(\"b'RmlsdGVyTm90ZWJvb2tDbGllbnQ1MDg5'\"), action: NewRoom { room_name: \"general\" } }\n"
     ]
    },
    {
     "name": "stdout",
     "output_type": "stream",
     "text": [
      "Sun 2023-01-22 10:49:30.317839 [TRACE] - [T<-UDP] Request { sequence: 3, response_ack: Some(1), cookie: Some(\"b'RmlsdGVyTm90ZWJvb2tDbGllbnQ1MDg5'\"), action: JoinRoom { room_name: \"general\" } }\n",
      "Sun 2023-01-22 10:49:30.344411 [TRACE] - [F<-T,N] For Endpoint Endpoint(127.0.0.1:62012), Took packet Request { sequence: 3, response_ack: Some(1), cookie: Some(\"b'RmlsdGVyTm90ZWJvb2tDbGllbnQ1MDg5'\"), action: JoinRoom { room_name: \"general\" } }\n",
      "Sun 2023-01-22 10:49:30.348543 [TRACE] - [T<-UDP] Request { sequence: 2, response_ack: Some(1), cookie: Some(\"b'RmlsdGVyTm90ZWJvb2tDbGllbnQ1MDg5'\"), action: NewRoom { room_name: \"general\" } }\n",
      "Sun 2023-01-22 10:49:30.375178 [TRACE] - [F<-T,N] For Endpoint Endpoint(127.0.0.1:62012), Took packet Request { sequence: 2, response_ack: Some(1), cookie: Some(\"b'RmlsdGVyTm90ZWJvb2tDbGllbnQ1MDg5'\"), action: NewRoom { room_name: \"general\" } }\n",
      "Sun 2023-01-22 10:49:30.567869 [TRACE] - [T<-UDP] Request { sequence: 3, response_ack: Some(1), cookie: Some(\"b'RmlsdGVyTm90ZWJvb2tDbGllbnQ1MDg5'\"), action: JoinRoom { room_name: \"general\" } }\n",
      "Sun 2023-01-22 10:49:30.594428 [TRACE] - [F<-T,N] For Endpoint Endpoint(127.0.0.1:62012), Took packet Request { sequence: 3, response_ack: Some(1), cookie: Some(\"b'RmlsdGVyTm90ZWJvb2tDbGllbnQ1MDg5'\"), action: JoinRoom { room_name: \"general\" } }\n",
      "Sun 2023-01-22 10:49:30.598560 [TRACE] - [T<-UDP] Request { sequence: 2, response_ack: Some(1), cookie: Some(\"b'RmlsdGVyTm90ZWJvb2tDbGllbnQ1MDg5'\"), action: NewRoom { room_name: \"general\" } }\n",
      "Sun 2023-01-22 10:49:30.625217 [TRACE] - [F<-T,N] For Endpoint Endpoint(127.0.0.1:62012), Took packet Request { sequence: 2, response_ack: Some(1), cookie: Some(\"b'RmlsdGVyTm90ZWJvb2tDbGllbnQ1MDg5'\"), action: NewRoom { room_name: \"general\" } }\n",
      "Sun 2023-01-22 10:49:30.818435 [TRACE] - [T<-UDP] Request { sequence: 3, response_ack: Some(1), cookie: Some(\"b'RmlsdGVyTm90ZWJvb2tDbGllbnQ1MDg5'\"), action: JoinRoom { room_name: \"general\" } }\n",
      "Sun 2023-01-22 10:49:30.843060 [TRACE] - [F<-T,N] For Endpoint Endpoint(127.0.0.1:62012), Took packet Request { sequence: 3, response_ack: Some(1), cookie: Some(\"b'RmlsdGVyTm90ZWJvb2tDbGllbnQ1MDg5'\"), action: JoinRoom { room_name: \"general\" } }\n",
      "Sun 2023-01-22 10:49:30.858382 [TRACE] - [T<-UDP] Request { sequence: 2, response_ack: Some(1), cookie: Some(\"b'RmlsdGVyTm90ZWJvb2tDbGllbnQ1MDg5'\"), action: NewRoom { room_name: \"general\" } }\n",
      "Sun 2023-01-22 10:49:30.873940 [TRACE] - [F<-T,N] For Endpoint Endpoint(127.0.0.1:62012), Took packet Request { sequence: 2, response_ack: Some(1), cookie: Some(\"b'RmlsdGVyTm90ZWJvb2tDbGllbnQ1MDg5'\"), action: NewRoom { room_name: \"general\" } }\n",
      "Sun 2023-01-22 10:49:31.078370 [TRACE] - [T<-UDP] Request { sequence: 3, response_ack: Some(1), cookie: Some(\"b'RmlsdGVyTm90ZWJvb2tDbGllbnQ1MDg5'\"), action: JoinRoom { room_name: \"general\" } }\n",
      "Sun 2023-01-22 10:49:31.093586 [TRACE] - [F<-T,N] For Endpoint Endpoint(127.0.0.1:62012), Took packet Request { sequence: 3, response_ack: Some(1), cookie: Some(\"b'RmlsdGVyTm90ZWJvb2tDbGllbnQ1MDg5'\"), action: JoinRoom { room_name: \"general\" } }\n",
      "Sun 2023-01-22 10:49:31.118164 [TRACE] - [T<-UDP] Request { sequence: 2, response_ack: Some(1), cookie: Some(\"b'RmlsdGVyTm90ZWJvb2tDbGllbnQ1MDg5'\"), action: NewRoom { room_name: \"general\" } }\n",
      "Sun 2023-01-22 10:49:31.125618 [TRACE] - [F<-T,N] For Endpoint Endpoint(127.0.0.1:62012), Took packet Request { sequence: 2, response_ack: Some(1), cookie: Some(\"b'RmlsdGVyTm90ZWJvb2tDbGllbnQ1MDg5'\"), action: NewRoom { room_name: \"general\" } }\n",
      "Sun 2023-01-22 10:49:31.328655 [TRACE] - [T<-UDP] Request { sequence: 3, response_ack: Some(1), cookie: Some(\"b'RmlsdGVyTm90ZWJvb2tDbGllbnQ1MDg5'\"), action: JoinRoom { room_name: \"general\" } }\n",
      "Sun 2023-01-22 10:49:31.344126 [TRACE] - [F<-T,N] For Endpoint Endpoint(127.0.0.1:62012), Took packet Request { sequence: 3, response_ack: Some(1), cookie: Some(\"b'RmlsdGVyTm90ZWJvb2tDbGllbnQ1MDg5'\"), action: JoinRoom { room_name: \"general\" } }\n",
      "Sun 2023-01-22 10:49:31.368606 [TRACE] - [T<-UDP] Request { sequence: 2, response_ack: Some(1), cookie: Some(\"b'RmlsdGVyTm90ZWJvb2tDbGllbnQ1MDg5'\"), action: NewRoom { room_name: \"general\" } }\n",
      "Sun 2023-01-22 10:49:31.374791 [TRACE] - [F<-T,N] For Endpoint Endpoint(127.0.0.1:62012), Took packet Request { sequence: 2, response_ack: Some(1), cookie: Some(\"b'RmlsdGVyTm90ZWJvb2tDbGllbnQ1MDg5'\"), action: NewRoom { room_name: \"general\" } }\n",
      "Sun 2023-01-22 10:49:31.588590 [TRACE] - [T<-UDP] Request { sequence: 3, response_ack: Some(1), cookie: Some(\"b'RmlsdGVyTm90ZWJvb2tDbGllbnQ1MDg5'\"), action: JoinRoom { room_name: \"general\" } }\n",
      "Sun 2023-01-22 10:49:31.591724 [TRACE] - [F<-T,N] For Endpoint Endpoint(127.0.0.1:62012), Took packet Request { sequence: 3, response_ack: Some(1), cookie: Some(\"b'RmlsdGVyTm90ZWJvb2tDbGllbnQ1MDg5'\"), action: JoinRoom { room_name: \"general\" } }\n",
      "Sun 2023-01-22 10:49:31.628591 [TRACE] - [T<-UDP] Request { sequence: 2, response_ack: Some(1), cookie: Some(\"b'RmlsdGVyTm90ZWJvb2tDbGllbnQ1MDg5'\"), action: NewRoom { room_name: \"general\" } }\n",
      "Sun 2023-01-22 10:49:31.654149 [TRACE] - [F<-T,N] For Endpoint Endpoint(127.0.0.1:62012), Took packet Request { sequence: 2, response_ack: Some(1), cookie: Some(\"b'RmlsdGVyTm90ZWJvb2tDbGllbnQ1MDg5'\"), action: NewRoom { room_name: \"general\" } }\n",
      "Sun 2023-01-22 10:49:31.847720 [TRACE] - [T<-UDP] Request { sequence: 3, response_ack: Some(1), cookie: Some(\"b'RmlsdGVyTm90ZWJvb2tDbGllbnQ1MDg5'\"), action: JoinRoom { room_name: \"general\" } }\n",
      "Sun 2023-01-22 10:49:31.872175 [TRACE] - [F<-T,N] For Endpoint Endpoint(127.0.0.1:62012), Took packet Request { sequence: 3, response_ack: Some(1), cookie: Some(\"b'RmlsdGVyTm90ZWJvb2tDbGllbnQ1MDg5'\"), action: JoinRoom { room_name: \"general\" } }\n",
      "Sun 2023-01-22 10:49:31.888543 [TRACE] - [T<-UDP] Request { sequence: 2, response_ack: Some(1), cookie: Some(\"b'RmlsdGVyTm90ZWJvb2tDbGllbnQ1MDg5'\"), action: NewRoom { room_name: \"general\" } }\n",
      "Sun 2023-01-22 10:49:31.902828 [TRACE] - [F<-T,N] For Endpoint Endpoint(127.0.0.1:62012), Took packet Request { sequence: 2, response_ack: Some(1), cookie: Some(\"b'RmlsdGVyTm90ZWJvb2tDbGllbnQ1MDg5'\"), action: NewRoom { room_name: \"general\" } }\n",
      "Sun 2023-01-22 10:49:32.098493 [TRACE] - [T<-UDP] Request { sequence: 3, response_ack: Some(1), cookie: Some(\"b'RmlsdGVyTm90ZWJvb2tDbGllbnQ1MDg5'\"), action: JoinRoom { room_name: \"general\" } }\n",
      "Sun 2023-01-22 10:49:32.120894 [TRACE] - [F<-T,N] For Endpoint Endpoint(127.0.0.1:62012), Took packet Request { sequence: 3, response_ack: Some(1), cookie: Some(\"b'RmlsdGVyTm90ZWJvb2tDbGllbnQ1MDg5'\"), action: JoinRoom { room_name: \"general\" } }\n",
      "Sun 2023-01-22 10:49:32.148368 [TRACE] - [T<-UDP] Request { sequence: 2, response_ack: Some(1), cookie: Some(\"b'RmlsdGVyTm90ZWJvb2tDbGllbnQ1MDg5'\"), action: NewRoom { room_name: \"general\" } }\n",
      "Sun 2023-01-22 10:49:32.152470 [TRACE] - [F<-T,N] For Endpoint Endpoint(127.0.0.1:62012), Took packet Request { sequence: 2, response_ack: Some(1), cookie: Some(\"b'RmlsdGVyTm90ZWJvb2tDbGllbnQ1MDg5'\"), action: NewRoom { room_name: \"general\" } }\n",
      "Sun 2023-01-22 10:49:32.358644 [TRACE] - [T<-UDP] Request { sequence: 3, response_ack: Some(1), cookie: Some(\"b'RmlsdGVyTm90ZWJvb2tDbGllbnQ1MDg5'\"), action: JoinRoom { room_name: \"general\" } }\n",
      "Sun 2023-01-22 10:49:32.368855 [TRACE] - [F<-T,N] For Endpoint Endpoint(127.0.0.1:62012), Took packet Request { sequence: 3, response_ack: Some(1), cookie: Some(\"b'RmlsdGVyTm90ZWJvb2tDbGllbnQ1MDg5'\"), action: JoinRoom { room_name: \"general\" } }\n",
      "Sun 2023-01-22 10:49:32.408439 [TRACE] - [T<-UDP] Request { sequence: 2, response_ack: Some(1), cookie: Some(\"b'RmlsdGVyTm90ZWJvb2tDbGllbnQ1MDg5'\"), action: NewRoom { room_name: \"general\" } }\n",
      "Sun 2023-01-22 10:49:32.430887 [TRACE] - [F<-T,N] For Endpoint Endpoint(127.0.0.1:62012), Took packet Request { sequence: 2, response_ack: Some(1), cookie: Some(\"b'RmlsdGVyTm90ZWJvb2tDbGllbnQ1MDg5'\"), action: NewRoom { room_name: \"general\" } }\n",
      "Sun 2023-01-22 10:49:32.618633 [TRACE] - [T<-UDP] Request { sequence: 3, response_ack: Some(1), cookie: Some(\"b'RmlsdGVyTm90ZWJvb2tDbGllbnQ1MDg5'\"), action: JoinRoom { room_name: \"general\" } }\n",
      "Sun 2023-01-22 10:49:32.648074 [TRACE] - [F<-T,N] For Endpoint Endpoint(127.0.0.1:62012), Took packet Request { sequence: 3, response_ack: Some(1), cookie: Some(\"b'RmlsdGVyTm90ZWJvb2tDbGllbnQ1MDg5'\"), action: JoinRoom { room_name: \"general\" } }\n",
      "Sun 2023-01-22 10:49:32.658639 [TRACE] - [T<-UDP] Request { sequence: 2, response_ack: Some(1), cookie: Some(\"b'RmlsdGVyTm90ZWJvb2tDbGllbnQ1MDg5'\"), action: NewRoom { room_name: \"general\" } }\n",
      "Sun 2023-01-22 10:49:32.679322 [TRACE] - [F<-T,N] For Endpoint Endpoint(127.0.0.1:62012), Took packet Request { sequence: 2, response_ack: Some(1), cookie: Some(\"b'RmlsdGVyTm90ZWJvb2tDbGllbnQ1MDg5'\"), action: NewRoom { room_name: \"general\" } }\n"
     ]
    },
    {
     "name": "stdout",
     "output_type": "stream",
     "text": [
      "Sun 2023-01-22 10:49:32.878463 [TRACE] - [T<-UDP] Request { sequence: 3, response_ack: Some(1), cookie: Some(\"b'RmlsdGVyTm90ZWJvb2tDbGllbnQ1MDg5'\"), action: JoinRoom { room_name: \"general\" } }\n",
      "Sun 2023-01-22 10:49:32.895743 [TRACE] - [F<-T,N] For Endpoint Endpoint(127.0.0.1:62012), Took packet Request { sequence: 3, response_ack: Some(1), cookie: Some(\"b'RmlsdGVyTm90ZWJvb2tDbGllbnQ1MDg5'\"), action: JoinRoom { room_name: \"general\" } }\n",
      "Sun 2023-01-22 10:49:32.918074 [TRACE] - [T<-UDP] Request { sequence: 2, response_ack: Some(1), cookie: Some(\"b'RmlsdGVyTm90ZWJvb2tDbGllbnQ1MDg5'\"), action: NewRoom { room_name: \"general\" } }\n",
      "Sun 2023-01-22 10:49:32.927228 [TRACE] - [F<-T,N] For Endpoint Endpoint(127.0.0.1:62012), Took packet Request { sequence: 2, response_ack: Some(1), cookie: Some(\"b'RmlsdGVyTm90ZWJvb2tDbGllbnQ1MDg5'\"), action: NewRoom { room_name: \"general\" } }\n",
      "Sun 2023-01-22 10:49:33.137837 [TRACE] - [T<-UDP] Request { sequence: 3, response_ack: Some(1), cookie: Some(\"b'RmlsdGVyTm90ZWJvb2tDbGllbnQ1MDg5'\"), action: JoinRoom { room_name: \"general\" } }\n",
      "Sun 2023-01-22 10:49:33.143993 [TRACE] - [F<-T,N] For Endpoint Endpoint(127.0.0.1:62012), Took packet Request { sequence: 3, response_ack: Some(1), cookie: Some(\"b'RmlsdGVyTm90ZWJvb2tDbGllbnQ1MDg5'\"), action: JoinRoom { room_name: \"general\" } }\n",
      "Sun 2023-01-22 10:49:33.178229 [TRACE] - [T<-UDP] Request { sequence: 2, response_ack: Some(1), cookie: Some(\"b'RmlsdGVyTm90ZWJvb2tDbGllbnQ1MDg5'\"), action: NewRoom { room_name: \"general\" } }\n",
      "Sun 2023-01-22 10:49:33.205924 [TRACE] - [F<-T,N] For Endpoint Endpoint(127.0.0.1:62012), Took packet Request { sequence: 2, response_ack: Some(1), cookie: Some(\"b'RmlsdGVyTm90ZWJvb2tDbGllbnQ1MDg5'\"), action: NewRoom { room_name: \"general\" } }\n",
      "Sun 2023-01-22 10:49:33.397922 [TRACE] - [T<-UDP] Request { sequence: 3, response_ack: Some(1), cookie: Some(\"b'RmlsdGVyTm90ZWJvb2tDbGllbnQ1MDg5'\"), action: JoinRoom { room_name: \"general\" } }\n",
      "Sun 2023-01-22 10:49:33.423281 [TRACE] - [F<-T,N] For Endpoint Endpoint(127.0.0.1:62012), Took packet Request { sequence: 3, response_ack: Some(1), cookie: Some(\"b'RmlsdGVyTm90ZWJvb2tDbGllbnQ1MDg5'\"), action: JoinRoom { room_name: \"general\" } }\n",
      "Sun 2023-01-22 10:49:33.428413 [TRACE] - [T<-UDP] Request { sequence: 2, response_ack: Some(1), cookie: Some(\"b'RmlsdGVyTm90ZWJvb2tDbGllbnQ1MDg5'\"), action: NewRoom { room_name: \"general\" } }\n",
      "Sun 2023-01-22 10:49:33.453947 [TRACE] - [F<-T,N] For Endpoint Endpoint(127.0.0.1:62012), Took packet Request { sequence: 2, response_ack: Some(1), cookie: Some(\"b'RmlsdGVyTm90ZWJvb2tDbGllbnQ1MDg5'\"), action: NewRoom { room_name: \"general\" } }\n",
      "Sun 2023-01-22 10:49:33.647958 [TRACE] - [T<-UDP] Request { sequence: 3, response_ack: Some(1), cookie: Some(\"b'RmlsdGVyTm90ZWJvb2tDbGllbnQ1MDg5'\"), action: JoinRoom { room_name: \"general\" } }\n",
      "Sun 2023-01-22 10:49:33.671285 [TRACE] - [F<-T,N] For Endpoint Endpoint(127.0.0.1:62012), Took packet Request { sequence: 3, response_ack: Some(1), cookie: Some(\"b'RmlsdGVyTm90ZWJvb2tDbGllbnQ1MDg5'\"), action: JoinRoom { room_name: \"general\" } }\n",
      "Sun 2023-01-22 10:49:33.678440 [TRACE] - [T<-UDP] Request { sequence: 2, response_ack: Some(1), cookie: Some(\"b'RmlsdGVyTm90ZWJvb2tDbGllbnQ1MDg5'\"), action: NewRoom { room_name: \"general\" } }\n",
      "Sun 2023-01-22 10:49:33.701824 [TRACE] - [F<-T,N] For Endpoint Endpoint(127.0.0.1:62012), Took packet Request { sequence: 2, response_ack: Some(1), cookie: Some(\"b'RmlsdGVyTm90ZWJvb2tDbGllbnQ1MDg5'\"), action: NewRoom { room_name: \"general\" } }\n",
      "Sun 2023-01-22 10:49:33.898404 [TRACE] - [T<-UDP] Request { sequence: 3, response_ack: Some(1), cookie: Some(\"b'RmlsdGVyTm90ZWJvb2tDbGllbnQ1MDg5'\"), action: JoinRoom { room_name: \"general\" } }\n",
      "Sun 2023-01-22 10:49:33.918761 [TRACE] - [F<-T,N] For Endpoint Endpoint(127.0.0.1:62012), Took packet Request { sequence: 3, response_ack: Some(1), cookie: Some(\"b'RmlsdGVyTm90ZWJvb2tDbGllbnQ1MDg5'\"), action: JoinRoom { room_name: \"general\" } }\n",
      "Sun 2023-01-22 10:49:33.938036 [TRACE] - [T<-UDP] Request { sequence: 2, response_ack: Some(1), cookie: Some(\"b'RmlsdGVyTm90ZWJvb2tDbGllbnQ1MDg5'\"), action: NewRoom { room_name: \"general\" } }\n",
      "Sun 2023-01-22 10:49:33.950318 [TRACE] - [F<-T,N] For Endpoint Endpoint(127.0.0.1:62012), Took packet Request { sequence: 2, response_ack: Some(1), cookie: Some(\"b'RmlsdGVyTm90ZWJvb2tDbGllbnQ1MDg5'\"), action: NewRoom { room_name: \"general\" } }\n",
      "Sun 2023-01-22 10:49:34.157808 [TRACE] - [T<-UDP] Request { sequence: 3, response_ack: Some(1), cookie: Some(\"b'RmlsdGVyTm90ZWJvb2tDbGllbnQ1MDg5'\"), action: JoinRoom { room_name: \"general\" } }\n",
      "Sun 2023-01-22 10:49:34.166962 [TRACE] - [F<-T,N] For Endpoint Endpoint(127.0.0.1:62012), Took packet Request { sequence: 3, response_ack: Some(1), cookie: Some(\"b'RmlsdGVyTm90ZWJvb2tDbGllbnQ1MDg5'\"), action: JoinRoom { room_name: \"general\" } }\n",
      "Sun 2023-01-22 10:49:34.188300 [TRACE] - [T<-UDP] Request { sequence: 2, response_ack: Some(1), cookie: Some(\"b'RmlsdGVyTm90ZWJvb2tDbGllbnQ1MDg5'\"), action: NewRoom { room_name: \"general\" } }\n",
      "Sun 2023-01-22 10:49:34.198455 [TRACE] - [F<-T,N] For Endpoint Endpoint(127.0.0.1:62012), Took packet Request { sequence: 2, response_ack: Some(1), cookie: Some(\"b'RmlsdGVyTm90ZWJvb2tDbGllbnQ1MDg5'\"), action: NewRoom { room_name: \"general\" } }\n",
      "Sun 2023-01-22 10:49:34.408000 [TRACE] - [T<-UDP] Request { sequence: 3, response_ack: Some(1), cookie: Some(\"b'RmlsdGVyTm90ZWJvb2tDbGllbnQ1MDg5'\"), action: JoinRoom { room_name: \"general\" } }\n",
      "Sun 2023-01-22 10:49:34.416165 [TRACE] - [F<-T,N] For Endpoint Endpoint(127.0.0.1:62012), Took packet Request { sequence: 3, response_ack: Some(1), cookie: Some(\"b'RmlsdGVyTm90ZWJvb2tDbGllbnQ1MDg5'\"), action: JoinRoom { room_name: \"general\" } }\n",
      "Sun 2023-01-22 10:49:34.438562 [TRACE] - [T<-UDP] Request { sequence: 2, response_ack: Some(1), cookie: Some(\"b'RmlsdGVyTm90ZWJvb2tDbGllbnQ1MDg5'\"), action: NewRoom { room_name: \"general\" } }\n",
      "Sun 2023-01-22 10:49:34.446722 [TRACE] - [F<-T,N] For Endpoint Endpoint(127.0.0.1:62012), Took packet Request { sequence: 2, response_ack: Some(1), cookie: Some(\"b'RmlsdGVyTm90ZWJvb2tDbGllbnQ1MDg5'\"), action: NewRoom { room_name: \"general\" } }\n",
      "Sun 2023-01-22 10:49:34.668101 [TRACE] - [T<-UDP] Request { sequence: 3, response_ack: Some(1), cookie: Some(\"b'RmlsdGVyTm90ZWJvb2tDbGllbnQ1MDg5'\"), action: JoinRoom { room_name: \"general\" } }\n",
      "Sun 2023-01-22 10:49:34.695523 [TRACE] - [F<-T,N] For Endpoint Endpoint(127.0.0.1:62012), Took packet Request { sequence: 3, response_ack: Some(1), cookie: Some(\"b'RmlsdGVyTm90ZWJvb2tDbGllbnQ1MDg5'\"), action: JoinRoom { room_name: \"general\" } }\n",
      "Sun 2023-01-22 10:49:34.698610 [TRACE] - [T<-UDP] Request { sequence: 2, response_ack: Some(1), cookie: Some(\"b'RmlsdGVyTm90ZWJvb2tDbGllbnQ1MDg5'\"), action: NewRoom { room_name: \"general\" } }\n",
      "Sun 2023-01-22 10:49:34.726052 [TRACE] - [F<-T,N] For Endpoint Endpoint(127.0.0.1:62012), Took packet Request { sequence: 2, response_ack: Some(1), cookie: Some(\"b'RmlsdGVyTm90ZWJvb2tDbGllbnQ1MDg5'\"), action: NewRoom { room_name: \"general\" } }\n",
      "Sun 2023-01-22 10:49:34.928086 [TRACE] - [T<-UDP] Request { sequence: 3, response_ack: Some(1), cookie: Some(\"b'RmlsdGVyTm90ZWJvb2tDbGllbnQ1MDg5'\"), action: JoinRoom { room_name: \"general\" } }\n",
      "Sun 2023-01-22 10:49:34.943309 [TRACE] - [F<-T,N] For Endpoint Endpoint(127.0.0.1:62012), Took packet Request { sequence: 3, response_ack: Some(1), cookie: Some(\"b'RmlsdGVyTm90ZWJvb2tDbGllbnQ1MDg5'\"), action: JoinRoom { room_name: \"general\" } }\n",
      "Sun 2023-01-22 10:49:34.958643 [TRACE] - [T<-UDP] Request { sequence: 2, response_ack: Some(1), cookie: Some(\"b'RmlsdGVyTm90ZWJvb2tDbGllbnQ1MDg5'\"), action: NewRoom { room_name: \"general\" } }\n",
      "Sun 2023-01-22 10:49:34.973882 [TRACE] - [F<-T,N] For Endpoint Endpoint(127.0.0.1:62012), Took packet Request { sequence: 2, response_ack: Some(1), cookie: Some(\"b'RmlsdGVyTm90ZWJvb2tDbGllbnQ1MDg5'\"), action: NewRoom { room_name: \"general\" } }\n",
      "Sun 2023-01-22 10:49:35.187994 [TRACE] - [T<-UDP] Request { sequence: 3, response_ack: Some(1), cookie: Some(\"b'RmlsdGVyTm90ZWJvb2tDbGllbnQ1MDg5'\"), action: JoinRoom { room_name: \"general\" } }\n",
      "Sun 2023-01-22 10:49:35.192083 [TRACE] - [F<-T,N] For Endpoint Endpoint(127.0.0.1:62012), Took packet Request { sequence: 3, response_ack: Some(1), cookie: Some(\"b'RmlsdGVyTm90ZWJvb2tDbGllbnQ1MDg5'\"), action: JoinRoom { room_name: \"general\" } }\n",
      "Sun 2023-01-22 10:49:35.218513 [TRACE] - [T<-UDP] Request { sequence: 2, response_ack: Some(1), cookie: Some(\"b'RmlsdGVyTm90ZWJvb2tDbGllbnQ1MDg5'\"), action: NewRoom { room_name: \"general\" } }\n",
      "Sun 2023-01-22 10:49:35.223624 [TRACE] - [F<-T,N] For Endpoint Endpoint(127.0.0.1:62012), Took packet Request { sequence: 2, response_ack: Some(1), cookie: Some(\"b'RmlsdGVyTm90ZWJvb2tDbGllbnQ1MDg5'\"), action: NewRoom { room_name: \"general\" } }\n"
     ]
    },
    {
     "name": "stdout",
     "output_type": "stream",
     "text": [
      "Sun 2023-01-22 10:49:35.448207 [TRACE] - [T<-UDP] Request { sequence: 3, response_ack: Some(1), cookie: Some(\"b'RmlsdGVyTm90ZWJvb2tDbGllbnQ1MDg5'\"), action: JoinRoom { room_name: \"general\" } }\n",
      "Sun 2023-01-22 10:49:35.472745 [TRACE] - [F<-T,N] For Endpoint Endpoint(127.0.0.1:62012), Took packet Request { sequence: 3, response_ack: Some(1), cookie: Some(\"b'RmlsdGVyTm90ZWJvb2tDbGllbnQ1MDg5'\"), action: JoinRoom { room_name: \"general\" } }\n",
      "Sun 2023-01-22 10:49:35.477842 [TRACE] - [T<-UDP] Request { sequence: 2, response_ack: Some(1), cookie: Some(\"b'RmlsdGVyTm90ZWJvb2tDbGllbnQ1MDg5'\"), action: NewRoom { room_name: \"general\" } }\n",
      "Sun 2023-01-22 10:49:35.504317 [TRACE] - [F<-T,N] For Endpoint Endpoint(127.0.0.1:62012), Took packet Request { sequence: 2, response_ack: Some(1), cookie: Some(\"b'RmlsdGVyTm90ZWJvb2tDbGllbnQ1MDg5'\"), action: NewRoom { room_name: \"general\" } }\n",
      "Sun 2023-01-22 10:49:35.698607 [TRACE] - [T<-UDP] Request { sequence: 3, response_ack: Some(1), cookie: Some(\"b'RmlsdGVyTm90ZWJvb2tDbGllbnQ1MDg5'\"), action: JoinRoom { room_name: \"general\" } }\n",
      "Sun 2023-01-22 10:49:35.720958 [TRACE] - [F<-T,N] For Endpoint Endpoint(127.0.0.1:62012), Took packet Request { sequence: 3, response_ack: Some(1), cookie: Some(\"b'RmlsdGVyTm90ZWJvb2tDbGllbnQ1MDg5'\"), action: JoinRoom { room_name: \"general\" } }\n",
      "Sun 2023-01-22 10:49:35.728119 [TRACE] - [T<-UDP] Request { sequence: 2, response_ack: Some(1), cookie: Some(\"b'RmlsdGVyTm90ZWJvb2tDbGllbnQ1MDg5'\"), action: NewRoom { room_name: \"general\" } }\n",
      "Sun 2023-01-22 10:49:35.752457 [TRACE] - [F<-T,N] For Endpoint Endpoint(127.0.0.1:62012), Took packet Request { sequence: 2, response_ack: Some(1), cookie: Some(\"b'RmlsdGVyTm90ZWJvb2tDbGllbnQ1MDg5'\"), action: NewRoom { room_name: \"general\" } }\n",
      "Sun 2023-01-22 10:49:35.958392 [TRACE] - [T<-UDP] Request { sequence: 3, response_ack: Some(1), cookie: Some(\"b'RmlsdGVyTm90ZWJvb2tDbGllbnQ1MDg5'\"), action: JoinRoom { room_name: \"general\" } }\n",
      "Sun 2023-01-22 10:49:35.968631 [TRACE] - [F<-T,N] For Endpoint Endpoint(127.0.0.1:62012), Took packet Request { sequence: 3, response_ack: Some(1), cookie: Some(\"b'RmlsdGVyTm90ZWJvb2tDbGllbnQ1MDg5'\"), action: JoinRoom { room_name: \"general\" } }\n",
      "Sun 2023-01-22 10:49:35.988226 [TRACE] - [T<-UDP] Request { sequence: 2, response_ack: Some(1), cookie: Some(\"b'RmlsdGVyTm90ZWJvb2tDbGllbnQ1MDg5'\"), action: NewRoom { room_name: \"general\" } }\n",
      "Sun 2023-01-22 10:49:35.999915 [TRACE] - [F<-T,N] For Endpoint Endpoint(127.0.0.1:62012), Took packet Request { sequence: 2, response_ack: Some(1), cookie: Some(\"b'RmlsdGVyTm90ZWJvb2tDbGllbnQ1MDg5'\"), action: NewRoom { room_name: \"general\" } }\n",
      "Sun 2023-01-22 10:49:36.218407 [TRACE] - [T<-UDP] Request { sequence: 3, response_ack: Some(1), cookie: Some(\"b'RmlsdGVyTm90ZWJvb2tDbGllbnQ1MDg5'\"), action: JoinRoom { room_name: \"general\" } }\n",
      "Sun 2023-01-22 10:49:36.247827 [TRACE] - [T<-UDP] Request { sequence: 2, response_ack: Some(1), cookie: Some(\"b'RmlsdGVyTm90ZWJvb2tDbGllbnQ1MDg5'\"), action: NewRoom { room_name: \"general\" } }\n",
      "Sun 2023-01-22 10:49:36.247838 [TRACE] - [F<-T,N] For Endpoint Endpoint(127.0.0.1:62012), Took packet Request { sequence: 3, response_ack: Some(1), cookie: Some(\"b'RmlsdGVyTm90ZWJvb2tDbGllbnQ1MDg5'\"), action: JoinRoom { room_name: \"general\" } }\n",
      "Sun 2023-01-22 10:49:36.279415 [TRACE] - [F<-T,N] For Endpoint Endpoint(127.0.0.1:62012), Took packet Request { sequence: 2, response_ack: Some(1), cookie: Some(\"b'RmlsdGVyTm90ZWJvb2tDbGllbnQ1MDg5'\"), action: NewRoom { room_name: \"general\" } }\n",
      "Sun 2023-01-22 10:49:36.478481 [TRACE] - [T<-UDP] Request { sequence: 3, response_ack: Some(1), cookie: Some(\"b'RmlsdGVyTm90ZWJvb2tDbGllbnQ1MDg5'\"), action: JoinRoom { room_name: \"general\" } }\n",
      "Sun 2023-01-22 10:49:36.495772 [TRACE] - [F<-T,N] For Endpoint Endpoint(127.0.0.1:62012), Took packet Request { sequence: 3, response_ack: Some(1), cookie: Some(\"b'RmlsdGVyTm90ZWJvb2tDbGllbnQ1MDg5'\"), action: JoinRoom { room_name: \"general\" } }\n",
      "Sun 2023-01-22 10:49:36.497875 [TRACE] - [T<-UDP] Request { sequence: 2, response_ack: Some(1), cookie: Some(\"b'RmlsdGVyTm90ZWJvb2tDbGllbnQ1MDg5'\"), action: NewRoom { room_name: \"general\" } }\n",
      "Sun 2023-01-22 10:49:36.527321 [TRACE] - [F<-T,N] For Endpoint Endpoint(127.0.0.1:62012), Took packet Request { sequence: 2, response_ack: Some(1), cookie: Some(\"b'RmlsdGVyTm90ZWJvb2tDbGllbnQ1MDg5'\"), action: NewRoom { room_name: \"general\" } }\n",
      "Sun 2023-01-22 10:49:36.738371 [TRACE] - [T<-UDP] Request { sequence: 3, response_ack: Some(1), cookie: Some(\"b'RmlsdGVyTm90ZWJvb2tDbGllbnQ1MDg5'\"), action: JoinRoom { room_name: \"general\" } }\n",
      "Sun 2023-01-22 10:49:36.744520 [TRACE] - [F<-T,N] For Endpoint Endpoint(127.0.0.1:62012), Took packet Request { sequence: 3, response_ack: Some(1), cookie: Some(\"b'RmlsdGVyTm90ZWJvb2tDbGllbnQ1MDg5'\"), action: JoinRoom { room_name: \"general\" } }\n",
      "Sun 2023-01-22 10:49:36.748613 [TRACE] - [T<-UDP] Request { sequence: 2, response_ack: Some(1), cookie: Some(\"b'RmlsdGVyTm90ZWJvb2tDbGllbnQ1MDg5'\"), action: NewRoom { room_name: \"general\" } }\n",
      "Sun 2023-01-22 10:49:36.775071 [TRACE] - [F<-T,N] For Endpoint Endpoint(127.0.0.1:62012), Took packet Request { sequence: 2, response_ack: Some(1), cookie: Some(\"b'RmlsdGVyTm90ZWJvb2tDbGllbnQ1MDg5'\"), action: NewRoom { room_name: \"general\" } }\n",
      "Sun 2023-01-22 10:49:36.988379 [TRACE] - [T<-UDP] Request { sequence: 3, response_ack: Some(1), cookie: Some(\"b'RmlsdGVyTm90ZWJvb2tDbGllbnQ1MDg5'\"), action: JoinRoom { room_name: \"general\" } }\n",
      "Sun 2023-01-22 10:49:36.995532 [TRACE] - [F<-T,N] For Endpoint Endpoint(127.0.0.1:62012), Took packet Request { sequence: 3, response_ack: Some(1), cookie: Some(\"b'RmlsdGVyTm90ZWJvb2tDbGllbnQ1MDg5'\"), action: JoinRoom { room_name: \"general\" } }\n",
      "Sun 2023-01-22 10:49:36.998629 [TRACE] - [T<-UDP] Request { sequence: 2, response_ack: Some(1), cookie: Some(\"b'RmlsdGVyTm90ZWJvb2tDbGllbnQ1MDg5'\"), action: NewRoom { room_name: \"general\" } }\n",
      "Sun 2023-01-22 10:49:37.026018 [TRACE] - [F<-T,N] For Endpoint Endpoint(127.0.0.1:62012), Took packet Request { sequence: 2, response_ack: Some(1), cookie: Some(\"b'RmlsdGVyTm90ZWJvb2tDbGllbnQ1MDg5'\"), action: NewRoom { room_name: \"general\" } }\n",
      "Sun 2023-01-22 10:49:37.238567 [TRACE] - [T<-UDP] Request { sequence: 3, response_ack: Some(1), cookie: Some(\"b'RmlsdGVyTm90ZWJvb2tDbGllbnQ1MDg5'\"), action: JoinRoom { room_name: \"general\" } }\n",
      "Sun 2023-01-22 10:49:37.242683 [TRACE] - [F<-T,N] For Endpoint Endpoint(127.0.0.1:62012), Took packet Request { sequence: 3, response_ack: Some(1), cookie: Some(\"b'RmlsdGVyTm90ZWJvb2tDbGllbnQ1MDg5'\"), action: JoinRoom { room_name: \"general\" } }\n",
      "Sun 2023-01-22 10:49:37.258075 [TRACE] - [T<-UDP] Request { sequence: 2, response_ack: Some(1), cookie: Some(\"b'RmlsdGVyTm90ZWJvb2tDbGllbnQ1MDg5'\"), action: NewRoom { room_name: \"general\" } }\n",
      "Sun 2023-01-22 10:49:37.274437 [TRACE] - [F<-T,N] For Endpoint Endpoint(127.0.0.1:62012), Took packet Request { sequence: 2, response_ack: Some(1), cookie: Some(\"b'RmlsdGVyTm90ZWJvb2tDbGllbnQ1MDg5'\"), action: NewRoom { room_name: \"general\" } }\n",
      "Sun 2023-01-22 10:49:37.498079 [TRACE] - [T<-UDP] Request { sequence: 3, response_ack: Some(1), cookie: Some(\"b'RmlsdGVyTm90ZWJvb2tDbGllbnQ1MDg5'\"), action: JoinRoom { room_name: \"general\" } }\n",
      "Sun 2023-01-22 10:49:37.508235 [TRACE] - [T<-UDP] Request { sequence: 2, response_ack: Some(1), cookie: Some(\"b'RmlsdGVyTm90ZWJvb2tDbGllbnQ1MDg5'\"), action: NewRoom { room_name: \"general\" } }\n",
      "Sun 2023-01-22 10:49:37.522460 [TRACE] - [F<-T,N] For Endpoint Endpoint(127.0.0.1:62012), Took packet Request { sequence: 3, response_ack: Some(1), cookie: Some(\"b'RmlsdGVyTm90ZWJvb2tDbGllbnQ1MDg5'\"), action: JoinRoom { room_name: \"general\" } }\n",
      "Sun 2023-01-22 10:49:37.522478 [TRACE] - [F<-T,N] For Endpoint Endpoint(127.0.0.1:62012), Took packet Request { sequence: 2, response_ack: Some(1), cookie: Some(\"b'RmlsdGVyTm90ZWJvb2tDbGllbnQ1MDg5'\"), action: NewRoom { room_name: \"general\" } }\n",
      "Sun 2023-01-22 10:49:37.757924 [TRACE] - [T<-UDP] Request { sequence: 3, response_ack: Some(1), cookie: Some(\"b'RmlsdGVyTm90ZWJvb2tDbGllbnQ1MDg5'\"), action: JoinRoom { room_name: \"general\" } }\n",
      "Sun 2023-01-22 10:49:37.768150 [TRACE] - [T<-UDP] Request { sequence: 2, response_ack: Some(1), cookie: Some(\"b'RmlsdGVyTm90ZWJvb2tDbGllbnQ1MDg5'\"), action: NewRoom { room_name: \"general\" } }\n",
      "Sun 2023-01-22 10:49:37.771278 [TRACE] - [F<-T,N] For Endpoint Endpoint(127.0.0.1:62012), Took packet Request { sequence: 3, response_ack: Some(1), cookie: Some(\"b'RmlsdGVyTm90ZWJvb2tDbGllbnQ1MDg5'\"), action: JoinRoom { room_name: \"general\" } }\n",
      "Sun 2023-01-22 10:49:37.771298 [TRACE] - [F<-T,N] For Endpoint Endpoint(127.0.0.1:62012), Took packet Request { sequence: 2, response_ack: Some(1), cookie: Some(\"b'RmlsdGVyTm90ZWJvb2tDbGllbnQ1MDg5'\"), action: NewRoom { room_name: \"general\" } }\n"
     ]
    },
    {
     "name": "stdout",
     "output_type": "stream",
     "text": [
      "Sun 2023-01-22 10:49:38.017927 [TRACE] - [T<-UDP] Request { sequence: 3, response_ack: Some(1), cookie: Some(\"b'RmlsdGVyTm90ZWJvb2tDbGllbnQ1MDg5'\"), action: JoinRoom { room_name: \"general\" } }\n",
      "Sun 2023-01-22 10:49:38.020025 [TRACE] - [F<-T,N] For Endpoint Endpoint(127.0.0.1:62012), Took packet Request { sequence: 3, response_ack: Some(1), cookie: Some(\"b'RmlsdGVyTm90ZWJvb2tDbGllbnQ1MDg5'\"), action: JoinRoom { room_name: \"general\" } }\n",
      "Sun 2023-01-22 10:49:38.028464 [TRACE] - [T<-UDP] Request { sequence: 2, response_ack: Some(1), cookie: Some(\"b'RmlsdGVyTm90ZWJvb2tDbGllbnQ1MDg5'\"), action: NewRoom { room_name: \"general\" } }\n",
      "Sun 2023-01-22 10:49:38.050836 [TRACE] - [F<-T,N] For Endpoint Endpoint(127.0.0.1:62012), Took packet Request { sequence: 2, response_ack: Some(1), cookie: Some(\"b'RmlsdGVyTm90ZWJvb2tDbGllbnQ1MDg5'\"), action: NewRoom { room_name: \"general\" } }\n",
      "Sun 2023-01-22 10:49:38.277917 [TRACE] - [T<-UDP] Request { sequence: 3, response_ack: Some(1), cookie: Some(\"b'RmlsdGVyTm90ZWJvb2tDbGllbnQ1MDg5'\"), action: JoinRoom { room_name: \"general\" } }\n",
      "Sun 2023-01-22 10:49:38.288064 [TRACE] - [T<-UDP] Request { sequence: 2, response_ack: Some(1), cookie: Some(\"b'RmlsdGVyTm90ZWJvb2tDbGllbnQ1MDg5'\"), action: NewRoom { room_name: \"general\" } }\n",
      "Sun 2023-01-22 10:49:38.299337 [TRACE] - [F<-T,N] For Endpoint Endpoint(127.0.0.1:62012), Took packet Request { sequence: 3, response_ack: Some(1), cookie: Some(\"b'RmlsdGVyTm90ZWJvb2tDbGllbnQ1MDg5'\"), action: JoinRoom { room_name: \"general\" } }\n",
      "Sun 2023-01-22 10:49:38.299349 [TRACE] - [F<-T,N] For Endpoint Endpoint(127.0.0.1:62012), Took packet Request { sequence: 2, response_ack: Some(1), cookie: Some(\"b'RmlsdGVyTm90ZWJvb2tDbGllbnQ1MDg5'\"), action: NewRoom { room_name: \"general\" } }\n",
      "Sun 2023-01-22 10:49:38.537896 [TRACE] - [T<-UDP] Request { sequence: 3, response_ack: Some(1), cookie: Some(\"b'RmlsdGVyTm90ZWJvb2tDbGllbnQ1MDg5'\"), action: JoinRoom { room_name: \"general\" } }\n",
      "Sun 2023-01-22 10:49:38.548052 [TRACE] - [T<-UDP] Request { sequence: 2, response_ack: Some(1), cookie: Some(\"b'RmlsdGVyTm90ZWJvb2tDbGllbnQ1MDg5'\"), action: NewRoom { room_name: \"general\" } }\n",
      "Sun 2023-01-22 10:49:38.549145 [TRACE] - [F<-T,N] For Endpoint Endpoint(127.0.0.1:62012), Took packet Request { sequence: 3, response_ack: Some(1), cookie: Some(\"b'RmlsdGVyTm90ZWJvb2tDbGllbnQ1MDg5'\"), action: JoinRoom { room_name: \"general\" } }\n",
      "Sun 2023-01-22 10:49:38.549157 [TRACE] - [F<-T,N] For Endpoint Endpoint(127.0.0.1:62012), Took packet Request { sequence: 2, response_ack: Some(1), cookie: Some(\"b'RmlsdGVyTm90ZWJvb2tDbGllbnQ1MDg5'\"), action: NewRoom { room_name: \"general\" } }\n",
      "Sun 2023-01-22 10:49:38.797903 [TRACE] - [T<-UDP] Request { sequence: 3, response_ack: Some(1), cookie: Some(\"b'RmlsdGVyTm90ZWJvb2tDbGllbnQ1MDg5'\"), action: JoinRoom { room_name: \"general\" } }\n",
      "Sun 2023-01-22 10:49:38.808122 [TRACE] - [T<-UDP] Request { sequence: 2, response_ack: Some(1), cookie: Some(\"b'RmlsdGVyTm90ZWJvb2tDbGllbnQ1MDg5'\"), action: NewRoom { room_name: \"general\" } }\n",
      "Sun 2023-01-22 10:49:38.829605 [TRACE] - [F<-T,N] For Endpoint Endpoint(127.0.0.1:62012), Took packet Request { sequence: 3, response_ack: Some(1), cookie: Some(\"b'RmlsdGVyTm90ZWJvb2tDbGllbnQ1MDg5'\"), action: JoinRoom { room_name: \"general\" } }\n",
      "Sun 2023-01-22 10:49:38.829622 [TRACE] - [F<-T,N] For Endpoint Endpoint(127.0.0.1:62012), Took packet Request { sequence: 2, response_ack: Some(1), cookie: Some(\"b'RmlsdGVyTm90ZWJvb2tDbGllbnQ1MDg5'\"), action: NewRoom { room_name: \"general\" } }\n",
      "Sun 2023-01-22 10:49:39.057879 [TRACE] - [T<-UDP] Request { sequence: 3, response_ack: Some(1), cookie: Some(\"b'RmlsdGVyTm90ZWJvb2tDbGllbnQ1MDg5'\"), action: JoinRoom { room_name: \"general\" } }\n",
      "Sun 2023-01-22 10:49:39.068102 [TRACE] - [T<-UDP] Request { sequence: 2, response_ack: Some(1), cookie: Some(\"b'RmlsdGVyTm90ZWJvb2tDbGllbnQ1MDg5'\"), action: NewRoom { room_name: \"general\" } }\n",
      "Sun 2023-01-22 10:49:39.079495 [TRACE] - [F<-T,N] For Endpoint Endpoint(127.0.0.1:62012), Took packet Request { sequence: 3, response_ack: Some(1), cookie: Some(\"b'RmlsdGVyTm90ZWJvb2tDbGllbnQ1MDg5'\"), action: JoinRoom { room_name: \"general\" } }\n",
      "Sun 2023-01-22 10:49:39.079512 [TRACE] - [F<-T,N] For Endpoint Endpoint(127.0.0.1:62012), Took packet Request { sequence: 2, response_ack: Some(1), cookie: Some(\"b'RmlsdGVyTm90ZWJvb2tDbGllbnQ1MDg5'\"), action: NewRoom { room_name: \"general\" } }\n",
      "Sun 2023-01-22 10:49:39.308532 [TRACE] - [T<-UDP] Request { sequence: 3, response_ack: Some(1), cookie: Some(\"b'RmlsdGVyTm90ZWJvb2tDbGllbnQ1MDg5'\"), action: JoinRoom { room_name: \"general\" } }\n",
      "Sun 2023-01-22 10:49:39.327009 [TRACE] - [F<-T,N] For Endpoint Endpoint(127.0.0.1:62012), Took packet Request { sequence: 3, response_ack: Some(1), cookie: Some(\"b'RmlsdGVyTm90ZWJvb2tDbGllbnQ1MDg5'\"), action: JoinRoom { room_name: \"general\" } }\n",
      "Sun 2023-01-22 10:49:39.328119 [TRACE] - [T<-UDP] Request { sequence: 2, response_ack: Some(1), cookie: Some(\"b'RmlsdGVyTm90ZWJvb2tDbGllbnQ1MDg5'\"), action: NewRoom { room_name: \"general\" } }\n",
      "Sun 2023-01-22 10:49:39.358597 [TRACE] - [F<-T,N] For Endpoint Endpoint(127.0.0.1:62012), Took packet Request { sequence: 2, response_ack: Some(1), cookie: Some(\"b'RmlsdGVyTm90ZWJvb2tDbGllbnQ1MDg5'\"), action: NewRoom { room_name: \"general\" } }\n",
      "Sun 2023-01-22 10:49:39.567831 [TRACE] - [T<-UDP] Request { sequence: 3, response_ack: Some(1), cookie: Some(\"b'RmlsdGVyTm90ZWJvb2tDbGllbnQ1MDg5'\"), action: JoinRoom { room_name: \"general\" } }\n",
      "Sun 2023-01-22 10:49:39.575993 [TRACE] - [F<-T,N] For Endpoint Endpoint(127.0.0.1:62012), Took packet Request { sequence: 3, response_ack: Some(1), cookie: Some(\"b'RmlsdGVyTm90ZWJvb2tDbGllbnQ1MDg5'\"), action: JoinRoom { room_name: \"general\" } }\n",
      "Sun 2023-01-22 10:49:39.588222 [TRACE] - [T<-UDP] Request { sequence: 2, response_ack: Some(1), cookie: Some(\"b'RmlsdGVyTm90ZWJvb2tDbGllbnQ1MDg5'\"), action: NewRoom { room_name: \"general\" } }\n",
      "Sun 2023-01-22 10:49:39.607504 [TRACE] - [F<-T,N] For Endpoint Endpoint(127.0.0.1:62012), Took packet Request { sequence: 2, response_ack: Some(1), cookie: Some(\"b'RmlsdGVyTm90ZWJvb2tDbGllbnQ1MDg5'\"), action: NewRoom { room_name: \"general\" } }\n",
      "Sun 2023-01-22 10:49:39.827962 [TRACE] - [T<-UDP] Request { sequence: 3, response_ack: Some(1), cookie: Some(\"b'RmlsdGVyTm90ZWJvb2tDbGllbnQ1MDg5'\"), action: JoinRoom { room_name: \"general\" } }\n",
      "Sun 2023-01-22 10:49:39.848323 [TRACE] - [T<-UDP] Request { sequence: 2, response_ack: Some(1), cookie: Some(\"b'RmlsdGVyTm90ZWJvb2tDbGllbnQ1MDg5'\"), action: NewRoom { room_name: \"general\" } }\n",
      "Sun 2023-01-22 10:49:39.855489 [TRACE] - [F<-T,N] For Endpoint Endpoint(127.0.0.1:62012), Took packet Request { sequence: 3, response_ack: Some(1), cookie: Some(\"b'RmlsdGVyTm90ZWJvb2tDbGllbnQ1MDg5'\"), action: JoinRoom { room_name: \"general\" } }\n",
      "Sun 2023-01-22 10:49:39.855505 [TRACE] - [F<-T,N] For Endpoint Endpoint(127.0.0.1:62012), Took packet Request { sequence: 2, response_ack: Some(1), cookie: Some(\"b'RmlsdGVyTm90ZWJvb2tDbGllbnQ1MDg5'\"), action: NewRoom { room_name: \"general\" } }\n",
      "Sun 2023-01-22 10:49:40.078036 [TRACE] - [T<-UDP] Request { sequence: 3, response_ack: Some(1), cookie: Some(\"b'RmlsdGVyTm90ZWJvb2tDbGllbnQ1MDg5'\"), action: JoinRoom { room_name: \"general\" } }\n",
      "Sun 2023-01-22 10:49:40.098717 [TRACE] - [T<-UDP] Request { sequence: 2, response_ack: Some(1), cookie: Some(\"b'RmlsdGVyTm90ZWJvb2tDbGllbnQ1MDg5'\"), action: NewRoom { room_name: \"general\" } }\n",
      "Sun 2023-01-22 10:49:40.103958 [TRACE] - [F<-T,N] For Endpoint Endpoint(127.0.0.1:62012), Took packet Request { sequence: 3, response_ack: Some(1), cookie: Some(\"b'RmlsdGVyTm90ZWJvb2tDbGllbnQ1MDg5'\"), action: JoinRoom { room_name: \"general\" } }\n",
      "Sun 2023-01-22 10:49:40.103975 [TRACE] - [F<-T,N] For Endpoint Endpoint(127.0.0.1:62012), Took packet Request { sequence: 2, response_ack: Some(1), cookie: Some(\"b'RmlsdGVyTm90ZWJvb2tDbGllbnQ1MDg5'\"), action: NewRoom { room_name: \"general\" } }\n",
      "Sun 2023-01-22 10:49:40.337951 [TRACE] - [T<-UDP] Request { sequence: 3, response_ack: Some(1), cookie: Some(\"b'RmlsdGVyTm90ZWJvb2tDbGllbnQ1MDg5'\"), action: JoinRoom { room_name: \"general\" } }\n",
      "Sun 2023-01-22 10:49:40.353182 [TRACE] - [F<-T,N] For Endpoint Endpoint(127.0.0.1:62012), Took packet Request { sequence: 3, response_ack: Some(1), cookie: Some(\"b'RmlsdGVyTm90ZWJvb2tDbGllbnQ1MDg5'\"), action: JoinRoom { room_name: \"general\" } }\n",
      "Sun 2023-01-22 10:49:40.358332 [TRACE] - [T<-UDP] Request { sequence: 2, response_ack: Some(1), cookie: Some(\"b'RmlsdGVyTm90ZWJvb2tDbGllbnQ1MDg5'\"), action: NewRoom { room_name: \"general\" } }\n",
      "Sun 2023-01-22 10:49:40.383765 [TRACE] - [F<-T,N] For Endpoint Endpoint(127.0.0.1:62012), Took packet Request { sequence: 2, response_ack: Some(1), cookie: Some(\"b'RmlsdGVyTm90ZWJvb2tDbGllbnQ1MDg5'\"), action: NewRoom { room_name: \"general\" } }\n"
     ]
    },
    {
     "name": "stdout",
     "output_type": "stream",
     "text": [
      "Sun 2023-01-22 10:49:40.598085 [TRACE] - [T<-UDP] Request { sequence: 3, response_ack: Some(1), cookie: Some(\"b'RmlsdGVyTm90ZWJvb2tDbGllbnQ1MDg5'\"), action: JoinRoom { room_name: \"general\" } }\n",
      "Sun 2023-01-22 10:49:40.601208 [TRACE] - [F<-T,N] For Endpoint Endpoint(127.0.0.1:62012), Took packet Request { sequence: 3, response_ack: Some(1), cookie: Some(\"b'RmlsdGVyTm90ZWJvb2tDbGllbnQ1MDg5'\"), action: JoinRoom { room_name: \"general\" } }\n",
      "Sun 2023-01-22 10:49:40.608426 [TRACE] - [T<-UDP] Request { sequence: 2, response_ack: Some(1), cookie: Some(\"b'RmlsdGVyTm90ZWJvb2tDbGllbnQ1MDg5'\"), action: NewRoom { room_name: \"general\" } }\n",
      "Sun 2023-01-22 10:49:40.632071 [TRACE] - [F<-T,N] For Endpoint Endpoint(127.0.0.1:62012), Took packet Request { sequence: 2, response_ack: Some(1), cookie: Some(\"b'RmlsdGVyTm90ZWJvb2tDbGllbnQ1MDg5'\"), action: NewRoom { room_name: \"general\" } }\n",
      "Sun 2023-01-22 10:49:40.848686 [TRACE] - [T<-UDP] Request { sequence: 3, response_ack: Some(1), cookie: Some(\"b'RmlsdGVyTm90ZWJvb2tDbGllbnQ1MDg5'\"), action: JoinRoom { room_name: \"general\" } }\n",
      "Sun 2023-01-22 10:49:40.868056 [TRACE] - [T<-UDP] Request { sequence: 2, response_ack: Some(1), cookie: Some(\"b'RmlsdGVyTm90ZWJvb2tDbGllbnQ1MDg5'\"), action: NewRoom { room_name: \"general\" } }\n",
      "Sun 2023-01-22 10:49:40.880354 [TRACE] - [F<-T,N] For Endpoint Endpoint(127.0.0.1:62012), Took packet Request { sequence: 3, response_ack: Some(1), cookie: Some(\"b'RmlsdGVyTm90ZWJvb2tDbGllbnQ1MDg5'\"), action: JoinRoom { room_name: \"general\" } }\n",
      "Sun 2023-01-22 10:49:40.880372 [TRACE] - [F<-T,N] For Endpoint Endpoint(127.0.0.1:62012), Took packet Request { sequence: 2, response_ack: Some(1), cookie: Some(\"b'RmlsdGVyTm90ZWJvb2tDbGllbnQ1MDg5'\"), action: NewRoom { room_name: \"general\" } }\n",
      "Sun 2023-01-22 10:49:41.108492 [TRACE] - [T<-UDP] Request { sequence: 3, response_ack: Some(1), cookie: Some(\"b'RmlsdGVyTm90ZWJvb2tDbGllbnQ1MDg5'\"), action: JoinRoom { room_name: \"general\" } }\n",
      "Sun 2023-01-22 10:49:41.128006 [TRACE] - [T<-UDP] Request { sequence: 2, response_ack: Some(1), cookie: Some(\"b'RmlsdGVyTm90ZWJvb2tDbGllbnQ1MDg5'\"), action: NewRoom { room_name: \"general\" } }\n",
      "Sun 2023-01-22 10:49:41.129131 [TRACE] - [F<-T,N] For Endpoint Endpoint(127.0.0.1:62012), Took packet Request { sequence: 3, response_ack: Some(1), cookie: Some(\"b'RmlsdGVyTm90ZWJvb2tDbGllbnQ1MDg5'\"), action: JoinRoom { room_name: \"general\" } }\n",
      "Sun 2023-01-22 10:49:41.129148 [TRACE] - [F<-T,N] For Endpoint Endpoint(127.0.0.1:62012), Took packet Request { sequence: 2, response_ack: Some(1), cookie: Some(\"b'RmlsdGVyTm90ZWJvb2tDbGllbnQ1MDg5'\"), action: NewRoom { room_name: \"general\" } }\n",
      "Sun 2023-01-22 10:49:41.368364 [TRACE] - [T<-UDP] Request { sequence: 3, response_ack: Some(1), cookie: Some(\"b'RmlsdGVyTm90ZWJvb2tDbGllbnQ1MDg5'\"), action: JoinRoom { room_name: \"general\" } }\n",
      "Sun 2023-01-22 10:49:41.377576 [TRACE] - [F<-T,N] For Endpoint Endpoint(127.0.0.1:62012), Took packet Request { sequence: 3, response_ack: Some(1), cookie: Some(\"b'RmlsdGVyTm90ZWJvb2tDbGllbnQ1MDg5'\"), action: JoinRoom { room_name: \"general\" } }\n",
      "Sun 2023-01-22 10:49:41.388060 [TRACE] - [T<-UDP] Request { sequence: 2, response_ack: Some(1), cookie: Some(\"b'RmlsdGVyTm90ZWJvb2tDbGllbnQ1MDg5'\"), action: NewRoom { room_name: \"general\" } }\n",
      "Sun 2023-01-22 10:49:41.408453 [TRACE] - [F<-T,N] For Endpoint Endpoint(127.0.0.1:62012), Took packet Request { sequence: 2, response_ack: Some(1), cookie: Some(\"b'RmlsdGVyTm90ZWJvb2tDbGllbnQ1MDg5'\"), action: NewRoom { room_name: \"general\" } }\n",
      "Sun 2023-01-22 10:49:41.628123 [TRACE] - [T<-UDP] Request { sequence: 3, response_ack: Some(1), cookie: Some(\"b'RmlsdGVyTm90ZWJvb2tDbGllbnQ1MDg5'\"), action: JoinRoom { room_name: \"general\" } }\n",
      "Sun 2023-01-22 10:49:41.638411 [TRACE] - [T<-UDP] Request { sequence: 2, response_ack: Some(1), cookie: Some(\"b'RmlsdGVyTm90ZWJvb2tDbGllbnQ1MDg5'\"), action: NewRoom { room_name: \"general\" } }\n",
      "Sun 2023-01-22 10:49:41.657800 [TRACE] - [F<-T,N] For Endpoint Endpoint(127.0.0.1:62012), Took packet Request { sequence: 3, response_ack: Some(1), cookie: Some(\"b'RmlsdGVyTm90ZWJvb2tDbGllbnQ1MDg5'\"), action: JoinRoom { room_name: \"general\" } }\n",
      "Sun 2023-01-22 10:49:41.657821 [TRACE] - [F<-T,N] For Endpoint Endpoint(127.0.0.1:62012), Took packet Request { sequence: 2, response_ack: Some(1), cookie: Some(\"b'RmlsdGVyTm90ZWJvb2tDbGllbnQ1MDg5'\"), action: NewRoom { room_name: \"general\" } }\n",
      "Sun 2023-01-22 10:49:41.887778 [TRACE] - [T<-UDP] Request { sequence: 3, response_ack: Some(1), cookie: Some(\"b'RmlsdGVyTm90ZWJvb2tDbGllbnQ1MDg5'\"), action: JoinRoom { room_name: \"general\" } }\n",
      "Sun 2023-01-22 10:49:41.898001 [TRACE] - [T<-UDP] Request { sequence: 2, response_ack: Some(1), cookie: Some(\"b'RmlsdGVyTm90ZWJvb2tDbGllbnQ1MDg5'\"), action: NewRoom { room_name: \"general\" } }\n",
      "Sun 2023-01-22 10:49:41.909218 [TRACE] - [F<-T,N] For Endpoint Endpoint(127.0.0.1:62012), Took packet Request { sequence: 3, response_ack: Some(1), cookie: Some(\"b'RmlsdGVyTm90ZWJvb2tDbGllbnQ1MDg5'\"), action: JoinRoom { room_name: \"general\" } }\n",
      "Sun 2023-01-22 10:49:41.909234 [TRACE] - [F<-T,N] For Endpoint Endpoint(127.0.0.1:62012), Took packet Request { sequence: 2, response_ack: Some(1), cookie: Some(\"b'RmlsdGVyTm90ZWJvb2tDbGllbnQ1MDg5'\"), action: NewRoom { room_name: \"general\" } }\n",
      "Sun 2023-01-22 10:49:42.137950 [TRACE] - [T<-UDP] Request { sequence: 3, response_ack: Some(1), cookie: Some(\"b'RmlsdGVyTm90ZWJvb2tDbGllbnQ1MDg5'\"), action: JoinRoom { room_name: \"general\" } }\n",
      "Sun 2023-01-22 10:49:42.148173 [TRACE] - [T<-UDP] Request { sequence: 2, response_ack: Some(1), cookie: Some(\"b'RmlsdGVyTm90ZWJvb2tDbGllbnQ1MDg5'\"), action: NewRoom { room_name: \"general\" } }\n",
      "Sun 2023-01-22 10:49:42.157383 [TRACE] - [F<-T,N] For Endpoint Endpoint(127.0.0.1:62012), Took packet Request { sequence: 3, response_ack: Some(1), cookie: Some(\"b'RmlsdGVyTm90ZWJvb2tDbGllbnQ1MDg5'\"), action: JoinRoom { room_name: \"general\" } }\n",
      "Sun 2023-01-22 10:49:42.157403 [TRACE] - [F<-T,N] For Endpoint Endpoint(127.0.0.1:62012), Took packet Request { sequence: 2, response_ack: Some(1), cookie: Some(\"b'RmlsdGVyTm90ZWJvb2tDbGllbnQ1MDg5'\"), action: NewRoom { room_name: \"general\" } }\n",
      "Sun 2023-01-22 10:49:42.397972 [TRACE] - [T<-UDP] Request { sequence: 3, response_ack: Some(1), cookie: Some(\"b'RmlsdGVyTm90ZWJvb2tDbGllbnQ1MDg5'\"), action: JoinRoom { room_name: \"general\" } }\n",
      "Sun 2023-01-22 10:49:42.406260 [TRACE] - [F<-T,N] For Endpoint Endpoint(127.0.0.1:62012), Took packet Request { sequence: 3, response_ack: Some(1), cookie: Some(\"b'RmlsdGVyTm90ZWJvb2tDbGllbnQ1MDg5'\"), action: JoinRoom { room_name: \"general\" } }\n",
      "Sun 2023-01-22 10:49:42.408391 [TRACE] - [T<-UDP] Request { sequence: 2, response_ack: Some(1), cookie: Some(\"b'RmlsdGVyTm90ZWJvb2tDbGllbnQ1MDg5'\"), action: NewRoom { room_name: \"general\" } }\n",
      "Sun 2023-01-22 10:49:42.436895 [TRACE] - [F<-T,N] For Endpoint Endpoint(127.0.0.1:62012), Took packet Request { sequence: 2, response_ack: Some(1), cookie: Some(\"b'RmlsdGVyTm90ZWJvb2tDbGllbnQ1MDg5'\"), action: NewRoom { room_name: \"general\" } }\n",
      "Sun 2023-01-22 10:49:42.648270 [TRACE] - [T<-UDP] Request { sequence: 3, response_ack: Some(1), cookie: Some(\"b'RmlsdGVyTm90ZWJvb2tDbGllbnQ1MDg5'\"), action: JoinRoom { room_name: \"general\" } }\n",
      "Sun 2023-01-22 10:49:42.655488 [TRACE] - [F<-T,N] For Endpoint Endpoint(127.0.0.1:62012), Took packet Request { sequence: 3, response_ack: Some(1), cookie: Some(\"b'RmlsdGVyTm90ZWJvb2tDbGllbnQ1MDg5'\"), action: JoinRoom { room_name: \"general\" } }\n",
      "Sun 2023-01-22 10:49:42.658598 [TRACE] - [T<-UDP] Request { sequence: 2, response_ack: Some(1), cookie: Some(\"b'RmlsdGVyTm90ZWJvb2tDbGllbnQ1MDg5'\"), action: NewRoom { room_name: \"general\" } }\n",
      "Sun 2023-01-22 10:49:42.686014 [TRACE] - [F<-T,N] For Endpoint Endpoint(127.0.0.1:62012), Took packet Request { sequence: 2, response_ack: Some(1), cookie: Some(\"b'RmlsdGVyTm90ZWJvb2tDbGllbnQ1MDg5'\"), action: NewRoom { room_name: \"general\" } }\n",
      "Sun 2023-01-22 10:49:42.908224 [TRACE] - [T<-UDP] Request { sequence: 3, response_ack: Some(1), cookie: Some(\"b'RmlsdGVyTm90ZWJvb2tDbGllbnQ1MDg5'\"), action: JoinRoom { room_name: \"general\" } }\n",
      "Sun 2023-01-22 10:49:42.918437 [TRACE] - [T<-UDP] Request { sequence: 2, response_ack: Some(1), cookie: Some(\"b'RmlsdGVyTm90ZWJvb2tDbGllbnQ1MDg5'\"), action: NewRoom { room_name: \"general\" } }\n",
      "Sun 2023-01-22 10:49:42.933666 [TRACE] - [F<-T,N] For Endpoint Endpoint(127.0.0.1:62012), Took packet Request { sequence: 3, response_ack: Some(1), cookie: Some(\"b'RmlsdGVyTm90ZWJvb2tDbGllbnQ1MDg5'\"), action: JoinRoom { room_name: \"general\" } }\n",
      "Sun 2023-01-22 10:49:42.933687 [TRACE] - [F<-T,N] For Endpoint Endpoint(127.0.0.1:62012), Took packet Request { sequence: 2, response_ack: Some(1), cookie: Some(\"b'RmlsdGVyTm90ZWJvb2tDbGllbnQ1MDg5'\"), action: NewRoom { room_name: \"general\" } }\n"
     ]
    },
    {
     "name": "stdout",
     "output_type": "stream",
     "text": [
      "Sun 2023-01-22 10:49:43.168316 [TRACE] - [T<-UDP] Request { sequence: 3, response_ack: Some(1), cookie: Some(\"b'RmlsdGVyTm90ZWJvb2tDbGllbnQ1MDg5'\"), action: JoinRoom { room_name: \"general\" } }\n",
      "Sun 2023-01-22 10:49:43.178520 [TRACE] - [T<-UDP] Request { sequence: 2, response_ack: Some(1), cookie: Some(\"b'RmlsdGVyTm90ZWJvb2tDbGllbnQ1MDg5'\"), action: NewRoom { room_name: \"general\" } }\n",
      "Sun 2023-01-22 10:49:43.183606 [TRACE] - [F<-T,N] For Endpoint Endpoint(127.0.0.1:62012), Took packet Request { sequence: 3, response_ack: Some(1), cookie: Some(\"b'RmlsdGVyTm90ZWJvb2tDbGllbnQ1MDg5'\"), action: JoinRoom { room_name: \"general\" } }\n",
      "Sun 2023-01-22 10:49:43.183617 [TRACE] - [F<-T,N] For Endpoint Endpoint(127.0.0.1:62012), Took packet Request { sequence: 2, response_ack: Some(1), cookie: Some(\"b'RmlsdGVyTm90ZWJvb2tDbGllbnQ1MDg5'\"), action: NewRoom { room_name: \"general\" } }\n",
      "Sun 2023-01-22 10:49:43.427954 [TRACE] - [T<-UDP] Request { sequence: 3, response_ack: Some(1), cookie: Some(\"b'RmlsdGVyTm90ZWJvb2tDbGllbnQ1MDg5'\"), action: JoinRoom { room_name: \"general\" } }\n",
      "Sun 2023-01-22 10:49:43.433060 [TRACE] - [F<-T,N] For Endpoint Endpoint(127.0.0.1:62012), Took packet Request { sequence: 3, response_ack: Some(1), cookie: Some(\"b'RmlsdGVyTm90ZWJvb2tDbGllbnQ1MDg5'\"), action: JoinRoom { room_name: \"general\" } }\n",
      "Sun 2023-01-22 10:49:43.438154 [TRACE] - [T<-UDP] Request { sequence: 2, response_ack: Some(1), cookie: Some(\"b'RmlsdGVyTm90ZWJvb2tDbGllbnQ1MDg5'\"), action: NewRoom { room_name: \"general\" } }\n",
      "Sun 2023-01-22 10:49:43.464641 [TRACE] - [F<-T,N] For Endpoint Endpoint(127.0.0.1:62012), Took packet Request { sequence: 2, response_ack: Some(1), cookie: Some(\"b'RmlsdGVyTm90ZWJvb2tDbGllbnQ1MDg5'\"), action: NewRoom { room_name: \"general\" } }\n",
      "Sun 2023-01-22 10:49:43.688020 [TRACE] - [T<-UDP] Request { sequence: 3, response_ack: Some(1), cookie: Some(\"b'RmlsdGVyTm90ZWJvb2tDbGllbnQ1MDg5'\"), action: JoinRoom { room_name: \"general\" } }\n",
      "Sun 2023-01-22 10:49:43.698168 [TRACE] - [T<-UDP] Request { sequence: 2, response_ack: Some(1), cookie: Some(\"b'RmlsdGVyTm90ZWJvb2tDbGllbnQ1MDg5'\"), action: NewRoom { room_name: \"general\" } }\n",
      "Sun 2023-01-22 10:49:43.713381 [TRACE] - [F<-T,N] For Endpoint Endpoint(127.0.0.1:62012), Took packet Request { sequence: 3, response_ack: Some(1), cookie: Some(\"b'RmlsdGVyTm90ZWJvb2tDbGllbnQ1MDg5'\"), action: JoinRoom { room_name: \"general\" } }\n",
      "Sun 2023-01-22 10:49:43.713396 [TRACE] - [F<-T,N] For Endpoint Endpoint(127.0.0.1:62012), Took packet Request { sequence: 2, response_ack: Some(1), cookie: Some(\"b'RmlsdGVyTm90ZWJvb2tDbGllbnQ1MDg5'\"), action: NewRoom { room_name: \"general\" } }\n",
      "Sun 2023-01-22 10:49:43.938599 [TRACE] - [T<-UDP] Request { sequence: 3, response_ack: Some(1), cookie: Some(\"b'RmlsdGVyTm90ZWJvb2tDbGllbnQ1MDg5'\"), action: JoinRoom { room_name: \"general\" } }\n",
      "Sun 2023-01-22 10:49:43.957969 [TRACE] - [T<-UDP] Request { sequence: 2, response_ack: Some(1), cookie: Some(\"b'RmlsdGVyTm90ZWJvb2tDbGllbnQ1MDg5'\"), action: NewRoom { room_name: \"general\" } }\n",
      "Sun 2023-01-22 10:49:43.962066 [TRACE] - [F<-T,N] For Endpoint Endpoint(127.0.0.1:62012), Took packet Request { sequence: 3, response_ack: Some(1), cookie: Some(\"b'RmlsdGVyTm90ZWJvb2tDbGllbnQ1MDg5'\"), action: JoinRoom { room_name: \"general\" } }\n",
      "Sun 2023-01-22 10:49:43.962078 [TRACE] - [F<-T,N] For Endpoint Endpoint(127.0.0.1:62012), Took packet Request { sequence: 2, response_ack: Some(1), cookie: Some(\"b'RmlsdGVyTm90ZWJvb2tDbGllbnQ1MDg5'\"), action: NewRoom { room_name: \"general\" } }\n",
      "Sun 2023-01-22 10:49:44.198333 [TRACE] - [T<-UDP] Request { sequence: 3, response_ack: Some(1), cookie: Some(\"b'RmlsdGVyTm90ZWJvb2tDbGllbnQ1MDg5'\"), action: JoinRoom { room_name: \"general\" } }\n",
      "Sun 2023-01-22 10:49:44.208559 [TRACE] - [T<-UDP] Request { sequence: 2, response_ack: Some(1), cookie: Some(\"b'RmlsdGVyTm90ZWJvb2tDbGllbnQ1MDg5'\"), action: NewRoom { room_name: \"general\" } }\n",
      "Sun 2023-01-22 10:49:44.211686 [TRACE] - [F<-T,N] For Endpoint Endpoint(127.0.0.1:62012), Took packet Request { sequence: 3, response_ack: Some(1), cookie: Some(\"b'RmlsdGVyTm90ZWJvb2tDbGllbnQ1MDg5'\"), action: JoinRoom { room_name: \"general\" } }\n",
      "Sun 2023-01-22 10:49:44.211706 [TRACE] - [F<-T,N] For Endpoint Endpoint(127.0.0.1:62012), Took packet Request { sequence: 2, response_ack: Some(1), cookie: Some(\"b'RmlsdGVyTm90ZWJvb2tDbGllbnQ1MDg5'\"), action: NewRoom { room_name: \"general\" } }\n",
      "Sun 2023-01-22 10:49:44.458327 [TRACE] - [T<-UDP] Request { sequence: 3, response_ack: Some(1), cookie: Some(\"b'RmlsdGVyTm90ZWJvb2tDbGllbnQ1MDg5'\"), action: JoinRoom { room_name: \"general\" } }\n",
      "Sun 2023-01-22 10:49:44.461431 [TRACE] - [F<-T,N] For Endpoint Endpoint(127.0.0.1:62012), Took packet Request { sequence: 3, response_ack: Some(1), cookie: Some(\"b'RmlsdGVyTm90ZWJvb2tDbGllbnQ1MDg5'\"), action: JoinRoom { room_name: \"general\" } }\n",
      "Sun 2023-01-22 10:49:44.468624 [TRACE] - [T<-UDP] Request { sequence: 2, response_ack: Some(1), cookie: Some(\"b'RmlsdGVyTm90ZWJvb2tDbGllbnQ1MDg5'\"), action: NewRoom { room_name: \"general\" } }\n",
      "Sun 2023-01-22 10:49:44.492012 [TRACE] - [F<-T,N] For Endpoint Endpoint(127.0.0.1:62012), Took packet Request { sequence: 2, response_ack: Some(1), cookie: Some(\"b'RmlsdGVyTm90ZWJvb2tDbGllbnQ1MDg5'\"), action: NewRoom { room_name: \"general\" } }\n",
      "Sun 2023-01-22 10:49:44.718472 [TRACE] - [T<-UDP] Request { sequence: 3, response_ack: Some(1), cookie: Some(\"b'RmlsdGVyTm90ZWJvb2tDbGllbnQ1MDg5'\"), action: JoinRoom { room_name: \"general\" } }\n",
      "Sun 2023-01-22 10:49:44.728648 [TRACE] - [T<-UDP] Request { sequence: 2, response_ack: Some(1), cookie: Some(\"b'RmlsdGVyTm90ZWJvb2tDbGllbnQ1MDg5'\"), action: NewRoom { room_name: \"general\" } }\n",
      "Sun 2023-01-22 10:49:44.739877 [TRACE] - [F<-T,N] For Endpoint Endpoint(127.0.0.1:62012), Took packet Request { sequence: 3, response_ack: Some(1), cookie: Some(\"b'RmlsdGVyTm90ZWJvb2tDbGllbnQ1MDg5'\"), action: JoinRoom { room_name: \"general\" } }\n",
      "Sun 2023-01-22 10:49:44.739893 [TRACE] - [F<-T,N] For Endpoint Endpoint(127.0.0.1:62012), Took packet Request { sequence: 2, response_ack: Some(1), cookie: Some(\"b'RmlsdGVyTm90ZWJvb2tDbGllbnQ1MDg5'\"), action: NewRoom { room_name: \"general\" } }\n",
      "Sun 2023-01-22 10:49:44.968609 [TRACE] - [T<-UDP] Request { sequence: 3, response_ack: Some(1), cookie: Some(\"b'RmlsdGVyTm90ZWJvb2tDbGllbnQ1MDg5'\"), action: JoinRoom { room_name: \"general\" } }\n",
      "Sun 2023-01-22 10:49:44.987895 [TRACE] - [T<-UDP] Request { sequence: 2, response_ack: Some(1), cookie: Some(\"b'RmlsdGVyTm90ZWJvb2tDbGllbnQ1MDg5'\"), action: NewRoom { room_name: \"general\" } }\n",
      "Sun 2023-01-22 10:49:44.987906 [TRACE] - [F<-T,N] For Endpoint Endpoint(127.0.0.1:62012), Took packet Request { sequence: 3, response_ack: Some(1), cookie: Some(\"b'RmlsdGVyTm90ZWJvb2tDbGllbnQ1MDg5'\"), action: JoinRoom { room_name: \"general\" } }\n",
      "Sun 2023-01-22 10:49:45.019480 [TRACE] - [F<-T,N] For Endpoint Endpoint(127.0.0.1:62012), Took packet Request { sequence: 2, response_ack: Some(1), cookie: Some(\"b'RmlsdGVyTm90ZWJvb2tDbGllbnQ1MDg5'\"), action: NewRoom { room_name: \"general\" } }\n",
      "Sun 2023-01-22 10:49:45.228477 [TRACE] - [T<-UDP] Request { sequence: 3, response_ack: Some(1), cookie: Some(\"b'RmlsdGVyTm90ZWJvb2tDbGllbnQ1MDg5'\"), action: JoinRoom { room_name: \"general\" } }\n",
      "Sun 2023-01-22 10:49:45.236642 [TRACE] - [F<-T,N] For Endpoint Endpoint(127.0.0.1:62012), Took packet Request { sequence: 3, response_ack: Some(1), cookie: Some(\"b'RmlsdGVyTm90ZWJvb2tDbGllbnQ1MDg5'\"), action: JoinRoom { room_name: \"general\" } }\n",
      "Sun 2023-01-22 10:49:45.247883 [TRACE] - [T<-UDP] Request { sequence: 2, response_ack: Some(1), cookie: Some(\"b'RmlsdGVyTm90ZWJvb2tDbGllbnQ1MDg5'\"), action: NewRoom { room_name: \"general\" } }\n",
      "Sun 2023-01-22 10:49:45.268243 [TRACE] - [F<-T,N] For Endpoint Endpoint(127.0.0.1:62012), Took packet Request { sequence: 2, response_ack: Some(1), cookie: Some(\"b'RmlsdGVyTm90ZWJvb2tDbGllbnQ1MDg5'\"), action: NewRoom { room_name: \"general\" } }\n",
      "Sun 2023-01-22 10:49:45.488496 [TRACE] - [T<-UDP] Request { sequence: 3, response_ack: Some(1), cookie: Some(\"b'RmlsdGVyTm90ZWJvb2tDbGllbnQ1MDg5'\"), action: JoinRoom { room_name: \"general\" } }\n",
      "Sun 2023-01-22 10:49:45.507885 [TRACE] - [T<-UDP] Request { sequence: 2, response_ack: Some(1), cookie: Some(\"b'RmlsdGVyTm90ZWJvb2tDbGllbnQ1MDg5'\"), action: NewRoom { room_name: \"general\" } }\n",
      "Sun 2023-01-22 10:49:45.518045 [TRACE] - [F<-T,N] For Endpoint Endpoint(127.0.0.1:62012), Took packet Request { sequence: 3, response_ack: Some(1), cookie: Some(\"b'RmlsdGVyTm90ZWJvb2tDbGllbnQ1MDg5'\"), action: JoinRoom { room_name: \"general\" } }\n",
      "Sun 2023-01-22 10:49:45.518059 [TRACE] - [F<-T,N] For Endpoint Endpoint(127.0.0.1:62012), Took packet Request { sequence: 2, response_ack: Some(1), cookie: Some(\"b'RmlsdGVyTm90ZWJvb2tDbGllbnQ1MDg5'\"), action: NewRoom { room_name: \"general\" } }\n"
     ]
    },
    {
     "name": "stdout",
     "output_type": "stream",
     "text": [
      "Sun 2023-01-22 10:49:45.748168 [TRACE] - [T<-UDP] Request { sequence: 3, response_ack: Some(1), cookie: Some(\"b'RmlsdGVyTm90ZWJvb2tDbGllbnQ1MDg5'\"), action: JoinRoom { room_name: \"general\" } }\n",
      "Sun 2023-01-22 10:49:45.758393 [TRACE] - [T<-UDP] Request { sequence: 2, response_ack: Some(1), cookie: Some(\"b'RmlsdGVyTm90ZWJvb2tDbGllbnQ1MDg5'\"), action: NewRoom { room_name: \"general\" } }\n",
      "Sun 2023-01-22 10:49:45.767609 [TRACE] - [F<-T,N] For Endpoint Endpoint(127.0.0.1:62012), Took packet Request { sequence: 3, response_ack: Some(1), cookie: Some(\"b'RmlsdGVyTm90ZWJvb2tDbGllbnQ1MDg5'\"), action: JoinRoom { room_name: \"general\" } }\n",
      "Sun 2023-01-22 10:49:45.767631 [TRACE] - [F<-T,N] For Endpoint Endpoint(127.0.0.1:62012), Took packet Request { sequence: 2, response_ack: Some(1), cookie: Some(\"b'RmlsdGVyTm90ZWJvb2tDbGllbnQ1MDg5'\"), action: NewRoom { room_name: \"general\" } }\n",
      "Sun 2023-01-22 10:49:45.998610 [TRACE] - [T<-UDP] Request { sequence: 3, response_ack: Some(1), cookie: Some(\"b'RmlsdGVyTm90ZWJvb2tDbGllbnQ1MDg5'\"), action: JoinRoom { room_name: \"general\" } }\n",
      "Sun 2023-01-22 10:49:46.015954 [TRACE] - [F<-T,N] For Endpoint Endpoint(127.0.0.1:62012), Took packet Request { sequence: 3, response_ack: Some(1), cookie: Some(\"b'RmlsdGVyTm90ZWJvb2tDbGllbnQ1MDg5'\"), action: JoinRoom { room_name: \"general\" } }\n",
      "Sun 2023-01-22 10:49:46.018060 [TRACE] - [T<-UDP] Request { sequence: 2, response_ack: Some(1), cookie: Some(\"b'RmlsdGVyTm90ZWJvb2tDbGllbnQ1MDg5'\"), action: NewRoom { room_name: \"general\" } }\n",
      "Sun 2023-01-22 10:49:46.047479 [TRACE] - [F<-T,N] For Endpoint Endpoint(127.0.0.1:62012), Took packet Request { sequence: 2, response_ack: Some(1), cookie: Some(\"b'RmlsdGVyTm90ZWJvb2tDbGllbnQ1MDg5'\"), action: NewRoom { room_name: \"general\" } }\n",
      "Sun 2023-01-22 10:49:46.258733 [TRACE] - [T<-UDP] Request { sequence: 3, response_ack: Some(1), cookie: Some(\"b'RmlsdGVyTm90ZWJvb2tDbGllbnQ1MDg5'\"), action: JoinRoom { room_name: \"general\" } }\n",
      "Sun 2023-01-22 10:49:46.264953 [TRACE] - [F<-T,N] For Endpoint Endpoint(127.0.0.1:62012), Took packet Request { sequence: 3, response_ack: Some(1), cookie: Some(\"b'RmlsdGVyTm90ZWJvb2tDbGllbnQ1MDg5'\"), action: JoinRoom { room_name: \"general\" } }\n",
      "Sun 2023-01-22 10:49:46.268087 [TRACE] - [T<-UDP] Request { sequence: 2, response_ack: Some(1), cookie: Some(\"b'RmlsdGVyTm90ZWJvb2tDbGllbnQ1MDg5'\"), action: NewRoom { room_name: \"general\" } }\n",
      "Sun 2023-01-22 10:49:46.295958 [TRACE] - [F<-T,N] For Endpoint Endpoint(127.0.0.1:62012), Took packet Request { sequence: 2, response_ack: Some(1), cookie: Some(\"b'RmlsdGVyTm90ZWJvb2tDbGllbnQ1MDg5'\"), action: NewRoom { room_name: \"general\" } }\n",
      "Sun 2023-01-22 10:49:46.518188 [TRACE] - [T<-UDP] Request { sequence: 2, response_ack: Some(1), cookie: Some(\"b'RmlsdGVyTm90ZWJvb2tDbGllbnQ1MDg5'\"), action: NewRoom { room_name: \"general\" } }\n",
      "Sun 2023-01-22 10:49:46.518214 [TRACE] - [T<-UDP] Request { sequence: 3, response_ack: Some(1), cookie: Some(\"b'RmlsdGVyTm90ZWJvb2tDbGllbnQ1MDg5'\"), action: JoinRoom { room_name: \"general\" } }\n",
      "Sun 2023-01-22 10:49:46.544764 [TRACE] - [F<-T,N] For Endpoint Endpoint(127.0.0.1:62012), Took packet Request { sequence: 2, response_ack: Some(1), cookie: Some(\"b'RmlsdGVyTm90ZWJvb2tDbGllbnQ1MDg5'\"), action: NewRoom { room_name: \"general\" } }\n",
      "Sun 2023-01-22 10:49:46.544784 [TRACE] - [F<-T,N] For Endpoint Endpoint(127.0.0.1:62012), Took packet Request { sequence: 3, response_ack: Some(1), cookie: Some(\"b'RmlsdGVyTm90ZWJvb2tDbGllbnQ1MDg5'\"), action: JoinRoom { room_name: \"general\" } }\n",
      "Sun 2023-01-22 10:49:46.768211 [TRACE] - [T<-UDP] Request { sequence: 2, response_ack: Some(1), cookie: Some(\"b'RmlsdGVyTm90ZWJvb2tDbGllbnQ1MDg5'\"), action: NewRoom { room_name: \"general\" } }\n",
      "Sun 2023-01-22 10:49:46.768234 [TRACE] - [T<-UDP] Request { sequence: 3, response_ack: Some(1), cookie: Some(\"b'RmlsdGVyTm90ZWJvb2tDbGllbnQ1MDg5'\"), action: JoinRoom { room_name: \"general\" } }\n",
      "Sun 2023-01-22 10:49:46.793657 [TRACE] - [F<-T,N] For Endpoint Endpoint(127.0.0.1:62012), Took packet Request { sequence: 2, response_ack: Some(1), cookie: Some(\"b'RmlsdGVyTm90ZWJvb2tDbGllbnQ1MDg5'\"), action: NewRoom { room_name: \"general\" } }\n",
      "Sun 2023-01-22 10:49:46.793675 [TRACE] - [F<-T,N] For Endpoint Endpoint(127.0.0.1:62012), Took packet Request { sequence: 3, response_ack: Some(1), cookie: Some(\"b'RmlsdGVyTm90ZWJvb2tDbGllbnQ1MDg5'\"), action: JoinRoom { room_name: \"general\" } }\n",
      "Sun 2023-01-22 10:49:47.028080 [TRACE] - [T<-UDP] Request { sequence: 2, response_ack: Some(1), cookie: Some(\"b'RmlsdGVyTm90ZWJvb2tDbGllbnQ1MDg5'\"), action: NewRoom { room_name: \"general\" } }\n",
      "Sun 2023-01-22 10:49:47.028099 [TRACE] - [T<-UDP] Request { sequence: 3, response_ack: Some(1), cookie: Some(\"b'RmlsdGVyTm90ZWJvb2tDbGllbnQ1MDg5'\"), action: JoinRoom { room_name: \"general\" } }\n",
      "Sun 2023-01-22 10:49:47.042327 [TRACE] - [F<-T,N] For Endpoint Endpoint(127.0.0.1:62012), Took packet Request { sequence: 2, response_ack: Some(1), cookie: Some(\"b'RmlsdGVyTm90ZWJvb2tDbGllbnQ1MDg5'\"), action: NewRoom { room_name: \"general\" } }\n",
      "Sun 2023-01-22 10:49:47.042351 [TRACE] - [F<-T,N] For Endpoint Endpoint(127.0.0.1:62012), Took packet Request { sequence: 3, response_ack: Some(1), cookie: Some(\"b'RmlsdGVyTm90ZWJvb2tDbGllbnQ1MDg5'\"), action: JoinRoom { room_name: \"general\" } }\n",
      "Sun 2023-01-22 10:49:47.287981 [TRACE] - [T<-UDP] Request { sequence: 2, response_ack: Some(1), cookie: Some(\"b'RmlsdGVyTm90ZWJvb2tDbGllbnQ1MDg5'\"), action: NewRoom { room_name: \"general\" } }\n",
      "Sun 2023-01-22 10:49:47.287999 [TRACE] - [T<-UDP] Request { sequence: 3, response_ack: Some(1), cookie: Some(\"b'RmlsdGVyTm90ZWJvb2tDbGllbnQ1MDg5'\"), action: JoinRoom { room_name: \"general\" } }\n",
      "Sun 2023-01-22 10:49:47.291146 [TRACE] - [F<-T,N] For Endpoint Endpoint(127.0.0.1:62012), Took packet Request { sequence: 2, response_ack: Some(1), cookie: Some(\"b'RmlsdGVyTm90ZWJvb2tDbGllbnQ1MDg5'\"), action: NewRoom { room_name: \"general\" } }\n",
      "Sun 2023-01-22 10:49:47.291156 [TRACE] - [F<-T,N] For Endpoint Endpoint(127.0.0.1:62012), Took packet Request { sequence: 3, response_ack: Some(1), cookie: Some(\"b'RmlsdGVyTm90ZWJvb2tDbGllbnQ1MDg5'\"), action: JoinRoom { room_name: \"general\" } }\n",
      "Sun 2023-01-22 10:49:47.538235 [TRACE] - [T<-UDP] Request { sequence: 2, response_ack: Some(1), cookie: Some(\"b'RmlsdGVyTm90ZWJvb2tDbGllbnQ1MDg5'\"), action: NewRoom { room_name: \"general\" } }\n",
      "Sun 2023-01-22 10:49:47.538260 [TRACE] - [T<-UDP] Request { sequence: 3, response_ack: Some(1), cookie: Some(\"b'RmlsdGVyTm90ZWJvb2tDbGllbnQ1MDg5'\"), action: JoinRoom { room_name: \"general\" } }\n",
      "Sun 2023-01-22 10:49:47.541380 [TRACE] - [F<-T,N] For Endpoint Endpoint(127.0.0.1:62012), Took packet Request { sequence: 2, response_ack: Some(1), cookie: Some(\"b'RmlsdGVyTm90ZWJvb2tDbGllbnQ1MDg5'\"), action: NewRoom { room_name: \"general\" } }\n",
      "Sun 2023-01-22 10:49:47.541398 [TRACE] - [F<-T,N] For Endpoint Endpoint(127.0.0.1:62012), Took packet Request { sequence: 3, response_ack: Some(1), cookie: Some(\"b'RmlsdGVyTm90ZWJvb2tDbGllbnQ1MDg5'\"), action: JoinRoom { room_name: \"general\" } }\n",
      "Sun 2023-01-22 10:49:47.797712 [TRACE] - [T<-UDP] Request { sequence: 2, response_ack: Some(1), cookie: Some(\"b'RmlsdGVyTm90ZWJvb2tDbGllbnQ1MDg5'\"), action: NewRoom { room_name: \"general\" } }\n",
      "Sun 2023-01-22 10:49:47.797731 [TRACE] - [T<-UDP] Request { sequence: 3, response_ack: Some(1), cookie: Some(\"b'RmlsdGVyTm90ZWJvb2tDbGllbnQ1MDg5'\"), action: JoinRoom { room_name: \"general\" } }\n",
      "Sun 2023-01-22 10:49:47.820254 [TRACE] - [F<-T,N] For Endpoint Endpoint(127.0.0.1:62012), Took packet Request { sequence: 2, response_ack: Some(1), cookie: Some(\"b'RmlsdGVyTm90ZWJvb2tDbGllbnQ1MDg5'\"), action: NewRoom { room_name: \"general\" } }\n",
      "Sun 2023-01-22 10:49:47.820272 [TRACE] - [F<-T,N] For Endpoint Endpoint(127.0.0.1:62012), Took packet Request { sequence: 3, response_ack: Some(1), cookie: Some(\"b'RmlsdGVyTm90ZWJvb2tDbGllbnQ1MDg5'\"), action: JoinRoom { room_name: \"general\" } }\n",
      "Sun 2023-01-22 10:49:48.047742 [TRACE] - [T<-UDP] Request { sequence: 2, response_ack: Some(1), cookie: Some(\"b'RmlsdGVyTm90ZWJvb2tDbGllbnQ1MDg5'\"), action: NewRoom { room_name: \"general\" } }\n",
      "Sun 2023-01-22 10:49:48.047761 [TRACE] - [T<-UDP] Request { sequence: 3, response_ack: Some(1), cookie: Some(\"b'RmlsdGVyTm90ZWJvb2tDbGllbnQ1MDg5'\"), action: JoinRoom { room_name: \"general\" } }\n",
      "Sun 2023-01-22 10:49:48.069198 [TRACE] - [F<-T,N] For Endpoint Endpoint(127.0.0.1:62012), Took packet Request { sequence: 2, response_ack: Some(1), cookie: Some(\"b'RmlsdGVyTm90ZWJvb2tDbGllbnQ1MDg5'\"), action: NewRoom { room_name: \"general\" } }\n",
      "Sun 2023-01-22 10:49:48.069216 [TRACE] - [F<-T,N] For Endpoint Endpoint(127.0.0.1:62012), Took packet Request { sequence: 3, response_ack: Some(1), cookie: Some(\"b'RmlsdGVyTm90ZWJvb2tDbGllbnQ1MDg5'\"), action: JoinRoom { room_name: \"general\" } }\n"
     ]
    },
    {
     "name": "stdout",
     "output_type": "stream",
     "text": [
      "Sun 2023-01-22 10:49:48.297746 [TRACE] - [T<-UDP] Request { sequence: 2, response_ack: Some(1), cookie: Some(\"b'RmlsdGVyTm90ZWJvb2tDbGllbnQ1MDg5'\"), action: NewRoom { room_name: \"general\" } }\n",
      "Sun 2023-01-22 10:49:48.297766 [TRACE] - [T<-UDP] Request { sequence: 3, response_ack: Some(1), cookie: Some(\"b'RmlsdGVyTm90ZWJvb2tDbGllbnQ1MDg5'\"), action: JoinRoom { room_name: \"general\" } }\n",
      "Sun 2023-01-22 10:49:48.318249 [TRACE] - [F<-T,N] For Endpoint Endpoint(127.0.0.1:62012), Took packet Request { sequence: 2, response_ack: Some(1), cookie: Some(\"b'RmlsdGVyTm90ZWJvb2tDbGllbnQ1MDg5'\"), action: NewRoom { room_name: \"general\" } }\n",
      "Sun 2023-01-22 10:49:48.318266 [TRACE] - [F<-T,N] For Endpoint Endpoint(127.0.0.1:62012), Took packet Request { sequence: 3, response_ack: Some(1), cookie: Some(\"b'RmlsdGVyTm90ZWJvb2tDbGllbnQ1MDg5'\"), action: JoinRoom { room_name: \"general\" } }\n",
      "Sun 2023-01-22 10:49:48.548035 [TRACE] - [T<-UDP] Request { sequence: 2, response_ack: Some(1), cookie: Some(\"b'RmlsdGVyTm90ZWJvb2tDbGllbnQ1MDg5'\"), action: NewRoom { room_name: \"general\" } }\n",
      "Sun 2023-01-22 10:49:48.548054 [TRACE] - [T<-UDP] Request { sequence: 3, response_ack: Some(1), cookie: Some(\"b'RmlsdGVyTm90ZWJvb2tDbGllbnQ1MDg5'\"), action: JoinRoom { room_name: \"general\" } }\n",
      "Sun 2023-01-22 10:49:48.566318 [TRACE] - [F<-T,N] For Endpoint Endpoint(127.0.0.1:62012), Took packet Request { sequence: 2, response_ack: Some(1), cookie: Some(\"b'RmlsdGVyTm90ZWJvb2tDbGllbnQ1MDg5'\"), action: NewRoom { room_name: \"general\" } }\n",
      "Sun 2023-01-22 10:49:48.566332 [TRACE] - [F<-T,N] For Endpoint Endpoint(127.0.0.1:62012), Took packet Request { sequence: 3, response_ack: Some(1), cookie: Some(\"b'RmlsdGVyTm90ZWJvb2tDbGllbnQ1MDg5'\"), action: JoinRoom { room_name: \"general\" } }\n",
      "Sun 2023-01-22 10:49:48.798264 [TRACE] - [T<-UDP] Request { sequence: 2, response_ack: Some(1), cookie: Some(\"b'RmlsdGVyTm90ZWJvb2tDbGllbnQ1MDg5'\"), action: NewRoom { room_name: \"general\" } }\n",
      "Sun 2023-01-22 10:49:48.798283 [TRACE] - [T<-UDP] Request { sequence: 3, response_ack: Some(1), cookie: Some(\"b'RmlsdGVyTm90ZWJvb2tDbGllbnQ1MDg5'\"), action: JoinRoom { room_name: \"general\" } }\n",
      "Sun 2023-01-22 10:49:48.815051 [TRACE] - [F<-T,N] For Endpoint Endpoint(127.0.0.1:62012), Took packet Request { sequence: 2, response_ack: Some(1), cookie: Some(\"b'RmlsdGVyTm90ZWJvb2tDbGllbnQ1MDg5'\"), action: NewRoom { room_name: \"general\" } }\n",
      "Sun 2023-01-22 10:49:48.815070 [TRACE] - [F<-T,N] For Endpoint Endpoint(127.0.0.1:62012), Took packet Request { sequence: 3, response_ack: Some(1), cookie: Some(\"b'RmlsdGVyTm90ZWJvb2tDbGllbnQ1MDg5'\"), action: JoinRoom { room_name: \"general\" } }\n",
      "Sun 2023-01-22 10:49:49.058707 [TRACE] - [T<-UDP] Request { sequence: 2, response_ack: Some(1), cookie: Some(\"b'RmlsdGVyTm90ZWJvb2tDbGllbnQ1MDg5'\"), action: NewRoom { room_name: \"general\" } }\n",
      "Sun 2023-01-22 10:49:49.058726 [TRACE] - [T<-UDP] Request { sequence: 3, response_ack: Some(1), cookie: Some(\"b'RmlsdGVyTm90ZWJvb2tDbGllbnQ1MDg5'\"), action: JoinRoom { room_name: \"general\" } }\n",
      "Sun 2023-01-22 10:49:49.065390 [TRACE] - [F<-T,N] For Endpoint Endpoint(127.0.0.1:62012), Took packet Request { sequence: 2, response_ack: Some(1), cookie: Some(\"b'RmlsdGVyTm90ZWJvb2tDbGllbnQ1MDg5'\"), action: NewRoom { room_name: \"general\" } }\n",
      "Sun 2023-01-22 10:49:49.065408 [TRACE] - [F<-T,N] For Endpoint Endpoint(127.0.0.1:62012), Took packet Request { sequence: 3, response_ack: Some(1), cookie: Some(\"b'RmlsdGVyTm90ZWJvb2tDbGllbnQ1MDg5'\"), action: JoinRoom { room_name: \"general\" } }\n",
      "Sun 2023-01-22 10:49:49.317688 [TRACE] - [T<-UDP] Request { sequence: 2, response_ack: Some(1), cookie: Some(\"b'RmlsdGVyTm90ZWJvb2tDbGllbnQ1MDg5'\"), action: NewRoom { room_name: \"general\" } }\n",
      "Sun 2023-01-22 10:49:49.317706 [TRACE] - [T<-UDP] Request { sequence: 3, response_ack: Some(1), cookie: Some(\"b'RmlsdGVyTm90ZWJvb2tDbGllbnQ1MDg5'\"), action: JoinRoom { room_name: \"general\" } }\n",
      "Sun 2023-01-22 10:49:49.345139 [TRACE] - [F<-T,N] For Endpoint Endpoint(127.0.0.1:62012), Took packet Request { sequence: 2, response_ack: Some(1), cookie: Some(\"b'RmlsdGVyTm90ZWJvb2tDbGllbnQ1MDg5'\"), action: NewRoom { room_name: \"general\" } }\n",
      "Sun 2023-01-22 10:49:49.345152 [TRACE] - [F<-T,N] For Endpoint Endpoint(127.0.0.1:62012), Took packet Request { sequence: 3, response_ack: Some(1), cookie: Some(\"b'RmlsdGVyTm90ZWJvb2tDbGllbnQ1MDg5'\"), action: JoinRoom { room_name: \"general\" } }\n",
      "Sun 2023-01-22 10:49:49.567837 [TRACE] - [T<-UDP] Request { sequence: 2, response_ack: Some(1), cookie: Some(\"b'RmlsdGVyTm90ZWJvb2tDbGllbnQ1MDg5'\"), action: NewRoom { room_name: \"general\" } }\n",
      "Sun 2023-01-22 10:49:49.567856 [TRACE] - [T<-UDP] Request { sequence: 3, response_ack: Some(1), cookie: Some(\"b'RmlsdGVyTm90ZWJvb2tDbGllbnQ1MDg5'\"), action: JoinRoom { room_name: \"general\" } }\n",
      "Sun 2023-01-22 10:49:49.594313 [TRACE] - [F<-T,N] For Endpoint Endpoint(127.0.0.1:62012), Took packet Request { sequence: 2, response_ack: Some(1), cookie: Some(\"b'RmlsdGVyTm90ZWJvb2tDbGllbnQ1MDg5'\"), action: NewRoom { room_name: \"general\" } }\n",
      "Sun 2023-01-22 10:49:49.594329 [TRACE] - [F<-T,N] For Endpoint Endpoint(127.0.0.1:62012), Took packet Request { sequence: 3, response_ack: Some(1), cookie: Some(\"b'RmlsdGVyTm90ZWJvb2tDbGllbnQ1MDg5'\"), action: JoinRoom { room_name: \"general\" } }\n",
      "Sun 2023-01-22 10:49:49.818615 [TRACE] - [T<-UDP] Request { sequence: 2, response_ack: Some(1), cookie: Some(\"b'RmlsdGVyTm90ZWJvb2tDbGllbnQ1MDg5'\"), action: NewRoom { room_name: \"general\" } }\n",
      "Sun 2023-01-22 10:49:49.818634 [TRACE] - [T<-UDP] Request { sequence: 3, response_ack: Some(1), cookie: Some(\"b'RmlsdGVyTm90ZWJvb2tDbGllbnQ1MDg5'\"), action: JoinRoom { room_name: \"general\" } }\n",
      "Sun 2023-01-22 10:49:49.843379 [TRACE] - [F<-T,N] For Endpoint Endpoint(127.0.0.1:62012), Took packet Request { sequence: 2, response_ack: Some(1), cookie: Some(\"b'RmlsdGVyTm90ZWJvb2tDbGllbnQ1MDg5'\"), action: NewRoom { room_name: \"general\" } }\n",
      "Sun 2023-01-22 10:49:49.843397 [TRACE] - [F<-T,N] For Endpoint Endpoint(127.0.0.1:62012), Took packet Request { sequence: 3, response_ack: Some(1), cookie: Some(\"b'RmlsdGVyTm90ZWJvb2tDbGllbnQ1MDg5'\"), action: JoinRoom { room_name: \"general\" } }\n",
      "Sun 2023-01-22 10:49:50.078036 [TRACE] - [T<-UDP] Request { sequence: 2, response_ack: Some(1), cookie: Some(\"b'RmlsdGVyTm90ZWJvb2tDbGllbnQ1MDg5'\"), action: NewRoom { room_name: \"general\" } }\n",
      "Sun 2023-01-22 10:49:50.078063 [TRACE] - [T<-UDP] Request { sequence: 3, response_ack: Some(1), cookie: Some(\"b'RmlsdGVyTm90ZWJvb2tDbGllbnQ1MDg5'\"), action: JoinRoom { room_name: \"general\" } }\n",
      "Sun 2023-01-22 10:49:50.092594 [TRACE] - [F<-T,N] For Endpoint Endpoint(127.0.0.1:62012), Took packet Request { sequence: 2, response_ack: Some(1), cookie: Some(\"b'RmlsdGVyTm90ZWJvb2tDbGllbnQ1MDg5'\"), action: NewRoom { room_name: \"general\" } }\n",
      "Sun 2023-01-22 10:49:50.092615 [TRACE] - [F<-T,N] For Endpoint Endpoint(127.0.0.1:62012), Took packet Request { sequence: 3, response_ack: Some(1), cookie: Some(\"b'RmlsdGVyTm90ZWJvb2tDbGllbnQ1MDg5'\"), action: JoinRoom { room_name: \"general\" } }\n",
      "Sun 2023-01-22 10:49:50.328543 [TRACE] - [T<-UDP] Request { sequence: 2, response_ack: Some(1), cookie: Some(\"b'RmlsdGVyTm90ZWJvb2tDbGllbnQ1MDg5'\"), action: NewRoom { room_name: \"general\" } }\n",
      "Sun 2023-01-22 10:49:50.328561 [TRACE] - [T<-UDP] Request { sequence: 3, response_ack: Some(1), cookie: Some(\"b'RmlsdGVyTm90ZWJvb2tDbGllbnQ1MDg5'\"), action: JoinRoom { room_name: \"general\" } }\n",
      "Sun 2023-01-22 10:49:50.340846 [TRACE] - [F<-T,N] For Endpoint Endpoint(127.0.0.1:62012), Took packet Request { sequence: 2, response_ack: Some(1), cookie: Some(\"b'RmlsdGVyTm90ZWJvb2tDbGllbnQ1MDg5'\"), action: NewRoom { room_name: \"general\" } }\n",
      "Sun 2023-01-22 10:49:50.340866 [TRACE] - [F<-T,N] For Endpoint Endpoint(127.0.0.1:62012), Took packet Request { sequence: 3, response_ack: Some(1), cookie: Some(\"b'RmlsdGVyTm90ZWJvb2tDbGllbnQ1MDg5'\"), action: JoinRoom { room_name: \"general\" } }\n",
      "Sun 2023-01-22 10:49:50.578618 [TRACE] - [T<-UDP] Request { sequence: 2, response_ack: Some(1), cookie: Some(\"b'RmlsdGVyTm90ZWJvb2tDbGllbnQ1MDg5'\"), action: NewRoom { room_name: \"general\" } }\n",
      "Sun 2023-01-22 10:49:50.578638 [TRACE] - [T<-UDP] Request { sequence: 3, response_ack: Some(1), cookie: Some(\"b'RmlsdGVyTm90ZWJvb2tDbGllbnQ1MDg5'\"), action: JoinRoom { room_name: \"general\" } }\n",
      "Sun 2023-01-22 10:49:50.588873 [TRACE] - [F<-T,N] For Endpoint Endpoint(127.0.0.1:62012), Took packet Request { sequence: 2, response_ack: Some(1), cookie: Some(\"b'RmlsdGVyTm90ZWJvb2tDbGllbnQ1MDg5'\"), action: NewRoom { room_name: \"general\" } }\n",
      "Sun 2023-01-22 10:49:50.588891 [TRACE] - [F<-T,N] For Endpoint Endpoint(127.0.0.1:62012), Took packet Request { sequence: 3, response_ack: Some(1), cookie: Some(\"b'RmlsdGVyTm90ZWJvb2tDbGllbnQ1MDg5'\"), action: JoinRoom { room_name: \"general\" } }\n"
     ]
    },
    {
     "name": "stdout",
     "output_type": "stream",
     "text": [
      "Sun 2023-01-22 10:49:50.838357 [TRACE] - [T<-UDP] Request { sequence: 2, response_ack: Some(1), cookie: Some(\"b'RmlsdGVyTm90ZWJvb2tDbGllbnQ1MDg5'\"), action: NewRoom { room_name: \"general\" } }\n",
      "Sun 2023-01-22 10:49:50.838383 [TRACE] - [T<-UDP] Request { sequence: 3, response_ack: Some(1), cookie: Some(\"b'RmlsdGVyTm90ZWJvb2tDbGllbnQ1MDg5'\"), action: JoinRoom { room_name: \"general\" } }\n",
      "Sun 2023-01-22 10:49:50.868943 [TRACE] - [F<-T,N] For Endpoint Endpoint(127.0.0.1:62012), Took packet Request { sequence: 2, response_ack: Some(1), cookie: Some(\"b'RmlsdGVyTm90ZWJvb2tDbGllbnQ1MDg5'\"), action: NewRoom { room_name: \"general\" } }\n",
      "Sun 2023-01-22 10:49:50.868963 [TRACE] - [F<-T,N] For Endpoint Endpoint(127.0.0.1:62012), Took packet Request { sequence: 3, response_ack: Some(1), cookie: Some(\"b'RmlsdGVyTm90ZWJvb2tDbGllbnQ1MDg5'\"), action: JoinRoom { room_name: \"general\" } }\n",
      "Sun 2023-01-22 10:49:51.098346 [TRACE] - [T<-UDP] Request { sequence: 2, response_ack: Some(1), cookie: Some(\"b'RmlsdGVyTm90ZWJvb2tDbGllbnQ1MDg5'\"), action: NewRoom { room_name: \"general\" } }\n",
      "Sun 2023-01-22 10:49:51.098367 [TRACE] - [T<-UDP] Request { sequence: 3, response_ack: Some(1), cookie: Some(\"b'RmlsdGVyTm90ZWJvb2tDbGllbnQ1MDg5'\"), action: JoinRoom { room_name: \"general\" } }\n",
      "Sun 2023-01-22 10:49:51.117637 [TRACE] - [F<-T,N] For Endpoint Endpoint(127.0.0.1:62012), Took packet Request { sequence: 2, response_ack: Some(1), cookie: Some(\"b'RmlsdGVyTm90ZWJvb2tDbGllbnQ1MDg5'\"), action: NewRoom { room_name: \"general\" } }\n",
      "Sun 2023-01-22 10:49:51.117653 [TRACE] - [F<-T,N] For Endpoint Endpoint(127.0.0.1:62012), Took packet Request { sequence: 3, response_ack: Some(1), cookie: Some(\"b'RmlsdGVyTm90ZWJvb2tDbGllbnQ1MDg5'\"), action: JoinRoom { room_name: \"general\" } }\n",
      "Sun 2023-01-22 10:49:51.348413 [TRACE] - [T<-UDP] Request { sequence: 2, response_ack: Some(1), cookie: Some(\"b'RmlsdGVyTm90ZWJvb2tDbGllbnQ1MDg5'\"), action: NewRoom { room_name: \"general\" } }\n",
      "Sun 2023-01-22 10:49:51.348432 [TRACE] - [T<-UDP] Request { sequence: 3, response_ack: Some(1), cookie: Some(\"b'RmlsdGVyTm90ZWJvb2tDbGllbnQ1MDg5'\"), action: JoinRoom { room_name: \"general\" } }\n",
      "Sun 2023-01-22 10:49:51.365828 [TRACE] - [F<-T,N] For Endpoint Endpoint(127.0.0.1:62012), Took packet Request { sequence: 2, response_ack: Some(1), cookie: Some(\"b'RmlsdGVyTm90ZWJvb2tDbGllbnQ1MDg5'\"), action: NewRoom { room_name: \"general\" } }\n",
      "Sun 2023-01-22 10:49:51.365850 [TRACE] - [F<-T,N] For Endpoint Endpoint(127.0.0.1:62012), Took packet Request { sequence: 3, response_ack: Some(1), cookie: Some(\"b'RmlsdGVyTm90ZWJvb2tDbGllbnQ1MDg5'\"), action: JoinRoom { room_name: \"general\" } }\n",
      "Sun 2023-01-22 10:49:51.607932 [TRACE] - [T<-UDP] Request { sequence: 2, response_ack: Some(1), cookie: Some(\"b'RmlsdGVyTm90ZWJvb2tDbGllbnQ1MDg5'\"), action: NewRoom { room_name: \"general\" } }\n",
      "Sun 2023-01-22 10:49:51.607959 [TRACE] - [T<-UDP] Request { sequence: 3, response_ack: Some(1), cookie: Some(\"b'RmlsdGVyTm90ZWJvb2tDbGllbnQ1MDg5'\"), action: JoinRoom { room_name: \"general\" } }\n",
      "Sun 2023-01-22 10:49:51.614163 [TRACE] - [F<-T,N] For Endpoint Endpoint(127.0.0.1:62012), Took packet Request { sequence: 2, response_ack: Some(1), cookie: Some(\"b'RmlsdGVyTm90ZWJvb2tDbGllbnQ1MDg5'\"), action: NewRoom { room_name: \"general\" } }\n",
      "Sun 2023-01-22 10:49:51.614187 [TRACE] - [F<-T,N] For Endpoint Endpoint(127.0.0.1:62012), Took packet Request { sequence: 3, response_ack: Some(1), cookie: Some(\"b'RmlsdGVyTm90ZWJvb2tDbGllbnQ1MDg5'\"), action: JoinRoom { room_name: \"general\" } }\n",
      "Sun 2023-01-22 10:49:51.858418 [TRACE] - [T<-UDP] Request { sequence: 2, response_ack: Some(1), cookie: Some(\"b'RmlsdGVyTm90ZWJvb2tDbGllbnQ1MDg5'\"), action: NewRoom { room_name: \"general\" } }\n",
      "Sun 2023-01-22 10:49:51.858437 [TRACE] - [T<-UDP] Request { sequence: 3, response_ack: Some(1), cookie: Some(\"b'RmlsdGVyTm90ZWJvb2tDbGllbnQ1MDg5'\"), action: JoinRoom { room_name: \"general\" } }\n",
      "Sun 2023-01-22 10:49:51.862551 [TRACE] - [F<-T,N] For Endpoint Endpoint(127.0.0.1:62012), Took packet Request { sequence: 2, response_ack: Some(1), cookie: Some(\"b'RmlsdGVyTm90ZWJvb2tDbGllbnQ1MDg5'\"), action: NewRoom { room_name: \"general\" } }\n",
      "Sun 2023-01-22 10:49:51.862570 [TRACE] - [F<-T,N] For Endpoint Endpoint(127.0.0.1:62012), Took packet Request { sequence: 3, response_ack: Some(1), cookie: Some(\"b'RmlsdGVyTm90ZWJvb2tDbGllbnQ1MDg5'\"), action: JoinRoom { room_name: \"general\" } }\n",
      "Sun 2023-01-22 10:49:52.118264 [TRACE] - [T<-UDP] Request { sequence: 2, response_ack: Some(1), cookie: Some(\"b'RmlsdGVyTm90ZWJvb2tDbGllbnQ1MDg5'\"), action: NewRoom { room_name: \"general\" } }\n",
      "Sun 2023-01-22 10:49:52.118283 [TRACE] - [T<-UDP] Request { sequence: 3, response_ack: Some(1), cookie: Some(\"b'RmlsdGVyTm90ZWJvb2tDbGllbnQ1MDg5'\"), action: JoinRoom { room_name: \"general\" } }\n",
      "Sun 2023-01-22 10:49:52.140784 [TRACE] - [F<-T,N] For Endpoint Endpoint(127.0.0.1:62012), Took packet Request { sequence: 2, response_ack: Some(1), cookie: Some(\"b'RmlsdGVyTm90ZWJvb2tDbGllbnQ1MDg5'\"), action: NewRoom { room_name: \"general\" } }\n",
      "Sun 2023-01-22 10:49:52.140802 [TRACE] - [F<-T,N] For Endpoint Endpoint(127.0.0.1:62012), Took packet Request { sequence: 3, response_ack: Some(1), cookie: Some(\"b'RmlsdGVyTm90ZWJvb2tDbGllbnQ1MDg5'\"), action: JoinRoom { room_name: \"general\" } }\n",
      "Sun 2023-01-22 10:49:52.377897 [TRACE] - [T<-UDP] Request { sequence: 2, response_ack: Some(1), cookie: Some(\"b'RmlsdGVyTm90ZWJvb2tDbGllbnQ1MDg5'\"), action: NewRoom { room_name: \"general\" } }\n",
      "Sun 2023-01-22 10:49:52.377916 [TRACE] - [T<-UDP] Request { sequence: 3, response_ack: Some(1), cookie: Some(\"b'RmlsdGVyTm90ZWJvb2tDbGllbnQ1MDg5'\"), action: JoinRoom { room_name: \"general\" } }\n",
      "Sun 2023-01-22 10:49:52.390122 [TRACE] - [F<-T,N] For Endpoint Endpoint(127.0.0.1:62012), Took packet Request { sequence: 2, response_ack: Some(1), cookie: Some(\"b'RmlsdGVyTm90ZWJvb2tDbGllbnQ1MDg5'\"), action: NewRoom { room_name: \"general\" } }\n",
      "Sun 2023-01-22 10:49:52.390140 [TRACE] - [F<-T,N] For Endpoint Endpoint(127.0.0.1:62012), Took packet Request { sequence: 3, response_ack: Some(1), cookie: Some(\"b'RmlsdGVyTm90ZWJvb2tDbGllbnQ1MDg5'\"), action: JoinRoom { room_name: \"general\" } }\n",
      "Sun 2023-01-22 10:49:52.628647 [TRACE] - [T<-UDP] Request { sequence: 2, response_ack: Some(1), cookie: Some(\"b'RmlsdGVyTm90ZWJvb2tDbGllbnQ1MDg5'\"), action: NewRoom { room_name: \"general\" } }\n",
      "Sun 2023-01-22 10:49:52.628664 [TRACE] - [T<-UDP] Request { sequence: 3, response_ack: Some(1), cookie: Some(\"b'RmlsdGVyTm90ZWJvb2tDbGllbnQ1MDg5'\"), action: JoinRoom { room_name: \"general\" } }\n",
      "Sun 2023-01-22 10:49:52.637820 [TRACE] - [F<-T,N] For Endpoint Endpoint(127.0.0.1:62012), Took packet Request { sequence: 2, response_ack: Some(1), cookie: Some(\"b'RmlsdGVyTm90ZWJvb2tDbGllbnQ1MDg5'\"), action: NewRoom { room_name: \"general\" } }\n",
      "Sun 2023-01-22 10:49:52.637835 [TRACE] - [F<-T,N] For Endpoint Endpoint(127.0.0.1:62012), Took packet Request { sequence: 3, response_ack: Some(1), cookie: Some(\"b'RmlsdGVyTm90ZWJvb2tDbGllbnQ1MDg5'\"), action: JoinRoom { room_name: \"general\" } }\n",
      "Sun 2023-01-22 10:49:52.888628 [TRACE] - [T<-UDP] Request { sequence: 2, response_ack: Some(1), cookie: Some(\"b'RmlsdGVyTm90ZWJvb2tDbGllbnQ1MDg5'\"), action: NewRoom { room_name: \"general\" } }\n",
      "Sun 2023-01-22 10:49:52.888644 [TRACE] - [T<-UDP] Request { sequence: 3, response_ack: Some(1), cookie: Some(\"b'RmlsdGVyTm90ZWJvb2tDbGllbnQ1MDg5'\"), action: JoinRoom { room_name: \"general\" } }\n",
      "Sun 2023-01-22 10:49:52.918097 [TRACE] - [F<-T,N] For Endpoint Endpoint(127.0.0.1:62012), Took packet Request { sequence: 2, response_ack: Some(1), cookie: Some(\"b'RmlsdGVyTm90ZWJvb2tDbGllbnQ1MDg5'\"), action: NewRoom { room_name: \"general\" } }\n",
      "Sun 2023-01-22 10:49:52.918114 [TRACE] - [F<-T,N] For Endpoint Endpoint(127.0.0.1:62012), Took packet Request { sequence: 3, response_ack: Some(1), cookie: Some(\"b'RmlsdGVyTm90ZWJvb2tDbGllbnQ1MDg5'\"), action: JoinRoom { room_name: \"general\" } }\n",
      "Sun 2023-01-22 10:49:53.148591 [TRACE] - [T<-UDP] Request { sequence: 2, response_ack: Some(1), cookie: Some(\"b'RmlsdGVyTm90ZWJvb2tDbGllbnQ1MDg5'\"), action: NewRoom { room_name: \"general\" } }\n",
      "Sun 2023-01-22 10:49:53.148608 [TRACE] - [T<-UDP] Request { sequence: 3, response_ack: Some(1), cookie: Some(\"b'RmlsdGVyTm90ZWJvb2tDbGllbnQ1MDg5'\"), action: JoinRoom { room_name: \"general\" } }\n",
      "Sun 2023-01-22 10:49:53.165959 [TRACE] - [F<-T,N] For Endpoint Endpoint(127.0.0.1:62012), Took packet Request { sequence: 2, response_ack: Some(1), cookie: Some(\"b'RmlsdGVyTm90ZWJvb2tDbGllbnQ1MDg5'\"), action: NewRoom { room_name: \"general\" } }\n",
      "Sun 2023-01-22 10:49:53.165976 [TRACE] - [F<-T,N] For Endpoint Endpoint(127.0.0.1:62012), Took packet Request { sequence: 3, response_ack: Some(1), cookie: Some(\"b'RmlsdGVyTm90ZWJvb2tDbGllbnQ1MDg5'\"), action: JoinRoom { room_name: \"general\" } }\n"
     ]
    },
    {
     "name": "stdout",
     "output_type": "stream",
     "text": [
      "Sun 2023-01-22 10:49:53.408363 [TRACE] - [T<-UDP] Request { sequence: 2, response_ack: Some(1), cookie: Some(\"b'RmlsdGVyTm90ZWJvb2tDbGllbnQ1MDg5'\"), action: NewRoom { room_name: \"general\" } }\n",
      "Sun 2023-01-22 10:49:53.408382 [TRACE] - [T<-UDP] Request { sequence: 3, response_ack: Some(1), cookie: Some(\"b'RmlsdGVyTm90ZWJvb2tDbGllbnQ1MDg5'\"), action: JoinRoom { room_name: \"general\" } }\n",
      "Sun 2023-01-22 10:49:53.414661 [TRACE] - [F<-T,N] For Endpoint Endpoint(127.0.0.1:62012), Took packet Request { sequence: 2, response_ack: Some(1), cookie: Some(\"b'RmlsdGVyTm90ZWJvb2tDbGllbnQ1MDg5'\"), action: NewRoom { room_name: \"general\" } }\n",
      "Sun 2023-01-22 10:49:53.414684 [TRACE] - [F<-T,N] For Endpoint Endpoint(127.0.0.1:62012), Took packet Request { sequence: 3, response_ack: Some(1), cookie: Some(\"b'RmlsdGVyTm90ZWJvb2tDbGllbnQ1MDg5'\"), action: JoinRoom { room_name: \"general\" } }\n",
      "Sun 2023-01-22 10:49:53.658510 [TRACE] - [T<-UDP] Request { sequence: 2, response_ack: Some(1), cookie: Some(\"b'RmlsdGVyTm90ZWJvb2tDbGllbnQ1MDg5'\"), action: NewRoom { room_name: \"general\" } }\n",
      "Sun 2023-01-22 10:49:53.658534 [TRACE] - [T<-UDP] Request { sequence: 3, response_ack: Some(1), cookie: Some(\"b'RmlsdGVyTm90ZWJvb2tDbGllbnQ1MDg5'\"), action: JoinRoom { room_name: \"general\" } }\n",
      "Sun 2023-01-22 10:49:53.665643 [TRACE] - [F<-T,N] For Endpoint Endpoint(127.0.0.1:62012), Took packet Request { sequence: 2, response_ack: Some(1), cookie: Some(\"b'RmlsdGVyTm90ZWJvb2tDbGllbnQ1MDg5'\"), action: NewRoom { room_name: \"general\" } }\n",
      "Sun 2023-01-22 10:49:53.665664 [TRACE] - [F<-T,N] For Endpoint Endpoint(127.0.0.1:62012), Took packet Request { sequence: 3, response_ack: Some(1), cookie: Some(\"b'RmlsdGVyTm90ZWJvb2tDbGllbnQ1MDg5'\"), action: JoinRoom { room_name: \"general\" } }\n",
      "Sun 2023-01-22 10:49:53.918110 [TRACE] - [T<-UDP] Request { sequence: 2, response_ack: Some(1), cookie: Some(\"b'RmlsdGVyTm90ZWJvb2tDbGllbnQ1MDg5'\"), action: NewRoom { room_name: \"general\" } }\n",
      "Sun 2023-01-22 10:49:53.918128 [TRACE] - [T<-UDP] Request { sequence: 3, response_ack: Some(1), cookie: Some(\"b'RmlsdGVyTm90ZWJvb2tDbGllbnQ1MDg5'\"), action: JoinRoom { room_name: \"general\" } }\n",
      "Sun 2023-01-22 10:49:53.944753 [TRACE] - [F<-T,N] For Endpoint Endpoint(127.0.0.1:62012), Took packet Request { sequence: 2, response_ack: Some(1), cookie: Some(\"b'RmlsdGVyTm90ZWJvb2tDbGllbnQ1MDg5'\"), action: NewRoom { room_name: \"general\" } }\n",
      "Sun 2023-01-22 10:49:53.944775 [TRACE] - [F<-T,N] For Endpoint Endpoint(127.0.0.1:62012), Took packet Request { sequence: 3, response_ack: Some(1), cookie: Some(\"b'RmlsdGVyTm90ZWJvb2tDbGllbnQ1MDg5'\"), action: JoinRoom { room_name: \"general\" } }\n",
      "Sun 2023-01-22 10:49:54.177932 [TRACE] - [T<-UDP] Request { sequence: 2, response_ack: Some(1), cookie: Some(\"b'RmlsdGVyTm90ZWJvb2tDbGllbnQ1MDg5'\"), action: NewRoom { room_name: \"general\" } }\n",
      "Sun 2023-01-22 10:49:54.177951 [TRACE] - [T<-UDP] Request { sequence: 3, response_ack: Some(1), cookie: Some(\"b'RmlsdGVyTm90ZWJvb2tDbGllbnQ1MDg5'\"), action: JoinRoom { room_name: \"general\" } }\n",
      "Sun 2023-01-22 10:49:54.193329 [TRACE] - [F<-T,N] For Endpoint Endpoint(127.0.0.1:62012), Took packet Request { sequence: 2, response_ack: Some(1), cookie: Some(\"b'RmlsdGVyTm90ZWJvb2tDbGllbnQ1MDg5'\"), action: NewRoom { room_name: \"general\" } }\n",
      "Sun 2023-01-22 10:49:54.193348 [TRACE] - [F<-T,N] For Endpoint Endpoint(127.0.0.1:62012), Took packet Request { sequence: 3, response_ack: Some(1), cookie: Some(\"b'RmlsdGVyTm90ZWJvb2tDbGllbnQ1MDg5'\"), action: JoinRoom { room_name: \"general\" } }\n",
      "Sun 2023-01-22 10:49:54.428633 [TRACE] - [T<-UDP] Request { sequence: 2, response_ack: Some(1), cookie: Some(\"b'RmlsdGVyTm90ZWJvb2tDbGllbnQ1MDg5'\"), action: NewRoom { room_name: \"general\" } }\n",
      "Sun 2023-01-22 10:49:54.428651 [TRACE] - [T<-UDP] Request { sequence: 3, response_ack: Some(1), cookie: Some(\"b'RmlsdGVyTm90ZWJvb2tDbGllbnQ1MDg5'\"), action: JoinRoom { room_name: \"general\" } }\n",
      "Sun 2023-01-22 10:49:54.440884 [TRACE] - [F<-T,N] For Endpoint Endpoint(127.0.0.1:62012), Took packet Request { sequence: 2, response_ack: Some(1), cookie: Some(\"b'RmlsdGVyTm90ZWJvb2tDbGllbnQ1MDg5'\"), action: NewRoom { room_name: \"general\" } }\n",
      "Sun 2023-01-22 10:49:54.440900 [TRACE] - [F<-T,N] For Endpoint Endpoint(127.0.0.1:62012), Took packet Request { sequence: 3, response_ack: Some(1), cookie: Some(\"b'RmlsdGVyTm90ZWJvb2tDbGllbnQ1MDg5'\"), action: JoinRoom { room_name: \"general\" } }\n",
      "Sun 2023-01-22 10:49:54.678939 [TRACE] - [T<-UDP] Request { sequence: 2, response_ack: Some(1), cookie: Some(\"b'RmlsdGVyTm90ZWJvb2tDbGllbnQ1MDg5'\"), action: NewRoom { room_name: \"general\" } }\n",
      "Sun 2023-01-22 10:49:54.678972 [TRACE] - [T<-UDP] Request { sequence: 3, response_ack: Some(1), cookie: Some(\"b'RmlsdGVyTm90ZWJvb2tDbGllbnQ1MDg5'\"), action: JoinRoom { room_name: \"general\" } }\n",
      "Sun 2023-01-22 10:49:54.690029 [TRACE] - [F<-T,N] For Endpoint Endpoint(127.0.0.1:62012), Took packet Request { sequence: 2, response_ack: Some(1), cookie: Some(\"b'RmlsdGVyTm90ZWJvb2tDbGllbnQ1MDg5'\"), action: NewRoom { room_name: \"general\" } }\n",
      "Sun 2023-01-22 10:49:54.690061 [TRACE] - [F<-T,N] For Endpoint Endpoint(127.0.0.1:62012), Took packet Request { sequence: 3, response_ack: Some(1), cookie: Some(\"b'RmlsdGVyTm90ZWJvb2tDbGllbnQ1MDg5'\"), action: JoinRoom { room_name: \"general\" } }\n",
      "Sun 2023-01-22 10:49:54.937895 [TRACE] - [T<-UDP] Request { sequence: 2, response_ack: Some(1), cookie: Some(\"b'RmlsdGVyTm90ZWJvb2tDbGllbnQ1MDg5'\"), action: NewRoom { room_name: \"general\" } }\n",
      "Sun 2023-01-22 10:49:54.937913 [TRACE] - [T<-UDP] Request { sequence: 3, response_ack: Some(1), cookie: Some(\"b'RmlsdGVyTm90ZWJvb2tDbGllbnQ1MDg5'\"), action: JoinRoom { room_name: \"general\" } }\n",
      "Sun 2023-01-22 10:49:54.969355 [TRACE] - [F<-T,N] For Endpoint Endpoint(127.0.0.1:62012), Took packet Request { sequence: 2, response_ack: Some(1), cookie: Some(\"b'RmlsdGVyTm90ZWJvb2tDbGllbnQ1MDg5'\"), action: NewRoom { room_name: \"general\" } }\n",
      "Sun 2023-01-22 10:49:54.969372 [TRACE] - [F<-T,N] For Endpoint Endpoint(127.0.0.1:62012), Took packet Request { sequence: 3, response_ack: Some(1), cookie: Some(\"b'RmlsdGVyTm90ZWJvb2tDbGllbnQ1MDg5'\"), action: JoinRoom { room_name: \"general\" } }\n",
      "Sun 2023-01-22 10:49:55.188293 [TRACE] - [T<-UDP] Request { sequence: 2, response_ack: Some(1), cookie: Some(\"b'RmlsdGVyTm90ZWJvb2tDbGllbnQ1MDg5'\"), action: NewRoom { room_name: \"general\" } }\n",
      "Sun 2023-01-22 10:49:55.188310 [TRACE] - [T<-UDP] Request { sequence: 3, response_ack: Some(1), cookie: Some(\"b'RmlsdGVyTm90ZWJvb2tDbGllbnQ1MDg5'\"), action: JoinRoom { room_name: \"general\" } }\n",
      "Sun 2023-01-22 10:49:55.216765 [TRACE] - [F<-T,N] For Endpoint Endpoint(127.0.0.1:62012), Took packet Request { sequence: 2, response_ack: Some(1), cookie: Some(\"b'RmlsdGVyTm90ZWJvb2tDbGllbnQ1MDg5'\"), action: NewRoom { room_name: \"general\" } }\n",
      "Sun 2023-01-22 10:49:55.216780 [TRACE] - [F<-T,N] For Endpoint Endpoint(127.0.0.1:62012), Took packet Request { sequence: 3, response_ack: Some(1), cookie: Some(\"b'RmlsdGVyTm90ZWJvb2tDbGllbnQ1MDg5'\"), action: JoinRoom { room_name: \"general\" } }\n",
      "Sun 2023-01-22 10:49:55.448373 [TRACE] - [T<-UDP] Request { sequence: 2, response_ack: Some(1), cookie: Some(\"b'RmlsdGVyTm90ZWJvb2tDbGllbnQ1MDg5'\"), action: NewRoom { room_name: \"general\" } }\n",
      "Sun 2023-01-22 10:49:55.448390 [TRACE] - [T<-UDP] Request { sequence: 3, response_ack: Some(1), cookie: Some(\"b'RmlsdGVyTm90ZWJvb2tDbGllbnQ1MDg5'\"), action: JoinRoom { room_name: \"general\" } }\n",
      "Sun 2023-01-22 10:49:55.464776 [TRACE] - [F<-T,N] For Endpoint Endpoint(127.0.0.1:62012), Took packet Request { sequence: 2, response_ack: Some(1), cookie: Some(\"b'RmlsdGVyTm90ZWJvb2tDbGllbnQ1MDg5'\"), action: NewRoom { room_name: \"general\" } }\n",
      "Sun 2023-01-22 10:49:55.464793 [TRACE] - [F<-T,N] For Endpoint Endpoint(127.0.0.1:62012), Took packet Request { sequence: 3, response_ack: Some(1), cookie: Some(\"b'RmlsdGVyTm90ZWJvb2tDbGllbnQ1MDg5'\"), action: JoinRoom { room_name: \"general\" } }\n",
      "Sun 2023-01-22 10:49:55.708733 [TRACE] - [T<-UDP] Request { sequence: 2, response_ack: Some(1), cookie: Some(\"b'RmlsdGVyTm90ZWJvb2tDbGllbnQ1MDg5'\"), action: NewRoom { room_name: \"general\" } }\n",
      "Sun 2023-01-22 10:49:55.708765 [TRACE] - [T<-UDP] Request { sequence: 3, response_ack: Some(1), cookie: Some(\"b'RmlsdGVyTm90ZWJvb2tDbGllbnQ1MDg5'\"), action: JoinRoom { room_name: \"general\" } }\n",
      "Sun 2023-01-22 10:49:55.712932 [TRACE] - [F<-T,N] For Endpoint Endpoint(127.0.0.1:62012), Took packet Request { sequence: 2, response_ack: Some(1), cookie: Some(\"b'RmlsdGVyTm90ZWJvb2tDbGllbnQ1MDg5'\"), action: NewRoom { room_name: \"general\" } }\n",
      "Sun 2023-01-22 10:49:55.712961 [TRACE] - [F<-T,N] For Endpoint Endpoint(127.0.0.1:62012), Took packet Request { sequence: 3, response_ack: Some(1), cookie: Some(\"b'RmlsdGVyTm90ZWJvb2tDbGllbnQ1MDg5'\"), action: JoinRoom { room_name: \"general\" } }\n"
     ]
    },
    {
     "name": "stdout",
     "output_type": "stream",
     "text": [
      "Sun 2023-01-22 10:49:55.968023 [TRACE] - [T<-UDP] Request { sequence: 2, response_ack: Some(1), cookie: Some(\"b'RmlsdGVyTm90ZWJvb2tDbGllbnQ1MDg5'\"), action: NewRoom { room_name: \"general\" } }\n",
      "Sun 2023-01-22 10:49:55.968051 [TRACE] - [T<-UDP] Request { sequence: 3, response_ack: Some(1), cookie: Some(\"b'RmlsdGVyTm90ZWJvb2tDbGllbnQ1MDg5'\"), action: JoinRoom { room_name: \"general\" } }\n",
      "Sun 2023-01-22 10:49:55.993840 [TRACE] - [F<-T,N] For Endpoint Endpoint(127.0.0.1:62012), Took packet Request { sequence: 2, response_ack: Some(1), cookie: Some(\"b'RmlsdGVyTm90ZWJvb2tDbGllbnQ1MDg5'\"), action: NewRoom { room_name: \"general\" } }\n",
      "Sun 2023-01-22 10:49:55.993859 [TRACE] - [F<-T,N] For Endpoint Endpoint(127.0.0.1:62012), Took packet Request { sequence: 3, response_ack: Some(1), cookie: Some(\"b'RmlsdGVyTm90ZWJvb2tDbGllbnQ1MDg5'\"), action: JoinRoom { room_name: \"general\" } }\n",
      "Sun 2023-01-22 10:49:56.218523 [TRACE] - [T<-UDP] Request { sequence: 2, response_ack: Some(1), cookie: Some(\"b'RmlsdGVyTm90ZWJvb2tDbGllbnQ1MDg5'\"), action: NewRoom { room_name: \"general\" } }\n",
      "Sun 2023-01-22 10:49:56.218549 [TRACE] - [T<-UDP] Request { sequence: 3, response_ack: Some(1), cookie: Some(\"b'RmlsdGVyTm90ZWJvb2tDbGllbnQ1MDg5'\"), action: JoinRoom { room_name: \"general\" } }\n",
      "Sun 2023-01-22 10:49:56.241969 [TRACE] - [F<-T,N] For Endpoint Endpoint(127.0.0.1:62012), Took packet Request { sequence: 2, response_ack: Some(1), cookie: Some(\"b'RmlsdGVyTm90ZWJvb2tDbGllbnQ1MDg5'\"), action: NewRoom { room_name: \"general\" } }\n",
      "Sun 2023-01-22 10:49:56.241988 [TRACE] - [F<-T,N] For Endpoint Endpoint(127.0.0.1:62012), Took packet Request { sequence: 3, response_ack: Some(1), cookie: Some(\"b'RmlsdGVyTm90ZWJvb2tDbGllbnQ1MDg5'\"), action: JoinRoom { room_name: \"general\" } }\n",
      "Sun 2023-01-22 10:49:56.478417 [TRACE] - [T<-UDP] Request { sequence: 2, response_ack: Some(1), cookie: Some(\"b'RmlsdGVyTm90ZWJvb2tDbGllbnQ1MDg5'\"), action: NewRoom { room_name: \"general\" } }\n",
      "Sun 2023-01-22 10:49:56.478444 [TRACE] - [T<-UDP] Request { sequence: 3, response_ack: Some(1), cookie: Some(\"b'RmlsdGVyTm90ZWJvb2tDbGllbnQ1MDg5'\"), action: JoinRoom { room_name: \"general\" } }\n",
      "Sun 2023-01-22 10:49:56.491756 [TRACE] - [F<-T,N] For Endpoint Endpoint(127.0.0.1:62012), Took packet Request { sequence: 2, response_ack: Some(1), cookie: Some(\"b'RmlsdGVyTm90ZWJvb2tDbGllbnQ1MDg5'\"), action: NewRoom { room_name: \"general\" } }\n",
      "Sun 2023-01-22 10:49:56.491773 [TRACE] - [F<-T,N] For Endpoint Endpoint(127.0.0.1:62012), Took packet Request { sequence: 3, response_ack: Some(1), cookie: Some(\"b'RmlsdGVyTm90ZWJvb2tDbGllbnQ1MDg5'\"), action: JoinRoom { room_name: \"general\" } }\n",
      "Sun 2023-01-22 10:49:56.728920 [TRACE] - [T<-UDP] Request { sequence: 2, response_ack: Some(1), cookie: Some(\"b'RmlsdGVyTm90ZWJvb2tDbGllbnQ1MDg5'\"), action: NewRoom { room_name: \"general\" } }\n",
      "Sun 2023-01-22 10:49:56.728952 [TRACE] - [T<-UDP] Request { sequence: 3, response_ack: Some(1), cookie: Some(\"b'RmlsdGVyTm90ZWJvb2tDbGllbnQ1MDg5'\"), action: JoinRoom { room_name: \"general\" } }\n",
      "Sun 2023-01-22 10:49:56.740658 [TRACE] - [F<-T,N] For Endpoint Endpoint(127.0.0.1:62012), Took packet Request { sequence: 2, response_ack: Some(1), cookie: Some(\"b'RmlsdGVyTm90ZWJvb2tDbGllbnQ1MDg5'\"), action: NewRoom { room_name: \"general\" } }\n",
      "Sun 2023-01-22 10:49:56.740689 [TRACE] - [F<-T,N] For Endpoint Endpoint(127.0.0.1:62012), Took packet Request { sequence: 3, response_ack: Some(1), cookie: Some(\"b'RmlsdGVyTm90ZWJvb2tDbGllbnQ1MDg5'\"), action: JoinRoom { room_name: \"general\" } }\n",
      "Sun 2023-01-22 10:49:56.988502 [TRACE] - [T<-UDP] Request { sequence: 2, response_ack: Some(1), cookie: Some(\"b'RmlsdGVyTm90ZWJvb2tDbGllbnQ1MDg5'\"), action: NewRoom { room_name: \"general\" } }\n",
      "Sun 2023-01-22 10:49:56.988527 [TRACE] - [T<-UDP] Request { sequence: 3, response_ack: Some(1), cookie: Some(\"b'RmlsdGVyTm90ZWJvb2tDbGllbnQ1MDg5'\"), action: JoinRoom { room_name: \"general\" } }\n",
      "Sun 2023-01-22 10:49:56.990642 [TRACE] - [F<-T,N] For Endpoint Endpoint(127.0.0.1:62012), Took packet Request { sequence: 2, response_ack: Some(1), cookie: Some(\"b'RmlsdGVyTm90ZWJvb2tDbGllbnQ1MDg5'\"), action: NewRoom { room_name: \"general\" } }\n",
      "Sun 2023-01-22 10:49:56.990662 [TRACE] - [F<-T,N] For Endpoint Endpoint(127.0.0.1:62012), Took packet Request { sequence: 3, response_ack: Some(1), cookie: Some(\"b'RmlsdGVyTm90ZWJvb2tDbGllbnQ1MDg5'\"), action: JoinRoom { room_name: \"general\" } }\n",
      "Sun 2023-01-22 10:49:57.248012 [TRACE] - [T<-UDP] Request { sequence: 2, response_ack: Some(1), cookie: Some(\"b'RmlsdGVyTm90ZWJvb2tDbGllbnQ1MDg5'\"), action: NewRoom { room_name: \"general\" } }\n",
      "Sun 2023-01-22 10:49:57.248027 [TRACE] - [T<-UDP] Request { sequence: 3, response_ack: Some(1), cookie: Some(\"b'RmlsdGVyTm90ZWJvb2tDbGllbnQ1MDg5'\"), action: JoinRoom { room_name: \"general\" } }\n",
      "Sun 2023-01-22 10:49:57.270186 [TRACE] - [F<-T,N] For Endpoint Endpoint(127.0.0.1:62012), Took packet Request { sequence: 2, response_ack: Some(1), cookie: Some(\"b'RmlsdGVyTm90ZWJvb2tDbGllbnQ1MDg5'\"), action: NewRoom { room_name: \"general\" } }\n",
      "Sun 2023-01-22 10:49:57.270201 [TRACE] - [F<-T,N] For Endpoint Endpoint(127.0.0.1:62012), Took packet Request { sequence: 3, response_ack: Some(1), cookie: Some(\"b'RmlsdGVyTm90ZWJvb2tDbGllbnQ1MDg5'\"), action: JoinRoom { room_name: \"general\" } }\n",
      "Sun 2023-01-22 10:49:57.508070 [TRACE] - [T<-UDP] Request { sequence: 2, response_ack: Some(1), cookie: Some(\"b'RmlsdGVyTm90ZWJvb2tDbGllbnQ1MDg5'\"), action: NewRoom { room_name: \"general\" } }\n",
      "Sun 2023-01-22 10:49:57.508087 [TRACE] - [T<-UDP] Request { sequence: 3, response_ack: Some(1), cookie: Some(\"b'RmlsdGVyTm90ZWJvb2tDbGllbnQ1MDg5'\"), action: JoinRoom { room_name: \"general\" } }\n",
      "Sun 2023-01-22 10:49:57.518230 [TRACE] - [F<-T,N] For Endpoint Endpoint(127.0.0.1:62012), Took packet Request { sequence: 2, response_ack: Some(1), cookie: Some(\"b'RmlsdGVyTm90ZWJvb2tDbGllbnQ1MDg5'\"), action: NewRoom { room_name: \"general\" } }\n",
      "Sun 2023-01-22 10:49:57.518241 [TRACE] - [F<-T,N] For Endpoint Endpoint(127.0.0.1:62012), Took packet Request { sequence: 3, response_ack: Some(1), cookie: Some(\"b'RmlsdGVyTm90ZWJvb2tDbGllbnQ1MDg5'\"), action: JoinRoom { room_name: \"general\" } }\n",
      "Sun 2023-01-22 10:49:57.768388 [TRACE] - [T<-UDP] Request { sequence: 2, response_ack: Some(1), cookie: Some(\"b'RmlsdGVyTm90ZWJvb2tDbGllbnQ1MDg5'\"), action: NewRoom { room_name: \"general\" } }\n",
      "Sun 2023-01-22 10:49:57.768407 [TRACE] - [T<-UDP] Request { sequence: 3, response_ack: Some(1), cookie: Some(\"b'RmlsdGVyTm90ZWJvb2tDbGllbnQ1MDg5'\"), action: JoinRoom { room_name: \"general\" } }\n",
      "Sun 2023-01-22 10:49:57.797963 [TRACE] - [F<-T,N] For Endpoint Endpoint(127.0.0.1:62012), Took packet Request { sequence: 2, response_ack: Some(1), cookie: Some(\"b'RmlsdGVyTm90ZWJvb2tDbGllbnQ1MDg5'\"), action: NewRoom { room_name: \"general\" } }\n",
      "Sun 2023-01-22 10:49:57.797980 [TRACE] - [F<-T,N] For Endpoint Endpoint(127.0.0.1:62012), Took packet Request { sequence: 3, response_ack: Some(1), cookie: Some(\"b'RmlsdGVyTm90ZWJvb2tDbGllbnQ1MDg5'\"), action: JoinRoom { room_name: \"general\" } }\n",
      "Sun 2023-01-22 10:49:58.028443 [TRACE] - [T<-UDP] Request { sequence: 2, response_ack: Some(1), cookie: Some(\"b'RmlsdGVyTm90ZWJvb2tDbGllbnQ1MDg5'\"), action: NewRoom { room_name: \"general\" } }\n",
      "Sun 2023-01-22 10:49:58.028469 [TRACE] - [T<-UDP] Request { sequence: 3, response_ack: Some(1), cookie: Some(\"b'RmlsdGVyTm90ZWJvb2tDbGllbnQ1MDg5'\"), action: JoinRoom { room_name: \"general\" } }\n",
      "Sun 2023-01-22 10:49:58.048936 [TRACE] - [F<-T,N] For Endpoint Endpoint(127.0.0.1:62012), Took packet Request { sequence: 2, response_ack: Some(1), cookie: Some(\"b'RmlsdGVyTm90ZWJvb2tDbGllbnQ1MDg5'\"), action: NewRoom { room_name: \"general\" } }\n",
      "Sun 2023-01-22 10:49:58.048956 [TRACE] - [F<-T,N] For Endpoint Endpoint(127.0.0.1:62012), Took packet Request { sequence: 3, response_ack: Some(1), cookie: Some(\"b'RmlsdGVyTm90ZWJvb2tDbGllbnQ1MDg5'\"), action: JoinRoom { room_name: \"general\" } }\n",
      "Sun 2023-01-22 10:49:58.288156 [TRACE] - [T<-UDP] Request { sequence: 2, response_ack: Some(1), cookie: Some(\"b'RmlsdGVyTm90ZWJvb2tDbGllbnQ1MDg5'\"), action: NewRoom { room_name: \"general\" } }\n",
      "Sun 2023-01-22 10:49:58.288176 [TRACE] - [T<-UDP] Request { sequence: 3, response_ack: Some(1), cookie: Some(\"b'RmlsdGVyTm90ZWJvb2tDbGllbnQ1MDg5'\"), action: JoinRoom { room_name: \"general\" } }\n",
      "Sun 2023-01-22 10:49:58.298324 [TRACE] - [F<-T,N] For Endpoint Endpoint(127.0.0.1:62012), Took packet Request { sequence: 2, response_ack: Some(1), cookie: Some(\"b'RmlsdGVyTm90ZWJvb2tDbGllbnQ1MDg5'\"), action: NewRoom { room_name: \"general\" } }\n",
      "Sun 2023-01-22 10:49:58.298335 [TRACE] - [F<-T,N] For Endpoint Endpoint(127.0.0.1:62012), Took packet Request { sequence: 3, response_ack: Some(1), cookie: Some(\"b'RmlsdGVyTm90ZWJvb2tDbGllbnQ1MDg5'\"), action: JoinRoom { room_name: \"general\" } }\n"
     ]
    },
    {
     "name": "stdout",
     "output_type": "stream",
     "text": [
      "Sun 2023-01-22 10:49:58.548393 [TRACE] - [T<-UDP] Request { sequence: 2, response_ack: Some(1), cookie: Some(\"b'RmlsdGVyTm90ZWJvb2tDbGllbnQ1MDg5'\"), action: NewRoom { room_name: \"general\" } }\n",
      "Sun 2023-01-22 10:49:58.548411 [TRACE] - [T<-UDP] Request { sequence: 3, response_ack: Some(1), cookie: Some(\"b'RmlsdGVyTm90ZWJvb2tDbGllbnQ1MDg5'\"), action: JoinRoom { room_name: \"general\" } }\n",
      "Sun 2023-01-22 10:49:58.577955 [TRACE] - [F<-T,N] For Endpoint Endpoint(127.0.0.1:62012), Took packet Request { sequence: 2, response_ack: Some(1), cookie: Some(\"b'RmlsdGVyTm90ZWJvb2tDbGllbnQ1MDg5'\"), action: NewRoom { room_name: \"general\" } }\n",
      "Sun 2023-01-22 10:49:58.577971 [TRACE] - [F<-T,N] For Endpoint Endpoint(127.0.0.1:62012), Took packet Request { sequence: 3, response_ack: Some(1), cookie: Some(\"b'RmlsdGVyTm90ZWJvb2tDbGllbnQ1MDg5'\"), action: JoinRoom { room_name: \"general\" } }\n",
      "Sun 2023-01-22 10:49:58.798633 [TRACE] - [T<-UDP] Request { sequence: 2, response_ack: Some(1), cookie: Some(\"b'RmlsdGVyTm90ZWJvb2tDbGllbnQ1MDg5'\"), action: NewRoom { room_name: \"general\" } }\n",
      "Sun 2023-01-22 10:49:58.798651 [TRACE] - [T<-UDP] Request { sequence: 3, response_ack: Some(1), cookie: Some(\"b'RmlsdGVyTm90ZWJvb2tDbGllbnQ1MDg5'\"), action: JoinRoom { room_name: \"general\" } }\n",
      "Sun 2023-01-22 10:49:58.828288 [TRACE] - [F<-T,N] For Endpoint Endpoint(127.0.0.1:62012), Took packet Request { sequence: 2, response_ack: Some(1), cookie: Some(\"b'RmlsdGVyTm90ZWJvb2tDbGllbnQ1MDg5'\"), action: NewRoom { room_name: \"general\" } }\n",
      "Sun 2023-01-22 10:49:58.828304 [TRACE] - [F<-T,N] For Endpoint Endpoint(127.0.0.1:62012), Took packet Request { sequence: 3, response_ack: Some(1), cookie: Some(\"b'RmlsdGVyTm90ZWJvb2tDbGllbnQ1MDg5'\"), action: JoinRoom { room_name: \"general\" } }\n",
      "Sun 2023-01-22 10:49:59.058764 [TRACE] - [T<-UDP] Request { sequence: 2, response_ack: Some(1), cookie: Some(\"b'RmlsdGVyTm90ZWJvb2tDbGllbnQ1MDg5'\"), action: NewRoom { room_name: \"general\" } }\n",
      "Sun 2023-01-22 10:49:59.058794 [TRACE] - [T<-UDP] Request { sequence: 3, response_ack: Some(1), cookie: Some(\"b'RmlsdGVyTm90ZWJvb2tDbGllbnQ1MDg5'\"), action: JoinRoom { room_name: \"general\" } }\n",
      "Sun 2023-01-22 10:49:59.077579 [TRACE] - [F<-T,N] For Endpoint Endpoint(127.0.0.1:62012), Took packet Request { sequence: 2, response_ack: Some(1), cookie: Some(\"b'RmlsdGVyTm90ZWJvb2tDbGllbnQ1MDg5'\"), action: NewRoom { room_name: \"general\" } }\n",
      "Sun 2023-01-22 10:49:59.077609 [TRACE] - [F<-T,N] For Endpoint Endpoint(127.0.0.1:62012), Took packet Request { sequence: 3, response_ack: Some(1), cookie: Some(\"b'RmlsdGVyTm90ZWJvb2tDbGllbnQ1MDg5'\"), action: JoinRoom { room_name: \"general\" } }\n",
      "Sun 2023-01-22 10:49:59.317946 [TRACE] - [T<-UDP] Request { sequence: 2, response_ack: Some(1), cookie: Some(\"b'RmlsdGVyTm90ZWJvb2tDbGllbnQ1MDg5'\"), action: NewRoom { room_name: \"general\" } }\n",
      "Sun 2023-01-22 10:49:59.317971 [TRACE] - [T<-UDP] Request { sequence: 3, response_ack: Some(1), cookie: Some(\"b'RmlsdGVyTm90ZWJvb2tDbGllbnQ1MDg5'\"), action: JoinRoom { room_name: \"general\" } }\n",
      "Sun 2023-01-22 10:49:59.328250 [TRACE] - [F<-T,N] For Endpoint Endpoint(127.0.0.1:62012), Took packet Request { sequence: 2, response_ack: Some(1), cookie: Some(\"b'RmlsdGVyTm90ZWJvb2tDbGllbnQ1MDg5'\"), action: NewRoom { room_name: \"general\" } }\n",
      "Sun 2023-01-22 10:49:59.328266 [TRACE] - [F<-T,N] For Endpoint Endpoint(127.0.0.1:62012), Took packet Request { sequence: 3, response_ack: Some(1), cookie: Some(\"b'RmlsdGVyTm90ZWJvb2tDbGllbnQ1MDg5'\"), action: JoinRoom { room_name: \"general\" } }\n",
      "Sun 2023-01-22 10:49:59.577979 [TRACE] - [T<-UDP] Request { sequence: 2, response_ack: Some(1), cookie: Some(\"b'RmlsdGVyTm90ZWJvb2tDbGllbnQ1MDg5'\"), action: NewRoom { room_name: \"general\" } }\n",
      "Sun 2023-01-22 10:49:59.577997 [TRACE] - [T<-UDP] Request { sequence: 3, response_ack: Some(1), cookie: Some(\"b'RmlsdGVyTm90ZWJvb2tDbGllbnQ1MDg5'\"), action: JoinRoom { room_name: \"general\" } }\n",
      "Sun 2023-01-22 10:49:59.607403 [TRACE] - [F<-T,N] For Endpoint Endpoint(127.0.0.1:62012), Took packet Request { sequence: 2, response_ack: Some(1), cookie: Some(\"b'RmlsdGVyTm90ZWJvb2tDbGllbnQ1MDg5'\"), action: NewRoom { room_name: \"general\" } }\n",
      "Sun 2023-01-22 10:49:59.607420 [TRACE] - [F<-T,N] For Endpoint Endpoint(127.0.0.1:62012), Took packet Request { sequence: 3, response_ack: Some(1), cookie: Some(\"b'RmlsdGVyTm90ZWJvb2tDbGllbnQ1MDg5'\"), action: JoinRoom { room_name: \"general\" } }\n",
      "Sun 2023-01-22 10:49:59.828065 [TRACE] - [T<-UDP] Request { sequence: 2, response_ack: Some(1), cookie: Some(\"b'RmlsdGVyTm90ZWJvb2tDbGllbnQ1MDg5'\"), action: NewRoom { room_name: \"general\" } }\n",
      "Sun 2023-01-22 10:49:59.828082 [TRACE] - [T<-UDP] Request { sequence: 3, response_ack: Some(1), cookie: Some(\"b'RmlsdGVyTm90ZWJvb2tDbGllbnQ1MDg5'\"), action: JoinRoom { room_name: \"general\" } }\n",
      "Sun 2023-01-22 10:49:59.856484 [TRACE] - [F<-T,N] For Endpoint Endpoint(127.0.0.1:62012), Took packet Request { sequence: 2, response_ack: Some(1), cookie: Some(\"b'RmlsdGVyTm90ZWJvb2tDbGllbnQ1MDg5'\"), action: NewRoom { room_name: \"general\" } }\n",
      "Sun 2023-01-22 10:49:59.856495 [TRACE] - [F<-T,N] For Endpoint Endpoint(127.0.0.1:62012), Took packet Request { sequence: 3, response_ack: Some(1), cookie: Some(\"b'RmlsdGVyTm90ZWJvb2tDbGllbnQ1MDg5'\"), action: JoinRoom { room_name: \"general\" } }\n",
      "Sun 2023-01-22 10:50:00.087917 [TRACE] - [T<-UDP] Request { sequence: 2, response_ack: Some(1), cookie: Some(\"b'RmlsdGVyTm90ZWJvb2tDbGllbnQ1MDg5'\"), action: NewRoom { room_name: \"general\" } }\n",
      "Sun 2023-01-22 10:50:00.087938 [TRACE] - [T<-UDP] Request { sequence: 3, response_ack: Some(1), cookie: Some(\"b'RmlsdGVyTm90ZWJvb2tDbGllbnQ1MDg5'\"), action: JoinRoom { room_name: \"general\" } }\n",
      "Sun 2023-01-22 10:50:00.104203 [TRACE] - [F<-T,N] For Endpoint Endpoint(127.0.0.1:62012), Took packet Request { sequence: 2, response_ack: Some(1), cookie: Some(\"b'RmlsdGVyTm90ZWJvb2tDbGllbnQ1MDg5'\"), action: NewRoom { room_name: \"general\" } }\n",
      "Sun 2023-01-22 10:50:00.104216 [TRACE] - [F<-T,N] For Endpoint Endpoint(127.0.0.1:62012), Took packet Request { sequence: 3, response_ack: Some(1), cookie: Some(\"b'RmlsdGVyTm90ZWJvb2tDbGllbnQ1MDg5'\"), action: JoinRoom { room_name: \"general\" } }\n",
      "Sun 2023-01-22 10:50:00.347769 [TRACE] - [T<-UDP] Request { sequence: 2, response_ack: Some(1), cookie: Some(\"b'RmlsdGVyTm90ZWJvb2tDbGllbnQ1MDg5'\"), action: NewRoom { room_name: \"general\" } }\n",
      "Sun 2023-01-22 10:50:00.347783 [TRACE] - [T<-UDP] Request { sequence: 3, response_ack: Some(1), cookie: Some(\"b'RmlsdGVyTm90ZWJvb2tDbGllbnQ1MDg5'\"), action: JoinRoom { room_name: \"general\" } }\n",
      "Sun 2023-01-22 10:50:00.352866 [TRACE] - [F<-T,N] For Endpoint Endpoint(127.0.0.1:62012), Took packet Request { sequence: 2, response_ack: Some(1), cookie: Some(\"b'RmlsdGVyTm90ZWJvb2tDbGllbnQ1MDg5'\"), action: NewRoom { room_name: \"general\" } }\n",
      "Sun 2023-01-22 10:50:00.352877 [TRACE] - [F<-T,N] For Endpoint Endpoint(127.0.0.1:62012), Took packet Request { sequence: 3, response_ack: Some(1), cookie: Some(\"b'RmlsdGVyTm90ZWJvb2tDbGllbnQ1MDg5'\"), action: JoinRoom { room_name: \"general\" } }\n",
      "Sun 2023-01-22 10:50:00.607895 [TRACE] - [T<-UDP] Request { sequence: 2, response_ack: Some(1), cookie: Some(\"b'RmlsdGVyTm90ZWJvb2tDbGllbnQ1MDg5'\"), action: NewRoom { room_name: \"general\" } }\n",
      "Sun 2023-01-22 10:50:00.607912 [TRACE] - [T<-UDP] Request { sequence: 3, response_ack: Some(1), cookie: Some(\"b'RmlsdGVyTm90ZWJvb2tDbGllbnQ1MDg5'\"), action: JoinRoom { room_name: \"general\" } }\n",
      "Sun 2023-01-22 10:50:00.632243 [TRACE] - [F<-T,N] For Endpoint Endpoint(127.0.0.1:62012), Took packet Request { sequence: 2, response_ack: Some(1), cookie: Some(\"b'RmlsdGVyTm90ZWJvb2tDbGllbnQ1MDg5'\"), action: NewRoom { room_name: \"general\" } }\n",
      "Sun 2023-01-22 10:50:00.632258 [TRACE] - [F<-T,N] For Endpoint Endpoint(127.0.0.1:62012), Took packet Request { sequence: 3, response_ack: Some(1), cookie: Some(\"b'RmlsdGVyTm90ZWJvb2tDbGllbnQ1MDg5'\"), action: JoinRoom { room_name: \"general\" } }\n",
      "Sun 2023-01-22 10:50:00.857967 [TRACE] - [T<-UDP] Request { sequence: 2, response_ack: Some(1), cookie: Some(\"b'RmlsdGVyTm90ZWJvb2tDbGllbnQ1MDg5'\"), action: NewRoom { room_name: \"general\" } }\n",
      "Sun 2023-01-22 10:50:00.857985 [TRACE] - [T<-UDP] Request { sequence: 3, response_ack: Some(1), cookie: Some(\"b'RmlsdGVyTm90ZWJvb2tDbGllbnQ1MDg5'\"), action: JoinRoom { room_name: \"general\" } }\n",
      "Sun 2023-01-22 10:50:00.881297 [TRACE] - [F<-T,N] For Endpoint Endpoint(127.0.0.1:62012), Took packet Request { sequence: 2, response_ack: Some(1), cookie: Some(\"b'RmlsdGVyTm90ZWJvb2tDbGllbnQ1MDg5'\"), action: NewRoom { room_name: \"general\" } }\n",
      "Sun 2023-01-22 10:50:00.881309 [TRACE] - [F<-T,N] For Endpoint Endpoint(127.0.0.1:62012), Took packet Request { sequence: 3, response_ack: Some(1), cookie: Some(\"b'RmlsdGVyTm90ZWJvb2tDbGllbnQ1MDg5'\"), action: JoinRoom { room_name: \"general\" } }\n"
     ]
    },
    {
     "name": "stdout",
     "output_type": "stream",
     "text": [
      "Sun 2023-01-22 10:50:01.117801 [TRACE] - [T<-UDP] Request { sequence: 2, response_ack: Some(1), cookie: Some(\"b'RmlsdGVyTm90ZWJvb2tDbGllbnQ1MDg5'\"), action: NewRoom { room_name: \"general\" } }\n",
      "Sun 2023-01-22 10:50:01.117818 [TRACE] - [T<-UDP] Request { sequence: 3, response_ack: Some(1), cookie: Some(\"b'RmlsdGVyTm90ZWJvb2tDbGllbnQ1MDg5'\"), action: JoinRoom { room_name: \"general\" } }\n",
      "Sun 2023-01-22 10:50:01.130014 [TRACE] - [F<-T,N] For Endpoint Endpoint(127.0.0.1:62012), Took packet Request { sequence: 2, response_ack: Some(1), cookie: Some(\"b'RmlsdGVyTm90ZWJvb2tDbGllbnQ1MDg5'\"), action: NewRoom { room_name: \"general\" } }\n",
      "Sun 2023-01-22 10:50:01.130027 [TRACE] - [F<-T,N] For Endpoint Endpoint(127.0.0.1:62012), Took packet Request { sequence: 3, response_ack: Some(1), cookie: Some(\"b'RmlsdGVyTm90ZWJvb2tDbGllbnQ1MDg5'\"), action: JoinRoom { room_name: \"general\" } }\n",
      "Sun 2023-01-22 10:50:01.368669 [TRACE] - [T<-UDP] Request { sequence: 2, response_ack: Some(1), cookie: Some(\"b'RmlsdGVyTm90ZWJvb2tDbGllbnQ1MDg5'\"), action: NewRoom { room_name: \"general\" } }\n",
      "Sun 2023-01-22 10:50:01.368687 [TRACE] - [T<-UDP] Request { sequence: 3, response_ack: Some(1), cookie: Some(\"b'RmlsdGVyTm90ZWJvb2tDbGllbnQ1MDg5'\"), action: JoinRoom { room_name: \"general\" } }\n",
      "Sun 2023-01-22 10:50:01.377839 [TRACE] - [F<-T,N] For Endpoint Endpoint(127.0.0.1:62012), Took packet Request { sequence: 2, response_ack: Some(1), cookie: Some(\"b'RmlsdGVyTm90ZWJvb2tDbGllbnQ1MDg5'\"), action: NewRoom { room_name: \"general\" } }\n",
      "Sun 2023-01-22 10:50:01.377849 [TRACE] - [F<-T,N] For Endpoint Endpoint(127.0.0.1:62012), Took packet Request { sequence: 3, response_ack: Some(1), cookie: Some(\"b'RmlsdGVyTm90ZWJvb2tDbGllbnQ1MDg5'\"), action: JoinRoom { room_name: \"general\" } }\n",
      "Sun 2023-01-22 10:50:01.627750 [TRACE] - [T<-UDP] Request { sequence: 2, response_ack: Some(1), cookie: Some(\"b'RmlsdGVyTm90ZWJvb2tDbGllbnQ1MDg5'\"), action: NewRoom { room_name: \"general\" } }\n",
      "Sun 2023-01-22 10:50:01.627767 [TRACE] - [T<-UDP] Request { sequence: 3, response_ack: Some(1), cookie: Some(\"b'RmlsdGVyTm90ZWJvb2tDbGllbnQ1MDg5'\"), action: JoinRoom { room_name: \"general\" } }\n",
      "Sun 2023-01-22 10:50:01.657229 [TRACE] - [F<-T,N] For Endpoint Endpoint(127.0.0.1:62012), Took packet Request { sequence: 2, response_ack: Some(1), cookie: Some(\"b'RmlsdGVyTm90ZWJvb2tDbGllbnQ1MDg5'\"), action: NewRoom { room_name: \"general\" } }\n",
      "Sun 2023-01-22 10:50:01.657244 [TRACE] - [F<-T,N] For Endpoint Endpoint(127.0.0.1:62012), Took packet Request { sequence: 3, response_ack: Some(1), cookie: Some(\"b'RmlsdGVyTm90ZWJvb2tDbGllbnQ1MDg5'\"), action: JoinRoom { room_name: \"general\" } }\n",
      "Sun 2023-01-22 10:50:01.877974 [TRACE] - [T<-UDP] Request { sequence: 2, response_ack: Some(1), cookie: Some(\"b'RmlsdGVyTm90ZWJvb2tDbGllbnQ1MDg5'\"), action: NewRoom { room_name: \"general\" } }\n",
      "Sun 2023-01-22 10:50:01.877993 [TRACE] - [T<-UDP] Request { sequence: 3, response_ack: Some(1), cookie: Some(\"b'RmlsdGVyTm90ZWJvb2tDbGllbnQ1MDg5'\"), action: JoinRoom { room_name: \"general\" } }\n",
      "Sun 2023-01-22 10:50:01.904872 [TRACE] - [F<-T,N] For Endpoint Endpoint(127.0.0.1:62012), Took packet Request { sequence: 2, response_ack: Some(1), cookie: Some(\"b'RmlsdGVyTm90ZWJvb2tDbGllbnQ1MDg5'\"), action: NewRoom { room_name: \"general\" } }\n",
      "Sun 2023-01-22 10:50:01.904890 [TRACE] - [F<-T,N] For Endpoint Endpoint(127.0.0.1:62012), Took packet Request { sequence: 3, response_ack: Some(1), cookie: Some(\"b'RmlsdGVyTm90ZWJvb2tDbGllbnQ1MDg5'\"), action: JoinRoom { room_name: \"general\" } }\n",
      "Sun 2023-01-22 10:50:02.128520 [TRACE] - [T<-UDP] Request { sequence: 2, response_ack: Some(1), cookie: Some(\"b'RmlsdGVyTm90ZWJvb2tDbGllbnQ1MDg5'\"), action: NewRoom { room_name: \"general\" } }\n",
      "Sun 2023-01-22 10:50:02.128544 [TRACE] - [T<-UDP] Request { sequence: 3, response_ack: Some(1), cookie: Some(\"b'RmlsdGVyTm90ZWJvb2tDbGllbnQ1MDg5'\"), action: JoinRoom { room_name: \"general\" } }\n",
      "Sun 2023-01-22 10:50:02.152882 [TRACE] - [F<-T,N] For Endpoint Endpoint(127.0.0.1:62012), Took packet Request { sequence: 2, response_ack: Some(1), cookie: Some(\"b'RmlsdGVyTm90ZWJvb2tDbGllbnQ1MDg5'\"), action: NewRoom { room_name: \"general\" } }\n",
      "Sun 2023-01-22 10:50:02.152897 [TRACE] - [F<-T,N] For Endpoint Endpoint(127.0.0.1:62012), Took packet Request { sequence: 3, response_ack: Some(1), cookie: Some(\"b'RmlsdGVyTm90ZWJvb2tDbGllbnQ1MDg5'\"), action: JoinRoom { room_name: \"general\" } }\n",
      "Sun 2023-01-22 10:50:02.388377 [TRACE] - [T<-UDP] Request { sequence: 2, response_ack: Some(1), cookie: Some(\"b'RmlsdGVyTm90ZWJvb2tDbGllbnQ1MDg5'\"), action: NewRoom { room_name: \"general\" } }\n",
      "Sun 2023-01-22 10:50:02.388394 [TRACE] - [T<-UDP] Request { sequence: 3, response_ack: Some(1), cookie: Some(\"b'RmlsdGVyTm90ZWJvb2tDbGllbnQ1MDg5'\"), action: JoinRoom { room_name: \"general\" } }\n",
      "Sun 2023-01-22 10:50:02.401600 [TRACE] - [F<-T,N] For Endpoint Endpoint(127.0.0.1:62012), Took packet Request { sequence: 2, response_ack: Some(1), cookie: Some(\"b'RmlsdGVyTm90ZWJvb2tDbGllbnQ1MDg5'\"), action: NewRoom { room_name: \"general\" } }\n",
      "Sun 2023-01-22 10:50:02.401615 [TRACE] - [F<-T,N] For Endpoint Endpoint(127.0.0.1:62012), Took packet Request { sequence: 3, response_ack: Some(1), cookie: Some(\"b'RmlsdGVyTm90ZWJvb2tDbGllbnQ1MDg5'\"), action: JoinRoom { room_name: \"general\" } }\n",
      "Sun 2023-01-22 10:50:02.648147 [TRACE] - [T<-UDP] Request { sequence: 2, response_ack: Some(1), cookie: Some(\"b'RmlsdGVyTm90ZWJvb2tDbGllbnQ1MDg5'\"), action: NewRoom { room_name: \"general\" } }\n",
      "Sun 2023-01-22 10:50:02.648164 [TRACE] - [T<-UDP] Request { sequence: 3, response_ack: Some(1), cookie: Some(\"b'RmlsdGVyTm90ZWJvb2tDbGllbnQ1MDg5'\"), action: JoinRoom { room_name: \"general\" } }\n",
      "Sun 2023-01-22 10:50:02.650248 [TRACE] - [F<-T,N] For Endpoint Endpoint(127.0.0.1:62012), Took packet Request { sequence: 2, response_ack: Some(1), cookie: Some(\"b'RmlsdGVyTm90ZWJvb2tDbGllbnQ1MDg5'\"), action: NewRoom { room_name: \"general\" } }\n",
      "Sun 2023-01-22 10:50:02.650258 [TRACE] - [F<-T,N] For Endpoint Endpoint(127.0.0.1:62012), Took packet Request { sequence: 3, response_ack: Some(1), cookie: Some(\"b'RmlsdGVyTm90ZWJvb2tDbGllbnQ1MDg5'\"), action: JoinRoom { room_name: \"general\" } }\n",
      "Sun 2023-01-22 10:50:02.898236 [TRACE] - [T<-UDP] Request { sequence: 2, response_ack: Some(1), cookie: Some(\"b'RmlsdGVyTm90ZWJvb2tDbGllbnQ1MDg5'\"), action: NewRoom { room_name: \"general\" } }\n",
      "Sun 2023-01-22 10:50:02.898254 [TRACE] - [T<-UDP] Request { sequence: 3, response_ack: Some(1), cookie: Some(\"b'RmlsdGVyTm90ZWJvb2tDbGllbnQ1MDg5'\"), action: JoinRoom { room_name: \"general\" } }\n",
      "Sun 2023-01-22 10:50:02.899368 [TRACE] - [F<-T,N] For Endpoint Endpoint(127.0.0.1:62012), Took packet Request { sequence: 2, response_ack: Some(1), cookie: Some(\"b'RmlsdGVyTm90ZWJvb2tDbGllbnQ1MDg5'\"), action: NewRoom { room_name: \"general\" } }\n",
      "Sun 2023-01-22 10:50:02.899385 [TRACE] - [F<-T,N] For Endpoint Endpoint(127.0.0.1:62012), Took packet Request { sequence: 3, response_ack: Some(1), cookie: Some(\"b'RmlsdGVyTm90ZWJvb2tDbGllbnQ1MDg5'\"), action: JoinRoom { room_name: \"general\" } }\n",
      "Sun 2023-01-22 10:50:03.148621 [TRACE] - [T<-UDP] Request { sequence: 2, response_ack: Some(1), cookie: Some(\"b'RmlsdGVyTm90ZWJvb2tDbGllbnQ1MDg5'\"), action: NewRoom { room_name: \"general\" } }\n",
      "Sun 2023-01-22 10:50:03.148639 [TRACE] - [T<-UDP] Request { sequence: 3, response_ack: Some(1), cookie: Some(\"b'RmlsdGVyTm90ZWJvb2tDbGllbnQ1MDg5'\"), action: JoinRoom { room_name: \"general\" } }\n",
      "Sun 2023-01-22 10:50:03.178084 [TRACE] - [F<-T,N] For Endpoint Endpoint(127.0.0.1:62012), Took packet Request { sequence: 2, response_ack: Some(1), cookie: Some(\"b'RmlsdGVyTm90ZWJvb2tDbGllbnQ1MDg5'\"), action: NewRoom { room_name: \"general\" } }\n",
      "Sun 2023-01-22 10:50:03.178095 [TRACE] - [F<-T,N] For Endpoint Endpoint(127.0.0.1:62012), Took packet Request { sequence: 3, response_ack: Some(1), cookie: Some(\"b'RmlsdGVyTm90ZWJvb2tDbGllbnQ1MDg5'\"), action: JoinRoom { room_name: \"general\" } }\n",
      "Sun 2023-01-22 10:50:03.408622 [TRACE] - [T<-UDP] Request { sequence: 2, response_ack: Some(1), cookie: Some(\"b'RmlsdGVyTm90ZWJvb2tDbGllbnQ1MDg5'\"), action: NewRoom { room_name: \"general\" } }\n",
      "Sun 2023-01-22 10:50:03.408639 [TRACE] - [T<-UDP] Request { sequence: 3, response_ack: Some(1), cookie: Some(\"b'RmlsdGVyTm90ZWJvb2tDbGllbnQ1MDg5'\"), action: JoinRoom { room_name: \"general\" } }\n",
      "Sun 2023-01-22 10:50:03.426922 [TRACE] - [F<-T,N] For Endpoint Endpoint(127.0.0.1:62012), Took packet Request { sequence: 2, response_ack: Some(1), cookie: Some(\"b'RmlsdGVyTm90ZWJvb2tDbGllbnQ1MDg5'\"), action: NewRoom { room_name: \"general\" } }\n",
      "Sun 2023-01-22 10:50:03.426939 [TRACE] - [F<-T,N] For Endpoint Endpoint(127.0.0.1:62012), Took packet Request { sequence: 3, response_ack: Some(1), cookie: Some(\"b'RmlsdGVyTm90ZWJvb2tDbGllbnQ1MDg5'\"), action: JoinRoom { room_name: \"general\" } }\n"
     ]
    },
    {
     "name": "stdout",
     "output_type": "stream",
     "text": [
      "Sun 2023-01-22 10:50:03.658771 [TRACE] - [T<-UDP] Request { sequence: 2, response_ack: Some(1), cookie: Some(\"b'RmlsdGVyTm90ZWJvb2tDbGllbnQ1MDg5'\"), action: NewRoom { room_name: \"general\" } }\n",
      "Sun 2023-01-22 10:50:03.658789 [TRACE] - [T<-UDP] Request { sequence: 3, response_ack: Some(1), cookie: Some(\"b'RmlsdGVyTm90ZWJvb2tDbGllbnQ1MDg5'\"), action: JoinRoom { room_name: \"general\" } }\n",
      "Sun 2023-01-22 10:50:03.675257 [TRACE] - [F<-T,N] For Endpoint Endpoint(127.0.0.1:62012), Took packet Request { sequence: 2, response_ack: Some(1), cookie: Some(\"b'RmlsdGVyTm90ZWJvb2tDbGllbnQ1MDg5'\"), action: NewRoom { room_name: \"general\" } }\n",
      "Sun 2023-01-22 10:50:03.675275 [TRACE] - [F<-T,N] For Endpoint Endpoint(127.0.0.1:62012), Took packet Request { sequence: 3, response_ack: Some(1), cookie: Some(\"b'RmlsdGVyTm90ZWJvb2tDbGllbnQ1MDg5'\"), action: JoinRoom { room_name: \"general\" } }\n",
      "Sun 2023-01-22 10:50:03.918201 [TRACE] - [T<-UDP] Request { sequence: 2, response_ack: Some(1), cookie: Some(\"b'RmlsdGVyTm90ZWJvb2tDbGllbnQ1MDg5'\"), action: NewRoom { room_name: \"general\" } }\n",
      "Sun 2023-01-22 10:50:03.918227 [TRACE] - [T<-UDP] Request { sequence: 3, response_ack: Some(1), cookie: Some(\"b'RmlsdGVyTm90ZWJvb2tDbGllbnQ1MDg5'\"), action: JoinRoom { room_name: \"general\" } }\n",
      "Sun 2023-01-22 10:50:03.924428 [TRACE] - [F<-T,N] For Endpoint Endpoint(127.0.0.1:62012), Took packet Request { sequence: 2, response_ack: Some(1), cookie: Some(\"b'RmlsdGVyTm90ZWJvb2tDbGllbnQ1MDg5'\"), action: NewRoom { room_name: \"general\" } }\n",
      "Sun 2023-01-22 10:50:03.924448 [TRACE] - [F<-T,N] For Endpoint Endpoint(127.0.0.1:62012), Took packet Request { sequence: 3, response_ack: Some(1), cookie: Some(\"b'RmlsdGVyTm90ZWJvb2tDbGllbnQ1MDg5'\"), action: JoinRoom { room_name: \"general\" } }\n",
      "Sun 2023-01-22 10:50:04.168920 [TRACE] - [T<-UDP] Request { sequence: 2, response_ack: Some(1), cookie: Some(\"b'RmlsdGVyTm90ZWJvb2tDbGllbnQ1MDg5'\"), action: NewRoom { room_name: \"general\" } }\n",
      "Sun 2023-01-22 10:50:04.168951 [TRACE] - [T<-UDP] Request { sequence: 3, response_ack: Some(1), cookie: Some(\"b'RmlsdGVyTm90ZWJvb2tDbGllbnQ1MDg5'\"), action: JoinRoom { room_name: \"general\" } }\n",
      "Sun 2023-01-22 10:50:04.174115 [TRACE] - [F<-T,N] For Endpoint Endpoint(127.0.0.1:62012), Took packet Request { sequence: 2, response_ack: Some(1), cookie: Some(\"b'RmlsdGVyTm90ZWJvb2tDbGllbnQ1MDg5'\"), action: NewRoom { room_name: \"general\" } }\n",
      "Sun 2023-01-22 10:50:04.174136 [TRACE] - [F<-T,N] For Endpoint Endpoint(127.0.0.1:62012), Took packet Request { sequence: 3, response_ack: Some(1), cookie: Some(\"b'RmlsdGVyTm90ZWJvb2tDbGllbnQ1MDg5'\"), action: JoinRoom { room_name: \"general\" } }\n",
      "Sun 2023-01-22 10:50:04.428254 [TRACE] - [T<-UDP] Request { sequence: 2, response_ack: Some(1), cookie: Some(\"b'RmlsdGVyTm90ZWJvb2tDbGllbnQ1MDg5'\"), action: NewRoom { room_name: \"general\" } }\n",
      "Sun 2023-01-22 10:50:04.428278 [TRACE] - [T<-UDP] Request { sequence: 3, response_ack: Some(1), cookie: Some(\"b'RmlsdGVyTm90ZWJvb2tDbGllbnQ1MDg5'\"), action: JoinRoom { room_name: \"general\" } }\n",
      "Sun 2023-01-22 10:50:04.454675 [TRACE] - [F<-T,N] For Endpoint Endpoint(127.0.0.1:62012), Took packet Request { sequence: 2, response_ack: Some(1), cookie: Some(\"b'RmlsdGVyTm90ZWJvb2tDbGllbnQ1MDg5'\"), action: NewRoom { room_name: \"general\" } }\n",
      "Sun 2023-01-22 10:50:04.454693 [TRACE] - [F<-T,N] For Endpoint Endpoint(127.0.0.1:62012), Took packet Request { sequence: 3, response_ack: Some(1), cookie: Some(\"b'RmlsdGVyTm90ZWJvb2tDbGllbnQ1MDg5'\"), action: JoinRoom { room_name: \"general\" } }\n",
      "Sun 2023-01-22 10:50:04.678422 [TRACE] - [T<-UDP] Request { sequence: 2, response_ack: Some(1), cookie: Some(\"b'RmlsdGVyTm90ZWJvb2tDbGllbnQ1MDg5'\"), action: NewRoom { room_name: \"general\" } }\n",
      "Sun 2023-01-22 10:50:04.678448 [TRACE] - [T<-UDP] Request { sequence: 3, response_ack: Some(1), cookie: Some(\"b'RmlsdGVyTm90ZWJvb2tDbGllbnQ1MDg5'\"), action: JoinRoom { room_name: \"general\" } }\n",
      "Sun 2023-01-22 10:50:04.702821 [TRACE] - [F<-T,N] For Endpoint Endpoint(127.0.0.1:62012), Took packet Request { sequence: 2, response_ack: Some(1), cookie: Some(\"b'RmlsdGVyTm90ZWJvb2tDbGllbnQ1MDg5'\"), action: NewRoom { room_name: \"general\" } }\n",
      "Sun 2023-01-22 10:50:04.702843 [TRACE] - [F<-T,N] For Endpoint Endpoint(127.0.0.1:62012), Took packet Request { sequence: 3, response_ack: Some(1), cookie: Some(\"b'RmlsdGVyTm90ZWJvb2tDbGllbnQ1MDg5'\"), action: JoinRoom { room_name: \"general\" } }\n",
      "Sun 2023-01-22 10:50:04.938103 [TRACE] - [T<-UDP] Request { sequence: 2, response_ack: Some(1), cookie: Some(\"b'RmlsdGVyTm90ZWJvb2tDbGllbnQ1MDg5'\"), action: NewRoom { room_name: \"general\" } }\n",
      "Sun 2023-01-22 10:50:04.938128 [TRACE] - [T<-UDP] Request { sequence: 3, response_ack: Some(1), cookie: Some(\"b'RmlsdGVyTm90ZWJvb2tDbGllbnQ1MDg5'\"), action: JoinRoom { room_name: \"general\" } }\n",
      "Sun 2023-01-22 10:50:04.951351 [TRACE] - [F<-T,N] For Endpoint Endpoint(127.0.0.1:62012), Took packet Request { sequence: 2, response_ack: Some(1), cookie: Some(\"b'RmlsdGVyTm90ZWJvb2tDbGllbnQ1MDg5'\"), action: NewRoom { room_name: \"general\" } }\n",
      "Sun 2023-01-22 10:50:04.951369 [TRACE] - [F<-T,N] For Endpoint Endpoint(127.0.0.1:62012), Took packet Request { sequence: 3, response_ack: Some(1), cookie: Some(\"b'RmlsdGVyTm90ZWJvb2tDbGllbnQ1MDg5'\"), action: JoinRoom { room_name: \"general\" } }\n",
      "Sun 2023-01-22 10:50:05.188266 [TRACE] - [T<-UDP] Request { sequence: 2, response_ack: Some(1), cookie: Some(\"b'RmlsdGVyTm90ZWJvb2tDbGllbnQ1MDg5'\"), action: NewRoom { room_name: \"general\" } }\n",
      "Sun 2023-01-22 10:50:05.188285 [TRACE] - [T<-UDP] Request { sequence: 3, response_ack: Some(1), cookie: Some(\"b'RmlsdGVyTm90ZWJvb2tDbGllbnQ1MDg5'\"), action: JoinRoom { room_name: \"general\" } }\n",
      "Sun 2023-01-22 10:50:05.199502 [TRACE] - [F<-T,N] For Endpoint Endpoint(127.0.0.1:62012), Took packet Request { sequence: 2, response_ack: Some(1), cookie: Some(\"b'RmlsdGVyTm90ZWJvb2tDbGllbnQ1MDg5'\"), action: NewRoom { room_name: \"general\" } }\n",
      "Sun 2023-01-22 10:50:05.199519 [TRACE] - [F<-T,N] For Endpoint Endpoint(127.0.0.1:62012), Took packet Request { sequence: 3, response_ack: Some(1), cookie: Some(\"b'RmlsdGVyTm90ZWJvb2tDbGllbnQ1MDg5'\"), action: JoinRoom { room_name: \"general\" } }\n",
      "Sun 2023-01-22 10:50:05.448476 [TRACE] - [T<-UDP] Request { sequence: 2, response_ack: Some(1), cookie: Some(\"b'RmlsdGVyTm90ZWJvb2tDbGllbnQ1MDg5'\"), action: NewRoom { room_name: \"general\" } }\n",
      "Sun 2023-01-22 10:50:05.448493 [TRACE] - [T<-UDP] Request { sequence: 3, response_ack: Some(1), cookie: Some(\"b'RmlsdGVyTm90ZWJvb2tDbGllbnQ1MDg5'\"), action: JoinRoom { room_name: \"general\" } }\n",
      "Sun 2023-01-22 10:50:05.477905 [TRACE] - [F<-T,N] For Endpoint Endpoint(127.0.0.1:62012), Took packet Request { sequence: 2, response_ack: Some(1), cookie: Some(\"b'RmlsdGVyTm90ZWJvb2tDbGllbnQ1MDg5'\"), action: NewRoom { room_name: \"general\" } }\n",
      "Sun 2023-01-22 10:50:05.477921 [TRACE] - [F<-T,N] For Endpoint Endpoint(127.0.0.1:62012), Took packet Request { sequence: 3, response_ack: Some(1), cookie: Some(\"b'RmlsdGVyTm90ZWJvb2tDbGllbnQ1MDg5'\"), action: JoinRoom { room_name: \"general\" } }\n",
      "Sun 2023-01-22 10:50:05.708401 [TRACE] - [T<-UDP] Request { sequence: 2, response_ack: Some(1), cookie: Some(\"b'RmlsdGVyTm90ZWJvb2tDbGllbnQ1MDg5'\"), action: NewRoom { room_name: \"general\" } }\n",
      "Sun 2023-01-22 10:50:05.708418 [TRACE] - [T<-UDP] Request { sequence: 3, response_ack: Some(1), cookie: Some(\"b'RmlsdGVyTm90ZWJvb2tDbGllbnQ1MDg5'\"), action: JoinRoom { room_name: \"general\" } }\n",
      "Sun 2023-01-22 10:50:05.725696 [TRACE] - [F<-T,N] For Endpoint Endpoint(127.0.0.1:62012), Took packet Request { sequence: 2, response_ack: Some(1), cookie: Some(\"b'RmlsdGVyTm90ZWJvb2tDbGllbnQ1MDg5'\"), action: NewRoom { room_name: \"general\" } }\n",
      "Sun 2023-01-22 10:50:05.725712 [TRACE] - [F<-T,N] For Endpoint Endpoint(127.0.0.1:62012), Took packet Request { sequence: 3, response_ack: Some(1), cookie: Some(\"b'RmlsdGVyTm90ZWJvb2tDbGllbnQ1MDg5'\"), action: JoinRoom { room_name: \"general\" } }\n",
      "Sun 2023-01-22 10:50:05.968446 [TRACE] - [T<-UDP] Request { sequence: 2, response_ack: Some(1), cookie: Some(\"b'RmlsdGVyTm90ZWJvb2tDbGllbnQ1MDg5'\"), action: NewRoom { room_name: \"general\" } }\n",
      "Sun 2023-01-22 10:50:05.968469 [TRACE] - [T<-UDP] Request { sequence: 3, response_ack: Some(1), cookie: Some(\"b'RmlsdGVyTm90ZWJvb2tDbGllbnQ1MDg5'\"), action: JoinRoom { room_name: \"general\" } }\n",
      "Sun 2023-01-22 10:50:05.976623 [TRACE] - [F<-T,N] For Endpoint Endpoint(127.0.0.1:62012), Took packet Request { sequence: 2, response_ack: Some(1), cookie: Some(\"b'RmlsdGVyTm90ZWJvb2tDbGllbnQ1MDg5'\"), action: NewRoom { room_name: \"general\" } }\n",
      "Sun 2023-01-22 10:50:05.976638 [TRACE] - [F<-T,N] For Endpoint Endpoint(127.0.0.1:62012), Took packet Request { sequence: 3, response_ack: Some(1), cookie: Some(\"b'RmlsdGVyTm90ZWJvb2tDbGllbnQ1MDg5'\"), action: JoinRoom { room_name: \"general\" } }\n"
     ]
    },
    {
     "name": "stdout",
     "output_type": "stream",
     "text": [
      "Sun 2023-01-22 10:50:06.228462 [TRACE] - [T<-UDP] Request { sequence: 2, response_ack: Some(1), cookie: Some(\"b'RmlsdGVyTm90ZWJvb2tDbGllbnQ1MDg5'\"), action: NewRoom { room_name: \"general\" } }\n",
      "Sun 2023-01-22 10:50:06.228479 [TRACE] - [T<-UDP] Request { sequence: 3, response_ack: Some(1), cookie: Some(\"b'RmlsdGVyTm90ZWJvb2tDbGllbnQ1MDg5'\"), action: JoinRoom { room_name: \"general\" } }\n",
      "Sun 2023-01-22 10:50:06.255852 [TRACE] - [F<-T,N] For Endpoint Endpoint(127.0.0.1:62012), Took packet Request { sequence: 2, response_ack: Some(1), cookie: Some(\"b'RmlsdGVyTm90ZWJvb2tDbGllbnQ1MDg5'\"), action: NewRoom { room_name: \"general\" } }\n",
      "Sun 2023-01-22 10:50:06.255864 [TRACE] - [F<-T,N] For Endpoint Endpoint(127.0.0.1:62012), Took packet Request { sequence: 3, response_ack: Some(1), cookie: Some(\"b'RmlsdGVyTm90ZWJvb2tDbGllbnQ1MDg5'\"), action: JoinRoom { room_name: \"general\" } }\n",
      "Sun 2023-01-22 10:50:06.488457 [TRACE] - [T<-UDP] Request { sequence: 2, response_ack: Some(1), cookie: Some(\"b'RmlsdGVyTm90ZWJvb2tDbGllbnQ1MDg5'\"), action: NewRoom { room_name: \"general\" } }\n",
      "Sun 2023-01-22 10:50:06.488494 [TRACE] - [T<-UDP] Request { sequence: 3, response_ack: Some(1), cookie: Some(\"b'RmlsdGVyTm90ZWJvb2tDbGllbnQ1MDg5'\"), action: JoinRoom { room_name: \"general\" } }\n",
      "Sun 2023-01-22 10:50:06.503760 [TRACE] - [F<-T,N] For Endpoint Endpoint(127.0.0.1:62012), Took packet Request { sequence: 2, response_ack: Some(1), cookie: Some(\"b'RmlsdGVyTm90ZWJvb2tDbGllbnQ1MDg5'\"), action: NewRoom { room_name: \"general\" } }\n",
      "Sun 2023-01-22 10:50:06.503776 [TRACE] - [F<-T,N] For Endpoint Endpoint(127.0.0.1:62012), Took packet Request { sequence: 3, response_ack: Some(1), cookie: Some(\"b'RmlsdGVyTm90ZWJvb2tDbGllbnQ1MDg5'\"), action: JoinRoom { room_name: \"general\" } }\n",
      "Sun 2023-01-22 10:50:06.738546 [TRACE] - [T<-UDP] Request { sequence: 2, response_ack: Some(1), cookie: Some(\"b'RmlsdGVyTm90ZWJvb2tDbGllbnQ1MDg5'\"), action: NewRoom { room_name: \"general\" } }\n",
      "Sun 2023-01-22 10:50:06.738564 [TRACE] - [T<-UDP] Request { sequence: 3, response_ack: Some(1), cookie: Some(\"b'RmlsdGVyTm90ZWJvb2tDbGllbnQ1MDg5'\"), action: JoinRoom { room_name: \"general\" } }\n",
      "Sun 2023-01-22 10:50:06.751765 [TRACE] - [F<-T,N] For Endpoint Endpoint(127.0.0.1:62012), Took packet Request { sequence: 2, response_ack: Some(1), cookie: Some(\"b'RmlsdGVyTm90ZWJvb2tDbGllbnQ1MDg5'\"), action: NewRoom { room_name: \"general\" } }\n",
      "Sun 2023-01-22 10:50:06.751777 [TRACE] - [F<-T,N] For Endpoint Endpoint(127.0.0.1:62012), Took packet Request { sequence: 3, response_ack: Some(1), cookie: Some(\"b'RmlsdGVyTm90ZWJvb2tDbGllbnQ1MDg5'\"), action: JoinRoom { room_name: \"general\" } }\n",
      "Sun 2023-01-22 10:50:06.998442 [TRACE] - [T<-UDP] Request { sequence: 2, response_ack: Some(1), cookie: Some(\"b'RmlsdGVyTm90ZWJvb2tDbGllbnQ1MDg5'\"), action: NewRoom { room_name: \"general\" } }\n",
      "Sun 2023-01-22 10:50:06.998459 [TRACE] - [T<-UDP] Request { sequence: 3, response_ack: Some(1), cookie: Some(\"b'RmlsdGVyTm90ZWJvb2tDbGllbnQ1MDg5'\"), action: JoinRoom { room_name: \"general\" } }\n",
      "Sun 2023-01-22 10:50:07.001607 [TRACE] - [F<-T,N] For Endpoint Endpoint(127.0.0.1:62012), Took packet Request { sequence: 2, response_ack: Some(1), cookie: Some(\"b'RmlsdGVyTm90ZWJvb2tDbGllbnQ1MDg5'\"), action: NewRoom { room_name: \"general\" } }\n",
      "Sun 2023-01-22 10:50:07.001618 [TRACE] - [F<-T,N] For Endpoint Endpoint(127.0.0.1:62012), Took packet Request { sequence: 3, response_ack: Some(1), cookie: Some(\"b'RmlsdGVyTm90ZWJvb2tDbGllbnQ1MDg5'\"), action: JoinRoom { room_name: \"general\" } }\n",
      "Sun 2023-01-22 10:50:07.258502 [TRACE] - [T<-UDP] Request { sequence: 2, response_ack: Some(1), cookie: Some(\"b'RmlsdGVyTm90ZWJvb2tDbGllbnQ1MDg5'\"), action: NewRoom { room_name: \"general\" } }\n",
      "Sun 2023-01-22 10:50:07.258521 [TRACE] - [T<-UDP] Request { sequence: 3, response_ack: Some(1), cookie: Some(\"b'RmlsdGVyTm90ZWJvb2tDbGllbnQ1MDg5'\"), action: JoinRoom { room_name: \"general\" } }\n",
      "Sun 2023-01-22 10:50:07.280854 [TRACE] - [F<-T,N] For Endpoint Endpoint(127.0.0.1:62012), Took packet Request { sequence: 2, response_ack: Some(1), cookie: Some(\"b'RmlsdGVyTm90ZWJvb2tDbGllbnQ1MDg5'\"), action: NewRoom { room_name: \"general\" } }\n",
      "Sun 2023-01-22 10:50:07.280871 [TRACE] - [F<-T,N] For Endpoint Endpoint(127.0.0.1:62012), Took packet Request { sequence: 3, response_ack: Some(1), cookie: Some(\"b'RmlsdGVyTm90ZWJvb2tDbGllbnQ1MDg5'\"), action: JoinRoom { room_name: \"general\" } }\n",
      "Sun 2023-01-22 10:50:07.518445 [TRACE] - [T<-UDP] Request { sequence: 2, response_ack: Some(1), cookie: Some(\"b'RmlsdGVyTm90ZWJvb2tDbGllbnQ1MDg5'\"), action: NewRoom { room_name: \"general\" } }\n",
      "Sun 2023-01-22 10:50:07.518463 [TRACE] - [T<-UDP] Request { sequence: 3, response_ack: Some(1), cookie: Some(\"b'RmlsdGVyTm90ZWJvb2tDbGllbnQ1MDg5'\"), action: JoinRoom { room_name: \"general\" } }\n",
      "Sun 2023-01-22 10:50:07.529667 [TRACE] - [F<-T,N] For Endpoint Endpoint(127.0.0.1:62012), Took packet Request { sequence: 2, response_ack: Some(1), cookie: Some(\"b'RmlsdGVyTm90ZWJvb2tDbGllbnQ1MDg5'\"), action: NewRoom { room_name: \"general\" } }\n",
      "Sun 2023-01-22 10:50:07.529680 [TRACE] - [F<-T,N] For Endpoint Endpoint(127.0.0.1:62012), Took packet Request { sequence: 3, response_ack: Some(1), cookie: Some(\"b'RmlsdGVyTm90ZWJvb2tDbGllbnQ1MDg5'\"), action: JoinRoom { room_name: \"general\" } }\n",
      "Sun 2023-01-22 10:50:07.778097 [TRACE] - [T<-UDP] Request { sequence: 2, response_ack: Some(1), cookie: Some(\"b'RmlsdGVyTm90ZWJvb2tDbGllbnQ1MDg5'\"), action: NewRoom { room_name: \"general\" } }\n",
      "Sun 2023-01-22 10:50:07.778122 [TRACE] - [T<-UDP] Request { sequence: 3, response_ack: Some(1), cookie: Some(\"b'RmlsdGVyTm90ZWJvb2tDbGllbnQ1MDg5'\"), action: JoinRoom { room_name: \"general\" } }\n",
      "Sun 2023-01-22 10:50:07.779209 [TRACE] - [F<-T,N] For Endpoint Endpoint(127.0.0.1:62012), Took packet Request { sequence: 2, response_ack: Some(1), cookie: Some(\"b'RmlsdGVyTm90ZWJvb2tDbGllbnQ1MDg5'\"), action: NewRoom { room_name: \"general\" } }\n",
      "Sun 2023-01-22 10:50:07.779220 [TRACE] - [F<-T,N] For Endpoint Endpoint(127.0.0.1:62012), Took packet Request { sequence: 3, response_ack: Some(1), cookie: Some(\"b'RmlsdGVyTm90ZWJvb2tDbGllbnQ1MDg5'\"), action: JoinRoom { room_name: \"general\" } }\n",
      "Sun 2023-01-22 10:50:08.028110 [TRACE] - [T<-UDP] Request { sequence: 2, response_ack: Some(1), cookie: Some(\"b'RmlsdGVyTm90ZWJvb2tDbGllbnQ1MDg5'\"), action: NewRoom { room_name: \"general\" } }\n",
      "Sun 2023-01-22 10:50:08.028127 [TRACE] - [T<-UDP] Request { sequence: 3, response_ack: Some(1), cookie: Some(\"b'RmlsdGVyTm90ZWJvb2tDbGllbnQ1MDg5'\"), action: JoinRoom { room_name: \"general\" } }\n",
      "Sun 2023-01-22 10:50:08.029222 [TRACE] - [F<-T,N] For Endpoint Endpoint(127.0.0.1:62012), Took packet Request { sequence: 2, response_ack: Some(1), cookie: Some(\"b'RmlsdGVyTm90ZWJvb2tDbGllbnQ1MDg5'\"), action: NewRoom { room_name: \"general\" } }\n",
      "Sun 2023-01-22 10:50:08.029238 [TRACE] - [F<-T,N] For Endpoint Endpoint(127.0.0.1:62012), Took packet Request { sequence: 3, response_ack: Some(1), cookie: Some(\"b'RmlsdGVyTm90ZWJvb2tDbGllbnQ1MDg5'\"), action: JoinRoom { room_name: \"general\" } }\n",
      "Sun 2023-01-22 10:50:08.288193 [TRACE] - [T<-UDP] Request { sequence: 2, response_ack: Some(1), cookie: Some(\"b'RmlsdGVyTm90ZWJvb2tDbGllbnQ1MDg5'\"), action: NewRoom { room_name: \"general\" } }\n",
      "Sun 2023-01-22 10:50:08.288210 [TRACE] - [T<-UDP] Request { sequence: 3, response_ack: Some(1), cookie: Some(\"b'RmlsdGVyTm90ZWJvb2tDbGllbnQ1MDg5'\"), action: JoinRoom { room_name: \"general\" } }\n",
      "Sun 2023-01-22 10:50:08.310527 [TRACE] - [F<-T,N] For Endpoint Endpoint(127.0.0.1:62012), Took packet Request { sequence: 2, response_ack: Some(1), cookie: Some(\"b'RmlsdGVyTm90ZWJvb2tDbGllbnQ1MDg5'\"), action: NewRoom { room_name: \"general\" } }\n",
      "Sun 2023-01-22 10:50:08.310541 [TRACE] - [F<-T,N] For Endpoint Endpoint(127.0.0.1:62012), Took packet Request { sequence: 3, response_ack: Some(1), cookie: Some(\"b'RmlsdGVyTm90ZWJvb2tDbGllbnQ1MDg5'\"), action: JoinRoom { room_name: \"general\" } }\n",
      "Sun 2023-01-22 10:50:08.548202 [TRACE] - [T<-UDP] Request { sequence: 2, response_ack: Some(1), cookie: Some(\"b'RmlsdGVyTm90ZWJvb2tDbGllbnQ1MDg5'\"), action: NewRoom { room_name: \"general\" } }\n",
      "Sun 2023-01-22 10:50:08.548220 [TRACE] - [T<-UDP] Request { sequence: 3, response_ack: Some(1), cookie: Some(\"b'RmlsdGVyTm90ZWJvb2tDbGllbnQ1MDg5'\"), action: JoinRoom { room_name: \"general\" } }\n",
      "Sun 2023-01-22 10:50:08.558408 [TRACE] - [F<-T,N] For Endpoint Endpoint(127.0.0.1:62012), Took packet Request { sequence: 2, response_ack: Some(1), cookie: Some(\"b'RmlsdGVyTm90ZWJvb2tDbGllbnQ1MDg5'\"), action: NewRoom { room_name: \"general\" } }\n",
      "Sun 2023-01-22 10:50:08.558425 [TRACE] - [F<-T,N] For Endpoint Endpoint(127.0.0.1:62012), Took packet Request { sequence: 3, response_ack: Some(1), cookie: Some(\"b'RmlsdGVyTm90ZWJvb2tDbGllbnQ1MDg5'\"), action: JoinRoom { room_name: \"general\" } }\n"
     ]
    },
    {
     "name": "stdout",
     "output_type": "stream",
     "text": [
      "Sun 2023-01-22 10:50:08.798636 [TRACE] - [T<-UDP] Request { sequence: 2, response_ack: Some(1), cookie: Some(\"b'RmlsdGVyTm90ZWJvb2tDbGllbnQ1MDg5'\"), action: NewRoom { room_name: \"general\" } }\n",
      "Sun 2023-01-22 10:50:08.798655 [TRACE] - [T<-UDP] Request { sequence: 3, response_ack: Some(1), cookie: Some(\"b'RmlsdGVyTm90ZWJvb2tDbGllbnQ1MDg5'\"), action: JoinRoom { room_name: \"general\" } }\n",
      "Sun 2023-01-22 10:50:08.805855 [TRACE] - [F<-T,N] For Endpoint Endpoint(127.0.0.1:62012), Took packet Request { sequence: 2, response_ack: Some(1), cookie: Some(\"b'RmlsdGVyTm90ZWJvb2tDbGllbnQ1MDg5'\"), action: NewRoom { room_name: \"general\" } }\n",
      "Sun 2023-01-22 10:50:08.805874 [TRACE] - [F<-T,N] For Endpoint Endpoint(127.0.0.1:62012), Took packet Request { sequence: 3, response_ack: Some(1), cookie: Some(\"b'RmlsdGVyTm90ZWJvb2tDbGllbnQ1MDg5'\"), action: JoinRoom { room_name: \"general\" } }\n",
      "Sun 2023-01-22 10:50:09.057936 [TRACE] - [T<-UDP] Request { sequence: 2, response_ack: Some(1), cookie: Some(\"b'RmlsdGVyTm90ZWJvb2tDbGllbnQ1MDg5'\"), action: NewRoom { room_name: \"general\" } }\n",
      "Sun 2023-01-22 10:50:09.057954 [TRACE] - [T<-UDP] Request { sequence: 3, response_ack: Some(1), cookie: Some(\"b'RmlsdGVyTm90ZWJvb2tDbGllbnQ1MDg5'\"), action: JoinRoom { room_name: \"general\" } }\n",
      "Sun 2023-01-22 10:50:09.085350 [TRACE] - [F<-T,N] For Endpoint Endpoint(127.0.0.1:62012), Took packet Request { sequence: 2, response_ack: Some(1), cookie: Some(\"b'RmlsdGVyTm90ZWJvb2tDbGllbnQ1MDg5'\"), action: NewRoom { room_name: \"general\" } }\n",
      "Sun 2023-01-22 10:50:09.085367 [TRACE] - [F<-T,N] For Endpoint Endpoint(127.0.0.1:62012), Took packet Request { sequence: 3, response_ack: Some(1), cookie: Some(\"b'RmlsdGVyTm90ZWJvb2tDbGllbnQ1MDg5'\"), action: JoinRoom { room_name: \"general\" } }\n",
      "Sun 2023-01-22 10:50:09.308469 [TRACE] - [T<-UDP] Request { sequence: 2, response_ack: Some(1), cookie: Some(\"b'RmlsdGVyTm90ZWJvb2tDbGllbnQ1MDg5'\"), action: NewRoom { room_name: \"general\" } }\n",
      "Sun 2023-01-22 10:50:09.308487 [TRACE] - [T<-UDP] Request { sequence: 3, response_ack: Some(1), cookie: Some(\"b'RmlsdGVyTm90ZWJvb2tDbGllbnQ1MDg5'\"), action: JoinRoom { room_name: \"general\" } }\n",
      "Sun 2023-01-22 10:50:09.332948 [TRACE] - [F<-T,N] For Endpoint Endpoint(127.0.0.1:62012), Took packet Request { sequence: 2, response_ack: Some(1), cookie: Some(\"b'RmlsdGVyTm90ZWJvb2tDbGllbnQ1MDg5'\"), action: NewRoom { room_name: \"general\" } }\n",
      "Sun 2023-01-22 10:50:09.332964 [TRACE] - [F<-T,N] For Endpoint Endpoint(127.0.0.1:62012), Took packet Request { sequence: 3, response_ack: Some(1), cookie: Some(\"b'RmlsdGVyTm90ZWJvb2tDbGllbnQ1MDg5'\"), action: JoinRoom { room_name: \"general\" } }\n",
      "Sun 2023-01-22 10:50:09.568438 [TRACE] - [T<-UDP] Request { sequence: 2, response_ack: Some(1), cookie: Some(\"b'RmlsdGVyTm90ZWJvb2tDbGllbnQ1MDg5'\"), action: NewRoom { room_name: \"general\" } }\n",
      "Sun 2023-01-22 10:50:09.568456 [TRACE] - [T<-UDP] Request { sequence: 3, response_ack: Some(1), cookie: Some(\"b'RmlsdGVyTm90ZWJvb2tDbGllbnQ1MDg5'\"), action: JoinRoom { room_name: \"general\" } }\n",
      "Sun 2023-01-22 10:50:09.580743 [TRACE] - [F<-T,N] For Endpoint Endpoint(127.0.0.1:62012), Took packet Request { sequence: 2, response_ack: Some(1), cookie: Some(\"b'RmlsdGVyTm90ZWJvb2tDbGllbnQ1MDg5'\"), action: NewRoom { room_name: \"general\" } }\n",
      "Sun 2023-01-22 10:50:09.580761 [TRACE] - [F<-T,N] For Endpoint Endpoint(127.0.0.1:62012), Took packet Request { sequence: 3, response_ack: Some(1), cookie: Some(\"b'RmlsdGVyTm90ZWJvb2tDbGllbnQ1MDg5'\"), action: JoinRoom { room_name: \"general\" } }\n",
      "Sun 2023-01-22 10:50:09.818768 [TRACE] - [T<-UDP] Request { sequence: 2, response_ack: Some(1), cookie: Some(\"b'RmlsdGVyTm90ZWJvb2tDbGllbnQ1MDg5'\"), action: NewRoom { room_name: \"general\" } }\n",
      "Sun 2023-01-22 10:50:09.818789 [TRACE] - [T<-UDP] Request { sequence: 3, response_ack: Some(1), cookie: Some(\"b'RmlsdGVyTm90ZWJvb2tDbGllbnQ1MDg5'\"), action: JoinRoom { room_name: \"general\" } }\n",
      "Sun 2023-01-22 10:50:09.829031 [TRACE] - [F<-T,N] For Endpoint Endpoint(127.0.0.1:62012), Took packet Request { sequence: 2, response_ack: Some(1), cookie: Some(\"b'RmlsdGVyTm90ZWJvb2tDbGllbnQ1MDg5'\"), action: NewRoom { room_name: \"general\" } }\n",
      "Sun 2023-01-22 10:50:09.829049 [TRACE] - [F<-T,N] For Endpoint Endpoint(127.0.0.1:62012), Took packet Request { sequence: 3, response_ack: Some(1), cookie: Some(\"b'RmlsdGVyTm90ZWJvb2tDbGllbnQ1MDg5'\"), action: JoinRoom { room_name: \"general\" } }\n",
      "Sun 2023-01-22 10:50:10.078095 [TRACE] - [T<-UDP] Request { sequence: 2, response_ack: Some(1), cookie: Some(\"b'RmlsdGVyTm90ZWJvb2tDbGllbnQ1MDg5'\"), action: NewRoom { room_name: \"general\" } }\n",
      "Sun 2023-01-22 10:50:10.078114 [TRACE] - [T<-UDP] Request { sequence: 3, response_ack: Some(1), cookie: Some(\"b'RmlsdGVyTm90ZWJvb2tDbGllbnQ1MDg5'\"), action: JoinRoom { room_name: \"general\" } }\n",
      "Sun 2023-01-22 10:50:10.080211 [TRACE] - [F<-T,N] For Endpoint Endpoint(127.0.0.1:62012), Took packet Request { sequence: 2, response_ack: Some(1), cookie: Some(\"b'RmlsdGVyTm90ZWJvb2tDbGllbnQ1MDg5'\"), action: NewRoom { room_name: \"general\" } }\n",
      "Sun 2023-01-22 10:50:10.080228 [TRACE] - [F<-T,N] For Endpoint Endpoint(127.0.0.1:62012), Took packet Request { sequence: 3, response_ack: Some(1), cookie: Some(\"b'RmlsdGVyTm90ZWJvb2tDbGllbnQ1MDg5'\"), action: JoinRoom { room_name: \"general\" } }\n",
      "Sun 2023-01-22 10:50:10.328363 [TRACE] - [T<-UDP] Request { sequence: 2, response_ack: Some(1), cookie: Some(\"b'RmlsdGVyTm90ZWJvb2tDbGllbnQ1MDg5'\"), action: NewRoom { room_name: \"general\" } }\n",
      "Sun 2023-01-22 10:50:10.328385 [TRACE] - [T<-UDP] Request { sequence: 3, response_ack: Some(1), cookie: Some(\"b'RmlsdGVyTm90ZWJvb2tDbGllbnQ1MDg5'\"), action: JoinRoom { room_name: \"general\" } }\n",
      "Sun 2023-01-22 10:50:10.358933 [TRACE] - [F<-T,N] For Endpoint Endpoint(127.0.0.1:62012), Took packet Request { sequence: 2, response_ack: Some(1), cookie: Some(\"b'RmlsdGVyTm90ZWJvb2tDbGllbnQ1MDg5'\"), action: NewRoom { room_name: \"general\" } }\n",
      "Sun 2023-01-22 10:50:10.358951 [TRACE] - [F<-T,N] For Endpoint Endpoint(127.0.0.1:62012), Took packet Request { sequence: 3, response_ack: Some(1), cookie: Some(\"b'RmlsdGVyTm90ZWJvb2tDbGllbnQ1MDg5'\"), action: JoinRoom { room_name: \"general\" } }\n",
      "Sun 2023-01-22 10:50:10.578415 [TRACE] - [T<-UDP] Request { sequence: 2, response_ack: Some(1), cookie: Some(\"b'RmlsdGVyTm90ZWJvb2tDbGllbnQ1MDg5'\"), action: NewRoom { room_name: \"general\" } }\n",
      "Sun 2023-01-22 10:50:10.578434 [TRACE] - [T<-UDP] Request { sequence: 3, response_ack: Some(1), cookie: Some(\"b'RmlsdGVyTm90ZWJvb2tDbGllbnQ1MDg5'\"), action: JoinRoom { room_name: \"general\" } }\n",
      "Sun 2023-01-22 10:50:10.606808 [TRACE] - [F<-T,N] For Endpoint Endpoint(127.0.0.1:62012), Took packet Request { sequence: 2, response_ack: Some(1), cookie: Some(\"b'RmlsdGVyTm90ZWJvb2tDbGllbnQ1MDg5'\"), action: NewRoom { room_name: \"general\" } }\n",
      "Sun 2023-01-22 10:50:10.606820 [TRACE] - [F<-T,N] For Endpoint Endpoint(127.0.0.1:62012), Took packet Request { sequence: 3, response_ack: Some(1), cookie: Some(\"b'RmlsdGVyTm90ZWJvb2tDbGllbnQ1MDg5'\"), action: JoinRoom { room_name: \"general\" } }\n",
      "Sun 2023-01-22 10:50:10.828585 [TRACE] - [T<-UDP] Request { sequence: 2, response_ack: Some(1), cookie: Some(\"b'RmlsdGVyTm90ZWJvb2tDbGllbnQ1MDg5'\"), action: NewRoom { room_name: \"general\" } }\n",
      "Sun 2023-01-22 10:50:10.828601 [TRACE] - [T<-UDP] Request { sequence: 3, response_ack: Some(1), cookie: Some(\"b'RmlsdGVyTm90ZWJvb2tDbGllbnQ1MDg5'\"), action: JoinRoom { room_name: \"general\" } }\n",
      "Sun 2023-01-22 10:50:10.855320 [TRACE] - [F<-T,N] For Endpoint Endpoint(127.0.0.1:62012), Took packet Request { sequence: 2, response_ack: Some(1), cookie: Some(\"b'RmlsdGVyTm90ZWJvb2tDbGllbnQ1MDg5'\"), action: NewRoom { room_name: \"general\" } }\n",
      "Sun 2023-01-22 10:50:10.855333 [TRACE] - [F<-T,N] For Endpoint Endpoint(127.0.0.1:62012), Took packet Request { sequence: 3, response_ack: Some(1), cookie: Some(\"b'RmlsdGVyTm90ZWJvb2tDbGllbnQ1MDg5'\"), action: JoinRoom { room_name: \"general\" } }\n",
      "Sun 2023-01-22 10:50:11.087662 [TRACE] - [T<-UDP] Request { sequence: 2, response_ack: Some(1), cookie: Some(\"b'RmlsdGVyTm90ZWJvb2tDbGllbnQ1MDg5'\"), action: NewRoom { room_name: \"general\" } }\n",
      "Sun 2023-01-22 10:50:11.087677 [TRACE] - [T<-UDP] Request { sequence: 3, response_ack: Some(1), cookie: Some(\"b'RmlsdGVyTm90ZWJvb2tDbGllbnQ1MDg5'\"), action: JoinRoom { room_name: \"general\" } }\n",
      "Sun 2023-01-22 10:50:11.102887 [TRACE] - [F<-T,N] For Endpoint Endpoint(127.0.0.1:62012), Took packet Request { sequence: 2, response_ack: Some(1), cookie: Some(\"b'RmlsdGVyTm90ZWJvb2tDbGllbnQ1MDg5'\"), action: NewRoom { room_name: \"general\" } }\n",
      "Sun 2023-01-22 10:50:11.102903 [TRACE] - [F<-T,N] For Endpoint Endpoint(127.0.0.1:62012), Took packet Request { sequence: 3, response_ack: Some(1), cookie: Some(\"b'RmlsdGVyTm90ZWJvb2tDbGllbnQ1MDg5'\"), action: JoinRoom { room_name: \"general\" } }\n"
     ]
    },
    {
     "name": "stdout",
     "output_type": "stream",
     "text": [
      "Sun 2023-01-22 10:50:11.337707 [TRACE] - [T<-UDP] Request { sequence: 2, response_ack: Some(1), cookie: Some(\"b'RmlsdGVyTm90ZWJvb2tDbGllbnQ1MDg5'\"), action: NewRoom { room_name: \"general\" } }\n",
      "Sun 2023-01-22 10:50:11.337725 [TRACE] - [T<-UDP] Request { sequence: 3, response_ack: Some(1), cookie: Some(\"b'RmlsdGVyTm90ZWJvb2tDbGllbnQ1MDg5'\"), action: JoinRoom { room_name: \"general\" } }\n",
      "Sun 2023-01-22 10:50:11.351005 [TRACE] - [F<-T,N] For Endpoint Endpoint(127.0.0.1:62012), Took packet Request { sequence: 2, response_ack: Some(1), cookie: Some(\"b'RmlsdGVyTm90ZWJvb2tDbGllbnQ1MDg5'\"), action: NewRoom { room_name: \"general\" } }\n",
      "Sun 2023-01-22 10:50:11.351020 [TRACE] - [F<-T,N] For Endpoint Endpoint(127.0.0.1:62012), Took packet Request { sequence: 3, response_ack: Some(1), cookie: Some(\"b'RmlsdGVyTm90ZWJvb2tDbGllbnQ1MDg5'\"), action: JoinRoom { room_name: \"general\" } }\n",
      "Sun 2023-01-22 10:50:11.588486 [TRACE] - [T<-UDP] Request { sequence: 2, response_ack: Some(1), cookie: Some(\"b'RmlsdGVyTm90ZWJvb2tDbGllbnQ1MDg5'\"), action: NewRoom { room_name: \"general\" } }\n",
      "Sun 2023-01-22 10:50:11.588505 [TRACE] - [T<-UDP] Request { sequence: 3, response_ack: Some(1), cookie: Some(\"b'RmlsdGVyTm90ZWJvb2tDbGllbnQ1MDg5'\"), action: JoinRoom { room_name: \"general\" } }\n",
      "Sun 2023-01-22 10:50:11.598661 [TRACE] - [F<-T,N] For Endpoint Endpoint(127.0.0.1:62012), Took packet Request { sequence: 2, response_ack: Some(1), cookie: Some(\"b'RmlsdGVyTm90ZWJvb2tDbGllbnQ1MDg5'\"), action: NewRoom { room_name: \"general\" } }\n",
      "Sun 2023-01-22 10:50:11.598673 [TRACE] - [F<-T,N] For Endpoint Endpoint(127.0.0.1:62012), Took packet Request { sequence: 3, response_ack: Some(1), cookie: Some(\"b'RmlsdGVyTm90ZWJvb2tDbGllbnQ1MDg5'\"), action: JoinRoom { room_name: \"general\" } }\n",
      "Sun 2023-01-22 10:50:11.847838 [TRACE] - [T<-UDP] Request { sequence: 2, response_ack: Some(1), cookie: Some(\"b'RmlsdGVyTm90ZWJvb2tDbGllbnQ1MDg5'\"), action: NewRoom { room_name: \"general\" } }\n",
      "Sun 2023-01-22 10:50:11.847857 [TRACE] - [T<-UDP] Request { sequence: 3, response_ack: Some(1), cookie: Some(\"b'RmlsdGVyTm90ZWJvb2tDbGllbnQ1MDg5'\"), action: JoinRoom { room_name: \"general\" } }\n",
      "Sun 2023-01-22 10:50:11.848945 [TRACE] - [F<-T,N] For Endpoint Endpoint(127.0.0.1:62012), Took packet Request { sequence: 2, response_ack: Some(1), cookie: Some(\"b'RmlsdGVyTm90ZWJvb2tDbGllbnQ1MDg5'\"), action: NewRoom { room_name: \"general\" } }\n",
      "Sun 2023-01-22 10:50:11.848955 [TRACE] - [F<-T,N] For Endpoint Endpoint(127.0.0.1:62012), Took packet Request { sequence: 3, response_ack: Some(1), cookie: Some(\"b'RmlsdGVyTm90ZWJvb2tDbGllbnQ1MDg5'\"), action: JoinRoom { room_name: \"general\" } }\n",
      "Sun 2023-01-22 10:50:12.098501 [TRACE] - [T<-UDP] Request { sequence: 2, response_ack: Some(1), cookie: Some(\"b'RmlsdGVyTm90ZWJvb2tDbGllbnQ1MDg5'\"), action: NewRoom { room_name: \"general\" } }\n",
      "Sun 2023-01-22 10:50:12.098519 [TRACE] - [T<-UDP] Request { sequence: 3, response_ack: Some(1), cookie: Some(\"b'RmlsdGVyTm90ZWJvb2tDbGllbnQ1MDg5'\"), action: JoinRoom { room_name: \"general\" } }\n",
      "Sun 2023-01-22 10:50:12.127974 [TRACE] - [F<-T,N] For Endpoint Endpoint(127.0.0.1:62012), Took packet Request { sequence: 2, response_ack: Some(1), cookie: Some(\"b'RmlsdGVyTm90ZWJvb2tDbGllbnQ1MDg5'\"), action: NewRoom { room_name: \"general\" } }\n",
      "Sun 2023-01-22 10:50:12.127996 [TRACE] - [F<-T,N] For Endpoint Endpoint(127.0.0.1:62012), Took packet Request { sequence: 3, response_ack: Some(1), cookie: Some(\"b'RmlsdGVyTm90ZWJvb2tDbGllbnQ1MDg5'\"), action: JoinRoom { room_name: \"general\" } }\n",
      "Sun 2023-01-22 10:50:12.348518 [TRACE] - [T<-UDP] Request { sequence: 2, response_ack: Some(1), cookie: Some(\"b'RmlsdGVyTm90ZWJvb2tDbGllbnQ1MDg5'\"), action: NewRoom { room_name: \"general\" } }\n",
      "Sun 2023-01-22 10:50:12.348536 [TRACE] - [T<-UDP] Request { sequence: 3, response_ack: Some(1), cookie: Some(\"b'RmlsdGVyTm90ZWJvb2tDbGllbnQ1MDg5'\"), action: JoinRoom { room_name: \"general\" } }\n",
      "Sun 2023-01-22 10:50:12.376044 [TRACE] - [F<-T,N] For Endpoint Endpoint(127.0.0.1:62012), Took packet Request { sequence: 2, response_ack: Some(1), cookie: Some(\"b'RmlsdGVyTm90ZWJvb2tDbGllbnQ1MDg5'\"), action: NewRoom { room_name: \"general\" } }\n",
      "Sun 2023-01-22 10:50:12.376060 [TRACE] - [F<-T,N] For Endpoint Endpoint(127.0.0.1:62012), Took packet Request { sequence: 3, response_ack: Some(1), cookie: Some(\"b'RmlsdGVyTm90ZWJvb2tDbGllbnQ1MDg5'\"), action: JoinRoom { room_name: \"general\" } }\n",
      "Sun 2023-01-22 10:50:12.598561 [TRACE] - [T<-UDP] Request { sequence: 2, response_ack: Some(1), cookie: Some(\"b'RmlsdGVyTm90ZWJvb2tDbGllbnQ1MDg5'\"), action: NewRoom { room_name: \"general\" } }\n",
      "Sun 2023-01-22 10:50:12.598579 [TRACE] - [T<-UDP] Request { sequence: 3, response_ack: Some(1), cookie: Some(\"b'RmlsdGVyTm90ZWJvb2tDbGllbnQ1MDg5'\"), action: JoinRoom { room_name: \"general\" } }\n",
      "Sun 2023-01-22 10:50:12.624005 [TRACE] - [F<-T,N] For Endpoint Endpoint(127.0.0.1:62012), Took packet Request { sequence: 2, response_ack: Some(1), cookie: Some(\"b'RmlsdGVyTm90ZWJvb2tDbGllbnQ1MDg5'\"), action: NewRoom { room_name: \"general\" } }\n",
      "Sun 2023-01-22 10:50:12.624022 [TRACE] - [F<-T,N] For Endpoint Endpoint(127.0.0.1:62012), Took packet Request { sequence: 3, response_ack: Some(1), cookie: Some(\"b'RmlsdGVyTm90ZWJvb2tDbGllbnQ1MDg5'\"), action: JoinRoom { room_name: \"general\" } }\n",
      "Sun 2023-01-22 10:50:12.857798 [TRACE] - [T<-UDP] Request { sequence: 2, response_ack: Some(1), cookie: Some(\"b'RmlsdGVyTm90ZWJvb2tDbGllbnQ1MDg5'\"), action: NewRoom { room_name: \"general\" } }\n",
      "Sun 2023-01-22 10:50:12.857820 [TRACE] - [T<-UDP] Request { sequence: 3, response_ack: Some(1), cookie: Some(\"b'RmlsdGVyTm90ZWJvb2tDbGllbnQ1MDg5'\"), action: JoinRoom { room_name: \"general\" } }\n",
      "Sun 2023-01-22 10:50:12.872135 [TRACE] - [F<-T,N] For Endpoint Endpoint(127.0.0.1:62012), Took packet Request { sequence: 2, response_ack: Some(1), cookie: Some(\"b'RmlsdGVyTm90ZWJvb2tDbGllbnQ1MDg5'\"), action: NewRoom { room_name: \"general\" } }\n",
      "Sun 2023-01-22 10:50:12.872155 [TRACE] - [F<-T,N] For Endpoint Endpoint(127.0.0.1:62012), Took packet Request { sequence: 3, response_ack: Some(1), cookie: Some(\"b'RmlsdGVyTm90ZWJvb2tDbGllbnQ1MDg5'\"), action: JoinRoom { room_name: \"general\" } }\n",
      "Sun 2023-01-22 10:50:13.108518 [TRACE] - [T<-UDP] Request { sequence: 2, response_ack: Some(1), cookie: Some(\"b'RmlsdGVyTm90ZWJvb2tDbGllbnQ1MDg5'\"), action: NewRoom { room_name: \"general\" } }\n",
      "Sun 2023-01-22 10:50:13.108550 [TRACE] - [T<-UDP] Request { sequence: 3, response_ack: Some(1), cookie: Some(\"b'RmlsdGVyTm90ZWJvb2tDbGllbnQ1MDg5'\"), action: JoinRoom { room_name: \"general\" } }\n",
      "Sun 2023-01-22 10:50:13.122085 [TRACE] - [F<-T,N] For Endpoint Endpoint(127.0.0.1:62012), Took packet Request { sequence: 2, response_ack: Some(1), cookie: Some(\"b'RmlsdGVyTm90ZWJvb2tDbGllbnQ1MDg5'\"), action: NewRoom { room_name: \"general\" } }\n",
      "Sun 2023-01-22 10:50:13.122106 [TRACE] - [F<-T,N] For Endpoint Endpoint(127.0.0.1:62012), Took packet Request { sequence: 3, response_ack: Some(1), cookie: Some(\"b'RmlsdGVyTm90ZWJvb2tDbGllbnQ1MDg5'\"), action: JoinRoom { room_name: \"general\" } }\n",
      "Sun 2023-01-22 10:50:13.367930 [TRACE] - [T<-UDP] Request { sequence: 2, response_ack: Some(1), cookie: Some(\"b'RmlsdGVyTm90ZWJvb2tDbGllbnQ1MDg5'\"), action: NewRoom { room_name: \"general\" } }\n",
      "Sun 2023-01-22 10:50:13.367949 [TRACE] - [T<-UDP] Request { sequence: 3, response_ack: Some(1), cookie: Some(\"b'RmlsdGVyTm90ZWJvb2tDbGllbnQ1MDg5'\"), action: JoinRoom { room_name: \"general\" } }\n",
      "Sun 2023-01-22 10:50:13.371107 [TRACE] - [F<-T,N] For Endpoint Endpoint(127.0.0.1:62012), Took packet Request { sequence: 2, response_ack: Some(1), cookie: Some(\"b'RmlsdGVyTm90ZWJvb2tDbGllbnQ1MDg5'\"), action: NewRoom { room_name: \"general\" } }\n",
      "Sun 2023-01-22 10:50:13.371120 [TRACE] - [F<-T,N] For Endpoint Endpoint(127.0.0.1:62012), Took packet Request { sequence: 3, response_ack: Some(1), cookie: Some(\"b'RmlsdGVyTm90ZWJvb2tDbGllbnQ1MDg5'\"), action: JoinRoom { room_name: \"general\" } }\n",
      "Sun 2023-01-22 10:50:13.618436 [TRACE] - [T<-UDP] Request { sequence: 2, response_ack: Some(1), cookie: Some(\"b'RmlsdGVyTm90ZWJvb2tDbGllbnQ1MDg5'\"), action: NewRoom { room_name: \"general\" } }\n",
      "Sun 2023-01-22 10:50:13.618459 [TRACE] - [T<-UDP] Request { sequence: 3, response_ack: Some(1), cookie: Some(\"b'RmlsdGVyTm90ZWJvb2tDbGllbnQ1MDg5'\"), action: JoinRoom { room_name: \"general\" } }\n",
      "Sun 2023-01-22 10:50:13.620551 [TRACE] - [F<-T,N] For Endpoint Endpoint(127.0.0.1:62012), Took packet Request { sequence: 2, response_ack: Some(1), cookie: Some(\"b'RmlsdGVyTm90ZWJvb2tDbGllbnQ1MDg5'\"), action: NewRoom { room_name: \"general\" } }\n",
      "Sun 2023-01-22 10:50:13.620563 [TRACE] - [F<-T,N] For Endpoint Endpoint(127.0.0.1:62012), Took packet Request { sequence: 3, response_ack: Some(1), cookie: Some(\"b'RmlsdGVyTm90ZWJvb2tDbGllbnQ1MDg5'\"), action: JoinRoom { room_name: \"general\" } }\n"
     ]
    },
    {
     "name": "stdout",
     "output_type": "stream",
     "text": [
      "Sun 2023-01-22 10:50:13.868446 [TRACE] - [T<-UDP] Request { sequence: 2, response_ack: Some(1), cookie: Some(\"b'RmlsdGVyTm90ZWJvb2tDbGllbnQ1MDg5'\"), action: NewRoom { room_name: \"general\" } }\n",
      "Sun 2023-01-22 10:50:13.868468 [TRACE] - [T<-UDP] Request { sequence: 3, response_ack: Some(1), cookie: Some(\"b'RmlsdGVyTm90ZWJvb2tDbGllbnQ1MDg5'\"), action: JoinRoom { room_name: \"general\" } }\n",
      "Sun 2023-01-22 10:50:13.898995 [TRACE] - [F<-T,N] For Endpoint Endpoint(127.0.0.1:62012), Took packet Request { sequence: 2, response_ack: Some(1), cookie: Some(\"b'RmlsdGVyTm90ZWJvb2tDbGllbnQ1MDg5'\"), action: NewRoom { room_name: \"general\" } }\n",
      "Sun 2023-01-22 10:50:13.899015 [TRACE] - [F<-T,N] For Endpoint Endpoint(127.0.0.1:62012), Took packet Request { sequence: 3, response_ack: Some(1), cookie: Some(\"b'RmlsdGVyTm90ZWJvb2tDbGllbnQ1MDg5'\"), action: JoinRoom { room_name: \"general\" } }\n",
      "Sun 2023-01-22 10:50:14.118618 [TRACE] - [T<-UDP] Request { sequence: 2, response_ack: Some(1), cookie: Some(\"b'RmlsdGVyTm90ZWJvb2tDbGllbnQ1MDg5'\"), action: NewRoom { room_name: \"general\" } }\n",
      "Sun 2023-01-22 10:50:14.118641 [TRACE] - [T<-UDP] Request { sequence: 3, response_ack: Some(1), cookie: Some(\"b'RmlsdGVyTm90ZWJvb2tDbGllbnQ1MDg5'\"), action: JoinRoom { room_name: \"general\" } }\n",
      "Sun 2023-01-22 10:50:14.146999 [TRACE] - [F<-T,N] For Endpoint Endpoint(127.0.0.1:62012), Took packet Request { sequence: 2, response_ack: Some(1), cookie: Some(\"b'RmlsdGVyTm90ZWJvb2tDbGllbnQ1MDg5'\"), action: NewRoom { room_name: \"general\" } }\n",
      "Sun 2023-01-22 10:50:14.147017 [TRACE] - [F<-T,N] For Endpoint Endpoint(127.0.0.1:62012), Took packet Request { sequence: 3, response_ack: Some(1), cookie: Some(\"b'RmlsdGVyTm90ZWJvb2tDbGllbnQ1MDg5'\"), action: JoinRoom { room_name: \"general\" } }\n",
      "Sun 2023-01-22 10:50:14.377727 [TRACE] - [T<-UDP] Request { sequence: 2, response_ack: Some(1), cookie: Some(\"b'RmlsdGVyTm90ZWJvb2tDbGllbnQ1MDg5'\"), action: NewRoom { room_name: \"general\" } }\n",
      "Sun 2023-01-22 10:50:14.377746 [TRACE] - [T<-UDP] Request { sequence: 3, response_ack: Some(1), cookie: Some(\"b'RmlsdGVyTm90ZWJvb2tDbGllbnQ1MDg5'\"), action: JoinRoom { room_name: \"general\" } }\n",
      "Sun 2023-01-22 10:50:14.395225 [TRACE] - [F<-T,N] For Endpoint Endpoint(127.0.0.1:62012), Took packet Request { sequence: 2, response_ack: Some(1), cookie: Some(\"b'RmlsdGVyTm90ZWJvb2tDbGllbnQ1MDg5'\"), action: NewRoom { room_name: \"general\" } }\n",
      "Sun 2023-01-22 10:50:14.395243 [TRACE] - [F<-T,N] For Endpoint Endpoint(127.0.0.1:62012), Took packet Request { sequence: 3, response_ack: Some(1), cookie: Some(\"b'RmlsdGVyTm90ZWJvb2tDbGllbnQ1MDg5'\"), action: JoinRoom { room_name: \"general\" } }\n",
      "Sun 2023-01-22 10:50:14.627790 [TRACE] - [T<-UDP] Request { sequence: 2, response_ack: Some(1), cookie: Some(\"b'RmlsdGVyTm90ZWJvb2tDbGllbnQ1MDg5'\"), action: NewRoom { room_name: \"general\" } }\n",
      "Sun 2023-01-22 10:50:14.627809 [TRACE] - [T<-UDP] Request { sequence: 3, response_ack: Some(1), cookie: Some(\"b'RmlsdGVyTm90ZWJvb2tDbGllbnQ1MDg5'\"), action: JoinRoom { room_name: \"general\" } }\n",
      "Sun 2023-01-22 10:50:14.644090 [TRACE] - [F<-T,N] For Endpoint Endpoint(127.0.0.1:62012), Took packet Request { sequence: 2, response_ack: Some(1), cookie: Some(\"b'RmlsdGVyTm90ZWJvb2tDbGllbnQ1MDg5'\"), action: NewRoom { room_name: \"general\" } }\n",
      "Sun 2023-01-22 10:50:14.644108 [TRACE] - [F<-T,N] For Endpoint Endpoint(127.0.0.1:62012), Took packet Request { sequence: 3, response_ack: Some(1), cookie: Some(\"b'RmlsdGVyTm90ZWJvb2tDbGllbnQ1MDg5'\"), action: JoinRoom { room_name: \"general\" } }\n",
      "Sun 2023-01-22 10:50:14.887911 [TRACE] - [T<-UDP] Request { sequence: 2, response_ack: Some(1), cookie: Some(\"b'RmlsdGVyTm90ZWJvb2tDbGllbnQ1MDg5'\"), action: NewRoom { room_name: \"general\" } }\n",
      "Sun 2023-01-22 10:50:14.887929 [TRACE] - [T<-UDP] Request { sequence: 3, response_ack: Some(1), cookie: Some(\"b'RmlsdGVyTm90ZWJvb2tDbGllbnQ1MDg5'\"), action: JoinRoom { room_name: \"general\" } }\n",
      "Sun 2023-01-22 10:50:14.893008 [TRACE] - [F<-T,N] For Endpoint Endpoint(127.0.0.1:62012), Took packet Request { sequence: 2, response_ack: Some(1), cookie: Some(\"b'RmlsdGVyTm90ZWJvb2tDbGllbnQ1MDg5'\"), action: NewRoom { room_name: \"general\" } }\n",
      "Sun 2023-01-22 10:50:14.893016 [TRACE] - [F<-T,N] For Endpoint Endpoint(127.0.0.1:62012), Took packet Request { sequence: 3, response_ack: Some(1), cookie: Some(\"b'RmlsdGVyTm90ZWJvb2tDbGllbnQ1MDg5'\"), action: JoinRoom { room_name: \"general\" } }\n",
      "Sun 2023-01-22 10:50:15.138389 [TRACE] - [T<-UDP] Request { sequence: 2, response_ack: Some(1), cookie: Some(\"b'RmlsdGVyTm90ZWJvb2tDbGllbnQ1MDg5'\"), action: NewRoom { room_name: \"general\" } }\n",
      "Sun 2023-01-22 10:50:15.138402 [TRACE] - [T<-UDP] Request { sequence: 3, response_ack: Some(1), cookie: Some(\"b'RmlsdGVyTm90ZWJvb2tDbGllbnQ1MDg5'\"), action: JoinRoom { room_name: \"general\" } }\n",
      "Sun 2023-01-22 10:50:15.141478 [TRACE] - [F<-T,N] For Endpoint Endpoint(127.0.0.1:62012), Took packet Request { sequence: 2, response_ack: Some(1), cookie: Some(\"b'RmlsdGVyTm90ZWJvb2tDbGllbnQ1MDg5'\"), action: NewRoom { room_name: \"general\" } }\n",
      "Sun 2023-01-22 10:50:15.141487 [TRACE] - [F<-T,N] For Endpoint Endpoint(127.0.0.1:62012), Took packet Request { sequence: 3, response_ack: Some(1), cookie: Some(\"b'RmlsdGVyTm90ZWJvb2tDbGllbnQ1MDg5'\"), action: JoinRoom { room_name: \"general\" } }\n",
      "Sun 2023-01-22 10:50:15.398498 [TRACE] - [T<-UDP] Request { sequence: 2, response_ack: Some(1), cookie: Some(\"b'RmlsdGVyTm90ZWJvb2tDbGllbnQ1MDg5'\"), action: NewRoom { room_name: \"general\" } }\n",
      "Sun 2023-01-22 10:50:15.398520 [TRACE] - [T<-UDP] Request { sequence: 3, response_ack: Some(1), cookie: Some(\"b'RmlsdGVyTm90ZWJvb2tDbGllbnQ1MDg5'\"), action: JoinRoom { room_name: \"general\" } }\n",
      "Sun 2023-01-22 10:50:15.420111 [TRACE] - [F<-T,N] For Endpoint Endpoint(127.0.0.1:62012), Took packet Request { sequence: 2, response_ack: Some(1), cookie: Some(\"b'RmlsdGVyTm90ZWJvb2tDbGllbnQ1MDg5'\"), action: NewRoom { room_name: \"general\" } }\n",
      "Sun 2023-01-22 10:50:15.420132 [TRACE] - [F<-T,N] For Endpoint Endpoint(127.0.0.1:62012), Took packet Request { sequence: 3, response_ack: Some(1), cookie: Some(\"b'RmlsdGVyTm90ZWJvb2tDbGllbnQ1MDg5'\"), action: JoinRoom { room_name: \"general\" } }\n",
      "Sun 2023-01-22 10:50:15.658682 [TRACE] - [T<-UDP] Request { sequence: 2, response_ack: Some(1), cookie: Some(\"b'RmlsdGVyTm90ZWJvb2tDbGllbnQ1MDg5'\"), action: NewRoom { room_name: \"general\" } }\n",
      "Sun 2023-01-22 10:50:15.658701 [TRACE] - [T<-UDP] Request { sequence: 3, response_ack: Some(1), cookie: Some(\"b'RmlsdGVyTm90ZWJvb2tDbGllbnQ1MDg5'\"), action: JoinRoom { room_name: \"general\" } }\n",
      "Sun 2023-01-22 10:50:15.670287 [TRACE] - [F<-T,N] For Endpoint Endpoint(127.0.0.1:62012), Took packet Request { sequence: 2, response_ack: Some(1), cookie: Some(\"b'RmlsdGVyTm90ZWJvb2tDbGllbnQ1MDg5'\"), action: NewRoom { room_name: \"general\" } }\n",
      "Sun 2023-01-22 10:50:15.670306 [TRACE] - [F<-T,N] For Endpoint Endpoint(127.0.0.1:62012), Took packet Request { sequence: 3, response_ack: Some(1), cookie: Some(\"b'RmlsdGVyTm90ZWJvb2tDbGllbnQ1MDg5'\"), action: JoinRoom { room_name: \"general\" } }\n",
      "Sun 2023-01-22 10:50:15.918472 [TRACE] - [T<-UDP] Request { sequence: 2, response_ack: Some(1), cookie: Some(\"b'RmlsdGVyTm90ZWJvb2tDbGllbnQ1MDg5'\"), action: NewRoom { room_name: \"general\" } }\n",
      "Sun 2023-01-22 10:50:15.918503 [TRACE] - [T<-UDP] Request { sequence: 3, response_ack: Some(1), cookie: Some(\"b'RmlsdGVyTm90ZWJvb2tDbGllbnQ1MDg5'\"), action: JoinRoom { room_name: \"general\" } }\n",
      "Sun 2023-01-22 10:50:15.920988 [TRACE] - [F<-T,N] For Endpoint Endpoint(127.0.0.1:62012), Took packet Request { sequence: 2, response_ack: Some(1), cookie: Some(\"b'RmlsdGVyTm90ZWJvb2tDbGllbnQ1MDg5'\"), action: NewRoom { room_name: \"general\" } }\n",
      "Sun 2023-01-22 10:50:15.921021 [TRACE] - [F<-T,N] For Endpoint Endpoint(127.0.0.1:62012), Took packet Request { sequence: 3, response_ack: Some(1), cookie: Some(\"b'RmlsdGVyTm90ZWJvb2tDbGllbnQ1MDg5'\"), action: JoinRoom { room_name: \"general\" } }\n",
      "Sun 2023-01-22 10:50:16.178321 [TRACE] - [T<-UDP] Request { sequence: 2, response_ack: Some(1), cookie: Some(\"b'RmlsdGVyTm90ZWJvb2tDbGllbnQ1MDg5'\"), action: NewRoom { room_name: \"general\" } }\n",
      "Sun 2023-01-22 10:50:16.178346 [TRACE] - [T<-UDP] Request { sequence: 3, response_ack: Some(1), cookie: Some(\"b'RmlsdGVyTm90ZWJvb2tDbGllbnQ1MDg5'\"), action: JoinRoom { room_name: \"general\" } }\n",
      "Sun 2023-01-22 10:50:16.199753 [TRACE] - [F<-T,N] For Endpoint Endpoint(127.0.0.1:62012), Took packet Request { sequence: 2, response_ack: Some(1), cookie: Some(\"b'RmlsdGVyTm90ZWJvb2tDbGllbnQ1MDg5'\"), action: NewRoom { room_name: \"general\" } }\n",
      "Sun 2023-01-22 10:50:16.199779 [TRACE] - [F<-T,N] For Endpoint Endpoint(127.0.0.1:62012), Took packet Request { sequence: 3, response_ack: Some(1), cookie: Some(\"b'RmlsdGVyTm90ZWJvb2tDbGllbnQ1MDg5'\"), action: JoinRoom { room_name: \"general\" } }\n"
     ]
    },
    {
     "name": "stdout",
     "output_type": "stream",
     "text": [
      "Sun 2023-01-22 10:50:16.428604 [TRACE] - [T<-UDP] Request { sequence: 2, response_ack: Some(1), cookie: Some(\"b'RmlsdGVyTm90ZWJvb2tDbGllbnQ1MDg5'\"), action: NewRoom { room_name: \"general\" } }\n",
      "Sun 2023-01-22 10:50:16.428623 [TRACE] - [T<-UDP] Request { sequence: 3, response_ack: Some(1), cookie: Some(\"b'RmlsdGVyTm90ZWJvb2tDbGllbnQ1MDg5'\"), action: JoinRoom { room_name: \"general\" } }\n",
      "Sun 2023-01-22 10:50:16.449080 [TRACE] - [F<-T,N] For Endpoint Endpoint(127.0.0.1:62012), Took packet Request { sequence: 2, response_ack: Some(1), cookie: Some(\"b'RmlsdGVyTm90ZWJvb2tDbGllbnQ1MDg5'\"), action: NewRoom { room_name: \"general\" } }\n",
      "Sun 2023-01-22 10:50:16.449099 [TRACE] - [F<-T,N] For Endpoint Endpoint(127.0.0.1:62012), Took packet Request { sequence: 3, response_ack: Some(1), cookie: Some(\"b'RmlsdGVyTm90ZWJvb2tDbGllbnQ1MDg5'\"), action: JoinRoom { room_name: \"general\" } }\n",
      "Sun 2023-01-22 10:50:16.678667 [TRACE] - [T<-UDP] Request { sequence: 2, response_ack: Some(1), cookie: Some(\"b'RmlsdGVyTm90ZWJvb2tDbGllbnQ1MDg5'\"), action: NewRoom { room_name: \"general\" } }\n",
      "Sun 2023-01-22 10:50:16.678698 [TRACE] - [T<-UDP] Request { sequence: 3, response_ack: Some(1), cookie: Some(\"b'RmlsdGVyTm90ZWJvb2tDbGllbnQ1MDg5'\"), action: JoinRoom { room_name: \"general\" } }\n",
      "Sun 2023-01-22 10:50:16.698372 [TRACE] - [F<-T,N] For Endpoint Endpoint(127.0.0.1:62012), Took packet Request { sequence: 2, response_ack: Some(1), cookie: Some(\"b'RmlsdGVyTm90ZWJvb2tDbGllbnQ1MDg5'\"), action: NewRoom { room_name: \"general\" } }\n",
      "Sun 2023-01-22 10:50:16.698401 [TRACE] - [F<-T,N] For Endpoint Endpoint(127.0.0.1:62012), Took packet Request { sequence: 3, response_ack: Some(1), cookie: Some(\"b'RmlsdGVyTm90ZWJvb2tDbGllbnQ1MDg5'\"), action: JoinRoom { room_name: \"general\" } }\n",
      "Sun 2023-01-22 10:50:16.938105 [TRACE] - [T<-UDP] Request { sequence: 2, response_ack: Some(1), cookie: Some(\"b'RmlsdGVyTm90ZWJvb2tDbGllbnQ1MDg5'\"), action: NewRoom { room_name: \"general\" } }\n",
      "Sun 2023-01-22 10:50:16.938131 [TRACE] - [T<-UDP] Request { sequence: 3, response_ack: Some(1), cookie: Some(\"b'RmlsdGVyTm90ZWJvb2tDbGllbnQ1MDg5'\"), action: JoinRoom { room_name: \"general\" } }\n",
      "Sun 2023-01-22 10:50:16.947276 [TRACE] - [F<-T,N] For Endpoint Endpoint(127.0.0.1:62012), Took packet Request { sequence: 2, response_ack: Some(1), cookie: Some(\"b'RmlsdGVyTm90ZWJvb2tDbGllbnQ1MDg5'\"), action: NewRoom { room_name: \"general\" } }\n",
      "Sun 2023-01-22 10:50:16.947289 [TRACE] - [F<-T,N] For Endpoint Endpoint(127.0.0.1:62012), Took packet Request { sequence: 3, response_ack: Some(1), cookie: Some(\"b'RmlsdGVyTm90ZWJvb2tDbGllbnQ1MDg5'\"), action: JoinRoom { room_name: \"general\" } }\n",
      "Sun 2023-01-22 10:50:17.188158 [TRACE] - [T<-UDP] Request { sequence: 2, response_ack: Some(1), cookie: Some(\"b'RmlsdGVyTm90ZWJvb2tDbGllbnQ1MDg5'\"), action: NewRoom { room_name: \"general\" } }\n",
      "Sun 2023-01-22 10:50:17.188184 [TRACE] - [T<-UDP] Request { sequence: 3, response_ack: Some(1), cookie: Some(\"b'RmlsdGVyTm90ZWJvb2tDbGllbnQ1MDg5'\"), action: JoinRoom { room_name: \"general\" } }\n",
      "Sun 2023-01-22 10:50:17.197387 [TRACE] - [F<-T,N] For Endpoint Endpoint(127.0.0.1:62012), Took packet Request { sequence: 2, response_ack: Some(1), cookie: Some(\"b'RmlsdGVyTm90ZWJvb2tDbGllbnQ1MDg5'\"), action: NewRoom { room_name: \"general\" } }\n",
      "Sun 2023-01-22 10:50:17.197407 [TRACE] - [F<-T,N] For Endpoint Endpoint(127.0.0.1:62012), Took packet Request { sequence: 3, response_ack: Some(1), cookie: Some(\"b'RmlsdGVyTm90ZWJvb2tDbGllbnQ1MDg5'\"), action: JoinRoom { room_name: \"general\" } }\n",
      "Sun 2023-01-22 10:50:17.448251 [TRACE] - [T<-UDP] Request { sequence: 2, response_ack: Some(1), cookie: Some(\"b'RmlsdGVyTm90ZWJvb2tDbGllbnQ1MDg5'\"), action: NewRoom { room_name: \"general\" } }\n",
      "Sun 2023-01-22 10:50:17.448278 [TRACE] - [T<-UDP] Request { sequence: 3, response_ack: Some(1), cookie: Some(\"b'RmlsdGVyTm90ZWJvb2tDbGllbnQ1MDg5'\"), action: JoinRoom { room_name: \"general\" } }\n",
      "Sun 2023-01-22 10:50:17.478856 [TRACE] - [F<-T,N] For Endpoint Endpoint(127.0.0.1:62012), Took packet Request { sequence: 2, response_ack: Some(1), cookie: Some(\"b'RmlsdGVyTm90ZWJvb2tDbGllbnQ1MDg5'\"), action: NewRoom { room_name: \"general\" } }\n",
      "Sun 2023-01-22 10:50:17.478876 [TRACE] - [F<-T,N] For Endpoint Endpoint(127.0.0.1:62012), Took packet Request { sequence: 3, response_ack: Some(1), cookie: Some(\"b'RmlsdGVyTm90ZWJvb2tDbGllbnQ1MDg5'\"), action: JoinRoom { room_name: \"general\" } }\n",
      "Sun 2023-01-22 10:50:17.698455 [TRACE] - [T<-UDP] Request { sequence: 2, response_ack: Some(1), cookie: Some(\"b'RmlsdGVyTm90ZWJvb2tDbGllbnQ1MDg5'\"), action: NewRoom { room_name: \"general\" } }\n",
      "Sun 2023-01-22 10:50:17.698473 [TRACE] - [T<-UDP] Request { sequence: 3, response_ack: Some(1), cookie: Some(\"b'RmlsdGVyTm90ZWJvb2tDbGllbnQ1MDg5'\"), action: JoinRoom { room_name: \"general\" } }\n",
      "Sun 2023-01-22 10:50:17.726908 [TRACE] - [F<-T,N] For Endpoint Endpoint(127.0.0.1:62012), Took packet Request { sequence: 2, response_ack: Some(1), cookie: Some(\"b'RmlsdGVyTm90ZWJvb2tDbGllbnQ1MDg5'\"), action: NewRoom { room_name: \"general\" } }\n",
      "Sun 2023-01-22 10:50:17.726921 [TRACE] - [F<-T,N] For Endpoint Endpoint(127.0.0.1:62012), Took packet Request { sequence: 3, response_ack: Some(1), cookie: Some(\"b'RmlsdGVyTm90ZWJvb2tDbGllbnQ1MDg5'\"), action: JoinRoom { room_name: \"general\" } }\n",
      "Sun 2023-01-22 10:50:17.958571 [TRACE] - [T<-UDP] Request { sequence: 2, response_ack: Some(1), cookie: Some(\"b'RmlsdGVyTm90ZWJvb2tDbGllbnQ1MDg5'\"), action: NewRoom { room_name: \"general\" } }\n",
      "Sun 2023-01-22 10:50:17.958590 [TRACE] - [T<-UDP] Request { sequence: 3, response_ack: Some(1), cookie: Some(\"b'RmlsdGVyTm90ZWJvb2tDbGllbnQ1MDg5'\"), action: JoinRoom { room_name: \"general\" } }\n",
      "Sun 2023-01-22 10:50:17.975476 [TRACE] - [F<-T,N] For Endpoint Endpoint(127.0.0.1:62012), Took packet Request { sequence: 2, response_ack: Some(1), cookie: Some(\"b'RmlsdGVyTm90ZWJvb2tDbGllbnQ1MDg5'\"), action: NewRoom { room_name: \"general\" } }\n",
      "Sun 2023-01-22 10:50:17.975494 [TRACE] - [F<-T,N] For Endpoint Endpoint(127.0.0.1:62012), Took packet Request { sequence: 3, response_ack: Some(1), cookie: Some(\"b'RmlsdGVyTm90ZWJvb2tDbGllbnQ1MDg5'\"), action: JoinRoom { room_name: \"general\" } }\n",
      "Sun 2023-01-22 10:50:18.218322 [TRACE] - [T<-UDP] Request { sequence: 2, response_ack: Some(1), cookie: Some(\"b'RmlsdGVyTm90ZWJvb2tDbGllbnQ1MDg5'\"), action: NewRoom { room_name: \"general\" } }\n",
      "Sun 2023-01-22 10:50:18.218340 [TRACE] - [T<-UDP] Request { sequence: 3, response_ack: Some(1), cookie: Some(\"b'RmlsdGVyTm90ZWJvb2tDbGllbnQ1MDg5'\"), action: JoinRoom { room_name: \"general\" } }\n",
      "Sun 2023-01-22 10:50:18.223492 [TRACE] - [F<-T,N] For Endpoint Endpoint(127.0.0.1:62012), Took packet Request { sequence: 2, response_ack: Some(1), cookie: Some(\"b'RmlsdGVyTm90ZWJvb2tDbGllbnQ1MDg5'\"), action: NewRoom { room_name: \"general\" } }\n",
      "Sun 2023-01-22 10:50:18.223503 [TRACE] - [F<-T,N] For Endpoint Endpoint(127.0.0.1:62012), Took packet Request { sequence: 3, response_ack: Some(1), cookie: Some(\"b'RmlsdGVyTm90ZWJvb2tDbGllbnQ1MDg5'\"), action: JoinRoom { room_name: \"general\" } }\n",
      "Sun 2023-01-22 10:50:18.468384 [TRACE] - [T<-UDP] Request { sequence: 2, response_ack: Some(1), cookie: Some(\"b'RmlsdGVyTm90ZWJvb2tDbGllbnQ1MDg5'\"), action: NewRoom { room_name: \"general\" } }\n",
      "Sun 2023-01-22 10:50:18.468402 [TRACE] - [T<-UDP] Request { sequence: 3, response_ack: Some(1), cookie: Some(\"b'RmlsdGVyTm90ZWJvb2tDbGllbnQ1MDg5'\"), action: JoinRoom { room_name: \"general\" } }\n",
      "Sun 2023-01-22 10:50:18.472501 [TRACE] - [F<-T,N] For Endpoint Endpoint(127.0.0.1:62012), Took packet Request { sequence: 2, response_ack: Some(1), cookie: Some(\"b'RmlsdGVyTm90ZWJvb2tDbGllbnQ1MDg5'\"), action: NewRoom { room_name: \"general\" } }\n",
      "Sun 2023-01-22 10:50:18.472520 [TRACE] - [F<-T,N] For Endpoint Endpoint(127.0.0.1:62012), Took packet Request { sequence: 3, response_ack: Some(1), cookie: Some(\"b'RmlsdGVyTm90ZWJvb2tDbGllbnQ1MDg5'\"), action: JoinRoom { room_name: \"general\" } }\n",
      "Sun 2023-01-22 10:50:18.728415 [TRACE] - [T<-UDP] Request { sequence: 2, response_ack: Some(1), cookie: Some(\"b'RmlsdGVyTm90ZWJvb2tDbGllbnQ1MDg5'\"), action: NewRoom { room_name: \"general\" } }\n",
      "Sun 2023-01-22 10:50:18.728431 [TRACE] - [T<-UDP] Request { sequence: 3, response_ack: Some(1), cookie: Some(\"b'RmlsdGVyTm90ZWJvb2tDbGllbnQ1MDg5'\"), action: JoinRoom { room_name: \"general\" } }\n",
      "Sun 2023-01-22 10:50:18.750887 [TRACE] - [F<-T,N] For Endpoint Endpoint(127.0.0.1:62012), Took packet Request { sequence: 2, response_ack: Some(1), cookie: Some(\"b'RmlsdGVyTm90ZWJvb2tDbGllbnQ1MDg5'\"), action: NewRoom { room_name: \"general\" } }\n",
      "Sun 2023-01-22 10:50:18.750905 [TRACE] - [F<-T,N] For Endpoint Endpoint(127.0.0.1:62012), Took packet Request { sequence: 3, response_ack: Some(1), cookie: Some(\"b'RmlsdGVyTm90ZWJvb2tDbGllbnQ1MDg5'\"), action: JoinRoom { room_name: \"general\" } }\n"
     ]
    },
    {
     "name": "stdout",
     "output_type": "stream",
     "text": [
      "Sun 2023-01-22 10:50:18.988544 [TRACE] - [T<-UDP] Request { sequence: 2, response_ack: Some(1), cookie: Some(\"b'RmlsdGVyTm90ZWJvb2tDbGllbnQ1MDg5'\"), action: NewRoom { room_name: \"general\" } }\n",
      "Sun 2023-01-22 10:50:18.988563 [TRACE] - [T<-UDP] Request { sequence: 3, response_ack: Some(1), cookie: Some(\"b'RmlsdGVyTm90ZWJvb2tDbGllbnQ1MDg5'\"), action: JoinRoom { room_name: \"general\" } }\n",
      "Sun 2023-01-22 10:50:18.998765 [TRACE] - [F<-T,N] For Endpoint Endpoint(127.0.0.1:62012), Took packet Request { sequence: 2, response_ack: Some(1), cookie: Some(\"b'RmlsdGVyTm90ZWJvb2tDbGllbnQ1MDg5'\"), action: NewRoom { room_name: \"general\" } }\n",
      "Sun 2023-01-22 10:50:18.998776 [TRACE] - [F<-T,N] For Endpoint Endpoint(127.0.0.1:62012), Took packet Request { sequence: 3, response_ack: Some(1), cookie: Some(\"b'RmlsdGVyTm90ZWJvb2tDbGllbnQ1MDg5'\"), action: JoinRoom { room_name: \"general\" } }\n",
      "Sun 2023-01-22 10:50:19.238662 [TRACE] - [T<-UDP] Request { sequence: 2, response_ack: Some(1), cookie: Some(\"b'RmlsdGVyTm90ZWJvb2tDbGllbnQ1MDg5'\"), action: NewRoom { room_name: \"general\" } }\n",
      "Sun 2023-01-22 10:50:19.238681 [TRACE] - [T<-UDP] Request { sequence: 3, response_ack: Some(1), cookie: Some(\"b'RmlsdGVyTm90ZWJvb2tDbGllbnQ1MDg5'\"), action: JoinRoom { room_name: \"general\" } }\n",
      "Sun 2023-01-22 10:50:19.246880 [TRACE] - [F<-T,N] For Endpoint Endpoint(127.0.0.1:62012), Took packet Request { sequence: 2, response_ack: Some(1), cookie: Some(\"b'RmlsdGVyTm90ZWJvb2tDbGllbnQ1MDg5'\"), action: NewRoom { room_name: \"general\" } }\n",
      "Sun 2023-01-22 10:50:19.246898 [TRACE] - [F<-T,N] For Endpoint Endpoint(127.0.0.1:62012), Took packet Request { sequence: 3, response_ack: Some(1), cookie: Some(\"b'RmlsdGVyTm90ZWJvb2tDbGllbnQ1MDg5'\"), action: JoinRoom { room_name: \"general\" } }\n",
      "Sun 2023-01-22 10:50:19.498383 [TRACE] - [T<-UDP] Request { sequence: 2, response_ack: Some(1), cookie: Some(\"b'RmlsdGVyTm90ZWJvb2tDbGllbnQ1MDg5'\"), action: NewRoom { room_name: \"general\" } }\n",
      "Sun 2023-01-22 10:50:19.498408 [TRACE] - [T<-UDP] Request { sequence: 3, response_ack: Some(1), cookie: Some(\"b'RmlsdGVyTm90ZWJvb2tDbGllbnQ1MDg5'\"), action: JoinRoom { room_name: \"general\" } }\n",
      "Sun 2023-01-22 10:50:19.527032 [TRACE] - [F<-T,N] For Endpoint Endpoint(127.0.0.1:62012), Took packet Request { sequence: 2, response_ack: Some(1), cookie: Some(\"b'RmlsdGVyTm90ZWJvb2tDbGllbnQ1MDg5'\"), action: NewRoom { room_name: \"general\" } }\n",
      "Sun 2023-01-22 10:50:19.527052 [TRACE] - [F<-T,N] For Endpoint Endpoint(127.0.0.1:62012), Took packet Request { sequence: 3, response_ack: Some(1), cookie: Some(\"b'RmlsdGVyTm90ZWJvb2tDbGllbnQ1MDg5'\"), action: JoinRoom { room_name: \"general\" } }\n",
      "Sun 2023-01-22 10:50:19.748645 [TRACE] - [T<-UDP] Request { sequence: 2, response_ack: Some(1), cookie: Some(\"b'RmlsdGVyTm90ZWJvb2tDbGllbnQ1MDg5'\"), action: NewRoom { room_name: \"general\" } }\n",
      "Sun 2023-01-22 10:50:19.748673 [TRACE] - [T<-UDP] Request { sequence: 3, response_ack: Some(1), cookie: Some(\"b'RmlsdGVyTm90ZWJvb2tDbGllbnQ1MDg5'\"), action: JoinRoom { room_name: \"general\" } }\n",
      "Sun 2023-01-22 10:50:19.778228 [TRACE] - [F<-T,N] For Endpoint Endpoint(127.0.0.1:62012), Took packet Request { sequence: 2, response_ack: Some(1), cookie: Some(\"b'RmlsdGVyTm90ZWJvb2tDbGllbnQ1MDg5'\"), action: NewRoom { room_name: \"general\" } }\n",
      "Sun 2023-01-22 10:50:19.778247 [TRACE] - [F<-T,N] For Endpoint Endpoint(127.0.0.1:62012), Took packet Request { sequence: 3, response_ack: Some(1), cookie: Some(\"b'RmlsdGVyTm90ZWJvb2tDbGllbnQ1MDg5'\"), action: JoinRoom { room_name: \"general\" } }\n",
      "Sun 2023-01-22 10:50:20.008198 [TRACE] - [T<-UDP] Request { sequence: 2, response_ack: Some(1), cookie: Some(\"b'RmlsdGVyTm90ZWJvb2tDbGllbnQ1MDg5'\"), action: NewRoom { room_name: \"general\" } }\n",
      "Sun 2023-01-22 10:50:20.008225 [TRACE] - [T<-UDP] Request { sequence: 3, response_ack: Some(1), cookie: Some(\"b'RmlsdGVyTm90ZWJvb2tDbGllbnQ1MDg5'\"), action: JoinRoom { room_name: \"general\" } }\n",
      "Sun 2023-01-22 10:50:20.027598 [TRACE] - [F<-T,N] For Endpoint Endpoint(127.0.0.1:62012), Took packet Request { sequence: 2, response_ack: Some(1), cookie: Some(\"b'RmlsdGVyTm90ZWJvb2tDbGllbnQ1MDg5'\"), action: NewRoom { room_name: \"general\" } }\n",
      "Sun 2023-01-22 10:50:20.027619 [TRACE] - [F<-T,N] For Endpoint Endpoint(127.0.0.1:62012), Took packet Request { sequence: 3, response_ack: Some(1), cookie: Some(\"b'RmlsdGVyTm90ZWJvb2tDbGllbnQ1MDg5'\"), action: JoinRoom { room_name: \"general\" } }\n",
      "Sun 2023-01-22 10:50:20.268143 [TRACE] - [T<-UDP] Request { sequence: 2, response_ack: Some(1), cookie: Some(\"b'RmlsdGVyTm90ZWJvb2tDbGllbnQ1MDg5'\"), action: NewRoom { room_name: \"general\" } }\n",
      "Sun 2023-01-22 10:50:20.268169 [TRACE] - [T<-UDP] Request { sequence: 3, response_ack: Some(1), cookie: Some(\"b'RmlsdGVyTm90ZWJvb2tDbGllbnQ1MDg5'\"), action: JoinRoom { room_name: \"general\" } }\n",
      "Sun 2023-01-22 10:50:20.278591 [TRACE] - [F<-T,N] For Endpoint Endpoint(127.0.0.1:62012), Took packet Request { sequence: 2, response_ack: Some(1), cookie: Some(\"b'RmlsdGVyTm90ZWJvb2tDbGllbnQ1MDg5'\"), action: NewRoom { room_name: \"general\" } }\n",
      "Sun 2023-01-22 10:50:20.278613 [TRACE] - [F<-T,N] For Endpoint Endpoint(127.0.0.1:62012), Took packet Request { sequence: 3, response_ack: Some(1), cookie: Some(\"b'RmlsdGVyTm90ZWJvb2tDbGllbnQ1MDg5'\"), action: JoinRoom { room_name: \"general\" } }\n",
      "Sun 2023-01-22 10:50:20.518670 [TRACE] - [T<-UDP] Request { sequence: 2, response_ack: Some(1), cookie: Some(\"b'RmlsdGVyTm90ZWJvb2tDbGllbnQ1MDg5'\"), action: NewRoom { room_name: \"general\" } }\n",
      "Sun 2023-01-22 10:50:20.518700 [TRACE] - [T<-UDP] Request { sequence: 3, response_ack: Some(1), cookie: Some(\"b'RmlsdGVyTm90ZWJvb2tDbGllbnQ1MDg5'\"), action: JoinRoom { room_name: \"general\" } }\n",
      "Sun 2023-01-22 10:50:20.528383 [TRACE] - [F<-T,N] For Endpoint Endpoint(127.0.0.1:62012), Took packet Request { sequence: 2, response_ack: Some(1), cookie: Some(\"b'RmlsdGVyTm90ZWJvb2tDbGllbnQ1MDg5'\"), action: NewRoom { room_name: \"general\" } }\n",
      "Sun 2023-01-22 10:50:20.528412 [TRACE] - [F<-T,N] For Endpoint Endpoint(127.0.0.1:62012), Took packet Request { sequence: 3, response_ack: Some(1), cookie: Some(\"b'RmlsdGVyTm90ZWJvb2tDbGllbnQ1MDg5'\"), action: JoinRoom { room_name: \"general\" } }\n",
      "Sun 2023-01-22 10:50:20.777747 [TRACE] - [T<-UDP] Request { sequence: 2, response_ack: Some(1), cookie: Some(\"b'RmlsdGVyTm90ZWJvb2tDbGllbnQ1MDg5'\"), action: NewRoom { room_name: \"general\" } }\n",
      "Sun 2023-01-22 10:50:20.777777 [TRACE] - [T<-UDP] Request { sequence: 3, response_ack: Some(1), cookie: Some(\"b'RmlsdGVyTm90ZWJvb2tDbGllbnQ1MDg5'\"), action: JoinRoom { room_name: \"general\" } }\n",
      "Sun 2023-01-22 10:50:20.809680 [TRACE] - [F<-T,N] For Endpoint Endpoint(127.0.0.1:62012), Took packet Request { sequence: 2, response_ack: Some(1), cookie: Some(\"b'RmlsdGVyTm90ZWJvb2tDbGllbnQ1MDg5'\"), action: NewRoom { room_name: \"general\" } }\n",
      "Sun 2023-01-22 10:50:20.809700 [TRACE] - [F<-T,N] For Endpoint Endpoint(127.0.0.1:62012), Took packet Request { sequence: 3, response_ack: Some(1), cookie: Some(\"b'RmlsdGVyTm90ZWJvb2tDbGllbnQ1MDg5'\"), action: JoinRoom { room_name: \"general\" } }\n",
      "Sun 2023-01-22 10:50:21.037993 [TRACE] - [T<-UDP] Request { sequence: 2, response_ack: Some(1), cookie: Some(\"b'RmlsdGVyTm90ZWJvb2tDbGllbnQ1MDg5'\"), action: NewRoom { room_name: \"general\" } }\n",
      "Sun 2023-01-22 10:50:21.038019 [TRACE] - [T<-UDP] Request { sequence: 3, response_ack: Some(1), cookie: Some(\"b'RmlsdGVyTm90ZWJvb2tDbGllbnQ1MDg5'\"), action: JoinRoom { room_name: \"general\" } }\n",
      "Sun 2023-01-22 10:50:21.061581 [TRACE] - [F<-T,N] For Endpoint Endpoint(127.0.0.1:62012), Took packet Request { sequence: 2, response_ack: Some(1), cookie: Some(\"b'RmlsdGVyTm90ZWJvb2tDbGllbnQ1MDg5'\"), action: NewRoom { room_name: \"general\" } }\n",
      "Sun 2023-01-22 10:50:21.061601 [TRACE] - [F<-T,N] For Endpoint Endpoint(127.0.0.1:62012), Took packet Request { sequence: 3, response_ack: Some(1), cookie: Some(\"b'RmlsdGVyTm90ZWJvb2tDbGllbnQ1MDg5'\"), action: JoinRoom { room_name: \"general\" } }\n",
      "Sun 2023-01-22 10:50:21.297991 [TRACE] - [T<-UDP] Request { sequence: 2, response_ack: Some(1), cookie: Some(\"b'RmlsdGVyTm90ZWJvb2tDbGllbnQ1MDg5'\"), action: NewRoom { room_name: \"general\" } }\n",
      "Sun 2023-01-22 10:50:21.298016 [TRACE] - [T<-UDP] Request { sequence: 3, response_ack: Some(1), cookie: Some(\"b'RmlsdGVyTm90ZWJvb2tDbGllbnQ1MDg5'\"), action: JoinRoom { room_name: \"general\" } }\n",
      "Sun 2023-01-22 10:50:21.310241 [TRACE] - [F<-T,N] For Endpoint Endpoint(127.0.0.1:62012), Took packet Request { sequence: 2, response_ack: Some(1), cookie: Some(\"b'RmlsdGVyTm90ZWJvb2tDbGllbnQ1MDg5'\"), action: NewRoom { room_name: \"general\" } }\n",
      "Sun 2023-01-22 10:50:21.310259 [TRACE] - [F<-T,N] For Endpoint Endpoint(127.0.0.1:62012), Took packet Request { sequence: 3, response_ack: Some(1), cookie: Some(\"b'RmlsdGVyTm90ZWJvb2tDbGllbnQ1MDg5'\"), action: JoinRoom { room_name: \"general\" } }\n"
     ]
    },
    {
     "name": "stdout",
     "output_type": "stream",
     "text": [
      "Sun 2023-01-22 10:50:21.558363 [TRACE] - [T<-UDP] Request { sequence: 2, response_ack: Some(1), cookie: Some(\"b'RmlsdGVyTm90ZWJvb2tDbGllbnQ1MDg5'\"), action: NewRoom { room_name: \"general\" } }\n",
      "Sun 2023-01-22 10:50:21.558382 [TRACE] - [T<-UDP] Request { sequence: 3, response_ack: Some(1), cookie: Some(\"b'RmlsdGVyTm90ZWJvb2tDbGllbnQ1MDg5'\"), action: JoinRoom { room_name: \"general\" } }\n",
      "Sun 2023-01-22 10:50:21.559504 [TRACE] - [F<-T,N] For Endpoint Endpoint(127.0.0.1:62012), Took packet Request { sequence: 2, response_ack: Some(1), cookie: Some(\"b'RmlsdGVyTm90ZWJvb2tDbGllbnQ1MDg5'\"), action: NewRoom { room_name: \"general\" } }\n",
      "Sun 2023-01-22 10:50:21.559523 [TRACE] - [F<-T,N] For Endpoint Endpoint(127.0.0.1:62012), Took packet Request { sequence: 3, response_ack: Some(1), cookie: Some(\"b'RmlsdGVyTm90ZWJvb2tDbGllbnQ1MDg5'\"), action: JoinRoom { room_name: \"general\" } }\n",
      "Sun 2023-01-22 10:50:21.808614 [TRACE] - [T<-UDP] Request { sequence: 2, response_ack: Some(1), cookie: Some(\"b'RmlsdGVyTm90ZWJvb2tDbGllbnQ1MDg5'\"), action: NewRoom { room_name: \"general\" } }\n",
      "Sun 2023-01-22 10:50:21.808636 [TRACE] - [T<-UDP] Request { sequence: 3, response_ack: Some(1), cookie: Some(\"b'RmlsdGVyTm90ZWJvb2tDbGllbnQ1MDg5'\"), action: JoinRoom { room_name: \"general\" } }\n",
      "Sun 2023-01-22 10:50:21.838052 [TRACE] - [F<-T,N] For Endpoint Endpoint(127.0.0.1:62012), Took packet Request { sequence: 2, response_ack: Some(1), cookie: Some(\"b'RmlsdGVyTm90ZWJvb2tDbGllbnQ1MDg5'\"), action: NewRoom { room_name: \"general\" } }\n",
      "Sun 2023-01-22 10:50:21.838068 [TRACE] - [F<-T,N] For Endpoint Endpoint(127.0.0.1:62012), Took packet Request { sequence: 3, response_ack: Some(1), cookie: Some(\"b'RmlsdGVyTm90ZWJvb2tDbGllbnQ1MDg5'\"), action: JoinRoom { room_name: \"general\" } }\n",
      "Sun 2023-01-22 10:50:22.068562 [TRACE] - [T<-UDP] Request { sequence: 2, response_ack: Some(1), cookie: Some(\"b'RmlsdGVyTm90ZWJvb2tDbGllbnQ1MDg5'\"), action: NewRoom { room_name: \"general\" } }\n",
      "Sun 2023-01-22 10:50:22.068580 [TRACE] - [T<-UDP] Request { sequence: 3, response_ack: Some(1), cookie: Some(\"b'RmlsdGVyTm90ZWJvb2tDbGllbnQ1MDg5'\"), action: JoinRoom { room_name: \"general\" } }\n",
      "Sun 2023-01-22 10:50:22.085899 [TRACE] - [F<-T,N] For Endpoint Endpoint(127.0.0.1:62012), Took packet Request { sequence: 2, response_ack: Some(1), cookie: Some(\"b'RmlsdGVyTm90ZWJvb2tDbGllbnQ1MDg5'\"), action: NewRoom { room_name: \"general\" } }\n",
      "Sun 2023-01-22 10:50:22.085915 [TRACE] - [F<-T,N] For Endpoint Endpoint(127.0.0.1:62012), Took packet Request { sequence: 3, response_ack: Some(1), cookie: Some(\"b'RmlsdGVyTm90ZWJvb2tDbGllbnQ1MDg5'\"), action: JoinRoom { room_name: \"general\" } }\n",
      "Sun 2023-01-22 10:50:22.328462 [TRACE] - [T<-UDP] Request { sequence: 2, response_ack: Some(1), cookie: Some(\"b'RmlsdGVyTm90ZWJvb2tDbGllbnQ1MDg5'\"), action: NewRoom { room_name: \"general\" } }\n",
      "Sun 2023-01-22 10:50:22.328481 [TRACE] - [T<-UDP] Request { sequence: 3, response_ack: Some(1), cookie: Some(\"b'RmlsdGVyTm90ZWJvb2tDbGllbnQ1MDg5'\"), action: JoinRoom { room_name: \"general\" } }\n",
      "Sun 2023-01-22 10:50:22.334627 [TRACE] - [F<-T,N] For Endpoint Endpoint(127.0.0.1:62012), Took packet Request { sequence: 2, response_ack: Some(1), cookie: Some(\"b'RmlsdGVyTm90ZWJvb2tDbGllbnQ1MDg5'\"), action: NewRoom { room_name: \"general\" } }\n",
      "Sun 2023-01-22 10:50:22.334637 [TRACE] - [F<-T,N] For Endpoint Endpoint(127.0.0.1:62012), Took packet Request { sequence: 3, response_ack: Some(1), cookie: Some(\"b'RmlsdGVyTm90ZWJvb2tDbGllbnQ1MDg5'\"), action: JoinRoom { room_name: \"general\" } }\n",
      "Sun 2023-01-22 10:50:22.588410 [TRACE] - [T<-UDP] Request { sequence: 2, response_ack: Some(1), cookie: Some(\"b'RmlsdGVyTm90ZWJvb2tDbGllbnQ1MDg5'\"), action: NewRoom { room_name: \"general\" } }\n",
      "Sun 2023-01-22 10:50:22.588431 [TRACE] - [T<-UDP] Request { sequence: 3, response_ack: Some(1), cookie: Some(\"b'RmlsdGVyTm90ZWJvb2tDbGllbnQ1MDg5'\"), action: JoinRoom { room_name: \"general\" } }\n",
      "Sun 2023-01-22 10:50:22.614867 [TRACE] - [F<-T,N] For Endpoint Endpoint(127.0.0.1:62012), Took packet Request { sequence: 2, response_ack: Some(1), cookie: Some(\"b'RmlsdGVyTm90ZWJvb2tDbGllbnQ1MDg5'\"), action: NewRoom { room_name: \"general\" } }\n",
      "Sun 2023-01-22 10:50:22.614884 [TRACE] - [F<-T,N] For Endpoint Endpoint(127.0.0.1:62012), Took packet Request { sequence: 3, response_ack: Some(1), cookie: Some(\"b'RmlsdGVyTm90ZWJvb2tDbGllbnQ1MDg5'\"), action: JoinRoom { room_name: \"general\" } }\n",
      "Sun 2023-01-22 10:50:22.848552 [TRACE] - [T<-UDP] Request { sequence: 2, response_ack: Some(1), cookie: Some(\"b'RmlsdGVyTm90ZWJvb2tDbGllbnQ1MDg5'\"), action: NewRoom { room_name: \"general\" } }\n",
      "Sun 2023-01-22 10:50:22.848571 [TRACE] - [T<-UDP] Request { sequence: 3, response_ack: Some(1), cookie: Some(\"b'RmlsdGVyTm90ZWJvb2tDbGllbnQ1MDg5'\"), action: JoinRoom { room_name: \"general\" } }\n",
      "Sun 2023-01-22 10:50:22.862949 [TRACE] - [F<-T,N] For Endpoint Endpoint(127.0.0.1:62012), Took packet Request { sequence: 2, response_ack: Some(1), cookie: Some(\"b'RmlsdGVyTm90ZWJvb2tDbGllbnQ1MDg5'\"), action: NewRoom { room_name: \"general\" } }\n",
      "Sun 2023-01-22 10:50:22.862970 [TRACE] - [F<-T,N] For Endpoint Endpoint(127.0.0.1:62012), Took packet Request { sequence: 3, response_ack: Some(1), cookie: Some(\"b'RmlsdGVyTm90ZWJvb2tDbGllbnQ1MDg5'\"), action: JoinRoom { room_name: \"general\" } }\n",
      "Sun 2023-01-22 10:50:23.098621 [TRACE] - [T<-UDP] Request { sequence: 2, response_ack: Some(1), cookie: Some(\"b'RmlsdGVyTm90ZWJvb2tDbGllbnQ1MDg5'\"), action: NewRoom { room_name: \"general\" } }\n",
      "Sun 2023-01-22 10:50:23.098640 [TRACE] - [T<-UDP] Request { sequence: 3, response_ack: Some(1), cookie: Some(\"b'RmlsdGVyTm90ZWJvb2tDbGllbnQ1MDg5'\"), action: JoinRoom { room_name: \"general\" } }\n",
      "Sun 2023-01-22 10:50:23.110928 [TRACE] - [F<-T,N] For Endpoint Endpoint(127.0.0.1:62012), Took packet Request { sequence: 2, response_ack: Some(1), cookie: Some(\"b'RmlsdGVyTm90ZWJvb2tDbGllbnQ1MDg5'\"), action: NewRoom { room_name: \"general\" } }\n",
      "Sun 2023-01-22 10:50:23.110950 [TRACE] - [F<-T,N] For Endpoint Endpoint(127.0.0.1:62012), Took packet Request { sequence: 3, response_ack: Some(1), cookie: Some(\"b'RmlsdGVyTm90ZWJvb2tDbGllbnQ1MDg5'\"), action: JoinRoom { room_name: \"general\" } }\n",
      "Sun 2023-01-22 10:50:23.357908 [TRACE] - [T<-UDP] Request { sequence: 2, response_ack: Some(1), cookie: Some(\"b'RmlsdGVyTm90ZWJvb2tDbGllbnQ1MDg5'\"), action: NewRoom { room_name: \"general\" } }\n",
      "Sun 2023-01-22 10:50:23.357927 [TRACE] - [T<-UDP] Request { sequence: 3, response_ack: Some(1), cookie: Some(\"b'RmlsdGVyTm90ZWJvb2tDbGllbnQ1MDg5'\"), action: JoinRoom { room_name: \"general\" } }\n",
      "Sun 2023-01-22 10:50:23.359040 [TRACE] - [F<-T,N] For Endpoint Endpoint(127.0.0.1:62012), Took packet Request { sequence: 2, response_ack: Some(1), cookie: Some(\"b'RmlsdGVyTm90ZWJvb2tDbGllbnQ1MDg5'\"), action: NewRoom { room_name: \"general\" } }\n",
      "Sun 2023-01-22 10:50:23.359058 [TRACE] - [F<-T,N] For Endpoint Endpoint(127.0.0.1:62012), Took packet Request { sequence: 3, response_ack: Some(1), cookie: Some(\"b'RmlsdGVyTm90ZWJvb2tDbGllbnQ1MDg5'\"), action: JoinRoom { room_name: \"general\" } }\n",
      "Sun 2023-01-22 10:50:23.608429 [TRACE] - [T<-UDP] Request { sequence: 2, response_ack: Some(1), cookie: Some(\"b'RmlsdGVyTm90ZWJvb2tDbGllbnQ1MDg5'\"), action: NewRoom { room_name: \"general\" } }\n",
      "Sun 2023-01-22 10:50:23.608461 [TRACE] - [T<-UDP] Request { sequence: 3, response_ack: Some(1), cookie: Some(\"b'RmlsdGVyTm90ZWJvb2tDbGllbnQ1MDg5'\"), action: JoinRoom { room_name: \"general\" } }\n",
      "Sun 2023-01-22 10:50:23.638026 [TRACE] - [F<-T,N] For Endpoint Endpoint(127.0.0.1:62012), Took packet Request { sequence: 2, response_ack: Some(1), cookie: Some(\"b'RmlsdGVyTm90ZWJvb2tDbGllbnQ1MDg5'\"), action: NewRoom { room_name: \"general\" } }\n",
      "Sun 2023-01-22 10:50:23.638044 [TRACE] - [F<-T,N] For Endpoint Endpoint(127.0.0.1:62012), Took packet Request { sequence: 3, response_ack: Some(1), cookie: Some(\"b'RmlsdGVyTm90ZWJvb2tDbGllbnQ1MDg5'\"), action: JoinRoom { room_name: \"general\" } }\n",
      "Sun 2023-01-22 10:50:23.867989 [TRACE] - [T<-UDP] Request { sequence: 2, response_ack: Some(1), cookie: Some(\"b'RmlsdGVyTm90ZWJvb2tDbGllbnQ1MDg5'\"), action: NewRoom { room_name: \"general\" } }\n",
      "Sun 2023-01-22 10:50:23.868008 [TRACE] - [T<-UDP] Request { sequence: 3, response_ack: Some(1), cookie: Some(\"b'RmlsdGVyTm90ZWJvb2tDbGllbnQ1MDg5'\"), action: JoinRoom { room_name: \"general\" } }\n",
      "Sun 2023-01-22 10:50:23.887477 [TRACE] - [F<-T,N] For Endpoint Endpoint(127.0.0.1:62012), Took packet Request { sequence: 2, response_ack: Some(1), cookie: Some(\"b'RmlsdGVyTm90ZWJvb2tDbGllbnQ1MDg5'\"), action: NewRoom { room_name: \"general\" } }\n",
      "Sun 2023-01-22 10:50:23.887495 [TRACE] - [F<-T,N] For Endpoint Endpoint(127.0.0.1:62012), Took packet Request { sequence: 3, response_ack: Some(1), cookie: Some(\"b'RmlsdGVyTm90ZWJvb2tDbGllbnQ1MDg5'\"), action: JoinRoom { room_name: \"general\" } }\n"
     ]
    },
    {
     "name": "stdout",
     "output_type": "stream",
     "text": [
      "Sun 2023-01-22 10:50:24.118425 [TRACE] - [T<-UDP] Request { sequence: 2, response_ack: Some(1), cookie: Some(\"b'RmlsdGVyTm90ZWJvb2tDbGllbnQ1MDg5'\"), action: NewRoom { room_name: \"general\" } }\n",
      "Sun 2023-01-22 10:50:24.118444 [TRACE] - [T<-UDP] Request { sequence: 3, response_ack: Some(1), cookie: Some(\"b'RmlsdGVyTm90ZWJvb2tDbGllbnQ1MDg5'\"), action: JoinRoom { room_name: \"general\" } }\n",
      "Sun 2023-01-22 10:50:24.134893 [TRACE] - [F<-T,N] For Endpoint Endpoint(127.0.0.1:62012), Took packet Request { sequence: 2, response_ack: Some(1), cookie: Some(\"b'RmlsdGVyTm90ZWJvb2tDbGllbnQ1MDg5'\"), action: NewRoom { room_name: \"general\" } }\n",
      "Sun 2023-01-22 10:50:24.134911 [TRACE] - [F<-T,N] For Endpoint Endpoint(127.0.0.1:62012), Took packet Request { sequence: 3, response_ack: Some(1), cookie: Some(\"b'RmlsdGVyTm90ZWJvb2tDbGllbnQ1MDg5'\"), action: JoinRoom { room_name: \"general\" } }\n",
      "Sun 2023-01-22 10:50:24.377980 [TRACE] - [T<-UDP] Request { sequence: 2, response_ack: Some(1), cookie: Some(\"b'RmlsdGVyTm90ZWJvb2tDbGllbnQ1MDg5'\"), action: NewRoom { room_name: \"general\" } }\n",
      "Sun 2023-01-22 10:50:24.378000 [TRACE] - [T<-UDP] Request { sequence: 3, response_ack: Some(1), cookie: Some(\"b'RmlsdGVyTm90ZWJvb2tDbGllbnQ1MDg5'\"), action: JoinRoom { room_name: \"general\" } }\n",
      "Sun 2023-01-22 10:50:24.383437 [TRACE] - [F<-T,N] For Endpoint Endpoint(127.0.0.1:62012), Took packet Request { sequence: 2, response_ack: Some(1), cookie: Some(\"b'RmlsdGVyTm90ZWJvb2tDbGllbnQ1MDg5'\"), action: NewRoom { room_name: \"general\" } }\n",
      "Sun 2023-01-22 10:50:24.383454 [TRACE] - [F<-T,N] For Endpoint Endpoint(127.0.0.1:62012), Took packet Request { sequence: 3, response_ack: Some(1), cookie: Some(\"b'RmlsdGVyTm90ZWJvb2tDbGllbnQ1MDg5'\"), action: JoinRoom { room_name: \"general\" } }\n",
      "Sun 2023-01-22 10:50:24.628480 [TRACE] - [T<-UDP] Request { sequence: 2, response_ack: Some(1), cookie: Some(\"b'RmlsdGVyTm90ZWJvb2tDbGllbnQ1MDg5'\"), action: NewRoom { room_name: \"general\" } }\n",
      "Sun 2023-01-22 10:50:24.628499 [TRACE] - [T<-UDP] Request { sequence: 3, response_ack: Some(1), cookie: Some(\"b'RmlsdGVyTm90ZWJvb2tDbGllbnQ1MDg5'\"), action: JoinRoom { room_name: \"general\" } }\n",
      "Sun 2023-01-22 10:50:24.631585 [TRACE] - [F<-T,N] For Endpoint Endpoint(127.0.0.1:62012), Took packet Request { sequence: 2, response_ack: Some(1), cookie: Some(\"b'RmlsdGVyTm90ZWJvb2tDbGllbnQ1MDg5'\"), action: NewRoom { room_name: \"general\" } }\n",
      "Sun 2023-01-22 10:50:24.631595 [TRACE] - [F<-T,N] For Endpoint Endpoint(127.0.0.1:62012), Took packet Request { sequence: 3, response_ack: Some(1), cookie: Some(\"b'RmlsdGVyTm90ZWJvb2tDbGllbnQ1MDg5'\"), action: JoinRoom { room_name: \"general\" } }\n",
      "Sun 2023-01-22 10:50:24.888017 [TRACE] - [T<-UDP] Request { sequence: 2, response_ack: Some(1), cookie: Some(\"b'RmlsdGVyTm90ZWJvb2tDbGllbnQ1MDg5'\"), action: NewRoom { room_name: \"general\" } }\n",
      "Sun 2023-01-22 10:50:24.888040 [TRACE] - [T<-UDP] Request { sequence: 3, response_ack: Some(1), cookie: Some(\"b'RmlsdGVyTm90ZWJvb2tDbGllbnQ1MDg5'\"), action: JoinRoom { room_name: \"general\" } }\n",
      "Sun 2023-01-22 10:50:24.911503 [TRACE] - [F<-T,N] For Endpoint Endpoint(127.0.0.1:62012), Took packet Request { sequence: 2, response_ack: Some(1), cookie: Some(\"b'RmlsdGVyTm90ZWJvb2tDbGllbnQ1MDg5'\"), action: NewRoom { room_name: \"general\" } }\n",
      "Sun 2023-01-22 10:50:24.911522 [TRACE] - [F<-T,N] For Endpoint Endpoint(127.0.0.1:62012), Took packet Request { sequence: 3, response_ack: Some(1), cookie: Some(\"b'RmlsdGVyTm90ZWJvb2tDbGllbnQ1MDg5'\"), action: JoinRoom { room_name: \"general\" } }\n",
      "Sun 2023-01-22 10:50:25.138231 [TRACE] - [T<-UDP] Request { sequence: 2, response_ack: Some(1), cookie: Some(\"b'RmlsdGVyTm90ZWJvb2tDbGllbnQ1MDg5'\"), action: NewRoom { room_name: \"general\" } }\n",
      "Sun 2023-01-22 10:50:25.138254 [TRACE] - [T<-UDP] Request { sequence: 3, response_ack: Some(1), cookie: Some(\"b'RmlsdGVyTm90ZWJvb2tDbGllbnQ1MDg5'\"), action: JoinRoom { room_name: \"general\" } }\n",
      "Sun 2023-01-22 10:50:25.158808 [TRACE] - [F<-T,N] For Endpoint Endpoint(127.0.0.1:62012), Took packet Request { sequence: 2, response_ack: Some(1), cookie: Some(\"b'RmlsdGVyTm90ZWJvb2tDbGllbnQ1MDg5'\"), action: NewRoom { room_name: \"general\" } }\n",
      "Sun 2023-01-22 10:50:25.158832 [TRACE] - [F<-T,N] For Endpoint Endpoint(127.0.0.1:62012), Took packet Request { sequence: 3, response_ack: Some(1), cookie: Some(\"b'RmlsdGVyTm90ZWJvb2tDbGllbnQ1MDg5'\"), action: JoinRoom { room_name: \"general\" } }\n",
      "Sun 2023-01-22 10:50:25.388359 [TRACE] - [T<-UDP] Request { sequence: 2, response_ack: Some(1), cookie: Some(\"b'RmlsdGVyTm90ZWJvb2tDbGllbnQ1MDg5'\"), action: NewRoom { room_name: \"general\" } }\n",
      "Sun 2023-01-22 10:50:25.388387 [TRACE] - [T<-UDP] Request { sequence: 3, response_ack: Some(1), cookie: Some(\"b'RmlsdGVyTm90ZWJvb2tDbGllbnQ1MDg5'\"), action: JoinRoom { room_name: \"general\" } }\n",
      "Sun 2023-01-22 10:50:25.407796 [TRACE] - [F<-T,N] For Endpoint Endpoint(127.0.0.1:62012), Took packet Request { sequence: 2, response_ack: Some(1), cookie: Some(\"b'RmlsdGVyTm90ZWJvb2tDbGllbnQ1MDg5'\"), action: NewRoom { room_name: \"general\" } }\n",
      "Sun 2023-01-22 10:50:25.407815 [TRACE] - [F<-T,N] For Endpoint Endpoint(127.0.0.1:62012), Took packet Request { sequence: 3, response_ack: Some(1), cookie: Some(\"b'RmlsdGVyTm90ZWJvb2tDbGllbnQ1MDg5'\"), action: JoinRoom { room_name: \"general\" } }\n",
      "Sun 2023-01-22 10:50:25.638672 [TRACE] - [T<-UDP] Request { sequence: 2, response_ack: Some(1), cookie: Some(\"b'RmlsdGVyTm90ZWJvb2tDbGllbnQ1MDg5'\"), action: NewRoom { room_name: \"general\" } }\n",
      "Sun 2023-01-22 10:50:25.638696 [TRACE] - [T<-UDP] Request { sequence: 3, response_ack: Some(1), cookie: Some(\"b'RmlsdGVyTm90ZWJvb2tDbGllbnQ1MDg5'\"), action: JoinRoom { room_name: \"general\" } }\n",
      "Sun 2023-01-22 10:50:25.655959 [TRACE] - [F<-T,N] For Endpoint Endpoint(127.0.0.1:62012), Took packet Request { sequence: 2, response_ack: Some(1), cookie: Some(\"b'RmlsdGVyTm90ZWJvb2tDbGllbnQ1MDg5'\"), action: NewRoom { room_name: \"general\" } }\n",
      "Sun 2023-01-22 10:50:25.655975 [TRACE] - [F<-T,N] For Endpoint Endpoint(127.0.0.1:62012), Took packet Request { sequence: 3, response_ack: Some(1), cookie: Some(\"b'RmlsdGVyTm90ZWJvb2tDbGllbnQ1MDg5'\"), action: JoinRoom { room_name: \"general\" } }\n",
      "Sun 2023-01-22 10:50:25.898236 [TRACE] - [T<-UDP] Request { sequence: 2, response_ack: Some(1), cookie: Some(\"b'RmlsdGVyTm90ZWJvb2tDbGllbnQ1MDg5'\"), action: NewRoom { room_name: \"general\" } }\n",
      "Sun 2023-01-22 10:50:25.898255 [TRACE] - [T<-UDP] Request { sequence: 3, response_ack: Some(1), cookie: Some(\"b'RmlsdGVyTm90ZWJvb2tDbGllbnQ1MDg5'\"), action: JoinRoom { room_name: \"general\" } }\n",
      "Sun 2023-01-22 10:50:25.904397 [TRACE] - [F<-T,N] For Endpoint Endpoint(127.0.0.1:62012), Took packet Request { sequence: 2, response_ack: Some(1), cookie: Some(\"b'RmlsdGVyTm90ZWJvb2tDbGllbnQ1MDg5'\"), action: NewRoom { room_name: \"general\" } }\n",
      "Sun 2023-01-22 10:50:25.904407 [TRACE] - [F<-T,N] For Endpoint Endpoint(127.0.0.1:62012), Took packet Request { sequence: 3, response_ack: Some(1), cookie: Some(\"b'RmlsdGVyTm90ZWJvb2tDbGllbnQ1MDg5'\"), action: JoinRoom { room_name: \"general\" } }\n",
      "Sun 2023-01-22 10:50:26.148569 [TRACE] - [T<-UDP] Request { sequence: 2, response_ack: Some(1), cookie: Some(\"b'RmlsdGVyTm90ZWJvb2tDbGllbnQ1MDg5'\"), action: NewRoom { room_name: \"general\" } }\n",
      "Sun 2023-01-22 10:50:26.148594 [TRACE] - [T<-UDP] Request { sequence: 3, response_ack: Some(1), cookie: Some(\"b'RmlsdGVyTm90ZWJvb2tDbGllbnQ1MDg5'\"), action: JoinRoom { room_name: \"general\" } }\n",
      "Sun 2023-01-22 10:50:26.151685 [TRACE] - [F<-T,N] For Endpoint Endpoint(127.0.0.1:62012), Took packet Request { sequence: 2, response_ack: Some(1), cookie: Some(\"b'RmlsdGVyTm90ZWJvb2tDbGllbnQ1MDg5'\"), action: NewRoom { room_name: \"general\" } }\n",
      "Sun 2023-01-22 10:50:26.151697 [TRACE] - [F<-T,N] For Endpoint Endpoint(127.0.0.1:62012), Took packet Request { sequence: 3, response_ack: Some(1), cookie: Some(\"b'RmlsdGVyTm90ZWJvb2tDbGllbnQ1MDg5'\"), action: JoinRoom { room_name: \"general\" } }\n",
      "Sun 2023-01-22 10:50:26.407990 [TRACE] - [T<-UDP] Request { sequence: 2, response_ack: Some(1), cookie: Some(\"b'RmlsdGVyTm90ZWJvb2tDbGllbnQ1MDg5'\"), action: NewRoom { room_name: \"general\" } }\n",
      "Sun 2023-01-22 10:50:26.408009 [TRACE] - [T<-UDP] Request { sequence: 3, response_ack: Some(1), cookie: Some(\"b'RmlsdGVyTm90ZWJvb2tDbGllbnQ1MDg5'\"), action: JoinRoom { room_name: \"general\" } }\n",
      "Sun 2023-01-22 10:50:26.431399 [TRACE] - [F<-T,N] For Endpoint Endpoint(127.0.0.1:62012), Took packet Request { sequence: 2, response_ack: Some(1), cookie: Some(\"b'RmlsdGVyTm90ZWJvb2tDbGllbnQ1MDg5'\"), action: NewRoom { room_name: \"general\" } }\n",
      "Sun 2023-01-22 10:50:26.431418 [TRACE] - [F<-T,N] For Endpoint Endpoint(127.0.0.1:62012), Took packet Request { sequence: 3, response_ack: Some(1), cookie: Some(\"b'RmlsdGVyTm90ZWJvb2tDbGllbnQ1MDg5'\"), action: JoinRoom { room_name: \"general\" } }\n"
     ]
    },
    {
     "name": "stdout",
     "output_type": "stream",
     "text": [
      "Sun 2023-01-22 10:50:26.667868 [TRACE] - [T<-UDP] Request { sequence: 2, response_ack: Some(1), cookie: Some(\"b'RmlsdGVyTm90ZWJvb2tDbGllbnQ1MDg5'\"), action: NewRoom { room_name: \"general\" } }\n",
      "Sun 2023-01-22 10:50:26.667886 [TRACE] - [T<-UDP] Request { sequence: 3, response_ack: Some(1), cookie: Some(\"b'RmlsdGVyTm90ZWJvb2tDbGllbnQ1MDg5'\"), action: JoinRoom { room_name: \"general\" } }\n",
      "Sun 2023-01-22 10:50:26.681113 [TRACE] - [F<-T,N] For Endpoint Endpoint(127.0.0.1:62012), Took packet Request { sequence: 2, response_ack: Some(1), cookie: Some(\"b'RmlsdGVyTm90ZWJvb2tDbGllbnQ1MDg5'\"), action: NewRoom { room_name: \"general\" } }\n",
      "Sun 2023-01-22 10:50:26.681134 [TRACE] - [F<-T,N] For Endpoint Endpoint(127.0.0.1:62012), Took packet Request { sequence: 3, response_ack: Some(1), cookie: Some(\"b'RmlsdGVyTm90ZWJvb2tDbGllbnQ1MDg5'\"), action: JoinRoom { room_name: \"general\" } }\n",
      "Sun 2023-01-22 10:50:26.927990 [TRACE] - [T<-UDP] Request { sequence: 2, response_ack: Some(1), cookie: Some(\"b'RmlsdGVyTm90ZWJvb2tDbGllbnQ1MDg5'\"), action: NewRoom { room_name: \"general\" } }\n",
      "Sun 2023-01-22 10:50:26.928010 [TRACE] - [T<-UDP] Request { sequence: 3, response_ack: Some(1), cookie: Some(\"b'RmlsdGVyTm90ZWJvb2tDbGllbnQ1MDg5'\"), action: JoinRoom { room_name: \"general\" } }\n",
      "Sun 2023-01-22 10:50:26.932099 [TRACE] - [F<-T,N] For Endpoint Endpoint(127.0.0.1:62012), Took packet Request { sequence: 2, response_ack: Some(1), cookie: Some(\"b'RmlsdGVyTm90ZWJvb2tDbGllbnQ1MDg5'\"), action: NewRoom { room_name: \"general\" } }\n",
      "Sun 2023-01-22 10:50:26.932109 [TRACE] - [F<-T,N] For Endpoint Endpoint(127.0.0.1:62012), Took packet Request { sequence: 3, response_ack: Some(1), cookie: Some(\"b'RmlsdGVyTm90ZWJvb2tDbGllbnQ1MDg5'\"), action: JoinRoom { room_name: \"general\" } }\n",
      "Sun 2023-01-22 10:50:27.178546 [TRACE] - [T<-UDP] Request { sequence: 2, response_ack: Some(1), cookie: Some(\"b'RmlsdGVyTm90ZWJvb2tDbGllbnQ1MDg5'\"), action: NewRoom { room_name: \"general\" } }\n",
      "Sun 2023-01-22 10:50:27.178572 [TRACE] - [T<-UDP] Request { sequence: 3, response_ack: Some(1), cookie: Some(\"b'RmlsdGVyTm90ZWJvb2tDbGllbnQ1MDg5'\"), action: JoinRoom { room_name: \"general\" } }\n",
      "Sun 2023-01-22 10:50:27.181688 [TRACE] - [F<-T,N] For Endpoint Endpoint(127.0.0.1:62012), Took packet Request { sequence: 2, response_ack: Some(1), cookie: Some(\"b'RmlsdGVyTm90ZWJvb2tDbGllbnQ1MDg5'\"), action: NewRoom { room_name: \"general\" } }\n",
      "Sun 2023-01-22 10:50:27.181708 [TRACE] - [F<-T,N] For Endpoint Endpoint(127.0.0.1:62012), Took packet Request { sequence: 3, response_ack: Some(1), cookie: Some(\"b'RmlsdGVyTm90ZWJvb2tDbGllbnQ1MDg5'\"), action: JoinRoom { room_name: \"general\" } }\n",
      "Sun 2023-01-22 10:50:27.428681 [TRACE] - [T<-UDP] Request { sequence: 2, response_ack: Some(1), cookie: Some(\"b'RmlsdGVyTm90ZWJvb2tDbGllbnQ1MDg5'\"), action: NewRoom { room_name: \"general\" } }\n",
      "Sun 2023-01-22 10:50:27.428708 [TRACE] - [T<-UDP] Request { sequence: 3, response_ack: Some(1), cookie: Some(\"b'RmlsdGVyTm90ZWJvb2tDbGllbnQ1MDg5'\"), action: JoinRoom { room_name: \"general\" } }\n",
      "Sun 2023-01-22 10:50:27.430825 [TRACE] - [F<-T,N] For Endpoint Endpoint(127.0.0.1:62012), Took packet Request { sequence: 2, response_ack: Some(1), cookie: Some(\"b'RmlsdGVyTm90ZWJvb2tDbGllbnQ1MDg5'\"), action: NewRoom { room_name: \"general\" } }\n",
      "Sun 2023-01-22 10:50:27.430849 [TRACE] - [F<-T,N] For Endpoint Endpoint(127.0.0.1:62012), Took packet Request { sequence: 3, response_ack: Some(1), cookie: Some(\"b'RmlsdGVyTm90ZWJvb2tDbGllbnQ1MDg5'\"), action: JoinRoom { room_name: \"general\" } }\n",
      "Sun 2023-01-22 10:50:27.678680 [TRACE] - [T<-UDP] Request { sequence: 2, response_ack: Some(1), cookie: Some(\"b'RmlsdGVyTm90ZWJvb2tDbGllbnQ1MDg5'\"), action: NewRoom { room_name: \"general\" } }\n",
      "Sun 2023-01-22 10:50:27.678706 [TRACE] - [T<-UDP] Request { sequence: 3, response_ack: Some(1), cookie: Some(\"b'RmlsdGVyTm90ZWJvb2tDbGllbnQ1MDg5'\"), action: JoinRoom { room_name: \"general\" } }\n",
      "Sun 2023-01-22 10:50:27.680824 [TRACE] - [F<-T,N] For Endpoint Endpoint(127.0.0.1:62012), Took packet Request { sequence: 2, response_ack: Some(1), cookie: Some(\"b'RmlsdGVyTm90ZWJvb2tDbGllbnQ1MDg5'\"), action: NewRoom { room_name: \"general\" } }\n",
      "Sun 2023-01-22 10:50:27.680848 [TRACE] - [F<-T,N] For Endpoint Endpoint(127.0.0.1:62012), Took packet Request { sequence: 3, response_ack: Some(1), cookie: Some(\"b'RmlsdGVyTm90ZWJvb2tDbGllbnQ1MDg5'\"), action: JoinRoom { room_name: \"general\" } }\n",
      "Sun 2023-01-22 10:50:27.938084 [TRACE] - [T<-UDP] Request { sequence: 2, response_ack: Some(1), cookie: Some(\"b'RmlsdGVyTm90ZWJvb2tDbGllbnQ1MDg5'\"), action: NewRoom { room_name: \"general\" } }\n",
      "Sun 2023-01-22 10:50:27.938110 [TRACE] - [T<-UDP] Request { sequence: 3, response_ack: Some(1), cookie: Some(\"b'RmlsdGVyTm90ZWJvb2tDbGllbnQ1MDg5'\"), action: JoinRoom { room_name: \"general\" } }\n",
      "Sun 2023-01-22 10:50:27.960573 [TRACE] - [F<-T,N] For Endpoint Endpoint(127.0.0.1:62012), Took packet Request { sequence: 2, response_ack: Some(1), cookie: Some(\"b'RmlsdGVyTm90ZWJvb2tDbGllbnQ1MDg5'\"), action: NewRoom { room_name: \"general\" } }\n",
      "Sun 2023-01-22 10:50:27.960597 [TRACE] - [F<-T,N] For Endpoint Endpoint(127.0.0.1:62012), Took packet Request { sequence: 3, response_ack: Some(1), cookie: Some(\"b'RmlsdGVyTm90ZWJvb2tDbGllbnQ1MDg5'\"), action: JoinRoom { room_name: \"general\" } }\n",
      "Sun 2023-01-22 10:50:28.188653 [TRACE] - [T<-UDP] Request { sequence: 2, response_ack: Some(1), cookie: Some(\"b'RmlsdGVyTm90ZWJvb2tDbGllbnQ1MDg5'\"), action: NewRoom { room_name: \"general\" } }\n",
      "Sun 2023-01-22 10:50:28.188678 [TRACE] - [T<-UDP] Request { sequence: 3, response_ack: Some(1), cookie: Some(\"b'RmlsdGVyTm90ZWJvb2tDbGllbnQ1MDg5'\"), action: JoinRoom { room_name: \"general\" } }\n",
      "Sun 2023-01-22 10:50:28.210313 [TRACE] - [F<-T,N] For Endpoint Endpoint(127.0.0.1:62012), Took packet Request { sequence: 2, response_ack: Some(1), cookie: Some(\"b'RmlsdGVyTm90ZWJvb2tDbGllbnQ1MDg5'\"), action: NewRoom { room_name: \"general\" } }\n",
      "Sun 2023-01-22 10:50:28.210338 [TRACE] - [F<-T,N] For Endpoint Endpoint(127.0.0.1:62012), Took packet Request { sequence: 3, response_ack: Some(1), cookie: Some(\"b'RmlsdGVyTm90ZWJvb2tDbGllbnQ1MDg5'\"), action: JoinRoom { room_name: \"general\" } }\n",
      "Sun 2023-01-22 10:50:28.448476 [TRACE] - [T<-UDP] Request { sequence: 2, response_ack: Some(1), cookie: Some(\"b'RmlsdGVyTm90ZWJvb2tDbGllbnQ1MDg5'\"), action: NewRoom { room_name: \"general\" } }\n",
      "Sun 2023-01-22 10:50:28.448496 [TRACE] - [T<-UDP] Request { sequence: 3, response_ack: Some(1), cookie: Some(\"b'RmlsdGVyTm90ZWJvb2tDbGllbnQ1MDg5'\"), action: JoinRoom { room_name: \"general\" } }\n",
      "Sun 2023-01-22 10:50:28.457713 [TRACE] - [F<-T,N] For Endpoint Endpoint(127.0.0.1:62012), Took packet Request { sequence: 2, response_ack: Some(1), cookie: Some(\"b'RmlsdGVyTm90ZWJvb2tDbGllbnQ1MDg5'\"), action: NewRoom { room_name: \"general\" } }\n",
      "Sun 2023-01-22 10:50:28.457733 [TRACE] - [F<-T,N] For Endpoint Endpoint(127.0.0.1:62012), Took packet Request { sequence: 3, response_ack: Some(1), cookie: Some(\"b'RmlsdGVyTm90ZWJvb2tDbGllbnQ1MDg5'\"), action: JoinRoom { room_name: \"general\" } }\n",
      "Sun 2023-01-22 10:50:28.708004 [TRACE] - [T<-UDP] Request { sequence: 2, response_ack: Some(1), cookie: Some(\"b'RmlsdGVyTm90ZWJvb2tDbGllbnQ1MDg5'\"), action: NewRoom { room_name: \"general\" } }\n",
      "Sun 2023-01-22 10:50:28.708024 [TRACE] - [T<-UDP] Request { sequence: 3, response_ack: Some(1), cookie: Some(\"b'RmlsdGVyTm90ZWJvb2tDbGllbnQ1MDg5'\"), action: JoinRoom { room_name: \"general\" } }\n",
      "Sun 2023-01-22 10:50:28.737521 [TRACE] - [F<-T,N] For Endpoint Endpoint(127.0.0.1:62012), Took packet Request { sequence: 2, response_ack: Some(1), cookie: Some(\"b'RmlsdGVyTm90ZWJvb2tDbGllbnQ1MDg5'\"), action: NewRoom { room_name: \"general\" } }\n",
      "Sun 2023-01-22 10:50:28.737538 [TRACE] - [F<-T,N] For Endpoint Endpoint(127.0.0.1:62012), Took packet Request { sequence: 3, response_ack: Some(1), cookie: Some(\"b'RmlsdGVyTm90ZWJvb2tDbGllbnQ1MDg5'\"), action: JoinRoom { room_name: \"general\" } }\n",
      "Sun 2023-01-22 10:50:28.958648 [TRACE] - [T<-UDP] Request { sequence: 2, response_ack: Some(1), cookie: Some(\"b'RmlsdGVyTm90ZWJvb2tDbGllbnQ1MDg5'\"), action: NewRoom { room_name: \"general\" } }\n",
      "Sun 2023-01-22 10:50:28.958666 [TRACE] - [T<-UDP] Request { sequence: 3, response_ack: Some(1), cookie: Some(\"b'RmlsdGVyTm90ZWJvb2tDbGllbnQ1MDg5'\"), action: JoinRoom { room_name: \"general\" } }\n",
      "Sun 2023-01-22 10:50:28.985163 [TRACE] - [F<-T,N] For Endpoint Endpoint(127.0.0.1:62012), Took packet Request { sequence: 2, response_ack: Some(1), cookie: Some(\"b'RmlsdGVyTm90ZWJvb2tDbGllbnQ1MDg5'\"), action: NewRoom { room_name: \"general\" } }\n",
      "Sun 2023-01-22 10:50:28.985184 [TRACE] - [F<-T,N] For Endpoint Endpoint(127.0.0.1:62012), Took packet Request { sequence: 3, response_ack: Some(1), cookie: Some(\"b'RmlsdGVyTm90ZWJvb2tDbGllbnQ1MDg5'\"), action: JoinRoom { room_name: \"general\" } }\n"
     ]
    },
    {
     "name": "stdout",
     "output_type": "stream",
     "text": [
      "Sun 2023-01-22 10:50:29.218008 [TRACE] - [T<-UDP] Request { sequence: 2, response_ack: Some(1), cookie: Some(\"b'RmlsdGVyTm90ZWJvb2tDbGllbnQ1MDg5'\"), action: NewRoom { room_name: \"general\" } }\n",
      "Sun 2023-01-22 10:50:29.218026 [TRACE] - [T<-UDP] Request { sequence: 3, response_ack: Some(1), cookie: Some(\"b'RmlsdGVyTm90ZWJvb2tDbGllbnQ1MDg5'\"), action: JoinRoom { room_name: \"general\" } }\n",
      "Sun 2023-01-22 10:50:29.233267 [TRACE] - [F<-T,N] For Endpoint Endpoint(127.0.0.1:62012), Took packet Request { sequence: 2, response_ack: Some(1), cookie: Some(\"b'RmlsdGVyTm90ZWJvb2tDbGllbnQ1MDg5'\"), action: NewRoom { room_name: \"general\" } }\n",
      "Sun 2023-01-22 10:50:29.233283 [TRACE] - [F<-T,N] For Endpoint Endpoint(127.0.0.1:62012), Took packet Request { sequence: 3, response_ack: Some(1), cookie: Some(\"b'RmlsdGVyTm90ZWJvb2tDbGllbnQ1MDg5'\"), action: JoinRoom { room_name: \"general\" } }\n",
      "Sun 2023-01-22 10:50:29.468421 [TRACE] - [T<-UDP] Request { sequence: 2, response_ack: Some(1), cookie: Some(\"b'RmlsdGVyTm90ZWJvb2tDbGllbnQ1MDg5'\"), action: NewRoom { room_name: \"general\" } }\n",
      "Sun 2023-01-22 10:50:29.468436 [TRACE] - [T<-UDP] Request { sequence: 3, response_ack: Some(1), cookie: Some(\"b'RmlsdGVyTm90ZWJvb2tDbGllbnQ1MDg5'\"), action: JoinRoom { room_name: \"general\" } }\n",
      "Sun 2023-01-22 10:50:29.480692 [TRACE] - [F<-T,N] For Endpoint Endpoint(127.0.0.1:62012), Took packet Request { sequence: 2, response_ack: Some(1), cookie: Some(\"b'RmlsdGVyTm90ZWJvb2tDbGllbnQ1MDg5'\"), action: NewRoom { room_name: \"general\" } }\n",
      "Sun 2023-01-22 10:50:29.480710 [TRACE] - [F<-T,N] For Endpoint Endpoint(127.0.0.1:62012), Took packet Request { sequence: 3, response_ack: Some(1), cookie: Some(\"b'RmlsdGVyTm90ZWJvb2tDbGllbnQ1MDg5'\"), action: JoinRoom { room_name: \"general\" } }\n",
      "Sun 2023-01-22 10:50:29.718592 [TRACE] - [T<-UDP] Request { sequence: 2, response_ack: Some(1), cookie: Some(\"b'RmlsdGVyTm90ZWJvb2tDbGllbnQ1MDg5'\"), action: NewRoom { room_name: \"general\" } }\n",
      "Sun 2023-01-22 10:50:29.718618 [TRACE] - [T<-UDP] Request { sequence: 3, response_ack: Some(1), cookie: Some(\"b'RmlsdGVyTm90ZWJvb2tDbGllbnQ1MDg5'\"), action: JoinRoom { room_name: \"general\" } }\n",
      "Sun 2023-01-22 10:50:29.729942 [TRACE] - [F<-T,N] For Endpoint Endpoint(127.0.0.1:62012), Took packet Request { sequence: 2, response_ack: Some(1), cookie: Some(\"b'RmlsdGVyTm90ZWJvb2tDbGllbnQ1MDg5'\"), action: NewRoom { room_name: \"general\" } }\n",
      "Sun 2023-01-22 10:50:29.729967 [TRACE] - [F<-T,N] For Endpoint Endpoint(127.0.0.1:62012), Took packet Request { sequence: 3, response_ack: Some(1), cookie: Some(\"b'RmlsdGVyTm90ZWJvb2tDbGllbnQ1MDg5'\"), action: JoinRoom { room_name: \"general\" } }\n",
      "Sun 2023-01-22 10:50:29.977809 [TRACE] - [T<-UDP] Request { sequence: 2, response_ack: Some(1), cookie: Some(\"b'RmlsdGVyTm90ZWJvb2tDbGllbnQ1MDg5'\"), action: NewRoom { room_name: \"general\" } }\n",
      "Sun 2023-01-22 10:50:29.977835 [TRACE] - [T<-UDP] Request { sequence: 3, response_ack: Some(1), cookie: Some(\"b'RmlsdGVyTm90ZWJvb2tDbGllbnQ1MDg5'\"), action: JoinRoom { room_name: \"general\" } }\n",
      "Sun 2023-01-22 10:50:30.008881 [TRACE] - [F<-T,N] For Endpoint Endpoint(127.0.0.1:62012), Took packet Request { sequence: 2, response_ack: Some(1), cookie: Some(\"b'RmlsdGVyTm90ZWJvb2tDbGllbnQ1MDg5'\"), action: NewRoom { room_name: \"general\" } }\n",
      "Sun 2023-01-22 10:50:30.008906 [TRACE] - [F<-T,N] For Endpoint Endpoint(127.0.0.1:62012), Took packet Request { sequence: 3, response_ack: Some(1), cookie: Some(\"b'RmlsdGVyTm90ZWJvb2tDbGllbnQ1MDg5'\"), action: JoinRoom { room_name: \"general\" } }\n",
      "Sun 2023-01-22 10:50:30.228685 [TRACE] - [T<-UDP] Request { sequence: 2, response_ack: Some(1), cookie: Some(\"b'RmlsdGVyTm90ZWJvb2tDbGllbnQ1MDg5'\"), action: NewRoom { room_name: \"general\" } }\n",
      "Sun 2023-01-22 10:50:30.228706 [TRACE] - [T<-UDP] Request { sequence: 3, response_ack: Some(1), cookie: Some(\"b'RmlsdGVyTm90ZWJvb2tDbGllbnQ1MDg5'\"), action: JoinRoom { room_name: \"general\" } }\n",
      "Sun 2023-01-22 10:50:30.257195 [TRACE] - [F<-T,N] For Endpoint Endpoint(127.0.0.1:62012), Took packet Request { sequence: 2, response_ack: Some(1), cookie: Some(\"b'RmlsdGVyTm90ZWJvb2tDbGllbnQ1MDg5'\"), action: NewRoom { room_name: \"general\" } }\n",
      "Sun 2023-01-22 10:50:30.257213 [TRACE] - [F<-T,N] For Endpoint Endpoint(127.0.0.1:62012), Took packet Request { sequence: 3, response_ack: Some(1), cookie: Some(\"b'RmlsdGVyTm90ZWJvb2tDbGllbnQ1MDg5'\"), action: JoinRoom { room_name: \"general\" } }\n",
      "Sun 2023-01-22 10:50:30.488391 [TRACE] - [T<-UDP] Request { sequence: 2, response_ack: Some(1), cookie: Some(\"b'RmlsdGVyTm90ZWJvb2tDbGllbnQ1MDg5'\"), action: NewRoom { room_name: \"general\" } }\n",
      "Sun 2023-01-22 10:50:30.488409 [TRACE] - [T<-UDP] Request { sequence: 3, response_ack: Some(1), cookie: Some(\"b'RmlsdGVyTm90ZWJvb2tDbGllbnQ1MDg5'\"), action: JoinRoom { room_name: \"general\" } }\n",
      "Sun 2023-01-22 10:50:30.505785 [TRACE] - [F<-T,N] For Endpoint Endpoint(127.0.0.1:62012), Took packet Request { sequence: 2, response_ack: Some(1), cookie: Some(\"b'RmlsdGVyTm90ZWJvb2tDbGllbnQ1MDg5'\"), action: NewRoom { room_name: \"general\" } }\n",
      "Sun 2023-01-22 10:50:30.505803 [TRACE] - [F<-T,N] For Endpoint Endpoint(127.0.0.1:62012), Took packet Request { sequence: 3, response_ack: Some(1), cookie: Some(\"b'RmlsdGVyTm90ZWJvb2tDbGllbnQ1MDg5'\"), action: JoinRoom { room_name: \"general\" } }\n",
      "Sun 2023-01-22 10:50:30.748176 [TRACE] - [T<-UDP] Request { sequence: 2, response_ack: Some(1), cookie: Some(\"b'RmlsdGVyTm90ZWJvb2tDbGllbnQ1MDg5'\"), action: NewRoom { room_name: \"general\" } }\n",
      "Sun 2023-01-22 10:50:30.748210 [TRACE] - [T<-UDP] Request { sequence: 3, response_ack: Some(1), cookie: Some(\"b'RmlsdGVyTm90ZWJvb2tDbGllbnQ1MDg5'\"), action: JoinRoom { room_name: \"general\" } }\n",
      "Sun 2023-01-22 10:50:30.755011 [TRACE] - [F<-T,N] For Endpoint Endpoint(127.0.0.1:62012), Took packet Request { sequence: 2, response_ack: Some(1), cookie: Some(\"b'RmlsdGVyTm90ZWJvb2tDbGllbnQ1MDg5'\"), action: NewRoom { room_name: \"general\" } }\n",
      "Sun 2023-01-22 10:50:30.755045 [TRACE] - [F<-T,N] For Endpoint Endpoint(127.0.0.1:62012), Took packet Request { sequence: 3, response_ack: Some(1), cookie: Some(\"b'RmlsdGVyTm90ZWJvb2tDbGllbnQ1MDg5'\"), action: JoinRoom { room_name: \"general\" } }\n",
      "Sun 2023-01-22 10:50:31.008242 [TRACE] - [T<-UDP] Request { sequence: 2, response_ack: Some(1), cookie: Some(\"b'RmlsdGVyTm90ZWJvb2tDbGllbnQ1MDg5'\"), action: NewRoom { room_name: \"general\" } }\n",
      "Sun 2023-01-22 10:50:31.008267 [TRACE] - [T<-UDP] Request { sequence: 3, response_ack: Some(1), cookie: Some(\"b'RmlsdGVyTm90ZWJvb2tDbGllbnQ1MDg5'\"), action: JoinRoom { room_name: \"general\" } }\n",
      "Sun 2023-01-22 10:50:31.034761 [TRACE] - [F<-T,N] For Endpoint Endpoint(127.0.0.1:62012), Took packet Request { sequence: 2, response_ack: Some(1), cookie: Some(\"b'RmlsdGVyTm90ZWJvb2tDbGllbnQ1MDg5'\"), action: NewRoom { room_name: \"general\" } }\n",
      "Sun 2023-01-22 10:50:31.034781 [TRACE] - [F<-T,N] For Endpoint Endpoint(127.0.0.1:62012), Took packet Request { sequence: 3, response_ack: Some(1), cookie: Some(\"b'RmlsdGVyTm90ZWJvb2tDbGllbnQ1MDg5'\"), action: JoinRoom { room_name: \"general\" } }\n",
      "Sun 2023-01-22 10:50:31.258566 [TRACE] - [T<-UDP] Request { sequence: 2, response_ack: Some(1), cookie: Some(\"b'RmlsdGVyTm90ZWJvb2tDbGllbnQ1MDg5'\"), action: NewRoom { room_name: \"general\" } }\n",
      "Sun 2023-01-22 10:50:31.258585 [TRACE] - [T<-UDP] Request { sequence: 3, response_ack: Some(1), cookie: Some(\"b'RmlsdGVyTm90ZWJvb2tDbGllbnQ1MDg5'\"), action: JoinRoom { room_name: \"general\" } }\n",
      "Sun 2023-01-22 10:50:31.283072 [TRACE] - [F<-T,N] For Endpoint Endpoint(127.0.0.1:62012), Took packet Request { sequence: 2, response_ack: Some(1), cookie: Some(\"b'RmlsdGVyTm90ZWJvb2tDbGllbnQ1MDg5'\"), action: NewRoom { room_name: \"general\" } }\n",
      "Sun 2023-01-22 10:50:31.283090 [TRACE] - [F<-T,N] For Endpoint Endpoint(127.0.0.1:62012), Took packet Request { sequence: 3, response_ack: Some(1), cookie: Some(\"b'RmlsdGVyTm90ZWJvb2tDbGllbnQ1MDg5'\"), action: JoinRoom { room_name: \"general\" } }\n",
      "Sun 2023-01-22 10:50:31.508681 [TRACE] - [T<-UDP] Request { sequence: 2, response_ack: Some(1), cookie: Some(\"b'RmlsdGVyTm90ZWJvb2tDbGllbnQ1MDg5'\"), action: NewRoom { room_name: \"general\" } }\n",
      "Sun 2023-01-22 10:50:31.508700 [TRACE] - [T<-UDP] Request { sequence: 3, response_ack: Some(1), cookie: Some(\"b'RmlsdGVyTm90ZWJvb2tDbGllbnQ1MDg5'\"), action: JoinRoom { room_name: \"general\" } }\n",
      "Sun 2023-01-22 10:50:31.532136 [TRACE] - [F<-T,N] For Endpoint Endpoint(127.0.0.1:62012), Took packet Request { sequence: 2, response_ack: Some(1), cookie: Some(\"b'RmlsdGVyTm90ZWJvb2tDbGllbnQ1MDg5'\"), action: NewRoom { room_name: \"general\" } }\n",
      "Sun 2023-01-22 10:50:31.532155 [TRACE] - [F<-T,N] For Endpoint Endpoint(127.0.0.1:62012), Took packet Request { sequence: 3, response_ack: Some(1), cookie: Some(\"b'RmlsdGVyTm90ZWJvb2tDbGllbnQ1MDg5'\"), action: JoinRoom { room_name: \"general\" } }\n"
     ]
    },
    {
     "name": "stdout",
     "output_type": "stream",
     "text": [
      "Sun 2023-01-22 10:50:31.768236 [TRACE] - [T<-UDP] Request { sequence: 2, response_ack: Some(1), cookie: Some(\"b'RmlsdGVyTm90ZWJvb2tDbGllbnQ1MDg5'\"), action: NewRoom { room_name: \"general\" } }\n",
      "Sun 2023-01-22 10:50:31.768256 [TRACE] - [T<-UDP] Request { sequence: 3, response_ack: Some(1), cookie: Some(\"b'RmlsdGVyTm90ZWJvb2tDbGllbnQ1MDg5'\"), action: JoinRoom { room_name: \"general\" } }\n",
      "Sun 2023-01-22 10:50:31.781734 [TRACE] - [F<-T,N] For Endpoint Endpoint(127.0.0.1:62012), Took packet Request { sequence: 2, response_ack: Some(1), cookie: Some(\"b'RmlsdGVyTm90ZWJvb2tDbGllbnQ1MDg5'\"), action: NewRoom { room_name: \"general\" } }\n",
      "Sun 2023-01-22 10:50:31.781752 [TRACE] - [F<-T,N] For Endpoint Endpoint(127.0.0.1:62012), Took packet Request { sequence: 3, response_ack: Some(1), cookie: Some(\"b'RmlsdGVyTm90ZWJvb2tDbGllbnQ1MDg5'\"), action: JoinRoom { room_name: \"general\" } }\n",
      "Sun 2023-01-22 10:50:32.028264 [TRACE] - [T<-UDP] Request { sequence: 2, response_ack: Some(1), cookie: Some(\"b'RmlsdGVyTm90ZWJvb2tDbGllbnQ1MDg5'\"), action: NewRoom { room_name: \"general\" } }\n",
      "Sun 2023-01-22 10:50:32.028298 [TRACE] - [T<-UDP] Request { sequence: 3, response_ack: Some(1), cookie: Some(\"b'RmlsdGVyTm90ZWJvb2tDbGllbnQ1MDg5'\"), action: JoinRoom { room_name: \"general\" } }\n",
      "Sun 2023-01-22 10:50:32.033440 [TRACE] - [F<-T,N] For Endpoint Endpoint(127.0.0.1:62012), Took packet Request { sequence: 2, response_ack: Some(1), cookie: Some(\"b'RmlsdGVyTm90ZWJvb2tDbGllbnQ1MDg5'\"), action: NewRoom { room_name: \"general\" } }\n",
      "Sun 2023-01-22 10:50:32.033460 [TRACE] - [F<-T,N] For Endpoint Endpoint(127.0.0.1:62012), Took packet Request { sequence: 3, response_ack: Some(1), cookie: Some(\"b'RmlsdGVyTm90ZWJvb2tDbGllbnQ1MDg5'\"), action: JoinRoom { room_name: \"general\" } }\n",
      "Sun 2023-01-22 10:50:32.288240 [TRACE] - [T<-UDP] Request { sequence: 2, response_ack: Some(1), cookie: Some(\"b'RmlsdGVyTm90ZWJvb2tDbGllbnQ1MDg5'\"), action: NewRoom { room_name: \"general\" } }\n",
      "Sun 2023-01-22 10:50:32.288270 [TRACE] - [T<-UDP] Request { sequence: 3, response_ack: Some(1), cookie: Some(\"b'RmlsdGVyTm90ZWJvb2tDbGllbnQ1MDg5'\"), action: JoinRoom { room_name: \"general\" } }\n",
      "Sun 2023-01-22 10:50:32.313799 [TRACE] - [F<-T,N] For Endpoint Endpoint(127.0.0.1:62012), Took packet Request { sequence: 2, response_ack: Some(1), cookie: Some(\"b'RmlsdGVyTm90ZWJvb2tDbGllbnQ1MDg5'\"), action: NewRoom { room_name: \"general\" } }\n",
      "Sun 2023-01-22 10:50:32.313824 [TRACE] - [F<-T,N] For Endpoint Endpoint(127.0.0.1:62012), Took packet Request { sequence: 3, response_ack: Some(1), cookie: Some(\"b'RmlsdGVyTm90ZWJvb2tDbGllbnQ1MDg5'\"), action: JoinRoom { room_name: \"general\" } }\n",
      "Sun 2023-01-22 10:50:32.538650 [TRACE] - [T<-UDP] Request { sequence: 2, response_ack: Some(1), cookie: Some(\"b'RmlsdGVyTm90ZWJvb2tDbGllbnQ1MDg5'\"), action: NewRoom { room_name: \"general\" } }\n",
      "Sun 2023-01-22 10:50:32.538669 [TRACE] - [T<-UDP] Request { sequence: 3, response_ack: Some(1), cookie: Some(\"b'RmlsdGVyTm90ZWJvb2tDbGllbnQ1MDg5'\"), action: JoinRoom { room_name: \"general\" } }\n",
      "Sun 2023-01-22 10:50:32.561930 [TRACE] - [F<-T,N] For Endpoint Endpoint(127.0.0.1:62012), Took packet Request { sequence: 2, response_ack: Some(1), cookie: Some(\"b'RmlsdGVyTm90ZWJvb2tDbGllbnQ1MDg5'\"), action: NewRoom { room_name: \"general\" } }\n",
      "Sun 2023-01-22 10:50:32.561945 [TRACE] - [F<-T,N] For Endpoint Endpoint(127.0.0.1:62012), Took packet Request { sequence: 3, response_ack: Some(1), cookie: Some(\"b'RmlsdGVyTm90ZWJvb2tDbGllbnQ1MDg5'\"), action: JoinRoom { room_name: \"general\" } }\n"
     ]
    }
   ],
   "source": [
    "get_all_notification(server_fiface)"
   ]
  },
  {
   "cell_type": "code",
   "execution_count": null,
   "id": "de4852b4",
   "metadata": {},
   "outputs": [],
   "source": []
  }
 ],
 "metadata": {
  "kernelspec": {
   "display_name": "Python 3 (ipykernel)",
   "language": "python",
   "name": "python3"
  },
  "language_info": {
   "codemirror_mode": {
    "name": "ipython",
    "version": 3
   },
   "file_extension": ".py",
   "mimetype": "text/x-python",
   "name": "python",
   "nbconvert_exporter": "python",
   "pygments_lexer": "ipython3",
   "version": "3.10.6"
  },
  "vscode": {
   "interpreter": {
    "hash": "916dbcbb3f70747c44a77c7bcd40155683ae19c65e1c03b4aa3499c5328201f1"
   }
  }
 },
 "nbformat": 4,
 "nbformat_minor": 5
}
