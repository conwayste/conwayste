{
 "cells": [
  {
   "cell_type": "markdown",
   "id": "45d0fa70",
   "metadata": {},
   "source": [
    "# Boilerplate"
   ]
  },
  {
   "cell_type": "markdown",
   "id": "69735df3",
   "metadata": {},
   "source": [
    "There's probably a better way than what follows"
   ]
  },
  {
   "cell_type": "code",
   "execution_count": 1,
   "id": "f16786c2",
   "metadata": {},
   "outputs": [],
   "source": [
    "import sys\n",
    "sys.path.insert(0, 'venv/lib/python3.10/site-packages')\n",
    "import asyncio\n",
    "\n",
    "from nwv2_python_wrapper import *\n",
    "import nwv2_python_wrapper"
   ]
  },
  {
   "cell_type": "markdown",
   "id": "88f69a0e",
   "metadata": {},
   "source": [
    "# Run"
   ]
  },
  {
   "cell_type": "markdown",
   "id": "d1e76153",
   "metadata": {},
   "source": [
    "What are all the Python wrappers available for us to import?"
   ]
  },
  {
   "cell_type": "code",
   "execution_count": 2,
   "id": "36378854",
   "metadata": {},
   "outputs": [
    {
     "data": {
      "text/plain": [
       "['BroadcastChatMessageW',\n",
       " 'EndpointW',\n",
       " 'FilterCmdW',\n",
       " 'FilterInterface',\n",
       " 'FilterModeW',\n",
       " 'FilterNoticeW',\n",
       " 'FilterRspW',\n",
       " 'GameOptionsW',\n",
       " 'GameOutcomeW',\n",
       " 'GameUpdateW',\n",
       " 'GenPartInfoW',\n",
       " 'GenStateDiffPartW',\n",
       " 'GenStateDiffW',\n",
       " 'NetRegionW',\n",
       " 'PacketSettingsW',\n",
       " 'PacketW',\n",
       " 'PlayerInfoW',\n",
       " 'ProcessUniqueIdW',\n",
       " 'RequestActionW',\n",
       " 'ResponseCodeW',\n",
       " 'RoomListW',\n",
       " 'TransportCmdW',\n",
       " 'TransportInterface',\n",
       " 'TransportNoticeW',\n",
       " 'TransportRspW',\n",
       " 'UniUpdateW',\n",
       " 'new_transport_interface']"
      ]
     },
     "execution_count": 2,
     "metadata": {},
     "output_type": "execute_result"
    }
   ],
   "source": [
    "[f for f in dir(nwv2_python_wrapper) if not f.startswith('__') and f != 'nwv2_python_wrapper']"
   ]
  },
  {
   "cell_type": "markdown",
   "id": "bcef1b31",
   "metadata": {},
   "source": [
    "## Transport Setup"
   ]
  },
  {
   "cell_type": "markdown",
   "id": "c13b73da",
   "metadata": {},
   "source": [
    "Create a new transport interface, asynchronously. This uses the Python `asyncio` event loop, which a Jupyter Notebook already has running."
   ]
  },
  {
   "cell_type": "code",
   "execution_count": 3,
   "id": "951d512e",
   "metadata": {},
   "outputs": [
    {
     "data": {
      "text/plain": [
       "<Future pending cb=[<builtins.PyDoneCallback object at 0x7fa33631f3f0>()]>"
      ]
     },
     "execution_count": 3,
     "metadata": {},
     "output_type": "execute_result"
    }
   ],
   "source": [
    "tiface_fut = new_transport_interface(\"0.0.0.0\", 0)\n",
    "tiface_fut"
   ]
  },
  {
   "cell_type": "markdown",
   "id": "61a95d07",
   "metadata": {},
   "source": [
    "Await the future to get the `TransportInterface`. Note: unlike in Rust, `await` isn't necessary to drive Future completion."
   ]
  },
  {
   "cell_type": "code",
   "execution_count": 4,
   "id": "69c46da0",
   "metadata": {},
   "outputs": [
    {
     "data": {
      "text/plain": [
       "TransportInterface{ transport: Some(<Transport>),   cmd_tx: ...,   response_rx: ...,   notify_rx: ... }"
      ]
     },
     "execution_count": 4,
     "metadata": {},
     "output_type": "execute_result"
    }
   ],
   "source": [
    "tiface = await tiface_fut\n",
    "tiface"
   ]
  },
  {
   "cell_type": "markdown",
   "id": "10fd49c7",
   "metadata": {},
   "source": [
    "### Run the Transport in background\n",
    "Here is the fun part :)"
   ]
  },
  {
   "cell_type": "code",
   "execution_count": 5,
   "id": "f2da8f18",
   "metadata": {},
   "outputs": [
    {
     "data": {
      "text/plain": [
       "<Future pending cb=[<builtins.PyDoneCallback object at 0x7fa33631d3d0>()]>"
      ]
     },
     "execution_count": 5,
     "metadata": {},
     "output_type": "execute_result"
    }
   ],
   "source": [
    "run_fut = tiface.run()\n",
    "run_fut"
   ]
  },
  {
   "cell_type": "markdown",
   "id": "a07224cc",
   "metadata": {},
   "source": [
    "If the Future completed right away, it means something's fishy."
   ]
  },
  {
   "cell_type": "code",
   "execution_count": 6,
   "id": "219b18d5",
   "metadata": {},
   "outputs": [],
   "source": [
    "assert not run_fut.done()"
   ]
  },
  {
   "cell_type": "markdown",
   "id": "775e8e38",
   "metadata": {},
   "source": [
    "Note the `transport: None` at the beginning of the following `repr` output. It is `None` because `run()` takes the `Transport`."
   ]
  },
  {
   "cell_type": "code",
   "execution_count": 7,
   "id": "ae4bfde5",
   "metadata": {},
   "outputs": [
    {
     "data": {
      "text/plain": [
       "TransportInterface{ transport: None,   cmd_tx: ...,   response_rx: ...,   notify_rx: ... }"
      ]
     },
     "execution_count": 7,
     "metadata": {},
     "output_type": "execute_result"
    }
   ],
   "source": [
    "tiface"
   ]
  },
  {
   "cell_type": "markdown",
   "id": "37113bd1",
   "metadata": {},
   "source": [
    "## Transport Operation"
   ]
  },
  {
   "cell_type": "markdown",
   "id": "ae0b2a27",
   "metadata": {},
   "source": [
    "### New Remote Endpoint"
   ]
  },
  {
   "cell_type": "markdown",
   "id": "3d24f19c",
   "metadata": {},
   "source": [
    "Make a transport command"
   ]
  },
  {
   "cell_type": "code",
   "execution_count": 8,
   "id": "0bed462e",
   "metadata": {},
   "outputs": [
    {
     "data": {
      "text/plain": [
       "Endpoint(157.230.134.224:2016)"
      ]
     },
     "execution_count": 8,
     "metadata": {},
     "output_type": "execute_result"
    }
   ],
   "source": [
    "chococat_endpoint = EndpointW(\"157.230.134.224:2016\")\n",
    "chococat_endpoint"
   ]
  },
  {
   "cell_type": "markdown",
   "id": "977b5f69",
   "metadata": {},
   "source": [
    "**SKIPPING** _The endpoint will timeout after 30 seconds of inactivity (30000ms)._"
   ]
  },
  {
   "cell_type": "code",
   "execution_count": 9,
   "id": "e088f92b",
   "metadata": {},
   "outputs": [],
   "source": [
    "#new_endpoint_transport_cmd = TransportCmdW(\"newendpoint\", endpoint=chococat_endpoint, timeout=30000)\n",
    "#new_endpoint_transport_cmd"
   ]
  },
  {
   "cell_type": "markdown",
   "id": "801bd615",
   "metadata": {},
   "source": [
    "**SKIPPING** _Send the command to the Transport layer and get the response from it._"
   ]
  },
  {
   "cell_type": "code",
   "execution_count": 10,
   "id": "e06283ca",
   "metadata": {},
   "outputs": [],
   "source": [
    "#await tiface.command_response(new_endpoint_transport_cmd)"
   ]
  },
  {
   "cell_type": "markdown",
   "id": "2f0009a4",
   "metadata": {},
   "source": [
    "### Send Packet to Remote"
   ]
  },
  {
   "cell_type": "markdown",
   "id": "4d8b1092",
   "metadata": {},
   "source": [
    "Create a `PacketSettings` wrapper. Note that the unique ID `tid` is optional, and duration is in milliseconds."
   ]
  },
  {
   "cell_type": "code",
   "execution_count": 11,
   "id": "b4177247",
   "metadata": {},
   "outputs": [
    {
     "data": {
      "text/plain": [
       "PacketSettings { tid: ProcessUniqueId { prefix: 0, offset: 0 }, retry_interval: 5ms }"
      ]
     },
     "execution_count": 11,
     "metadata": {},
     "output_type": "execute_result"
    }
   ],
   "source": [
    "packet_settings = PacketSettingsW(5) # retry after 5ms\n",
    "packet_settings"
   ]
  },
  {
   "cell_type": "markdown",
   "id": "337fcae4",
   "metadata": {},
   "source": [
    "Make another transport command"
   ]
  },
  {
   "cell_type": "markdown",
   "id": "69492712",
   "metadata": {},
   "source": [
    "Make a packet"
   ]
  },
  {
   "cell_type": "code",
   "execution_count": 12,
   "id": "91090648",
   "metadata": {},
   "outputs": [],
   "source": [
    "action = RequestActionW(variant=\"connect\", name=\"TransportDebugging\", client_version=\"0.0.666\")"
   ]
  },
  {
   "cell_type": "code",
   "execution_count": 13,
   "id": "38c08d8e",
   "metadata": {},
   "outputs": [
    {
     "data": {
      "text/plain": [
       "Request { sequence: 1, response_ack: None, cookie: None, action: Connect { name: \"TransportDebugging\", client_version: \"0.0.666\" } }"
      ]
     },
     "execution_count": 13,
     "metadata": {},
     "output_type": "execute_result"
    }
   ],
   "source": [
    "pkt = PacketW(variant=\"request\", sequence=1, response_ack=None, action=action, cookie=None)\n",
    "pkt"
   ]
  },
  {
   "cell_type": "code",
   "execution_count": 14,
   "id": "b61cece5",
   "metadata": {},
   "outputs": [
    {
     "data": {
      "text/plain": [
       "SendPackets { endpoint: Endpoint(157.230.134.224:2016), packet_infos: [PacketSettings { tid: ProcessUniqueId { prefix: 0, offset: 0 }, retry_interval: 5ms }], packets: [Request { sequence: 1, response_ack: None, cookie: None, action: Connect { name: \"TransportDebugging\", client_version: \"0.0.666\" } }] }"
      ]
     },
     "execution_count": 14,
     "metadata": {},
     "output_type": "execute_result"
    }
   ],
   "source": [
    "\n",
    "\n",
    "send_packets_cmd = TransportCmdW(\"sendpackets\",\n",
    "                                 endpoint=chococat_endpoint,\n",
    "                                 packet_infos=[packet_settings],\n",
    "                                 packets=[pkt])\n",
    "send_packets_cmd"
   ]
  },
  {
   "cell_type": "markdown",
   "id": "d06e1187",
   "metadata": {},
   "source": [
    "SEND IT :)"
   ]
  },
  {
   "cell_type": "code",
   "execution_count": 15,
   "id": "6463b859",
   "metadata": {},
   "outputs": [],
   "source": [
    "await tiface.command_response(send_packets_cmd)"
   ]
  },
  {
   "cell_type": "markdown",
   "id": "15d11e1c",
   "metadata": {},
   "source": [
    "Get all available notifications from the Transport layer."
   ]
  },
  {
   "cell_type": "code",
   "execution_count": 16,
   "id": "210ee990",
   "metadata": {},
   "outputs": [
    {
     "ename": "Exception",
     "evalue": "transport notify channel was disconnected",
     "output_type": "error",
     "traceback": [
      "\u001b[0;31m---------------------------------------------------------------------------\u001b[0m",
      "\u001b[0;31mException\u001b[0m                                 Traceback (most recent call last)",
      "Cell \u001b[0;32mIn [16], line 1\u001b[0m\n\u001b[0;32m----> 1\u001b[0m notifs \u001b[38;5;241m=\u001b[39m \u001b[43mtiface\u001b[49m\u001b[38;5;241;43m.\u001b[39;49m\u001b[43mget_notifications\u001b[49m\u001b[43m(\u001b[49m\u001b[43m)\u001b[49m\n\u001b[1;32m      2\u001b[0m notifs\n",
      "\u001b[0;31mException\u001b[0m: transport notify channel was disconnected"
     ]
    }
   ],
   "source": [
    "notifs = tiface.get_notifications()\n",
    "notifs"
   ]
  },
  {
   "cell_type": "markdown",
   "id": "eea06077",
   "metadata": {},
   "source": [
    "Drain the notifications queue."
   ]
  },
  {
   "cell_type": "code",
   "execution_count": null,
   "id": "b57b763c",
   "metadata": {},
   "outputs": [],
   "source": [
    "notifs = tiface.get_notifications()\n",
    "notifs"
   ]
  }
 ],
 "metadata": {
  "kernelspec": {
   "display_name": "Python 3 (ipykernel)",
   "language": "python",
   "name": "python3"
  },
  "language_info": {
   "codemirror_mode": {
    "name": "ipython",
    "version": 3
   },
   "file_extension": ".py",
   "mimetype": "text/x-python",
   "name": "python",
   "nbconvert_exporter": "python",
   "pygments_lexer": "ipython3",
   "version": "3.10.8"
  }
 },
 "nbformat": 4,
 "nbformat_minor": 5
}
