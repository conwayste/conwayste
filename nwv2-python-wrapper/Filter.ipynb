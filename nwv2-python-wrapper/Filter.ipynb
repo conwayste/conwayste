{
 "cells": [
  {
   "cell_type": "markdown",
   "id": "aba2c68e",
   "metadata": {},
   "source": [
    "# Boilerplate"
   ]
  },
  {
   "cell_type": "code",
   "execution_count": 1,
   "id": "bf75903d",
   "metadata": {},
   "outputs": [],
   "source": [
    "import sys\n",
    "sys.path.insert(0, 'venv/lib/python3.10/site-packages')\n",
    "import asyncio\n",
    "import time\n",
    "\n",
    "from nwv2_python_wrapper import *\n",
    "import nwv2_python_wrapper"
   ]
  },
  {
   "cell_type": "markdown",
   "id": "4b39dc18",
   "metadata": {},
   "source": [
    "# Run"
   ]
  },
  {
   "cell_type": "markdown",
   "id": "a2c354f3",
   "metadata": {},
   "source": [
    "List all Python wrappers"
   ]
  },
  {
   "cell_type": "code",
   "execution_count": 2,
   "id": "37227bf5",
   "metadata": {},
   "outputs": [
    {
     "data": {
      "text/plain": [
       "['BroadcastChatMessageW',\n",
       " 'EndpointW',\n",
       " 'FilterCmdW',\n",
       " 'FilterInterface',\n",
       " 'FilterModeW',\n",
       " 'FilterNoticeW',\n",
       " 'FilterRspW',\n",
       " 'GameOptionsW',\n",
       " 'GameOutcomeW',\n",
       " 'GameUpdateW',\n",
       " 'GenStateDiffPartW',\n",
       " 'GenStateDiffW',\n",
       " 'NetRegionW',\n",
       " 'PacketSettingsW',\n",
       " 'PacketW',\n",
       " 'PlayerInfoW',\n",
       " 'ProcessUniqueIdW',\n",
       " 'RequestActionW',\n",
       " 'ResponseCodeW',\n",
       " 'RoomListW',\n",
       " 'TransportCmdW',\n",
       " 'TransportInterface',\n",
       " 'TransportNoticeW',\n",
       " 'TransportRspW',\n",
       " 'new_transport_interface']"
      ]
     },
     "execution_count": 2,
     "metadata": {},
     "output_type": "execute_result"
    }
   ],
   "source": [
    "[f for f in dir(nwv2_python_wrapper) if not f.startswith('__') and f != 'nwv2_python_wrapper']"
   ]
  },
  {
   "cell_type": "markdown",
   "id": "e28d4512",
   "metadata": {},
   "source": [
    "## Transport layer setup"
   ]
  },
  {
   "cell_type": "markdown",
   "id": "5d9622f6",
   "metadata": {},
   "source": [
    "Create the Transport layer and run it in the background."
   ]
  },
  {
   "cell_type": "code",
   "execution_count": 3,
   "id": "38346200",
   "metadata": {},
   "outputs": [
    {
     "data": {
      "text/plain": [
       "<Future pending cb=[<builtins.PyDoneCallback object at 0x7fc720ca36d0>()]>"
      ]
     },
     "execution_count": 3,
     "metadata": {},
     "output_type": "execute_result"
    }
   ],
   "source": [
    "tiface = await new_transport_interface(\"0.0.0.0\", 12345)\n",
    "tiface.run()"
   ]
  },
  {
   "cell_type": "markdown",
   "id": "344a2a3f",
   "metadata": {},
   "source": [
    "# Filter layer setup"
   ]
  },
  {
   "cell_type": "code",
   "execution_count": 4,
   "id": "6fa2ab7b",
   "metadata": {},
   "outputs": [],
   "source": [
    "fiface = FilterInterface(tiface, FilterModeW(\"client\"))"
   ]
  },
  {
   "cell_type": "markdown",
   "id": "82345b04",
   "metadata": {},
   "source": [
    "Find methods to run"
   ]
  },
  {
   "cell_type": "code",
   "execution_count": 5,
   "id": "5e2d7d02",
   "metadata": {},
   "outputs": [
    {
     "data": {
      "text/plain": [
       "['command_response', 'get_notifications', 'notif_poll_ms', 'run']"
      ]
     },
     "execution_count": 5,
     "metadata": {},
     "output_type": "execute_result"
    }
   ],
   "source": [
    "[m for m in dir(fiface) if not m.startswith('__')]"
   ]
  },
  {
   "cell_type": "markdown",
   "id": "794804e3",
   "metadata": {},
   "source": [
    "Run Filter!"
   ]
  },
  {
   "cell_type": "code",
   "execution_count": 6,
   "id": "5cda3921",
   "metadata": {},
   "outputs": [],
   "source": [
    "run_fut = fiface.run()\n",
    "\n",
    "# After waiting a bit, the above future should not have completed\n",
    "time.sleep(0.1)\n",
    "assert not run_fut.done()"
   ]
  },
  {
   "cell_type": "markdown",
   "id": "df201e7f",
   "metadata": {},
   "source": [
    "Get the number of milliseconds between calling `get_notifications` on the contained `TransportInterface`. This can also be assigned to at any time. Lower values can cause performance issues, while higher values add latency for anything involving filter notifications."
   ]
  },
  {
   "cell_type": "code",
   "execution_count": 7,
   "id": "911ef513",
   "metadata": {},
   "outputs": [
    {
     "data": {
      "text/plain": [
       "30"
      ]
     },
     "execution_count": 7,
     "metadata": {},
     "output_type": "execute_result"
    }
   ],
   "source": [
    "fiface.notif_poll_ms"
   ]
  },
  {
   "cell_type": "code",
   "execution_count": 9,
   "id": "0e0a435c",
   "metadata": {},
   "outputs": [],
   "source": [
    "fiface.notif_poll_ms = 100"
   ]
  },
  {
   "cell_type": "markdown",
   "id": "f713c42a",
   "metadata": {},
   "source": [
    "## Filter layer operation"
   ]
  },
  {
   "cell_type": "markdown",
   "id": "64824259",
   "metadata": {},
   "source": [
    "### As a client, connect to server"
   ]
  },
  {
   "cell_type": "code",
   "execution_count": 11,
   "id": "2fa6bc96",
   "metadata": {},
   "outputs": [
    {
     "data": {
      "text/plain": [
       "Connect { name: \"FilterNotebookClient6293\", client_version: \"0.0.666\" }"
      ]
     },
     "execution_count": 11,
     "metadata": {},
     "output_type": "execute_result"
    }
   ],
   "source": [
    "import random\n",
    "id = random.randint(1,10000)\n",
    "connect_action = RequestActionW(\"connect\", name=\"FilterNotebookClient{}\".format(id), client_version=\"0.0.666\")\n",
    "connect_action"
   ]
  },
  {
   "cell_type": "code",
   "execution_count": 13,
   "id": "4b818caa",
   "metadata": {},
   "outputs": [
    {
     "data": {
      "text/plain": [
       "SendRequestAction { endpoint: Endpoint(157.230.134.224:2016), action: Connect { name: \"FilterNotebookClient6293\", client_version: \"0.0.666\" } }"
      ]
     },
     "execution_count": 13,
     "metadata": {},
     "output_type": "execute_result"
    }
   ],
   "source": [
    "chococat_endpoint = EndpointW(\"157.230.134.224:2016\")\n",
    "filter_cmd = FilterCmdW(\"sendrequestaction\", endpoint=chococat_endpoint, action=connect_action)\n",
    "filter_cmd"
   ]
  },
  {
   "cell_type": "markdown",
   "id": "b72e9507",
   "metadata": {},
   "source": [
    "# FIXME!!! following two block forever"
   ]
  },
  {
   "cell_type": "code",
   "execution_count": null,
   "id": "cc46b34f",
   "metadata": {},
   "outputs": [],
   "source": [
    "await fiface.command_response(filter_cmd)"
   ]
  },
  {
   "cell_type": "code",
   "execution_count": null,
   "id": "f4243a02",
   "metadata": {},
   "outputs": [],
   "source": [
    "fiface.get_notifications()"
   ]
  }
 ],
 "metadata": {
  "kernelspec": {
   "display_name": "Python 3 (ipykernel)",
   "language": "python",
   "name": "python3"
  },
  "language_info": {
   "codemirror_mode": {
    "name": "ipython",
    "version": 3
   },
   "file_extension": ".py",
   "mimetype": "text/x-python",
   "name": "python",
   "nbconvert_exporter": "python",
   "pygments_lexer": "ipython3",
   "version": "3.10.7"
  }
 },
 "nbformat": 4,
 "nbformat_minor": 5
}
