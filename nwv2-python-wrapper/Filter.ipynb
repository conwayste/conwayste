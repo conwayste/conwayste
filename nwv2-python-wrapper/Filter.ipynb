{
 "cells": [
  {
   "cell_type": "markdown",
   "id": "aba2c68e",
   "metadata": {},
   "source": [
    "# Boilerplate"
   ]
  },
  {
   "cell_type": "code",
   "execution_count": null,
   "id": "bf75903d",
   "metadata": {},
   "outputs": [],
   "source": [
    "import sys\n",
    "sys.path.insert(0, 'venv/lib/python3.10/site-packages')\n",
    "import asyncio\n",
    "import time\n",
    "\n",
    "from nwv2_python_wrapper import *\n",
    "import nwv2_python_wrapper\n",
    "\n",
    "init_logging()"
   ]
  },
  {
   "cell_type": "markdown",
   "id": "4b39dc18",
   "metadata": {},
   "source": [
    "# Run"
   ]
  },
  {
   "cell_type": "markdown",
   "id": "a2c354f3",
   "metadata": {},
   "source": [
    "List all Python wrappers"
   ]
  },
  {
   "cell_type": "code",
   "execution_count": null,
   "id": "37227bf5",
   "metadata": {},
   "outputs": [],
   "source": [
    "[f for f in dir(nwv2_python_wrapper) if not f.startswith('__') and f != 'nwv2_python_wrapper']"
   ]
  },
  {
   "cell_type": "markdown",
   "id": "e28d4512",
   "metadata": {},
   "source": [
    "## Transport layer setup"
   ]
  },
  {
   "cell_type": "markdown",
   "id": "5d9622f6",
   "metadata": {},
   "source": [
    "Create the Transport layer and run it in the background."
   ]
  },
  {
   "cell_type": "code",
   "execution_count": null,
   "id": "38346200",
   "metadata": {},
   "outputs": [],
   "source": [
    "# Temporary workaround until the random port generated from `0` passed in can be obtained\n",
    "SERVER_PORT = 62014\n",
    "local_notebook_server_ept = EndpointW(f\"127.0.0.1:{SERVER_PORT}\")\n",
    "\n",
    "client_tiface = await new_transport_interface(\"0.0.0.0\", 0, TransportModeW(\"client\"))\n",
    "client_tiface.run()\n",
    "\n",
    "server_tiface = await new_transport_interface(\"0.0.0.0\", SERVER_PORT, TransportModeW(\"server\"))\n",
    "server_tiface.run()"
   ]
  },
  {
   "cell_type": "markdown",
   "id": "344a2a3f",
   "metadata": {},
   "source": [
    "# Filter layer setup"
   ]
  },
  {
   "cell_type": "code",
   "execution_count": null,
   "id": "6fa2ab7b",
   "metadata": {},
   "outputs": [],
   "source": [
    "client_fiface = FilterInterface(client_tiface, FilterModeW(\"client\"))\n",
    "server_fiface = FilterInterface(server_tiface, FilterModeW(\"server\"))\n",
    "\n",
    "{\"c\": client_fiface, \"s\": server_fiface}"
   ]
  },
  {
   "cell_type": "markdown",
   "id": "82345b04",
   "metadata": {},
   "source": [
    "Find methods to run"
   ]
  },
  {
   "cell_type": "code",
   "execution_count": null,
   "id": "5e2d7d02",
   "metadata": {},
   "outputs": [],
   "source": [
    "[m for m in dir(client_fiface) if not m.startswith('__')]"
   ]
  },
  {
   "cell_type": "markdown",
   "id": "794804e3",
   "metadata": {},
   "source": [
    "## Run Client and Server Filter!"
   ]
  },
  {
   "cell_type": "code",
   "execution_count": null,
   "id": "5cda3921",
   "metadata": {},
   "outputs": [],
   "source": [
    "client_fiface_fut = client_fiface.run()\n",
    "server_fiface_fut = server_fiface.run()\n",
    "\n",
    "# After waiting a bit, the above futures should not have completed\n",
    "time.sleep(0.1)\n",
    "assert not client_fiface_fut.done() and not server_fiface_fut.done()"
   ]
  },
  {
   "cell_type": "markdown",
   "id": "f713c42a",
   "metadata": {},
   "source": [
    "# Filter layer operation"
   ]
  },
  {
   "cell_type": "markdown",
   "id": "765417e7",
   "metadata": {},
   "source": [
    "## Change the server status to something meaningful"
   ]
  },
  {
   "cell_type": "code",
   "execution_count": null,
   "id": "25d5df41",
   "metadata": {},
   "outputs": [],
   "source": [
    "server_name = \"Local Conwayste Server (notebook)\"\n",
    "server_version = \"1.2.34.56\"\n",
    "player_count = 8675309\n",
    "room_count = 9001\n",
    "await server_fiface.command_response(FilterCmdW(\"changeserverstatus\",\n",
    "                                                server_name=server_name,\n",
    "                                                server_version=server_version,\n",
    "                                                player_count=player_count,\n",
    "                                                room_count=room_count))"
   ]
  },
  {
   "cell_type": "markdown",
   "id": "17a3b5a9",
   "metadata": {},
   "source": [
    "## As a client, connect to server"
   ]
  },
  {
   "cell_type": "markdown",
   "id": "b74f5824",
   "metadata": {},
   "source": [
    "### First, resolve DNS for Chococat"
   ]
  },
  {
   "cell_type": "code",
   "execution_count": null,
   "id": "73e54e74",
   "metadata": {},
   "outputs": [],
   "source": [
    "import socket\n",
    "choco_ip = socket.gethostbyname_ex('chococat.conwayste.rs')[-1][0]\n",
    "choco_ept  = EndpointW(f\"{choco_ip}:2016\")\n",
    "choco_ept"
   ]
  },
  {
   "cell_type": "markdown",
   "id": "08b3e81c",
   "metadata": {},
   "source": [
    "### Next create a \"Connect\" RequestAction"
   ]
  },
  {
   "cell_type": "code",
   "execution_count": null,
   "id": "6af62415",
   "metadata": {},
   "outputs": [],
   "source": [
    "\n",
    "import random\n",
    "id = random.randint(1,10000)\n",
    "connect_action = RequestActionW(\"connect\",\n",
    "                                name=\"FilterNotebookClient{}\".format(id),\n",
    "                                client_version=\"0.0.666\")\n",
    "connect_action"
   ]
  },
  {
   "cell_type": "markdown",
   "id": "fd90f09b",
   "metadata": {},
   "source": [
    "### Now, actually send it!\n",
    "\n",
    "**Helpful tip**: you can substitute `chococat_ept` for `local_notebook_server_ept` and vice versa. This controls whether you are talking to the official Conwayste server (Chococat) or a notebook-local one."
   ]
  },
  {
   "cell_type": "code",
   "execution_count": null,
   "id": "3b3a1776",
   "metadata": {},
   "outputs": [],
   "source": [
    "# CHANGE THIS IF YOU WANT\n",
    "server_ept = local_notebook_server_ept\n",
    "\n",
    "# Just a convenience function to make all this easier\n",
    "async def request_action_to_filter(req_action, endpoint=server_ept):\n",
    "    filter_cmd = FilterCmdW(\"sendrequestaction\", endpoint=endpoint, action=req_action)\n",
    "    return await client_fiface.command_response(filter_cmd)\n",
    "\n",
    "await request_action_to_filter(connect_action)"
   ]
  },
  {
   "cell_type": "markdown",
   "id": "d7a6b782",
   "metadata": {},
   "source": [
    "## As a server, handle the incoming Connect\n",
    "\n",
    "The notebook is acting as the server app layer here."
   ]
  },
  {
   "cell_type": "code",
   "execution_count": null,
   "id": "9fba4daf",
   "metadata": {},
   "outputs": [],
   "source": [
    "time.sleep(0.1)\n",
    "\n",
    "svr_notifs = server_fiface.get_notifications()\n",
    "assert svr_notifs[0].variant == 'ClientAuthRequest'\n",
    "auth_req = svr_notifs[0]\n",
    "client_ept_from_connect = auth_req.endpoint\n",
    "[client_ept_from_connect, auth_req]"
   ]
  },
  {
   "cell_type": "markdown",
   "id": "271d5c57",
   "metadata": {},
   "source": [
    "Make a cookie and send it back in an `LoggedIn` response code to the client. The filter generates this upon submitting a `CompleteAuthRequest` filter action with a `LoggedIn` `AuthDecision`."
   ]
  },
  {
   "cell_type": "code",
   "execution_count": null,
   "id": "3674bcdd",
   "metadata": {},
   "outputs": [],
   "source": [
    "cookie = 'FakeCookieNotReallyDelicious'\n",
    "\n",
    "decision = AuthDecisionW('loggedin', cookie=cookie, server_version='0.0.667')\n",
    "\n",
    "await server_fiface.command_response(FilterCmdW(\"completeauthrequest\",\n",
    "                                                endpoint=client_ept_from_connect,\n",
    "                                                decision=decision))"
   ]
  },
  {
   "cell_type": "markdown",
   "id": "b2cba573",
   "metadata": {},
   "source": [
    "## As a client, get notifications (the `LoggedIn` response code)"
   ]
  },
  {
   "cell_type": "code",
   "execution_count": null,
   "id": "22e24814",
   "metadata": {},
   "outputs": [],
   "source": [
    "time.sleep(0.05)\n",
    "client_fiface.get_notifications()"
   ]
  },
  {
   "cell_type": "code",
   "execution_count": null,
   "id": "ced0db80",
   "metadata": {},
   "outputs": [],
   "source": [
    "new_response_code = _[0]\n",
    "new_response_code"
   ]
  },
  {
   "cell_type": "markdown",
   "id": "a80703a0",
   "metadata": {},
   "source": [
    "Get cookie"
   ]
  },
  {
   "cell_type": "code",
   "execution_count": null,
   "id": "b249bbc9",
   "metadata": {},
   "outputs": [],
   "source": [
    "cookie = new_response_code.response_code.cookie\n",
    "cookie"
   ]
  },
  {
   "cell_type": "markdown",
   "id": "85d6219a",
   "metadata": {},
   "source": [
    "## As a server, get notifications"
   ]
  },
  {
   "cell_type": "code",
   "execution_count": null,
   "id": "2bde509e",
   "metadata": {},
   "outputs": [],
   "source": [
    "time.sleep(0.05)\n",
    "notifs = server_fiface.get_notifications()"
   ]
  },
  {
   "cell_type": "markdown",
   "id": "a473d254",
   "metadata": {},
   "source": [
    "## As a client, join a room"
   ]
  },
  {
   "cell_type": "markdown",
   "id": "b645dda2",
   "metadata": {},
   "source": [
    "### Join a room"
   ]
  },
  {
   "cell_type": "code",
   "execution_count": null,
   "id": "abf8bcd1",
   "metadata": {},
   "outputs": [],
   "source": [
    "await request_action_to_filter(RequestActionW(\"joinroom\", room_name=\"general\"))"
   ]
  },
  {
   "cell_type": "code",
   "execution_count": null,
   "id": "d34eac0d",
   "metadata": {},
   "outputs": [],
   "source": [
    "# not expecting any\n",
    "client_notifs = client_fiface.get_notifications()\n",
    "print(client_notifs)\n",
    "assert len(client_notifs) == 0"
   ]
  },
  {
   "cell_type": "markdown",
   "id": "8adff577",
   "metadata": {},
   "source": [
    "## As a server..."
   ]
  },
  {
   "cell_type": "markdown",
   "id": "89addc92",
   "metadata": {},
   "source": [
    "### Get notifications\n",
    "Should be a JoinRoom"
   ]
  },
  {
   "cell_type": "code",
   "execution_count": null,
   "id": "2348c64e",
   "metadata": {
    "scrolled": true
   },
   "outputs": [],
   "source": [
    "time.sleep(0.05)\n",
    "notifs = server_fiface.get_notifications()\n",
    "notifs"
   ]
  },
  {
   "cell_type": "markdown",
   "id": "c37f7e74",
   "metadata": {},
   "source": [
    "### Send JoinedRoom"
   ]
  },
  {
   "cell_type": "code",
   "execution_count": null,
   "id": "1f7a451c",
   "metadata": {
    "scrolled": true
   },
   "outputs": [],
   "source": [
    "code = ResponseCodeW(\"joinedroom\", room_name=\"general\") # ToDo: get room name from notifs\n",
    "await server_fiface.command_response(FilterCmdW(\"sendresponsecode\",\n",
    "                                                endpoint=client_ept_from_connect,\n",
    "                                                code=code))"
   ]
  },
  {
   "cell_type": "markdown",
   "id": "f19f4bed",
   "metadata": {},
   "source": [
    "### Send a GameUpdate"
   ]
  },
  {
   "cell_type": "code",
   "execution_count": null,
   "id": "f7482c13",
   "metadata": {},
   "outputs": [],
   "source": [
    "game_updates = [GameUpdateW(\"gamenotification\", msg=\"now we are playing for CASH MONEY ;)\")]\n",
    "await server_fiface.command_response(FilterCmdW(\"sendgameupdates\",\n",
    "                                                endpoints=[client_ept_from_connect], updates=game_updates))"
   ]
  },
  {
   "cell_type": "markdown",
   "id": "13cb01ed",
   "metadata": {},
   "source": [
    "## As a client..."
   ]
  },
  {
   "cell_type": "markdown",
   "id": "aacd41a5",
   "metadata": {},
   "source": [
    "### Get notifications"
   ]
  },
  {
   "cell_type": "markdown",
   "id": "fbf5d1b7",
   "metadata": {},
   "source": [
    "Expecting a joined room and a game notification"
   ]
  },
  {
   "cell_type": "code",
   "execution_count": null,
   "id": "72d90f7a",
   "metadata": {},
   "outputs": [],
   "source": [
    "time.sleep(0.05)\n",
    "client_fiface.get_notifications()"
   ]
  }
 ],
 "metadata": {
  "kernelspec": {
   "display_name": "Python 3 (ipykernel)",
   "language": "python",
   "name": "python3"
  },
  "language_info": {
   "codemirror_mode": {
    "name": "ipython",
    "version": 3
   },
   "file_extension": ".py",
   "mimetype": "text/x-python",
   "name": "python",
   "nbconvert_exporter": "python",
   "pygments_lexer": "ipython3",
   "version": "3.10.10"
  }
 },
 "nbformat": 4,
 "nbformat_minor": 5
}
