{
 "cells": [
  {
   "cell_type": "markdown",
   "id": "aba2c68e",
   "metadata": {},
   "source": [
    "# Boilerplate"
   ]
  },
  {
   "cell_type": "code",
   "execution_count": 1,
   "id": "bf75903d",
   "metadata": {},
   "outputs": [],
   "source": [
    "import sys\n",
    "sys.path.insert(0, 'venv/lib/python3.10/site-packages')\n",
    "import asyncio\n",
    "import time\n",
    "\n",
    "from nwv2_python_wrapper import *\n",
    "import nwv2_python_wrapper"
   ]
  },
  {
   "cell_type": "markdown",
   "id": "4b39dc18",
   "metadata": {},
   "source": [
    "# Run"
   ]
  },
  {
   "cell_type": "markdown",
   "id": "a2c354f3",
   "metadata": {},
   "source": [
    "List all Python wrappers"
   ]
  },
  {
   "cell_type": "code",
   "execution_count": 2,
   "id": "37227bf5",
   "metadata": {},
   "outputs": [
    {
     "data": {
      "text/plain": [
       "['BroadcastChatMessageW',\n",
       " 'EndpointW',\n",
       " 'FilterCmdW',\n",
       " 'FilterInterface',\n",
       " 'FilterModeW',\n",
       " 'FilterNoticeW',\n",
       " 'FilterRspW',\n",
       " 'GameOptionsW',\n",
       " 'GameOutcomeW',\n",
       " 'GameUpdateW',\n",
       " 'GenStateDiffPartW',\n",
       " 'GenStateDiffW',\n",
       " 'NetRegionW',\n",
       " 'PacketSettingsW',\n",
       " 'PacketW',\n",
       " 'PlayerInfoW',\n",
       " 'ProcessUniqueIdW',\n",
       " 'RequestActionW',\n",
       " 'ResponseCodeW',\n",
       " 'RoomListW',\n",
       " 'TransportCmdW',\n",
       " 'TransportInterface',\n",
       " 'TransportNoticeW',\n",
       " 'TransportRspW',\n",
       " 'new_transport_interface']"
      ]
     },
     "execution_count": 2,
     "metadata": {},
     "output_type": "execute_result"
    }
   ],
   "source": [
    "[f for f in dir(nwv2_python_wrapper) if not f.startswith('__') and f != 'nwv2_python_wrapper']"
   ]
  },
  {
   "cell_type": "markdown",
   "id": "e28d4512",
   "metadata": {},
   "source": [
    "## Transport layer setup"
   ]
  },
  {
   "cell_type": "markdown",
   "id": "5d9622f6",
   "metadata": {},
   "source": [
    "Create the Transport layer and run it in the background."
   ]
  },
  {
   "cell_type": "code",
   "execution_count": 3,
   "id": "38346200",
   "metadata": {},
   "outputs": [
    {
     "data": {
      "text/plain": [
       "<Future pending cb=[<builtins.PyDoneCallback object at 0x7fd92721b7f0>()]>"
      ]
     },
     "execution_count": 3,
     "metadata": {},
     "output_type": "execute_result"
    }
   ],
   "source": [
    "tiface = await new_transport_interface(\"0.0.0.0\", 12345)\n",
    "tiface.run()"
   ]
  },
  {
   "cell_type": "markdown",
   "id": "344a2a3f",
   "metadata": {},
   "source": [
    "# Filter layer setup"
   ]
  },
  {
   "cell_type": "code",
   "execution_count": 4,
   "id": "6fa2ab7b",
   "metadata": {},
   "outputs": [],
   "source": [
    "fiface = FilterInterface(tiface, FilterModeW(\"client\"))"
   ]
  },
  {
   "cell_type": "markdown",
   "id": "82345b04",
   "metadata": {},
   "source": [
    "Find methods to run"
   ]
  },
  {
   "cell_type": "code",
   "execution_count": 5,
   "id": "5e2d7d02",
   "metadata": {},
   "outputs": [
    {
     "data": {
      "text/plain": [
       "['command_response', 'get_notifications', 'notif_poll_ms', 'run']"
      ]
     },
     "execution_count": 5,
     "metadata": {},
     "output_type": "execute_result"
    }
   ],
   "source": [
    "[m for m in dir(fiface) if not m.startswith('__')]"
   ]
  },
  {
   "cell_type": "markdown",
   "id": "794804e3",
   "metadata": {},
   "source": [
    "Run Filter!"
   ]
  },
  {
   "cell_type": "code",
   "execution_count": 6,
   "id": "5cda3921",
   "metadata": {},
   "outputs": [],
   "source": [
    "run_fut = fiface.run()\n",
    "\n",
    "# After waiting a bit, the above future should not have completed\n",
    "time.sleep(0.1)\n",
    "assert not run_fut.done()"
   ]
  },
  {
   "cell_type": "markdown",
   "id": "df201e7f",
   "metadata": {},
   "source": [
    "Get the number of milliseconds between calling `get_notifications` on the contained `TransportInterface`. This can also be assigned to at any time. Lower values can cause performance issues, while higher values add latency for anything involving filter notifications."
   ]
  },
  {
   "cell_type": "code",
   "execution_count": 7,
   "id": "911ef513",
   "metadata": {},
   "outputs": [
    {
     "data": {
      "text/plain": [
       "30"
      ]
     },
     "execution_count": 7,
     "metadata": {},
     "output_type": "execute_result"
    }
   ],
   "source": [
    "fiface.notif_poll_ms"
   ]
  },
  {
   "cell_type": "code",
   "execution_count": 8,
   "id": "0e0a435c",
   "metadata": {},
   "outputs": [],
   "source": [
    "fiface.notif_poll_ms = 100"
   ]
  },
  {
   "cell_type": "markdown",
   "id": "f713c42a",
   "metadata": {},
   "source": [
    "## Filter layer operation"
   ]
  },
  {
   "cell_type": "markdown",
   "id": "17a3b5a9",
   "metadata": {},
   "source": [
    "### As a client, connect to server"
   ]
  },
  {
   "cell_type": "code",
   "execution_count": 9,
   "id": "6af62415",
   "metadata": {},
   "outputs": [
    {
     "data": {
      "text/plain": [
       "Connect { name: \"FilterNotebookClient7910\", client_version: \"0.0.666\" }"
      ]
     },
     "execution_count": 9,
     "metadata": {},
     "output_type": "execute_result"
    }
   ],
   "source": [
    "import random\n",
    "id = random.randint(1,10000)\n",
    "connect_action = RequestActionW(\"connect\", name=\"FilterNotebookClient{}\".format(id), client_version=\"0.0.666\")\n",
    "connect_action"
   ]
  },
  {
   "cell_type": "code",
   "execution_count": 10,
   "id": "3b3a1776",
   "metadata": {},
   "outputs": [
    {
     "data": {
      "text/plain": [
       "SendRequestAction { endpoint: Endpoint(157.230.134.224:2016), action: Connect { name: \"FilterNotebookClient7910\", client_version: \"0.0.666\" } }"
      ]
     },
     "execution_count": 10,
     "metadata": {},
     "output_type": "execute_result"
    }
   ],
   "source": [
    "chococat_endpoint = EndpointW(\"157.230.134.224:2016\")\n",
    "filter_cmd = FilterCmdW(\"sendrequestaction\", endpoint=chococat_endpoint, action=connect_action)\n",
    "filter_cmd"
   ]
  },
  {
   "cell_type": "code",
   "execution_count": 11,
   "id": "7b4b5724",
   "metadata": {},
   "outputs": [
    {
     "data": {
      "text/plain": [
       "Accepted"
      ]
     },
     "execution_count": 11,
     "metadata": {},
     "output_type": "execute_result"
    }
   ],
   "source": [
    "await fiface.command_response(filter_cmd)"
   ]
  },
  {
   "cell_type": "code",
   "execution_count": 12,
   "id": "22e24814",
   "metadata": {},
   "outputs": [
    {
     "data": {
      "text/plain": [
       "[NewResponseCode { endpoint: Endpoint(157.230.134.224:2016), code: LoggedIn { cookie: \"c-csEg8dNrfRI1Ql\", server_version: \"0.3.5\" } }]"
      ]
     },
     "execution_count": 12,
     "metadata": {},
     "output_type": "execute_result"
    }
   ],
   "source": [
    "fiface.get_notifications()"
   ]
  },
  {
   "cell_type": "code",
   "execution_count": 13,
   "id": "ced0db80",
   "metadata": {},
   "outputs": [
    {
     "data": {
      "text/plain": [
       "NewResponseCode { endpoint: Endpoint(157.230.134.224:2016), code: LoggedIn { cookie: \"c-csEg8dNrfRI1Ql\", server_version: \"0.3.5\" } }"
      ]
     },
     "execution_count": 13,
     "metadata": {},
     "output_type": "execute_result"
    }
   ],
   "source": [
    "new_response_code = _[0]\n",
    "new_response_code"
   ]
  },
  {
   "cell_type": "code",
   "execution_count": 14,
   "id": "b249bbc9",
   "metadata": {},
   "outputs": [
    {
     "data": {
      "text/plain": [
       "'c-csEg8dNrfRI1Ql'"
      ]
     },
     "execution_count": 14,
     "metadata": {},
     "output_type": "execute_result"
    }
   ],
   "source": [
    "cookie = new_response_code.response_code.cookie\n",
    "cookie"
   ]
  },
  {
   "cell_type": "markdown",
   "id": "dc6ea9ec",
   "metadata": {},
   "source": [
    "### Convenience function"
   ]
  },
  {
   "cell_type": "code",
   "execution_count": 15,
   "id": "49b15c8b",
   "metadata": {},
   "outputs": [],
   "source": [
    "async def request_action_to_filter(req_action, endpoint=chococat_endpoint):\n",
    "    filter_cmd = FilterCmdW(\"sendrequestaction\", endpoint=endpoint, action=req_action)\n",
    "    return await fiface.command_response(filter_cmd)"
   ]
  },
  {
   "cell_type": "markdown",
   "id": "b645dda2",
   "metadata": {},
   "source": [
    "### Join a room"
   ]
  },
  {
   "cell_type": "code",
   "execution_count": 16,
   "id": "abf8bcd1",
   "metadata": {},
   "outputs": [
    {
     "data": {
      "text/plain": [
       "Accepted"
      ]
     },
     "execution_count": 16,
     "metadata": {},
     "output_type": "execute_result"
    }
   ],
   "source": [
    "await request_action_to_filter(RequestActionW(\"joinroom\", room_name=\"general\"))"
   ]
  },
  {
   "cell_type": "markdown",
   "id": "6480d75d",
   "metadata": {},
   "source": [
    "Due to a bug in the Netwayste v1 server, there is a `BadRequest { error_msg: \"cannot join game because in-game\" }` filter notice following the `JoinedRoom` filter notice, below. Apparently, it's caused by a packet retry of the `JoinRoom` request action by the Transport layer, which is erroneously being treated as a second request action by the NWv1 server. It's erroneous because the request sequence is the same, so it should have been dropped by the server."
   ]
  },
  {
   "cell_type": "code",
   "execution_count": 17,
   "id": "d34eac0d",
   "metadata": {},
   "outputs": [
    {
     "data": {
      "text/plain": [
       "[NewResponseCode { endpoint: Endpoint(157.230.134.224:2016), code: JoinedRoom { room_name: \"general\" } },\n",
       " NewResponseCode { endpoint: Endpoint(157.230.134.224:2016), code: BadRequest { error_msg: \"cannot join game because in-game\" } }]"
      ]
     },
     "execution_count": 17,
     "metadata": {},
     "output_type": "execute_result"
    }
   ],
   "source": [
    "fiface.get_notifications()"
   ]
  }
 ],
 "metadata": {
  "kernelspec": {
   "display_name": "Python 3 (ipykernel)",
   "language": "python",
   "name": "python3"
  },
  "language_info": {
   "codemirror_mode": {
    "name": "ipython",
    "version": 3
   },
   "file_extension": ".py",
   "mimetype": "text/x-python",
   "name": "python",
   "nbconvert_exporter": "python",
   "pygments_lexer": "ipython3",
   "version": "3.10.8"
  }
 },
 "nbformat": 4,
 "nbformat_minor": 5
}
