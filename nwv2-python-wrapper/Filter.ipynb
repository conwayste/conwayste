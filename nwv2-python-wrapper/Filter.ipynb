{
 "cells": [
  {
   "cell_type": "markdown",
   "id": "aba2c68e",
   "metadata": {},
   "source": [
    "# Boilerplate"
   ]
  },
  {
   "cell_type": "code",
   "execution_count": 1,
   "id": "bf75903d",
   "metadata": {},
   "outputs": [],
   "source": [
    "import sys\n",
    "sys.path.insert(0, 'venv/lib/python3.10/site-packages')\n",
    "import asyncio\n",
    "\n",
    "from nwv2_python_wrapper import *\n",
    "import nwv2_python_wrapper"
   ]
  },
  {
   "cell_type": "markdown",
   "id": "4b39dc18",
   "metadata": {},
   "source": [
    "# Run"
   ]
  },
  {
   "cell_type": "markdown",
   "id": "a2c354f3",
   "metadata": {},
   "source": [
    "List all Python wrappers"
   ]
  },
  {
   "cell_type": "code",
   "execution_count": 2,
   "id": "37227bf5",
   "metadata": {},
   "outputs": [
    {
     "data": {
      "text/plain": [
       "['EndpointW',\n",
       " 'FilterInterface',\n",
       " 'FilterModeW',\n",
       " 'PacketSettingsW',\n",
       " 'PacketW',\n",
       " 'ProcessUniqueIdW',\n",
       " 'RequestActionW',\n",
       " 'TransportCmdW',\n",
       " 'TransportInterface',\n",
       " 'TransportNoticeW',\n",
       " 'TransportRspW',\n",
       " 'new_transport_interface']"
      ]
     },
     "execution_count": 2,
     "metadata": {},
     "output_type": "execute_result"
    }
   ],
   "source": [
    "[f for f in dir(nwv2_python_wrapper) if not f.startswith('__') and f != 'nwv2_python_wrapper']"
   ]
  },
  {
   "cell_type": "markdown",
   "id": "e28d4512",
   "metadata": {},
   "source": [
    "## Transport layer setup"
   ]
  },
  {
   "cell_type": "markdown",
   "id": "5d9622f6",
   "metadata": {},
   "source": [
    "Create the Transport layer and run it in the background."
   ]
  },
  {
   "cell_type": "code",
   "execution_count": 3,
   "id": "38346200",
   "metadata": {},
   "outputs": [
    {
     "data": {
      "text/plain": [
       "<Future pending cb=[<builtins.PyDoneCallback object at 0x7f17404038b0>()]>"
      ]
     },
     "execution_count": 3,
     "metadata": {},
     "output_type": "execute_result"
    }
   ],
   "source": [
    "tiface = await new_transport_interface(\"0.0.0.0\", 12345)\n",
    "tiface.run()"
   ]
  },
  {
   "cell_type": "markdown",
   "id": "344a2a3f",
   "metadata": {},
   "source": [
    "# Filter layer setup"
   ]
  },
  {
   "cell_type": "code",
   "execution_count": 5,
   "id": "6fa2ab7b",
   "metadata": {},
   "outputs": [],
   "source": [
    "fiface = FilterInterface(tiface, FilterModeW(\"client\"))"
   ]
  },
  {
   "cell_type": "code",
   "execution_count": 7,
   "id": "41ce279c",
   "metadata": {},
   "outputs": [
    {
     "data": {
      "text/plain": [
       "['__class__',\n",
       " '__delattr__',\n",
       " '__dir__',\n",
       " '__doc__',\n",
       " '__eq__',\n",
       " '__format__',\n",
       " '__ge__',\n",
       " '__getattribute__',\n",
       " '__gt__',\n",
       " '__hash__',\n",
       " '__init__',\n",
       " '__init_subclass__',\n",
       " '__le__',\n",
       " '__lt__',\n",
       " '__module__',\n",
       " '__ne__',\n",
       " '__new__',\n",
       " '__reduce__',\n",
       " '__reduce_ex__',\n",
       " '__repr__',\n",
       " '__setattr__',\n",
       " '__sizeof__',\n",
       " '__str__',\n",
       " '__subclasshook__',\n",
       " 'run']"
      ]
     },
     "execution_count": 7,
     "metadata": {},
     "output_type": "execute_result"
    }
   ],
   "source": [
    "dir(fiface)"
   ]
  }
 ],
 "metadata": {
  "kernelspec": {
   "display_name": "Python 3 (ipykernel)",
   "language": "python",
   "name": "python3"
  },
  "language_info": {
   "codemirror_mode": {
    "name": "ipython",
    "version": 3
   },
   "file_extension": ".py",
   "mimetype": "text/x-python",
   "name": "python",
   "nbconvert_exporter": "python",
   "pygments_lexer": "ipython3",
   "version": "3.10.6"
  }
 },
 "nbformat": 4,
 "nbformat_minor": 5
}
