{
 "cells": [
  {
   "cell_type": "markdown",
   "id": "aba2c68e",
   "metadata": {},
   "source": [
    "# Boilerplate"
   ]
  },
  {
   "cell_type": "code",
   "execution_count": 1,
   "id": "bf75903d",
   "metadata": {},
   "outputs": [],
   "source": [
    "import sys\n",
    "sys.path.insert(0, 'venv/lib/python3.10/site-packages')\n",
    "import asyncio\n",
    "\n",
    "from nwv2_python_wrapper import *\n",
    "import nwv2_python_wrapper"
   ]
  },
  {
   "cell_type": "markdown",
   "id": "4b39dc18",
   "metadata": {},
   "source": [
    "# Run"
   ]
  },
  {
   "cell_type": "markdown",
   "id": "a2c354f3",
   "metadata": {},
   "source": [
    "List all Python wrappers"
   ]
  },
  {
   "cell_type": "code",
   "execution_count": 2,
   "id": "37227bf5",
   "metadata": {},
   "outputs": [
    {
     "data": {
      "text/plain": [
       "['EndpointW',\n",
       " 'FilterInterface',\n",
       " 'FilterModeW',\n",
       " 'PacketSettingsW',\n",
       " 'PacketW',\n",
       " 'ProcessUniqueIdW',\n",
       " 'RequestActionW',\n",
       " 'TransportCmdW',\n",
       " 'TransportInterface',\n",
       " 'TransportNoticeW',\n",
       " 'TransportRspW',\n",
       " 'new_transport_interface']"
      ]
     },
     "execution_count": 2,
     "metadata": {},
     "output_type": "execute_result"
    }
   ],
   "source": [
    "[f for f in dir(nwv2_python_wrapper) if not f.startswith('__') and f != 'nwv2_python_wrapper']"
   ]
  },
  {
   "cell_type": "markdown",
   "id": "e28d4512",
   "metadata": {},
   "source": [
    "## Transport layer setup"
   ]
  },
  {
   "cell_type": "markdown",
   "id": "5d9622f6",
   "metadata": {},
   "source": [
    "Create the Transport layer and run it in the background."
   ]
  },
  {
   "cell_type": "code",
   "execution_count": 3,
   "id": "38346200",
   "metadata": {},
   "outputs": [
    {
     "data": {
      "text/plain": [
       "<Future pending cb=[<builtins.PyDoneCallback object at 0x7f3296053510>()]>"
      ]
     },
     "execution_count": 3,
     "metadata": {},
     "output_type": "execute_result"
    }
   ],
   "source": [
    "tiface = await new_transport_interface(\"0.0.0.0\", 12345)\n",
    "tiface.run()"
   ]
  },
  {
   "cell_type": "markdown",
   "id": "344a2a3f",
   "metadata": {},
   "source": [
    "# Filter layer setup"
   ]
  },
  {
   "cell_type": "code",
   "execution_count": 4,
   "id": "6fa2ab7b",
   "metadata": {},
   "outputs": [],
   "source": [
    "fiface = FilterInterface(tiface, FilterModeW(\"client\"))"
   ]
  },
  {
   "cell_type": "markdown",
   "id": "82345b04",
   "metadata": {},
   "source": [
    "Find methods to run"
   ]
  },
  {
   "cell_type": "code",
   "execution_count": 7,
   "id": "5e2d7d02",
   "metadata": {},
   "outputs": [
    {
     "data": {
      "text/plain": [
       "['run']"
      ]
     },
     "execution_count": 7,
     "metadata": {},
     "output_type": "execute_result"
    }
   ],
   "source": [
    "[m for m in dir(fiface) if not m.startswith('__')]"
   ]
  },
  {
   "cell_type": "markdown",
   "id": "794804e3",
   "metadata": {},
   "source": [
    "Run Filter!"
   ]
  },
  {
   "cell_type": "code",
   "execution_count": 8,
   "id": "5cda3921",
   "metadata": {},
   "outputs": [
    {
     "name": "stderr",
     "output_type": "stream",
     "text": [
      "thread '<unnamed>' panicked at 'there is no reactor running, must be called from the context of a Tokio 1.x runtime', nwv2-python-wrapper/src/filter/mod.rs:113:9\n",
      "stack backtrace:\n",
      "   0: rust_begin_unwind\n",
      "             at /rustc/a55dd71d5fb0ec5a6a3a9e8c27b2127ba491ce52/library/std/src/panicking.rs:584:5\n",
      "   1: core::panicking::panic_fmt\n",
      "             at /rustc/a55dd71d5fb0ec5a6a3a9e8c27b2127ba491ce52/library/core/src/panicking.rs:142:14\n",
      "   2: core::panicking::panic_display\n",
      "             at /rustc/a55dd71d5fb0ec5a6a3a9e8c27b2127ba491ce52/library/core/src/panicking.rs:72:5\n",
      "   3: core::panicking::panic_str\n",
      "             at /rustc/a55dd71d5fb0ec5a6a3a9e8c27b2127ba491ce52/library/core/src/panicking.rs:56:5\n",
      "   4: core::option::expect_failed\n",
      "             at /rustc/a55dd71d5fb0ec5a6a3a9e8c27b2127ba491ce52/library/core/src/option.rs:1874:5\n",
      "   5: core::option::Option<T>::expect\n",
      "             at /rustc/a55dd71d5fb0ec5a6a3a9e8c27b2127ba491ce52/library/core/src/option.rs:738:21\n",
      "   6: tokio::task::spawn::spawn_inner\n",
      "             at /home/aaron/.cargo/registry/src/github.com-1ecc6299db9ec823/tokio-1.21.1/src/task/spawn.rs:147:28\n",
      "   7: tokio::task::spawn::spawn\n",
      "             at /home/aaron/.cargo/registry/src/github.com-1ecc6299db9ec823/tokio-1.21.1/src/task/spawn.rs:135:13\n",
      "   8: nwv2_python_wrapper::filter::FilterInterface::run\n",
      "             at ./src/filter/mod.rs:113:9\n",
      "   9: nwv2_python_wrapper::filter::_::<impl pyo3::impl_::pyclass::PyMethods<nwv2_python_wrapper::filter::FilterInterface> for pyo3::impl_::pyclass::PyClassImplCollector<nwv2_python_wrapper::filter::FilterInterface>>::py_methods::ITEMS::__wrap::{{closure}}\n",
      "             at ./src/filter/mod.rs:71:1\n",
      "  10: std::panicking::try::do_call\n",
      "             at /rustc/a55dd71d5fb0ec5a6a3a9e8c27b2127ba491ce52/library/std/src/panicking.rs:492:40\n",
      "  11: std::panicking::try\n",
      "             at /rustc/a55dd71d5fb0ec5a6a3a9e8c27b2127ba491ce52/library/std/src/panicking.rs:456:19\n",
      "  12: std::panic::catch_unwind\n",
      "             at /rustc/a55dd71d5fb0ec5a6a3a9e8c27b2127ba491ce52/library/std/src/panic.rs:137:14\n",
      "  13: nwv2_python_wrapper::filter::_::<impl pyo3::impl_::pyclass::PyMethods<nwv2_python_wrapper::filter::FilterInterface> for pyo3::impl_::pyclass::PyClassImplCollector<nwv2_python_wrapper::filter::FilterInterface>>::py_methods::ITEMS::__wrap\n",
      "             at ./src/filter/mod.rs:71:1\n",
      "  14: <unknown>\n",
      "  15: _PyEval_EvalFrameDefault\n",
      "  16: <unknown>\n",
      "  17: _PyEval_EvalFrameDefault\n",
      "  18: <unknown>\n",
      "  19: _PyEval_EvalFrameDefault\n",
      "  20: <unknown>\n",
      "  21: _PyEval_EvalFrameDefault\n",
      "  22: <unknown>\n",
      "  23: <unknown>\n",
      "  24: _PyObject_MakeTpCall\n",
      "  25: <unknown>\n",
      "  26: <unknown>\n",
      "  27: _PyEval_EvalFrameDefault\n",
      "  28: _PyFunction_Vectorcall\n",
      "  29: _PyEval_EvalFrameDefault\n",
      "  30: _PyFunction_Vectorcall\n",
      "  31: _PyEval_EvalFrameDefault\n",
      "  32: _PyFunction_Vectorcall\n",
      "  33: _PyEval_EvalFrameDefault\n",
      "  34: _PyFunction_Vectorcall\n",
      "  35: _PyEval_EvalFrameDefault\n",
      "  36: _PyFunction_Vectorcall\n",
      "  37: _PyEval_EvalFrameDefault\n",
      "  38: <unknown>\n",
      "  39: _PyEval_EvalFrameDefault\n",
      "  40: <unknown>\n",
      "  41: PyEval_EvalCode\n",
      "  42: <unknown>\n",
      "  43: <unknown>\n",
      "  44: _PyEval_EvalFrameDefault\n",
      "  45: _PyFunction_Vectorcall\n",
      "  46: _PyEval_EvalFrameDefault\n",
      "  47: _PyFunction_Vectorcall\n",
      "  48: <unknown>\n",
      "  49: Py_RunMain\n",
      "  50: Py_BytesMain\n",
      "  51: <unknown>\n",
      "  52: __libc_start_main\n",
      "  53: _start\n",
      "note: Some details are omitted, run with `RUST_BACKTRACE=full` for a verbose backtrace.\n"
     ]
    },
    {
     "ename": "PanicException",
     "evalue": "there is no reactor running, must be called from the context of a Tokio 1.x runtime",
     "output_type": "error",
     "traceback": [
      "\u001b[0;31m---------------------------------------------------------------------------\u001b[0m",
      "\u001b[0;31mPanicException\u001b[0m                            Traceback (most recent call last)",
      "Cell \u001b[0;32mIn [8], line 1\u001b[0m\n\u001b[0;32m----> 1\u001b[0m \u001b[38;5;28;01mawait\u001b[39;00m fiface\u001b[38;5;241m.\u001b[39mrun()\n",
      "\u001b[0;31mPanicException\u001b[0m: there is no reactor running, must be called from the context of a Tokio 1.x runtime"
     ]
    }
   ],
   "source": [
    "await fiface.run()"
   ]
  }
 ],
 "metadata": {
  "kernelspec": {
   "display_name": "Python 3 (ipykernel)",
   "language": "python",
   "name": "python3"
  },
  "language_info": {
   "codemirror_mode": {
    "name": "ipython",
    "version": 3
   },
   "file_extension": ".py",
   "mimetype": "text/x-python",
   "name": "python",
   "nbconvert_exporter": "python",
   "pygments_lexer": "ipython3",
   "version": "3.10.7"
  }
 },
 "nbformat": 4,
 "nbformat_minor": 5
}
