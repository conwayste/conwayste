{
 "cells": [
  {
   "cell_type": "markdown",
   "id": "45d0fa70",
   "metadata": {},
   "source": [
    "# Boilerplate"
   ]
  },
  {
   "cell_type": "markdown",
   "id": "69735df3",
   "metadata": {},
   "source": [
    "There's probably a better way than what follows"
   ]
  },
  {
   "cell_type": "code",
   "execution_count": 1,
   "id": "f16786c2",
   "metadata": {},
   "outputs": [],
   "source": [
    "import sys\n",
    "sys.path.insert(0, 'venv/lib/python3.10/site-packages')\n",
    "import asyncio\n",
    "\n",
    "from nwv2_python_wrapper import *\n",
    "import nwv2_python_wrapper"
   ]
  },
  {
   "cell_type": "markdown",
   "id": "88f69a0e",
   "metadata": {},
   "source": [
    "# Run"
   ]
  },
  {
   "cell_type": "markdown",
   "id": "d1e76153",
   "metadata": {},
   "source": [
    "What can we run?"
   ]
  },
  {
   "cell_type": "code",
   "execution_count": 2,
   "id": "36378854",
   "metadata": {},
   "outputs": [
    {
     "data": {
      "text/plain": [
       "['PacketW', 'RequestActionW', 'nwv2_python_wrapper']"
      ]
     },
     "execution_count": 2,
     "metadata": {},
     "output_type": "execute_result"
    }
   ],
   "source": [
    "[f for f in dir(nwv2_python_wrapper) if not f.startswith('__')]"
   ]
  },
  {
   "cell_type": "markdown",
   "id": "c2b30516",
   "metadata": {},
   "source": [
    "Run it"
   ]
  },
  {
   "cell_type": "code",
   "execution_count": 3,
   "id": "81015511",
   "metadata": {},
   "outputs": [
    {
     "data": {
      "text/plain": [
       "Connect { name: \"Siona\", client_version: \"0.3.2\" }"
      ]
     },
     "execution_count": 3,
     "metadata": {},
     "output_type": "execute_result"
    }
   ],
   "source": [
    "ra = RequestActionW(\"connect\", name=\"Siona\", client_version=\"0.3.2\")\n",
    "ra"
   ]
  },
  {
   "cell_type": "code",
   "execution_count": 6,
   "id": "acf72ca4",
   "metadata": {},
   "outputs": [
    {
     "data": {
      "text/plain": [
       "Request { sequence: 0, response_ack: None, cookie: None, action: Connect { name: \"Siona\", client_version: \"0.3.2\" } }"
      ]
     },
     "execution_count": 6,
     "metadata": {},
     "output_type": "execute_result"
    }
   ],
   "source": [
    "p = PacketW(\"request\", sequence=0, response_ack=None, action=ra, cookie=None)\n",
    "p"
   ]
  },
  {
   "cell_type": "code",
   "execution_count": null,
   "id": "e736ee0d",
   "metadata": {},
   "outputs": [],
   "source": [
    "help(p)"
   ]
  }
 ],
 "metadata": {
  "kernelspec": {
   "display_name": "Python 3 (ipykernel)",
   "language": "python",
   "name": "python3"
  },
  "language_info": {
   "codemirror_mode": {
    "name": "ipython",
    "version": 3
   },
   "file_extension": ".py",
   "mimetype": "text/x-python",
   "name": "python",
   "nbconvert_exporter": "python",
   "pygments_lexer": "ipython3",
   "version": "3.10.5"
  }
 },
 "nbformat": 4,
 "nbformat_minor": 5
}
