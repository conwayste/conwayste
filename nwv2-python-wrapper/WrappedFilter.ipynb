{
 "cells": [
  {
   "cell_type": "markdown",
   "id": "aba2c68e",
   "metadata": {},
   "source": [
    "# Boilerplate"
   ]
  },
  {
   "cell_type": "code",
   "execution_count": 1,
   "id": "bf75903d",
   "metadata": {},
   "outputs": [],
   "source": [
    "import sys\n",
    "sys.path.insert(0, 'venv/lib/python3.10/site-packages')\n",
    "import asyncio\n",
    "import time\n",
    "\n",
    "from nwv2_python_wrapper import *\n",
    "import nwv2_python_wrapper"
   ]
  },
  {
   "cell_type": "markdown",
   "id": "4b39dc18",
   "metadata": {},
   "source": [
    "# Run"
   ]
  },
  {
   "cell_type": "markdown",
   "id": "a2c354f3",
   "metadata": {},
   "source": [
    "List all Python wrappers"
   ]
  },
  {
   "cell_type": "code",
   "execution_count": 2,
   "id": "37227bf5",
   "metadata": {},
   "outputs": [
    {
     "data": {
      "text/plain": [
       "['BroadcastChatMessageW',\n",
       " 'EndpointW',\n",
       " 'FilterCmdW',\n",
       " 'FilterInterface',\n",
       " 'FilterModeW',\n",
       " 'FilterNoticeW',\n",
       " 'FilterRspW',\n",
       " 'GameOptionsW',\n",
       " 'GameOutcomeW',\n",
       " 'GameUpdateW',\n",
       " 'GenPartInfoW',\n",
       " 'GenStateDiffPartW',\n",
       " 'GenStateDiffW',\n",
       " 'NetRegionW',\n",
       " 'PacketSettingsW',\n",
       " 'PacketW',\n",
       " 'PlayerInfoW',\n",
       " 'ProcessUniqueIdW',\n",
       " 'RequestActionW',\n",
       " 'ResponseCodeW',\n",
       " 'RoomListW',\n",
       " 'TransportCmdW',\n",
       " 'TransportInterface',\n",
       " 'TransportNoticeW',\n",
       " 'TransportRspW',\n",
       " 'UniUpdateW',\n",
       " 'new_transport_interface']"
      ]
     },
     "execution_count": 2,
     "metadata": {},
     "output_type": "execute_result"
    }
   ],
   "source": [
    "[f for f in dir(nwv2_python_wrapper) if not f.startswith('__') and f != 'nwv2_python_wrapper']"
   ]
  },
  {
   "cell_type": "markdown",
   "id": "e28d4512",
   "metadata": {},
   "source": [
    "## Transport layer setup"
   ]
  },
  {
   "cell_type": "markdown",
   "id": "5d9622f6",
   "metadata": {},
   "source": [
    "Create the Transport layer and run it in the background."
   ]
  },
  {
   "cell_type": "code",
   "execution_count": 3,
   "id": "38346200",
   "metadata": {},
   "outputs": [
    {
     "data": {
      "text/plain": [
       "<Future pending cb=[<builtins.PyDoneCallback object at 0x7f7bac5f6970>()]>"
      ]
     },
     "execution_count": 3,
     "metadata": {},
     "output_type": "execute_result"
    }
   ],
   "source": [
    "tiface_inner = await new_transport_interface(\"0.0.0.0\", 0)\n",
    "tiface_inner.run()"
   ]
  },
  {
   "cell_type": "markdown",
   "id": "36a04bac",
   "metadata": {},
   "source": [
    "## Wrap the PYO3 Transport Interface in a Python class with the same methods"
   ]
  },
  {
   "cell_type": "markdown",
   "id": "9d109c58",
   "metadata": {},
   "source": [
    "Note that there is no `run()`. Hence, the passed in `TransportInterface` instance must have already had its `run()` method called."
   ]
  },
  {
   "cell_type": "code",
   "execution_count": 4,
   "id": "ab35c95a",
   "metadata": {},
   "outputs": [
    {
     "data": {
      "text/plain": [
       "<__main__.LoggingTransportInterface at 0x7f7bac4b3e50>"
      ]
     },
     "execution_count": 4,
     "metadata": {},
     "output_type": "execute_result"
    }
   ],
   "source": [
    "class LoggingTransportInterface:\n",
    "    def __init__(self, inner):\n",
    "        self.inner = inner\n",
    "        self.ctr = 0\n",
    "        self.skipped_count = None\n",
    "        \n",
    "    async def command_response(self, transport_cmd):\n",
    "        print(f\"LTI{self.ctr}{self.skipped()}: received transport_cmd {transport_cmd}\")\n",
    "        self.ctr += 1\n",
    "        transport_rsp = await self.inner.command_response(transport_cmd)\n",
    "        print(f\"LTI{self.ctr}: got transport_rsp back from Transport layer: {transport_rsp}\")\n",
    "        self.ctr += 1\n",
    "        return transport_rsp\n",
    "    \n",
    "    def get_notifications(self):\n",
    "        transport_notif_list = self.inner.get_notifications()\n",
    "        if self.skipped_count is None:\n",
    "            print(f\"LTI{self.ctr}: got transport notifications: {transport_notif_list}\")\n",
    "            self.skipped_count = 0\n",
    "            if len(transport_notif_list) > 0:\n",
    "                self.reset()\n",
    "        else:\n",
    "            self.skipped_count += 1\n",
    "        self.ctr += 1\n",
    "        return transport_notif_list\n",
    "    \n",
    "    def skipped(self):\n",
    "        if self.skipped_count is None:\n",
    "            return \"\"\n",
    "        count = self.skipped_count\n",
    "        self.skipped_count = None\n",
    "        return f\" skipped {count}\"\n",
    "    \n",
    "    def reset(self):\n",
    "        self.skipped_count = None\n",
    "        \n",
    "tiface = LoggingTransportInterface(tiface_inner)\n",
    "tiface"
   ]
  },
  {
   "cell_type": "markdown",
   "id": "344a2a3f",
   "metadata": {},
   "source": [
    "# Filter layer setup"
   ]
  },
  {
   "cell_type": "code",
   "execution_count": 5,
   "id": "6fa2ab7b",
   "metadata": {},
   "outputs": [],
   "source": [
    "fiface = FilterInterface(tiface, FilterModeW(\"client\"))"
   ]
  },
  {
   "cell_type": "markdown",
   "id": "82345b04",
   "metadata": {},
   "source": [
    "Find methods to run"
   ]
  },
  {
   "cell_type": "code",
   "execution_count": 6,
   "id": "5e2d7d02",
   "metadata": {},
   "outputs": [
    {
     "data": {
      "text/plain": [
       "['command_response', 'get_notifications', 'notif_poll_ms', 'run']"
      ]
     },
     "execution_count": 6,
     "metadata": {},
     "output_type": "execute_result"
    }
   ],
   "source": [
    "[m for m in dir(fiface) if not m.startswith('__')]"
   ]
  },
  {
   "cell_type": "markdown",
   "id": "794804e3",
   "metadata": {},
   "source": [
    "Run Filter!"
   ]
  },
  {
   "cell_type": "code",
   "execution_count": 7,
   "id": "5cda3921",
   "metadata": {},
   "outputs": [
    {
     "name": "stdout",
     "output_type": "stream",
     "text": [
      "LTI0: got transport notifications: []\n"
     ]
    }
   ],
   "source": [
    "run_fut = fiface.run()\n",
    "\n",
    "# After waiting a bit, the above future should not have completed\n",
    "time.sleep(0.1)\n",
    "assert not run_fut.done()"
   ]
  },
  {
   "cell_type": "markdown",
   "id": "df201e7f",
   "metadata": {},
   "source": [
    "Get the number of milliseconds between calling `get_notifications` on the contained `TransportInterface`. This can also be assigned to at any time. Lower values can cause performance issues, while higher values add latency for anything involving filter notifications."
   ]
  },
  {
   "cell_type": "code",
   "execution_count": 8,
   "id": "911ef513",
   "metadata": {},
   "outputs": [
    {
     "data": {
      "text/plain": [
       "30"
      ]
     },
     "execution_count": 8,
     "metadata": {},
     "output_type": "execute_result"
    }
   ],
   "source": [
    "fiface.notif_poll_ms"
   ]
  },
  {
   "cell_type": "code",
   "execution_count": 9,
   "id": "0e0a435c",
   "metadata": {},
   "outputs": [],
   "source": [
    "fiface.notif_poll_ms = 100"
   ]
  },
  {
   "cell_type": "markdown",
   "id": "f713c42a",
   "metadata": {},
   "source": [
    "## Filter layer operation"
   ]
  },
  {
   "cell_type": "markdown",
   "id": "17a3b5a9",
   "metadata": {},
   "source": [
    "### As a client, connect to server"
   ]
  },
  {
   "cell_type": "code",
   "execution_count": 10,
   "id": "6af62415",
   "metadata": {},
   "outputs": [
    {
     "data": {
      "text/plain": [
       "Connect { name: \"FilterNotebookClient4222\", client_version: \"0.0.666\" }"
      ]
     },
     "execution_count": 10,
     "metadata": {},
     "output_type": "execute_result"
    }
   ],
   "source": [
    "import random\n",
    "id = random.randint(1,10000)\n",
    "connect_action = RequestActionW(\"connect\", name=\"FilterNotebookClient{}\".format(id), client_version=\"0.0.666\")\n",
    "connect_action"
   ]
  },
  {
   "cell_type": "code",
   "execution_count": 11,
   "id": "3b3a1776",
   "metadata": {},
   "outputs": [
    {
     "data": {
      "text/plain": [
       "SendRequestAction { endpoint: Endpoint(157.230.134.224:2016), action: Connect { name: \"FilterNotebookClient4222\", client_version: \"0.0.666\" } }"
      ]
     },
     "execution_count": 11,
     "metadata": {},
     "output_type": "execute_result"
    }
   ],
   "source": [
    "chococat_endpoint = EndpointW(\"157.230.134.224:2016\")\n",
    "filter_cmd = FilterCmdW(\"sendrequestaction\", endpoint=chococat_endpoint, action=connect_action)\n",
    "filter_cmd"
   ]
  },
  {
   "cell_type": "code",
   "execution_count": 12,
   "id": "7b4b5724",
   "metadata": {},
   "outputs": [
    {
     "name": "stdout",
     "output_type": "stream",
     "text": [
      "LTI5 skipped 4: received transport_cmd NewEndpoint { endpoint: Endpoint(157.230.134.224:2016), timeout: 250ms }\n",
      "LTI6: got transport_rsp back from Transport layer: TransportRsp::Accepted\n",
      "LTI7: received transport_cmd SendPackets { endpoint: Endpoint(157.230.134.224:2016), packet_infos: [PacketSettings { tid: ProcessUniqueId { prefix: 0, offset: 0 }, retry_interval: 250ms }], packets: [Request { sequence: 1, response_ack: None, cookie: None, action: Connect { name: \"FilterNotebookClient4222\", client_version: \"0.0.666\" } }] }\n",
      "LTI8: got transport_rsp back from Transport layer: TransportRsp::Accepted\n",
      "LTI9: got transport notifications: [TransportNotice::PacketDelivery { endpoint: Endpoint(157.230.134.224:2016), packet: Response { sequence: 0, request_ack: Some(0), code: LoggedIn { cookie: \"DCmCJlp2yP84WyQP\", server_version: \"0.3.5\" } } }]\n"
     ]
    },
    {
     "data": {
      "text/plain": [
       "Accepted"
      ]
     },
     "execution_count": 12,
     "metadata": {},
     "output_type": "execute_result"
    }
   ],
   "source": [
    "await fiface.command_response(filter_cmd)"
   ]
  },
  {
   "cell_type": "code",
   "execution_count": 13,
   "id": "22e24814",
   "metadata": {},
   "outputs": [
    {
     "data": {
      "text/plain": [
       "[NewResponseCode { endpoint: Endpoint(157.230.134.224:2016), code: LoggedIn { cookie: \"DCmCJlp2yP84WyQP\", server_version: \"0.3.5\" } }]"
      ]
     },
     "execution_count": 13,
     "metadata": {},
     "output_type": "execute_result"
    }
   ],
   "source": [
    "fiface.get_notifications()"
   ]
  },
  {
   "cell_type": "code",
   "execution_count": 14,
   "id": "ced0db80",
   "metadata": {},
   "outputs": [
    {
     "data": {
      "text/plain": [
       "NewResponseCode { endpoint: Endpoint(157.230.134.224:2016), code: LoggedIn { cookie: \"DCmCJlp2yP84WyQP\", server_version: \"0.3.5\" } }"
      ]
     },
     "execution_count": 14,
     "metadata": {},
     "output_type": "execute_result"
    }
   ],
   "source": [
    "new_response_code = _[0]\n",
    "new_response_code"
   ]
  },
  {
   "cell_type": "code",
   "execution_count": 15,
   "id": "b249bbc9",
   "metadata": {},
   "outputs": [
    {
     "data": {
      "text/plain": [
       "'DCmCJlp2yP84WyQP'"
      ]
     },
     "execution_count": 15,
     "metadata": {},
     "output_type": "execute_result"
    }
   ],
   "source": [
    "cookie = new_response_code.response_code.cookie\n",
    "cookie"
   ]
  },
  {
   "cell_type": "markdown",
   "id": "dc6ea9ec",
   "metadata": {},
   "source": [
    "### Convenience function"
   ]
  },
  {
   "cell_type": "code",
   "execution_count": 16,
   "id": "49b15c8b",
   "metadata": {},
   "outputs": [],
   "source": [
    "async def request_action_to_filter(req_action, endpoint=chococat_endpoint):\n",
    "    filter_cmd = FilterCmdW(\"sendrequestaction\", endpoint=endpoint, action=req_action)\n",
    "    return await fiface.command_response(filter_cmd)"
   ]
  },
  {
   "cell_type": "markdown",
   "id": "b645dda2",
   "metadata": {},
   "source": [
    "### Join a room"
   ]
  },
  {
   "cell_type": "code",
   "execution_count": 17,
   "id": "abf8bcd1",
   "metadata": {},
   "outputs": [
    {
     "name": "stdout",
     "output_type": "stream",
     "text": [
      "LTI10: received transport_cmd SendPackets { endpoint: Endpoint(157.230.134.224:2016), packet_infos: [PacketSettings { tid: ProcessUniqueId { prefix: 0, offset: 1 }, retry_interval: 250ms }], packets: [Request { sequence: 2, response_ack: Some(0), cookie: Some(\"DCmCJlp2yP84WyQP\"), action: JoinRoom { room_name: \"general\" } }] }\n",
      "LTI11: got transport_rsp back from Transport layer: TransportRsp::Accepted\n",
      "LTI12: got transport notifications: [TransportNotice::EndpointIdle { endpoint: Endpoint(157.230.134.224:2016) }, TransportNotice::PacketDelivery { endpoint: Endpoint(157.230.134.224:2016), packet: Response { sequence: 1, request_ack: Some(1), code: JoinedRoom { room_name: \"general\" } } }, TransportNotice::PacketDelivery { endpoint: Endpoint(157.230.134.224:2016), packet: Update { chats: [BroadcastChatMessage { chat_seq: Some(17), player_name: \"Server\", message: \"Player FilterNotebookClient9548 has left.\" }], game_update_seq: None, game_updates: [], universe_update: NoChange, ping: PingPong { nonce: 3473038860327409336 } } }, TransportNotice::PacketDelivery { endpoint: Endpoint(157.230.134.224:2016), packet: Update { chats: [BroadcastChatMessage { chat_seq: Some(17), player_name: \"Server\", message: \"Player FilterNotebookClient9548 has left.\" }], game_update_seq: None, game_updates: [], universe_update: NoChange, ping: PingPong { nonce: 14921065697643404328 } } }, TransportNotice::PacketDelivery { endpoint: Endpoint(157.230.134.224:2016), packet: Update { chats: [BroadcastChatMessage { chat_seq: Some(17), player_name: \"Server\", message: \"Player FilterNotebookClient9548 has left.\" }], game_update_seq: None, game_updates: [], universe_update: NoChange, ping: PingPong { nonce: 18079278034087328019 } } }]\n"
     ]
    },
    {
     "data": {
      "text/plain": [
       "Accepted"
      ]
     },
     "execution_count": 17,
     "metadata": {},
     "output_type": "execute_result"
    },
    {
     "name": "stdout",
     "output_type": "stream",
     "text": [
      "LTI13: received transport_cmd SendPackets { endpoint: Endpoint(157.230.134.224:2016), packet_infos: [PacketSettings { tid: ProcessUniqueId { prefix: 0, offset: 2 }, retry_interval: 250ms }], packets: [Request { sequence: 3, response_ack: Some(0), cookie: Some(\"DCmCJlp2yP84WyQP\"), action: KeepAlive { latest_response_ack: 0 } }] }\n"
     ]
    }
   ],
   "source": [
    "await request_action_to_filter(RequestActionW(\"joinroom\", room_name=\"general\"))"
   ]
  },
  {
   "cell_type": "markdown",
   "id": "6480d75d",
   "metadata": {},
   "source": [
    "Due to a bug in the Netwayste v1 server, there is a `BadRequest { error_msg: \"cannot join game because in-game\" }` filter notice following the `JoinedRoom` filter notice, below. Apparently, it's caused by a packet retry of the `JoinRoom` request action by the Transport layer, which is erroneously being treated as a second request action by the NWv1 server. It's erroneous because the request sequence is the same, so it should have been dropped by the server."
   ]
  },
  {
   "cell_type": "code",
   "execution_count": 18,
   "id": "d34eac0d",
   "metadata": {},
   "outputs": [
    {
     "data": {
      "text/plain": [
       "[NewResponseCode { endpoint: Endpoint(157.230.134.224:2016), code: JoinedRoom { room_name: \"general\" } },\n",
       " NewChats { endpoint: Endpoint(157.230.134.224:2016), messages: [BroadcastChatMessage { chat_seq: Some(17), player_name: \"Server\", message: \"Player FilterNotebookClient9548 has left.\" }] }]"
      ]
     },
     "execution_count": 18,
     "metadata": {},
     "output_type": "execute_result"
    }
   ],
   "source": [
    "fiface.get_notifications()"
   ]
  },
  {
   "cell_type": "code",
   "execution_count": 21,
   "id": "877c1143",
   "metadata": {},
   "outputs": [
    {
     "name": "stdout",
     "output_type": "stream",
     "text": [
      "LTI2776: got transport notifications: [TransportNotice::PacketDelivery { endpoint: Endpoint(157.230.134.224:2016), packet: Update { chats: [BroadcastChatMessage { chat_seq: Some(17), player_name: \"Server\", message: \"Player FilterNotebookClient9548 has left.\" }], game_update_seq: None, game_updates: [], universe_update: NoChange, ping: PingPong { nonce: 6260007738958029240 } } }, TransportNotice::EndpointIdle { endpoint: Endpoint(157.230.134.224:2016) }, TransportNotice::PacketDelivery { endpoint: Endpoint(157.230.134.224:2016), packet: Update { chats: [BroadcastChatMessage { chat_seq: Some(17), player_name: \"Server\", message: \"Player FilterNotebookClient9548 has left.\" }], game_update_seq: None, game_updates: [], universe_update: NoChange, ping: PingPong { nonce: 13482629177316894215 } } }, TransportNotice::PacketDelivery { endpoint: Endpoint(157.230.134.224:2016), packet: Update { chats: [BroadcastChatMessage { chat_seq: Some(17), player_name: \"Server\", message: \"Player FilterNotebookClient9548 has left.\" }], game_update_seq: None, game_updates: [], universe_update: NoChange, ping: PingPong { nonce: 548835421439675571 } } }, TransportNotice::PacketDelivery { endpoint: Endpoint(157.230.134.224:2016), packet: Update { chats: [BroadcastChatMessage { chat_seq: Some(17), player_name: \"Server\", message: \"Player FilterNotebookClient9548 has left.\" }], game_update_seq: None, game_updates: [], universe_update: NoChange, ping: PingPong { nonce: 18400893511761845753 } } }, TransportNotice::PacketDelivery { endpoint: Endpoint(157.230.134.224:2016), packet: Update { chats: [BroadcastChatMessage { chat_seq: Some(17), player_name: \"Server\", message: \"Player FilterNotebookClient9548 has left.\" }], game_update_seq: None, game_updates: [], universe_update: NoChange, ping: PingPong { nonce: 17645999491234690206 } } }, TransportNotice::PacketDelivery { endpoint: Endpoint(157.230.134.224:2016), packet: Response { sequence: 1, request_ack: Some(2), code: JoinedRoom { room_name: \"general\" } } }, TransportNotice::PacketDelivery { endpoint: Endpoint(157.230.134.224:2016), packet: Response { sequence: 1, request_ack: Some(2), code: JoinedRoom { room_name: \"general\" } } }, TransportNotice::PacketDelivery { endpoint: Endpoint(157.230.134.224:2016), packet: Response { sequence: 1, request_ack: Some(2), code: JoinedRoom { room_name: \"general\" } } }, TransportNotice::PacketDelivery { endpoint: Endpoint(157.230.134.224:2016), packet: Response { sequence: 2, request_ack: Some(2), code: BadRequest { error_msg: \"cannot join game because in-game\" } } }, TransportNotice::PacketDelivery { endpoint: Endpoint(157.230.134.224:2016), packet: Response { sequence: 2, request_ack: Some(2), code: BadRequest { error_msg: \"cannot join game because in-game\" } } }, TransportNotice::PacketDelivery { endpoint: Endpoint(157.230.134.224:2016), packet: Response { sequence: 2, request_ack: Some(2), code: BadRequest { error_msg: \"cannot join game because in-game\" } } }, TransportNotice::PacketDelivery { endpoint: Endpoint(157.230.134.224:2016), packet: Update { chats: [BroadcastChatMessage { chat_seq: Some(17), player_name: \"Server\", message: \"Player FilterNotebookClient9548 has left.\" }], game_update_seq: None, game_updates: [], universe_update: NoChange, ping: PingPong { nonce: 2746274739549702955 } } }, TransportNotice::PacketDelivery { endpoint: Endpoint(157.230.134.224:2016), packet: Update { chats: [BroadcastChatMessage { chat_seq: Some(17), player_name: \"Server\", message: \"Player FilterNotebookClient9548 has left.\" }], game_update_seq: None, game_updates: [], universe_update: NoChange, ping: PingPong { nonce: 2816553390899392794 } } }, TransportNotice::PacketDelivery { endpoint: Endpoint(157.230.134.224:2016), packet: Update { chats: [BroadcastChatMessage { chat_seq: Some(17), player_name: \"Server\", message: \"Player FilterNotebookClient9548 has left.\" }], game_update_seq: None, game_updates: [], universe_update: NoChange, ping: PingPong { nonce: 11777757337981037460 } } }, TransportNotice::PacketDelivery { endpoint: Endpoint(157.230.134.224:2016), packet: Update { chats: [BroadcastChatMessage { chat_seq: Some(17), player_name: \"Server\", message: \"Player FilterNotebookClient9548 has left.\" }], game_update_seq: None, game_updates: [], universe_update: NoChange, ping: PingPong { nonce: 40246515258960738 } } }, TransportNotice::PacketDelivery { endpoint: Endpoint(157.230.134.224:2016), packet: Update { chats: [BroadcastChatMessage { chat_seq: Some(17), player_name: \"Server\", message: \"Player FilterNotebookClient9548 has left.\" }], game_update_seq: None, game_updates: [], universe_update: NoChange, ping: PingPong { nonce: 13035354416954079982 } } }]\n"
     ]
    },
    {
     "data": {
      "text/plain": [
       "[NewResponseCode { endpoint: Endpoint(157.230.134.224:2016), code: BadRequest { error_msg: \"cannot join game because in-game\" } }]"
      ]
     },
     "execution_count": 21,
     "metadata": {},
     "output_type": "execute_result"
    },
    {
     "name": "stdout",
     "output_type": "stream",
     "text": [
      "LTI2777: got transport notifications: [TransportNotice::PacketDelivery { endpoint: Endpoint(157.230.134.224:2016), packet: Update { chats: [BroadcastChatMessage { chat_seq: Some(17), player_name: \"Server\", message: \"Player FilterNotebookClient9548 has left.\" }], game_update_seq: None, game_updates: [], universe_update: NoChange, ping: PingPong { nonce: 8598715098652477373 } } }, TransportNotice::PacketDelivery { endpoint: Endpoint(157.230.134.224:2016), packet: Update { chats: [BroadcastChatMessage { chat_seq: Some(17), player_name: \"Server\", message: \"Player FilterNotebookClient9548 has left.\" }], game_update_seq: None, game_updates: [], universe_update: NoChange, ping: PingPong { nonce: 13830203448992411633 } } }, TransportNotice::PacketDelivery { endpoint: Endpoint(157.230.134.224:2016), packet: Update { chats: [BroadcastChatMessage { chat_seq: Some(17), player_name: \"Server\", message: \"Player FilterNotebookClient9548 has left.\" }], game_update_seq: None, game_updates: [], universe_update: NoChange, ping: PingPong { nonce: 3815968217297768557 } } }, TransportNotice::PacketDelivery { endpoint: Endpoint(157.230.134.224:2016), packet: Update { chats: [BroadcastChatMessage { chat_seq: Some(17), player_name: \"Server\", message: \"Player FilterNotebookClient9548 has left.\" }], game_update_seq: None, game_updates: [], universe_update: NoChange, ping: PingPong { nonce: 3350550542497978178 } } }, TransportNotice::PacketDelivery { endpoint: Endpoint(157.230.134.224:2016), packet: Update { chats: [BroadcastChatMessage { chat_seq: Some(17), player_name: \"Server\", message: \"Player FilterNotebookClient9548 has left.\" }], game_update_seq: None, game_updates: [], universe_update: NoChange, ping: PingPong { nonce: 4567904982883043744 } } }, TransportNotice::PacketDelivery { endpoint: Endpoint(157.230.134.224:2016), packet: Response { sequence: 1, request_ack: Some(2), code: JoinedRoom { room_name: \"general\" } } }, TransportNotice::PacketDelivery { endpoint: Endpoint(157.230.134.224:2016), packet: Response { sequence: 1, request_ack: Some(2), code: JoinedRoom { room_name: \"general\" } } }, TransportNotice::PacketDelivery { endpoint: Endpoint(157.230.134.224:2016), packet: Response { sequence: 1, request_ack: Some(2), code: JoinedRoom { room_name: \"general\" } } }, TransportNotice::PacketDelivery { endpoint: Endpoint(157.230.134.224:2016), packet: Response { sequence: 2, request_ack: Some(2), code: BadRequest { error_msg: \"cannot join game because in-game\" } } }, TransportNotice::PacketDelivery { endpoint: Endpoint(157.230.134.224:2016), packet: Response { sequence: 2, request_ack: Some(2), code: BadRequest { error_msg: \"cannot join game because in-game\" } } }, TransportNotice::PacketDelivery { endpoint: Endpoint(157.230.134.224:2016), packet: Response { sequence: 2, request_ack: Some(2), code: BadRequest { error_msg: \"cannot join game because in-game\" } } }, TransportNotice::PacketDelivery { endpoint: Endpoint(157.230.134.224:2016), packet: Update { chats: [BroadcastChatMessage { chat_seq: Some(17), player_name: \"Server\", message: \"Player FilterNotebookClient9548 has left.\" }], game_update_seq: None, game_updates: [], universe_update: NoChange, ping: PingPong { nonce: 772302729123582541 } } }, TransportNotice::PacketDelivery { endpoint: Endpoint(157.230.134.224:2016), packet: Update { chats: [BroadcastChatMessage { chat_seq: Some(17), player_name: \"Server\", message: \"Player FilterNotebookClient9548 has left.\" }], game_update_seq: None, game_updates: [], universe_update: NoChange, ping: PingPong { nonce: 13365240821617754808 } } }, TransportNotice::PacketDelivery { endpoint: Endpoint(157.230.134.224:2016), packet: Update { chats: [BroadcastChatMessage { chat_seq: Some(17), player_name: \"Server\", message: \"Player FilterNotebookClient9548 has left.\" }], game_update_seq: None, game_updates: [], universe_update: NoChange, ping: PingPong { nonce: 12447160657711294925 } } }, TransportNotice::PacketDelivery { endpoint: Endpoint(157.230.134.224:2016), packet: Update { chats: [BroadcastChatMessage { chat_seq: Some(17), player_name: \"Server\", message: \"Player FilterNotebookClient9548 has left.\" }], game_update_seq: None, game_updates: [], universe_update: NoChange, ping: PingPong { nonce: 852540699667294045 } } }, TransportNotice::EndpointIdle { endpoint: Endpoint(157.230.134.224:2016) }, TransportNotice::PacketDelivery { endpoint: Endpoint(157.230.134.224:2016), packet: Update { chats: [BroadcastChatMessage { chat_seq: Some(17), player_name: \"Server\", message: \"Player FilterNotebookClient9548 has left.\" }], game_update_seq: None, game_updates: [], universe_update: NoChange, ping: PingPong { nonce: 10467447827196090088 } } }, TransportNotice::EndpointIdle { endpoint: Endpoint(157.230.134.224:2016) }]\n",
      "LTI2778: got transport notifications: [TransportNotice::PacketDelivery { endpoint: Endpoint(157.230.134.224:2016), packet: Update { chats: [BroadcastChatMessage { chat_seq: Some(17), player_name: \"Server\", message: \"Player FilterNotebookClient9548 has left.\" }], game_update_seq: None, game_updates: [], universe_update: NoChange, ping: PingPong { nonce: 15337610472356379123 } } }, TransportNotice::EndpointIdle { endpoint: Endpoint(157.230.134.224:2016) }, TransportNotice::PacketDelivery { endpoint: Endpoint(157.230.134.224:2016), packet: Update { chats: [BroadcastChatMessage { chat_seq: Some(17), player_name: \"Server\", message: \"Player FilterNotebookClient9548 has left.\" }], game_update_seq: None, game_updates: [], universe_update: NoChange, ping: PingPong { nonce: 1792816264463723918 } } }, TransportNotice::EndpointIdle { endpoint: Endpoint(157.230.134.224:2016) }, TransportNotice::PacketDelivery { endpoint: Endpoint(157.230.134.224:2016), packet: Update { chats: [BroadcastChatMessage { chat_seq: Some(17), player_name: \"Server\", message: \"Player FilterNotebookClient9548 has left.\" }], game_update_seq: None, game_updates: [], universe_update: NoChange, ping: PingPong { nonce: 2396886606963976529 } } }, TransportNotice::EndpointIdle { endpoint: Endpoint(157.230.134.224:2016) }, TransportNotice::PacketDelivery { endpoint: Endpoint(157.230.134.224:2016), packet: Update { chats: [BroadcastChatMessage { chat_seq: Some(17), player_name: \"Server\", message: \"Player FilterNotebookClient9548 has left.\" }], game_update_seq: None, game_updates: [], universe_update: NoChange, ping: PingPong { nonce: 175595863278770654 } } }, TransportNotice::EndpointIdle { endpoint: Endpoint(157.230.134.224:2016) }, TransportNotice::PacketDelivery { endpoint: Endpoint(157.230.134.224:2016), packet: Update { chats: [BroadcastChatMessage { chat_seq: Some(17), player_name: \"Server\", message: \"Player FilterNotebookClient9548 has left.\" }], game_update_seq: None, game_updates: [], universe_update: NoChange, ping: PingPong { nonce: 4801423693007388298 } } }, TransportNotice::EndpointIdle { endpoint: Endpoint(157.230.134.224:2016) }, TransportNotice::PacketDelivery { endpoint: Endpoint(157.230.134.224:2016), packet: Update { chats: [BroadcastChatMessage { chat_seq: Some(17), player_name: \"Server\", message: \"Player FilterNotebookClient9548 has left.\" }], game_update_seq: None, game_updates: [], universe_update: NoChange, ping: PingPong { nonce: 5310258866098020753 } } }, TransportNotice::PacketDelivery { endpoint: Endpoint(157.230.134.224:2016), packet: Response { sequence: 0, request_ack: None, code: KeepAlive } }, TransportNotice::PacketDelivery { endpoint: Endpoint(157.230.134.224:2016), packet: Response { sequence: 1, request_ack: Some(2), code: JoinedRoom { room_name: \"general\" } } }, TransportNotice::PacketDelivery { endpoint: Endpoint(157.230.134.224:2016), packet: Response { sequence: 1, request_ack: Some(2), code: JoinedRoom { room_name: \"general\" } } }, TransportNotice::PacketDelivery { endpoint: Endpoint(157.230.134.224:2016), packet: Response { sequence: 1, request_ack: Some(2), code: JoinedRoom { room_name: \"general\" } } }, TransportNotice::PacketDelivery { endpoint: Endpoint(157.230.134.224:2016), packet: Response { sequence: 2, request_ack: Some(2), code: BadRequest { error_msg: \"cannot join game because in-game\" } } }, TransportNotice::PacketDelivery { endpoint: Endpoint(157.230.134.224:2016), packet: Response { sequence: 2, request_ack: Some(2), code: BadRequest { error_msg: \"cannot join game because in-game\" } } }, TransportNotice::PacketDelivery { endpoint: Endpoint(157.230.134.224:2016), packet: Response { sequence: 2, request_ack: Some(2), code: BadRequest { error_msg: \"cannot join game because in-game\" } } }, TransportNotice::PacketDelivery { endpoint: Endpoint(157.230.134.224:2016), packet: Update { chats: [BroadcastChatMessage { chat_seq: Some(17), player_name: \"Server\", message: \"Player FilterNotebookClient9548 has left.\" }], game_update_seq: None, game_updates: [], universe_update: NoChange, ping: PingPong { nonce: 17948595796767810213 } } }, TransportNotice::EndpointIdle { endpoint: Endpoint(157.230.134.224:2016) }, TransportNotice::PacketDelivery { endpoint: Endpoint(157.230.134.224:2016), packet: Update { chats: [BroadcastChatMessage { chat_seq: Some(17), player_name: \"Server\", message: \"Player FilterNotebookClient9548 has left.\" }], game_update_seq: None, game_updates: [], universe_update: NoChange, ping: PingPong { nonce: 14894803441175808858 } } }, TransportNotice::PacketDelivery { endpoint: Endpoint(157.230.134.224:2016), packet: Update { chats: [BroadcastChatMessage { chat_seq: Some(17), player_name: \"Server\", message: \"Player FilterNotebookClient9548 has left.\" }], game_update_seq: None, game_updates: [], universe_update: NoChange, ping: PingPong { nonce: 13656635884135839889 } } }, TransportNotice::PacketDelivery { endpoint: Endpoint(157.230.134.224:2016), packet: Update { chats: [BroadcastChatMessage { chat_seq: Some(17), player_name: \"Server\", message: \"Player FilterNotebookClient9548 has left.\" }], game_update_seq: None, game_updates: [], universe_update: NoChange, ping: PingPong { nonce: 14623858236996675374 } } }]\n"
     ]
    },
    {
     "name": "stdout",
     "output_type": "stream",
     "text": [
      "LTI2779: got transport notifications: [TransportNotice::PacketDelivery { endpoint: Endpoint(157.230.134.224:2016), packet: Update { chats: [BroadcastChatMessage { chat_seq: Some(17), player_name: \"Server\", message: \"Player FilterNotebookClient9548 has left.\" }], game_update_seq: None, game_updates: [], universe_update: NoChange, ping: PingPong { nonce: 9055349769036180774 } } }, TransportNotice::PacketDelivery { endpoint: Endpoint(157.230.134.224:2016), packet: Update { chats: [BroadcastChatMessage { chat_seq: Some(17), player_name: \"Server\", message: \"Player FilterNotebookClient9548 has left.\" }], game_update_seq: None, game_updates: [], universe_update: NoChange, ping: PingPong { nonce: 13959361754886622046 } } }, TransportNotice::PacketDelivery { endpoint: Endpoint(157.230.134.224:2016), packet: Update { chats: [BroadcastChatMessage { chat_seq: Some(17), player_name: \"Server\", message: \"Player FilterNotebookClient9548 has left.\" }], game_update_seq: None, game_updates: [], universe_update: NoChange, ping: PingPong { nonce: 4401455421122074814 } } }, TransportNotice::PacketDelivery { endpoint: Endpoint(157.230.134.224:2016), packet: Update { chats: [BroadcastChatMessage { chat_seq: Some(17), player_name: \"Server\", message: \"Player FilterNotebookClient9548 has left.\" }], game_update_seq: None, game_updates: [], universe_update: NoChange, ping: PingPong { nonce: 8918055234147525201 } } }, TransportNotice::PacketDelivery { endpoint: Endpoint(157.230.134.224:2016), packet: Update { chats: [BroadcastChatMessage { chat_seq: Some(17), player_name: \"Server\", message: \"Player FilterNotebookClient9548 has left.\" }], game_update_seq: None, game_updates: [], universe_update: NoChange, ping: PingPong { nonce: 3136980431480472336 } } }, TransportNotice::PacketDelivery { endpoint: Endpoint(157.230.134.224:2016), packet: Response { sequence: 1, request_ack: Some(2), code: JoinedRoom { room_name: \"general\" } } }, TransportNotice::PacketDelivery { endpoint: Endpoint(157.230.134.224:2016), packet: Response { sequence: 1, request_ack: Some(2), code: JoinedRoom { room_name: \"general\" } } }, TransportNotice::PacketDelivery { endpoint: Endpoint(157.230.134.224:2016), packet: Response { sequence: 1, request_ack: Some(2), code: JoinedRoom { room_name: \"general\" } } }, TransportNotice::PacketDelivery { endpoint: Endpoint(157.230.134.224:2016), packet: Response { sequence: 2, request_ack: Some(2), code: BadRequest { error_msg: \"cannot join game because in-game\" } } }, TransportNotice::PacketDelivery { endpoint: Endpoint(157.230.134.224:2016), packet: Response { sequence: 2, request_ack: Some(2), code: BadRequest { error_msg: \"cannot join game because in-game\" } } }, TransportNotice::PacketDelivery { endpoint: Endpoint(157.230.134.224:2016), packet: Response { sequence: 2, request_ack: Some(2), code: BadRequest { error_msg: \"cannot join game because in-game\" } } }, TransportNotice::PacketDelivery { endpoint: Endpoint(157.230.134.224:2016), packet: Update { chats: [BroadcastChatMessage { chat_seq: Some(17), player_name: \"Server\", message: \"Player FilterNotebookClient9548 has left.\" }], game_update_seq: None, game_updates: [], universe_update: NoChange, ping: PingPong { nonce: 15170989235028942803 } } }, TransportNotice::PacketDelivery { endpoint: Endpoint(157.230.134.224:2016), packet: Update { chats: [BroadcastChatMessage { chat_seq: Some(17), player_name: \"Server\", message: \"Player FilterNotebookClient9548 has left.\" }], game_update_seq: None, game_updates: [], universe_update: NoChange, ping: PingPong { nonce: 14822806406378212201 } } }, TransportNotice::PacketDelivery { endpoint: Endpoint(157.230.134.224:2016), packet: Update { chats: [BroadcastChatMessage { chat_seq: Some(17), player_name: \"Server\", message: \"Player FilterNotebookClient9548 has left.\" }], game_update_seq: None, game_updates: [], universe_update: NoChange, ping: PingPong { nonce: 1238942223599371537 } } }, TransportNotice::PacketDelivery { endpoint: Endpoint(157.230.134.224:2016), packet: Update { chats: [BroadcastChatMessage { chat_seq: Some(17), player_name: \"Server\", message: \"Player FilterNotebookClient9548 has left.\" }], game_update_seq: None, game_updates: [], universe_update: NoChange, ping: PingPong { nonce: 756431786547057416 } } }, TransportNotice::PacketDelivery { endpoint: Endpoint(157.230.134.224:2016), packet: Update { chats: [BroadcastChatMessage { chat_seq: Some(17), player_name: \"Server\", message: \"Player FilterNotebookClient9548 has left.\" }], game_update_seq: None, game_updates: [], universe_update: NoChange, ping: PingPong { nonce: 5581613601211419405 } } }]\n",
      "LTI2780: got transport notifications: [TransportNotice::PacketDelivery { endpoint: Endpoint(157.230.134.224:2016), packet: Update { chats: [BroadcastChatMessage { chat_seq: Some(17), player_name: \"Server\", message: \"Player FilterNotebookClient9548 has left.\" }], game_update_seq: None, game_updates: [], universe_update: NoChange, ping: PingPong { nonce: 8174434199242604291 } } }, TransportNotice::PacketDelivery { endpoint: Endpoint(157.230.134.224:2016), packet: Update { chats: [BroadcastChatMessage { chat_seq: Some(17), player_name: \"Server\", message: \"Player FilterNotebookClient9548 has left.\" }], game_update_seq: None, game_updates: [], universe_update: NoChange, ping: PingPong { nonce: 15908522757667511788 } } }, TransportNotice::PacketDelivery { endpoint: Endpoint(157.230.134.224:2016), packet: Update { chats: [BroadcastChatMessage { chat_seq: Some(17), player_name: \"Server\", message: \"Player FilterNotebookClient9548 has left.\" }], game_update_seq: None, game_updates: [], universe_update: NoChange, ping: PingPong { nonce: 15430510995394942603 } } }, TransportNotice::PacketDelivery { endpoint: Endpoint(157.230.134.224:2016), packet: Update { chats: [BroadcastChatMessage { chat_seq: Some(17), player_name: \"Server\", message: \"Player FilterNotebookClient9548 has left.\" }], game_update_seq: None, game_updates: [], universe_update: NoChange, ping: PingPong { nonce: 5066069177098526402 } } }, TransportNotice::PacketDelivery { endpoint: Endpoint(157.230.134.224:2016), packet: Update { chats: [BroadcastChatMessage { chat_seq: Some(17), player_name: \"Server\", message: \"Player FilterNotebookClient9548 has left.\" }], game_update_seq: None, game_updates: [], universe_update: NoChange, ping: PingPong { nonce: 11019534439792414092 } } }, TransportNotice::EndpointIdle { endpoint: Endpoint(157.230.134.224:2016) }, TransportNotice::PacketDelivery { endpoint: Endpoint(157.230.134.224:2016), packet: Update { chats: [BroadcastChatMessage { chat_seq: Some(17), player_name: \"Server\", message: \"Player FilterNotebookClient9548 has left.\" }], game_update_seq: None, game_updates: [], universe_update: NoChange, ping: PingPong { nonce: 9153029749407644709 } } }, TransportNotice::EndpointIdle { endpoint: Endpoint(157.230.134.224:2016) }, TransportNotice::PacketDelivery { endpoint: Endpoint(157.230.134.224:2016), packet: Response { sequence: 1, request_ack: Some(2), code: JoinedRoom { room_name: \"general\" } } }, TransportNotice::PacketDelivery { endpoint: Endpoint(157.230.134.224:2016), packet: Response { sequence: 1, request_ack: Some(2), code: JoinedRoom { room_name: \"general\" } } }, TransportNotice::PacketDelivery { endpoint: Endpoint(157.230.134.224:2016), packet: Response { sequence: 1, request_ack: Some(2), code: JoinedRoom { room_name: \"general\" } } }, TransportNotice::PacketDelivery { endpoint: Endpoint(157.230.134.224:2016), packet: Response { sequence: 2, request_ack: Some(2), code: BadRequest { error_msg: \"cannot join game because in-game\" } } }, TransportNotice::PacketDelivery { endpoint: Endpoint(157.230.134.224:2016), packet: Response { sequence: 2, request_ack: Some(2), code: BadRequest { error_msg: \"cannot join game because in-game\" } } }, TransportNotice::PacketDelivery { endpoint: Endpoint(157.230.134.224:2016), packet: Response { sequence: 2, request_ack: Some(2), code: BadRequest { error_msg: \"cannot join game because in-game\" } } }, TransportNotice::PacketDelivery { endpoint: Endpoint(157.230.134.224:2016), packet: Update { chats: [BroadcastChatMessage { chat_seq: Some(17), player_name: \"Server\", message: \"Player FilterNotebookClient9548 has left.\" }], game_update_seq: None, game_updates: [], universe_update: NoChange, ping: PingPong { nonce: 7934050772734932495 } } }, TransportNotice::EndpointIdle { endpoint: Endpoint(157.230.134.224:2016) }, TransportNotice::PacketDelivery { endpoint: Endpoint(157.230.134.224:2016), packet: Update { chats: [BroadcastChatMessage { chat_seq: Some(17), player_name: \"Server\", message: \"Player FilterNotebookClient9548 has left.\" }], game_update_seq: None, game_updates: [], universe_update: NoChange, ping: PingPong { nonce: 912670428091185122 } } }, TransportNotice::EndpointIdle { endpoint: Endpoint(157.230.134.224:2016) }, TransportNotice::PacketDelivery { endpoint: Endpoint(157.230.134.224:2016), packet: Update { chats: [BroadcastChatMessage { chat_seq: Some(17), player_name: \"Server\", message: \"Player FilterNotebookClient9548 has left.\" }], game_update_seq: None, game_updates: [], universe_update: NoChange, ping: PingPong { nonce: 12114687246257024638 } } }, TransportNotice::PacketDelivery { endpoint: Endpoint(157.230.134.224:2016), packet: Update { chats: [BroadcastChatMessage { chat_seq: Some(17), player_name: \"Server\", message: \"Player FilterNotebookClient9548 has left.\" }], game_update_seq: None, game_updates: [], universe_update: NoChange, ping: PingPong { nonce: 18267456646445056233 } } }, TransportNotice::EndpointIdle { endpoint: Endpoint(157.230.134.224:2016) }]\n"
     ]
    },
    {
     "name": "stdout",
     "output_type": "stream",
     "text": [
      "LTI2781: got transport notifications: [TransportNotice::PacketDelivery { endpoint: Endpoint(157.230.134.224:2016), packet: Update { chats: [BroadcastChatMessage { chat_seq: Some(17), player_name: \"Server\", message: \"Player FilterNotebookClient9548 has left.\" }], game_update_seq: None, game_updates: [], universe_update: NoChange, ping: PingPong { nonce: 9954461476103735198 } } }, TransportNotice::EndpointIdle { endpoint: Endpoint(157.230.134.224:2016) }, TransportNotice::PacketDelivery { endpoint: Endpoint(157.230.134.224:2016), packet: Update { chats: [BroadcastChatMessage { chat_seq: Some(17), player_name: \"Server\", message: \"Player FilterNotebookClient9548 has left.\" }], game_update_seq: None, game_updates: [], universe_update: NoChange, ping: PingPong { nonce: 17779245231655907842 } } }, TransportNotice::PacketDelivery { endpoint: Endpoint(157.230.134.224:2016), packet: Update { chats: [BroadcastChatMessage { chat_seq: Some(17), player_name: \"Server\", message: \"Player FilterNotebookClient9548 has left.\" }], game_update_seq: None, game_updates: [], universe_update: NoChange, ping: PingPong { nonce: 15908712971348671593 } } }, TransportNotice::EndpointIdle { endpoint: Endpoint(157.230.134.224:2016) }, TransportNotice::PacketDelivery { endpoint: Endpoint(157.230.134.224:2016), packet: Update { chats: [BroadcastChatMessage { chat_seq: Some(17), player_name: \"Server\", message: \"Player FilterNotebookClient9548 has left.\" }], game_update_seq: None, game_updates: [], universe_update: NoChange, ping: PingPong { nonce: 15954403989832802826 } } }, TransportNotice::PacketDelivery { endpoint: Endpoint(157.230.134.224:2016), packet: Update { chats: [BroadcastChatMessage { chat_seq: Some(17), player_name: \"Server\", message: \"Player FilterNotebookClient9548 has left.\" }], game_update_seq: None, game_updates: [], universe_update: NoChange, ping: PingPong { nonce: 15110548197124060367 } } }, TransportNotice::PacketDelivery { endpoint: Endpoint(157.230.134.224:2016), packet: Update { chats: [BroadcastChatMessage { chat_seq: Some(17), player_name: \"Server\", message: \"Player FilterNotebookClient9548 has left.\" }], game_update_seq: None, game_updates: [], universe_update: NoChange, ping: PingPong { nonce: 8877620449954066571 } } }, TransportNotice::PacketDelivery { endpoint: Endpoint(157.230.134.224:2016), packet: Response { sequence: 1, request_ack: Some(2), code: JoinedRoom { room_name: \"general\" } } }, TransportNotice::PacketDelivery { endpoint: Endpoint(157.230.134.224:2016), packet: Response { sequence: 1, request_ack: Some(2), code: JoinedRoom { room_name: \"general\" } } }, TransportNotice::PacketDelivery { endpoint: Endpoint(157.230.134.224:2016), packet: Response { sequence: 1, request_ack: Some(2), code: JoinedRoom { room_name: \"general\" } } }, TransportNotice::PacketDelivery { endpoint: Endpoint(157.230.134.224:2016), packet: Response { sequence: 2, request_ack: Some(2), code: BadRequest { error_msg: \"cannot join game because in-game\" } } }, TransportNotice::PacketDelivery { endpoint: Endpoint(157.230.134.224:2016), packet: Response { sequence: 2, request_ack: Some(2), code: BadRequest { error_msg: \"cannot join game because in-game\" } } }, TransportNotice::PacketDelivery { endpoint: Endpoint(157.230.134.224:2016), packet: Response { sequence: 2, request_ack: Some(2), code: BadRequest { error_msg: \"cannot join game because in-game\" } } }, TransportNotice::PacketDelivery { endpoint: Endpoint(157.230.134.224:2016), packet: Update { chats: [BroadcastChatMessage { chat_seq: Some(17), player_name: \"Server\", message: \"Player FilterNotebookClient9548 has left.\" }], game_update_seq: None, game_updates: [], universe_update: NoChange, ping: PingPong { nonce: 1174796930540124447 } } }, TransportNotice::PacketDelivery { endpoint: Endpoint(157.230.134.224:2016), packet: Update { chats: [BroadcastChatMessage { chat_seq: Some(17), player_name: \"Server\", message: \"Player FilterNotebookClient9548 has left.\" }], game_update_seq: None, game_updates: [], universe_update: NoChange, ping: PingPong { nonce: 5792744212567744954 } } }, TransportNotice::PacketDelivery { endpoint: Endpoint(157.230.134.224:2016), packet: Update { chats: [BroadcastChatMessage { chat_seq: Some(17), player_name: \"Server\", message: \"Player FilterNotebookClient9548 has left.\" }], game_update_seq: None, game_updates: [], universe_update: NoChange, ping: PingPong { nonce: 17389749664509035277 } } }, TransportNotice::PacketDelivery { endpoint: Endpoint(157.230.134.224:2016), packet: Update { chats: [BroadcastChatMessage { chat_seq: Some(17), player_name: \"Server\", message: \"Player FilterNotebookClient9548 has left.\" }], game_update_seq: None, game_updates: [], universe_update: NoChange, ping: PingPong { nonce: 12969473042950624460 } } }]\n",
      "LTI2782: got transport notifications: [TransportNotice::PacketDelivery { endpoint: Endpoint(157.230.134.224:2016), packet: Update { chats: [BroadcastChatMessage { chat_seq: Some(17), player_name: \"Server\", message: \"Player FilterNotebookClient9548 has left.\" }], game_update_seq: None, game_updates: [], universe_update: NoChange, ping: PingPong { nonce: 3246438651590075246 } } }, TransportNotice::PacketDelivery { endpoint: Endpoint(157.230.134.224:2016), packet: Update { chats: [BroadcastChatMessage { chat_seq: Some(17), player_name: \"Server\", message: \"Player FilterNotebookClient9548 has left.\" }], game_update_seq: None, game_updates: [], universe_update: NoChange, ping: PingPong { nonce: 14388831878256740782 } } }, TransportNotice::PacketDelivery { endpoint: Endpoint(157.230.134.224:2016), packet: Update { chats: [BroadcastChatMessage { chat_seq: Some(17), player_name: \"Server\", message: \"Player FilterNotebookClient9548 has left.\" }], game_update_seq: None, game_updates: [], universe_update: NoChange, ping: PingPong { nonce: 13950953124876028199 } } }, TransportNotice::PacketDelivery { endpoint: Endpoint(157.230.134.224:2016), packet: Update { chats: [BroadcastChatMessage { chat_seq: Some(17), player_name: \"Server\", message: \"Player FilterNotebookClient9548 has left.\" }], game_update_seq: None, game_updates: [], universe_update: NoChange, ping: PingPong { nonce: 7360180364644141395 } } }, TransportNotice::PacketDelivery { endpoint: Endpoint(157.230.134.224:2016), packet: Update { chats: [BroadcastChatMessage { chat_seq: Some(17), player_name: \"Server\", message: \"Player FilterNotebookClient9548 has left.\" }], game_update_seq: None, game_updates: [], universe_update: NoChange, ping: PingPong { nonce: 104731427795722266 } } }, TransportNotice::PacketDelivery { endpoint: Endpoint(157.230.134.224:2016), packet: Update { chats: [BroadcastChatMessage { chat_seq: Some(17), player_name: \"Server\", message: \"Player FilterNotebookClient9548 has left.\" }], game_update_seq: None, game_updates: [], universe_update: NoChange, ping: PingPong { nonce: 2356487764626633695 } } }, TransportNotice::PacketDelivery { endpoint: Endpoint(157.230.134.224:2016), packet: Response { sequence: 1, request_ack: Some(2), code: JoinedRoom { room_name: \"general\" } } }, TransportNotice::PacketDelivery { endpoint: Endpoint(157.230.134.224:2016), packet: Response { sequence: 1, request_ack: Some(2), code: JoinedRoom { room_name: \"general\" } } }, TransportNotice::PacketDelivery { endpoint: Endpoint(157.230.134.224:2016), packet: Response { sequence: 1, request_ack: Some(2), code: JoinedRoom { room_name: \"general\" } } }, TransportNotice::PacketDelivery { endpoint: Endpoint(157.230.134.224:2016), packet: Response { sequence: 2, request_ack: Some(2), code: BadRequest { error_msg: \"cannot join game because in-game\" } } }, TransportNotice::PacketDelivery { endpoint: Endpoint(157.230.134.224:2016), packet: Response { sequence: 2, request_ack: Some(2), code: BadRequest { error_msg: \"cannot join game because in-game\" } } }, TransportNotice::PacketDelivery { endpoint: Endpoint(157.230.134.224:2016), packet: Response { sequence: 2, request_ack: Some(2), code: BadRequest { error_msg: \"cannot join game because in-game\" } } }, TransportNotice::PacketDelivery { endpoint: Endpoint(157.230.134.224:2016), packet: Update { chats: [BroadcastChatMessage { chat_seq: Some(17), player_name: \"Server\", message: \"Player FilterNotebookClient9548 has left.\" }], game_update_seq: None, game_updates: [], universe_update: NoChange, ping: PingPong { nonce: 16341220932835915945 } } }, TransportNotice::PacketDelivery { endpoint: Endpoint(157.230.134.224:2016), packet: Update { chats: [BroadcastChatMessage { chat_seq: Some(17), player_name: \"Server\", message: \"Player FilterNotebookClient9548 has left.\" }], game_update_seq: None, game_updates: [], universe_update: NoChange, ping: PingPong { nonce: 10468910272722738397 } } }, TransportNotice::PacketDelivery { endpoint: Endpoint(157.230.134.224:2016), packet: Update { chats: [BroadcastChatMessage { chat_seq: Some(17), player_name: \"Server\", message: \"Player FilterNotebookClient9548 has left.\" }], game_update_seq: None, game_updates: [], universe_update: NoChange, ping: PingPong { nonce: 2784143945160378049 } } }, TransportNotice::PacketDelivery { endpoint: Endpoint(157.230.134.224:2016), packet: Update { chats: [BroadcastChatMessage { chat_seq: Some(17), player_name: \"Server\", message: \"Player FilterNotebookClient9548 has left.\" }], game_update_seq: None, game_updates: [], universe_update: NoChange, ping: PingPong { nonce: 6525986774666404548 } } }, TransportNotice::EndpointIdle { endpoint: Endpoint(157.230.134.224:2016) }, TransportNotice::PacketDelivery { endpoint: Endpoint(157.230.134.224:2016), packet: Update { chats: [BroadcastChatMessage { chat_seq: Some(17), player_name: \"Server\", message: \"Player FilterNotebookClient9548 has left.\" }], game_update_seq: None, game_updates: [], universe_update: NoChange, ping: PingPong { nonce: 17353833712327189106 } } }, TransportNotice::EndpointIdle { endpoint: Endpoint(157.230.134.224:2016) }]\n"
     ]
    },
    {
     "name": "stdout",
     "output_type": "stream",
     "text": [
      "LTI2783: got transport notifications: [TransportNotice::PacketDelivery { endpoint: Endpoint(157.230.134.224:2016), packet: Update { chats: [BroadcastChatMessage { chat_seq: Some(17), player_name: \"Server\", message: \"Player FilterNotebookClient9548 has left.\" }], game_update_seq: None, game_updates: [], universe_update: NoChange, ping: PingPong { nonce: 10294833991438285 } } }, TransportNotice::EndpointIdle { endpoint: Endpoint(157.230.134.224:2016) }, TransportNotice::PacketDelivery { endpoint: Endpoint(157.230.134.224:2016), packet: Update { chats: [BroadcastChatMessage { chat_seq: Some(17), player_name: \"Server\", message: \"Player FilterNotebookClient9548 has left.\" }], game_update_seq: None, game_updates: [], universe_update: NoChange, ping: PingPong { nonce: 11606090810505006053 } } }, TransportNotice::EndpointIdle { endpoint: Endpoint(157.230.134.224:2016) }, TransportNotice::PacketDelivery { endpoint: Endpoint(157.230.134.224:2016), packet: Update { chats: [BroadcastChatMessage { chat_seq: Some(17), player_name: \"Server\", message: \"Player FilterNotebookClient9548 has left.\" }], game_update_seq: None, game_updates: [], universe_update: NoChange, ping: PingPong { nonce: 1126423389851324675 } } }, TransportNotice::EndpointIdle { endpoint: Endpoint(157.230.134.224:2016) }, TransportNotice::PacketDelivery { endpoint: Endpoint(157.230.134.224:2016), packet: Update { chats: [BroadcastChatMessage { chat_seq: Some(17), player_name: \"Server\", message: \"Player FilterNotebookClient9548 has left.\" }], game_update_seq: None, game_updates: [], universe_update: NoChange, ping: PingPong { nonce: 7022243728330612410 } } }, TransportNotice::EndpointIdle { endpoint: Endpoint(157.230.134.224:2016) }, TransportNotice::PacketDelivery { endpoint: Endpoint(157.230.134.224:2016), packet: Response { sequence: 1, request_ack: Some(2), code: JoinedRoom { room_name: \"general\" } } }, TransportNotice::PacketDelivery { endpoint: Endpoint(157.230.134.224:2016), packet: Response { sequence: 1, request_ack: Some(2), code: JoinedRoom { room_name: \"general\" } } }, TransportNotice::PacketDelivery { endpoint: Endpoint(157.230.134.224:2016), packet: Response { sequence: 1, request_ack: Some(2), code: JoinedRoom { room_name: \"general\" } } }, TransportNotice::PacketDelivery { endpoint: Endpoint(157.230.134.224:2016), packet: Response { sequence: 2, request_ack: Some(2), code: BadRequest { error_msg: \"cannot join game because in-game\" } } }, TransportNotice::PacketDelivery { endpoint: Endpoint(157.230.134.224:2016), packet: Response { sequence: 2, request_ack: Some(2), code: BadRequest { error_msg: \"cannot join game because in-game\" } } }, TransportNotice::PacketDelivery { endpoint: Endpoint(157.230.134.224:2016), packet: Response { sequence: 2, request_ack: Some(2), code: BadRequest { error_msg: \"cannot join game because in-game\" } } }, TransportNotice::PacketDelivery { endpoint: Endpoint(157.230.134.224:2016), packet: Update { chats: [BroadcastChatMessage { chat_seq: Some(17), player_name: \"Server\", message: \"Player FilterNotebookClient9548 has left.\" }], game_update_seq: None, game_updates: [], universe_update: NoChange, ping: PingPong { nonce: 7683157599445820857 } } }, TransportNotice::PacketDelivery { endpoint: Endpoint(157.230.134.224:2016), packet: Update { chats: [BroadcastChatMessage { chat_seq: Some(17), player_name: \"Server\", message: \"Player FilterNotebookClient9548 has left.\" }], game_update_seq: None, game_updates: [], universe_update: NoChange, ping: PingPong { nonce: 10424067013262204111 } } }, TransportNotice::EndpointIdle { endpoint: Endpoint(157.230.134.224:2016) }, TransportNotice::PacketDelivery { endpoint: Endpoint(157.230.134.224:2016), packet: Update { chats: [BroadcastChatMessage { chat_seq: Some(17), player_name: \"Server\", message: \"Player FilterNotebookClient9548 has left.\" }], game_update_seq: None, game_updates: [], universe_update: NoChange, ping: PingPong { nonce: 2579823450455417514 } } }, TransportNotice::EndpointIdle { endpoint: Endpoint(157.230.134.224:2016) }, TransportNotice::PacketDelivery { endpoint: Endpoint(157.230.134.224:2016), packet: Update { chats: [BroadcastChatMessage { chat_seq: Some(17), player_name: \"Server\", message: \"Player FilterNotebookClient9548 has left.\" }], game_update_seq: None, game_updates: [], universe_update: NoChange, ping: PingPong { nonce: 10115880280498393930 } } }, TransportNotice::PacketDelivery { endpoint: Endpoint(157.230.134.224:2016), packet: Update { chats: [BroadcastChatMessage { chat_seq: Some(17), player_name: \"Server\", message: \"Player FilterNotebookClient9548 has left.\" }], game_update_seq: None, game_updates: [], universe_update: NoChange, ping: PingPong { nonce: 7018829109069607997 } } }, TransportNotice::PacketDelivery { endpoint: Endpoint(157.230.134.224:2016), packet: Update { chats: [BroadcastChatMessage { chat_seq: Some(17), player_name: \"Server\", message: \"Player FilterNotebookClient9548 has left.\" }], game_update_seq: None, game_updates: [], universe_update: NoChange, ping: PingPong { nonce: 14395860485175905278 } } }]\n",
      "LTI2784: got transport notifications: [TransportNotice::PacketDelivery { endpoint: Endpoint(157.230.134.224:2016), packet: Update { chats: [BroadcastChatMessage { chat_seq: Some(17), player_name: \"Server\", message: \"Player FilterNotebookClient9548 has left.\" }], game_update_seq: None, game_updates: [], universe_update: NoChange, ping: PingPong { nonce: 15622776602584624013 } } }, TransportNotice::PacketDelivery { endpoint: Endpoint(157.230.134.224:2016), packet: Update { chats: [BroadcastChatMessage { chat_seq: Some(17), player_name: \"Server\", message: \"Player FilterNotebookClient9548 has left.\" }], game_update_seq: None, game_updates: [], universe_update: NoChange, ping: PingPong { nonce: 13044877065235325287 } } }, TransportNotice::PacketDelivery { endpoint: Endpoint(157.230.134.224:2016), packet: Update { chats: [BroadcastChatMessage { chat_seq: Some(17), player_name: \"Server\", message: \"Player FilterNotebookClient9548 has left.\" }], game_update_seq: None, game_updates: [], universe_update: NoChange, ping: PingPong { nonce: 5640672979172886788 } } }, TransportNotice::PacketDelivery { endpoint: Endpoint(157.230.134.224:2016), packet: Update { chats: [BroadcastChatMessage { chat_seq: Some(17), player_name: \"Server\", message: \"Player FilterNotebookClient9548 has left.\" }], game_update_seq: None, game_updates: [], universe_update: NoChange, ping: PingPong { nonce: 6621534606513713837 } } }, TransportNotice::PacketDelivery { endpoint: Endpoint(157.230.134.224:2016), packet: Update { chats: [BroadcastChatMessage { chat_seq: Some(17), player_name: \"Server\", message: \"Player FilterNotebookClient9548 has left.\" }], game_update_seq: None, game_updates: [], universe_update: NoChange, ping: PingPong { nonce: 1310088879618378420 } } }, TransportNotice::PacketDelivery { endpoint: Endpoint(157.230.134.224:2016), packet: Response { sequence: 1, request_ack: Some(2), code: JoinedRoom { room_name: \"general\" } } }, TransportNotice::PacketDelivery { endpoint: Endpoint(157.230.134.224:2016), packet: Response { sequence: 1, request_ack: Some(2), code: JoinedRoom { room_name: \"general\" } } }, TransportNotice::PacketDelivery { endpoint: Endpoint(157.230.134.224:2016), packet: Response { sequence: 1, request_ack: Some(2), code: JoinedRoom { room_name: \"general\" } } }, TransportNotice::PacketDelivery { endpoint: Endpoint(157.230.134.224:2016), packet: Response { sequence: 2, request_ack: Some(2), code: BadRequest { error_msg: \"cannot join game because in-game\" } } }, TransportNotice::PacketDelivery { endpoint: Endpoint(157.230.134.224:2016), packet: Response { sequence: 2, request_ack: Some(2), code: BadRequest { error_msg: \"cannot join game because in-game\" } } }, TransportNotice::PacketDelivery { endpoint: Endpoint(157.230.134.224:2016), packet: Response { sequence: 2, request_ack: Some(2), code: BadRequest { error_msg: \"cannot join game because in-game\" } } }, TransportNotice::PacketDelivery { endpoint: Endpoint(157.230.134.224:2016), packet: Update { chats: [BroadcastChatMessage { chat_seq: Some(17), player_name: \"Server\", message: \"Player FilterNotebookClient9548 has left.\" }], game_update_seq: None, game_updates: [], universe_update: NoChange, ping: PingPong { nonce: 9336747844658201161 } } }, TransportNotice::PacketDelivery { endpoint: Endpoint(157.230.134.224:2016), packet: Update { chats: [BroadcastChatMessage { chat_seq: Some(17), player_name: \"Server\", message: \"Player FilterNotebookClient9548 has left.\" }], game_update_seq: None, game_updates: [], universe_update: NoChange, ping: PingPong { nonce: 6772952280247215229 } } }, TransportNotice::PacketDelivery { endpoint: Endpoint(157.230.134.224:2016), packet: Update { chats: [BroadcastChatMessage { chat_seq: Some(17), player_name: \"Server\", message: \"Player FilterNotebookClient9548 has left.\" }], game_update_seq: None, game_updates: [], universe_update: NoChange, ping: PingPong { nonce: 9027237054517864610 } } }, TransportNotice::PacketDelivery { endpoint: Endpoint(157.230.134.224:2016), packet: Update { chats: [BroadcastChatMessage { chat_seq: Some(17), player_name: \"Server\", message: \"Player FilterNotebookClient9548 has left.\" }], game_update_seq: None, game_updates: [], universe_update: NoChange, ping: PingPong { nonce: 9867750337022125514 } } }, TransportNotice::PacketDelivery { endpoint: Endpoint(157.230.134.224:2016), packet: Update { chats: [BroadcastChatMessage { chat_seq: Some(17), player_name: \"Server\", message: \"Player FilterNotebookClient9548 has left.\" }], game_update_seq: None, game_updates: [], universe_update: NoChange, ping: PingPong { nonce: 7136098055984208855 } } }]\n"
     ]
    },
    {
     "name": "stdout",
     "output_type": "stream",
     "text": [
      "LTI2785: got transport notifications: [TransportNotice::PacketDelivery { endpoint: Endpoint(157.230.134.224:2016), packet: Update { chats: [BroadcastChatMessage { chat_seq: Some(17), player_name: \"Server\", message: \"Player FilterNotebookClient9548 has left.\" }], game_update_seq: None, game_updates: [], universe_update: NoChange, ping: PingPong { nonce: 7453564582438132336 } } }, TransportNotice::PacketDelivery { endpoint: Endpoint(157.230.134.224:2016), packet: Update { chats: [BroadcastChatMessage { chat_seq: Some(17), player_name: \"Server\", message: \"Player FilterNotebookClient9548 has left.\" }], game_update_seq: None, game_updates: [], universe_update: NoChange, ping: PingPong { nonce: 12450038515134482432 } } }, TransportNotice::PacketDelivery { endpoint: Endpoint(157.230.134.224:2016), packet: Update { chats: [BroadcastChatMessage { chat_seq: Some(17), player_name: \"Server\", message: \"Player FilterNotebookClient9548 has left.\" }], game_update_seq: None, game_updates: [], universe_update: NoChange, ping: PingPong { nonce: 17797959521735793610 } } }, TransportNotice::PacketDelivery { endpoint: Endpoint(157.230.134.224:2016), packet: Update { chats: [BroadcastChatMessage { chat_seq: Some(17), player_name: \"Server\", message: \"Player FilterNotebookClient9548 has left.\" }], game_update_seq: None, game_updates: [], universe_update: NoChange, ping: PingPong { nonce: 11847680394171649296 } } }, TransportNotice::PacketDelivery { endpoint: Endpoint(157.230.134.224:2016), packet: Update { chats: [BroadcastChatMessage { chat_seq: Some(17), player_name: \"Server\", message: \"Player FilterNotebookClient9548 has left.\" }], game_update_seq: None, game_updates: [], universe_update: NoChange, ping: PingPong { nonce: 14217208507141432331 } } }, TransportNotice::PacketDelivery { endpoint: Endpoint(157.230.134.224:2016), packet: Response { sequence: 1, request_ack: Some(2), code: JoinedRoom { room_name: \"general\" } } }, TransportNotice::PacketDelivery { endpoint: Endpoint(157.230.134.224:2016), packet: Response { sequence: 1, request_ack: Some(2), code: JoinedRoom { room_name: \"general\" } } }, TransportNotice::PacketDelivery { endpoint: Endpoint(157.230.134.224:2016), packet: Response { sequence: 1, request_ack: Some(2), code: JoinedRoom { room_name: \"general\" } } }, TransportNotice::EndpointIdle { endpoint: Endpoint(157.230.134.224:2016) }, TransportNotice::PacketDelivery { endpoint: Endpoint(157.230.134.224:2016), packet: Response { sequence: 2, request_ack: Some(2), code: BadRequest { error_msg: \"cannot join game because in-game\" } } }, TransportNotice::PacketDelivery { endpoint: Endpoint(157.230.134.224:2016), packet: Response { sequence: 2, request_ack: Some(2), code: BadRequest { error_msg: \"cannot join game because in-game\" } } }, TransportNotice::PacketDelivery { endpoint: Endpoint(157.230.134.224:2016), packet: Response { sequence: 2, request_ack: Some(2), code: BadRequest { error_msg: \"cannot join game because in-game\" } } }, TransportNotice::PacketDelivery { endpoint: Endpoint(157.230.134.224:2016), packet: Update { chats: [BroadcastChatMessage { chat_seq: Some(17), player_name: \"Server\", message: \"Player FilterNotebookClient9548 has left.\" }], game_update_seq: None, game_updates: [], universe_update: NoChange, ping: PingPong { nonce: 11219756833517144410 } } }, TransportNotice::EndpointIdle { endpoint: Endpoint(157.230.134.224:2016) }, TransportNotice::PacketDelivery { endpoint: Endpoint(157.230.134.224:2016), packet: Update { chats: [BroadcastChatMessage { chat_seq: Some(17), player_name: \"Server\", message: \"Player FilterNotebookClient9548 has left.\" }], game_update_seq: None, game_updates: [], universe_update: NoChange, ping: PingPong { nonce: 11295573645143392074 } } }, TransportNotice::EndpointIdle { endpoint: Endpoint(157.230.134.224:2016) }, TransportNotice::PacketDelivery { endpoint: Endpoint(157.230.134.224:2016), packet: Update { chats: [BroadcastChatMessage { chat_seq: Some(17), player_name: \"Server\", message: \"Player FilterNotebookClient9548 has left.\" }], game_update_seq: None, game_updates: [], universe_update: NoChange, ping: PingPong { nonce: 9683262779541611608 } } }, TransportNotice::EndpointIdle { endpoint: Endpoint(157.230.134.224:2016) }, TransportNotice::PacketDelivery { endpoint: Endpoint(157.230.134.224:2016), packet: Update { chats: [BroadcastChatMessage { chat_seq: Some(17), player_name: \"Server\", message: \"Player FilterNotebookClient9548 has left.\" }], game_update_seq: None, game_updates: [], universe_update: NoChange, ping: PingPong { nonce: 6052251101314259344 } } }, TransportNotice::EndpointIdle { endpoint: Endpoint(157.230.134.224:2016) }, TransportNotice::PacketDelivery { endpoint: Endpoint(157.230.134.224:2016), packet: Update { chats: [BroadcastChatMessage { chat_seq: Some(17), player_name: \"Server\", message: \"Player FilterNotebookClient9548 has left.\" }], game_update_seq: None, game_updates: [], universe_update: NoChange, ping: PingPong { nonce: 16690909237822661705 } } }, TransportNotice::EndpointIdle { endpoint: Endpoint(157.230.134.224:2016) }]\n",
      "LTI2786: got transport notifications: [TransportNotice::PacketDelivery { endpoint: Endpoint(157.230.134.224:2016), packet: Update { chats: [BroadcastChatMessage { chat_seq: Some(17), player_name: \"Server\", message: \"Player FilterNotebookClient9548 has left.\" }], game_update_seq: None, game_updates: [], universe_update: NoChange, ping: PingPong { nonce: 623888841420043796 } } }, TransportNotice::EndpointIdle { endpoint: Endpoint(157.230.134.224:2016) }, TransportNotice::PacketDelivery { endpoint: Endpoint(157.230.134.224:2016), packet: Update { chats: [BroadcastChatMessage { chat_seq: Some(17), player_name: \"Server\", message: \"Player FilterNotebookClient9548 has left.\" }], game_update_seq: None, game_updates: [], universe_update: NoChange, ping: PingPong { nonce: 70985362604543821 } } }, TransportNotice::EndpointIdle { endpoint: Endpoint(157.230.134.224:2016) }, TransportNotice::PacketDelivery { endpoint: Endpoint(157.230.134.224:2016), packet: Update { chats: [BroadcastChatMessage { chat_seq: Some(17), player_name: \"Server\", message: \"Player FilterNotebookClient9548 has left.\" }], game_update_seq: None, game_updates: [], universe_update: NoChange, ping: PingPong { nonce: 9733469259971645405 } } }, TransportNotice::PacketDelivery { endpoint: Endpoint(157.230.134.224:2016), packet: Update { chats: [BroadcastChatMessage { chat_seq: Some(17), player_name: \"Server\", message: \"Player FilterNotebookClient9548 has left.\" }], game_update_seq: None, game_updates: [], universe_update: NoChange, ping: PingPong { nonce: 6408014662188017762 } } }, TransportNotice::PacketDelivery { endpoint: Endpoint(157.230.134.224:2016), packet: Update { chats: [BroadcastChatMessage { chat_seq: Some(17), player_name: \"Server\", message: \"Player FilterNotebookClient9548 has left.\" }], game_update_seq: None, game_updates: [], universe_update: NoChange, ping: PingPong { nonce: 7529508250818766218 } } }, TransportNotice::PacketDelivery { endpoint: Endpoint(157.230.134.224:2016), packet: Response { sequence: 1, request_ack: Some(2), code: JoinedRoom { room_name: \"general\" } } }, TransportNotice::PacketDelivery { endpoint: Endpoint(157.230.134.224:2016), packet: Response { sequence: 1, request_ack: Some(2), code: JoinedRoom { room_name: \"general\" } } }, TransportNotice::PacketDelivery { endpoint: Endpoint(157.230.134.224:2016), packet: Response { sequence: 1, request_ack: Some(2), code: JoinedRoom { room_name: \"general\" } } }, TransportNotice::PacketDelivery { endpoint: Endpoint(157.230.134.224:2016), packet: Response { sequence: 2, request_ack: Some(2), code: BadRequest { error_msg: \"cannot join game because in-game\" } } }, TransportNotice::PacketDelivery { endpoint: Endpoint(157.230.134.224:2016), packet: Response { sequence: 2, request_ack: Some(2), code: BadRequest { error_msg: \"cannot join game because in-game\" } } }, TransportNotice::PacketDelivery { endpoint: Endpoint(157.230.134.224:2016), packet: Response { sequence: 2, request_ack: Some(2), code: BadRequest { error_msg: \"cannot join game because in-game\" } } }, TransportNotice::PacketDelivery { endpoint: Endpoint(157.230.134.224:2016), packet: Update { chats: [BroadcastChatMessage { chat_seq: Some(17), player_name: \"Server\", message: \"Player FilterNotebookClient9548 has left.\" }], game_update_seq: None, game_updates: [], universe_update: NoChange, ping: PingPong { nonce: 14688195951480686606 } } }, TransportNotice::PacketDelivery { endpoint: Endpoint(157.230.134.224:2016), packet: Update { chats: [BroadcastChatMessage { chat_seq: Some(17), player_name: \"Server\", message: \"Player FilterNotebookClient9548 has left.\" }], game_update_seq: None, game_updates: [], universe_update: NoChange, ping: PingPong { nonce: 12404846518055652532 } } }, TransportNotice::PacketDelivery { endpoint: Endpoint(157.230.134.224:2016), packet: Update { chats: [BroadcastChatMessage { chat_seq: Some(17), player_name: \"Server\", message: \"Player FilterNotebookClient9548 has left.\" }], game_update_seq: None, game_updates: [], universe_update: NoChange, ping: PingPong { nonce: 441417619087119720 } } }, TransportNotice::PacketDelivery { endpoint: Endpoint(157.230.134.224:2016), packet: Update { chats: [BroadcastChatMessage { chat_seq: Some(17), player_name: \"Server\", message: \"Player FilterNotebookClient9548 has left.\" }], game_update_seq: None, game_updates: [], universe_update: NoChange, ping: PingPong { nonce: 16400951680122086118 } } }, TransportNotice::PacketDelivery { endpoint: Endpoint(157.230.134.224:2016), packet: Update { chats: [BroadcastChatMessage { chat_seq: Some(17), player_name: \"Server\", message: \"Player FilterNotebookClient9548 has left.\" }], game_update_seq: None, game_updates: [], universe_update: NoChange, ping: PingPong { nonce: 69214210754203608 } } }]\n"
     ]
    },
    {
     "name": "stdout",
     "output_type": "stream",
     "text": [
      "LTI2787: got transport notifications: [TransportNotice::PacketDelivery { endpoint: Endpoint(157.230.134.224:2016), packet: Update { chats: [BroadcastChatMessage { chat_seq: Some(17), player_name: \"Server\", message: \"Player FilterNotebookClient9548 has left.\" }], game_update_seq: None, game_updates: [], universe_update: NoChange, ping: PingPong { nonce: 860371146015963713 } } }, TransportNotice::PacketDelivery { endpoint: Endpoint(157.230.134.224:2016), packet: Update { chats: [BroadcastChatMessage { chat_seq: Some(17), player_name: \"Server\", message: \"Player FilterNotebookClient9548 has left.\" }], game_update_seq: None, game_updates: [], universe_update: NoChange, ping: PingPong { nonce: 10603590503228692860 } } }, TransportNotice::PacketDelivery { endpoint: Endpoint(157.230.134.224:2016), packet: Update { chats: [BroadcastChatMessage { chat_seq: Some(17), player_name: \"Server\", message: \"Player FilterNotebookClient9548 has left.\" }], game_update_seq: None, game_updates: [], universe_update: NoChange, ping: PingPong { nonce: 3844815401673796271 } } }, TransportNotice::PacketDelivery { endpoint: Endpoint(157.230.134.224:2016), packet: Update { chats: [BroadcastChatMessage { chat_seq: Some(17), player_name: \"Server\", message: \"Player FilterNotebookClient9548 has left.\" }], game_update_seq: None, game_updates: [], universe_update: NoChange, ping: PingPong { nonce: 15071443710680197763 } } }, TransportNotice::PacketDelivery { endpoint: Endpoint(157.230.134.224:2016), packet: Update { chats: [BroadcastChatMessage { chat_seq: Some(17), player_name: \"Server\", message: \"Player FilterNotebookClient9548 has left.\" }], game_update_seq: None, game_updates: [], universe_update: NoChange, ping: PingPong { nonce: 11244847610041513512 } } }, TransportNotice::PacketDelivery { endpoint: Endpoint(157.230.134.224:2016), packet: Response { sequence: 1, request_ack: Some(2), code: JoinedRoom { room_name: \"general\" } } }, TransportNotice::PacketDelivery { endpoint: Endpoint(157.230.134.224:2016), packet: Response { sequence: 1, request_ack: Some(2), code: JoinedRoom { room_name: \"general\" } } }, TransportNotice::PacketDelivery { endpoint: Endpoint(157.230.134.224:2016), packet: Response { sequence: 1, request_ack: Some(2), code: JoinedRoom { room_name: \"general\" } } }, TransportNotice::PacketDelivery { endpoint: Endpoint(157.230.134.224:2016), packet: Response { sequence: 2, request_ack: Some(2), code: BadRequest { error_msg: \"cannot join game because in-game\" } } }, TransportNotice::PacketDelivery { endpoint: Endpoint(157.230.134.224:2016), packet: Response { sequence: 2, request_ack: Some(2), code: BadRequest { error_msg: \"cannot join game because in-game\" } } }, TransportNotice::PacketDelivery { endpoint: Endpoint(157.230.134.224:2016), packet: Response { sequence: 2, request_ack: Some(2), code: BadRequest { error_msg: \"cannot join game because in-game\" } } }, TransportNotice::PacketDelivery { endpoint: Endpoint(157.230.134.224:2016), packet: Update { chats: [BroadcastChatMessage { chat_seq: Some(17), player_name: \"Server\", message: \"Player FilterNotebookClient9548 has left.\" }], game_update_seq: None, game_updates: [], universe_update: NoChange, ping: PingPong { nonce: 15369302882901025747 } } }, TransportNotice::PacketDelivery { endpoint: Endpoint(157.230.134.224:2016), packet: Update { chats: [BroadcastChatMessage { chat_seq: Some(17), player_name: \"Server\", message: \"Player FilterNotebookClient9548 has left.\" }], game_update_seq: None, game_updates: [], universe_update: NoChange, ping: PingPong { nonce: 359388165900381896 } } }, TransportNotice::PacketDelivery { endpoint: Endpoint(157.230.134.224:2016), packet: Update { chats: [BroadcastChatMessage { chat_seq: Some(17), player_name: \"Server\", message: \"Player FilterNotebookClient9548 has left.\" }], game_update_seq: None, game_updates: [], universe_update: NoChange, ping: PingPong { nonce: 6719578609169203106 } } }, TransportNotice::PacketDelivery { endpoint: Endpoint(157.230.134.224:2016), packet: Update { chats: [BroadcastChatMessage { chat_seq: Some(17), player_name: \"Server\", message: \"Player FilterNotebookClient9548 has left.\" }], game_update_seq: None, game_updates: [], universe_update: NoChange, ping: PingPong { nonce: 8286880578155347560 } } }, TransportNotice::PacketDelivery { endpoint: Endpoint(157.230.134.224:2016), packet: Update { chats: [BroadcastChatMessage { chat_seq: Some(17), player_name: \"Server\", message: \"Player FilterNotebookClient9548 has left.\" }], game_update_seq: None, game_updates: [], universe_update: NoChange, ping: PingPong { nonce: 11980298194142535884 } } }, TransportNotice::EndpointIdle { endpoint: Endpoint(157.230.134.224:2016) }]\n",
      "LTI2788: got transport notifications: [TransportNotice::PacketDelivery { endpoint: Endpoint(157.230.134.224:2016), packet: Update { chats: [BroadcastChatMessage { chat_seq: Some(17), player_name: \"Server\", message: \"Player FilterNotebookClient9548 has left.\" }], game_update_seq: None, game_updates: [], universe_update: NoChange, ping: PingPong { nonce: 7008137414198638567 } } }, TransportNotice::PacketDelivery { endpoint: Endpoint(157.230.134.224:2016), packet: Update { chats: [BroadcastChatMessage { chat_seq: Some(17), player_name: \"Server\", message: \"Player FilterNotebookClient9548 has left.\" }], game_update_seq: None, game_updates: [], universe_update: NoChange, ping: PingPong { nonce: 6915813348293135256 } } }, TransportNotice::EndpointIdle { endpoint: Endpoint(157.230.134.224:2016) }, TransportNotice::PacketDelivery { endpoint: Endpoint(157.230.134.224:2016), packet: Update { chats: [BroadcastChatMessage { chat_seq: Some(17), player_name: \"Server\", message: \"Player FilterNotebookClient9548 has left.\" }], game_update_seq: None, game_updates: [], universe_update: NoChange, ping: PingPong { nonce: 16054325935023953027 } } }, TransportNotice::EndpointIdle { endpoint: Endpoint(157.230.134.224:2016) }, TransportNotice::PacketDelivery { endpoint: Endpoint(157.230.134.224:2016), packet: Update { chats: [BroadcastChatMessage { chat_seq: Some(17), player_name: \"Server\", message: \"Player FilterNotebookClient9548 has left.\" }], game_update_seq: None, game_updates: [], universe_update: NoChange, ping: PingPong { nonce: 12187183573465345887 } } }, TransportNotice::EndpointIdle { endpoint: Endpoint(157.230.134.224:2016) }, TransportNotice::PacketDelivery { endpoint: Endpoint(157.230.134.224:2016), packet: Update { chats: [BroadcastChatMessage { chat_seq: Some(17), player_name: \"Server\", message: \"Player FilterNotebookClient9548 has left.\" }], game_update_seq: None, game_updates: [], universe_update: NoChange, ping: PingPong { nonce: 14780716310382245168 } } }, TransportNotice::EndpointIdle { endpoint: Endpoint(157.230.134.224:2016) }, TransportNotice::PacketDelivery { endpoint: Endpoint(157.230.134.224:2016), packet: Response { sequence: 1, request_ack: Some(2), code: JoinedRoom { room_name: \"general\" } } }, TransportNotice::PacketDelivery { endpoint: Endpoint(157.230.134.224:2016), packet: Response { sequence: 1, request_ack: Some(2), code: JoinedRoom { room_name: \"general\" } } }, TransportNotice::PacketDelivery { endpoint: Endpoint(157.230.134.224:2016), packet: Response { sequence: 1, request_ack: Some(2), code: JoinedRoom { room_name: \"general\" } } }, TransportNotice::PacketDelivery { endpoint: Endpoint(157.230.134.224:2016), packet: Response { sequence: 2, request_ack: Some(2), code: BadRequest { error_msg: \"cannot join game because in-game\" } } }, TransportNotice::PacketDelivery { endpoint: Endpoint(157.230.134.224:2016), packet: Response { sequence: 2, request_ack: Some(2), code: BadRequest { error_msg: \"cannot join game because in-game\" } } }, TransportNotice::PacketDelivery { endpoint: Endpoint(157.230.134.224:2016), packet: Response { sequence: 2, request_ack: Some(2), code: BadRequest { error_msg: \"cannot join game because in-game\" } } }, TransportNotice::PacketDelivery { endpoint: Endpoint(157.230.134.224:2016), packet: Response { sequence: 0, request_ack: None, code: KeepAlive } }, TransportNotice::PacketDelivery { endpoint: Endpoint(157.230.134.224:2016), packet: Update { chats: [BroadcastChatMessage { chat_seq: Some(17), player_name: \"Server\", message: \"Player FilterNotebookClient9548 has left.\" }], game_update_seq: None, game_updates: [], universe_update: NoChange, ping: PingPong { nonce: 11906769703424468739 } } }, TransportNotice::EndpointIdle { endpoint: Endpoint(157.230.134.224:2016) }, TransportNotice::PacketDelivery { endpoint: Endpoint(157.230.134.224:2016), packet: Update { chats: [BroadcastChatMessage { chat_seq: Some(17), player_name: \"Server\", message: \"Player FilterNotebookClient9548 has left.\" }], game_update_seq: None, game_updates: [], universe_update: NoChange, ping: PingPong { nonce: 13310135223696150198 } } }, TransportNotice::EndpointIdle { endpoint: Endpoint(157.230.134.224:2016) }, TransportNotice::PacketDelivery { endpoint: Endpoint(157.230.134.224:2016), packet: Update { chats: [BroadcastChatMessage { chat_seq: Some(17), player_name: \"Server\", message: \"Player FilterNotebookClient9548 has left.\" }], game_update_seq: None, game_updates: [], universe_update: NoChange, ping: PingPong { nonce: 12614174455382882646 } } }, TransportNotice::EndpointIdle { endpoint: Endpoint(157.230.134.224:2016) }, TransportNotice::PacketDelivery { endpoint: Endpoint(157.230.134.224:2016), packet: Update { chats: [BroadcastChatMessage { chat_seq: Some(17), player_name: \"Server\", message: \"Player FilterNotebookClient9548 has left.\" }], game_update_seq: None, game_updates: [], universe_update: NoChange, ping: PingPong { nonce: 461529176516736888 } } }, TransportNotice::PacketDelivery { endpoint: Endpoint(157.230.134.224:2016), packet: Update { chats: [BroadcastChatMessage { chat_seq: Some(17), player_name: \"Server\", message: \"Player FilterNotebookClient9548 has left.\" }], game_update_seq: None, game_updates: [], universe_update: NoChange, ping: PingPong { nonce: 12663601153489440557 } } }, TransportNotice::PacketDelivery { endpoint: Endpoint(157.230.134.224:2016), packet: Update { chats: [BroadcastChatMessage { chat_seq: Some(17), player_name: \"Server\", message: \"Player FilterNotebookClient9548 has left.\" }], game_update_seq: None, game_updates: [], universe_update: NoChange, ping: PingPong { nonce: 7504555740943896770 } } }]\n"
     ]
    },
    {
     "name": "stdout",
     "output_type": "stream",
     "text": [
      "LTI2789: got transport notifications: [TransportNotice::PacketDelivery { endpoint: Endpoint(157.230.134.224:2016), packet: Update { chats: [BroadcastChatMessage { chat_seq: Some(17), player_name: \"Server\", message: \"Player FilterNotebookClient9548 has left.\" }], game_update_seq: None, game_updates: [], universe_update: NoChange, ping: PingPong { nonce: 13183091701640724057 } } }, TransportNotice::PacketDelivery { endpoint: Endpoint(157.230.134.224:2016), packet: Update { chats: [BroadcastChatMessage { chat_seq: Some(17), player_name: \"Server\", message: \"Player FilterNotebookClient9548 has left.\" }], game_update_seq: None, game_updates: [], universe_update: NoChange, ping: PingPong { nonce: 8817623401282210901 } } }, TransportNotice::PacketDelivery { endpoint: Endpoint(157.230.134.224:2016), packet: Update { chats: [BroadcastChatMessage { chat_seq: Some(17), player_name: \"Server\", message: \"Player FilterNotebookClient9548 has left.\" }], game_update_seq: None, game_updates: [], universe_update: NoChange, ping: PingPong { nonce: 7780696943957059439 } } }, TransportNotice::PacketDelivery { endpoint: Endpoint(157.230.134.224:2016), packet: Response { sequence: 1, request_ack: Some(2), code: JoinedRoom { room_name: \"general\" } } }, TransportNotice::PacketDelivery { endpoint: Endpoint(157.230.134.224:2016), packet: Response { sequence: 1, request_ack: Some(2), code: JoinedRoom { room_name: \"general\" } } }, TransportNotice::PacketDelivery { endpoint: Endpoint(157.230.134.224:2016), packet: Response { sequence: 1, request_ack: Some(2), code: JoinedRoom { room_name: \"general\" } } }, TransportNotice::PacketDelivery { endpoint: Endpoint(157.230.134.224:2016), packet: Response { sequence: 2, request_ack: Some(2), code: BadRequest { error_msg: \"cannot join game because in-game\" } } }, TransportNotice::PacketDelivery { endpoint: Endpoint(157.230.134.224:2016), packet: Response { sequence: 2, request_ack: Some(2), code: BadRequest { error_msg: \"cannot join game because in-game\" } } }, TransportNotice::PacketDelivery { endpoint: Endpoint(157.230.134.224:2016), packet: Response { sequence: 2, request_ack: Some(2), code: BadRequest { error_msg: \"cannot join game because in-game\" } } }, TransportNotice::PacketDelivery { endpoint: Endpoint(157.230.134.224:2016), packet: Update { chats: [BroadcastChatMessage { chat_seq: Some(17), player_name: \"Server\", message: \"Player FilterNotebookClient9548 has left.\" }], game_update_seq: None, game_updates: [], universe_update: NoChange, ping: PingPong { nonce: 8007092927174718730 } } }, TransportNotice::PacketDelivery { endpoint: Endpoint(157.230.134.224:2016), packet: Update { chats: [BroadcastChatMessage { chat_seq: Some(17), player_name: \"Server\", message: \"Player FilterNotebookClient9548 has left.\" }], game_update_seq: None, game_updates: [], universe_update: NoChange, ping: PingPong { nonce: 5461539755515447163 } } }, TransportNotice::PacketDelivery { endpoint: Endpoint(157.230.134.224:2016), packet: Update { chats: [BroadcastChatMessage { chat_seq: Some(17), player_name: \"Server\", message: \"Player FilterNotebookClient9548 has left.\" }], game_update_seq: None, game_updates: [], universe_update: NoChange, ping: PingPong { nonce: 11733351346554620576 } } }, TransportNotice::PacketDelivery { endpoint: Endpoint(157.230.134.224:2016), packet: Update { chats: [BroadcastChatMessage { chat_seq: Some(17), player_name: \"Server\", message: \"Player FilterNotebookClient9548 has left.\" }], game_update_seq: None, game_updates: [], universe_update: NoChange, ping: PingPong { nonce: 7835000150612056843 } } }, TransportNotice::PacketDelivery { endpoint: Endpoint(157.230.134.224:2016), packet: Update { chats: [BroadcastChatMessage { chat_seq: Some(17), player_name: \"Server\", message: \"Player FilterNotebookClient9548 has left.\" }], game_update_seq: None, game_updates: [], universe_update: NoChange, ping: PingPong { nonce: 7641916087922694796 } } }, TransportNotice::PacketDelivery { endpoint: Endpoint(157.230.134.224:2016), packet: Update { chats: [BroadcastChatMessage { chat_seq: Some(17), player_name: \"Server\", message: \"Player FilterNotebookClient9548 has left.\" }], game_update_seq: None, game_updates: [], universe_update: NoChange, ping: PingPong { nonce: 10028837130133028595 } } }, TransportNotice::PacketDelivery { endpoint: Endpoint(157.230.134.224:2016), packet: Update { chats: [BroadcastChatMessage { chat_seq: Some(17), player_name: \"Server\", message: \"Player FilterNotebookClient9548 has left.\" }], game_update_seq: None, game_updates: [], universe_update: NoChange, ping: PingPong { nonce: 7499926123362978494 } } }]\n",
      "LTI2790: got transport notifications: [TransportNotice::PacketDelivery { endpoint: Endpoint(157.230.134.224:2016), packet: Update { chats: [BroadcastChatMessage { chat_seq: Some(17), player_name: \"Server\", message: \"Player FilterNotebookClient9548 has left.\" }], game_update_seq: None, game_updates: [], universe_update: NoChange, ping: PingPong { nonce: 403680867042999840 } } }, TransportNotice::PacketDelivery { endpoint: Endpoint(157.230.134.224:2016), packet: Update { chats: [BroadcastChatMessage { chat_seq: Some(17), player_name: \"Server\", message: \"Player FilterNotebookClient9548 has left.\" }], game_update_seq: None, game_updates: [], universe_update: NoChange, ping: PingPong { nonce: 3349309248077812737 } } }, TransportNotice::PacketDelivery { endpoint: Endpoint(157.230.134.224:2016), packet: Update { chats: [BroadcastChatMessage { chat_seq: Some(17), player_name: \"Server\", message: \"Player FilterNotebookClient9548 has left.\" }], game_update_seq: None, game_updates: [], universe_update: NoChange, ping: PingPong { nonce: 16027836922737434538 } } }, TransportNotice::PacketDelivery { endpoint: Endpoint(157.230.134.224:2016), packet: Response { sequence: 1, request_ack: Some(2), code: JoinedRoom { room_name: \"general\" } } }, TransportNotice::PacketDelivery { endpoint: Endpoint(157.230.134.224:2016), packet: Response { sequence: 1, request_ack: Some(2), code: JoinedRoom { room_name: \"general\" } } }, TransportNotice::PacketDelivery { endpoint: Endpoint(157.230.134.224:2016), packet: Response { sequence: 1, request_ack: Some(2), code: JoinedRoom { room_name: \"general\" } } }, TransportNotice::PacketDelivery { endpoint: Endpoint(157.230.134.224:2016), packet: Response { sequence: 2, request_ack: Some(2), code: BadRequest { error_msg: \"cannot join game because in-game\" } } }, TransportNotice::PacketDelivery { endpoint: Endpoint(157.230.134.224:2016), packet: Response { sequence: 2, request_ack: Some(2), code: BadRequest { error_msg: \"cannot join game because in-game\" } } }, TransportNotice::PacketDelivery { endpoint: Endpoint(157.230.134.224:2016), packet: Response { sequence: 2, request_ack: Some(2), code: BadRequest { error_msg: \"cannot join game because in-game\" } } }, TransportNotice::PacketDelivery { endpoint: Endpoint(157.230.134.224:2016), packet: Update { chats: [BroadcastChatMessage { chat_seq: Some(17), player_name: \"Server\", message: \"Player FilterNotebookClient9548 has left.\" }], game_update_seq: None, game_updates: [], universe_update: NoChange, ping: PingPong { nonce: 3319139175638959078 } } }, TransportNotice::PacketDelivery { endpoint: Endpoint(157.230.134.224:2016), packet: Update { chats: [BroadcastChatMessage { chat_seq: Some(17), player_name: \"Server\", message: \"Player FilterNotebookClient9548 has left.\" }], game_update_seq: None, game_updates: [], universe_update: NoChange, ping: PingPong { nonce: 3631540933486281500 } } }, TransportNotice::EndpointIdle { endpoint: Endpoint(157.230.134.224:2016) }, TransportNotice::PacketDelivery { endpoint: Endpoint(157.230.134.224:2016), packet: Update { chats: [BroadcastChatMessage { chat_seq: Some(17), player_name: \"Server\", message: \"Player FilterNotebookClient9548 has left.\" }], game_update_seq: None, game_updates: [], universe_update: NoChange, ping: PingPong { nonce: 15833240264888661149 } } }, TransportNotice::PacketDelivery { endpoint: Endpoint(157.230.134.224:2016), packet: Update { chats: [BroadcastChatMessage { chat_seq: Some(17), player_name: \"Server\", message: \"Player FilterNotebookClient9548 has left.\" }], game_update_seq: None, game_updates: [], universe_update: NoChange, ping: PingPong { nonce: 5099913705459605035 } } }, TransportNotice::EndpointIdle { endpoint: Endpoint(157.230.134.224:2016) }, TransportNotice::PacketDelivery { endpoint: Endpoint(157.230.134.224:2016), packet: Update { chats: [BroadcastChatMessage { chat_seq: Some(17), player_name: \"Server\", message: \"Player FilterNotebookClient9548 has left.\" }], game_update_seq: None, game_updates: [], universe_update: NoChange, ping: PingPong { nonce: 17073160152632650587 } } }, TransportNotice::EndpointIdle { endpoint: Endpoint(157.230.134.224:2016) }, TransportNotice::PacketDelivery { endpoint: Endpoint(157.230.134.224:2016), packet: Update { chats: [BroadcastChatMessage { chat_seq: Some(17), player_name: \"Server\", message: \"Player FilterNotebookClient9548 has left.\" }], game_update_seq: None, game_updates: [], universe_update: NoChange, ping: PingPong { nonce: 12706204912299342621 } } }, TransportNotice::EndpointIdle { endpoint: Endpoint(157.230.134.224:2016) }, TransportNotice::PacketDelivery { endpoint: Endpoint(157.230.134.224:2016), packet: Update { chats: [BroadcastChatMessage { chat_seq: Some(17), player_name: \"Server\", message: \"Player FilterNotebookClient9548 has left.\" }], game_update_seq: None, game_updates: [], universe_update: NoChange, ping: PingPong { nonce: 10726994449430233166 } } }]\n"
     ]
    }
   ],
   "source": [
    "fiface.get_notifications()"
   ]
  },
  {
   "cell_type": "code",
   "execution_count": 23,
   "id": "3195ba3a",
   "metadata": {},
   "outputs": [
    {
     "data": {
      "text/plain": [
       "[]"
      ]
     },
     "execution_count": 23,
     "metadata": {},
     "output_type": "execute_result"
    }
   ],
   "source": [
    "fiface.get_notifications()"
   ]
  }
 ],
 "metadata": {
  "kernelspec": {
   "display_name": "Python 3 (ipykernel)",
   "language": "python",
   "name": "python3"
  },
  "language_info": {
   "codemirror_mode": {
    "name": "ipython",
    "version": 3
   },
   "file_extension": ".py",
   "mimetype": "text/x-python",
   "name": "python",
   "nbconvert_exporter": "python",
   "pygments_lexer": "ipython3",
   "version": "3.10.8"
  }
 },
 "nbformat": 4,
 "nbformat_minor": 5
}
