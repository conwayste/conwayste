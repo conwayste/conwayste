{
 "cells": [
  {
   "cell_type": "markdown",
   "id": "aba2c68e",
   "metadata": {},
   "source": [
    "# Boilerplate"
   ]
  },
  {
   "cell_type": "code",
   "execution_count": 1,
   "id": "bf75903d",
   "metadata": {},
   "outputs": [],
   "source": [
    "import sys\n",
    "sys.path.insert(0, 'venv/lib/python3.10/site-packages')\n",
    "import asyncio\n",
    "import time\n",
    "\n",
    "from nwv2_python_wrapper import *\n",
    "import nwv2_python_wrapper"
   ]
  },
  {
   "cell_type": "markdown",
   "id": "4b39dc18",
   "metadata": {},
   "source": [
    "# Run"
   ]
  },
  {
   "cell_type": "markdown",
   "id": "a2c354f3",
   "metadata": {},
   "source": [
    "List all Python wrappers"
   ]
  },
  {
   "cell_type": "code",
   "execution_count": 2,
   "id": "37227bf5",
   "metadata": {},
   "outputs": [
    {
     "data": {
      "text/plain": [
       "['BroadcastChatMessageW',\n",
       " 'EndpointW',\n",
       " 'FilterCmdW',\n",
       " 'FilterInterface',\n",
       " 'FilterModeW',\n",
       " 'FilterNoticeW',\n",
       " 'FilterRspW',\n",
       " 'GameOptionsW',\n",
       " 'GameOutcomeW',\n",
       " 'GameUpdateW',\n",
       " 'GenPartInfoW',\n",
       " 'GenStateDiffPartW',\n",
       " 'GenStateDiffW',\n",
       " 'NetRegionW',\n",
       " 'PacketSettingsW',\n",
       " 'PacketW',\n",
       " 'PlayerInfoW',\n",
       " 'ProcessUniqueIdW',\n",
       " 'RequestActionW',\n",
       " 'ResponseCodeW',\n",
       " 'RoomListW',\n",
       " 'TransportCmdW',\n",
       " 'TransportInterface',\n",
       " 'TransportNoticeW',\n",
       " 'TransportRspW',\n",
       " 'UniUpdateW',\n",
       " 'new_transport_interface']"
      ]
     },
     "execution_count": 2,
     "metadata": {},
     "output_type": "execute_result"
    }
   ],
   "source": [
    "[f for f in dir(nwv2_python_wrapper) if not f.startswith('__') and f != 'nwv2_python_wrapper']"
   ]
  },
  {
   "cell_type": "markdown",
   "id": "e28d4512",
   "metadata": {},
   "source": [
    "## Transport layer setup"
   ]
  },
  {
   "cell_type": "markdown",
   "id": "5d9622f6",
   "metadata": {},
   "source": [
    "Create the Transport layer and run it in the background."
   ]
  },
  {
   "cell_type": "code",
   "execution_count": 3,
   "id": "38346200",
   "metadata": {},
   "outputs": [
    {
     "data": {
      "text/plain": [
       "<Future pending cb=[<builtins.PyDoneCallback object at 0x7fbc8e1ef330>()]>"
      ]
     },
     "execution_count": 3,
     "metadata": {},
     "output_type": "execute_result"
    }
   ],
   "source": [
    "tiface_inner = await new_transport_interface(\"0.0.0.0\", 12345)\n",
    "tiface_inner.run()"
   ]
  },
  {
   "cell_type": "markdown",
   "id": "c494d4e9",
   "metadata": {},
   "source": [
    "## Wrap the PYO3 Transport Interface in a Python class with the same methods"
   ]
  },
  {
   "cell_type": "markdown",
   "id": "4ebb0113",
   "metadata": {},
   "source": [
    "Note that there is no `run()`. Hence, the passed in `TransportInterface` instance must have already had its `run()` method called."
   ]
  },
  {
   "cell_type": "code",
   "execution_count": 4,
   "id": "bdbc20d1",
   "metadata": {},
   "outputs": [
    {
     "data": {
      "text/plain": [
       "<__main__.LoggingTransportInterface at 0x7fbc8e25fc70>"
      ]
     },
     "execution_count": 4,
     "metadata": {},
     "output_type": "execute_result"
    }
   ],
   "source": [
    "class LoggingTransportInterface:\n",
    "    def __init__(self, inner):\n",
    "        self.inner = inner\n",
    "        \n",
    "    async def command_response(self, transport_cmd):\n",
    "        print(f\"LTI: received transport_cmd {transport_cmd}\")\n",
    "        transport_rsp = await self.inner.command_response(transport_cmd)\n",
    "        print(f\"LTI: got transport_rsp back from Transport layer: {transport_rsp}\")\n",
    "        return transport_rsp\n",
    "    \n",
    "    def get_notifications(self):\n",
    "        transport_notif_list = self.inner.get_notifications()\n",
    "        print(f\"LTI: got transport notifications: {transport_notif_list}\")\n",
    "        return transport_notif_list\n",
    "        \n",
    "tiface = LoggingTransportInterface(tiface_inner)\n",
    "tiface"
   ]
  },
  {
   "cell_type": "markdown",
   "id": "344a2a3f",
   "metadata": {},
   "source": [
    "# Filter layer setup"
   ]
  },
  {
   "cell_type": "code",
   "execution_count": 5,
   "id": "6fa2ab7b",
   "metadata": {},
   "outputs": [],
   "source": [
    "fiface = FilterInterface(tiface, FilterModeW(\"client\"))"
   ]
  },
  {
   "cell_type": "markdown",
   "id": "82345b04",
   "metadata": {},
   "source": [
    "Find methods to run"
   ]
  },
  {
   "cell_type": "code",
   "execution_count": 6,
   "id": "5e2d7d02",
   "metadata": {},
   "outputs": [
    {
     "data": {
      "text/plain": [
       "['command_response', 'get_notifications', 'notif_poll_ms', 'run']"
      ]
     },
     "execution_count": 6,
     "metadata": {},
     "output_type": "execute_result"
    }
   ],
   "source": [
    "[m for m in dir(fiface) if not m.startswith('__')]"
   ]
  },
  {
   "cell_type": "markdown",
   "id": "794804e3",
   "metadata": {},
   "source": [
    "Run Filter!"
   ]
  },
  {
   "cell_type": "code",
   "execution_count": 7,
   "id": "5cda3921",
   "metadata": {},
   "outputs": [
    {
     "name": "stdout",
     "output_type": "stream",
     "text": [
      "LTI: got transport notifications: []\n",
      "LTI: got transport notifications: []\n",
      "LTI: got transport notifications: []\n",
      "LTI: got transport notifications: []\n"
     ]
    }
   ],
   "source": [
    "run_fut = fiface.run()\n",
    "\n",
    "# After waiting a bit, the above future should not have completed\n",
    "time.sleep(0.1)\n",
    "assert not run_fut.done()"
   ]
  },
  {
   "cell_type": "markdown",
   "id": "df201e7f",
   "metadata": {},
   "source": [
    "Get the number of milliseconds between calling `get_notifications` on the contained `TransportInterface`. This can also be assigned to at any time. Lower values can cause performance issues, while higher values add latency for anything involving filter notifications."
   ]
  },
  {
   "cell_type": "code",
   "execution_count": 8,
   "id": "911ef513",
   "metadata": {},
   "outputs": [
    {
     "data": {
      "text/plain": [
       "30"
      ]
     },
     "execution_count": 8,
     "metadata": {},
     "output_type": "execute_result"
    }
   ],
   "source": [
    "fiface.notif_poll_ms"
   ]
  },
  {
   "cell_type": "code",
   "execution_count": 9,
   "id": "0e0a435c",
   "metadata": {},
   "outputs": [],
   "source": [
    "fiface.notif_poll_ms = 100"
   ]
  },
  {
   "cell_type": "markdown",
   "id": "f713c42a",
   "metadata": {},
   "source": [
    "## Filter layer operation"
   ]
  },
  {
   "cell_type": "markdown",
   "id": "17a3b5a9",
   "metadata": {},
   "source": [
    "### As a client, connect to server"
   ]
  },
  {
   "cell_type": "code",
   "execution_count": 10,
   "id": "6af62415",
   "metadata": {},
   "outputs": [
    {
     "data": {
      "text/plain": [
       "Connect { name: \"FilterNotebookClient9991\", client_version: \"0.0.666\" }"
      ]
     },
     "execution_count": 10,
     "metadata": {},
     "output_type": "execute_result"
    }
   ],
   "source": [
    "import random\n",
    "id = random.randint(1,10000)\n",
    "connect_action = RequestActionW(\"connect\", name=\"FilterNotebookClient{}\".format(id), client_version=\"0.0.666\")\n",
    "connect_action"
   ]
  },
  {
   "cell_type": "code",
   "execution_count": 11,
   "id": "3b3a1776",
   "metadata": {},
   "outputs": [
    {
     "name": "stdout",
     "output_type": "stream",
     "text": [
      "LTI: got transport notifications: []\n"
     ]
    },
    {
     "data": {
      "text/plain": [
       "SendRequestAction { endpoint: Endpoint(157.230.134.224:2016), action: Connect { name: \"FilterNotebookClient9991\", client_version: \"0.0.666\" } }"
      ]
     },
     "execution_count": 11,
     "metadata": {},
     "output_type": "execute_result"
    }
   ],
   "source": [
    "chococat_endpoint = EndpointW(\"157.230.134.224:2016\")\n",
    "filter_cmd = FilterCmdW(\"sendrequestaction\", endpoint=chococat_endpoint, action=connect_action)\n",
    "filter_cmd"
   ]
  },
  {
   "cell_type": "code",
   "execution_count": 12,
   "id": "7b4b5724",
   "metadata": {},
   "outputs": [
    {
     "name": "stdout",
     "output_type": "stream",
     "text": [
      "LTI: received transport_cmd SendPackets { endpoint: Endpoint(157.230.134.224:2016), packet_infos: [PacketSettings { tid: ProcessUniqueId { prefix: 0, offset: 0 }, retry_interval: 5ms }], packets: [Request { sequence: 1, response_ack: None, cookie: None, action: Connect { name: \"FilterNotebookClient9991\", client_version: \"0.0.666\" } }] }\n",
      "LTI: got transport_rsp back from Transport layer: None\n"
     ]
    },
    {
     "name": "stderr",
     "output_type": "stream",
     "text": [
      "thread 'tokio-runtime-worker' panicked at 'command_response must return TransportRspW: PyErr { type: <class 'TypeError'>, value: TypeError(\"'NoneType' object cannot be converted to 'TransportRspW'\"), traceback: None }', nwv2-python-wrapper/src/filter/mod.rs:267:63\n",
      "stack backtrace:\n",
      "   0: rust_begin_unwind\n",
      "             at /rustc/897e37553bba8b42751c67658967889d11ecd120/library/std/src/panicking.rs:584:5\n",
      "   1: core::panicking::panic_fmt\n",
      "             at /rustc/897e37553bba8b42751c67658967889d11ecd120/library/core/src/panicking.rs:142:14\n",
      "   2: core::result::unwrap_failed\n",
      "             at /rustc/897e37553bba8b42751c67658967889d11ecd120/library/core/src/result.rs:1785:5\n",
      "   3: core::result::Result<T,E>::expect\n",
      "             at /rustc/897e37553bba8b42751c67658967889d11ecd120/library/core/src/result.rs:1064:23\n",
      "   4: nwv2_python_wrapper::filter::handle_transport_cmd_resp::{{closure}}\n",
      "             at ./src/filter/mod.rs:267:13\n",
      "   5: <core::future::from_generator::GenFuture<T> as core::future::future::Future>::poll\n",
      "             at /rustc/897e37553bba8b42751c67658967889d11ecd120/library/core/src/future/mod.rs:91:19\n",
      "   6: <tokio::future::maybe_done::MaybeDone<Fut> as core::future::future::Future>::poll\n",
      "             at /home/aaron/.cargo/registry/src/github.com-1ecc6299db9ec823/tokio-1.21.1/src/future/maybe_done.rs:68:48\n",
      "   7: nwv2_python_wrapper::filter::FilterInterface::run::{{closure}}::{{closure}}\n",
      "             at /home/aaron/.cargo/registry/src/github.com-1ecc6299db9ec823/tokio-1.21.1/src/macros/join.rs:116:24\n",
      "   8: <tokio::future::poll_fn::PollFn<F> as core::future::future::Future>::poll\n",
      "             at /home/aaron/.cargo/registry/src/github.com-1ecc6299db9ec823/tokio-1.21.1/src/future/poll_fn.rs:38:9\n",
      "   9: nwv2_python_wrapper::filter::FilterInterface::run::{{closure}}\n",
      "             at ./src/filter/mod.rs:147:13\n",
      "  10: <core::future::from_generator::GenFuture<T> as core::future::future::Future>::poll\n",
      "             at /rustc/897e37553bba8b42751c67658967889d11ecd120/library/core/src/future/mod.rs:91:19\n",
      "  11: <pyo3_asyncio::generic::Cancellable<F> as core::future::future::Future>::poll\n",
      "             at /home/aaron/.cargo/registry/src/github.com-1ecc6299db9ec823/pyo3-asyncio-0.16.0/src/generic.rs:652:33\n",
      "  12: <tokio::task::task_local::TaskLocalFuture<T,F> as core::future::future::Future>::poll::{{closure}}\n",
      "             at /home/aaron/.cargo/registry/src/github.com-1ecc6299db9ec823/tokio-1.21.1/src/task/task_local.rs:348:35\n",
      "  13: tokio::task::task_local::LocalKey<T>::scope_inner\n",
      "             at /home/aaron/.cargo/registry/src/github.com-1ecc6299db9ec823/tokio-1.21.1/src/task/task_local.rs:233:19\n",
      "  14: <tokio::task::task_local::TaskLocalFuture<T,F> as core::future::future::Future>::poll\n",
      "             at /home/aaron/.cargo/registry/src/github.com-1ecc6299db9ec823/tokio-1.21.1/src/task/task_local.rs:345:13\n",
      "  15: <tokio::task::task_local::TaskLocalFuture<T,F> as core::future::future::Future>::poll{{reify.shim}}\n",
      "             at /home/aaron/.cargo/registry/src/github.com-1ecc6299db9ec823/tokio-1.21.1/src/task/task_local.rs:338:5\n",
      "  16: <core::pin::Pin<P> as core::future::future::Future>::poll\n",
      "             at /rustc/897e37553bba8b42751c67658967889d11ecd120/library/core/src/future/future.rs:124:9\n",
      "  17: pyo3_asyncio::generic::future_into_py_with_locals::{{closure}}::{{closure}}\n",
      "             at /home/aaron/.cargo/registry/src/github.com-1ecc6299db9ec823/pyo3-asyncio-0.16.0/src/generic.rs:573:13\n",
      "  18: <core::future::from_generator::GenFuture<T> as core::future::future::Future>::poll\n",
      "             at /rustc/897e37553bba8b42751c67658967889d11ecd120/library/core/src/future/mod.rs:91:19\n",
      "  19: <pyo3_asyncio::tokio::TokioRuntime as pyo3_asyncio::generic::Runtime>::spawn::{{closure}}\n",
      "             at /home/aaron/.cargo/registry/src/github.com-1ecc6299db9ec823/pyo3-asyncio-0.16.0/src/tokio.rs:77:16\n",
      "  20: <core::future::from_generator::GenFuture<T> as core::future::future::Future>::poll\n",
      "             at /rustc/897e37553bba8b42751c67658967889d11ecd120/library/core/src/future/mod.rs:91:19\n",
      "  21: tokio::runtime::task::core::CoreStage<T>::poll::{{closure}}\n",
      "             at /home/aaron/.cargo/registry/src/github.com-1ecc6299db9ec823/tokio-1.21.1/src/runtime/task/core.rs:184:17\n",
      "  22: tokio::loom::std::unsafe_cell::UnsafeCell<T>::with_mut\n",
      "             at /home/aaron/.cargo/registry/src/github.com-1ecc6299db9ec823/tokio-1.21.1/src/loom/std/unsafe_cell.rs:14:9\n",
      "  23: tokio::runtime::task::core::CoreStage<T>::poll\n",
      "             at /home/aaron/.cargo/registry/src/github.com-1ecc6299db9ec823/tokio-1.21.1/src/runtime/task/core.rs:174:13\n",
      "  24: tokio::runtime::task::harness::poll_future::{{closure}}\n",
      "             at /home/aaron/.cargo/registry/src/github.com-1ecc6299db9ec823/tokio-1.21.1/src/runtime/task/harness.rs:480:19\n",
      "  25: <core::panic::unwind_safe::AssertUnwindSafe<F> as core::ops::function::FnOnce<()>>::call_once\n",
      "             at /rustc/897e37553bba8b42751c67658967889d11ecd120/library/core/src/panic/unwind_safe.rs:271:9\n",
      "  26: std::panicking::try::do_call\n",
      "             at /rustc/897e37553bba8b42751c67658967889d11ecd120/library/std/src/panicking.rs:492:40\n",
      "  27: std::panicking::try\n",
      "             at /rustc/897e37553bba8b42751c67658967889d11ecd120/library/std/src/panicking.rs:456:19\n",
      "  28: std::panic::catch_unwind\n",
      "             at /rustc/897e37553bba8b42751c67658967889d11ecd120/library/std/src/panic.rs:137:14\n",
      "  29: tokio::runtime::task::harness::poll_future\n",
      "             at /home/aaron/.cargo/registry/src/github.com-1ecc6299db9ec823/tokio-1.21.1/src/runtime/task/harness.rs:468:18\n",
      "  30: tokio::runtime::task::harness::Harness<T,S>::poll_inner\n",
      "             at /home/aaron/.cargo/registry/src/github.com-1ecc6299db9ec823/tokio-1.21.1/src/runtime/task/harness.rs:104:27\n",
      "  31: tokio::runtime::task::harness::Harness<T,S>::poll\n",
      "             at /home/aaron/.cargo/registry/src/github.com-1ecc6299db9ec823/tokio-1.21.1/src/runtime/task/harness.rs:57:15\n",
      "  32: tokio::runtime::task::raw::RawTask::poll\n",
      "             at /home/aaron/.cargo/registry/src/github.com-1ecc6299db9ec823/tokio-1.21.1/src/runtime/task/raw.rs:134:18\n",
      "  33: tokio::runtime::task::LocalNotified<S>::run\n",
      "             at /home/aaron/.cargo/registry/src/github.com-1ecc6299db9ec823/tokio-1.21.1/src/runtime/task/mod.rs:385:9\n",
      "  34: tokio::runtime::scheduler::multi_thread::worker::Context::run_task::{{closure}}\n",
      "             at /home/aaron/.cargo/registry/src/github.com-1ecc6299db9ec823/tokio-1.21.1/src/runtime/scheduler/multi_thread/worker.rs:421:13\n",
      "  35: tokio::coop::with_budget::{{closure}}\n",
      "             at /home/aaron/.cargo/registry/src/github.com-1ecc6299db9ec823/tokio-1.21.1/src/coop.rs:102:9\n",
      "  36: std::thread::local::LocalKey<T>::try_with\n",
      "             at /rustc/897e37553bba8b42751c67658967889d11ecd120/library/std/src/thread/local.rs:445:16\n",
      "  37: std::thread::local::LocalKey<T>::with\n",
      "             at /rustc/897e37553bba8b42751c67658967889d11ecd120/library/std/src/thread/local.rs:421:9\n",
      "  38: tokio::coop::with_budget\n",
      "             at /home/aaron/.cargo/registry/src/github.com-1ecc6299db9ec823/tokio-1.21.1/src/coop.rs:95:5\n",
      "  39: tokio::coop::budget\n",
      "             at /home/aaron/.cargo/registry/src/github.com-1ecc6299db9ec823/tokio-1.21.1/src/coop.rs:72:5\n",
      "  40: tokio::runtime::scheduler::multi_thread::worker::Context::run_task\n",
      "             at /home/aaron/.cargo/registry/src/github.com-1ecc6299db9ec823/tokio-1.21.1/src/runtime/scheduler/multi_thread/worker.rs:420:9\n",
      "  41: tokio::runtime::scheduler::multi_thread::worker::Context::run\n",
      "             at /home/aaron/.cargo/registry/src/github.com-1ecc6299db9ec823/tokio-1.21.1/src/runtime/scheduler/multi_thread/worker.rs:387:24\n",
      "  42: tokio::runtime::scheduler::multi_thread::worker::run::{{closure}}\n",
      "             at /home/aaron/.cargo/registry/src/github.com-1ecc6299db9ec823/tokio-1.21.1/src/runtime/scheduler/multi_thread/worker.rs:372:17\n",
      "  43: tokio::macros::scoped_tls::ScopedKey<T>::set\n",
      "             at /home/aaron/.cargo/registry/src/github.com-1ecc6299db9ec823/tokio-1.21.1/src/macros/scoped_tls.rs:61:9\n",
      "  44: tokio::runtime::scheduler::multi_thread::worker::run\n",
      "             at /home/aaron/.cargo/registry/src/github.com-1ecc6299db9ec823/tokio-1.21.1/src/runtime/scheduler/multi_thread/worker.rs:369:5\n",
      "  45: tokio::runtime::scheduler::multi_thread::worker::Launch::launch::{{closure}}\n",
      "             at /home/aaron/.cargo/registry/src/github.com-1ecc6299db9ec823/tokio-1.21.1/src/runtime/scheduler/multi_thread/worker.rs:348:45\n",
      "  46: <tokio::runtime::blocking::task::BlockingTask<T> as core::future::future::Future>::poll\n",
      "             at /home/aaron/.cargo/registry/src/github.com-1ecc6299db9ec823/tokio-1.21.1/src/runtime/blocking/task.rs:42:21\n",
      "  47: tokio::runtime::task::core::CoreStage<T>::poll::{{closure}}\n",
      "             at /home/aaron/.cargo/registry/src/github.com-1ecc6299db9ec823/tokio-1.21.1/src/runtime/task/core.rs:184:17\n",
      "  48: tokio::loom::std::unsafe_cell::UnsafeCell<T>::with_mut\n",
      "             at /home/aaron/.cargo/registry/src/github.com-1ecc6299db9ec823/tokio-1.21.1/src/loom/std/unsafe_cell.rs:14:9\n",
      "  49: tokio::runtime::task::core::CoreStage<T>::poll\n",
      "             at /home/aaron/.cargo/registry/src/github.com-1ecc6299db9ec823/tokio-1.21.1/src/runtime/task/core.rs:174:13\n",
      "  50: tokio::runtime::task::harness::poll_future::{{closure}}\n",
      "             at /home/aaron/.cargo/registry/src/github.com-1ecc6299db9ec823/tokio-1.21.1/src/runtime/task/harness.rs:480:19\n",
      "  51: <core::panic::unwind_safe::AssertUnwindSafe<F> as core::ops::function::FnOnce<()>>::call_once\n",
      "             at /rustc/897e37553bba8b42751c67658967889d11ecd120/library/core/src/panic/unwind_safe.rs:271:9\n",
      "  52: std::panicking::try::do_call\n",
      "             at /rustc/897e37553bba8b42751c67658967889d11ecd120/library/std/src/panicking.rs:492:40\n",
      "  53: std::panicking::try\n",
      "             at /rustc/897e37553bba8b42751c67658967889d11ecd120/library/std/src/panicking.rs:456:19\n",
      "  54: std::panic::catch_unwind\n",
      "             at /rustc/897e37553bba8b42751c67658967889d11ecd120/library/std/src/panic.rs:137:14\n",
      "  55: tokio::runtime::task::harness::poll_future\n",
      "             at /home/aaron/.cargo/registry/src/github.com-1ecc6299db9ec823/tokio-1.21.1/src/runtime/task/harness.rs:468:18\n",
      "  56: tokio::runtime::task::harness::Harness<T,S>::poll_inner\n",
      "             at /home/aaron/.cargo/registry/src/github.com-1ecc6299db9ec823/tokio-1.21.1/src/runtime/task/harness.rs:104:27\n",
      "  57: tokio::runtime::task::harness::Harness<T,S>::poll\n",
      "             at /home/aaron/.cargo/registry/src/github.com-1ecc6299db9ec823/tokio-1.21.1/src/runtime/task/harness.rs:57:15\n",
      "  58: tokio::runtime::task::raw::RawTask::poll\n",
      "             at /home/aaron/.cargo/registry/src/github.com-1ecc6299db9ec823/tokio-1.21.1/src/runtime/task/raw.rs:134:18\n",
      "  59: tokio::runtime::task::UnownedTask<S>::run\n",
      "             at /home/aaron/.cargo/registry/src/github.com-1ecc6299db9ec823/tokio-1.21.1/src/runtime/task/mod.rs:422:9\n",
      "  60: tokio::runtime::blocking::pool::Task::run\n",
      "             at /home/aaron/.cargo/registry/src/github.com-1ecc6299db9ec823/tokio-1.21.1/src/runtime/blocking/pool.rs:111:9\n",
      "  61: tokio::runtime::blocking::pool::Inner::run\n",
      "             at /home/aaron/.cargo/registry/src/github.com-1ecc6299db9ec823/tokio-1.21.1/src/runtime/blocking/pool.rs:346:17\n",
      "  62: tokio::runtime::blocking::pool::Spawner::spawn_thread::{{closure}}\n",
      "             at /home/aaron/.cargo/registry/src/github.com-1ecc6299db9ec823/tokio-1.21.1/src/runtime/blocking/pool.rs:321:13\n",
      "note: Some details are omitted, run with `RUST_BACKTRACE=full` for a verbose backtrace.\n"
     ]
    }
   ],
   "source": [
    "await fiface.command_response(filter_cmd)"
   ]
  },
  {
   "cell_type": "code",
   "execution_count": 13,
   "id": "22e24814",
   "metadata": {},
   "outputs": [
    {
     "ename": "Exception",
     "evalue": "filter notify channel was disconnected",
     "output_type": "error",
     "traceback": [
      "\u001b[0;31m---------------------------------------------------------------------------\u001b[0m",
      "\u001b[0;31mException\u001b[0m                                 Traceback (most recent call last)",
      "Cell \u001b[0;32mIn [13], line 1\u001b[0m\n\u001b[0;32m----> 1\u001b[0m \u001b[43mfiface\u001b[49m\u001b[38;5;241;43m.\u001b[39;49m\u001b[43mget_notifications\u001b[49m\u001b[43m(\u001b[49m\u001b[43m)\u001b[49m\n",
      "\u001b[0;31mException\u001b[0m: filter notify channel was disconnected"
     ]
    }
   ],
   "source": [
    "fiface.get_notifications()"
   ]
  },
  {
   "cell_type": "code",
   "execution_count": null,
   "id": "ced0db80",
   "metadata": {},
   "outputs": [],
   "source": [
    "new_response_code = _[0]\n",
    "new_response_code"
   ]
  },
  {
   "cell_type": "code",
   "execution_count": null,
   "id": "b249bbc9",
   "metadata": {},
   "outputs": [],
   "source": [
    "cookie = new_response_code.response_code.cookie\n",
    "cookie"
   ]
  },
  {
   "cell_type": "markdown",
   "id": "dc6ea9ec",
   "metadata": {},
   "source": [
    "### Convenience function"
   ]
  },
  {
   "cell_type": "code",
   "execution_count": null,
   "id": "49b15c8b",
   "metadata": {},
   "outputs": [],
   "source": [
    "async def request_action_to_filter(req_action, endpoint=chococat_endpoint):\n",
    "    filter_cmd = FilterCmdW(\"sendrequestaction\", endpoint=endpoint, action=req_action)\n",
    "    return await fiface.command_response(filter_cmd)"
   ]
  },
  {
   "cell_type": "markdown",
   "id": "b645dda2",
   "metadata": {},
   "source": [
    "### Join a room"
   ]
  },
  {
   "cell_type": "code",
   "execution_count": null,
   "id": "abf8bcd1",
   "metadata": {},
   "outputs": [],
   "source": [
    "await request_action_to_filter(RequestActionW(\"joinroom\", room_name=\"general\"))"
   ]
  },
  {
   "cell_type": "markdown",
   "id": "6480d75d",
   "metadata": {},
   "source": [
    "Due to a bug in the Netwayste v1 server, there is a `BadRequest { error_msg: \"cannot join game because in-game\" }` filter notice following the `JoinedRoom` filter notice, below. Apparently, it's caused by a packet retry of the `JoinRoom` request action by the Transport layer, which is erroneously being treated as a second request action by the NWv1 server. It's erroneous because the request sequence is the same, so it should have been dropped by the server."
   ]
  },
  {
   "cell_type": "code",
   "execution_count": null,
   "id": "d34eac0d",
   "metadata": {},
   "outputs": [],
   "source": [
    "fiface.get_notifications()"
   ]
  }
 ],
 "metadata": {
  "kernelspec": {
   "display_name": "Python 3 (ipykernel)",
   "language": "python",
   "name": "python3"
  },
  "language_info": {
   "codemirror_mode": {
    "name": "ipython",
    "version": 3
   },
   "file_extension": ".py",
   "mimetype": "text/x-python",
   "name": "python",
   "nbconvert_exporter": "python",
   "pygments_lexer": "ipython3",
   "version": "3.10.8"
  }
 },
 "nbformat": 4,
 "nbformat_minor": 5
}
