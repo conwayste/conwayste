{
 "cells": [
  {
   "cell_type": "markdown",
   "id": "aba2c68e",
   "metadata": {},
   "source": [
    "# Boilerplate"
   ]
  },
  {
   "cell_type": "code",
   "execution_count": null,
   "id": "bf75903d",
   "metadata": {},
   "outputs": [],
   "source": [
    "import sys\n",
    "sys.path.insert(0, 'venv/lib/python3.10/site-packages')\n",
    "import asyncio\n",
    "import time\n",
    "\n",
    "from nwv2_python_wrapper import *\n",
    "import nwv2_python_wrapper\n",
    "\n",
    "init_logging()\n",
    "\n",
    "[f for f in dir(nwv2_python_wrapper) if not f.startswith('__') and f != 'nwv2_python_wrapper']"
   ]
  },
  {
   "cell_type": "markdown",
   "id": "4b39dc18",
   "metadata": {},
   "source": [
    "# Setup"
   ]
  },
  {
   "cell_type": "code",
   "execution_count": null,
   "id": "38346200",
   "metadata": {},
   "outputs": [],
   "source": [
    "# Temporary workaround until the random port generated from `0` passed in can be obtained\n",
    "SERVER_PORT = 62014\n",
    "local_notebook_server_ept = EndpointW(f\"127.0.0.1:{SERVER_PORT}\")\n",
    "\n",
    "client_tiface = await new_transport_interface(\"0.0.0.0\", 0, TransportModeW(\"client\"))\n",
    "client_tiface.run()\n",
    "\n",
    "server_tiface = await new_transport_interface(\"0.0.0.0\", SERVER_PORT, TransportModeW(\"server\"))\n",
    "server_tiface.run()\n",
    "\n",
    "client_fiface = FilterInterface(client_tiface, FilterModeW(\"client\"))\n",
    "server_fiface = FilterInterface(server_tiface, FilterModeW(\"server\"))\n",
    "\n",
    "client_fiface_fut = client_fiface.run()\n",
    "server_fiface_fut = server_fiface.run()\n",
    "\n",
    "# After waiting a bit, the above futures should not have completed\n",
    "time.sleep(0.1)\n",
    "assert not client_fiface_fut.done() and not server_fiface_fut.done()\n",
    "\n",
    "server_name = \"Local Conwayste Server (notebook)\"\n",
    "server_version = \"1.2.34.56\"\n",
    "player_count = 8675309\n",
    "room_count = 9001\n",
    "await server_fiface.command_response(FilterCmdW(\"changeserverstatus\",\n",
    "                                                server_name=server_name,\n",
    "                                                server_version=server_version,\n",
    "                                                player_count=player_count,\n",
    "                                                room_count=room_count))"
   ]
  },
  {
   "cell_type": "markdown",
   "id": "513571e2",
   "metadata": {},
   "source": [
    "# Successful Authentication"
   ]
  },
  {
   "cell_type": "markdown",
   "id": "17a3b5a9",
   "metadata": {},
   "source": [
    "## As a client, connect to server"
   ]
  },
  {
   "cell_type": "code",
   "execution_count": null,
   "id": "6af62415",
   "metadata": {},
   "outputs": [],
   "source": [
    "\n",
    "import random\n",
    "id = random.randint(1,10000)\n",
    "connect_action = RequestActionW(\"connect\",\n",
    "                                name=\"FilterNotebookClient{}\".format(id),\n",
    "                                client_version=\"0.0.666\")\n",
    "server_ept = local_notebook_server_ept\n",
    "\n",
    "# Just a convenience function to make all this easier\n",
    "async def request_action_to_filter(req_action, endpoint=server_ept):\n",
    "    filter_cmd = FilterCmdW(\"sendrequestaction\", endpoint=endpoint, action=req_action)\n",
    "    return await client_fiface.command_response(filter_cmd)\n",
    "\n",
    "await request_action_to_filter(connect_action)"
   ]
  },
  {
   "cell_type": "markdown",
   "id": "d7a6b782",
   "metadata": {},
   "source": [
    "## As a server, handle the incoming Connect\n",
    "\n",
    "The notebook is acting as the server app layer here."
   ]
  },
  {
   "cell_type": "code",
   "execution_count": null,
   "id": "9fba4daf",
   "metadata": {},
   "outputs": [],
   "source": [
    "time.sleep(0.1)\n",
    "\n",
    "svr_notifs = server_fiface.get_notifications()\n",
    "assert len(svr_notifs) > 0\n",
    "assert svr_notifs[0].variant == 'ClientAuthRequest'\n",
    "auth_req = svr_notifs[0]\n",
    "client_auth_fields = auth_req.client_auth_fields\n",
    "player_name = client_auth_fields.player_name\n",
    "client_ept_from_connect = auth_req.endpoint\n",
    "\n",
    "decision = AuthDecisionW('loggedin', server_version='0.0.667')\n",
    "\n",
    "await server_fiface.command_response(FilterCmdW(\"completeauthrequest\",\n",
    "                                                endpoint=client_ept_from_connect,\n",
    "                                                decision=decision))"
   ]
  },
  {
   "cell_type": "markdown",
   "id": "b2cba573",
   "metadata": {},
   "source": [
    "## As a client, get notifications (the `LoggedIn` response code)"
   ]
  },
  {
   "cell_type": "code",
   "execution_count": null,
   "id": "22e24814",
   "metadata": {},
   "outputs": [],
   "source": [
    "time.sleep(0.05)\n",
    "client_notifs = client_fiface.get_notifications()\n",
    "\n",
    "assert len(client_notifs) > 0\n",
    "\n",
    "# assumes the first notification is a response code\n",
    "print(f\"Received: {client_notifs[0].variant}\")\n",
    "assert client_notifs[0].variant == 'NewResponseCode'\n",
    "resp_code = client_notifs[0].response_code\n",
    "\n",
    "assert resp_code.variant == 'LoggedIn'\n",
    "assert len(resp_code.cookie) > 0\n",
    "\n",
    "print(f\"Client cookie is: {resp_code.cookie}\")"
   ]
  },
  {
   "cell_type": "markdown",
   "id": "9384a12c",
   "metadata": {},
   "source": [
    "# Client Reconnection"
   ]
  },
  {
   "cell_type": "markdown",
   "id": "3f44c9a8",
   "metadata": {},
   "source": [
    "## As a client, reconnect to server"
   ]
  },
  {
   "cell_type": "code",
   "execution_count": null,
   "id": "1d3e85c3",
   "metadata": {},
   "outputs": [],
   "source": [
    "connect_action = RequestActionW(\"connect\",\n",
    "                                name=\"FilterNotebookClient{}\".format(id),\n",
    "                                client_version=\"0.0.666\")\n",
    "server_ept = local_notebook_server_ept\n",
    "\n",
    "# Just a convenience function to make all this easier\n",
    "async def request_action_to_filter(req_action, endpoint=server_ept):\n",
    "    filter_cmd = FilterCmdW(\"sendrequestaction\", endpoint=endpoint, action=req_action)\n",
    "    return await client_fiface.command_response(filter_cmd)\n",
    "\n",
    "await request_action_to_filter(connect_action)"
   ]
  },
  {
   "cell_type": "markdown",
   "id": "2160b45a",
   "metadata": {},
   "source": [
    "## As a server, handle the incoming Connect\n",
    "\n",
    "The notebook is acting as the server app layer here."
   ]
  },
  {
   "cell_type": "code",
   "execution_count": null,
   "id": "603af8a3",
   "metadata": {},
   "outputs": [],
   "source": [
    "time.sleep(0.1)\n",
    "\n",
    "svr_notifs = server_fiface.get_notifications()\n",
    "assert len(svr_notifs) > 0\n",
    "print(svr_notifs[0])\n",
    "req_action = svr_notifs[0].request_action\n",
    "print(req_action)\n",
    "\n",
    "# WIP: Understand why the Server returns a Connect request action instead of dropping it in is_valid_connect_packet()\n"
   ]
  }
 ],
 "metadata": {
  "kernelspec": {
   "display_name": "Python 3 (ipykernel)",
   "language": "python",
   "name": "python3"
  },
  "language_info": {
   "codemirror_mode": {
    "name": "ipython",
    "version": 3
   },
   "file_extension": ".py",
   "mimetype": "text/x-python",
   "name": "python",
   "nbconvert_exporter": "python",
   "pygments_lexer": "ipython3",
   "version": "3.10.12"
  }
 },
 "nbformat": 4,
 "nbformat_minor": 5
}
