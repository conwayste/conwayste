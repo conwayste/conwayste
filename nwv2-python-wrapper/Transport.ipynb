{
 "cells": [
  {
   "cell_type": "markdown",
   "id": "45d0fa70",
   "metadata": {},
   "source": [
    "# Boilerplate"
   ]
  },
  {
   "cell_type": "markdown",
   "id": "69735df3",
   "metadata": {},
   "source": [
    "There's probably a better way than what follows"
   ]
  },
  {
   "cell_type": "code",
   "execution_count": 1,
   "id": "f16786c2",
   "metadata": {},
   "outputs": [],
   "source": [
    "import sys\n",
    "sys.path.insert(0, 'venv/lib/python3.10/site-packages')\n",
    "import asyncio\n",
    "\n",
    "from nwv2_python_wrapper import *\n",
    "import nwv2_python_wrapper"
   ]
  },
  {
   "cell_type": "markdown",
   "id": "88f69a0e",
   "metadata": {},
   "source": [
    "# Run"
   ]
  },
  {
   "cell_type": "markdown",
   "id": "d1e76153",
   "metadata": {},
   "source": [
    "What can we run?"
   ]
  },
  {
   "cell_type": "code",
   "execution_count": 2,
   "id": "36378854",
   "metadata": {},
   "outputs": [
    {
     "data": {
      "text/plain": [
       "['EndpointW',\n",
       " 'PacketSettingsW',\n",
       " 'PacketW',\n",
       " 'ProcessUniqueIdW',\n",
       " 'RequestActionW',\n",
       " 'TransportCmdW',\n",
       " 'TransportInterface',\n",
       " 'TransportNoticeW',\n",
       " 'TransportRspW',\n",
       " 'new_transport_interface']"
      ]
     },
     "execution_count": 2,
     "metadata": {},
     "output_type": "execute_result"
    }
   ],
   "source": [
    "[f for f in dir(nwv2_python_wrapper) if not f.startswith('__') and f != 'nwv2_python_wrapper']"
   ]
  },
  {
   "cell_type": "markdown",
   "id": "bcef1b31",
   "metadata": {},
   "source": [
    "## Transport Setup"
   ]
  },
  {
   "cell_type": "markdown",
   "id": "c13b73da",
   "metadata": {},
   "source": [
    "Create a new transport interface, asynchronously. This uses the Python `asyncio` event loop, which a Jupyter Notebook already has running."
   ]
  },
  {
   "cell_type": "code",
   "execution_count": 3,
   "id": "951d512e",
   "metadata": {},
   "outputs": [
    {
     "data": {
      "text/plain": [
       "<Future pending cb=[<builtins.PyDoneCallback object at 0x7f25b323f750>()]>"
      ]
     },
     "execution_count": 3,
     "metadata": {},
     "output_type": "execute_result"
    }
   ],
   "source": [
    "tiface_fut = new_transport_interface(\"0.0.0.0\", 12346)\n",
    "tiface_fut"
   ]
  },
  {
   "cell_type": "markdown",
   "id": "61a95d07",
   "metadata": {},
   "source": [
    "Await the future to get the `TransportInterface`. Note: unlike in Rust, `await` isn't necessary to drive Future completion."
   ]
  },
  {
   "cell_type": "code",
   "execution_count": 4,
   "id": "69c46da0",
   "metadata": {},
   "outputs": [
    {
     "data": {
      "text/plain": [
       "TransportInterface{ transport: Some(<Transport>),   cmd_tx: ...,   response_rx: ...,   notify_rx: ... }"
      ]
     },
     "execution_count": 4,
     "metadata": {},
     "output_type": "execute_result"
    }
   ],
   "source": [
    "tiface = await tiface_fut\n",
    "tiface"
   ]
  },
  {
   "cell_type": "markdown",
   "id": "10fd49c7",
   "metadata": {},
   "source": [
    "### Run the Transport in background\n",
    "Here is the fun part :)"
   ]
  },
  {
   "cell_type": "code",
   "execution_count": 5,
   "id": "f2da8f18",
   "metadata": {},
   "outputs": [
    {
     "data": {
      "text/plain": [
       "<Future pending cb=[<builtins.PyDoneCallback object at 0x7f25b323f570>()]>"
      ]
     },
     "execution_count": 5,
     "metadata": {},
     "output_type": "execute_result"
    }
   ],
   "source": [
    "run_fut = tiface.run()\n",
    "run_fut"
   ]
  },
  {
   "cell_type": "markdown",
   "id": "a07224cc",
   "metadata": {},
   "source": [
    "If the Future completed right away, it means something's fishy."
   ]
  },
  {
   "cell_type": "code",
   "execution_count": 6,
   "id": "219b18d5",
   "metadata": {},
   "outputs": [],
   "source": [
    "assert not run_fut.done()"
   ]
  },
  {
   "cell_type": "markdown",
   "id": "775e8e38",
   "metadata": {},
   "source": [
    "Note the `transport: None` at the beginning of the following `repr` output. It is `None` because `run()` takes the `Transport`."
   ]
  },
  {
   "cell_type": "code",
   "execution_count": 7,
   "id": "ae4bfde5",
   "metadata": {},
   "outputs": [
    {
     "data": {
      "text/plain": [
       "TransportInterface{ transport: None,   cmd_tx: ...,   response_rx: ...,   notify_rx: ... }"
      ]
     },
     "execution_count": 7,
     "metadata": {},
     "output_type": "execute_result"
    }
   ],
   "source": [
    "tiface"
   ]
  },
  {
   "cell_type": "markdown",
   "id": "37113bd1",
   "metadata": {},
   "source": [
    "## Transport Operation"
   ]
  },
  {
   "cell_type": "markdown",
   "id": "fdb16430",
   "metadata": {},
   "source": [
    "Create a `ProcessUniqueId` wrapper."
   ]
  },
  {
   "cell_type": "code",
   "execution_count": 8,
   "id": "21f9e2d9",
   "metadata": {},
   "outputs": [
    {
     "data": {
      "text/plain": [
       "ProcessUniqueID{<puid-0-0>}"
      ]
     },
     "execution_count": 8,
     "metadata": {},
     "output_type": "execute_result"
    }
   ],
   "source": [
    "puid = ProcessUniqueIdW()\n",
    "puid"
   ]
  },
  {
   "cell_type": "markdown",
   "id": "58be50f4",
   "metadata": {},
   "source": [
    "Create another, and compare against the first."
   ]
  },
  {
   "cell_type": "code",
   "execution_count": 9,
   "id": "25646cee",
   "metadata": {},
   "outputs": [
    {
     "name": "stdout",
     "output_type": "stream",
     "text": [
      "ProcessUniqueID{<puid-0-1>}\n"
     ]
    }
   ],
   "source": [
    "puid2 = ProcessUniqueIdW()\n",
    "print(repr(puid2))\n",
    "assert puid != puid2"
   ]
  },
  {
   "cell_type": "markdown",
   "id": "e37ae3c7",
   "metadata": {},
   "source": [
    "### New Remote Endpoint"
   ]
  },
  {
   "cell_type": "markdown",
   "id": "3d24f19c",
   "metadata": {},
   "source": [
    "Make a transport command"
   ]
  },
  {
   "cell_type": "code",
   "execution_count": 10,
   "id": "0bed462e",
   "metadata": {},
   "outputs": [
    {
     "data": {
      "text/plain": [
       "Endpoint(157.230.134.224:2016)"
      ]
     },
     "execution_count": 10,
     "metadata": {},
     "output_type": "execute_result"
    }
   ],
   "source": [
    "chococat_endpoint = EndpointW(\"157.230.134.224:2016\")\n",
    "chococat_endpoint"
   ]
  },
  {
   "cell_type": "code",
   "execution_count": 11,
   "id": "e088f92b",
   "metadata": {},
   "outputs": [
    {
     "data": {
      "text/plain": [
       "NewEndpoint { endpoint: Endpoint(157.230.134.224:2016), timeout: 100ms }"
      ]
     },
     "execution_count": 11,
     "metadata": {},
     "output_type": "execute_result"
    }
   ],
   "source": [
    "new_endpoint_transport_cmd = TransportCmdW(\"newendpoint\", endpoint=chococat_endpoint, timeout=100)\n",
    "new_endpoint_transport_cmd"
   ]
  },
  {
   "cell_type": "markdown",
   "id": "f6c01dd7",
   "metadata": {},
   "source": [
    "Send the command to the Transport layer and get the response from it."
   ]
  },
  {
   "cell_type": "code",
   "execution_count": 12,
   "id": "fd4185de",
   "metadata": {},
   "outputs": [
    {
     "data": {
      "text/plain": [
       "TransportRsp::Accepted"
      ]
     },
     "execution_count": 12,
     "metadata": {},
     "output_type": "execute_result"
    }
   ],
   "source": [
    "await tiface.command_response(new_endpoint_transport_cmd)"
   ]
  },
  {
   "cell_type": "markdown",
   "id": "2974f695",
   "metadata": {},
   "source": [
    "### Send Packet to Remote"
   ]
  },
  {
   "cell_type": "markdown",
   "id": "4d8b1092",
   "metadata": {},
   "source": [
    "Create a `PacketSettings` wrapper. Note that the unique ID `tid` is optional, and duration is in milliseconds."
   ]
  },
  {
   "cell_type": "code",
   "execution_count": 13,
   "id": "b4177247",
   "metadata": {},
   "outputs": [
    {
     "data": {
      "text/plain": [
       "PacketSettings { tid: ProcessUniqueId { prefix: 0, offset: 2 }, retry_interval: 250ms }"
      ]
     },
     "execution_count": 13,
     "metadata": {},
     "output_type": "execute_result"
    }
   ],
   "source": [
    "packet_settings = PacketSettingsW(5000) # retry after 5000ms\n",
    "packet_settings"
   ]
  },
  {
   "cell_type": "markdown",
   "id": "eadfd63f",
   "metadata": {},
   "source": [
    "Make another transport command"
   ]
  },
  {
   "cell_type": "markdown",
   "id": "f9315182",
   "metadata": {},
   "source": [
    "Make a packet"
   ]
  },
  {
   "cell_type": "code",
   "execution_count": 14,
   "id": "08bb3211",
   "metadata": {},
   "outputs": [
    {
     "data": {
      "text/plain": [
       "GetStatus { ping: PingPong { nonce: 98765432 } }"
      ]
     },
     "execution_count": 14,
     "metadata": {},
     "output_type": "execute_result"
    }
   ],
   "source": [
    "getstatus_packet = PacketW(variant=\"getstatus\", ping_nonce=98765432)\n",
    "getstatus_packet"
   ]
  },
  {
   "cell_type": "code",
   "execution_count": 15,
   "id": "f47b3bb1",
   "metadata": {},
   "outputs": [
    {
     "data": {
      "text/plain": [
       "SendPackets { endpoint: Endpoint(157.230.134.224:2016), packet_infos: [PacketSettings { tid: ProcessUniqueId { prefix: 0, offset: 2 }, retry_interval: 250ms }], packets: [GetStatus { ping: PingPong { nonce: 98765432 } }] }"
      ]
     },
     "execution_count": 15,
     "metadata": {},
     "output_type": "execute_result"
    }
   ],
   "source": [
    "\n",
    "\n",
    "send_packets_cmd = TransportCmdW(\"sendpackets\",\n",
    "                                 endpoint=chococat_endpoint,\n",
    "                                 packet_infos=[packet_settings],\n",
    "                                 packets=[getstatus_packet])\n",
    "send_packets_cmd"
   ]
  },
  {
   "cell_type": "markdown",
   "id": "d9f1339a",
   "metadata": {},
   "source": [
    "SEND IT :)"
   ]
  },
  {
   "cell_type": "code",
   "execution_count": 16,
   "id": "f7e9f7bf",
   "metadata": {},
   "outputs": [
    {
     "data": {
      "text/plain": [
       "TransportRsp::Accepted"
      ]
     },
     "execution_count": 16,
     "metadata": {},
     "output_type": "execute_result"
    }
   ],
   "source": [
    "await tiface.command_response(send_packets_cmd)"
   ]
  },
  {
   "cell_type": "code",
   "execution_count": 26,
   "id": "9745b018",
   "metadata": {},
   "outputs": [
    {
     "data": {
      "text/plain": [
       "1001"
      ]
     },
     "execution_count": 26,
     "metadata": {},
     "output_type": "execute_result"
    }
   ],
   "source": [
    "notifs = tiface.get_notifications()\n",
    "len(notifs)"
   ]
  },
  {
   "cell_type": "markdown",
   "id": "51c179d5",
   "metadata": {},
   "source": [
    "List only packets from the server"
   ]
  },
  {
   "cell_type": "code",
   "execution_count": 27,
   "id": "7a8092ab",
   "metadata": {},
   "outputs": [
    {
     "data": {
      "text/plain": [
       "[TransportNotice::PacketDelivery { endpoint: Endpoint(157.230.134.224:2016), packet: Status { pong: PingPong { nonce: 98765432 }, server_version: \"0.3.5\", player_count: 0, room_count: 1, server_name: \"Official Conwayste\" } },\n",
       " TransportNotice::PacketDelivery { endpoint: Endpoint(157.230.134.224:2016), packet: Status { pong: PingPong { nonce: 98765432 }, server_version: \"0.3.5\", player_count: 0, room_count: 1, server_name: \"Official Conwayste\" } },\n",
       " TransportNotice::PacketDelivery { endpoint: Endpoint(157.230.134.224:2016), packet: Status { pong: PingPong { nonce: 98765432 }, server_version: \"0.3.5\", player_count: 0, room_count: 1, server_name: \"Official Conwayste\" } },\n",
       " TransportNotice::PacketDelivery { endpoint: Endpoint(157.230.134.224:2016), packet: Status { pong: PingPong { nonce: 98765432 }, server_version: \"0.3.5\", player_count: 0, room_count: 1, server_name: \"Official Conwayste\" } },\n",
       " TransportNotice::PacketDelivery { endpoint: Endpoint(157.230.134.224:2016), packet: Status { pong: PingPong { nonce: 98765432 }, server_version: \"0.3.5\", player_count: 0, room_count: 1, server_name: \"Official Conwayste\" } },\n",
       " TransportNotice::PacketDelivery { endpoint: Endpoint(157.230.134.224:2016), packet: Status { pong: PingPong { nonce: 98765432 }, server_version: \"0.3.5\", player_count: 0, room_count: 1, server_name: \"Official Conwayste\" } },\n",
       " TransportNotice::PacketDelivery { endpoint: Endpoint(157.230.134.224:2016), packet: Status { pong: PingPong { nonce: 98765432 }, server_version: \"0.3.5\", player_count: 0, room_count: 1, server_name: \"Official Conwayste\" } },\n",
       " TransportNotice::PacketDelivery { endpoint: Endpoint(157.230.134.224:2016), packet: Status { pong: PingPong { nonce: 98765432 }, server_version: \"0.3.5\", player_count: 0, room_count: 1, server_name: \"Official Conwayste\" } },\n",
       " TransportNotice::PacketDelivery { endpoint: Endpoint(157.230.134.224:2016), packet: Status { pong: PingPong { nonce: 98765432 }, server_version: \"0.3.5\", player_count: 0, room_count: 1, server_name: \"Official Conwayste\" } },\n",
       " TransportNotice::PacketDelivery { endpoint: Endpoint(157.230.134.224:2016), packet: Status { pong: PingPong { nonce: 98765432 }, server_version: \"0.3.5\", player_count: 0, room_count: 1, server_name: \"Official Conwayste\" } },\n",
       " TransportNotice::PacketDelivery { endpoint: Endpoint(157.230.134.224:2016), packet: Status { pong: PingPong { nonce: 98765432 }, server_version: \"0.3.5\", player_count: 0, room_count: 1, server_name: \"Official Conwayste\" } },\n",
       " TransportNotice::PacketDelivery { endpoint: Endpoint(157.230.134.224:2016), packet: Status { pong: PingPong { nonce: 98765432 }, server_version: \"0.3.5\", player_count: 0, room_count: 1, server_name: \"Official Conwayste\" } },\n",
       " TransportNotice::PacketDelivery { endpoint: Endpoint(157.230.134.224:2016), packet: Status { pong: PingPong { nonce: 98765432 }, server_version: \"0.3.5\", player_count: 0, room_count: 1, server_name: \"Official Conwayste\" } },\n",
       " TransportNotice::PacketDelivery { endpoint: Endpoint(157.230.134.224:2016), packet: Status { pong: PingPong { nonce: 98765432 }, server_version: \"0.3.5\", player_count: 0, room_count: 1, server_name: \"Official Conwayste\" } },\n",
       " TransportNotice::PacketDelivery { endpoint: Endpoint(157.230.134.224:2016), packet: Status { pong: PingPong { nonce: 98765432 }, server_version: \"0.3.5\", player_count: 0, room_count: 1, server_name: \"Official Conwayste\" } },\n",
       " TransportNotice::PacketDelivery { endpoint: Endpoint(157.230.134.224:2016), packet: Status { pong: PingPong { nonce: 98765432 }, server_version: \"0.3.5\", player_count: 0, room_count: 1, server_name: \"Official Conwayste\" } },\n",
       " TransportNotice::PacketDelivery { endpoint: Endpoint(157.230.134.224:2016), packet: Status { pong: PingPong { nonce: 98765432 }, server_version: \"0.3.5\", player_count: 0, room_count: 1, server_name: \"Official Conwayste\" } },\n",
       " TransportNotice::PacketDelivery { endpoint: Endpoint(157.230.134.224:2016), packet: Status { pong: PingPong { nonce: 98765432 }, server_version: \"0.3.5\", player_count: 0, room_count: 1, server_name: \"Official Conwayste\" } },\n",
       " TransportNotice::PacketDelivery { endpoint: Endpoint(157.230.134.224:2016), packet: Status { pong: PingPong { nonce: 98765432 }, server_version: \"0.3.5\", player_count: 0, room_count: 1, server_name: \"Official Conwayste\" } },\n",
       " TransportNotice::PacketDelivery { endpoint: Endpoint(157.230.134.224:2016), packet: Status { pong: PingPong { nonce: 98765432 }, server_version: \"0.3.5\", player_count: 0, room_count: 1, server_name: \"Official Conwayste\" } },\n",
       " TransportNotice::PacketDelivery { endpoint: Endpoint(157.230.134.224:2016), packet: Status { pong: PingPong { nonce: 98765432 }, server_version: \"0.3.5\", player_count: 0, room_count: 1, server_name: \"Official Conwayste\" } },\n",
       " TransportNotice::PacketDelivery { endpoint: Endpoint(157.230.134.224:2016), packet: Status { pong: PingPong { nonce: 98765432 }, server_version: \"0.3.5\", player_count: 0, room_count: 1, server_name: \"Official Conwayste\" } },\n",
       " TransportNotice::PacketDelivery { endpoint: Endpoint(157.230.134.224:2016), packet: Status { pong: PingPong { nonce: 98765432 }, server_version: \"0.3.5\", player_count: 0, room_count: 1, server_name: \"Official Conwayste\" } },\n",
       " TransportNotice::PacketDelivery { endpoint: Endpoint(157.230.134.224:2016), packet: Status { pong: PingPong { nonce: 98765432 }, server_version: \"0.3.5\", player_count: 0, room_count: 1, server_name: \"Official Conwayste\" } },\n",
       " TransportNotice::PacketDelivery { endpoint: Endpoint(157.230.134.224:2016), packet: Status { pong: PingPong { nonce: 98765432 }, server_version: \"0.3.5\", player_count: 0, room_count: 1, server_name: \"Official Conwayste\" } },\n",
       " TransportNotice::PacketDelivery { endpoint: Endpoint(157.230.134.224:2016), packet: Status { pong: PingPong { nonce: 98765432 }, server_version: \"0.3.5\", player_count: 0, room_count: 1, server_name: \"Official Conwayste\" } },\n",
       " TransportNotice::PacketDelivery { endpoint: Endpoint(157.230.134.224:2016), packet: Status { pong: PingPong { nonce: 98765432 }, server_version: \"0.3.5\", player_count: 0, room_count: 1, server_name: \"Official Conwayste\" } },\n",
       " TransportNotice::PacketDelivery { endpoint: Endpoint(157.230.134.224:2016), packet: Status { pong: PingPong { nonce: 98765432 }, server_version: \"0.3.5\", player_count: 0, room_count: 1, server_name: \"Official Conwayste\" } },\n",
       " TransportNotice::PacketDelivery { endpoint: Endpoint(157.230.134.224:2016), packet: Status { pong: PingPong { nonce: 98765432 }, server_version: \"0.3.5\", player_count: 0, room_count: 1, server_name: \"Official Conwayste\" } },\n",
       " TransportNotice::PacketDelivery { endpoint: Endpoint(157.230.134.224:2016), packet: Status { pong: PingPong { nonce: 98765432 }, server_version: \"0.3.5\", player_count: 0, room_count: 1, server_name: \"Official Conwayste\" } },\n",
       " TransportNotice::PacketDelivery { endpoint: Endpoint(157.230.134.224:2016), packet: Status { pong: PingPong { nonce: 98765432 }, server_version: \"0.3.5\", player_count: 0, room_count: 1, server_name: \"Official Conwayste\" } },\n",
       " TransportNotice::PacketDelivery { endpoint: Endpoint(157.230.134.224:2016), packet: Status { pong: PingPong { nonce: 98765432 }, server_version: \"0.3.5\", player_count: 0, room_count: 1, server_name: \"Official Conwayste\" } },\n",
       " TransportNotice::PacketDelivery { endpoint: Endpoint(157.230.134.224:2016), packet: Status { pong: PingPong { nonce: 98765432 }, server_version: \"0.3.5\", player_count: 0, room_count: 1, server_name: \"Official Conwayste\" } },\n",
       " TransportNotice::PacketDelivery { endpoint: Endpoint(157.230.134.224:2016), packet: Status { pong: PingPong { nonce: 98765432 }, server_version: \"0.3.5\", player_count: 0, room_count: 1, server_name: \"Official Conwayste\" } },\n",
       " TransportNotice::PacketDelivery { endpoint: Endpoint(157.230.134.224:2016), packet: Status { pong: PingPong { nonce: 98765432 }, server_version: \"0.3.5\", player_count: 0, room_count: 1, server_name: \"Official Conwayste\" } },\n",
       " TransportNotice::PacketDelivery { endpoint: Endpoint(157.230.134.224:2016), packet: Status { pong: PingPong { nonce: 98765432 }, server_version: \"0.3.5\", player_count: 0, room_count: 1, server_name: \"Official Conwayste\" } },\n",
       " TransportNotice::PacketDelivery { endpoint: Endpoint(157.230.134.224:2016), packet: Status { pong: PingPong { nonce: 98765432 }, server_version: \"0.3.5\", player_count: 0, room_count: 1, server_name: \"Official Conwayste\" } },\n",
       " TransportNotice::PacketDelivery { endpoint: Endpoint(157.230.134.224:2016), packet: Status { pong: PingPong { nonce: 98765432 }, server_version: \"0.3.5\", player_count: 0, room_count: 1, server_name: \"Official Conwayste\" } },\n",
       " TransportNotice::PacketDelivery { endpoint: Endpoint(157.230.134.224:2016), packet: Status { pong: PingPong { nonce: 98765432 }, server_version: \"0.3.5\", player_count: 0, room_count: 1, server_name: \"Official Conwayste\" } },\n",
       " TransportNotice::PacketDelivery { endpoint: Endpoint(157.230.134.224:2016), packet: Status { pong: PingPong { nonce: 98765432 }, server_version: \"0.3.5\", player_count: 0, room_count: 1, server_name: \"Official Conwayste\" } },\n",
       " TransportNotice::PacketDelivery { endpoint: Endpoint(157.230.134.224:2016), packet: Status { pong: PingPong { nonce: 98765432 }, server_version: \"0.3.5\", player_count: 0, room_count: 1, server_name: \"Official Conwayste\" } },\n",
       " TransportNotice::PacketDelivery { endpoint: Endpoint(157.230.134.224:2016), packet: Status { pong: PingPong { nonce: 98765432 }, server_version: \"0.3.5\", player_count: 0, room_count: 1, server_name: \"Official Conwayste\" } }]"
      ]
     },
     "execution_count": 27,
     "metadata": {},
     "output_type": "execute_result"
    }
   ],
   "source": [
    "list(filter(lambda notif: notif.variant().lower() == 'packetdelivery', notifs))"
   ]
  }
 ],
 "metadata": {
  "kernelspec": {
   "display_name": "Python 3 (ipykernel)",
   "language": "python",
   "name": "python3"
  },
  "language_info": {
   "codemirror_mode": {
    "name": "ipython",
    "version": 3
   },
   "file_extension": ".py",
   "mimetype": "text/x-python",
   "name": "python",
   "nbconvert_exporter": "python",
   "pygments_lexer": "ipython3",
   "version": "3.10.5"
  }
 },
 "nbformat": 4,
 "nbformat_minor": 5
}
