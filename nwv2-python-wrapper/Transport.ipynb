{
 "cells": [
  {
   "cell_type": "markdown",
   "id": "45d0fa70",
   "metadata": {},
   "source": [
    "# Boilerplate"
   ]
  },
  {
   "cell_type": "markdown",
   "id": "69735df3",
   "metadata": {},
   "source": [
    "There's probably a better way than what follows"
   ]
  },
  {
   "cell_type": "code",
   "execution_count": null,
   "id": "f16786c2",
   "metadata": {},
   "outputs": [],
   "source": [
    "import sys\n",
    "sys.path.insert(0, 'venv/lib/python3.10/site-packages')\n",
    "import asyncio\n",
    "\n",
    "from nwv2_python_wrapper import *\n",
    "import nwv2_python_wrapper"
   ]
  },
  {
   "cell_type": "markdown",
   "id": "88f69a0e",
   "metadata": {},
   "source": [
    "# Run"
   ]
  },
  {
   "cell_type": "markdown",
   "id": "d1e76153",
   "metadata": {},
   "source": [
    "What are all the Python wrappers available for us to import?"
   ]
  },
  {
   "cell_type": "code",
   "execution_count": null,
   "id": "36378854",
   "metadata": {},
   "outputs": [],
   "source": [
    "[f for f in dir(nwv2_python_wrapper) if not f.startswith('__') and f != 'nwv2_python_wrapper']"
   ]
  },
  {
   "cell_type": "markdown",
   "id": "bcef1b31",
   "metadata": {},
   "source": [
    "## Transport Setup"
   ]
  },
  {
   "cell_type": "markdown",
   "id": "c13b73da",
   "metadata": {},
   "source": [
    "Create a new transport interface, asynchronously. This uses the Python `asyncio` event loop, which a Jupyter Notebook already has running."
   ]
  },
  {
   "cell_type": "code",
   "execution_count": null,
   "id": "951d512e",
   "metadata": {},
   "outputs": [],
   "source": [
    "tiface_fut = new_transport_interface(\"0.0.0.0\", 0, TransportModeW(\"client\"))\n",
    "tiface_fut"
   ]
  },
  {
   "cell_type": "markdown",
   "id": "61a95d07",
   "metadata": {},
   "source": [
    "Await the future to get the `TransportInterface`. Note: unlike in Rust, `await` isn't necessary to drive Future completion."
   ]
  },
  {
   "cell_type": "code",
   "execution_count": null,
   "id": "69c46da0",
   "metadata": {},
   "outputs": [],
   "source": [
    "tiface = await tiface_fut\n",
    "tiface"
   ]
  },
  {
   "cell_type": "markdown",
   "id": "10fd49c7",
   "metadata": {},
   "source": [
    "### Run the Transport in background\n",
    "Here is the fun part :)"
   ]
  },
  {
   "cell_type": "code",
   "execution_count": null,
   "id": "f2da8f18",
   "metadata": {},
   "outputs": [],
   "source": [
    "run_fut = tiface.run()\n",
    "run_fut"
   ]
  },
  {
   "cell_type": "markdown",
   "id": "a07224cc",
   "metadata": {},
   "source": [
    "If the Future completed right away, it means something's fishy."
   ]
  },
  {
   "cell_type": "code",
   "execution_count": null,
   "id": "219b18d5",
   "metadata": {},
   "outputs": [],
   "source": [
    "assert not run_fut.done()"
   ]
  },
  {
   "cell_type": "markdown",
   "id": "775e8e38",
   "metadata": {},
   "source": [
    "Note the `transport: None` at the beginning of the following `repr` output. It is `None` because `run()` takes the `Transport`."
   ]
  },
  {
   "cell_type": "code",
   "execution_count": null,
   "id": "ae4bfde5",
   "metadata": {},
   "outputs": [],
   "source": [
    "tiface"
   ]
  },
  {
   "cell_type": "markdown",
   "id": "37113bd1",
   "metadata": {},
   "source": [
    "## Transport Operation"
   ]
  },
  {
   "cell_type": "markdown",
   "id": "ae0b2a27",
   "metadata": {},
   "source": [
    "### New Remote Endpoint"
   ]
  },
  {
   "cell_type": "markdown",
   "id": "3d24f19c",
   "metadata": {},
   "source": [
    "Make a transport command"
   ]
  },
  {
   "cell_type": "code",
   "execution_count": null,
   "id": "0bed462e",
   "metadata": {},
   "outputs": [],
   "source": [
    "chococat_endpoint = EndpointW(\"157.230.134.224:2016\")\n",
    "chococat_endpoint"
   ]
  },
  {
   "cell_type": "markdown",
   "id": "977b5f69",
   "metadata": {},
   "source": [
    "The endpoint will timeout after 30 seconds of inactivity (30000ms)."
   ]
  },
  {
   "cell_type": "code",
   "execution_count": null,
   "id": "e088f92b",
   "metadata": {},
   "outputs": [],
   "source": [
    "new_endpoint_transport_cmd = TransportCmdW(\"newendpoint\", endpoint=chococat_endpoint, timeout=30000)\n",
    "new_endpoint_transport_cmd"
   ]
  },
  {
   "cell_type": "markdown",
   "id": "801bd615",
   "metadata": {},
   "source": [
    "Send the command to the Transport layer and get the response from it."
   ]
  },
  {
   "cell_type": "code",
   "execution_count": null,
   "id": "e06283ca",
   "metadata": {},
   "outputs": [],
   "source": [
    "await tiface.command_response(new_endpoint_transport_cmd)"
   ]
  },
  {
   "cell_type": "markdown",
   "id": "2f0009a4",
   "metadata": {},
   "source": [
    "### Send Packet to Remote"
   ]
  },
  {
   "cell_type": "markdown",
   "id": "4d8b1092",
   "metadata": {},
   "source": [
    "Create a `PacketSettings` wrapper. Note that the unique ID `tid` is optional, and duration is in milliseconds."
   ]
  },
  {
   "cell_type": "code",
   "execution_count": null,
   "id": "b4177247",
   "metadata": {},
   "outputs": [],
   "source": [
    "packet_settings = PacketSettingsW(5000) # retry after 5000ms\n",
    "packet_settings"
   ]
  },
  {
   "cell_type": "markdown",
   "id": "337fcae4",
   "metadata": {},
   "source": [
    "Make another transport command"
   ]
  },
  {
   "cell_type": "markdown",
   "id": "69492712",
   "metadata": {},
   "source": [
    "Make a packet"
   ]
  },
  {
   "cell_type": "code",
   "execution_count": null,
   "id": "38c08d8e",
   "metadata": {},
   "outputs": [],
   "source": [
    "getstatus_packet = PacketW(variant=\"getstatus\", ping_nonce=98765432)\n",
    "getstatus_packet"
   ]
  },
  {
   "cell_type": "code",
   "execution_count": null,
   "id": "b61cece5",
   "metadata": {},
   "outputs": [],
   "source": [
    "\n",
    "\n",
    "send_packets_cmd = TransportCmdW(\"sendpackets\",\n",
    "                                 endpoint=chococat_endpoint,\n",
    "                                 packet_infos=[packet_settings],\n",
    "                                 packets=[getstatus_packet])\n",
    "send_packets_cmd"
   ]
  },
  {
   "cell_type": "markdown",
   "id": "d06e1187",
   "metadata": {},
   "source": [
    "SEND IT :)"
   ]
  },
  {
   "cell_type": "code",
   "execution_count": null,
   "id": "6463b859",
   "metadata": {},
   "outputs": [],
   "source": [
    "await tiface.command_response(send_packets_cmd)"
   ]
  },
  {
   "cell_type": "markdown",
   "id": "15d11e1c",
   "metadata": {},
   "source": [
    "Get all available notifications from the Transport layer."
   ]
  },
  {
   "cell_type": "code",
   "execution_count": null,
   "id": "210ee990",
   "metadata": {},
   "outputs": [],
   "source": [
    "notifs = tiface.get_notifications()\n",
    "notifs"
   ]
  },
  {
   "cell_type": "markdown",
   "id": "0d4c8eb6",
   "metadata": {},
   "source": [
    "Out of the above, list only packets delivered from the server."
   ]
  },
  {
   "cell_type": "code",
   "execution_count": null,
   "id": "def94a99",
   "metadata": {},
   "outputs": [],
   "source": [
    "list(filter(lambda notif: notif.variant().lower() == 'packetdelivery', notifs))"
   ]
  },
  {
   "cell_type": "markdown",
   "id": "c4135b14",
   "metadata": {},
   "source": [
    "Drop the packet so it doesn't keep getting resent."
   ]
  },
  {
   "cell_type": "code",
   "execution_count": null,
   "id": "caa56343",
   "metadata": {},
   "outputs": [],
   "source": [
    "drop_packet_cmd = TransportCmdW(\"droppacket\", endpoint=chococat_endpoint, tid=packet_settings.tid)\n",
    "await tiface.command_response(drop_packet_cmd)"
   ]
  },
  {
   "cell_type": "markdown",
   "id": "eebb4e5a",
   "metadata": {},
   "source": [
    "An alternative to the above is to drop all the packets with `TransportCmd::CancelTransmitQueue`."
   ]
  },
  {
   "cell_type": "code",
   "execution_count": null,
   "id": "d0b04d1b",
   "metadata": {},
   "outputs": [],
   "source": [
    "await tiface.command_response(TransportCmdW(\"canceltransmitqueue\", endpoint=chococat_endpoint))"
   ]
  },
  {
   "cell_type": "markdown",
   "id": "eea06077",
   "metadata": {},
   "source": [
    "Drain the notifications queue."
   ]
  },
  {
   "cell_type": "code",
   "execution_count": null,
   "id": "b57b763c",
   "metadata": {},
   "outputs": [],
   "source": [
    "notifs = tiface.get_notifications()\n",
    "notifs"
   ]
  },
  {
   "cell_type": "code",
   "execution_count": null,
   "id": "b5d0860f",
   "metadata": {},
   "outputs": [],
   "source": [
    "#notifs = tiface.get_notifications()\n",
    "#notifs"
   ]
  },
  {
   "cell_type": "code",
   "execution_count": null,
   "id": "c7a0f8a2",
   "metadata": {},
   "outputs": [],
   "source": [
    "#notifs = tiface.get_notifications()\n",
    "#notifs"
   ]
  },
  {
   "cell_type": "markdown",
   "id": "cfde2284",
   "metadata": {},
   "source": [
    "Get the local address. This is useful for testing client and server interactions and the server port is 0, meaning the OS picks the port. By using `local_addr`, you can find out what the client should connect to."
   ]
  },
  {
   "cell_type": "code",
   "execution_count": null,
   "id": "59595947",
   "metadata": {},
   "outputs": [],
   "source": [
    "local_addr = tiface.local_addr\n",
    "local_addr"
   ]
  },
  {
   "cell_type": "markdown",
   "id": "1ea570a4",
   "metadata": {},
   "source": [
    "# Shutdown"
   ]
  },
  {
   "cell_type": "code",
   "execution_count": null,
   "id": "947f9059",
   "metadata": {},
   "outputs": [],
   "source": [
    "# Commented so that you can run your own commands for the Transport layer after Restart and Run All\n",
    "#await tiface.command_response(TransportCmdW(\"shutdown\"))"
   ]
  }
 ],
 "metadata": {
  "kernelspec": {
   "display_name": "Python 3 (ipykernel)",
   "language": "python",
   "name": "python3"
  },
  "language_info": {
   "codemirror_mode": {
    "name": "ipython",
    "version": 3
   },
   "file_extension": ".py",
   "mimetype": "text/x-python",
   "name": "python",
   "nbconvert_exporter": "python",
   "pygments_lexer": "ipython3",
   "version": "3.10.10"
  }
 },
 "nbformat": 4,
 "nbformat_minor": 5
}
