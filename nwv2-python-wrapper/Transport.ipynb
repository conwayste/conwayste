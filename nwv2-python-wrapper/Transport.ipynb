{
 "cells": [
  {
   "cell_type": "markdown",
   "id": "45d0fa70",
   "metadata": {},
   "source": [
    "# Boilerplate"
   ]
  },
  {
   "cell_type": "markdown",
   "id": "69735df3",
   "metadata": {},
   "source": [
    "There's probably a better way than what follows"
   ]
  },
  {
   "cell_type": "code",
   "execution_count": 1,
   "id": "f16786c2",
   "metadata": {},
   "outputs": [],
   "source": [
    "import sys\n",
    "sys.path.insert(0, 'venv/lib/python3.10/site-packages')\n",
    "import asyncio\n",
    "\n",
    "from nwv2_python_wrapper import *\n",
    "import nwv2_python_wrapper"
   ]
  },
  {
   "cell_type": "markdown",
   "id": "88f69a0e",
   "metadata": {},
   "source": [
    "# Run"
   ]
  },
  {
   "cell_type": "markdown",
   "id": "d1e76153",
   "metadata": {},
   "source": [
    "What can we run?"
   ]
  },
  {
   "cell_type": "code",
   "execution_count": 2,
   "id": "36378854",
   "metadata": {},
   "outputs": [
    {
     "data": {
      "text/plain": [
       "['EndpointW',\n",
       " 'PacketSettingsW',\n",
       " 'PacketW',\n",
       " 'ProcessUniqueIdW',\n",
       " 'RequestActionW',\n",
       " 'TransportCmdW',\n",
       " 'TransportInterface',\n",
       " 'new_transport_interface']"
      ]
     },
     "execution_count": 2,
     "metadata": {},
     "output_type": "execute_result"
    }
   ],
   "source": [
    "[f for f in dir(nwv2_python_wrapper) if not f.startswith('__') and f != 'nwv2_python_wrapper']"
   ]
  },
  {
   "cell_type": "markdown",
   "id": "bcef1b31",
   "metadata": {},
   "source": [
    "## Transport Setup"
   ]
  },
  {
   "cell_type": "markdown",
   "id": "c13b73da",
   "metadata": {},
   "source": [
    "Create a new transport interface, asynchronously. This uses the Python `asyncio` event loop, which a Jupyter Notebook already has running."
   ]
  },
  {
   "cell_type": "code",
   "execution_count": 3,
   "id": "951d512e",
   "metadata": {},
   "outputs": [
    {
     "data": {
      "text/plain": [
       "<Future pending cb=[<builtins.PyDoneCallback object at 0x7f893132f750>()]>"
      ]
     },
     "execution_count": 3,
     "metadata": {},
     "output_type": "execute_result"
    }
   ],
   "source": [
    "tiface_fut = new_transport_interface(\"0.0.0.0\", 12346)\n",
    "tiface_fut"
   ]
  },
  {
   "cell_type": "markdown",
   "id": "61a95d07",
   "metadata": {},
   "source": [
    "Await the future to get the `TransportInterface`. Note: unlike in Rust, `await` isn't necessary to drive Future completion."
   ]
  },
  {
   "cell_type": "code",
   "execution_count": 4,
   "id": "69c46da0",
   "metadata": {},
   "outputs": [
    {
     "data": {
      "text/plain": [
       "TransportInterface{ transport: Some(<Transport>),   cmd_tx: Sender { chan: Tx { inner: Chan { tx: Tx { block_tail: 0x7f89040133e0, tail_position: 0 }, semaphore: (Semaphore { permits: 1000 }, 1000), rx_waker: AtomicWaker, tx_count: 1, rx_fields: \"...\" } } },   response_rx: Receiver { chan: Rx { inner: Chan { tx: Tx { block_tail: 0x7f8904013fd0, tail_position: 0 }, semaphore: (Semaphore { permits: 1000 }, 1000), rx_waker: AtomicWaker, tx_count: 1, rx_fields: \"...\" } } },   notify_rx: Receiver { chan: Rx { inner: Chan { tx: Tx { block_tail: 0x7f89040143c0, tail_position: 0 }, semaphore: (Semaphore { permits: 1000 }, 1000), rx_waker: AtomicWaker, tx_count: 1, rx_fields: \"...\" } } } }"
      ]
     },
     "execution_count": 4,
     "metadata": {},
     "output_type": "execute_result"
    }
   ],
   "source": [
    "tiface = await tiface_fut\n",
    "tiface"
   ]
  },
  {
   "cell_type": "markdown",
   "id": "10fd49c7",
   "metadata": {},
   "source": [
    "### Run the Transport in background\n",
    "Here is the fun part :)"
   ]
  },
  {
   "cell_type": "code",
   "execution_count": 5,
   "id": "f2da8f18",
   "metadata": {},
   "outputs": [
    {
     "data": {
      "text/plain": [
       "<Future pending cb=[<builtins.PyDoneCallback object at 0x7f893132f630>()]>"
      ]
     },
     "execution_count": 5,
     "metadata": {},
     "output_type": "execute_result"
    }
   ],
   "source": [
    "run_fut = tiface.run()\n",
    "run_fut"
   ]
  },
  {
   "cell_type": "markdown",
   "id": "a07224cc",
   "metadata": {},
   "source": [
    "If the Future completed right away, it means something's fishy."
   ]
  },
  {
   "cell_type": "code",
   "execution_count": 6,
   "id": "219b18d5",
   "metadata": {},
   "outputs": [],
   "source": [
    "assert not run_fut.done()"
   ]
  },
  {
   "cell_type": "markdown",
   "id": "775e8e38",
   "metadata": {},
   "source": [
    "Note the `transport: None` at the beginning of the following `repr` output. It is `None` because `run()` takes the `Transport`."
   ]
  },
  {
   "cell_type": "code",
   "execution_count": 7,
   "id": "ae4bfde5",
   "metadata": {},
   "outputs": [
    {
     "data": {
      "text/plain": [
       "TransportInterface{ transport: None,   cmd_tx: Sender { chan: Tx { inner: Chan { tx: Tx { block_tail: 0x7f89040133e0, tail_position: 0 }, semaphore: (Semaphore { permits: 1000 }, 1000), rx_waker: AtomicWaker, tx_count: 1, rx_fields: \"...\" } } },   response_rx: Receiver { chan: Rx { inner: Chan { tx: Tx { block_tail: 0x7f8904013fd0, tail_position: 0 }, semaphore: (Semaphore { permits: 1000 }, 1000), rx_waker: AtomicWaker, tx_count: 1, rx_fields: \"...\" } } },   notify_rx: Receiver { chan: Rx { inner: Chan { tx: Tx { block_tail: 0x7f89040143c0, tail_position: 0 }, semaphore: (Semaphore { permits: 1000 }, 1000), rx_waker: AtomicWaker, tx_count: 1, rx_fields: \"...\" } } } }"
      ]
     },
     "execution_count": 7,
     "metadata": {},
     "output_type": "execute_result"
    }
   ],
   "source": [
    "tiface"
   ]
  },
  {
   "cell_type": "markdown",
   "id": "37113bd1",
   "metadata": {},
   "source": [
    "## Transport Operation"
   ]
  },
  {
   "cell_type": "markdown",
   "id": "fdb16430",
   "metadata": {},
   "source": [
    "Create a `ProcessUniqueId` wrapper."
   ]
  },
  {
   "cell_type": "code",
   "execution_count": 8,
   "id": "21f9e2d9",
   "metadata": {},
   "outputs": [
    {
     "data": {
      "text/plain": [
       "puid-0-0"
      ]
     },
     "execution_count": 8,
     "metadata": {},
     "output_type": "execute_result"
    }
   ],
   "source": [
    "puid = ProcessUniqueIdW()\n",
    "puid"
   ]
  },
  {
   "cell_type": "markdown",
   "id": "58be50f4",
   "metadata": {},
   "source": [
    "Create another, and compare against the first."
   ]
  },
  {
   "cell_type": "code",
   "execution_count": 9,
   "id": "25646cee",
   "metadata": {},
   "outputs": [
    {
     "name": "stdout",
     "output_type": "stream",
     "text": [
      "puid-0-1\n"
     ]
    }
   ],
   "source": [
    "puid2 = ProcessUniqueIdW()\n",
    "print(repr(puid2))\n",
    "assert puid != puid2"
   ]
  },
  {
   "cell_type": "markdown",
   "id": "4d8b1092",
   "metadata": {},
   "source": [
    "Create a `PacketSettings` wrapper. Note that the unique ID `tid` is optional, and duration is in milliseconds."
   ]
  },
  {
   "cell_type": "code",
   "execution_count": 10,
   "id": "b4177247",
   "metadata": {},
   "outputs": [
    {
     "data": {
      "text/plain": [
       "PacketSettings { tid: ProcessUniqueId { prefix: 0, offset: 2 }, retry_interval: 10ms }"
      ]
     },
     "execution_count": 10,
     "metadata": {},
     "output_type": "execute_result"
    }
   ],
   "source": [
    "packet_settings = PacketSettingsW(10)\n",
    "packet_settings"
   ]
  },
  {
   "cell_type": "markdown",
   "id": "1d716fa5",
   "metadata": {},
   "source": [
    "Make a transport command"
   ]
  },
  {
   "cell_type": "code",
   "execution_count": 11,
   "id": "0bed462e",
   "metadata": {},
   "outputs": [
    {
     "data": {
      "text/plain": [
       "Endpoint(157.230.134.224:2016)"
      ]
     },
     "execution_count": 11,
     "metadata": {},
     "output_type": "execute_result"
    }
   ],
   "source": [
    "chococat_endpoint = EndpointW(\"157.230.134.224:2016\")\n",
    "chococat_endpoint"
   ]
  },
  {
   "cell_type": "code",
   "execution_count": 12,
   "id": "6e7dd4ea",
   "metadata": {},
   "outputs": [
    {
     "data": {
      "text/plain": [
       "NewEndpoint { endpoint: Endpoint(157.230.134.224:2016), timeout: 100ms }"
      ]
     },
     "execution_count": 12,
     "metadata": {},
     "output_type": "execute_result"
    }
   ],
   "source": [
    "new_endpoint_transport_cmd = TransportCmdW(\"newendpoint\", endpoint=chococat_endpoint, timeout=100)\n",
    "new_endpoint_transport_cmd"
   ]
  }
 ],
 "metadata": {
  "kernelspec": {
   "display_name": "Python 3 (ipykernel)",
   "language": "python",
   "name": "python3"
  },
  "language_info": {
   "codemirror_mode": {
    "name": "ipython",
    "version": 3
   },
   "file_extension": ".py",
   "mimetype": "text/x-python",
   "name": "python",
   "nbconvert_exporter": "python",
   "pygments_lexer": "ipython3",
   "version": "3.10.5"
  }
 },
 "nbformat": 4,
 "nbformat_minor": 5
}
