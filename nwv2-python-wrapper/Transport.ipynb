{
 "cells": [
  {
   "cell_type": "markdown",
   "id": "45d0fa70",
   "metadata": {},
   "source": [
    "# Boilerplate"
   ]
  },
  {
   "cell_type": "markdown",
   "id": "69735df3",
   "metadata": {},
   "source": [
    "There's probably a better way than what follows"
   ]
  },
  {
   "cell_type": "code",
   "execution_count": 1,
   "id": "f16786c2",
   "metadata": {},
   "outputs": [],
   "source": [
    "import sys\n",
    "sys.path.insert(0, 'venv/lib/python3.10/site-packages')\n",
    "import asyncio\n",
    "\n",
    "from nwv2_python_wrapper import *\n",
    "import nwv2_python_wrapper"
   ]
  },
  {
   "cell_type": "markdown",
   "id": "88f69a0e",
   "metadata": {},
   "source": [
    "# Run"
   ]
  },
  {
   "cell_type": "markdown",
   "id": "d1e76153",
   "metadata": {},
   "source": [
    "What can we run?"
   ]
  },
  {
   "cell_type": "code",
   "execution_count": 2,
   "id": "36378854",
   "metadata": {},
   "outputs": [
    {
     "data": {
      "text/plain": [
       "['EndpointW',\n",
       " 'PacketW',\n",
       " 'RequestActionW',\n",
       " 'TransportInterface',\n",
       " 'new_transport_interface']"
      ]
     },
     "execution_count": 2,
     "metadata": {},
     "output_type": "execute_result"
    }
   ],
   "source": [
    "[f for f in dir(nwv2_python_wrapper) if not f.startswith('__') and f != 'nwv2_python_wrapper']"
   ]
  },
  {
   "cell_type": "markdown",
   "id": "b8a1cbf6",
   "metadata": {},
   "source": [
    "## Transport Setup"
   ]
  },
  {
   "cell_type": "markdown",
   "id": "1d5f13be",
   "metadata": {},
   "source": [
    "Create a new transport interface, asynchronously. This uses the Python `asyncio` event loop, which a Jupyter Notebook already has running."
   ]
  },
  {
   "cell_type": "code",
   "execution_count": 3,
   "id": "951d512e",
   "metadata": {},
   "outputs": [
    {
     "data": {
      "text/plain": [
       "<Future pending cb=[<builtins.PyDoneCallback object at 0x7fcde1eb7530>()]>"
      ]
     },
     "execution_count": 3,
     "metadata": {},
     "output_type": "execute_result"
    }
   ],
   "source": [
    "tiface_fut = new_transport_interface(\"0.0.0.0\", 12346)\n",
    "tiface_fut"
   ]
  },
  {
   "cell_type": "markdown",
   "id": "741aac50",
   "metadata": {},
   "source": [
    "Verify the `Future` has completed."
   ]
  },
  {
   "cell_type": "code",
   "execution_count": 4,
   "id": "202ffdea",
   "metadata": {},
   "outputs": [],
   "source": [
    "assert tiface_fut.done()"
   ]
  },
  {
   "cell_type": "markdown",
   "id": "208c9163",
   "metadata": {},
   "source": [
    "Call the `result` method to get the result when it's complete."
   ]
  },
  {
   "cell_type": "code",
   "execution_count": 5,
   "id": "ef47bc9a",
   "metadata": {},
   "outputs": [
    {
     "data": {
      "text/plain": [
       "TransportInterface{ transport: Some(<Transport>),   cmd_tx: Sender { chan: Tx { inner: Chan { tx: Tx { block_tail: 0x7fcda40133c0, tail_position: 0 }, semaphore: (Semaphore { permits: 1000 }, 1000), rx_waker: AtomicWaker, tx_count: 1, rx_fields: \"...\" } } },   response_rx: Receiver { chan: Rx { inner: Chan { tx: Tx { block_tail: 0x7fcda4013fb0, tail_position: 0 }, semaphore: (Semaphore { permits: 1000 }, 1000), rx_waker: AtomicWaker, tx_count: 1, rx_fields: \"...\" } } },   notify_rx: Receiver { chan: Rx { inner: Chan { tx: Tx { block_tail: 0x7fcda40143a0, tail_position: 0 }, semaphore: (Semaphore { permits: 1000 }, 1000), rx_waker: AtomicWaker, tx_count: 1, rx_fields: \"...\" } } } }"
      ]
     },
     "execution_count": 5,
     "metadata": {},
     "output_type": "execute_result"
    }
   ],
   "source": [
    "tiface = tiface_fut.result()\n",
    "tiface"
   ]
  },
  {
   "cell_type": "markdown",
   "id": "c62e5eb0",
   "metadata": {},
   "source": [
    "### Run the Transport in background\n",
    "Here is the fun part :)"
   ]
  },
  {
   "cell_type": "code",
   "execution_count": 6,
   "id": "31effcad",
   "metadata": {},
   "outputs": [
    {
     "data": {
      "text/plain": [
       "<Future pending cb=[<builtins.PyDoneCallback object at 0x7fcde1eb7370>()]>"
      ]
     },
     "execution_count": 6,
     "metadata": {},
     "output_type": "execute_result"
    }
   ],
   "source": [
    "run_fut = tiface.run()\n",
    "run_fut"
   ]
  },
  {
   "cell_type": "markdown",
   "id": "c0acc26f",
   "metadata": {},
   "source": [
    "If the Future completed right away, it means something's fishy."
   ]
  },
  {
   "cell_type": "code",
   "execution_count": 9,
   "id": "abd9d0c6",
   "metadata": {},
   "outputs": [],
   "source": [
    "assert not run_fut.done()"
   ]
  },
  {
   "cell_type": "markdown",
   "id": "2e2ba2cd",
   "metadata": {},
   "source": [
    "Note the `transport: None` at the beginning of the following `repr` output. It is `None` because `run()` takes the `Transport`."
   ]
  },
  {
   "cell_type": "code",
   "execution_count": 10,
   "id": "123b2fa8",
   "metadata": {},
   "outputs": [
    {
     "data": {
      "text/plain": [
       "TransportInterface{ transport: None,   cmd_tx: Sender { chan: Tx { inner: Chan { tx: Tx { block_tail: 0x7fcda40133c0, tail_position: 0 }, semaphore: (Semaphore { permits: 1000 }, 1000), rx_waker: AtomicWaker, tx_count: 1, rx_fields: \"...\" } } },   response_rx: Receiver { chan: Rx { inner: Chan { tx: Tx { block_tail: 0x7fcda4013fb0, tail_position: 0 }, semaphore: (Semaphore { permits: 1000 }, 1000), rx_waker: AtomicWaker, tx_count: 1, rx_fields: \"...\" } } },   notify_rx: Receiver { chan: Rx { inner: Chan { tx: Tx { block_tail: 0x7fcda40143a0, tail_position: 0 }, semaphore: (Semaphore { permits: 1000 }, 1000), rx_waker: AtomicWaker, tx_count: 1, rx_fields: \"...\" } } } }"
      ]
     },
     "execution_count": 10,
     "metadata": {},
     "output_type": "execute_result"
    }
   ],
   "source": [
    "tiface"
   ]
  },
  {
   "cell_type": "markdown",
   "id": "5c9b481c",
   "metadata": {},
   "source": [
    "## Transport Operation"
   ]
  },
  {
   "cell_type": "code",
   "execution_count": 11,
   "id": "f5ada1e8",
   "metadata": {},
   "outputs": [],
   "source": [
    "# TODO"
   ]
  }
 ],
 "metadata": {
  "kernelspec": {
   "display_name": "Python 3 (ipykernel)",
   "language": "python",
   "name": "python3"
  },
  "language_info": {
   "codemirror_mode": {
    "name": "ipython",
    "version": 3
   },
   "file_extension": ".py",
   "mimetype": "text/x-python",
   "name": "python",
   "nbconvert_exporter": "python",
   "pygments_lexer": "ipython3",
   "version": "3.10.5"
  }
 },
 "nbformat": 4,
 "nbformat_minor": 5
}
