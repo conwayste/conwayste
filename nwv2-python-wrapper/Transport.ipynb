{
 "cells": [
  {
   "cell_type": "markdown",
   "id": "45d0fa70",
   "metadata": {},
   "source": [
    "# Boilerplate"
   ]
  },
  {
   "cell_type": "markdown",
   "id": "69735df3",
   "metadata": {},
   "source": [
    "There's probably a better way than what follows"
   ]
  },
  {
   "cell_type": "code",
   "execution_count": 1,
   "id": "f16786c2",
   "metadata": {},
   "outputs": [],
   "source": [
    "import sys\n",
    "sys.path.insert(0, 'venv/lib/python3.10/site-packages')\n",
    "import asyncio\n",
    "\n",
    "from nwv2_python_wrapper import *\n",
    "import nwv2_python_wrapper"
   ]
  },
  {
   "cell_type": "markdown",
   "id": "88f69a0e",
   "metadata": {},
   "source": [
    "# Run"
   ]
  },
  {
   "cell_type": "markdown",
   "id": "d1e76153",
   "metadata": {},
   "source": [
    "What can we run?"
   ]
  },
  {
   "cell_type": "code",
   "execution_count": 2,
   "id": "36378854",
   "metadata": {},
   "outputs": [
    {
     "data": {
      "text/plain": [
       "['EndpointW',\n",
       " 'PacketW',\n",
       " 'RequestActionW',\n",
       " 'TransportInterface',\n",
       " 'nwv2_python_wrapper']"
      ]
     },
     "execution_count": 2,
     "metadata": {},
     "output_type": "execute_result"
    }
   ],
   "source": [
    "[f for f in dir(nwv2_python_wrapper) if not f.startswith('__')]"
   ]
  },
  {
   "cell_type": "markdown",
   "id": "c2b30516",
   "metadata": {},
   "source": [
    "Run it"
   ]
  },
  {
   "cell_type": "code",
   "execution_count": 4,
   "id": "951d512e",
   "metadata": {},
   "outputs": [
    {
     "name": "stderr",
     "output_type": "stream",
     "text": [
      "thread '<unnamed>' panicked at 'there is no reactor running, must be called from the context of a Tokio 1.x runtime', /home/aaron/.cargo/registry/src/github.com-1ecc6299db9ec823/tokio-1.16.1/src/runtime/context.rs:29:26\n",
      "stack backtrace:\n",
      "   0: rust_begin_unwind\n",
      "             at /rustc/a8314ef7d0ec7b75c336af2c9857bfaf43002bfc/library/std/src/panicking.rs:584:5\n",
      "   1: core::panicking::panic_fmt\n",
      "             at /rustc/a8314ef7d0ec7b75c336af2c9857bfaf43002bfc/library/core/src/panicking.rs:142:14\n",
      "   2: core::panicking::panic_display\n",
      "             at /rustc/a8314ef7d0ec7b75c336af2c9857bfaf43002bfc/library/core/src/panicking.rs:72:5\n",
      "   3: core::panicking::panic_str\n",
      "             at /rustc/a8314ef7d0ec7b75c336af2c9857bfaf43002bfc/library/core/src/panicking.rs:56:5\n",
      "   4: core::option::expect_failed\n",
      "             at /rustc/a8314ef7d0ec7b75c336af2c9857bfaf43002bfc/library/core/src/option.rs:1854:5\n",
      "   5: core::option::Option<T>::expect\n",
      "             at /rustc/a8314ef7d0ec7b75c336af2c9857bfaf43002bfc/library/core/src/option.rs:718:21\n",
      "   6: tokio::runtime::context::io_handle::{{closure}}\n",
      "             at /home/aaron/.cargo/registry/src/github.com-1ecc6299db9ec823/tokio-1.16.1/src/runtime/context.rs:29:13\n",
      "   7: std::thread::local::LocalKey<T>::try_with\n",
      "             at /rustc/a8314ef7d0ec7b75c336af2c9857bfaf43002bfc/library/std/src/thread/local.rs:445:16\n",
      "   8: tokio::runtime::context::io_handle\n",
      "             at /home/aaron/.cargo/registry/src/github.com-1ecc6299db9ec823/tokio-1.16.1/src/runtime/context.rs:27:15\n",
      "   9: tokio::io::driver::Handle::current\n",
      "             at /home/aaron/.cargo/registry/src/github.com-1ecc6299db9ec823/tokio-1.16.1/src/io/driver/mod.rs:263:13\n",
      "  10: tokio::io::poll_evented::PollEvented<E>::new_with_interest\n",
      "             at /home/aaron/.cargo/registry/src/github.com-1ecc6299db9ec823/tokio-1.16.1/src/io/poll_evented.rs:102:58\n",
      "  11: tokio::io::poll_evented::PollEvented<E>::new\n",
      "             at /home/aaron/.cargo/registry/src/github.com-1ecc6299db9ec823/tokio-1.16.1/src/io/poll_evented.rs:82:9\n",
      "  12: tokio::net::udp::UdpSocket::new\n",
      "             at /home/aaron/.cargo/registry/src/github.com-1ecc6299db9ec823/tokio-1.16.1/src/net/udp.rs:174:18\n",
      "  13: tokio::net::udp::UdpSocket::bind_addr\n",
      "             at /home/aaron/.cargo/registry/src/github.com-1ecc6299db9ec823/tokio-1.16.1/src/net/udp.rs:170:9\n",
      "  14: tokio::net::udp::UdpSocket::bind::{{closure}}\n",
      "             at /home/aaron/.cargo/registry/src/github.com-1ecc6299db9ec823/tokio-1.16.1/src/net/udp.rs:154:19\n",
      "  15: <core::future::from_generator::GenFuture<T> as core::future::future::Future>::poll\n",
      "             at /rustc/a8314ef7d0ec7b75c336af2c9857bfaf43002bfc/library/core/src/future/mod.rs:91:19\n",
      "  16: futures_executor::local_pool::block_on::{{closure}}\n",
      "             at /home/aaron/.cargo/registry/src/github.com-1ecc6299db9ec823/futures-executor-0.3.8/src/local_pool.rs:317:23\n",
      "  17: futures_executor::local_pool::run_executor::{{closure}}\n",
      "             at /home/aaron/.cargo/registry/src/github.com-1ecc6299db9ec823/futures-executor-0.3.8/src/local_pool.rs:87:37\n",
      "  18: std::thread::local::LocalKey<T>::try_with\n",
      "             at /rustc/a8314ef7d0ec7b75c336af2c9857bfaf43002bfc/library/std/src/thread/local.rs:445:16\n",
      "  19: std::thread::local::LocalKey<T>::with\n",
      "             at /rustc/a8314ef7d0ec7b75c336af2c9857bfaf43002bfc/library/std/src/thread/local.rs:421:9\n",
      "  20: futures_executor::local_pool::run_executor\n",
      "             at /home/aaron/.cargo/registry/src/github.com-1ecc6299db9ec823/futures-executor-0.3.8/src/local_pool.rs:83:5\n",
      "  21: futures_executor::local_pool::block_on\n",
      "             at /home/aaron/.cargo/registry/src/github.com-1ecc6299db9ec823/futures-executor-0.3.8/src/local_pool.rs:317:5\n",
      "  22: netwaystev2::transport::transport::bind\n",
      "             at /home/aaron/dev/rust/life/conwayste/netwaystev2/src/transport/transport.rs:196:16\n",
      "  23: netwaystev2::transport::transport::Transport::new\n",
      "             at /home/aaron/dev/rust/life/conwayste/netwaystev2/src/transport/transport.rs:67:26\n",
      "  24: nwv2_python_wrapper::transport::TransportInterface::new\n",
      "             at ./src/transport/mod.rs:28:59\n",
      "  25: nwv2_python_wrapper::transport::_::<impl pyo3::impl_::pyclass::PyMethods<nwv2_python_wrapper::transport::TransportInterface> for pyo3::impl_::pyclass::PyClassImplCollector<nwv2_python_wrapper::transport::TransportInterface>>::py_methods::ITEMS::<impl nwv2_python_wrapper::transport::TransportInterface>::__pymethod__new__::{{closure}}\n",
      "             at ./src/transport/mod.rs:20:1\n",
      "  26: std::panicking::try::do_call\n",
      "             at /rustc/a8314ef7d0ec7b75c336af2c9857bfaf43002bfc/library/std/src/panicking.rs:492:40\n",
      "  27: std::panicking::try\n",
      "             at /rustc/a8314ef7d0ec7b75c336af2c9857bfaf43002bfc/library/std/src/panicking.rs:456:19\n",
      "  28: std::panic::catch_unwind\n",
      "             at /rustc/a8314ef7d0ec7b75c336af2c9857bfaf43002bfc/library/std/src/panic.rs:137:14\n",
      "  29: nwv2_python_wrapper::transport::_::<impl pyo3::impl_::pyclass::PyMethods<nwv2_python_wrapper::transport::TransportInterface> for pyo3::impl_::pyclass::PyClassImplCollector<nwv2_python_wrapper::transport::TransportInterface>>::py_methods::ITEMS::<impl nwv2_python_wrapper::transport::TransportInterface>::__pymethod__new__\n",
      "             at ./src/transport/mod.rs:20:1\n",
      "  30: _PyObject_MakeTpCall\n",
      "  31: _PyEval_EvalFrameDefault\n",
      "  32: <unknown>\n",
      "  33: PyEval_EvalCode\n",
      "  34: <unknown>\n",
      "  35: <unknown>\n",
      "  36: _PyEval_EvalFrameDefault\n",
      "  37: <unknown>\n",
      "  38: _PyEval_EvalFrameDefault\n",
      "  39: <unknown>\n",
      "  40: _PyEval_EvalFrameDefault\n",
      "  41: <unknown>\n",
      "  42: <unknown>\n",
      "  43: <unknown>\n",
      "  44: _PyEval_EvalFrameDefault\n",
      "  45: _PyFunction_Vectorcall\n",
      "  46: _PyEval_EvalFrameDefault\n",
      "  47: _PyFunction_Vectorcall\n",
      "  48: _PyEval_EvalFrameDefault\n",
      "  49: <unknown>\n",
      "  50: PyObject_Call\n",
      "  51: _PyEval_EvalFrameDefault\n",
      "  52: <unknown>\n",
      "  53: _PyEval_EvalFrameDefault\n",
      "  54: <unknown>\n",
      "  55: _PyEval_EvalFrameDefault\n",
      "  56: <unknown>\n",
      "  57: _PyEval_EvalFrameDefault\n",
      "  58: <unknown>\n",
      "  59: _PyEval_EvalFrameDefault\n",
      "  60: <unknown>\n",
      "  61: _PyEval_EvalFrameDefault\n",
      "  62: <unknown>\n",
      "  63: <unknown>\n",
      "  64: <unknown>\n",
      "  65: <unknown>\n",
      "  66: <unknown>\n",
      "  67: <unknown>\n",
      "  68: _PyEval_EvalFrameDefault\n",
      "  69: _PyFunction_Vectorcall\n",
      "  70: _PyEval_EvalFrameDefault\n",
      "  71: _PyFunction_Vectorcall\n",
      "  72: _PyEval_EvalFrameDefault\n",
      "  73: _PyFunction_Vectorcall\n",
      "  74: _PyEval_EvalFrameDefault\n",
      "  75: _PyFunction_Vectorcall\n",
      "  76: _PyEval_EvalFrameDefault\n",
      "  77: _PyFunction_Vectorcall\n",
      "  78: _PyEval_EvalFrameDefault\n",
      "  79: <unknown>\n",
      "  80: _PyEval_EvalFrameDefault\n",
      "  81: <unknown>\n",
      "  82: PyEval_EvalCode\n",
      "  83: <unknown>\n",
      "  84: <unknown>\n",
      "  85: _PyEval_EvalFrameDefault\n",
      "  86: _PyFunction_Vectorcall\n",
      "  87: _PyEval_EvalFrameDefault\n",
      "  88: _PyFunction_Vectorcall\n",
      "  89: <unknown>\n",
      "  90: Py_RunMain\n",
      "  91: Py_BytesMain\n",
      "  92: <unknown>\n",
      "  93: __libc_start_main\n",
      "  94: _start\n",
      "note: Some details are omitted, run with `RUST_BACKTRACE=full` for a verbose backtrace.\n"
     ]
    },
    {
     "ename": "PanicException",
     "evalue": "there is no reactor running, must be called from the context of a Tokio 1.x runtime",
     "output_type": "error",
     "traceback": [
      "\u001b[0;31m---------------------------------------------------------------------------\u001b[0m",
      "\u001b[0;31mPanicException\u001b[0m                            Traceback (most recent call last)",
      "Input \u001b[0;32mIn [4]\u001b[0m, in \u001b[0;36m<cell line: 1>\u001b[0;34m()\u001b[0m\n\u001b[0;32m----> 1\u001b[0m tiface \u001b[38;5;241m=\u001b[39m \u001b[43mTransportInterface\u001b[49m\u001b[43m(\u001b[49m\u001b[38;5;124;43m\"\u001b[39;49m\u001b[38;5;124;43m0.0.0.0\u001b[39;49m\u001b[38;5;124;43m\"\u001b[39;49m\u001b[43m,\u001b[49m\u001b[43m \u001b[49m\u001b[38;5;241;43m12345\u001b[39;49m\u001b[43m)\u001b[49m\n",
      "\u001b[0;31mPanicException\u001b[0m: there is no reactor running, must be called from the context of a Tokio 1.x runtime"
     ]
    }
   ],
   "source": [
    "tiface = TransportInterface(\"0.0.0.0\", 12345)"
   ]
  }
 ],
 "metadata": {
  "kernelspec": {
   "display_name": "Python 3 (ipykernel)",
   "language": "python",
   "name": "python3"
  },
  "language_info": {
   "codemirror_mode": {
    "name": "ipython",
    "version": 3
   },
   "file_extension": ".py",
   "mimetype": "text/x-python",
   "name": "python",
   "nbconvert_exporter": "python",
   "pygments_lexer": "ipython3",
   "version": "3.10.5"
  }
 },
 "nbformat": 4,
 "nbformat_minor": 5
}
