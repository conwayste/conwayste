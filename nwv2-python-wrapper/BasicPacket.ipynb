{
 "cells": [
  {
   "cell_type": "markdown",
   "id": "45d0fa70",
   "metadata": {},
   "source": [
    "# Boilerplate"
   ]
  },
  {
   "cell_type": "markdown",
   "id": "69735df3",
   "metadata": {},
   "source": [
    "There's probably a better way than what follows"
   ]
  },
  {
   "cell_type": "code",
   "execution_count": null,
   "id": "f16786c2",
   "metadata": {},
   "outputs": [],
   "source": [
    "import sys\n",
    "sys.path.insert(0, 'venv/lib/python3.10/site-packages')\n",
    "\n",
    "import asyncio\n",
    "import random # for nonce generation\n",
    "\n",
    "from nwv2_python_wrapper import *\n",
    "import nwv2_python_wrapper"
   ]
  },
  {
   "cell_type": "markdown",
   "id": "88f69a0e",
   "metadata": {},
   "source": [
    "# Run"
   ]
  },
  {
   "cell_type": "markdown",
   "id": "d1e76153",
   "metadata": {},
   "source": [
    "What can we run?"
   ]
  },
  {
   "cell_type": "code",
   "execution_count": null,
   "id": "36378854",
   "metadata": {},
   "outputs": [],
   "source": [
    "[f for f in dir(nwv2_python_wrapper) if not f.startswith('__')]"
   ]
  },
  {
   "cell_type": "markdown",
   "id": "c2b30516",
   "metadata": {},
   "source": [
    "RequestAction packet, Connect"
   ]
  },
  {
   "cell_type": "code",
   "execution_count": null,
   "id": "81015511",
   "metadata": {},
   "outputs": [],
   "source": [
    "ra_connect = RequestActionW(\"connect\", name=\"Siona\", client_version=\"0.3.2\")\n",
    "ra_connect"
   ]
  },
  {
   "cell_type": "markdown",
   "id": "af10ef28",
   "metadata": {},
   "source": [
    "Packet creation with no cookie or response ack"
   ]
  },
  {
   "cell_type": "code",
   "execution_count": null,
   "id": "acf72ca4",
   "metadata": {},
   "outputs": [],
   "source": [
    "sequence = 0\n",
    "response_ack = None\n",
    "cookie = None\n",
    "pkt_ra_connect = PacketW(\"request\", sequence=sequence, response_ack=response_ack, action=ra_connect, cookie=cookie)\n",
    "\n",
    "assert pkt_ra_connect.request(\"sequence\") == sequence\n",
    "assert pkt_ra_connect.request(\"response_ack\") == response_ack\n",
    "assert pkt_ra_connect.request(\"cookie\") == cookie\n",
    "assert pkt_ra_connect.request(\"action\") == ra_connect"
   ]
  },
  {
   "cell_type": "code",
   "execution_count": null,
   "id": "e736ee0d",
   "metadata": {},
   "outputs": [],
   "source": [
    "endpoint = EndpointW(\"157.230.134.224:2016\")\n",
    "endpoint"
   ]
  },
  {
   "cell_type": "markdown",
   "id": "5655b28a",
   "metadata": {},
   "source": [
    "GetStatus packet"
   ]
  },
  {
   "cell_type": "code",
   "execution_count": null,
   "id": "86b26b95",
   "metadata": {},
   "outputs": [],
   "source": [
    "random_nonce = random.getrandbits(64)\n",
    "ping = PacketW(\"getstatus\", ping_nonce=random_nonce)\n",
    "ping"
   ]
  },
  {
   "cell_type": "code",
   "execution_count": null,
   "id": "e4f08a72",
   "metadata": {},
   "outputs": [],
   "source": [
    "ping_nonce = ping.get_status(\"ping_nonce\")\n",
    "ping_nonce\n",
    "assert ping_nonce == random_nonce"
   ]
  },
  {
   "cell_type": "markdown",
   "id": "9e142d3b",
   "metadata": {},
   "source": [
    "Status packet"
   ]
  },
  {
   "cell_type": "code",
   "execution_count": null,
   "id": "fc2f0b7f",
   "metadata": {},
   "outputs": [],
   "source": [
    "pong_nonce = ping_nonce\n",
    "server_version = \"7.8.9\"\n",
    "player_count = 20\n",
    "room_count = 10\n",
    "server_name = \"nwv2_python_wrapper_server\"\n",
    "pong = PacketW(\"status\", pong_nonce=pong_nonce, server_version=server_version, player_count=player_count, room_count=room_count, server_name=server_name)\n",
    "pong"
   ]
  },
  {
   "cell_type": "markdown",
   "id": "8a725a05",
   "metadata": {},
   "source": [
    "Verify Status and GetStatus agree with each other"
   ]
  },
  {
   "cell_type": "code",
   "execution_count": null,
   "id": "020bbf0d",
   "metadata": {},
   "outputs": [],
   "source": [
    "assert pong.status() == pong_nonce\n",
    "assert pong.status(\"pong_nonce\") == pong_nonce\n",
    "assert pong.status(\"server_version\") == server_version\n",
    "assert pong.status(\"player_count\") == player_count\n",
    "assert pong.status(\"room_count\") == room_count\n",
    "assert pong.status(\"server_name\") == server_name\n",
    "try:\n",
    "    pong.status(\"does_not_exist\")\n",
    "except ValueError:\n",
    "    assert True\n",
    "except Exception:\n",
    "    assert False"
   ]
  }
 ],
 "metadata": {
  "kernelspec": {
   "display_name": "Python 3 (ipykernel)",
   "language": "python",
   "name": "python3"
  },
  "language_info": {
   "codemirror_mode": {
    "name": "ipython",
    "version": 3
   },
   "file_extension": ".py",
   "mimetype": "text/x-python",
   "name": "python",
   "nbconvert_exporter": "python",
   "pygments_lexer": "ipython3",
   "version": "3.10.10"
  }
 },
 "nbformat": 4,
 "nbformat_minor": 5
}
