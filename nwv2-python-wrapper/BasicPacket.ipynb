{
 "cells": [
  {
   "cell_type": "markdown",
   "id": "45d0fa70",
   "metadata": {},
   "source": [
    "# Boilerplate"
   ]
  },
  {
   "cell_type": "markdown",
   "id": "69735df3",
   "metadata": {},
   "source": [
    "There's probably a better way than what follows"
   ]
  },
  {
   "cell_type": "code",
   "execution_count": 1,
   "id": "f16786c2",
   "metadata": {},
   "outputs": [],
   "source": [
    "import sys\n",
    "sys.path.insert(0, 'venv/lib/python3.10/site-packages')\n",
    "\n",
    "import asyncio\n",
    "import random # for nonce generation\n",
    "\n",
    "from nwv2_python_wrapper import *\n",
    "import nwv2_python_wrapper"
   ]
  },
  {
   "cell_type": "markdown",
   "id": "88f69a0e",
   "metadata": {},
   "source": [
    "# Run"
   ]
  },
  {
   "cell_type": "markdown",
   "id": "d1e76153",
   "metadata": {},
   "source": [
    "What can we run?"
   ]
  },
  {
   "cell_type": "code",
   "execution_count": 2,
   "id": "36378854",
   "metadata": {},
   "outputs": [
    {
     "data": {
      "text/plain": [
       "['BroadcastChatMessageW',\n",
       " 'EndpointW',\n",
       " 'FilterCmdW',\n",
       " 'FilterInterface',\n",
       " 'FilterModeW',\n",
       " 'FilterNoticeW',\n",
       " 'FilterRspW',\n",
       " 'GameOptionsW',\n",
       " 'GameOutcomeW',\n",
       " 'GameUpdateW',\n",
       " 'GenStateDiffPartW',\n",
       " 'GenStateDiffW',\n",
       " 'NetRegionW',\n",
       " 'PacketSettingsW',\n",
       " 'PacketW',\n",
       " 'PlayerInfoW',\n",
       " 'ProcessUniqueIdW',\n",
       " 'RequestActionW',\n",
       " 'ResponseCodeW',\n",
       " 'RoomListW',\n",
       " 'TransportCmdW',\n",
       " 'TransportInterface',\n",
       " 'TransportNoticeW',\n",
       " 'TransportRspW',\n",
       " 'new_transport_interface',\n",
       " 'nwv2_python_wrapper']"
      ]
     },
     "execution_count": 2,
     "metadata": {},
     "output_type": "execute_result"
    }
   ],
   "source": [
    "[f for f in dir(nwv2_python_wrapper) if not f.startswith('__')]"
   ]
  },
  {
   "cell_type": "markdown",
   "id": "c2b30516",
   "metadata": {},
   "source": [
    "Run it"
   ]
  },
  {
   "cell_type": "code",
   "execution_count": 3,
   "id": "81015511",
   "metadata": {},
   "outputs": [
    {
     "data": {
      "text/plain": [
       "Connect { name: \"Siona\", client_version: \"0.3.2\" }"
      ]
     },
     "execution_count": 3,
     "metadata": {},
     "output_type": "execute_result"
    }
   ],
   "source": [
    "ra = RequestActionW(\"connect\", name=\"Siona\", client_version=\"0.3.2\")\n",
    "ra"
   ]
  },
  {
   "cell_type": "code",
   "execution_count": 4,
   "id": "acf72ca4",
   "metadata": {},
   "outputs": [
    {
     "data": {
      "text/plain": [
       "Request { sequence: 0, response_ack: None, cookie: None, action: Connect { name: \"Siona\", client_version: \"0.3.2\" } }"
      ]
     },
     "execution_count": 4,
     "metadata": {},
     "output_type": "execute_result"
    }
   ],
   "source": [
    "p = PacketW(\"request\", sequence=0, response_ack=None, action=ra, cookie=None)\n",
    "p"
   ]
  },
  {
   "cell_type": "code",
   "execution_count": 5,
   "id": "e736ee0d",
   "metadata": {},
   "outputs": [
    {
     "data": {
      "text/plain": [
       "Endpoint(157.230.134.224:2016)"
      ]
     },
     "execution_count": 5,
     "metadata": {},
     "output_type": "execute_result"
    }
   ],
   "source": [
    "endpoint = EndpointW(\"157.230.134.224:2016\")\n",
    "endpoint"
   ]
  },
  {
   "cell_type": "code",
   "execution_count": 6,
   "id": "86b26b95",
   "metadata": {},
   "outputs": [
    {
     "data": {
      "text/plain": [
       "GetStatus { ping: PingPong { nonce: 11742681247698975060 } }"
      ]
     },
     "execution_count": 6,
     "metadata": {},
     "output_type": "execute_result"
    }
   ],
   "source": [
    "random_nonce = random.getrandbits(64)\n",
    "ping = PacketW(\"getstatus\", ping_nonce=random_nonce)\n",
    "ping"
   ]
  },
  {
   "cell_type": "code",
   "execution_count": 7,
   "id": "e4f08a72",
   "metadata": {},
   "outputs": [],
   "source": [
    "ping_nonce = ping.get_status(\"ping_nonce\")\n",
    "ping_nonce\n",
    "assert(int(ping_nonce) == random_nonce)"
   ]
  },
  {
   "cell_type": "code",
   "execution_count": 8,
   "id": "fc2f0b7f",
   "metadata": {},
   "outputs": [
    {
     "data": {
      "text/plain": [
       "Status { pong: PingPong { nonce: 11742681247698975060 }, server_version: \"7.8.9\", player_count: 20, room_count: 10, server_name: \"nwv2_python_wrapper_server\" }"
      ]
     },
     "execution_count": 8,
     "metadata": {},
     "output_type": "execute_result"
    }
   ],
   "source": [
    "pong_nonce = int(ping_nonce)\n",
    "server_version = \"7.8.9\"\n",
    "player_count = 20\n",
    "room_count = 10\n",
    "server_name = \"nwv2_python_wrapper_server\"\n",
    "pong = PacketW(\"status\", pong_nonce=pong_nonce, server_version=server_version, player_count=player_count, room_count=room_count, server_name=server_name)\n",
    "pong"
   ]
  },
  {
   "cell_type": "code",
   "execution_count": 11,
   "id": "020bbf0d",
   "metadata": {},
   "outputs": [],
   "source": [
    "assert(pong.status() == pong_nonce)\n",
    "assert(pong.status(\"pong_nonce\") == pong_nonce)\n",
    "assert(pong.status(\"server_version\") == server_version)\n",
    "assert(pong.status(\"player_count\") == player_count)\n",
    "assert(pong.status(\"room_count\") == room_count)\n",
    "assert(pong.status(\"server_name\") == server_name)\n",
    "try:\n",
    "    pong.status(\"does_not_exist\")\n",
    "except ValueError:\n",
    "    assert(True)\n",
    "except Exception:\n",
    "    assert(False)"
   ]
  }
 ],
 "metadata": {
  "kernelspec": {
   "display_name": "Python 3 (ipykernel)",
   "language": "python",
   "name": "python3"
  },
  "language_info": {
   "codemirror_mode": {
    "name": "ipython",
    "version": 3
   },
   "file_extension": ".py",
   "mimetype": "text/x-python",
   "name": "python",
   "nbconvert_exporter": "python",
   "pygments_lexer": "ipython3",
   "version": "3.10.8"
  }
 },
 "nbformat": 4,
 "nbformat_minor": 5
}
