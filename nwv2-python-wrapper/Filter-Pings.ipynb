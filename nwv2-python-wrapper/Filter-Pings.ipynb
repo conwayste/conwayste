{
 "cells": [
  {
   "cell_type": "markdown",
   "id": "aba2c68e",
   "metadata": {},
   "source": [
    "# Boilerplate"
   ]
  },
  {
   "cell_type": "code",
   "execution_count": 1,
   "id": "bf75903d",
   "metadata": {},
   "outputs": [],
   "source": [
    "import sys\n",
    "sys.path.insert(0, 'venv/lib/python3.10/site-packages')\n",
    "import asyncio\n",
    "import time\n",
    "import base64\n",
    "\n",
    "from nwv2_python_wrapper import *\n",
    "import nwv2_python_wrapper\n",
    "init_logging()"
   ]
  },
  {
   "cell_type": "markdown",
   "id": "4b39dc18",
   "metadata": {},
   "source": [
    "# Run"
   ]
  },
  {
   "cell_type": "markdown",
   "id": "a2c354f3",
   "metadata": {},
   "source": [
    "List all Python wrappers"
   ]
  },
  {
   "cell_type": "code",
   "execution_count": 2,
   "id": "37227bf5",
   "metadata": {},
   "outputs": [
    {
     "data": {
      "text/plain": [
       "['BroadcastChatMessageW',\n",
       " 'EndpointW',\n",
       " 'FilterCmdW',\n",
       " 'FilterInterface',\n",
       " 'FilterModeW',\n",
       " 'FilterNoticeW',\n",
       " 'FilterRspW',\n",
       " 'GameOptionsW',\n",
       " 'GameOutcomeW',\n",
       " 'GameUpdateW',\n",
       " 'GenPartInfoW',\n",
       " 'GenStateDiffPartW',\n",
       " 'GenStateDiffW',\n",
       " 'NetRegionW',\n",
       " 'PacketSettingsW',\n",
       " 'PacketW',\n",
       " 'PlayerInfoW',\n",
       " 'ProcessUniqueIdW',\n",
       " 'RequestActionW',\n",
       " 'ResponseCodeW',\n",
       " 'RoomListW',\n",
       " 'TransportCmdW',\n",
       " 'TransportInterface',\n",
       " 'TransportNoticeW',\n",
       " 'TransportRspW',\n",
       " 'UniUpdateW',\n",
       " 'debug_hello',\n",
       " 'init_logging',\n",
       " 'new_transport_interface']"
      ]
     },
     "execution_count": 2,
     "metadata": {},
     "output_type": "execute_result"
    }
   ],
   "source": [
    "[f for f in dir(nwv2_python_wrapper) if not f.startswith('__') and f != 'nwv2_python_wrapper']"
   ]
  },
  {
   "cell_type": "markdown",
   "id": "e28d4512",
   "metadata": {},
   "source": [
    "## Transport layer setup"
   ]
  },
  {
   "cell_type": "markdown",
   "id": "5d9622f6",
   "metadata": {},
   "source": [
    "Create a Client and Server Transport layer and run each in the background."
   ]
  },
  {
   "cell_type": "code",
   "execution_count": 3,
   "id": "495f6d91",
   "metadata": {},
   "outputs": [],
   "source": [
    "# Temporary workaround until the random port generated from `0` passed in can be obtained\n",
    "SERVER_PORT = 62013"
   ]
  },
  {
   "cell_type": "code",
   "execution_count": 4,
   "id": "38346200",
   "metadata": {},
   "outputs": [
    {
     "name": "stdout",
     "output_type": "stream",
     "text": [
      "17:29:31.868427 [TRACE] - registering event source with poller: token=Token(0), interests=READABLE | WRITABLE\n",
      "17:29:31.870201 [INFO ] - [T] Attempting to bind to 0.0.0.0:0\n",
      "17:29:31.870247 [TRACE] - registering event source with poller: token=Token(1), interests=READABLE | WRITABLE\n",
      "17:29:31.872013 [INFO ] - [T] Attempting to bind to 0.0.0.0:62013\n",
      "17:29:31.893832 [TRACE] - registering event source with poller: token=Token(2), interests=READABLE | WRITABLE\n"
     ]
    },
    {
     "data": {
      "text/plain": [
       "<Future pending cb=[<builtins.PyDoneCallback object at 0x7fc98b25fa10>()]>"
      ]
     },
     "execution_count": 4,
     "metadata": {},
     "output_type": "execute_result"
    }
   ],
   "source": [
    "client_tiface = await new_transport_interface(\"0.0.0.0\", 0)\n",
    "client_tiface.run()\n",
    "\n",
    "server_tiface = await new_transport_interface(\"0.0.0.0\", SERVER_PORT)\n",
    "server_tiface.run()"
   ]
  },
  {
   "cell_type": "markdown",
   "id": "36a04bac",
   "metadata": {},
   "source": [
    "## Wrap the PYO3 Transport Interface in a Python class with the same methods"
   ]
  },
  {
   "cell_type": "markdown",
   "id": "9d109c58",
   "metadata": {},
   "source": [
    "Note that there is no `run()`. Hence, the passed in `TransportInterface` instance must have already had its `run()` method called."
   ]
  },
  {
   "cell_type": "markdown",
   "id": "344a2a3f",
   "metadata": {},
   "source": [
    "# Filter layer setup"
   ]
  },
  {
   "cell_type": "code",
   "execution_count": 5,
   "id": "6fa2ab7b",
   "metadata": {},
   "outputs": [
    {
     "data": {
      "text/plain": [
       "{'c': <FilterInterface at 0x7fc98b01b6d0>,\n",
       " 's': <FilterInterface at 0x7fc98b01bdf0>}"
      ]
     },
     "execution_count": 5,
     "metadata": {},
     "output_type": "execute_result"
    }
   ],
   "source": [
    "client_fiface = FilterInterface(client_tiface, FilterModeW(\"client\"))\n",
    "server_fiface = FilterInterface(server_tiface, FilterModeW(\"server\"))\n",
    "\n",
    "{\"c\": client_fiface, \"s\": server_fiface}"
   ]
  },
  {
   "cell_type": "markdown",
   "id": "82345b04",
   "metadata": {},
   "source": [
    "Find methods to run, for informational purposes."
   ]
  },
  {
   "cell_type": "code",
   "execution_count": 6,
   "id": "5e2d7d02",
   "metadata": {
    "scrolled": true
   },
   "outputs": [
    {
     "data": {
      "text/plain": [
       "['command', 'command_response', 'get_notifications', 'response', 'run']"
      ]
     },
     "execution_count": 6,
     "metadata": {},
     "output_type": "execute_result"
    }
   ],
   "source": [
    "[m for m in dir(client_fiface) if not m.startswith('__')]"
   ]
  },
  {
   "cell_type": "markdown",
   "id": "794804e3",
   "metadata": {},
   "source": [
    "### Run Client and Server Filter!"
   ]
  },
  {
   "cell_type": "code",
   "execution_count": 7,
   "id": "5cda3921",
   "metadata": {},
   "outputs": [],
   "source": [
    "client_fiface_fut = client_fiface.run()\n",
    "server_fiface_fut = server_fiface.run()\n",
    "\n",
    "# After waiting a bit, the above future should not have completed\n",
    "time.sleep(0.1)\n",
    "assert not client_fiface_fut.done() and not server_fiface_fut.done()"
   ]
  },
  {
   "cell_type": "markdown",
   "id": "f713c42a",
   "metadata": {},
   "source": [
    "## Filter layer operation for Pings"
   ]
  },
  {
   "cell_type": "markdown",
   "id": "12b67a80",
   "metadata": {},
   "source": [
    "### Change the server status to something meaningful"
   ]
  },
  {
   "cell_type": "code",
   "execution_count": 8,
   "id": "c91bb8be",
   "metadata": {},
   "outputs": [
    {
     "name": "stdout",
     "output_type": "stream",
     "text": [
      "17:29:40.164022 [TRACE] - [F<-A,C] New command: ChangeServerStatus { server_version: Some(\"1.2.34.56\"), player_count: Some(8675309), room_count: Some(9001), server_name: Some(\"Local Conwayste Server (notebook)\") }\n"
     ]
    },
    {
     "data": {
      "text/plain": [
       "Accepted"
      ]
     },
     "execution_count": 8,
     "metadata": {},
     "output_type": "execute_result"
    }
   ],
   "source": [
    "server_name = \"Local Conwayste Server (notebook)\"\n",
    "server_version = \"1.2.34.56\"\n",
    "player_count = 8675309\n",
    "room_count = 9001\n",
    "await server_fiface.command_response(FilterCmdW(\"changeserverstatus\",\n",
    "                                                server_name=server_name,\n",
    "                                                server_version=server_version,\n",
    "                                                player_count=player_count,\n",
    "                                                room_count=room_count))"
   ]
  },
  {
   "cell_type": "markdown",
   "id": "17a3b5a9",
   "metadata": {},
   "source": [
    "### As a client, add server (both our local and Chococat) as ping endpoints"
   ]
  },
  {
   "cell_type": "markdown",
   "id": "1619af3a",
   "metadata": {},
   "source": [
    "#### First, resolve DNS for Chococat."
   ]
  },
  {
   "cell_type": "code",
   "execution_count": 9,
   "id": "8f35a23d",
   "metadata": {},
   "outputs": [
    {
     "data": {
      "text/plain": [
       "'157.230.134.224'"
      ]
     },
     "execution_count": 9,
     "metadata": {},
     "output_type": "execute_result"
    }
   ],
   "source": [
    "import socket\n",
    "choco_ip = socket.gethostbyname_ex('chococat.conwayste.rs')[-1][0]\n",
    "choco_ip"
   ]
  },
  {
   "cell_type": "code",
   "execution_count": 10,
   "id": "3b3a1776",
   "metadata": {},
   "outputs": [
    {
     "data": {
      "text/plain": [
       "AddPingEndpoints { endpoints: [Endpoint(127.0.0.1:62013), Endpoint(157.230.134.224:2016)] }"
      ]
     },
     "execution_count": 10,
     "metadata": {},
     "output_type": "execute_result"
    }
   ],
   "source": [
    "server_ept = EndpointW(f\"127.0.0.1:{SERVER_PORT}\")\n",
    "choco_ept  = EndpointW(f\"{choco_ip}:2016\")\n",
    "\n",
    "filter_cmd = FilterCmdW(\"addpingendpoints\", endpoints=[server_ept, choco_ept])\n",
    "filter_cmd"
   ]
  },
  {
   "cell_type": "code",
   "execution_count": 11,
   "id": "7b4b5724",
   "metadata": {
    "scrolled": true
   },
   "outputs": [
    {
     "name": "stdout",
     "output_type": "stream",
     "text": [
      "17:29:45.939215 [TRACE] - [F<-A,C] New command: AddPingEndpoints { endpoints: [Endpoint(127.0.0.1:62013), Endpoint(157.230.134.224:2016)] }\n"
     ]
    },
    {
     "data": {
      "text/plain": [
       "Accepted"
      ]
     },
     "execution_count": 11,
     "metadata": {},
     "output_type": "execute_result"
    },
    {
     "name": "stdout",
     "output_type": "stream",
     "text": [
      "17:29:45.986273 [INFO ] - [F] About to send pings to servers: [Endpoint(127.0.0.1:62013), Endpoint(157.230.134.224:2016)]\n",
      "17:29:45.986368 [TRACE] - [T<-F,C] Processing command SendPackets { endpoint: Endpoint(127.0.0.1:62013), packet_infos: [PacketSettings { tid: ProcessUniqueId { prefix: 0, offset: 0 }, retry_interval: 0ns }], packets: [GetStatus { ping: PingPong { nonce: 4763853426349078934 } }] }\n",
      "17:29:45.986464 [TRACE] - [T<-F,C] Processing command SendPackets { endpoint: Endpoint(157.230.134.224:2016), packet_infos: [PacketSettings { tid: ProcessUniqueId { prefix: 0, offset: 1 }, retry_interval: 0ns }], packets: [GetStatus { ping: PingPong { nonce: 3104080523621741063 } }] }\n",
      "17:29:45.986527 [TRACE] - [F<-T,R] Command Accepted\n",
      "17:29:45.986536 [TRACE] - [F<-T,R] Command Accepted\n",
      "17:29:45.986571 [TRACE] - [T<-UDP] GetStatus { ping: PingPong { nonce: 4763853426349078934 } }\n",
      "17:29:45.986588 [TRACE] - [F<-T,N] For Endpoint(127.0.0.1:54020), took packet GetStatus { ping: PingPong { nonce: 4763853426349078934 } }\n",
      "17:29:45.986600 [INFO ] - [F] Sending Status packet PingPong { nonce: 4763853426349078934 } back to client Endpoint(127.0.0.1:54020)\n",
      "17:29:45.986613 [TRACE] - [T<-F,C] Processing command SendPackets { endpoint: Endpoint(127.0.0.1:54020), packet_infos: [PacketSettings { tid: ProcessUniqueId { prefix: 0, offset: 2 }, retry_interval: 0ns }], packets: [Status { pong: PingPong { nonce: 4763853426349078934 }, server_version: \"1.2.34.56\", player_count: 8675309, room_count: 9001, server_name: \"Local Conwayste Server (notebook)\" }] }\n",
      "17:29:45.986655 [TRACE] - [F<-T,R] Command Accepted\n",
      "17:29:45.986679 [TRACE] - [T<-UDP] Status { pong: PingPong { nonce: 4763853426349078934 }, server_version: \"1.2.34.56\", player_count: 8675309, room_count: 9001, server_name: \"Local Conwayste Server (notebook)\" }\n",
      "17:29:45.986694 [TRACE] - [F<-T,N] For Endpoint(127.0.0.1:62013), took packet Status { pong: PingPong { nonce: 4763853426349078934 }, server_version: \"1.2.34.56\", player_count: 8675309, room_count: 9001, server_name: \"Local Conwayste Server (notebook)\" }\n",
      "17:29:45.986706 [INFO ] - [F] Latency for remote server Endpoint(127.0.0.1:62013) is None\n",
      "17:29:46.012009 [TRACE] - [T<-UDP] Status { pong: PingPong { nonce: 3104080523621741063 }, server_version: \"0.3.5\", player_count: 0, room_count: 1, server_name: \"Official Conwayste\" }\n",
      "17:29:46.012166 [TRACE] - [F<-T,N] For Endpoint(157.230.134.224:2016), took packet Status { pong: PingPong { nonce: 3104080523621741063 }, server_version: \"0.3.5\", player_count: 0, room_count: 1, server_name: \"Official Conwayste\" }\n",
      "17:29:46.012211 [INFO ] - [F] Latency for remote server Endpoint(157.230.134.224:2016) is None\n",
      "17:29:46.185872 [INFO ] - [F] About to send pings to servers: [Endpoint(127.0.0.1:62013), Endpoint(157.230.134.224:2016)]\n",
      "17:29:46.185942 [TRACE] - [T<-F,C] Processing command SendPackets { endpoint: Endpoint(127.0.0.1:62013), packet_infos: [PacketSettings { tid: ProcessUniqueId { prefix: 1, offset: 0 }, retry_interval: 0ns }], packets: [GetStatus { ping: PingPong { nonce: 6595592817654847002 } }] }\n",
      "17:29:46.186022 [TRACE] - [T<-F,C] Processing command SendPackets { endpoint: Endpoint(157.230.134.224:2016), packet_infos: [PacketSettings { tid: ProcessUniqueId { prefix: 1, offset: 1 }, retry_interval: 0ns }], packets: [GetStatus { ping: PingPong { nonce: 10120990414998012933 } }] }\n",
      "17:29:46.186040 [TRACE] - [T<-UDP] GetStatus { ping: PingPong { nonce: 6595592817654847002 } }\n",
      "17:29:46.186075 [TRACE] - [F<-T,N] For Endpoint(127.0.0.1:54020), took packet GetStatus { ping: PingPong { nonce: 6595592817654847002 } }\n",
      "17:29:46.186091 [INFO ] - [F] Sending Status packet PingPong { nonce: 6595592817654847002 } back to client Endpoint(127.0.0.1:54020)\n",
      "17:29:46.186107 [TRACE] - [T<-F,C] Processing command SendPackets { endpoint: Endpoint(127.0.0.1:54020), packet_infos: [PacketSettings { tid: ProcessUniqueId { prefix: 0, offset: 3 }, retry_interval: 0ns }], packets: [Status { pong: PingPong { nonce: 6595592817654847002 }, server_version: \"1.2.34.56\", player_count: 8675309, room_count: 9001, server_name: \"Local Conwayste Server (notebook)\" }] }\n",
      "17:29:46.186159 [TRACE] - [F<-T,R] Command Accepted\n",
      "17:29:46.186266 [TRACE] - [T<-UDP] Status { pong: PingPong { nonce: 6595592817654847002 }, server_version: \"1.2.34.56\", player_count: 8675309, room_count: 9001, server_name: \"Local Conwayste Server (notebook)\" }\n",
      "17:29:46.186296 [TRACE] - [F<-T,R] Command Accepted\n",
      "17:29:46.186302 [TRACE] - [F<-T,R] Command Accepted\n",
      "17:29:46.186306 [TRACE] - [F<-T,N] For Endpoint(127.0.0.1:62013), took packet Status { pong: PingPong { nonce: 6595592817654847002 }, server_version: \"1.2.34.56\", player_count: 8675309, room_count: 9001, server_name: \"Local Conwayste Server (notebook)\" }\n",
      "17:29:46.186315 [INFO ] - [F] Latency for remote server Endpoint(127.0.0.1:62013) is None\n",
      "17:29:46.206944 [TRACE] - [T<-UDP] Status { pong: PingPong { nonce: 10120990414998012933 }, server_version: \"0.3.5\", player_count: 0, room_count: 1, server_name: \"Official Conwayste\" }\n",
      "17:29:46.207014 [TRACE] - [F<-T,N] For Endpoint(157.230.134.224:2016), took packet Status { pong: PingPong { nonce: 10120990414998012933 }, server_version: \"0.3.5\", player_count: 0, room_count: 1, server_name: \"Official Conwayste\" }\n",
      "17:29:46.207030 [INFO ] - [F] Latency for remote server Endpoint(157.230.134.224:2016) is None\n",
      "17:29:46.385724 [INFO ] - [F] About to send pings to servers: [Endpoint(127.0.0.1:62013), Endpoint(157.230.134.224:2016)]\n",
      "17:29:46.385783 [TRACE] - [T<-F,C] Processing command SendPackets { endpoint: Endpoint(127.0.0.1:62013), packet_infos: [PacketSettings { tid: ProcessUniqueId { prefix: 1, offset: 2 }, retry_interval: 0ns }], packets: [GetStatus { ping: PingPong { nonce: 7472664711664565011 } }] }\n",
      "17:29:46.385878 [TRACE] - [T<-F,C] Processing command SendPackets { endpoint: Endpoint(157.230.134.224:2016), packet_infos: [PacketSettings { tid: ProcessUniqueId { prefix: 1, offset: 3 }, retry_interval: 0ns }], packets: [GetStatus { ping: PingPong { nonce: 12063035471796143095 } }] }\n",
      "17:29:46.385896 [TRACE] - [T<-UDP] GetStatus { ping: PingPong { nonce: 7472664711664565011 } }\n",
      "17:29:46.385923 [TRACE] - [F<-T,N] For Endpoint(127.0.0.1:54020), took packet GetStatus { ping: PingPong { nonce: 7472664711664565011 } }\n",
      "17:29:46.385950 [TRACE] - [F<-T,R] Command Accepted\n",
      "17:29:46.385957 [TRACE] - [F<-T,R] Command Accepted\n",
      "17:29:46.385953 [INFO ] - [F] Sending Status packet PingPong { nonce: 7472664711664565011 } back to client Endpoint(127.0.0.1:54020)\n",
      "17:29:46.385975 [TRACE] - [T<-F,C] Processing command SendPackets { endpoint: Endpoint(127.0.0.1:54020), packet_infos: [PacketSettings { tid: ProcessUniqueId { prefix: 0, offset: 4 }, retry_interval: 0ns }], packets: [Status { pong: PingPong { nonce: 7472664711664565011 }, server_version: \"1.2.34.56\", player_count: 8675309, room_count: 9001, server_name: \"Local Conwayste Server (notebook)\" }] }\n",
      "17:29:46.386057 [TRACE] - [F<-T,R] Command Accepted\n",
      "17:29:46.386102 [TRACE] - [T<-UDP] Status { pong: PingPong { nonce: 7472664711664565011 }, server_version: \"1.2.34.56\", player_count: 8675309, room_count: 9001, server_name: \"Local Conwayste Server (notebook)\" }\n",
      "17:29:46.386123 [TRACE] - [F<-T,N] For Endpoint(127.0.0.1:62013), took packet Status { pong: PingPong { nonce: 7472664711664565011 }, server_version: \"1.2.34.56\", player_count: 8675309, room_count: 9001, server_name: \"Local Conwayste Server (notebook)\" }\n",
      "17:29:46.386135 [INFO ] - [F] Latency for remote server Endpoint(127.0.0.1:62013) is None\n",
      "17:29:46.406789 [TRACE] - [T<-UDP] Status { pong: PingPong { nonce: 12063035471796143095 }, server_version: \"0.3.5\", player_count: 0, room_count: 1, server_name: \"Official Conwayste\" }\n",
      "17:29:46.406837 [TRACE] - [F<-T,N] For Endpoint(157.230.134.224:2016), took packet Status { pong: PingPong { nonce: 12063035471796143095 }, server_version: \"0.3.5\", player_count: 0, room_count: 1, server_name: \"Official Conwayste\" }\n",
      "17:29:46.406851 [INFO ] - [F] Latency for remote server Endpoint(157.230.134.224:2016) is None\n",
      "17:29:46.585653 [INFO ] - [F] About to send pings to servers: [Endpoint(127.0.0.1:62013), Endpoint(157.230.134.224:2016)]\n",
      "17:29:46.585689 [TRACE] - [T<-F,C] Processing command SendPackets { endpoint: Endpoint(127.0.0.1:62013), packet_infos: [PacketSettings { tid: ProcessUniqueId { prefix: 1, offset: 4 }, retry_interval: 0ns }], packets: [GetStatus { ping: PingPong { nonce: 1665792977195066935 } }] }\n",
      "17:29:46.585742 [TRACE] - [T<-F,C] Processing command SendPackets { endpoint: Endpoint(157.230.134.224:2016), packet_infos: [PacketSettings { tid: ProcessUniqueId { prefix: 1, offset: 5 }, retry_interval: 0ns }], packets: [GetStatus { ping: PingPong { nonce: 8483844495060817084 } }] }\n",
      "17:29:46.585768 [TRACE] - [T<-UDP] GetStatus { ping: PingPong { nonce: 1665792977195066935 } }\n",
      "17:29:46.585788 [TRACE] - [F<-T,R] Command Accepted\n",
      "17:29:46.585795 [TRACE] - [F<-T,R] Command Accepted\n",
      "17:29:46.585792 [TRACE] - [F<-T,N] For Endpoint(127.0.0.1:54020), took packet GetStatus { ping: PingPong { nonce: 1665792977195066935 } }\n",
      "17:29:46.585803 [INFO ] - [F] Sending Status packet PingPong { nonce: 1665792977195066935 } back to client Endpoint(127.0.0.1:54020)\n",
      "17:29:46.585814 [TRACE] - [T<-F,C] Processing command SendPackets { endpoint: Endpoint(127.0.0.1:54020), packet_infos: [PacketSettings { tid: ProcessUniqueId { prefix: 0, offset: 5 }, retry_interval: 0ns }], packets: [Status { pong: PingPong { nonce: 1665792977195066935 }, server_version: \"1.2.34.56\", player_count: 8675309, room_count: 9001, server_name: \"Local Conwayste Server (notebook)\" }] }\n",
      "17:29:46.585858 [TRACE] - [F<-T,R] Command Accepted\n",
      "17:29:46.585866 [TRACE] - [T<-UDP] Status { pong: PingPong { nonce: 1665792977195066935 }, server_version: \"1.2.34.56\", player_count: 8675309, room_count: 9001, server_name: \"Local Conwayste Server (notebook)\" }\n",
      "17:29:46.585886 [TRACE] - [F<-T,N] For Endpoint(127.0.0.1:62013), took packet Status { pong: PingPong { nonce: 1665792977195066935 }, server_version: \"1.2.34.56\", player_count: 8675309, room_count: 9001, server_name: \"Local Conwayste Server (notebook)\" }\n",
      "17:29:46.585896 [INFO ] - [F] Latency for remote server Endpoint(127.0.0.1:62013) is Some(0)\n",
      "17:29:46.607284 [TRACE] - [T<-UDP] Status { pong: PingPong { nonce: 8483844495060817084 }, server_version: \"0.3.5\", player_count: 0, room_count: 1, server_name: \"Official Conwayste\" }\n",
      "17:29:46.607319 [TRACE] - [F<-T,N] For Endpoint(157.230.134.224:2016), took packet Status { pong: PingPong { nonce: 8483844495060817084 }, server_version: \"0.3.5\", player_count: 0, room_count: 1, server_name: \"Official Conwayste\" }\n",
      "17:29:46.607328 [INFO ] - [F] Latency for remote server Endpoint(157.230.134.224:2016) is Some(11)\n"
     ]
    },
    {
     "name": "stdout",
     "output_type": "stream",
     "text": [
      "17:29:46.786586 [INFO ] - [F] About to send pings to servers: [Endpoint(127.0.0.1:62013), Endpoint(157.230.134.224:2016)]\n",
      "17:29:46.786623 [TRACE] - [T<-F,C] Processing command SendPackets { endpoint: Endpoint(127.0.0.1:62013), packet_infos: [PacketSettings { tid: ProcessUniqueId { prefix: 0, offset: 6 }, retry_interval: 0ns }], packets: [GetStatus { ping: PingPong { nonce: 170569259621526503 } }] }\n",
      "17:29:46.786670 [TRACE] - [T<-F,C] Processing command SendPackets { endpoint: Endpoint(157.230.134.224:2016), packet_infos: [PacketSettings { tid: ProcessUniqueId { prefix: 0, offset: 7 }, retry_interval: 0ns }], packets: [GetStatus { ping: PingPong { nonce: 15299581605095599930 } }] }\n",
      "17:29:46.786682 [TRACE] - [T<-UDP] GetStatus { ping: PingPong { nonce: 170569259621526503 } }\n",
      "17:29:46.786700 [TRACE] - [F<-T,N] For Endpoint(127.0.0.1:54020), took packet GetStatus { ping: PingPong { nonce: 170569259621526503 } }\n",
      "17:29:46.786709 [INFO ] - [F] Sending Status packet PingPong { nonce: 170569259621526503 } back to client Endpoint(127.0.0.1:54020)\n",
      "17:29:46.786716 [TRACE] - [F<-T,R] Command Accepted\n",
      "17:29:46.786722 [TRACE] - [F<-T,R] Command Accepted\n",
      "17:29:46.786718 [TRACE] - [T<-F,C] Processing command SendPackets { endpoint: Endpoint(127.0.0.1:54020), packet_infos: [PacketSettings { tid: ProcessUniqueId { prefix: 1, offset: 6 }, retry_interval: 0ns }], packets: [Status { pong: PingPong { nonce: 170569259621526503 }, server_version: \"1.2.34.56\", player_count: 8675309, room_count: 9001, server_name: \"Local Conwayste Server (notebook)\" }] }\n",
      "17:29:46.786750 [TRACE] - [F<-T,R] Command Accepted\n",
      "17:29:46.786765 [TRACE] - [T<-UDP] Status { pong: PingPong { nonce: 170569259621526503 }, server_version: \"1.2.34.56\", player_count: 8675309, room_count: 9001, server_name: \"Local Conwayste Server (notebook)\" }\n",
      "17:29:46.786780 [TRACE] - [F<-T,N] For Endpoint(127.0.0.1:62013), took packet Status { pong: PingPong { nonce: 170569259621526503 }, server_version: \"1.2.34.56\", player_count: 8675309, room_count: 9001, server_name: \"Local Conwayste Server (notebook)\" }\n",
      "17:29:46.786787 [INFO ] - [F] Latency for remote server Endpoint(127.0.0.1:62013) is Some(0)\n",
      "17:29:46.807560 [TRACE] - [T<-UDP] Status { pong: PingPong { nonce: 15299581605095599930 }, server_version: \"0.3.5\", player_count: 0, room_count: 1, server_name: \"Official Conwayste\" }\n",
      "17:29:46.807595 [TRACE] - [F<-T,N] For Endpoint(157.230.134.224:2016), took packet Status { pong: PingPong { nonce: 15299581605095599930 }, server_version: \"0.3.5\", player_count: 0, room_count: 1, server_name: \"Official Conwayste\" }\n",
      "17:29:46.807610 [INFO ] - [F] Latency for remote server Endpoint(157.230.134.224:2016) is Some(10)\n",
      "17:29:46.986043 [INFO ] - [F] About to send pings to servers: [Endpoint(127.0.0.1:62013), Endpoint(157.230.134.224:2016)]\n",
      "17:29:46.986081 [TRACE] - [T<-F,C] Processing command SendPackets { endpoint: Endpoint(127.0.0.1:62013), packet_infos: [PacketSettings { tid: ProcessUniqueId { prefix: 1, offset: 7 }, retry_interval: 0ns }], packets: [GetStatus { ping: PingPong { nonce: 8141831660908892031 } }] }\n",
      "17:29:46.986141 [TRACE] - [T<-F,C] Processing command SendPackets { endpoint: Endpoint(157.230.134.224:2016), packet_infos: [PacketSettings { tid: ProcessUniqueId { prefix: 1, offset: 8 }, retry_interval: 0ns }], packets: [GetStatus { ping: PingPong { nonce: 3767607803138367723 } }] }\n",
      "17:29:46.986188 [TRACE] - [F<-T,R] Command Accepted\n",
      "17:29:46.986195 [TRACE] - [F<-T,R] Command Accepted\n",
      "17:29:46.986510 [TRACE] - [T<-UDP] GetStatus { ping: PingPong { nonce: 8141831660908892031 } }\n",
      "17:29:46.986539 [TRACE] - [F<-T,N] For Endpoint(127.0.0.1:54020), took packet GetStatus { ping: PingPong { nonce: 8141831660908892031 } }\n",
      "17:29:46.986550 [INFO ] - [F] Sending Status packet PingPong { nonce: 8141831660908892031 } back to client Endpoint(127.0.0.1:54020)\n",
      "17:29:46.986561 [TRACE] - [T<-F,C] Processing command SendPackets { endpoint: Endpoint(127.0.0.1:54020), packet_infos: [PacketSettings { tid: ProcessUniqueId { prefix: 0, offset: 8 }, retry_interval: 0ns }], packets: [Status { pong: PingPong { nonce: 8141831660908892031 }, server_version: \"1.2.34.56\", player_count: 8675309, room_count: 9001, server_name: \"Local Conwayste Server (notebook)\" }] }\n",
      "17:29:46.986604 [TRACE] - [F<-T,R] Command Accepted\n",
      "17:29:46.986622 [TRACE] - [T<-UDP] Status { pong: PingPong { nonce: 8141831660908892031 }, server_version: \"1.2.34.56\", player_count: 8675309, room_count: 9001, server_name: \"Local Conwayste Server (notebook)\" }\n",
      "17:29:46.986634 [TRACE] - [F<-T,N] For Endpoint(127.0.0.1:62013), took packet Status { pong: PingPong { nonce: 8141831660908892031 }, server_version: \"1.2.34.56\", player_count: 8675309, room_count: 9001, server_name: \"Local Conwayste Server (notebook)\" }\n",
      "17:29:46.986644 [INFO ] - [F] Latency for remote server Endpoint(127.0.0.1:62013) is Some(0)\n",
      "17:29:47.007243 [TRACE] - [T<-UDP] Status { pong: PingPong { nonce: 3767607803138367723 }, server_version: \"0.3.5\", player_count: 0, room_count: 1, server_name: \"Official Conwayste\" }\n",
      "17:29:47.007339 [TRACE] - [F<-T,N] For Endpoint(157.230.134.224:2016), took packet Status { pong: PingPong { nonce: 3767607803138367723 }, server_version: \"0.3.5\", player_count: 0, room_count: 1, server_name: \"Official Conwayste\" }\n",
      "17:29:47.007388 [INFO ] - [F] Latency for remote server Endpoint(157.230.134.224:2016) is Some(10)\n",
      "17:29:47.186375 [INFO ] - [F] About to send pings to servers: [Endpoint(127.0.0.1:62013), Endpoint(157.230.134.224:2016)]\n",
      "17:29:47.186476 [TRACE] - [T<-F,C] Processing command SendPackets { endpoint: Endpoint(127.0.0.1:62013), packet_infos: [PacketSettings { tid: ProcessUniqueId { prefix: 0, offset: 9 }, retry_interval: 0ns }], packets: [GetStatus { ping: PingPong { nonce: 7598941833942352906 } }] }\n",
      "17:29:47.186607 [TRACE] - [T<-F,C] Processing command SendPackets { endpoint: Endpoint(157.230.134.224:2016), packet_infos: [PacketSettings { tid: ProcessUniqueId { prefix: 0, offset: 10 }, retry_interval: 0ns }], packets: [GetStatus { ping: PingPong { nonce: 13952344978359576679 } }] }\n",
      "17:29:47.186662 [TRACE] - [T<-UDP] GetStatus { ping: PingPong { nonce: 7598941833942352906 } }\n",
      "17:29:47.186727 [TRACE] - [F<-T,R] Command Accepted\n",
      "17:29:47.186726 [TRACE] - [F<-T,N] For Endpoint(127.0.0.1:54020), took packet GetStatus { ping: PingPong { nonce: 7598941833942352906 } }\n",
      "17:29:47.186753 [TRACE] - [F<-T,R] Command Accepted\n",
      "17:29:47.186767 [INFO ] - [F] Sending Status packet PingPong { nonce: 7598941833942352906 } back to client Endpoint(127.0.0.1:54020)\n",
      "17:29:47.186800 [TRACE] - [T<-F,C] Processing command SendPackets { endpoint: Endpoint(127.0.0.1:54020), packet_infos: [PacketSettings { tid: ProcessUniqueId { prefix: 2, offset: 0 }, retry_interval: 0ns }], packets: [Status { pong: PingPong { nonce: 7598941833942352906 }, server_version: \"1.2.34.56\", player_count: 8675309, room_count: 9001, server_name: \"Local Conwayste Server (notebook)\" }] }\n",
      "17:29:47.186910 [TRACE] - [F<-T,R] Command Accepted\n",
      "17:29:47.186956 [TRACE] - [T<-UDP] Status { pong: PingPong { nonce: 7598941833942352906 }, server_version: \"1.2.34.56\", player_count: 8675309, room_count: 9001, server_name: \"Local Conwayste Server (notebook)\" }\n",
      "17:29:47.187035 [TRACE] - [F<-T,N] For Endpoint(127.0.0.1:62013), took packet Status { pong: PingPong { nonce: 7598941833942352906 }, server_version: \"1.2.34.56\", player_count: 8675309, room_count: 9001, server_name: \"Local Conwayste Server (notebook)\" }\n",
      "17:29:47.187073 [INFO ] - [F] Latency for remote server Endpoint(127.0.0.1:62013) is Some(0)\n",
      "17:29:47.208000 [TRACE] - [T<-UDP] Status { pong: PingPong { nonce: 13952344978359576679 }, server_version: \"0.3.5\", player_count: 0, room_count: 1, server_name: \"Official Conwayste\" }\n",
      "17:29:47.208047 [TRACE] - [F<-T,N] For Endpoint(157.230.134.224:2016), took packet Status { pong: PingPong { nonce: 13952344978359576679 }, server_version: \"0.3.5\", player_count: 0, room_count: 1, server_name: \"Official Conwayste\" }\n",
      "17:29:47.208063 [INFO ] - [F] Latency for remote server Endpoint(157.230.134.224:2016) is Some(10)\n",
      "17:29:47.385687 [INFO ] - [F] About to send pings to servers: [Endpoint(127.0.0.1:62013), Endpoint(157.230.134.224:2016)]\n",
      "17:29:47.385753 [TRACE] - [T<-F,C] Processing command SendPackets { endpoint: Endpoint(127.0.0.1:62013), packet_infos: [PacketSettings { tid: ProcessUniqueId { prefix: 2, offset: 1 }, retry_interval: 0ns }], packets: [GetStatus { ping: PingPong { nonce: 4921114368420858121 } }] }\n",
      "17:29:47.385815 [TRACE] - [T<-F,C] Processing command SendPackets { endpoint: Endpoint(157.230.134.224:2016), packet_infos: [PacketSettings { tid: ProcessUniqueId { prefix: 2, offset: 2 }, retry_interval: 0ns }], packets: [GetStatus { ping: PingPong { nonce: 33092861885628617 } }] }\n",
      "17:29:47.385838 [TRACE] - [T<-UDP] GetStatus { ping: PingPong { nonce: 4921114368420858121 } }\n",
      "17:29:47.385875 [TRACE] - [F<-T,R] Command Accepted\n",
      "17:29:47.385878 [TRACE] - [F<-T,N] For Endpoint(127.0.0.1:54020), took packet GetStatus { ping: PingPong { nonce: 4921114368420858121 } }\n",
      "17:29:47.385889 [TRACE] - [F<-T,R] Command Accepted\n",
      "17:29:47.385897 [INFO ] - [F] Sending Status packet PingPong { nonce: 4921114368420858121 } back to client Endpoint(127.0.0.1:54020)\n",
      "17:29:47.385917 [TRACE] - [T<-F,C] Processing command SendPackets { endpoint: Endpoint(127.0.0.1:54020), packet_infos: [PacketSettings { tid: ProcessUniqueId { prefix: 0, offset: 11 }, retry_interval: 0ns }], packets: [Status { pong: PingPong { nonce: 4921114368420858121 }, server_version: \"1.2.34.56\", player_count: 8675309, room_count: 9001, server_name: \"Local Conwayste Server (notebook)\" }] }\n",
      "17:29:47.385985 [TRACE] - [F<-T,R] Command Accepted\n",
      "17:29:47.386002 [TRACE] - [T<-UDP] Status { pong: PingPong { nonce: 4921114368420858121 }, server_version: \"1.2.34.56\", player_count: 8675309, room_count: 9001, server_name: \"Local Conwayste Server (notebook)\" }\n",
      "17:29:47.386036 [TRACE] - [F<-T,N] For Endpoint(127.0.0.1:62013), took packet Status { pong: PingPong { nonce: 4921114368420858121 }, server_version: \"1.2.34.56\", player_count: 8675309, room_count: 9001, server_name: \"Local Conwayste Server (notebook)\" }\n",
      "17:29:47.386056 [INFO ] - [F] Latency for remote server Endpoint(127.0.0.1:62013) is Some(0)\n",
      "17:29:47.406403 [TRACE] - [T<-UDP] Status { pong: PingPong { nonce: 33092861885628617 }, server_version: \"0.3.5\", player_count: 0, room_count: 1, server_name: \"Official Conwayste\" }\n",
      "17:29:47.406437 [TRACE] - [F<-T,N] For Endpoint(157.230.134.224:2016), took packet Status { pong: PingPong { nonce: 33092861885628617 }, server_version: \"0.3.5\", player_count: 0, room_count: 1, server_name: \"Official Conwayste\" }\n",
      "17:29:47.406446 [INFO ] - [F] Latency for remote server Endpoint(157.230.134.224:2016) is Some(10)\n",
      "17:29:47.585854 [INFO ] - [F] About to send pings to servers: [Endpoint(127.0.0.1:62013), Endpoint(157.230.134.224:2016)]\n",
      "17:29:47.585916 [TRACE] - [T<-F,C] Processing command SendPackets { endpoint: Endpoint(127.0.0.1:62013), packet_infos: [PacketSettings { tid: ProcessUniqueId { prefix: 0, offset: 12 }, retry_interval: 0ns }], packets: [GetStatus { ping: PingPong { nonce: 10292711048021269315 } }] }\n",
      "17:29:47.586029 [TRACE] - [T<-UDP] GetStatus { ping: PingPong { nonce: 10292711048021269315 } }\n",
      "17:29:47.586045 [TRACE] - [T<-F,C] Processing command SendPackets { endpoint: Endpoint(157.230.134.224:2016), packet_infos: [PacketSettings { tid: ProcessUniqueId { prefix: 0, offset: 13 }, retry_interval: 0ns }], packets: [GetStatus { ping: PingPong { nonce: 14281639680403541219 } }] }\n",
      "17:29:47.586062 [TRACE] - [F<-T,N] For Endpoint(127.0.0.1:54020), took packet GetStatus { ping: PingPong { nonce: 10292711048021269315 } }\n",
      "17:29:47.586078 [INFO ] - [F] Sending Status packet PingPong { nonce: 10292711048021269315 } back to client Endpoint(127.0.0.1:54020)\n",
      "17:29:47.586095 [TRACE] - [T<-F,C] Processing command SendPackets { endpoint: Endpoint(127.0.0.1:54020), packet_infos: [PacketSettings { tid: ProcessUniqueId { prefix: 1, offset: 9 }, retry_interval: 0ns }], packets: [Status { pong: PingPong { nonce: 10292711048021269315 }, server_version: \"1.2.34.56\", player_count: 8675309, room_count: 9001, server_name: \"Local Conwayste Server (notebook)\" }] }\n",
      "17:29:47.586128 [TRACE] - [F<-T,R] Command Accepted\n",
      "17:29:47.586138 [TRACE] - [F<-T,R] Command Accepted\n",
      "17:29:47.586148 [TRACE] - [F<-T,R] Command Accepted\n",
      "17:29:47.586162 [TRACE] - [T<-UDP] Status { pong: PingPong { nonce: 10292711048021269315 }, server_version: \"1.2.34.56\", player_count: 8675309, room_count: 9001, server_name: \"Local Conwayste Server (notebook)\" }\n",
      "17:29:47.586177 [TRACE] - [F<-T,N] For Endpoint(127.0.0.1:62013), took packet Status { pong: PingPong { nonce: 10292711048021269315 }, server_version: \"1.2.34.56\", player_count: 8675309, room_count: 9001, server_name: \"Local Conwayste Server (notebook)\" }\n",
      "17:29:47.586187 [INFO ] - [F] Latency for remote server Endpoint(127.0.0.1:62013) is Some(0)\n"
     ]
    },
    {
     "name": "stdout",
     "output_type": "stream",
     "text": [
      "17:29:47.607584 [TRACE] - [T<-UDP] Status { pong: PingPong { nonce: 14281639680403541219 }, server_version: \"0.3.5\", player_count: 0, room_count: 1, server_name: \"Official Conwayste\" }\n",
      "17:29:47.607623 [TRACE] - [F<-T,N] For Endpoint(157.230.134.224:2016), took packet Status { pong: PingPong { nonce: 14281639680403541219 }, server_version: \"0.3.5\", player_count: 0, room_count: 1, server_name: \"Official Conwayste\" }\n",
      "17:29:47.607635 [INFO ] - [F] Latency for remote server Endpoint(157.230.134.224:2016) is Some(10)\n",
      "17:29:47.786552 [INFO ] - [F] About to send pings to servers: [Endpoint(127.0.0.1:62013), Endpoint(157.230.134.224:2016)]\n",
      "17:29:47.786593 [TRACE] - [T<-F,C] Processing command SendPackets { endpoint: Endpoint(127.0.0.1:62013), packet_infos: [PacketSettings { tid: ProcessUniqueId { prefix: 1, offset: 10 }, retry_interval: 0ns }], packets: [GetStatus { ping: PingPong { nonce: 9946671511414812402 } }] }\n",
      "17:29:47.786649 [TRACE] - [T<-F,C] Processing command SendPackets { endpoint: Endpoint(157.230.134.224:2016), packet_infos: [PacketSettings { tid: ProcessUniqueId { prefix: 1, offset: 11 }, retry_interval: 0ns }], packets: [GetStatus { ping: PingPong { nonce: 7904496757170638121 } }] }\n",
      "17:29:47.786669 [TRACE] - [T<-UDP] GetStatus { ping: PingPong { nonce: 9946671511414812402 } }\n",
      "17:29:47.786696 [TRACE] - [F<-T,N] For Endpoint(127.0.0.1:54020), took packet GetStatus { ping: PingPong { nonce: 9946671511414812402 } }\n",
      "17:29:47.786701 [TRACE] - [F<-T,R] Command Accepted\n",
      "17:29:47.786709 [TRACE] - [F<-T,R] Command Accepted\n",
      "17:29:47.786708 [INFO ] - [F] Sending Status packet PingPong { nonce: 9946671511414812402 } back to client Endpoint(127.0.0.1:54020)\n",
      "17:29:47.786724 [TRACE] - [T<-F,C] Processing command SendPackets { endpoint: Endpoint(127.0.0.1:54020), packet_infos: [PacketSettings { tid: ProcessUniqueId { prefix: 0, offset: 14 }, retry_interval: 0ns }], packets: [Status { pong: PingPong { nonce: 9946671511414812402 }, server_version: \"1.2.34.56\", player_count: 8675309, room_count: 9001, server_name: \"Local Conwayste Server (notebook)\" }] }\n",
      "17:29:47.786771 [TRACE] - [F<-T,R] Command Accepted\n",
      "17:29:47.786775 [TRACE] - [T<-UDP] Status { pong: PingPong { nonce: 9946671511414812402 }, server_version: \"1.2.34.56\", player_count: 8675309, room_count: 9001, server_name: \"Local Conwayste Server (notebook)\" }\n",
      "17:29:47.786799 [TRACE] - [F<-T,N] For Endpoint(127.0.0.1:62013), took packet Status { pong: PingPong { nonce: 9946671511414812402 }, server_version: \"1.2.34.56\", player_count: 8675309, room_count: 9001, server_name: \"Local Conwayste Server (notebook)\" }\n",
      "17:29:47.786813 [INFO ] - [F] Latency for remote server Endpoint(127.0.0.1:62013) is Some(0)\n",
      "17:29:47.807477 [TRACE] - [T<-UDP] Status { pong: PingPong { nonce: 7904496757170638121 }, server_version: \"0.3.5\", player_count: 0, room_count: 1, server_name: \"Official Conwayste\" }\n",
      "17:29:47.807514 [TRACE] - [F<-T,N] For Endpoint(157.230.134.224:2016), took packet Status { pong: PingPong { nonce: 7904496757170638121 }, server_version: \"0.3.5\", player_count: 0, room_count: 1, server_name: \"Official Conwayste\" }\n",
      "17:29:47.807523 [INFO ] - [F] Latency for remote server Endpoint(157.230.134.224:2016) is Some(10)\n",
      "17:29:47.985707 [INFO ] - [F] About to send pings to servers: [Endpoint(127.0.0.1:62013), Endpoint(157.230.134.224:2016)]\n",
      "17:29:47.985743 [TRACE] - [T<-F,C] Processing command SendPackets { endpoint: Endpoint(127.0.0.1:62013), packet_infos: [PacketSettings { tid: ProcessUniqueId { prefix: 0, offset: 15 }, retry_interval: 0ns }], packets: [GetStatus { ping: PingPong { nonce: 14052920081627999312 } }] }\n",
      "17:29:47.985806 [TRACE] - [T<-F,C] Processing command SendPackets { endpoint: Endpoint(157.230.134.224:2016), packet_infos: [PacketSettings { tid: ProcessUniqueId { prefix: 0, offset: 16 }, retry_interval: 0ns }], packets: [GetStatus { ping: PingPong { nonce: 11965613403621041953 } }] }\n",
      "17:29:47.985855 [TRACE] - [F<-T,R] Command Accepted\n",
      "17:29:47.985863 [TRACE] - [F<-T,R] Command Accepted\n",
      "17:29:47.986040 [TRACE] - [T<-UDP] GetStatus { ping: PingPong { nonce: 14052920081627999312 } }\n",
      "17:29:47.986059 [TRACE] - [F<-T,N] For Endpoint(127.0.0.1:54020), took packet GetStatus { ping: PingPong { nonce: 14052920081627999312 } }\n",
      "17:29:47.986070 [INFO ] - [F] Sending Status packet PingPong { nonce: 14052920081627999312 } back to client Endpoint(127.0.0.1:54020)\n",
      "17:29:47.986082 [TRACE] - [T<-F,C] Processing command SendPackets { endpoint: Endpoint(127.0.0.1:54020), packet_infos: [PacketSettings { tid: ProcessUniqueId { prefix: 1, offset: 12 }, retry_interval: 0ns }], packets: [Status { pong: PingPong { nonce: 14052920081627999312 }, server_version: \"1.2.34.56\", player_count: 8675309, room_count: 9001, server_name: \"Local Conwayste Server (notebook)\" }] }\n",
      "17:29:47.986122 [TRACE] - [F<-T,R] Command Accepted\n",
      "17:29:47.986144 [TRACE] - [T<-UDP] Status { pong: PingPong { nonce: 14052920081627999312 }, server_version: \"1.2.34.56\", player_count: 8675309, room_count: 9001, server_name: \"Local Conwayste Server (notebook)\" }\n",
      "17:29:47.986159 [TRACE] - [F<-T,N] For Endpoint(127.0.0.1:62013), took packet Status { pong: PingPong { nonce: 14052920081627999312 }, server_version: \"1.2.34.56\", player_count: 8675309, room_count: 9001, server_name: \"Local Conwayste Server (notebook)\" }\n",
      "17:29:47.986171 [INFO ] - [F] Latency for remote server Endpoint(127.0.0.1:62013) is Some(0)\n",
      "17:29:48.007355 [TRACE] - [T<-UDP] Status { pong: PingPong { nonce: 11965613403621041953 }, server_version: \"0.3.5\", player_count: 0, room_count: 1, server_name: \"Official Conwayste\" }\n",
      "17:29:48.007467 [TRACE] - [F<-T,N] For Endpoint(157.230.134.224:2016), took packet Status { pong: PingPong { nonce: 11965613403621041953 }, server_version: \"0.3.5\", player_count: 0, room_count: 1, server_name: \"Official Conwayste\" }\n",
      "17:29:48.007530 [INFO ] - [F] Latency for remote server Endpoint(157.230.134.224:2016) is Some(10)\n",
      "17:29:48.186078 [INFO ] - [F] About to send pings to servers: [Endpoint(127.0.0.1:62013), Endpoint(157.230.134.224:2016)]\n",
      "17:29:48.186140 [TRACE] - [T<-F,C] Processing command SendPackets { endpoint: Endpoint(127.0.0.1:62013), packet_infos: [PacketSettings { tid: ProcessUniqueId { prefix: 2, offset: 3 }, retry_interval: 0ns }], packets: [GetStatus { ping: PingPong { nonce: 7698138479729387775 } }] }\n",
      "17:29:48.186238 [TRACE] - [T<-F,C] Processing command SendPackets { endpoint: Endpoint(157.230.134.224:2016), packet_infos: [PacketSettings { tid: ProcessUniqueId { prefix: 2, offset: 4 }, retry_interval: 0ns }], packets: [GetStatus { ping: PingPong { nonce: 6498605083144352679 } }] }\n",
      "17:29:48.186319 [TRACE] - [F<-T,R] Command Accepted\n",
      "17:29:48.186311 [TRACE] - [T<-UDP] GetStatus { ping: PingPong { nonce: 7698138479729387775 } }\n",
      "17:29:48.186341 [TRACE] - [F<-T,R] Command Accepted\n",
      "17:29:48.186485 [TRACE] - [F<-T,N] For Endpoint(127.0.0.1:54020), took packet GetStatus { ping: PingPong { nonce: 7698138479729387775 } }\n",
      "17:29:48.186513 [INFO ] - [F] Sending Status packet PingPong { nonce: 7698138479729387775 } back to client Endpoint(127.0.0.1:54020)\n",
      "17:29:48.186532 [TRACE] - [T<-F,C] Processing command SendPackets { endpoint: Endpoint(127.0.0.1:54020), packet_infos: [PacketSettings { tid: ProcessUniqueId { prefix: 1, offset: 13 }, retry_interval: 0ns }], packets: [Status { pong: PingPong { nonce: 7698138479729387775 }, server_version: \"1.2.34.56\", player_count: 8675309, room_count: 9001, server_name: \"Local Conwayste Server (notebook)\" }] }\n",
      "17:29:48.186618 [TRACE] - [F<-T,R] Command Accepted\n",
      "17:29:48.186664 [TRACE] - [T<-UDP] Status { pong: PingPong { nonce: 7698138479729387775 }, server_version: \"1.2.34.56\", player_count: 8675309, room_count: 9001, server_name: \"Local Conwayste Server (notebook)\" }\n",
      "17:29:48.186688 [TRACE] - [F<-T,N] For Endpoint(127.0.0.1:62013), took packet Status { pong: PingPong { nonce: 7698138479729387775 }, server_version: \"1.2.34.56\", player_count: 8675309, room_count: 9001, server_name: \"Local Conwayste Server (notebook)\" }\n",
      "17:29:48.186702 [INFO ] - [F] Latency for remote server Endpoint(127.0.0.1:62013) is Some(0)\n",
      "17:29:48.207548 [TRACE] - [T<-UDP] Status { pong: PingPong { nonce: 6498605083144352679 }, server_version: \"0.3.5\", player_count: 0, room_count: 1, server_name: \"Official Conwayste\" }\n",
      "17:29:48.207580 [TRACE] - [F<-T,N] For Endpoint(157.230.134.224:2016), took packet Status { pong: PingPong { nonce: 6498605083144352679 }, server_version: \"0.3.5\", player_count: 0, room_count: 1, server_name: \"Official Conwayste\" }\n",
      "17:29:48.207589 [INFO ] - [F] Latency for remote server Endpoint(157.230.134.224:2016) is Some(10)\n",
      "17:29:48.386009 [INFO ] - [F] About to send pings to servers: [Endpoint(127.0.0.1:62013), Endpoint(157.230.134.224:2016)]\n",
      "17:29:48.386068 [TRACE] - [T<-F,C] Processing command SendPackets { endpoint: Endpoint(127.0.0.1:62013), packet_infos: [PacketSettings { tid: ProcessUniqueId { prefix: 1, offset: 14 }, retry_interval: 0ns }], packets: [GetStatus { ping: PingPong { nonce: 9876434582347165993 } }] }\n",
      "17:29:48.386166 [TRACE] - [T<-F,C] Processing command SendPackets { endpoint: Endpoint(157.230.134.224:2016), packet_infos: [PacketSettings { tid: ProcessUniqueId { prefix: 1, offset: 15 }, retry_interval: 0ns }], packets: [GetStatus { ping: PingPong { nonce: 7532251341158956411 } }] }\n",
      "17:29:48.386245 [TRACE] - [F<-T,R] Command Accepted\n",
      "17:29:48.386263 [TRACE] - [F<-T,R] Command Accepted\n",
      "17:29:48.386262 [TRACE] - [T<-UDP] GetStatus { ping: PingPong { nonce: 9876434582347165993 } }\n",
      "17:29:48.386300 [TRACE] - [F<-T,N] For Endpoint(127.0.0.1:54020), took packet GetStatus { ping: PingPong { nonce: 9876434582347165993 } }\n",
      "17:29:48.386315 [INFO ] - [F] Sending Status packet PingPong { nonce: 9876434582347165993 } back to client Endpoint(127.0.0.1:54020)\n",
      "17:29:48.386331 [TRACE] - [T<-F,C] Processing command SendPackets { endpoint: Endpoint(127.0.0.1:54020), packet_infos: [PacketSettings { tid: ProcessUniqueId { prefix: 2, offset: 5 }, retry_interval: 0ns }], packets: [Status { pong: PingPong { nonce: 9876434582347165993 }, server_version: \"1.2.34.56\", player_count: 8675309, room_count: 9001, server_name: \"Local Conwayste Server (notebook)\" }] }\n",
      "17:29:48.386420 [TRACE] - [F<-T,R] Command Accepted\n",
      "17:29:48.386434 [TRACE] - [T<-UDP] Status { pong: PingPong { nonce: 9876434582347165993 }, server_version: \"1.2.34.56\", player_count: 8675309, room_count: 9001, server_name: \"Local Conwayste Server (notebook)\" }\n",
      "17:29:48.386457 [TRACE] - [F<-T,N] For Endpoint(127.0.0.1:62013), took packet Status { pong: PingPong { nonce: 9876434582347165993 }, server_version: \"1.2.34.56\", player_count: 8675309, room_count: 9001, server_name: \"Local Conwayste Server (notebook)\" }\n",
      "17:29:48.386470 [INFO ] - [F] Latency for remote server Endpoint(127.0.0.1:62013) is Some(0)\n"
     ]
    },
    {
     "name": "stdout",
     "output_type": "stream",
     "text": [
      "17:29:48.410395 [TRACE] - [T<-UDP] Status { pong: PingPong { nonce: 7532251341158956411 }, server_version: \"0.3.5\", player_count: 0, room_count: 1, server_name: \"Official Conwayste\" }\n",
      "17:29:48.410434 [TRACE] - [F<-T,N] For Endpoint(157.230.134.224:2016), took packet Status { pong: PingPong { nonce: 7532251341158956411 }, server_version: \"0.3.5\", player_count: 0, room_count: 1, server_name: \"Official Conwayste\" }\n",
      "17:29:48.410448 [INFO ] - [F] Latency for remote server Endpoint(157.230.134.224:2016) is Some(10)\n",
      "17:29:48.586191 [INFO ] - [F] About to send pings to servers: [Endpoint(127.0.0.1:62013), Endpoint(157.230.134.224:2016)]\n",
      "17:29:48.586222 [TRACE] - [T<-F,C] Processing command SendPackets { endpoint: Endpoint(127.0.0.1:62013), packet_infos: [PacketSettings { tid: ProcessUniqueId { prefix: 2, offset: 6 }, retry_interval: 0ns }], packets: [GetStatus { ping: PingPong { nonce: 1884814712062099205 } }] }\n",
      "17:29:48.586277 [TRACE] - [T<-F,C] Processing command SendPackets { endpoint: Endpoint(157.230.134.224:2016), packet_infos: [PacketSettings { tid: ProcessUniqueId { prefix: 2, offset: 7 }, retry_interval: 0ns }], packets: [GetStatus { ping: PingPong { nonce: 6022689341326212143 } }] }\n",
      "17:29:48.586307 [TRACE] - [T<-UDP] GetStatus { ping: PingPong { nonce: 1884814712062099205 } }\n",
      "17:29:48.586323 [TRACE] - [F<-T,R] Command Accepted\n",
      "17:29:48.586330 [TRACE] - [F<-T,R] Command Accepted\n",
      "17:29:48.586331 [TRACE] - [F<-T,N] For Endpoint(127.0.0.1:54020), took packet GetStatus { ping: PingPong { nonce: 1884814712062099205 } }\n",
      "17:29:48.586340 [INFO ] - [F] Sending Status packet PingPong { nonce: 1884814712062099205 } back to client Endpoint(127.0.0.1:54020)\n",
      "17:29:48.586352 [TRACE] - [T<-F,C] Processing command SendPackets { endpoint: Endpoint(127.0.0.1:54020), packet_infos: [PacketSettings { tid: ProcessUniqueId { prefix: 1, offset: 16 }, retry_interval: 0ns }], packets: [Status { pong: PingPong { nonce: 1884814712062099205 }, server_version: \"1.2.34.56\", player_count: 8675309, room_count: 9001, server_name: \"Local Conwayste Server (notebook)\" }] }\n",
      "17:29:48.586392 [TRACE] - [F<-T,R] Command Accepted\n",
      "17:29:48.586405 [TRACE] - [T<-UDP] Status { pong: PingPong { nonce: 1884814712062099205 }, server_version: \"1.2.34.56\", player_count: 8675309, room_count: 9001, server_name: \"Local Conwayste Server (notebook)\" }\n",
      "17:29:48.586441 [TRACE] - [F<-T,N] For Endpoint(127.0.0.1:62013), took packet Status { pong: PingPong { nonce: 1884814712062099205 }, server_version: \"1.2.34.56\", player_count: 8675309, room_count: 9001, server_name: \"Local Conwayste Server (notebook)\" }\n",
      "17:29:48.586453 [INFO ] - [F] Latency for remote server Endpoint(127.0.0.1:62013) is Some(0)\n",
      "17:29:48.607705 [TRACE] - [T<-UDP] Status { pong: PingPong { nonce: 6022689341326212143 }, server_version: \"0.3.5\", player_count: 0, room_count: 1, server_name: \"Official Conwayste\" }\n",
      "17:29:48.607742 [TRACE] - [F<-T,N] For Endpoint(157.230.134.224:2016), took packet Status { pong: PingPong { nonce: 6022689341326212143 }, server_version: \"0.3.5\", player_count: 0, room_count: 1, server_name: \"Official Conwayste\" }\n",
      "17:29:48.607757 [INFO ] - [F] Latency for remote server Endpoint(157.230.134.224:2016) is Some(10)\n",
      "17:29:48.786247 [INFO ] - [F] About to send pings to servers: [Endpoint(127.0.0.1:62013), Endpoint(157.230.134.224:2016)]\n",
      "17:29:48.786294 [TRACE] - [T<-F,C] Processing command SendPackets { endpoint: Endpoint(127.0.0.1:62013), packet_infos: [PacketSettings { tid: ProcessUniqueId { prefix: 1, offset: 17 }, retry_interval: 0ns }], packets: [GetStatus { ping: PingPong { nonce: 4770204199823751522 } }] }\n",
      "17:29:48.786340 [TRACE] - [T<-F,C] Processing command SendPackets { endpoint: Endpoint(157.230.134.224:2016), packet_infos: [PacketSettings { tid: ProcessUniqueId { prefix: 1, offset: 18 }, retry_interval: 0ns }], packets: [GetStatus { ping: PingPong { nonce: 4322207945473699940 } }] }\n",
      "17:29:48.786358 [TRACE] - [T<-UDP] GetStatus { ping: PingPong { nonce: 4770204199823751522 } }\n",
      "17:29:48.786380 [TRACE] - [F<-T,R] Command Accepted\n",
      "17:29:48.786387 [TRACE] - [F<-T,R] Command Accepted\n",
      "17:29:48.786383 [TRACE] - [F<-T,N] For Endpoint(127.0.0.1:54020), took packet GetStatus { ping: PingPong { nonce: 4770204199823751522 } }\n",
      "17:29:48.786395 [INFO ] - [F] Sending Status packet PingPong { nonce: 4770204199823751522 } back to client Endpoint(127.0.0.1:54020)\n",
      "17:29:48.786408 [TRACE] - [T<-F,C] Processing command SendPackets { endpoint: Endpoint(127.0.0.1:54020), packet_infos: [PacketSettings { tid: ProcessUniqueId { prefix: 2, offset: 8 }, retry_interval: 0ns }], packets: [Status { pong: PingPong { nonce: 4770204199823751522 }, server_version: \"1.2.34.56\", player_count: 8675309, room_count: 9001, server_name: \"Local Conwayste Server (notebook)\" }] }\n",
      "17:29:48.786451 [TRACE] - [F<-T,R] Command Accepted\n",
      "17:29:48.786459 [TRACE] - [T<-UDP] Status { pong: PingPong { nonce: 4770204199823751522 }, server_version: \"1.2.34.56\", player_count: 8675309, room_count: 9001, server_name: \"Local Conwayste Server (notebook)\" }\n",
      "17:29:48.786477 [TRACE] - [F<-T,N] For Endpoint(127.0.0.1:62013), took packet Status { pong: PingPong { nonce: 4770204199823751522 }, server_version: \"1.2.34.56\", player_count: 8675309, room_count: 9001, server_name: \"Local Conwayste Server (notebook)\" }\n",
      "17:29:48.786486 [INFO ] - [F] Latency for remote server Endpoint(127.0.0.1:62013) is Some(0)\n",
      "17:29:48.811209 [TRACE] - [T<-UDP] Status { pong: PingPong { nonce: 4322207945473699940 }, server_version: \"0.3.5\", player_count: 0, room_count: 1, server_name: \"Official Conwayste\" }\n",
      "17:29:48.811247 [TRACE] - [F<-T,N] For Endpoint(157.230.134.224:2016), took packet Status { pong: PingPong { nonce: 4322207945473699940 }, server_version: \"0.3.5\", player_count: 0, room_count: 1, server_name: \"Official Conwayste\" }\n",
      "17:29:48.811259 [INFO ] - [F] Latency for remote server Endpoint(157.230.134.224:2016) is Some(11)\n",
      "17:29:48.985811 [INFO ] - [F] About to send pings to servers: [Endpoint(127.0.0.1:62013), Endpoint(157.230.134.224:2016)]\n",
      "17:29:48.985913 [TRACE] - [T<-F,C] Processing command SendPackets { endpoint: Endpoint(127.0.0.1:62013), packet_infos: [PacketSettings { tid: ProcessUniqueId { prefix: 1, offset: 19 }, retry_interval: 0ns }], packets: [GetStatus { ping: PingPong { nonce: 5690521261979065698 } }] }\n",
      "17:29:48.986070 [TRACE] - [T<-F,C] Processing command SendPackets { endpoint: Endpoint(157.230.134.224:2016), packet_infos: [PacketSettings { tid: ProcessUniqueId { prefix: 1, offset: 20 }, retry_interval: 0ns }], packets: [GetStatus { ping: PingPong { nonce: 11465933531624902642 } }] }\n",
      "17:29:48.986205 [TRACE] - [F<-T,R] Command Accepted\n",
      "17:29:48.986226 [TRACE] - [F<-T,R] Command Accepted\n",
      "17:29:48.986438 [TRACE] - [T<-UDP] GetStatus { ping: PingPong { nonce: 5690521261979065698 } }\n",
      "17:29:48.986506 [TRACE] - [F<-T,N] For Endpoint(127.0.0.1:54020), took packet GetStatus { ping: PingPong { nonce: 5690521261979065698 } }\n",
      "17:29:48.986534 [INFO ] - [F] Sending Status packet PingPong { nonce: 5690521261979065698 } back to client Endpoint(127.0.0.1:54020)\n",
      "17:29:48.986568 [TRACE] - [T<-F,C] Processing command SendPackets { endpoint: Endpoint(127.0.0.1:54020), packet_infos: [PacketSettings { tid: ProcessUniqueId { prefix: 2, offset: 9 }, retry_interval: 0ns }], packets: [Status { pong: PingPong { nonce: 5690521261979065698 }, server_version: \"1.2.34.56\", player_count: 8675309, room_count: 9001, server_name: \"Local Conwayste Server (notebook)\" }] }\n",
      "17:29:48.986639 [TRACE] - [F<-T,R] Command Accepted\n",
      "17:29:48.986659 [TRACE] - [T<-UDP] Status { pong: PingPong { nonce: 5690521261979065698 }, server_version: \"1.2.34.56\", player_count: 8675309, room_count: 9001, server_name: \"Local Conwayste Server (notebook)\" }\n",
      "17:29:48.986675 [TRACE] - [F<-T,N] For Endpoint(127.0.0.1:62013), took packet Status { pong: PingPong { nonce: 5690521261979065698 }, server_version: \"1.2.34.56\", player_count: 8675309, room_count: 9001, server_name: \"Local Conwayste Server (notebook)\" }\n",
      "17:29:48.986685 [INFO ] - [F] Latency for remote server Endpoint(127.0.0.1:62013) is Some(0)\n",
      "17:29:49.006902 [TRACE] - [T<-UDP] Status { pong: PingPong { nonce: 11465933531624902642 }, server_version: \"0.3.5\", player_count: 0, room_count: 1, server_name: \"Official Conwayste\" }\n",
      "17:29:49.007030 [TRACE] - [F<-T,N] For Endpoint(157.230.134.224:2016), took packet Status { pong: PingPong { nonce: 11465933531624902642 }, server_version: \"0.3.5\", player_count: 0, room_count: 1, server_name: \"Official Conwayste\" }\n",
      "17:29:49.007089 [INFO ] - [F] Latency for remote server Endpoint(157.230.134.224:2016) is Some(11)\n",
      "17:29:49.186263 [INFO ] - [F] About to send pings to servers: [Endpoint(127.0.0.1:62013), Endpoint(157.230.134.224:2016)]\n",
      "17:29:49.186320 [TRACE] - [T<-F,C] Processing command SendPackets { endpoint: Endpoint(127.0.0.1:62013), packet_infos: [PacketSettings { tid: ProcessUniqueId { prefix: 2, offset: 10 }, retry_interval: 0ns }], packets: [GetStatus { ping: PingPong { nonce: 18280792937283362958 } }] }\n",
      "17:29:49.186420 [TRACE] - [T<-F,C] Processing command SendPackets { endpoint: Endpoint(157.230.134.224:2016), packet_infos: [PacketSettings { tid: ProcessUniqueId { prefix: 2, offset: 11 }, retry_interval: 0ns }], packets: [GetStatus { ping: PingPong { nonce: 3227821799361357288 } }] }\n",
      "17:29:49.186430 [TRACE] - [T<-UDP] GetStatus { ping: PingPong { nonce: 18280792937283362958 } }\n",
      "17:29:49.186464 [TRACE] - [F<-T,N] For Endpoint(127.0.0.1:54020), took packet GetStatus { ping: PingPong { nonce: 18280792937283362958 } }\n",
      "17:29:49.186482 [INFO ] - [F] Sending Status packet PingPong { nonce: 18280792937283362958 } back to client Endpoint(127.0.0.1:54020)\n",
      "17:29:49.186498 [TRACE] - [F<-T,R] Command Accepted\n",
      "17:29:49.186509 [TRACE] - [F<-T,R] Command Accepted\n",
      "17:29:49.186503 [TRACE] - [T<-F,C] Processing command SendPackets { endpoint: Endpoint(127.0.0.1:54020), packet_infos: [PacketSettings { tid: ProcessUniqueId { prefix: 1, offset: 21 }, retry_interval: 0ns }], packets: [Status { pong: PingPong { nonce: 18280792937283362958 }, server_version: \"1.2.34.56\", player_count: 8675309, room_count: 9001, server_name: \"Local Conwayste Server (notebook)\" }] }\n",
      "17:29:49.186569 [TRACE] - [F<-T,R] Command Accepted\n",
      "17:29:49.186601 [TRACE] - [T<-UDP] Status { pong: PingPong { nonce: 18280792937283362958 }, server_version: \"1.2.34.56\", player_count: 8675309, room_count: 9001, server_name: \"Local Conwayste Server (notebook)\" }\n",
      "17:29:49.186644 [TRACE] - [F<-T,N] For Endpoint(127.0.0.1:62013), took packet Status { pong: PingPong { nonce: 18280792937283362958 }, server_version: \"1.2.34.56\", player_count: 8675309, room_count: 9001, server_name: \"Local Conwayste Server (notebook)\" }\n",
      "17:29:49.186666 [INFO ] - [F] Latency for remote server Endpoint(127.0.0.1:62013) is Some(0)\n",
      "17:29:49.206886 [TRACE] - [T<-UDP] Status { pong: PingPong { nonce: 3227821799361357288 }, server_version: \"0.3.5\", player_count: 0, room_count: 1, server_name: \"Official Conwayste\" }\n",
      "17:29:49.206921 [TRACE] - [F<-T,N] For Endpoint(157.230.134.224:2016), took packet Status { pong: PingPong { nonce: 3227821799361357288 }, server_version: \"0.3.5\", player_count: 0, room_count: 1, server_name: \"Official Conwayste\" }\n",
      "17:29:49.206931 [INFO ] - [F] Latency for remote server Endpoint(157.230.134.224:2016) is Some(10)\n"
     ]
    },
    {
     "name": "stdout",
     "output_type": "stream",
     "text": [
      "17:29:49.385967 [INFO ] - [F] About to send pings to servers: [Endpoint(127.0.0.1:62013), Endpoint(157.230.134.224:2016)]\n",
      "17:29:49.385995 [TRACE] - [T<-F,C] Processing command SendPackets { endpoint: Endpoint(127.0.0.1:62013), packet_infos: [PacketSettings { tid: ProcessUniqueId { prefix: 1, offset: 22 }, retry_interval: 0ns }], packets: [GetStatus { ping: PingPong { nonce: 611792057085973577 } }] }\n",
      "17:29:49.386038 [TRACE] - [T<-F,C] Processing command SendPackets { endpoint: Endpoint(157.230.134.224:2016), packet_infos: [PacketSettings { tid: ProcessUniqueId { prefix: 1, offset: 23 }, retry_interval: 0ns }], packets: [GetStatus { ping: PingPong { nonce: 6447547130078652077 } }] }\n",
      "17:29:49.386056 [TRACE] - [T<-UDP] GetStatus { ping: PingPong { nonce: 611792057085973577 } }\n",
      "17:29:49.386074 [TRACE] - [F<-T,N] For Endpoint(127.0.0.1:54020), took packet GetStatus { ping: PingPong { nonce: 611792057085973577 } }\n",
      "17:29:49.386083 [TRACE] - [F<-T,R] Command Accepted\n",
      "17:29:49.386084 [INFO ] - [F] Sending Status packet PingPong { nonce: 611792057085973577 } back to client Endpoint(127.0.0.1:54020)\n",
      "17:29:49.386089 [TRACE] - [F<-T,R] Command Accepted\n",
      "17:29:49.386096 [TRACE] - [T<-F,C] Processing command SendPackets { endpoint: Endpoint(127.0.0.1:54020), packet_infos: [PacketSettings { tid: ProcessUniqueId { prefix: 2, offset: 12 }, retry_interval: 0ns }], packets: [Status { pong: PingPong { nonce: 611792057085973577 }, server_version: \"1.2.34.56\", player_count: 8675309, room_count: 9001, server_name: \"Local Conwayste Server (notebook)\" }] }\n",
      "17:29:49.386129 [TRACE] - [F<-T,R] Command Accepted\n",
      "17:29:49.386144 [TRACE] - [T<-UDP] Status { pong: PingPong { nonce: 611792057085973577 }, server_version: \"1.2.34.56\", player_count: 8675309, room_count: 9001, server_name: \"Local Conwayste Server (notebook)\" }\n",
      "17:29:49.386172 [TRACE] - [F<-T,N] For Endpoint(127.0.0.1:62013), took packet Status { pong: PingPong { nonce: 611792057085973577 }, server_version: \"1.2.34.56\", player_count: 8675309, room_count: 9001, server_name: \"Local Conwayste Server (notebook)\" }\n",
      "17:29:49.386186 [INFO ] - [F] Latency for remote server Endpoint(127.0.0.1:62013) is Some(0)\n",
      "17:29:49.407448 [TRACE] - [T<-UDP] Status { pong: PingPong { nonce: 6447547130078652077 }, server_version: \"0.3.5\", player_count: 0, room_count: 1, server_name: \"Official Conwayste\" }\n",
      "17:29:49.407482 [TRACE] - [F<-T,N] For Endpoint(157.230.134.224:2016), took packet Status { pong: PingPong { nonce: 6447547130078652077 }, server_version: \"0.3.5\", player_count: 0, room_count: 1, server_name: \"Official Conwayste\" }\n",
      "17:29:49.407491 [INFO ] - [F] Latency for remote server Endpoint(157.230.134.224:2016) is Some(10)\n",
      "17:29:49.586607 [INFO ] - [F] About to send pings to servers: [Endpoint(127.0.0.1:62013), Endpoint(157.230.134.224:2016)]\n",
      "17:29:49.586693 [TRACE] - [T<-F,C] Processing command SendPackets { endpoint: Endpoint(127.0.0.1:62013), packet_infos: [PacketSettings { tid: ProcessUniqueId { prefix: 2, offset: 13 }, retry_interval: 0ns }], packets: [GetStatus { ping: PingPong { nonce: 7858822248103888543 } }] }\n",
      "17:29:49.586829 [TRACE] - [T<-F,C] Processing command SendPackets { endpoint: Endpoint(157.230.134.224:2016), packet_infos: [PacketSettings { tid: ProcessUniqueId { prefix: 2, offset: 14 }, retry_interval: 0ns }], packets: [GetStatus { ping: PingPong { nonce: 7241692228608709926 } }] }\n",
      "17:29:49.586856 [TRACE] - [T<-UDP] GetStatus { ping: PingPong { nonce: 7858822248103888543 } }\n",
      "17:29:49.586903 [TRACE] - [F<-T,N] For Endpoint(127.0.0.1:54020), took packet GetStatus { ping: PingPong { nonce: 7858822248103888543 } }\n",
      "17:29:49.586925 [INFO ] - [F] Sending Status packet PingPong { nonce: 7858822248103888543 } back to client Endpoint(127.0.0.1:54020)\n",
      "17:29:49.586931 [TRACE] - [F<-T,R] Command Accepted\n",
      "17:29:49.586940 [TRACE] - [F<-T,R] Command Accepted\n",
      "17:29:49.586943 [TRACE] - [T<-F,C] Processing command SendPackets { endpoint: Endpoint(127.0.0.1:54020), packet_infos: [PacketSettings { tid: ProcessUniqueId { prefix: 1, offset: 24 }, retry_interval: 0ns }], packets: [Status { pong: PingPong { nonce: 7858822248103888543 }, server_version: \"1.2.34.56\", player_count: 8675309, room_count: 9001, server_name: \"Local Conwayste Server (notebook)\" }] }\n",
      "17:29:49.587029 [TRACE] - [F<-T,R] Command Accepted\n",
      "17:29:49.587035 [TRACE] - [T<-UDP] Status { pong: PingPong { nonce: 7858822248103888543 }, server_version: \"1.2.34.56\", player_count: 8675309, room_count: 9001, server_name: \"Local Conwayste Server (notebook)\" }\n",
      "17:29:49.587054 [TRACE] - [F<-T,N] For Endpoint(127.0.0.1:62013), took packet Status { pong: PingPong { nonce: 7858822248103888543 }, server_version: \"1.2.34.56\", player_count: 8675309, room_count: 9001, server_name: \"Local Conwayste Server (notebook)\" }\n",
      "17:29:49.587062 [INFO ] - [F] Latency for remote server Endpoint(127.0.0.1:62013) is Some(0)\n",
      "17:29:49.608124 [TRACE] - [T<-UDP] Status { pong: PingPong { nonce: 7241692228608709926 }, server_version: \"0.3.5\", player_count: 0, room_count: 1, server_name: \"Official Conwayste\" }\n",
      "17:29:49.608162 [TRACE] - [F<-T,N] For Endpoint(157.230.134.224:2016), took packet Status { pong: PingPong { nonce: 7241692228608709926 }, server_version: \"0.3.5\", player_count: 0, room_count: 1, server_name: \"Official Conwayste\" }\n",
      "17:29:49.608171 [INFO ] - [F] Latency for remote server Endpoint(157.230.134.224:2016) is Some(10)\n",
      "17:29:49.786287 [INFO ] - [F] About to send pings to servers: [Endpoint(127.0.0.1:62013), Endpoint(157.230.134.224:2016)]\n",
      "17:29:49.786361 [TRACE] - [T<-F,C] Processing command SendPackets { endpoint: Endpoint(127.0.0.1:62013), packet_infos: [PacketSettings { tid: ProcessUniqueId { prefix: 1, offset: 25 }, retry_interval: 0ns }], packets: [GetStatus { ping: PingPong { nonce: 12501715027571127104 } }] }\n",
      "17:29:49.786460 [TRACE] - [T<-F,C] Processing command SendPackets { endpoint: Endpoint(157.230.134.224:2016), packet_infos: [PacketSettings { tid: ProcessUniqueId { prefix: 1, offset: 26 }, retry_interval: 0ns }], packets: [GetStatus { ping: PingPong { nonce: 9674121454127478647 } }] }\n",
      "17:29:49.786480 [TRACE] - [T<-UDP] GetStatus { ping: PingPong { nonce: 12501715027571127104 } }\n",
      "17:29:49.786519 [TRACE] - [F<-T,N] For Endpoint(127.0.0.1:54020), took packet GetStatus { ping: PingPong { nonce: 12501715027571127104 } }\n",
      "17:29:49.786539 [INFO ] - [F] Sending Status packet PingPong { nonce: 12501715027571127104 } back to client Endpoint(127.0.0.1:54020)\n",
      "17:29:49.786549 [TRACE] - [F<-T,R] Command Accepted\n",
      "17:29:49.786559 [TRACE] - [F<-T,R] Command Accepted\n",
      "17:29:49.786565 [TRACE] - [T<-F,C] Processing command SendPackets { endpoint: Endpoint(127.0.0.1:54020), packet_infos: [PacketSettings { tid: ProcessUniqueId { prefix: 2, offset: 15 }, retry_interval: 0ns }], packets: [Status { pong: PingPong { nonce: 12501715027571127104 }, server_version: \"1.2.34.56\", player_count: 8675309, room_count: 9001, server_name: \"Local Conwayste Server (notebook)\" }] }\n",
      "17:29:49.786639 [TRACE] - [F<-T,R] Command Accepted\n",
      "17:29:49.786665 [TRACE] - [T<-UDP] Status { pong: PingPong { nonce: 12501715027571127104 }, server_version: \"1.2.34.56\", player_count: 8675309, room_count: 9001, server_name: \"Local Conwayste Server (notebook)\" }\n",
      "17:29:49.786702 [TRACE] - [F<-T,N] For Endpoint(127.0.0.1:62013), took packet Status { pong: PingPong { nonce: 12501715027571127104 }, server_version: \"1.2.34.56\", player_count: 8675309, room_count: 9001, server_name: \"Local Conwayste Server (notebook)\" }\n",
      "17:29:49.786726 [INFO ] - [F] Latency for remote server Endpoint(127.0.0.1:62013) is Some(0)\n",
      "17:29:49.806707 [TRACE] - [T<-UDP] Status { pong: PingPong { nonce: 9674121454127478647 }, server_version: \"0.3.5\", player_count: 0, room_count: 1, server_name: \"Official Conwayste\" }\n",
      "17:29:49.806739 [TRACE] - [F<-T,N] For Endpoint(157.230.134.224:2016), took packet Status { pong: PingPong { nonce: 9674121454127478647 }, server_version: \"0.3.5\", player_count: 0, room_count: 1, server_name: \"Official Conwayste\" }\n",
      "17:29:49.806748 [INFO ] - [F] Latency for remote server Endpoint(157.230.134.224:2016) is Some(10)\n",
      "17:29:49.986570 [INFO ] - [F] About to send pings to servers: [Endpoint(127.0.0.1:62013), Endpoint(157.230.134.224:2016)]\n",
      "17:29:49.986653 [TRACE] - [T<-F,C] Processing command SendPackets { endpoint: Endpoint(127.0.0.1:62013), packet_infos: [PacketSettings { tid: ProcessUniqueId { prefix: 2, offset: 16 }, retry_interval: 0ns }], packets: [GetStatus { ping: PingPong { nonce: 8731942526657277924 } }] }\n",
      "17:29:49.986773 [TRACE] - [T<-F,C] Processing command SendPackets { endpoint: Endpoint(157.230.134.224:2016), packet_infos: [PacketSettings { tid: ProcessUniqueId { prefix: 2, offset: 17 }, retry_interval: 0ns }], packets: [GetStatus { ping: PingPong { nonce: 8584413836880766758 } }] }\n",
      "17:29:49.986868 [TRACE] - [F<-T,R] Command Accepted\n",
      "17:29:49.986886 [TRACE] - [F<-T,R] Command Accepted\n",
      "17:29:49.986908 [TRACE] - [T<-UDP] GetStatus { ping: PingPong { nonce: 8731942526657277924 } }\n",
      "17:29:49.986961 [TRACE] - [F<-T,N] For Endpoint(127.0.0.1:54020), took packet GetStatus { ping: PingPong { nonce: 8731942526657277924 } }\n",
      "17:29:49.987011 [INFO ] - [F] Sending Status packet PingPong { nonce: 8731942526657277924 } back to client Endpoint(127.0.0.1:54020)\n",
      "17:29:49.987205 [TRACE] - [T<-F,C] Processing command SendPackets { endpoint: Endpoint(127.0.0.1:54020), packet_infos: [PacketSettings { tid: ProcessUniqueId { prefix: 1, offset: 27 }, retry_interval: 0ns }], packets: [Status { pong: PingPong { nonce: 8731942526657277924 }, server_version: \"1.2.34.56\", player_count: 8675309, room_count: 9001, server_name: \"Local Conwayste Server (notebook)\" }] }\n",
      "17:29:49.987304 [TRACE] - [F<-T,R] Command Accepted\n",
      "17:29:49.987416 [TRACE] - [T<-UDP] Status { pong: PingPong { nonce: 8731942526657277924 }, server_version: \"1.2.34.56\", player_count: 8675309, room_count: 9001, server_name: \"Local Conwayste Server (notebook)\" }\n",
      "17:29:49.987437 [TRACE] - [F<-T,N] For Endpoint(127.0.0.1:62013), took packet Status { pong: PingPong { nonce: 8731942526657277924 }, server_version: \"1.2.34.56\", player_count: 8675309, room_count: 9001, server_name: \"Local Conwayste Server (notebook)\" }\n",
      "17:29:49.987448 [INFO ] - [F] Latency for remote server Endpoint(127.0.0.1:62013) is Some(0)\n"
     ]
    },
    {
     "name": "stdout",
     "output_type": "stream",
     "text": [
      "17:29:50.007784 [TRACE] - [T<-UDP] Status { pong: PingPong { nonce: 8584413836880766758 }, server_version: \"0.3.5\", player_count: 0, room_count: 1, server_name: \"Official Conwayste\" }\n",
      "17:29:50.007867 [TRACE] - [F<-T,N] For Endpoint(157.230.134.224:2016), took packet Status { pong: PingPong { nonce: 8584413836880766758 }, server_version: \"0.3.5\", player_count: 0, room_count: 1, server_name: \"Official Conwayste\" }\n",
      "17:29:50.007895 [INFO ] - [F] Latency for remote server Endpoint(157.230.134.224:2016) is Some(10)\n",
      "17:29:50.185769 [INFO ] - [F] About to send pings to servers: [Endpoint(127.0.0.1:62013), Endpoint(157.230.134.224:2016)]\n",
      "17:29:50.185804 [TRACE] - [T<-F,C] Processing command SendPackets { endpoint: Endpoint(127.0.0.1:62013), packet_infos: [PacketSettings { tid: ProcessUniqueId { prefix: 2, offset: 18 }, retry_interval: 0ns }], packets: [GetStatus { ping: PingPong { nonce: 1178425509617919611 } }] }\n",
      "17:29:50.185859 [TRACE] - [T<-F,C] Processing command SendPackets { endpoint: Endpoint(157.230.134.224:2016), packet_infos: [PacketSettings { tid: ProcessUniqueId { prefix: 2, offset: 19 }, retry_interval: 0ns }], packets: [GetStatus { ping: PingPong { nonce: 11751115941175331681 } }] }\n",
      "17:29:50.185887 [TRACE] - [T<-UDP] GetStatus { ping: PingPong { nonce: 1178425509617919611 } }\n",
      "17:29:50.185905 [TRACE] - [F<-T,R] Command Accepted\n",
      "17:29:50.185911 [TRACE] - [F<-T,R] Command Accepted\n",
      "17:29:50.185912 [TRACE] - [F<-T,N] For Endpoint(127.0.0.1:54020), took packet GetStatus { ping: PingPong { nonce: 1178425509617919611 } }\n",
      "17:29:50.185922 [INFO ] - [F] Sending Status packet PingPong { nonce: 1178425509617919611 } back to client Endpoint(127.0.0.1:54020)\n",
      "17:29:50.185934 [TRACE] - [T<-F,C] Processing command SendPackets { endpoint: Endpoint(127.0.0.1:54020), packet_infos: [PacketSettings { tid: ProcessUniqueId { prefix: 1, offset: 28 }, retry_interval: 0ns }], packets: [Status { pong: PingPong { nonce: 1178425509617919611 }, server_version: \"1.2.34.56\", player_count: 8675309, room_count: 9001, server_name: \"Local Conwayste Server (notebook)\" }] }\n",
      "17:29:50.185975 [TRACE] - [F<-T,R] Command Accepted\n",
      "17:29:50.185986 [TRACE] - [T<-UDP] Status { pong: PingPong { nonce: 1178425509617919611 }, server_version: \"1.2.34.56\", player_count: 8675309, room_count: 9001, server_name: \"Local Conwayste Server (notebook)\" }\n",
      "17:29:50.186006 [TRACE] - [F<-T,N] For Endpoint(127.0.0.1:62013), took packet Status { pong: PingPong { nonce: 1178425509617919611 }, server_version: \"1.2.34.56\", player_count: 8675309, room_count: 9001, server_name: \"Local Conwayste Server (notebook)\" }\n",
      "17:29:50.186017 [INFO ] - [F] Latency for remote server Endpoint(127.0.0.1:62013) is Some(0)\n",
      "17:29:50.206373 [TRACE] - [T<-UDP] Status { pong: PingPong { nonce: 11751115941175331681 }, server_version: \"0.3.5\", player_count: 0, room_count: 1, server_name: \"Official Conwayste\" }\n",
      "17:29:50.206407 [TRACE] - [F<-T,N] For Endpoint(157.230.134.224:2016), took packet Status { pong: PingPong { nonce: 11751115941175331681 }, server_version: \"0.3.5\", player_count: 0, room_count: 1, server_name: \"Official Conwayste\" }\n",
      "17:29:50.206416 [INFO ] - [F] Latency for remote server Endpoint(157.230.134.224:2016) is Some(10)\n",
      "17:29:50.385911 [INFO ] - [F] About to send pings to servers: [Endpoint(127.0.0.1:62013), Endpoint(157.230.134.224:2016)]\n",
      "17:29:50.385943 [TRACE] - [T<-F,C] Processing command SendPackets { endpoint: Endpoint(127.0.0.1:62013), packet_infos: [PacketSettings { tid: ProcessUniqueId { prefix: 1, offset: 29 }, retry_interval: 0ns }], packets: [GetStatus { ping: PingPong { nonce: 1017630282461796743 } }] }\n",
      "17:29:50.385990 [TRACE] - [T<-F,C] Processing command SendPackets { endpoint: Endpoint(157.230.134.224:2016), packet_infos: [PacketSettings { tid: ProcessUniqueId { prefix: 1, offset: 30 }, retry_interval: 0ns }], packets: [GetStatus { ping: PingPong { nonce: 6616024405987116166 } }] }\n",
      "17:29:50.386000 [TRACE] - [T<-UDP] GetStatus { ping: PingPong { nonce: 1017630282461796743 } }\n",
      "17:29:50.386015 [TRACE] - [F<-T,N] For Endpoint(127.0.0.1:54020), took packet GetStatus { ping: PingPong { nonce: 1017630282461796743 } }\n",
      "17:29:50.386026 [INFO ] - [F] Sending Status packet PingPong { nonce: 1017630282461796743 } back to client Endpoint(127.0.0.1:54020)\n",
      "17:29:50.386032 [TRACE] - [F<-T,R] Command Accepted\n",
      "17:29:50.386036 [TRACE] - [F<-T,R] Command Accepted\n",
      "17:29:50.386035 [TRACE] - [T<-F,C] Processing command SendPackets { endpoint: Endpoint(127.0.0.1:54020), packet_infos: [PacketSettings { tid: ProcessUniqueId { prefix: 2, offset: 20 }, retry_interval: 0ns }], packets: [Status { pong: PingPong { nonce: 1017630282461796743 }, server_version: \"1.2.34.56\", player_count: 8675309, room_count: 9001, server_name: \"Local Conwayste Server (notebook)\" }] }\n",
      "17:29:50.386069 [TRACE] - [F<-T,R] Command Accepted\n",
      "17:29:50.386101 [TRACE] - [T<-UDP] Status { pong: PingPong { nonce: 1017630282461796743 }, server_version: \"1.2.34.56\", player_count: 8675309, room_count: 9001, server_name: \"Local Conwayste Server (notebook)\" }\n",
      "17:29:50.386113 [TRACE] - [F<-T,N] For Endpoint(127.0.0.1:62013), took packet Status { pong: PingPong { nonce: 1017630282461796743 }, server_version: \"1.2.34.56\", player_count: 8675309, room_count: 9001, server_name: \"Local Conwayste Server (notebook)\" }\n",
      "17:29:50.386122 [INFO ] - [F] Latency for remote server Endpoint(127.0.0.1:62013) is Some(0)\n",
      "17:29:50.407081 [TRACE] - [T<-UDP] Status { pong: PingPong { nonce: 6616024405987116166 }, server_version: \"0.3.5\", player_count: 0, room_count: 1, server_name: \"Official Conwayste\" }\n",
      "17:29:50.407118 [TRACE] - [F<-T,N] For Endpoint(157.230.134.224:2016), took packet Status { pong: PingPong { nonce: 6616024405987116166 }, server_version: \"0.3.5\", player_count: 0, room_count: 1, server_name: \"Official Conwayste\" }\n",
      "17:29:50.407132 [INFO ] - [F] Latency for remote server Endpoint(157.230.134.224:2016) is Some(10)\n",
      "17:29:50.586077 [INFO ] - [F] About to send pings to servers: [Endpoint(127.0.0.1:62013), Endpoint(157.230.134.224:2016)]\n",
      "17:29:50.586111 [TRACE] - [T<-F,C] Processing command SendPackets { endpoint: Endpoint(127.0.0.1:62013), packet_infos: [PacketSettings { tid: ProcessUniqueId { prefix: 1, offset: 31 }, retry_interval: 0ns }], packets: [GetStatus { ping: PingPong { nonce: 15948978785365088401 } }] }\n",
      "17:29:50.586174 [TRACE] - [T<-UDP] GetStatus { ping: PingPong { nonce: 15948978785365088401 } }\n",
      "17:29:50.586198 [TRACE] - [F<-T,N] For Endpoint(127.0.0.1:54020), took packet GetStatus { ping: PingPong { nonce: 15948978785365088401 } }\n",
      "17:29:50.586210 [INFO ] - [F] Sending Status packet PingPong { nonce: 15948978785365088401 } back to client Endpoint(127.0.0.1:54020)\n",
      "17:29:50.586221 [TRACE] - [T<-F,C] Processing command SendPackets { endpoint: Endpoint(127.0.0.1:54020), packet_infos: [PacketSettings { tid: ProcessUniqueId { prefix: 2, offset: 21 }, retry_interval: 0ns }], packets: [Status { pong: PingPong { nonce: 15948978785365088401 }, server_version: \"1.2.34.56\", player_count: 8675309, room_count: 9001, server_name: \"Local Conwayste Server (notebook)\" }] }\n",
      "17:29:50.586253 [TRACE] - [T<-F,C] Processing command SendPackets { endpoint: Endpoint(157.230.134.224:2016), packet_infos: [PacketSettings { tid: ProcessUniqueId { prefix: 1, offset: 32 }, retry_interval: 0ns }], packets: [GetStatus { ping: PingPong { nonce: 15063786112716767630 } }] }\n",
      "17:29:50.586275 [TRACE] - [F<-T,R] Command Accepted\n",
      "17:29:50.586306 [TRACE] - [T<-UDP] Status { pong: PingPong { nonce: 15948978785365088401 }, server_version: \"1.2.34.56\", player_count: 8675309, room_count: 9001, server_name: \"Local Conwayste Server (notebook)\" }\n",
      "17:29:50.586333 [TRACE] - [F<-T,N] For Endpoint(127.0.0.1:62013), took packet Status { pong: PingPong { nonce: 15948978785365088401 }, server_version: \"1.2.34.56\", player_count: 8675309, room_count: 9001, server_name: \"Local Conwayste Server (notebook)\" }\n",
      "17:29:50.586345 [INFO ] - [F] Latency for remote server Endpoint(127.0.0.1:62013) is Some(0)\n",
      "17:29:50.586354 [TRACE] - [F<-T,R] Command Accepted\n",
      "17:29:50.586359 [TRACE] - [F<-T,R] Command Accepted\n",
      "17:29:50.607563 [TRACE] - [T<-UDP] Status { pong: PingPong { nonce: 15063786112716767630 }, server_version: \"0.3.5\", player_count: 0, room_count: 1, server_name: \"Official Conwayste\" }\n",
      "17:29:50.607602 [TRACE] - [F<-T,N] For Endpoint(157.230.134.224:2016), took packet Status { pong: PingPong { nonce: 15063786112716767630 }, server_version: \"0.3.5\", player_count: 0, room_count: 1, server_name: \"Official Conwayste\" }\n",
      "17:29:50.607616 [INFO ] - [F] Latency for remote server Endpoint(157.230.134.224:2016) is Some(10)\n",
      "17:29:50.785898 [INFO ] - [F] About to send pings to servers: [Endpoint(127.0.0.1:62013), Endpoint(157.230.134.224:2016)]\n",
      "17:29:50.785941 [TRACE] - [T<-F,C] Processing command SendPackets { endpoint: Endpoint(127.0.0.1:62013), packet_infos: [PacketSettings { tid: ProcessUniqueId { prefix: 2, offset: 22 }, retry_interval: 0ns }], packets: [GetStatus { ping: PingPong { nonce: 7718721312229315490 } }] }\n",
      "17:29:50.785998 [TRACE] - [T<-F,C] Processing command SendPackets { endpoint: Endpoint(157.230.134.224:2016), packet_infos: [PacketSettings { tid: ProcessUniqueId { prefix: 2, offset: 23 }, retry_interval: 0ns }], packets: [GetStatus { ping: PingPong { nonce: 16145153538153936707 } }] }\n",
      "17:29:50.786037 [TRACE] - [T<-UDP] GetStatus { ping: PingPong { nonce: 7718721312229315490 } }\n",
      "17:29:50.786045 [TRACE] - [F<-T,R] Command Accepted\n",
      "17:29:50.786065 [TRACE] - [F<-T,N] For Endpoint(127.0.0.1:54020), took packet GetStatus { ping: PingPong { nonce: 7718721312229315490 } }\n",
      "17:29:50.786096 [INFO ] - [F] Sending Status packet PingPong { nonce: 7718721312229315490 } back to client Endpoint(127.0.0.1:54020)\n",
      "17:29:50.786110 [TRACE] - [T<-F,C] Processing command SendPackets { endpoint: Endpoint(127.0.0.1:54020), packet_infos: [PacketSettings { tid: ProcessUniqueId { prefix: 0, offset: 17 }, retry_interval: 0ns }], packets: [Status { pong: PingPong { nonce: 7718721312229315490 }, server_version: \"1.2.34.56\", player_count: 8675309, room_count: 9001, server_name: \"Local Conwayste Server (notebook)\" }] }\n",
      "17:29:50.786068 [TRACE] - [F<-T,R] Command Accepted\n",
      "17:29:50.786154 [TRACE] - [F<-T,R] Command Accepted\n",
      "17:29:50.786159 [TRACE] - [T<-UDP] Status { pong: PingPong { nonce: 7718721312229315490 }, server_version: \"1.2.34.56\", player_count: 8675309, room_count: 9001, server_name: \"Local Conwayste Server (notebook)\" }\n",
      "17:29:50.786181 [TRACE] - [F<-T,N] For Endpoint(127.0.0.1:62013), took packet Status { pong: PingPong { nonce: 7718721312229315490 }, server_version: \"1.2.34.56\", player_count: 8675309, room_count: 9001, server_name: \"Local Conwayste Server (notebook)\" }\n",
      "17:29:50.786193 [INFO ] - [F] Latency for remote server Endpoint(127.0.0.1:62013) is Some(0)\n"
     ]
    },
    {
     "name": "stdout",
     "output_type": "stream",
     "text": [
      "17:29:50.810506 [TRACE] - [T<-UDP] Status { pong: PingPong { nonce: 16145153538153936707 }, server_version: \"0.3.5\", player_count: 0, room_count: 1, server_name: \"Official Conwayste\" }\n",
      "17:29:50.810542 [TRACE] - [F<-T,N] For Endpoint(157.230.134.224:2016), took packet Status { pong: PingPong { nonce: 16145153538153936707 }, server_version: \"0.3.5\", player_count: 0, room_count: 1, server_name: \"Official Conwayste\" }\n",
      "17:29:50.810555 [INFO ] - [F] Latency for remote server Endpoint(157.230.134.224:2016) is Some(10)\n",
      "17:29:50.986321 [INFO ] - [F] About to send pings to servers: [Endpoint(127.0.0.1:62013), Endpoint(157.230.134.224:2016)]\n",
      "17:29:50.986424 [TRACE] - [T<-F,C] Processing command SendPackets { endpoint: Endpoint(127.0.0.1:62013), packet_infos: [PacketSettings { tid: ProcessUniqueId { prefix: 0, offset: 18 }, retry_interval: 0ns }], packets: [GetStatus { ping: PingPong { nonce: 18014794835793579185 } }] }\n",
      "17:29:50.986578 [TRACE] - [T<-F,C] Processing command SendPackets { endpoint: Endpoint(157.230.134.224:2016), packet_infos: [PacketSettings { tid: ProcessUniqueId { prefix: 0, offset: 19 }, retry_interval: 0ns }], packets: [GetStatus { ping: PingPong { nonce: 3259008409029262355 } }] }\n",
      "17:29:50.986705 [TRACE] - [F<-T,R] Command Accepted\n",
      "17:29:50.986727 [TRACE] - [F<-T,R] Command Accepted\n",
      "17:29:50.986805 [TRACE] - [T<-UDP] GetStatus { ping: PingPong { nonce: 18014794835793579185 } }\n",
      "17:29:50.986851 [TRACE] - [F<-T,N] For Endpoint(127.0.0.1:54020), took packet GetStatus { ping: PingPong { nonce: 18014794835793579185 } }\n",
      "17:29:50.986878 [INFO ] - [F] Sending Status packet PingPong { nonce: 18014794835793579185 } back to client Endpoint(127.0.0.1:54020)\n",
      "17:29:50.986913 [TRACE] - [T<-F,C] Processing command SendPackets { endpoint: Endpoint(127.0.0.1:54020), packet_infos: [PacketSettings { tid: ProcessUniqueId { prefix: 2, offset: 24 }, retry_interval: 0ns }], packets: [Status { pong: PingPong { nonce: 18014794835793579185 }, server_version: \"1.2.34.56\", player_count: 8675309, room_count: 9001, server_name: \"Local Conwayste Server (notebook)\" }] }\n",
      "17:29:50.987031 [TRACE] - [F<-T,R] Command Accepted\n",
      "17:29:50.987064 [TRACE] - [T<-UDP] Status { pong: PingPong { nonce: 18014794835793579185 }, server_version: \"1.2.34.56\", player_count: 8675309, room_count: 9001, server_name: \"Local Conwayste Server (notebook)\" }\n",
      "17:29:50.987079 [TRACE] - [F<-T,N] For Endpoint(127.0.0.1:62013), took packet Status { pong: PingPong { nonce: 18014794835793579185 }, server_version: \"1.2.34.56\", player_count: 8675309, room_count: 9001, server_name: \"Local Conwayste Server (notebook)\" }\n",
      "17:29:50.987090 [INFO ] - [F] Latency for remote server Endpoint(127.0.0.1:62013) is Some(0)\n",
      "17:29:51.010629 [TRACE] - [T<-UDP] Status { pong: PingPong { nonce: 3259008409029262355 }, server_version: \"0.3.5\", player_count: 0, room_count: 1, server_name: \"Official Conwayste\" }\n",
      "17:29:51.010710 [TRACE] - [F<-T,N] For Endpoint(157.230.134.224:2016), took packet Status { pong: PingPong { nonce: 3259008409029262355 }, server_version: \"0.3.5\", player_count: 0, room_count: 1, server_name: \"Official Conwayste\" }\n",
      "17:29:51.010740 [INFO ] - [F] Latency for remote server Endpoint(157.230.134.224:2016) is Some(11)\n"
     ]
    }
   ],
   "source": [
    "await client_fiface.command_response(filter_cmd)"
   ]
  },
  {
   "cell_type": "markdown",
   "id": "f4617164",
   "metadata": {},
   "source": [
    "The client will repeatedly send pings. Need `LATENCY_FILTER_DEPTH` pings (currently 4) to be received back from server before we know the latency."
   ]
  },
  {
   "cell_type": "markdown",
   "id": "f2f9ef75",
   "metadata": {},
   "source": [
    "### Sleep for a bit\n",
    "\n",
    "We need time to get some pings."
   ]
  },
  {
   "cell_type": "code",
   "execution_count": 12,
   "id": "508a922e",
   "metadata": {
    "scrolled": true
   },
   "outputs": [
    {
     "name": "stdout",
     "output_type": "stream",
     "text": [
      "17:29:51.185773 [INFO ] - [F] About to send pings to servers: [Endpoint(127.0.0.1:62013), Endpoint(157.230.134.224:2016)]\n",
      "17:29:51.185825 [TRACE] - [T<-F,C] Processing command SendPackets { endpoint: Endpoint(127.0.0.1:62013), packet_infos: [PacketSettings { tid: ProcessUniqueId { prefix: 1, offset: 33 }, retry_interval: 0ns }], packets: [GetStatus { ping: PingPong { nonce: 1433689029263163083 } }] }\n",
      "17:29:51.185928 [TRACE] - [T<-F,C] Processing command SendPackets { endpoint: Endpoint(157.230.134.224:2016), packet_infos: [PacketSettings { tid: ProcessUniqueId { prefix: 1, offset: 34 }, retry_interval: 0ns }], packets: [GetStatus { ping: PingPong { nonce: 6327162838814561251 } }] }\n",
      "17:29:51.185945 [TRACE] - [T<-UDP] GetStatus { ping: PingPong { nonce: 1433689029263163083 } }\n",
      "17:29:51.185987 [TRACE] - [F<-T,N] For Endpoint(127.0.0.1:54020), took packet GetStatus { ping: PingPong { nonce: 1433689029263163083 } }\n",
      "17:29:51.186003 [INFO ] - [F] Sending Status packet PingPong { nonce: 1433689029263163083 } back to client Endpoint(127.0.0.1:54020)\n",
      "17:29:51.186005 [TRACE] - [F<-T,R] Command Accepted\n",
      "17:29:51.186013 [TRACE] - [F<-T,R] Command Accepted\n",
      "17:29:51.186020 [TRACE] - [T<-F,C] Processing command SendPackets { endpoint: Endpoint(127.0.0.1:54020), packet_infos: [PacketSettings { tid: ProcessUniqueId { prefix: 0, offset: 20 }, retry_interval: 0ns }], packets: [Status { pong: PingPong { nonce: 1433689029263163083 }, server_version: \"1.2.34.56\", player_count: 8675309, room_count: 9001, server_name: \"Local Conwayste Server (notebook)\" }] }\n",
      "17:29:51.186351 [TRACE] - [F<-T,R] Command Accepted\n",
      "17:29:51.186413 [TRACE] - [T<-UDP] Status { pong: PingPong { nonce: 1433689029263163083 }, server_version: \"1.2.34.56\", player_count: 8675309, room_count: 9001, server_name: \"Local Conwayste Server (notebook)\" }\n",
      "17:29:51.186432 [TRACE] - [F<-T,N] For Endpoint(127.0.0.1:62013), took packet Status { pong: PingPong { nonce: 1433689029263163083 }, server_version: \"1.2.34.56\", player_count: 8675309, room_count: 9001, server_name: \"Local Conwayste Server (notebook)\" }\n",
      "17:29:51.186443 [INFO ] - [F] Latency for remote server Endpoint(127.0.0.1:62013) is Some(0)\n",
      "17:29:51.207395 [TRACE] - [T<-UDP] Status { pong: PingPong { nonce: 6327162838814561251 }, server_version: \"0.3.5\", player_count: 0, room_count: 1, server_name: \"Official Conwayste\" }\n",
      "17:29:51.207432 [TRACE] - [F<-T,N] For Endpoint(157.230.134.224:2016), took packet Status { pong: PingPong { nonce: 6327162838814561251 }, server_version: \"0.3.5\", player_count: 0, room_count: 1, server_name: \"Official Conwayste\" }\n",
      "17:29:51.207446 [INFO ] - [F] Latency for remote server Endpoint(157.230.134.224:2016) is Some(11)\n",
      "17:29:51.385914 [INFO ] - [F] About to send pings to servers: [Endpoint(127.0.0.1:62013), Endpoint(157.230.134.224:2016)]\n",
      "17:29:51.385973 [TRACE] - [T<-F,C] Processing command SendPackets { endpoint: Endpoint(127.0.0.1:62013), packet_infos: [PacketSettings { tid: ProcessUniqueId { prefix: 0, offset: 21 }, retry_interval: 0ns }], packets: [GetStatus { ping: PingPong { nonce: 7593339386912633817 } }] }\n",
      "17:29:51.386089 [TRACE] - [T<-F,C] Processing command SendPackets { endpoint: Endpoint(157.230.134.224:2016), packet_infos: [PacketSettings { tid: ProcessUniqueId { prefix: 0, offset: 22 }, retry_interval: 0ns }], packets: [GetStatus { ping: PingPong { nonce: 11899107287041944078 } }] }\n",
      "17:29:51.386135 [TRACE] - [T<-UDP] GetStatus { ping: PingPong { nonce: 7593339386912633817 } }\n",
      "17:29:51.386167 [TRACE] - [F<-T,N] For Endpoint(127.0.0.1:54020), took packet GetStatus { ping: PingPong { nonce: 7593339386912633817 } }\n",
      "17:29:51.386185 [INFO ] - [F] Sending Status packet PingPong { nonce: 7593339386912633817 } back to client Endpoint(127.0.0.1:54020)\n",
      "17:29:51.386198 [TRACE] - [F<-T,R] Command Accepted\n",
      "17:29:51.386206 [TRACE] - [F<-T,R] Command Accepted\n",
      "17:29:51.386200 [TRACE] - [T<-F,C] Processing command SendPackets { endpoint: Endpoint(127.0.0.1:54020), packet_infos: [PacketSettings { tid: ProcessUniqueId { prefix: 1, offset: 35 }, retry_interval: 0ns }], packets: [Status { pong: PingPong { nonce: 7593339386912633817 }, server_version: \"1.2.34.56\", player_count: 8675309, room_count: 9001, server_name: \"Local Conwayste Server (notebook)\" }] }\n",
      "17:29:51.386261 [TRACE] - [F<-T,R] Command Accepted\n",
      "17:29:51.386360 [TRACE] - [T<-UDP] Status { pong: PingPong { nonce: 7593339386912633817 }, server_version: \"1.2.34.56\", player_count: 8675309, room_count: 9001, server_name: \"Local Conwayste Server (notebook)\" }\n",
      "17:29:51.386392 [TRACE] - [F<-T,N] For Endpoint(127.0.0.1:62013), took packet Status { pong: PingPong { nonce: 7593339386912633817 }, server_version: \"1.2.34.56\", player_count: 8675309, room_count: 9001, server_name: \"Local Conwayste Server (notebook)\" }\n",
      "17:29:51.386409 [INFO ] - [F] Latency for remote server Endpoint(127.0.0.1:62013) is Some(0)\n",
      "17:29:51.407420 [TRACE] - [T<-UDP] Status { pong: PingPong { nonce: 11899107287041944078 }, server_version: \"0.3.5\", player_count: 0, room_count: 1, server_name: \"Official Conwayste\" }\n",
      "17:29:51.407458 [TRACE] - [F<-T,N] For Endpoint(157.230.134.224:2016), took packet Status { pong: PingPong { nonce: 11899107287041944078 }, server_version: \"0.3.5\", player_count: 0, room_count: 1, server_name: \"Official Conwayste\" }\n",
      "17:29:51.407473 [INFO ] - [F] Latency for remote server Endpoint(157.230.134.224:2016) is Some(11)\n",
      "17:29:51.586232 [INFO ] - [F] About to send pings to servers: [Endpoint(127.0.0.1:62013), Endpoint(157.230.134.224:2016)]\n",
      "17:29:51.586260 [TRACE] - [T<-F,C] Processing command SendPackets { endpoint: Endpoint(127.0.0.1:62013), packet_infos: [PacketSettings { tid: ProcessUniqueId { prefix: 0, offset: 23 }, retry_interval: 0ns }], packets: [GetStatus { ping: PingPong { nonce: 13252709579243341265 } }] }\n",
      "17:29:51.586304 [TRACE] - [T<-F,C] Processing command SendPackets { endpoint: Endpoint(157.230.134.224:2016), packet_infos: [PacketSettings { tid: ProcessUniqueId { prefix: 0, offset: 24 }, retry_interval: 0ns }], packets: [GetStatus { ping: PingPong { nonce: 4645393838499644879 } }] }\n",
      "17:29:51.586321 [TRACE] - [T<-UDP] GetStatus { ping: PingPong { nonce: 13252709579243341265 } }\n",
      "17:29:51.586343 [TRACE] - [F<-T,R] Command Accepted\n",
      "17:29:51.586350 [TRACE] - [F<-T,R] Command Accepted\n",
      "17:29:51.586346 [TRACE] - [F<-T,N] For Endpoint(127.0.0.1:54020), took packet GetStatus { ping: PingPong { nonce: 13252709579243341265 } }\n",
      "17:29:51.586361 [INFO ] - [F] Sending Status packet PingPong { nonce: 13252709579243341265 } back to client Endpoint(127.0.0.1:54020)\n",
      "17:29:51.586373 [TRACE] - [T<-F,C] Processing command SendPackets { endpoint: Endpoint(127.0.0.1:54020), packet_infos: [PacketSettings { tid: ProcessUniqueId { prefix: 1, offset: 36 }, retry_interval: 0ns }], packets: [Status { pong: PingPong { nonce: 13252709579243341265 }, server_version: \"1.2.34.56\", player_count: 8675309, room_count: 9001, server_name: \"Local Conwayste Server (notebook)\" }] }\n",
      "17:29:51.586418 [TRACE] - [F<-T,R] Command Accepted\n",
      "17:29:51.586460 [TRACE] - [T<-UDP] Status { pong: PingPong { nonce: 13252709579243341265 }, server_version: \"1.2.34.56\", player_count: 8675309, room_count: 9001, server_name: \"Local Conwayste Server (notebook)\" }\n",
      "17:29:51.586479 [TRACE] - [F<-T,N] For Endpoint(127.0.0.1:62013), took packet Status { pong: PingPong { nonce: 13252709579243341265 }, server_version: \"1.2.34.56\", player_count: 8675309, room_count: 9001, server_name: \"Local Conwayste Server (notebook)\" }\n",
      "17:29:51.586490 [INFO ] - [F] Latency for remote server Endpoint(127.0.0.1:62013) is Some(0)\n",
      "17:29:51.609966 [TRACE] - [T<-UDP] Status { pong: PingPong { nonce: 4645393838499644879 }, server_version: \"0.3.5\", player_count: 0, room_count: 1, server_name: \"Official Conwayste\" }\n",
      "17:29:51.610009 [TRACE] - [F<-T,N] For Endpoint(157.230.134.224:2016), took packet Status { pong: PingPong { nonce: 4645393838499644879 }, server_version: \"0.3.5\", player_count: 0, room_count: 1, server_name: \"Official Conwayste\" }\n",
      "17:29:51.610022 [INFO ] - [F] Latency for remote server Endpoint(157.230.134.224:2016) is Some(11)\n",
      "17:29:51.786116 [INFO ] - [F] About to send pings to servers: [Endpoint(127.0.0.1:62013), Endpoint(157.230.134.224:2016)]\n",
      "17:29:51.786168 [TRACE] - [T<-F,C] Processing command SendPackets { endpoint: Endpoint(127.0.0.1:62013), packet_infos: [PacketSettings { tid: ProcessUniqueId { prefix: 0, offset: 25 }, retry_interval: 0ns }], packets: [GetStatus { ping: PingPong { nonce: 15829313190481050534 } }] }\n",
      "17:29:51.786255 [TRACE] - [T<-F,C] Processing command SendPackets { endpoint: Endpoint(157.230.134.224:2016), packet_infos: [PacketSettings { tid: ProcessUniqueId { prefix: 0, offset: 26 }, retry_interval: 0ns }], packets: [GetStatus { ping: PingPong { nonce: 6495219855108486061 } }] }\n",
      "17:29:51.786288 [TRACE] - [T<-UDP] GetStatus { ping: PingPong { nonce: 15829313190481050534 } }\n",
      "17:29:51.786349 [TRACE] - [F<-T,R] Command Accepted\n",
      "17:29:51.786348 [TRACE] - [F<-T,N] For Endpoint(127.0.0.1:54020), took packet GetStatus { ping: PingPong { nonce: 15829313190481050534 } }\n",
      "17:29:51.786369 [TRACE] - [F<-T,R] Command Accepted\n",
      "17:29:51.786377 [INFO ] - [F] Sending Status packet PingPong { nonce: 15829313190481050534 } back to client Endpoint(127.0.0.1:54020)\n",
      "17:29:51.786403 [TRACE] - [T<-F,C] Processing command SendPackets { endpoint: Endpoint(127.0.0.1:54020), packet_infos: [PacketSettings { tid: ProcessUniqueId { prefix: 1, offset: 37 }, retry_interval: 0ns }], packets: [Status { pong: PingPong { nonce: 15829313190481050534 }, server_version: \"1.2.34.56\", player_count: 8675309, room_count: 9001, server_name: \"Local Conwayste Server (notebook)\" }] }\n",
      "17:29:51.786501 [TRACE] - [F<-T,R] Command Accepted\n",
      "17:29:51.786532 [TRACE] - [T<-UDP] Status { pong: PingPong { nonce: 15829313190481050534 }, server_version: \"1.2.34.56\", player_count: 8675309, room_count: 9001, server_name: \"Local Conwayste Server (notebook)\" }\n",
      "17:29:51.786573 [TRACE] - [F<-T,N] For Endpoint(127.0.0.1:62013), took packet Status { pong: PingPong { nonce: 15829313190481050534 }, server_version: \"1.2.34.56\", player_count: 8675309, room_count: 9001, server_name: \"Local Conwayste Server (notebook)\" }\n",
      "17:29:51.786604 [INFO ] - [F] Latency for remote server Endpoint(127.0.0.1:62013) is Some(0)\n",
      "17:29:51.807403 [TRACE] - [T<-UDP] Status { pong: PingPong { nonce: 6495219855108486061 }, server_version: \"0.3.5\", player_count: 0, room_count: 1, server_name: \"Official Conwayste\" }\n",
      "17:29:51.807442 [TRACE] - [F<-T,N] For Endpoint(157.230.134.224:2016), took packet Status { pong: PingPong { nonce: 6495219855108486061 }, server_version: \"0.3.5\", player_count: 0, room_count: 1, server_name: \"Official Conwayste\" }\n",
      "17:29:51.807456 [INFO ] - [F] Latency for remote server Endpoint(157.230.134.224:2016) is Some(10)\n"
     ]
    },
    {
     "name": "stdout",
     "output_type": "stream",
     "text": [
      "17:29:51.986293 [INFO ] - [F] About to send pings to servers: [Endpoint(127.0.0.1:62013), Endpoint(157.230.134.224:2016)]\n",
      "17:29:51.986334 [TRACE] - [T<-F,C] Processing command SendPackets { endpoint: Endpoint(127.0.0.1:62013), packet_infos: [PacketSettings { tid: ProcessUniqueId { prefix: 1, offset: 38 }, retry_interval: 0ns }], packets: [GetStatus { ping: PingPong { nonce: 2682111299120475256 } }] }\n",
      "17:29:51.986388 [TRACE] - [T<-F,C] Processing command SendPackets { endpoint: Endpoint(157.230.134.224:2016), packet_infos: [PacketSettings { tid: ProcessUniqueId { prefix: 1, offset: 39 }, retry_interval: 0ns }], packets: [GetStatus { ping: PingPong { nonce: 13293401358523305697 } }] }\n",
      "17:29:51.986435 [TRACE] - [F<-T,R] Command Accepted\n",
      "17:29:51.986442 [TRACE] - [F<-T,R] Command Accepted\n",
      "17:29:51.986464 [TRACE] - [T<-UDP] GetStatus { ping: PingPong { nonce: 2682111299120475256 } }\n",
      "17:29:51.986478 [TRACE] - [F<-T,N] For Endpoint(127.0.0.1:54020), took packet GetStatus { ping: PingPong { nonce: 2682111299120475256 } }\n",
      "17:29:51.986485 [INFO ] - [F] Sending Status packet PingPong { nonce: 2682111299120475256 } back to client Endpoint(127.0.0.1:54020)\n",
      "17:29:51.986495 [TRACE] - [T<-F,C] Processing command SendPackets { endpoint: Endpoint(127.0.0.1:54020), packet_infos: [PacketSettings { tid: ProcessUniqueId { prefix: 1, offset: 40 }, retry_interval: 0ns }], packets: [Status { pong: PingPong { nonce: 2682111299120475256 }, server_version: \"1.2.34.56\", player_count: 8675309, room_count: 9001, server_name: \"Local Conwayste Server (notebook)\" }] }\n",
      "17:29:51.986526 [TRACE] - [F<-T,R] Command Accepted\n",
      "17:29:51.986544 [TRACE] - [T<-UDP] Status { pong: PingPong { nonce: 2682111299120475256 }, server_version: \"1.2.34.56\", player_count: 8675309, room_count: 9001, server_name: \"Local Conwayste Server (notebook)\" }\n",
      "17:29:51.986558 [TRACE] - [F<-T,N] For Endpoint(127.0.0.1:62013), took packet Status { pong: PingPong { nonce: 2682111299120475256 }, server_version: \"1.2.34.56\", player_count: 8675309, room_count: 9001, server_name: \"Local Conwayste Server (notebook)\" }\n",
      "17:29:51.986568 [INFO ] - [F] Latency for remote server Endpoint(127.0.0.1:62013) is Some(0)\n",
      "17:29:52.007148 [TRACE] - [T<-UDP] Status { pong: PingPong { nonce: 13293401358523305697 }, server_version: \"0.3.5\", player_count: 0, room_count: 1, server_name: \"Official Conwayste\" }\n",
      "17:29:52.007250 [TRACE] - [F<-T,N] For Endpoint(157.230.134.224:2016), took packet Status { pong: PingPong { nonce: 13293401358523305697 }, server_version: \"0.3.5\", player_count: 0, room_count: 1, server_name: \"Official Conwayste\" }\n",
      "17:29:52.007297 [INFO ] - [F] Latency for remote server Endpoint(157.230.134.224:2016) is Some(10)\n",
      "17:29:52.185832 [INFO ] - [F] About to send pings to servers: [Endpoint(127.0.0.1:62013), Endpoint(157.230.134.224:2016)]\n",
      "17:29:52.185859 [TRACE] - [T<-F,C] Processing command SendPackets { endpoint: Endpoint(127.0.0.1:62013), packet_infos: [PacketSettings { tid: ProcessUniqueId { prefix: 0, offset: 27 }, retry_interval: 0ns }], packets: [GetStatus { ping: PingPong { nonce: 7966409106117300129 } }] }\n",
      "17:29:52.185907 [TRACE] - [T<-F,C] Processing command SendPackets { endpoint: Endpoint(157.230.134.224:2016), packet_infos: [PacketSettings { tid: ProcessUniqueId { prefix: 0, offset: 28 }, retry_interval: 0ns }], packets: [GetStatus { ping: PingPong { nonce: 5243933349465580603 } }] }\n",
      "17:29:52.185940 [TRACE] - [T<-UDP] GetStatus { ping: PingPong { nonce: 7966409106117300129 } }\n",
      "17:29:52.185954 [TRACE] - [F<-T,R] Command Accepted\n",
      "17:29:52.185960 [TRACE] - [F<-T,R] Command Accepted\n",
      "17:29:52.185964 [TRACE] - [F<-T,N] For Endpoint(127.0.0.1:54020), took packet GetStatus { ping: PingPong { nonce: 7966409106117300129 } }\n",
      "17:29:52.185972 [INFO ] - [F] Sending Status packet PingPong { nonce: 7966409106117300129 } back to client Endpoint(127.0.0.1:54020)\n",
      "17:29:52.185982 [TRACE] - [T<-F,C] Processing command SendPackets { endpoint: Endpoint(127.0.0.1:54020), packet_infos: [PacketSettings { tid: ProcessUniqueId { prefix: 1, offset: 41 }, retry_interval: 0ns }], packets: [Status { pong: PingPong { nonce: 7966409106117300129 }, server_version: \"1.2.34.56\", player_count: 8675309, room_count: 9001, server_name: \"Local Conwayste Server (notebook)\" }] }\n",
      "17:29:52.186023 [TRACE] - [F<-T,R] Command Accepted\n",
      "17:29:52.186026 [TRACE] - [T<-UDP] Status { pong: PingPong { nonce: 7966409106117300129 }, server_version: \"1.2.34.56\", player_count: 8675309, room_count: 9001, server_name: \"Local Conwayste Server (notebook)\" }\n",
      "17:29:52.186049 [TRACE] - [F<-T,N] For Endpoint(127.0.0.1:62013), took packet Status { pong: PingPong { nonce: 7966409106117300129 }, server_version: \"1.2.34.56\", player_count: 8675309, room_count: 9001, server_name: \"Local Conwayste Server (notebook)\" }\n",
      "17:29:52.186061 [INFO ] - [F] Latency for remote server Endpoint(127.0.0.1:62013) is Some(0)\n",
      "17:29:52.206328 [TRACE] - [T<-UDP] Status { pong: PingPong { nonce: 5243933349465580603 }, server_version: \"0.3.5\", player_count: 0, room_count: 1, server_name: \"Official Conwayste\" }\n",
      "17:29:52.206361 [TRACE] - [F<-T,N] For Endpoint(157.230.134.224:2016), took packet Status { pong: PingPong { nonce: 5243933349465580603 }, server_version: \"0.3.5\", player_count: 0, room_count: 1, server_name: \"Official Conwayste\" }\n",
      "17:29:52.206373 [INFO ] - [F] Latency for remote server Endpoint(157.230.134.224:2016) is Some(10)\n",
      "17:29:52.385897 [INFO ] - [F] About to send pings to servers: [Endpoint(127.0.0.1:62013), Endpoint(157.230.134.224:2016)]\n",
      "17:29:52.385930 [TRACE] - [T<-F,C] Processing command SendPackets { endpoint: Endpoint(127.0.0.1:62013), packet_infos: [PacketSettings { tid: ProcessUniqueId { prefix: 1, offset: 42 }, retry_interval: 0ns }], packets: [GetStatus { ping: PingPong { nonce: 12562299090417114564 } }] }\n",
      "17:29:52.385975 [TRACE] - [T<-F,C] Processing command SendPackets { endpoint: Endpoint(157.230.134.224:2016), packet_infos: [PacketSettings { tid: ProcessUniqueId { prefix: 1, offset: 43 }, retry_interval: 0ns }], packets: [GetStatus { ping: PingPong { nonce: 16980943708581286528 } }] }\n",
      "17:29:52.385985 [TRACE] - [T<-UDP] GetStatus { ping: PingPong { nonce: 12562299090417114564 } }\n",
      "17:29:52.386015 [TRACE] - [F<-T,R] Command Accepted\n",
      "17:29:52.386016 [TRACE] - [F<-T,N] For Endpoint(127.0.0.1:54020), took packet GetStatus { ping: PingPong { nonce: 12562299090417114564 } }\n",
      "17:29:52.386023 [TRACE] - [F<-T,R] Command Accepted\n",
      "17:29:52.386027 [INFO ] - [F] Sending Status packet PingPong { nonce: 12562299090417114564 } back to client Endpoint(127.0.0.1:54020)\n",
      "17:29:52.386039 [TRACE] - [T<-F,C] Processing command SendPackets { endpoint: Endpoint(127.0.0.1:54020), packet_infos: [PacketSettings { tid: ProcessUniqueId { prefix: 0, offset: 29 }, retry_interval: 0ns }], packets: [Status { pong: PingPong { nonce: 12562299090417114564 }, server_version: \"1.2.34.56\", player_count: 8675309, room_count: 9001, server_name: \"Local Conwayste Server (notebook)\" }] }\n",
      "17:29:52.386072 [TRACE] - [F<-T,R] Command Accepted\n",
      "17:29:52.386079 [TRACE] - [T<-UDP] Status { pong: PingPong { nonce: 12562299090417114564 }, server_version: \"1.2.34.56\", player_count: 8675309, room_count: 9001, server_name: \"Local Conwayste Server (notebook)\" }\n",
      "17:29:52.386093 [TRACE] - [F<-T,N] For Endpoint(127.0.0.1:62013), took packet Status { pong: PingPong { nonce: 12562299090417114564 }, server_version: \"1.2.34.56\", player_count: 8675309, room_count: 9001, server_name: \"Local Conwayste Server (notebook)\" }\n",
      "17:29:52.386102 [INFO ] - [F] Latency for remote server Endpoint(127.0.0.1:62013) is Some(0)\n",
      "17:29:52.405978 [TRACE] - [T<-UDP] Status { pong: PingPong { nonce: 16980943708581286528 }, server_version: \"0.3.5\", player_count: 0, room_count: 1, server_name: \"Official Conwayste\" }\n",
      "17:29:52.406017 [TRACE] - [F<-T,N] For Endpoint(157.230.134.224:2016), took packet Status { pong: PingPong { nonce: 16980943708581286528 }, server_version: \"0.3.5\", player_count: 0, room_count: 1, server_name: \"Official Conwayste\" }\n",
      "17:29:52.406029 [INFO ] - [F] Latency for remote server Endpoint(157.230.134.224:2016) is Some(10)\n",
      "17:29:52.585979 [INFO ] - [F] About to send pings to servers: [Endpoint(127.0.0.1:62013), Endpoint(157.230.134.224:2016)]\n",
      "17:29:52.586017 [TRACE] - [T<-F,C] Processing command SendPackets { endpoint: Endpoint(127.0.0.1:62013), packet_infos: [PacketSettings { tid: ProcessUniqueId { prefix: 1, offset: 44 }, retry_interval: 0ns }], packets: [GetStatus { ping: PingPong { nonce: 1149309591273013707 } }] }\n",
      "17:29:52.586068 [TRACE] - [T<-F,C] Processing command SendPackets { endpoint: Endpoint(157.230.134.224:2016), packet_infos: [PacketSettings { tid: ProcessUniqueId { prefix: 1, offset: 45 }, retry_interval: 0ns }], packets: [GetStatus { ping: PingPong { nonce: 17069678019095624421 } }] }\n",
      "17:29:52.586098 [TRACE] - [T<-UDP] GetStatus { ping: PingPong { nonce: 1149309591273013707 } }\n",
      "17:29:52.586125 [TRACE] - [F<-T,N] For Endpoint(127.0.0.1:54020), took packet GetStatus { ping: PingPong { nonce: 1149309591273013707 } }\n",
      "17:29:52.586135 [INFO ] - [F] Sending Status packet PingPong { nonce: 1149309591273013707 } back to client Endpoint(127.0.0.1:54020)\n",
      "17:29:52.586137 [TRACE] - [F<-T,R] Command Accepted\n",
      "17:29:52.586147 [TRACE] - [F<-T,R] Command Accepted\n",
      "17:29:52.586148 [TRACE] - [T<-F,C] Processing command SendPackets { endpoint: Endpoint(127.0.0.1:54020), packet_infos: [PacketSettings { tid: ProcessUniqueId { prefix: 0, offset: 30 }, retry_interval: 0ns }], packets: [Status { pong: PingPong { nonce: 1149309591273013707 }, server_version: \"1.2.34.56\", player_count: 8675309, room_count: 9001, server_name: \"Local Conwayste Server (notebook)\" }] }\n",
      "17:29:52.586190 [TRACE] - [F<-T,R] Command Accepted\n",
      "17:29:52.586198 [TRACE] - [T<-UDP] Status { pong: PingPong { nonce: 1149309591273013707 }, server_version: \"1.2.34.56\", player_count: 8675309, room_count: 9001, server_name: \"Local Conwayste Server (notebook)\" }\n",
      "17:29:52.586216 [TRACE] - [F<-T,N] For Endpoint(127.0.0.1:62013), took packet Status { pong: PingPong { nonce: 1149309591273013707 }, server_version: \"1.2.34.56\", player_count: 8675309, room_count: 9001, server_name: \"Local Conwayste Server (notebook)\" }\n",
      "17:29:52.586227 [INFO ] - [F] Latency for remote server Endpoint(127.0.0.1:62013) is Some(0)\n",
      "17:29:52.606885 [TRACE] - [T<-UDP] Status { pong: PingPong { nonce: 17069678019095624421 }, server_version: \"0.3.5\", player_count: 0, room_count: 1, server_name: \"Official Conwayste\" }\n",
      "17:29:52.606919 [TRACE] - [F<-T,N] For Endpoint(157.230.134.224:2016), took packet Status { pong: PingPong { nonce: 17069678019095624421 }, server_version: \"0.3.5\", player_count: 0, room_count: 1, server_name: \"Official Conwayste\" }\n",
      "17:29:52.606927 [INFO ] - [F] Latency for remote server Endpoint(157.230.134.224:2016) is Some(10)\n",
      "17:29:52.785890 [INFO ] - [F] About to send pings to servers: [Endpoint(127.0.0.1:62013), Endpoint(157.230.134.224:2016)]\n",
      "17:29:52.785944 [TRACE] - [T<-F,C] Processing command SendPackets { endpoint: Endpoint(127.0.0.1:62013), packet_infos: [PacketSettings { tid: ProcessUniqueId { prefix: 0, offset: 31 }, retry_interval: 0ns }], packets: [GetStatus { ping: PingPong { nonce: 18130119242806233076 } }] }\n",
      "17:29:52.786022 [TRACE] - [T<-F,C] Processing command SendPackets { endpoint: Endpoint(157.230.134.224:2016), packet_infos: [PacketSettings { tid: ProcessUniqueId { prefix: 0, offset: 32 }, retry_interval: 0ns }], packets: [GetStatus { ping: PingPong { nonce: 5659681058337194041 } }] }\n",
      "17:29:52.786067 [TRACE] - [T<-UDP] GetStatus { ping: PingPong { nonce: 18130119242806233076 } }\n",
      "17:29:52.786095 [TRACE] - [F<-T,R] Command Accepted\n",
      "17:29:52.786106 [TRACE] - [F<-T,R] Command Accepted\n",
      "17:29:52.786102 [TRACE] - [F<-T,N] For Endpoint(127.0.0.1:54020), took packet GetStatus { ping: PingPong { nonce: 18130119242806233076 } }\n",
      "17:29:52.786119 [INFO ] - [F] Sending Status packet PingPong { nonce: 18130119242806233076 } back to client Endpoint(127.0.0.1:54020)\n",
      "17:29:52.786139 [TRACE] - [T<-F,C] Processing command SendPackets { endpoint: Endpoint(127.0.0.1:54020), packet_infos: [PacketSettings { tid: ProcessUniqueId { prefix: 1, offset: 46 }, retry_interval: 0ns }], packets: [Status { pong: PingPong { nonce: 18130119242806233076 }, server_version: \"1.2.34.56\", player_count: 8675309, room_count: 9001, server_name: \"Local Conwayste Server (notebook)\" }] }\n",
      "17:29:52.786200 [TRACE] - [F<-T,R] Command Accepted\n",
      "17:29:52.786216 [TRACE] - [T<-UDP] Status { pong: PingPong { nonce: 18130119242806233076 }, server_version: \"1.2.34.56\", player_count: 8675309, room_count: 9001, server_name: \"Local Conwayste Server (notebook)\" }\n",
      "17:29:52.786244 [TRACE] - [F<-T,N] For Endpoint(127.0.0.1:62013), took packet Status { pong: PingPong { nonce: 18130119242806233076 }, server_version: \"1.2.34.56\", player_count: 8675309, room_count: 9001, server_name: \"Local Conwayste Server (notebook)\" }\n",
      "17:29:52.786260 [INFO ] - [F] Latency for remote server Endpoint(127.0.0.1:62013) is Some(0)\n"
     ]
    },
    {
     "name": "stdout",
     "output_type": "stream",
     "text": [
      "17:29:52.806839 [TRACE] - [T<-UDP] Status { pong: PingPong { nonce: 5659681058337194041 }, server_version: \"0.3.5\", player_count: 0, room_count: 1, server_name: \"Official Conwayste\" }\n",
      "17:29:52.806872 [TRACE] - [F<-T,N] For Endpoint(157.230.134.224:2016), took packet Status { pong: PingPong { nonce: 5659681058337194041 }, server_version: \"0.3.5\", player_count: 0, room_count: 1, server_name: \"Official Conwayste\" }\n",
      "17:29:52.806880 [INFO ] - [F] Latency for remote server Endpoint(157.230.134.224:2016) is Some(10)\n",
      "17:29:52.986553 [INFO ] - [F] About to send pings to servers: [Endpoint(127.0.0.1:62013), Endpoint(157.230.134.224:2016)]\n",
      "17:29:52.986594 [TRACE] - [T<-F,C] Processing command SendPackets { endpoint: Endpoint(127.0.0.1:62013), packet_infos: [PacketSettings { tid: ProcessUniqueId { prefix: 0, offset: 33 }, retry_interval: 0ns }], packets: [GetStatus { ping: PingPong { nonce: 11724540801902826207 } }] }\n",
      "17:29:52.986640 [TRACE] - [T<-F,C] Processing command SendPackets { endpoint: Endpoint(157.230.134.224:2016), packet_infos: [PacketSettings { tid: ProcessUniqueId { prefix: 0, offset: 34 }, retry_interval: 0ns }], packets: [GetStatus { ping: PingPong { nonce: 2543022320120854864 } }] }\n",
      "17:29:52.986647 [TRACE] - [T<-UDP] GetStatus { ping: PingPong { nonce: 11724540801902826207 } }\n",
      "17:29:52.986663 [TRACE] - [F<-T,N] For Endpoint(127.0.0.1:54020), took packet GetStatus { ping: PingPong { nonce: 11724540801902826207 } }\n",
      "17:29:52.986673 [INFO ] - [F] Sending Status packet PingPong { nonce: 11724540801902826207 } back to client Endpoint(127.0.0.1:54020)\n",
      "17:29:52.986686 [TRACE] - [F<-T,R] Command Accepted\n",
      "17:29:52.986691 [TRACE] - [F<-T,R] Command Accepted\n",
      "17:29:52.986684 [TRACE] - [T<-F,C] Processing command SendPackets { endpoint: Endpoint(127.0.0.1:54020), packet_infos: [PacketSettings { tid: ProcessUniqueId { prefix: 1, offset: 47 }, retry_interval: 0ns }], packets: [Status { pong: PingPong { nonce: 11724540801902826207 }, server_version: \"1.2.34.56\", player_count: 8675309, room_count: 9001, server_name: \"Local Conwayste Server (notebook)\" }] }\n",
      "17:29:52.986722 [TRACE] - [F<-T,R] Command Accepted\n",
      "17:29:52.986754 [TRACE] - [T<-UDP] Status { pong: PingPong { nonce: 11724540801902826207 }, server_version: \"1.2.34.56\", player_count: 8675309, room_count: 9001, server_name: \"Local Conwayste Server (notebook)\" }\n",
      "17:29:52.986769 [TRACE] - [F<-T,N] For Endpoint(127.0.0.1:62013), took packet Status { pong: PingPong { nonce: 11724540801902826207 }, server_version: \"1.2.34.56\", player_count: 8675309, room_count: 9001, server_name: \"Local Conwayste Server (notebook)\" }\n",
      "17:29:52.986780 [INFO ] - [F] Latency for remote server Endpoint(127.0.0.1:62013) is Some(0)\n",
      "17:29:53.007106 [TRACE] - [T<-UDP] Status { pong: PingPong { nonce: 2543022320120854864 }, server_version: \"0.3.5\", player_count: 0, room_count: 1, server_name: \"Official Conwayste\" }\n",
      "17:29:53.007164 [TRACE] - [F<-T,N] For Endpoint(157.230.134.224:2016), took packet Status { pong: PingPong { nonce: 2543022320120854864 }, server_version: \"0.3.5\", player_count: 0, room_count: 1, server_name: \"Official Conwayste\" }\n",
      "17:29:53.007194 [INFO ] - [F] Latency for remote server Endpoint(157.230.134.224:2016) is Some(10)\n",
      "17:29:53.186132 [INFO ] - [F] About to send pings to servers: [Endpoint(127.0.0.1:62013), Endpoint(157.230.134.224:2016)]\n",
      "17:29:53.186182 [TRACE] - [T<-F,C] Processing command SendPackets { endpoint: Endpoint(127.0.0.1:62013), packet_infos: [PacketSettings { tid: ProcessUniqueId { prefix: 0, offset: 35 }, retry_interval: 0ns }], packets: [GetStatus { ping: PingPong { nonce: 18428752791912578745 } }] }\n",
      "17:29:53.186273 [TRACE] - [T<-F,C] Processing command SendPackets { endpoint: Endpoint(157.230.134.224:2016), packet_infos: [PacketSettings { tid: ProcessUniqueId { prefix: 0, offset: 36 }, retry_interval: 0ns }], packets: [GetStatus { ping: PingPong { nonce: 3403793482398675719 } }] }\n",
      "17:29:53.186292 [TRACE] - [T<-UDP] GetStatus { ping: PingPong { nonce: 18428752791912578745 } }\n",
      "17:29:53.186331 [TRACE] - [F<-T,N] For Endpoint(127.0.0.1:54020), took packet GetStatus { ping: PingPong { nonce: 18428752791912578745 } }\n",
      "17:29:53.186343 [TRACE] - [F<-T,R] Command Accepted\n",
      "17:29:53.186348 [TRACE] - [F<-T,R] Command Accepted\n",
      "17:29:53.186346 [INFO ] - [F] Sending Status packet PingPong { nonce: 18428752791912578745 } back to client Endpoint(127.0.0.1:54020)\n",
      "17:29:53.186359 [TRACE] - [T<-F,C] Processing command SendPackets { endpoint: Endpoint(127.0.0.1:54020), packet_infos: [PacketSettings { tid: ProcessUniqueId { prefix: 2, offset: 25 }, retry_interval: 0ns }], packets: [Status { pong: PingPong { nonce: 18428752791912578745 }, server_version: \"1.2.34.56\", player_count: 8675309, room_count: 9001, server_name: \"Local Conwayste Server (notebook)\" }] }\n",
      "17:29:53.186427 [TRACE] - [F<-T,R] Command Accepted\n",
      "17:29:53.186443 [TRACE] - [T<-UDP] Status { pong: PingPong { nonce: 18428752791912578745 }, server_version: \"1.2.34.56\", player_count: 8675309, room_count: 9001, server_name: \"Local Conwayste Server (notebook)\" }\n",
      "17:29:53.186471 [TRACE] - [F<-T,N] For Endpoint(127.0.0.1:62013), took packet Status { pong: PingPong { nonce: 18428752791912578745 }, server_version: \"1.2.34.56\", player_count: 8675309, room_count: 9001, server_name: \"Local Conwayste Server (notebook)\" }\n",
      "17:29:53.186489 [INFO ] - [F] Latency for remote server Endpoint(127.0.0.1:62013) is Some(0)\n",
      "17:29:53.207194 [TRACE] - [T<-UDP] Status { pong: PingPong { nonce: 3403793482398675719 }, server_version: \"0.3.5\", player_count: 0, room_count: 1, server_name: \"Official Conwayste\" }\n",
      "17:29:53.207226 [TRACE] - [F<-T,N] For Endpoint(157.230.134.224:2016), took packet Status { pong: PingPong { nonce: 3403793482398675719 }, server_version: \"0.3.5\", player_count: 0, room_count: 1, server_name: \"Official Conwayste\" }\n",
      "17:29:53.207234 [INFO ] - [F] Latency for remote server Endpoint(157.230.134.224:2016) is Some(10)\n",
      "17:29:53.386523 [INFO ] - [F] About to send pings to servers: [Endpoint(127.0.0.1:62013), Endpoint(157.230.134.224:2016)]\n",
      "17:29:53.386600 [TRACE] - [T<-F,C] Processing command SendPackets { endpoint: Endpoint(127.0.0.1:62013), packet_infos: [PacketSettings { tid: ProcessUniqueId { prefix: 0, offset: 37 }, retry_interval: 0ns }], packets: [GetStatus { ping: PingPong { nonce: 16068168191761749495 } }] }\n",
      "17:29:53.386734 [TRACE] - [T<-F,C] Processing command SendPackets { endpoint: Endpoint(157.230.134.224:2016), packet_infos: [PacketSettings { tid: ProcessUniqueId { prefix: 0, offset: 38 }, retry_interval: 0ns }], packets: [GetStatus { ping: PingPong { nonce: 13470949155784924527 } }] }\n",
      "17:29:53.386787 [TRACE] - [T<-UDP] GetStatus { ping: PingPong { nonce: 16068168191761749495 } }\n",
      "17:29:53.386829 [TRACE] - [F<-T,N] For Endpoint(127.0.0.1:54020), took packet GetStatus { ping: PingPong { nonce: 16068168191761749495 } }\n",
      "17:29:53.386847 [INFO ] - [F] Sending Status packet PingPong { nonce: 16068168191761749495 } back to client Endpoint(127.0.0.1:54020)\n",
      "17:29:53.386852 [TRACE] - [F<-T,R] Command Accepted\n",
      "17:29:53.386863 [TRACE] - [F<-T,R] Command Accepted\n",
      "17:29:53.386865 [TRACE] - [T<-F,C] Processing command SendPackets { endpoint: Endpoint(127.0.0.1:54020), packet_infos: [PacketSettings { tid: ProcessUniqueId { prefix: 2, offset: 26 }, retry_interval: 0ns }], packets: [Status { pong: PingPong { nonce: 16068168191761749495 }, server_version: \"1.2.34.56\", player_count: 8675309, room_count: 9001, server_name: \"Local Conwayste Server (notebook)\" }] }\n",
      "17:29:53.386950 [TRACE] - [F<-T,R] Command Accepted\n",
      "17:29:53.386963 [TRACE] - [T<-UDP] Status { pong: PingPong { nonce: 16068168191761749495 }, server_version: \"1.2.34.56\", player_count: 8675309, room_count: 9001, server_name: \"Local Conwayste Server (notebook)\" }\n",
      "17:29:53.387032 [TRACE] - [F<-T,N] For Endpoint(127.0.0.1:62013), took packet Status { pong: PingPong { nonce: 16068168191761749495 }, server_version: \"1.2.34.56\", player_count: 8675309, room_count: 9001, server_name: \"Local Conwayste Server (notebook)\" }\n",
      "17:29:53.387053 [INFO ] - [F] Latency for remote server Endpoint(127.0.0.1:62013) is Some(0)\n",
      "17:29:53.407610 [TRACE] - [T<-UDP] Status { pong: PingPong { nonce: 13470949155784924527 }, server_version: \"0.3.5\", player_count: 0, room_count: 1, server_name: \"Official Conwayste\" }\n",
      "17:29:53.407655 [TRACE] - [F<-T,N] For Endpoint(157.230.134.224:2016), took packet Status { pong: PingPong { nonce: 13470949155784924527 }, server_version: \"0.3.5\", player_count: 0, room_count: 1, server_name: \"Official Conwayste\" }\n",
      "17:29:53.407663 [INFO ] - [F] Latency for remote server Endpoint(157.230.134.224:2016) is Some(10)\n",
      "17:29:53.586455 [INFO ] - [F] About to send pings to servers: [Endpoint(127.0.0.1:62013), Endpoint(157.230.134.224:2016)]\n",
      "17:29:53.586489 [TRACE] - [T<-F,C] Processing command SendPackets { endpoint: Endpoint(127.0.0.1:62013), packet_infos: [PacketSettings { tid: ProcessUniqueId { prefix: 2, offset: 27 }, retry_interval: 0ns }], packets: [GetStatus { ping: PingPong { nonce: 10388301054753166557 } }] }\n",
      "17:29:53.586536 [TRACE] - [T<-F,C] Processing command SendPackets { endpoint: Endpoint(157.230.134.224:2016), packet_infos: [PacketSettings { tid: ProcessUniqueId { prefix: 2, offset: 28 }, retry_interval: 0ns }], packets: [GetStatus { ping: PingPong { nonce: 10113880061806790465 } }] }\n",
      "17:29:53.586548 [TRACE] - [T<-UDP] GetStatus { ping: PingPong { nonce: 10388301054753166557 } }\n",
      "17:29:53.586566 [TRACE] - [F<-T,N] For Endpoint(127.0.0.1:54020), took packet GetStatus { ping: PingPong { nonce: 10388301054753166557 } }\n",
      "17:29:53.586580 [TRACE] - [F<-T,R] Command Accepted\n",
      "17:29:53.586579 [INFO ] - [F] Sending Status packet PingPong { nonce: 10388301054753166557 } back to client Endpoint(127.0.0.1:54020)\n",
      "17:29:53.586585 [TRACE] - [F<-T,R] Command Accepted\n",
      "17:29:53.586591 [TRACE] - [T<-F,C] Processing command SendPackets { endpoint: Endpoint(127.0.0.1:54020), packet_infos: [PacketSettings { tid: ProcessUniqueId { prefix: 0, offset: 39 }, retry_interval: 0ns }], packets: [Status { pong: PingPong { nonce: 10388301054753166557 }, server_version: \"1.2.34.56\", player_count: 8675309, room_count: 9001, server_name: \"Local Conwayste Server (notebook)\" }] }\n",
      "17:29:53.586625 [TRACE] - [F<-T,R] Command Accepted\n",
      "17:29:53.586631 [TRACE] - [T<-UDP] Status { pong: PingPong { nonce: 10388301054753166557 }, server_version: \"1.2.34.56\", player_count: 8675309, room_count: 9001, server_name: \"Local Conwayste Server (notebook)\" }\n",
      "17:29:53.586646 [TRACE] - [F<-T,N] For Endpoint(127.0.0.1:62013), took packet Status { pong: PingPong { nonce: 10388301054753166557 }, server_version: \"1.2.34.56\", player_count: 8675309, room_count: 9001, server_name: \"Local Conwayste Server (notebook)\" }\n",
      "17:29:53.586657 [INFO ] - [F] Latency for remote server Endpoint(127.0.0.1:62013) is Some(0)\n"
     ]
    },
    {
     "name": "stdout",
     "output_type": "stream",
     "text": [
      "17:29:53.607644 [TRACE] - [T<-UDP] Status { pong: PingPong { nonce: 10113880061806790465 }, server_version: \"0.3.5\", player_count: 0, room_count: 1, server_name: \"Official Conwayste\" }\n",
      "17:29:53.607677 [TRACE] - [F<-T,N] For Endpoint(157.230.134.224:2016), took packet Status { pong: PingPong { nonce: 10113880061806790465 }, server_version: \"0.3.5\", player_count: 0, room_count: 1, server_name: \"Official Conwayste\" }\n",
      "17:29:53.607686 [INFO ] - [F] Latency for remote server Endpoint(157.230.134.224:2016) is Some(10)\n",
      "17:29:53.786308 [INFO ] - [F] About to send pings to servers: [Endpoint(127.0.0.1:62013), Endpoint(157.230.134.224:2016)]\n",
      "17:29:53.786394 [TRACE] - [T<-F,C] Processing command SendPackets { endpoint: Endpoint(127.0.0.1:62013), packet_infos: [PacketSettings { tid: ProcessUniqueId { prefix: 0, offset: 40 }, retry_interval: 0ns }], packets: [GetStatus { ping: PingPong { nonce: 202675261113819557 } }] }\n",
      "17:29:53.786540 [TRACE] - [T<-F,C] Processing command SendPackets { endpoint: Endpoint(157.230.134.224:2016), packet_infos: [PacketSettings { tid: ProcessUniqueId { prefix: 0, offset: 41 }, retry_interval: 0ns }], packets: [GetStatus { ping: PingPong { nonce: 11667186821270804628 } }] }\n",
      "17:29:53.786615 [TRACE] - [T<-UDP] GetStatus { ping: PingPong { nonce: 202675261113819557 } }\n",
      "17:29:53.786661 [TRACE] - [F<-T,R] Command Accepted\n",
      "17:29:53.786686 [TRACE] - [F<-T,R] Command Accepted\n",
      "17:29:53.786699 [TRACE] - [F<-T,N] For Endpoint(127.0.0.1:54020), took packet GetStatus { ping: PingPong { nonce: 202675261113819557 } }\n",
      "17:29:53.786730 [INFO ] - [F] Sending Status packet PingPong { nonce: 202675261113819557 } back to client Endpoint(127.0.0.1:54020)\n",
      "17:29:53.786768 [TRACE] - [T<-F,C] Processing command SendPackets { endpoint: Endpoint(127.0.0.1:54020), packet_infos: [PacketSettings { tid: ProcessUniqueId { prefix: 2, offset: 29 }, retry_interval: 0ns }], packets: [Status { pong: PingPong { nonce: 202675261113819557 }, server_version: \"1.2.34.56\", player_count: 8675309, room_count: 9001, server_name: \"Local Conwayste Server (notebook)\" }] }\n",
      "17:29:53.786895 [TRACE] - [F<-T,R] Command Accepted\n",
      "17:29:53.786959 [TRACE] - [T<-UDP] Status { pong: PingPong { nonce: 202675261113819557 }, server_version: \"1.2.34.56\", player_count: 8675309, room_count: 9001, server_name: \"Local Conwayste Server (notebook)\" }\n",
      "17:29:53.787062 [TRACE] - [F<-T,N] For Endpoint(127.0.0.1:62013), took packet Status { pong: PingPong { nonce: 202675261113819557 }, server_version: \"1.2.34.56\", player_count: 8675309, room_count: 9001, server_name: \"Local Conwayste Server (notebook)\" }\n",
      "17:29:53.787091 [INFO ] - [F] Latency for remote server Endpoint(127.0.0.1:62013) is Some(0)\n",
      "17:29:53.806861 [TRACE] - [T<-UDP] Status { pong: PingPong { nonce: 11667186821270804628 }, server_version: \"0.3.5\", player_count: 0, room_count: 1, server_name: \"Official Conwayste\" }\n",
      "17:29:53.806893 [TRACE] - [F<-T,N] For Endpoint(157.230.134.224:2016), took packet Status { pong: PingPong { nonce: 11667186821270804628 }, server_version: \"0.3.5\", player_count: 0, room_count: 1, server_name: \"Official Conwayste\" }\n",
      "17:29:53.806903 [INFO ] - [F] Latency for remote server Endpoint(157.230.134.224:2016) is Some(10)\n",
      "17:29:53.986024 [INFO ] - [F] About to send pings to servers: [Endpoint(127.0.0.1:62013), Endpoint(157.230.134.224:2016)]\n",
      "17:29:53.986132 [TRACE] - [T<-F,C] Processing command SendPackets { endpoint: Endpoint(127.0.0.1:62013), packet_infos: [PacketSettings { tid: ProcessUniqueId { prefix: 2, offset: 30 }, retry_interval: 0ns }], packets: [GetStatus { ping: PingPong { nonce: 7862088633559385496 } }] }\n",
      "17:29:53.986259 [TRACE] - [T<-F,C] Processing command SendPackets { endpoint: Endpoint(157.230.134.224:2016), packet_infos: [PacketSettings { tid: ProcessUniqueId { prefix: 2, offset: 31 }, retry_interval: 0ns }], packets: [GetStatus { ping: PingPong { nonce: 3296833362874375709 } }] }\n",
      "17:29:53.986313 [TRACE] - [T<-UDP] GetStatus { ping: PingPong { nonce: 7862088633559385496 } }\n",
      "17:29:53.986378 [TRACE] - [F<-T,R] Command Accepted\n",
      "17:29:53.986401 [TRACE] - [F<-T,R] Command Accepted\n",
      "17:29:53.986391 [TRACE] - [F<-T,N] For Endpoint(127.0.0.1:54020), took packet GetStatus { ping: PingPong { nonce: 7862088633559385496 } }\n",
      "17:29:53.986425 [INFO ] - [F] Sending Status packet PingPong { nonce: 7862088633559385496 } back to client Endpoint(127.0.0.1:54020)\n",
      "17:29:53.986463 [TRACE] - [T<-F,C] Processing command SendPackets { endpoint: Endpoint(127.0.0.1:54020), packet_infos: [PacketSettings { tid: ProcessUniqueId { prefix: 0, offset: 42 }, retry_interval: 0ns }], packets: [Status { pong: PingPong { nonce: 7862088633559385496 }, server_version: \"1.2.34.56\", player_count: 8675309, room_count: 9001, server_name: \"Local Conwayste Server (notebook)\" }] }\n",
      "17:29:53.986606 [TRACE] - [F<-T,R] Command Accepted\n",
      "17:29:53.987258 [TRACE] - [T<-UDP] Status { pong: PingPong { nonce: 7862088633559385496 }, server_version: \"1.2.34.56\", player_count: 8675309, room_count: 9001, server_name: \"Local Conwayste Server (notebook)\" }\n",
      "17:29:53.987291 [TRACE] - [F<-T,N] For Endpoint(127.0.0.1:62013), took packet Status { pong: PingPong { nonce: 7862088633559385496 }, server_version: \"1.2.34.56\", player_count: 8675309, room_count: 9001, server_name: \"Local Conwayste Server (notebook)\" }\n",
      "17:29:53.987304 [INFO ] - [F] Latency for remote server Endpoint(127.0.0.1:62013) is Some(0)\n",
      "17:29:54.007157 [TRACE] - [T<-UDP] Status { pong: PingPong { nonce: 3296833362874375709 }, server_version: \"0.3.5\", player_count: 0, room_count: 1, server_name: \"Official Conwayste\" }\n",
      "17:29:54.007320 [TRACE] - [F<-T,N] For Endpoint(157.230.134.224:2016), took packet Status { pong: PingPong { nonce: 3296833362874375709 }, server_version: \"0.3.5\", player_count: 0, room_count: 1, server_name: \"Official Conwayste\" }\n",
      "17:29:54.007377 [INFO ] - [F] Latency for remote server Endpoint(157.230.134.224:2016) is Some(10)\n"
     ]
    }
   ],
   "source": [
    "time.sleep(3.0)"
   ]
  },
  {
   "cell_type": "markdown",
   "id": "8868901f",
   "metadata": {},
   "source": [
    "### Clear ping endpoints"
   ]
  },
  {
   "cell_type": "code",
   "execution_count": 13,
   "id": "14369ed8",
   "metadata": {
    "scrolled": true
   },
   "outputs": [
    {
     "name": "stdout",
     "output_type": "stream",
     "text": [
      "17:29:54.104102 [TRACE] - [F<-A,C] New command: ClearPingEndpoints\n",
      "17:29:54.104123 [INFO ] - [F<-A,C] clearing ping endpoints: [Endpoint(127.0.0.1:62013), Endpoint(157.230.134.224:2016)]\n",
      "17:29:54.104179 [TRACE] - [T<-F,C] Processing command DropEndpoint { endpoint: Endpoint(127.0.0.1:62013) }\n",
      "17:29:54.104191 [TRACE] - [T<-F,C] Processing command DropEndpoint { endpoint: Endpoint(157.230.134.224:2016) }\n",
      "17:29:54.104200 [TRACE] - [F<-T,R] Command Accepted\n",
      "17:29:54.104205 [TRACE] - [F<-T,R] Command Accepted\n"
     ]
    },
    {
     "data": {
      "text/plain": [
       "Accepted"
      ]
     },
     "execution_count": 13,
     "metadata": {},
     "output_type": "execute_result"
    }
   ],
   "source": [
    "await client_fiface.command_response(FilterCmdW(\"clearpingendpoints\"))"
   ]
  },
  {
   "cell_type": "markdown",
   "id": "ed9711a5",
   "metadata": {},
   "source": [
    "### Get notifications from client and server\n",
    "\n",
    "Normally the App layer would be getting these continuously."
   ]
  },
  {
   "cell_type": "code",
   "execution_count": 14,
   "id": "412733dc",
   "metadata": {},
   "outputs": [
    {
     "data": {
      "text/plain": [
       "[]"
      ]
     },
     "execution_count": 14,
     "metadata": {},
     "output_type": "execute_result"
    }
   ],
   "source": [
    "server_notifications = server_fiface.get_notifications()\n",
    "server_notifications"
   ]
  },
  {
   "cell_type": "code",
   "execution_count": 15,
   "id": "8430cea1",
   "metadata": {},
   "outputs": [
    {
     "data": {
      "text/plain": [
       "82"
      ]
     },
     "execution_count": 15,
     "metadata": {},
     "output_type": "execute_result"
    }
   ],
   "source": [
    "client_notifications = client_fiface.get_notifications()\n",
    "len(client_notifications)"
   ]
  },
  {
   "cell_type": "code",
   "execution_count": 16,
   "id": "abb0c81c",
   "metadata": {},
   "outputs": [
    {
     "data": {
      "text/plain": [
       "['PingResult',\n",
       " 'PingResult',\n",
       " 'PingResult',\n",
       " 'PingResult',\n",
       " 'PingResult',\n",
       " 'PingResult',\n",
       " 'PingResult',\n",
       " 'PingResult',\n",
       " 'PingResult',\n",
       " 'PingResult',\n",
       " 'PingResult',\n",
       " 'PingResult',\n",
       " 'PingResult',\n",
       " 'PingResult',\n",
       " 'PingResult',\n",
       " 'PingResult',\n",
       " 'PingResult',\n",
       " 'PingResult',\n",
       " 'PingResult',\n",
       " 'PingResult',\n",
       " 'PingResult',\n",
       " 'PingResult',\n",
       " 'PingResult',\n",
       " 'PingResult',\n",
       " 'PingResult',\n",
       " 'PingResult',\n",
       " 'PingResult',\n",
       " 'PingResult',\n",
       " 'PingResult',\n",
       " 'PingResult',\n",
       " 'PingResult',\n",
       " 'PingResult',\n",
       " 'PingResult',\n",
       " 'PingResult',\n",
       " 'PingResult',\n",
       " 'PingResult',\n",
       " 'PingResult',\n",
       " 'PingResult',\n",
       " 'PingResult',\n",
       " 'PingResult',\n",
       " 'PingResult',\n",
       " 'PingResult',\n",
       " 'PingResult',\n",
       " 'PingResult',\n",
       " 'PingResult',\n",
       " 'PingResult',\n",
       " 'PingResult',\n",
       " 'PingResult',\n",
       " 'PingResult',\n",
       " 'PingResult',\n",
       " 'PingResult',\n",
       " 'PingResult',\n",
       " 'PingResult',\n",
       " 'PingResult',\n",
       " 'PingResult',\n",
       " 'PingResult',\n",
       " 'PingResult',\n",
       " 'PingResult',\n",
       " 'PingResult',\n",
       " 'PingResult',\n",
       " 'PingResult',\n",
       " 'PingResult',\n",
       " 'PingResult',\n",
       " 'PingResult',\n",
       " 'PingResult',\n",
       " 'PingResult',\n",
       " 'PingResult',\n",
       " 'PingResult',\n",
       " 'PingResult',\n",
       " 'PingResult',\n",
       " 'PingResult',\n",
       " 'PingResult',\n",
       " 'PingResult',\n",
       " 'PingResult',\n",
       " 'PingResult',\n",
       " 'PingResult',\n",
       " 'PingResult',\n",
       " 'PingResult',\n",
       " 'PingResult',\n",
       " 'PingResult',\n",
       " 'PingResult',\n",
       " 'PingResult']"
      ]
     },
     "execution_count": 16,
     "metadata": {},
     "output_type": "execute_result"
    }
   ],
   "source": [
    "list(map(lambda n: n.variant, client_notifications))"
   ]
  },
  {
   "cell_type": "code",
   "execution_count": 17,
   "id": "f0334f39",
   "metadata": {},
   "outputs": [],
   "source": [
    "def server_info(notif):\n",
    "    assert notif.variant.lower() == 'pingresult'\n",
    "    return {'latency_ms':notif.latency, 'server_name': notif.server_name, 'room_count': notif.room_count, 'REPR': repr(notif)}"
   ]
  },
  {
   "cell_type": "code",
   "execution_count": 18,
   "id": "f7206feb",
   "metadata": {},
   "outputs": [
    {
     "data": {
      "text/plain": [
       "{'latency_ms': 10,\n",
       " 'server_name': 'Official Conwayste',\n",
       " 'room_count': 1,\n",
       " 'REPR': 'PingResult { endpoint: Endpoint(157.230.134.224:2016), latency: Some(10), server_name: \"Official Conwayste\", server_version: \"0.3.5\", room_count: 1, player_count: 0 }'}"
      ]
     },
     "execution_count": 18,
     "metadata": {},
     "output_type": "execute_result"
    }
   ],
   "source": [
    "server_info(client_notifications[-1])"
   ]
  },
  {
   "cell_type": "code",
   "execution_count": 19,
   "id": "b2c1514f",
   "metadata": {},
   "outputs": [
    {
     "name": "stdout",
     "output_type": "stream",
     "text": [
      "17:29:58.986920 [INFO ] - [F<-T,N] Endpoint(127.0.0.1:54020) timed-out. Dropping.\n",
      "17:29:58.987243 [TRACE] - [T<-F,C] Processing command DropEndpoint { endpoint: Endpoint(127.0.0.1:54020) }\n",
      "17:29:58.987362 [TRACE] - [F<-T,R] Command Accepted\n"
     ]
    },
    {
     "data": {
      "text/plain": [
       "{'latency_ms': 0,\n",
       " 'server_name': 'Local Conwayste Server (notebook)',\n",
       " 'room_count': 9001,\n",
       " 'REPR': 'PingResult { endpoint: Endpoint(127.0.0.1:62013), latency: Some(0), server_name: \"Local Conwayste Server (notebook)\", server_version: \"1.2.34.56\", room_count: 9001, player_count: 8675309 }'}"
      ]
     },
     "execution_count": 19,
     "metadata": {},
     "output_type": "execute_result"
    }
   ],
   "source": [
    "server_info(client_notifications[-2])"
   ]
  },
  {
   "cell_type": "markdown",
   "id": "518e33cd",
   "metadata": {},
   "source": [
    "Sleeping again...."
   ]
  },
  {
   "cell_type": "code",
   "execution_count": 20,
   "id": "7e747ddf",
   "metadata": {},
   "outputs": [
    {
     "data": {
      "text/plain": [
       "[]"
      ]
     },
     "execution_count": 20,
     "metadata": {},
     "output_type": "execute_result"
    }
   ],
   "source": [
    "client_notifications = client_fiface.get_notifications()\n",
    "client_notifications"
   ]
  },
  {
   "cell_type": "markdown",
   "id": "ab50b81d",
   "metadata": {},
   "source": [
    "### Now shutdown"
   ]
  },
  {
   "cell_type": "code",
   "execution_count": 21,
   "id": "ce1d2b49",
   "metadata": {},
   "outputs": [
    {
     "name": "stdout",
     "output_type": "stream",
     "text": [
      "17:30:28.048901 [TRACE] - [F<-A,C] New command: Shutdown { graceful: true }\n",
      "17:30:28.048969 [INFO ] - [F] shutting down\n"
     ]
    }
   ],
   "source": [
    "time.sleep(1)\n",
    "await client_fiface.command_response(FilterCmdW(\"shutdown\", graceful=True))"
   ]
  }
 ],
 "metadata": {
  "kernelspec": {
   "display_name": "Python 3 (ipykernel)",
   "language": "python",
   "name": "python3"
  },
  "language_info": {
   "codemirror_mode": {
    "name": "ipython",
    "version": 3
   },
   "file_extension": ".py",
   "mimetype": "text/x-python",
   "name": "python",
   "nbconvert_exporter": "python",
   "pygments_lexer": "ipython3",
   "version": "3.10.9"
  },
  "vscode": {
   "interpreter": {
    "hash": "916dbcbb3f70747c44a77c7bcd40155683ae19c65e1c03b4aa3499c5328201f1"
   }
  }
 },
 "nbformat": 4,
 "nbformat_minor": 5
}
