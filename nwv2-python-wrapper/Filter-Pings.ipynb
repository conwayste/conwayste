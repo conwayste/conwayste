{
 "cells": [
  {
   "cell_type": "markdown",
   "id": "aba2c68e",
   "metadata": {},
   "source": [
    "# Boilerplate"
   ]
  },
  {
   "cell_type": "code",
   "execution_count": 1,
   "id": "bf75903d",
   "metadata": {},
   "outputs": [],
   "source": [
    "import sys\n",
    "sys.path.insert(0, 'venv/lib/python3.10/site-packages')\n",
    "import asyncio\n",
    "import time\n",
    "import base64\n",
    "\n",
    "from nwv2_python_wrapper import *\n",
    "import nwv2_python_wrapper\n",
    "init_logging()"
   ]
  },
  {
   "cell_type": "markdown",
   "id": "4b39dc18",
   "metadata": {},
   "source": [
    "# Run"
   ]
  },
  {
   "cell_type": "markdown",
   "id": "a2c354f3",
   "metadata": {},
   "source": [
    "List all Python wrappers"
   ]
  },
  {
   "cell_type": "code",
   "execution_count": 2,
   "id": "37227bf5",
   "metadata": {},
   "outputs": [
    {
     "data": {
      "text/plain": [
       "['BroadcastChatMessageW',\n",
       " 'EndpointW',\n",
       " 'FilterCmdW',\n",
       " 'FilterInterface',\n",
       " 'FilterModeW',\n",
       " 'FilterNoticeW',\n",
       " 'FilterRspW',\n",
       " 'GameOptionsW',\n",
       " 'GameOutcomeW',\n",
       " 'GameUpdateW',\n",
       " 'GenPartInfoW',\n",
       " 'GenStateDiffPartW',\n",
       " 'GenStateDiffW',\n",
       " 'NetRegionW',\n",
       " 'PacketSettingsW',\n",
       " 'PacketW',\n",
       " 'PlayerInfoW',\n",
       " 'ProcessUniqueIdW',\n",
       " 'RequestActionW',\n",
       " 'ResponseCodeW',\n",
       " 'RoomListW',\n",
       " 'TransportCmdW',\n",
       " 'TransportInterface',\n",
       " 'TransportNoticeW',\n",
       " 'TransportRspW',\n",
       " 'UniUpdateW',\n",
       " 'debug_hello',\n",
       " 'init_logging',\n",
       " 'new_transport_interface']"
      ]
     },
     "execution_count": 2,
     "metadata": {},
     "output_type": "execute_result"
    }
   ],
   "source": [
    "[f for f in dir(nwv2_python_wrapper) if not f.startswith('__') and f != 'nwv2_python_wrapper']"
   ]
  },
  {
   "cell_type": "markdown",
   "id": "e28d4512",
   "metadata": {},
   "source": [
    "## Transport layer setup"
   ]
  },
  {
   "cell_type": "markdown",
   "id": "5d9622f6",
   "metadata": {},
   "source": [
    "Create a Client and Server Transport layer and run each in the background."
   ]
  },
  {
   "cell_type": "code",
   "execution_count": 3,
   "id": "495f6d91",
   "metadata": {},
   "outputs": [],
   "source": [
    "# Temporary workaround until the random port generated from `0` passed in can be obtained\n",
    "SERVER_PORT = 62013"
   ]
  },
  {
   "cell_type": "code",
   "execution_count": 4,
   "id": "38346200",
   "metadata": {},
   "outputs": [
    {
     "name": "stdout",
     "output_type": "stream",
     "text": [
      "Thu 2023-01-26 10:33:28.756129 [TRACE] - registering event source with poller: token=Token(0), interests=READABLE | WRITABLE\n",
      "Thu 2023-01-26 10:33:28.756696 [INFO ] - [T] Attempting to bind to 0.0.0.0:0\n",
      "Thu 2023-01-26 10:33:28.756736 [TRACE] - registering event source with poller: token=Token(1), interests=READABLE | WRITABLE\n",
      "Thu 2023-01-26 10:33:28.758984 [INFO ] - [T] Attempting to bind to 0.0.0.0:62013\n",
      "Thu 2023-01-26 10:33:28.781762 [TRACE] - registering event source with poller: token=Token(2), interests=READABLE | WRITABLE\n"
     ]
    },
    {
     "data": {
      "text/plain": [
       "<Future pending cb=[<builtins.PyDoneCallback object at 0x7f08f41be9d0>()]>"
      ]
     },
     "execution_count": 4,
     "metadata": {},
     "output_type": "execute_result"
    }
   ],
   "source": [
    "client_tiface_inner = await new_transport_interface(\"0.0.0.0\", 0)\n",
    "client_tiface_inner.run()\n",
    "\n",
    "server_tiface_inner = await new_transport_interface(\"0.0.0.0\", SERVER_PORT)\n",
    "server_tiface_inner.run()"
   ]
  },
  {
   "cell_type": "markdown",
   "id": "36a04bac",
   "metadata": {},
   "source": [
    "## Wrap the PYO3 Transport Interface in a Python class with the same methods"
   ]
  },
  {
   "cell_type": "markdown",
   "id": "9d109c58",
   "metadata": {},
   "source": [
    "Note that there is no `run()`. Hence, the passed in `TransportInterface` instance must have already had its `run()` method called."
   ]
  },
  {
   "cell_type": "code",
   "execution_count": 5,
   "id": "ab35c95a",
   "metadata": {},
   "outputs": [
    {
     "data": {
      "text/plain": [
       "{'c': <__main__.LoggingTransportInterface at 0x7f08f407a1a0>,\n",
       " 's': <__main__.LoggingTransportInterface at 0x7f08f407a110>}"
      ]
     },
     "execution_count": 5,
     "metadata": {},
     "output_type": "execute_result"
    }
   ],
   "source": [
    "# ANSI escape codes for colors\n",
    "CRESET    = '\\33[0m'\n",
    "CGREEN  = '\\33[32m'\n",
    "CYELLOW = '\\33[33m'\n",
    "CVIOLET = '\\33[35m'\n",
    "\n",
    "def cprint(tag, message):\n",
    "    if tag == \"client\":\n",
    "        color = CYELLOW\n",
    "    elif tag == \"server\":\n",
    "        color = CVIOLET\n",
    "    else:\n",
    "        color = CGREEN\n",
    "    print(f\"{color}{message}{CRESET}\")\n",
    "        \n",
    "\n",
    "class LoggingTransportInterface:\n",
    "    def __init__(self, inner, tag):\n",
    "        self.inner = inner\n",
    "        self.ctr = 0\n",
    "        self.skipped_count = None\n",
    "        self.tag = tag\n",
    "        \n",
    "    async def command_response(self, transport_cmd):\n",
    "        cprint(self.tag, f\"LTI({self.tag}){self.ctr}{self.skipped()}: received transport_cmd {transport_cmd}\")\n",
    "        self.ctr += 1\n",
    "        transport_rsp = await self.inner.command_response(transport_cmd)\n",
    "        cprint(self.tag, f\"LTI({self.tag}){self.ctr}: got transport_rsp back from Transport layer: {transport_rsp}\")\n",
    "        self.ctr += 1\n",
    "        return transport_rsp\n",
    "    \n",
    "    def get_notifications(self):\n",
    "        transport_notif_list = self.inner.get_notifications()\n",
    "        if self.skipped_count is None:\n",
    "            cprint(self.tag, f\"LTI({self.tag}){self.ctr}: got transport notifications: {transport_notif_list}\")\n",
    "            self.skipped_count = 0\n",
    "            if len(transport_notif_list) > 0:\n",
    "                self.reset()\n",
    "        else:\n",
    "            self.skipped_count += 1\n",
    "        self.ctr += 1\n",
    "        return transport_notif_list\n",
    "    \n",
    "    def skipped(self):\n",
    "        if self.skipped_count is None:\n",
    "            return \"\"\n",
    "        count = self.skipped_count\n",
    "        self.skipped_count = None\n",
    "        return f\" skipped {count}\"\n",
    "    \n",
    "    def reset(self):\n",
    "        self.skipped_count = None\n",
    "        \n",
    "client_tiface = LoggingTransportInterface(client_tiface_inner, \"client\")\n",
    "server_tiface = LoggingTransportInterface(server_tiface_inner, \"server\")\n",
    "{\"c\": client_tiface, \"s\": server_tiface}"
   ]
  },
  {
   "cell_type": "markdown",
   "id": "344a2a3f",
   "metadata": {},
   "source": [
    "# Filter layer setup"
   ]
  },
  {
   "cell_type": "code",
   "execution_count": 6,
   "id": "6fa2ab7b",
   "metadata": {},
   "outputs": [
    {
     "data": {
      "text/plain": [
       "{'c': <FilterInterface at 0x7f08f4067ba0>,\n",
       " 's': <FilterInterface at 0x7f08f40d8d50>}"
      ]
     },
     "execution_count": 6,
     "metadata": {},
     "output_type": "execute_result"
    }
   ],
   "source": [
    "client_fiface = FilterInterface(client_tiface, FilterModeW(\"client\"))\n",
    "server_fiface = FilterInterface(server_tiface, FilterModeW(\"server\"))\n",
    "\n",
    "{\"c\": client_fiface, \"s\": server_fiface}"
   ]
  },
  {
   "cell_type": "markdown",
   "id": "82345b04",
   "metadata": {},
   "source": [
    "Find methods to run"
   ]
  },
  {
   "cell_type": "code",
   "execution_count": 7,
   "id": "5e2d7d02",
   "metadata": {},
   "outputs": [
    {
     "data": {
      "text/plain": [
       "['command',\n",
       " 'command_response',\n",
       " 'get_notifications',\n",
       " 'notif_poll_ms',\n",
       " 'response',\n",
       " 'run']"
      ]
     },
     "execution_count": 7,
     "metadata": {},
     "output_type": "execute_result"
    }
   ],
   "source": [
    "[m for m in dir(client_fiface) if not m.startswith('__')]"
   ]
  },
  {
   "cell_type": "markdown",
   "id": "794804e3",
   "metadata": {},
   "source": [
    "Run Client and Server Filter!"
   ]
  },
  {
   "cell_type": "code",
   "execution_count": 8,
   "id": "5cda3921",
   "metadata": {},
   "outputs": [
    {
     "name": "stdout",
     "output_type": "stream",
     "text": [
      "\u001b[35mLTI(server)0: got transport notifications: []\u001b[0m\n",
      "\u001b[33mLTI(client)0: got transport notifications: []\u001b[0m\n"
     ]
    }
   ],
   "source": [
    "client_fiface_fut = client_fiface.run()\n",
    "server_fiface_fut = server_fiface.run()\n",
    "\n",
    "# After waiting a bit, the above future should not have completed\n",
    "time.sleep(0.1)\n",
    "assert not client_fiface_fut.done() and not server_fiface_fut.done()"
   ]
  },
  {
   "cell_type": "code",
   "execution_count": 9,
   "id": "598eed8b",
   "metadata": {},
   "outputs": [],
   "source": [
    "client_fiface.notif_poll_ms = 100\n"
   ]
  },
  {
   "cell_type": "markdown",
   "id": "f713c42a",
   "metadata": {},
   "source": [
    "## Filter layer operation for Pings"
   ]
  },
  {
   "cell_type": "markdown",
   "id": "17a3b5a9",
   "metadata": {},
   "source": [
    "### As a client, add server as ping endpoint"
   ]
  },
  {
   "cell_type": "code",
   "execution_count": 10,
   "id": "3b3a1776",
   "metadata": {},
   "outputs": [
    {
     "data": {
      "text/plain": [
       "AddPingEndpoints { endpoints: [Endpoint(127.0.0.1:62013)] }"
      ]
     },
     "execution_count": 10,
     "metadata": {},
     "output_type": "execute_result"
    }
   ],
   "source": [
    "server_ept = EndpointW(f\"127.0.0.1:{SERVER_PORT}\")\n",
    "\n",
    "filter_cmd = FilterCmdW(\"addpingendpoints\", endpoints=[server_ept])\n",
    "filter_cmd"
   ]
  },
  {
   "cell_type": "code",
   "execution_count": 11,
   "id": "7b4b5724",
   "metadata": {
    "scrolled": true
   },
   "outputs": [
    {
     "name": "stdout",
     "output_type": "stream",
     "text": [
      "Thu 2023-01-26 10:33:34.853690 [TRACE] - [F<-A,C] New command: AddPingEndpoints { endpoints: [Endpoint(127.0.0.1:62013)] }\n"
     ]
    },
    {
     "data": {
      "text/plain": [
       "Accepted"
      ]
     },
     "execution_count": 11,
     "metadata": {},
     "output_type": "execute_result"
    },
    {
     "name": "stdout",
     "output_type": "stream",
     "text": [
      "\u001b[33mLTI(client)57 skipped 56: received transport_cmd SendPackets { endpoint: Endpoint(127.0.0.1:62013), packet_infos: [PacketSettings { tid: ProcessUniqueId { prefix: 0, offset: 0 }, retry_interval: 0ns }], packets: [GetStatus { ping: PingPong { nonce: 16213713991968370759 } }] }\u001b[0m\n",
      "Thu 2023-01-26 10:33:36.305327 [TRACE] - [T<-F,C] Processing command SendPackets { endpoint: Endpoint(127.0.0.1:62013), packet_infos: [PacketSettings { tid: ProcessUniqueId { prefix: 0, offset: 0 }, retry_interval: 0ns }], packets: [GetStatus { ping: PingPong { nonce: 16213713991968370759 } }] }\n",
      "\u001b[33mLTI(client)58: got transport_rsp back from Transport layer: TransportRsp::Accepted\u001b[0m\n",
      "Thu 2023-01-26 10:33:36.305558 [TRACE] - [T<-UDP] GetStatus { ping: PingPong { nonce: 16213713991968370759 } }\n",
      "Thu 2023-01-26 10:33:36.306659 [TRACE] - [F<-T,R] Command Accepted\n",
      "Thu 2023-01-26 10:33:36.330596 [TRACE] - [F<-T,N] For Endpoint Endpoint(127.0.0.1:47344), Took packet GetStatus { ping: PingPong { nonce: 16213713991968370759 } }\n",
      "\u001b[33mLTI(client)59: got transport notifications: []\u001b[0m\n"
     ]
    }
   ],
   "source": [
    "await client_fiface.command_response(filter_cmd)"
   ]
  },
  {
   "cell_type": "markdown",
   "id": "697936a3",
   "metadata": {},
   "source": [
    "# XXX BELOW"
   ]
  },
  {
   "cell_type": "code",
   "execution_count": 12,
   "id": "508a922e",
   "metadata": {
    "scrolled": true
   },
   "outputs": [
    {
     "data": {
      "text/plain": [
       "[]"
      ]
     },
     "execution_count": 12,
     "metadata": {},
     "output_type": "execute_result"
    },
    {
     "name": "stdout",
     "output_type": "stream",
     "text": [
      "Thu 2023-01-26 10:33:38.825640 [WARN ] - [F] error sending KeepAlive during idle endpoint (Endpoint(127.0.0.1:62013)): Filter does not contain an entry for the endpoint: Endpoint(127.0.0.1:62013)\n",
      "Thu 2023-01-26 10:33:41.318611 [INFO ] - [F<-T,N] Endpoint Endpoint(127.0.0.1:47344) timed-out. Dropping.\n",
      "\u001b[35mLTI(server)290 skipped 289: received transport_cmd DropEndpoint { endpoint: Endpoint(127.0.0.1:47344) }\u001b[0m\n",
      "Thu 2023-01-26 10:33:41.320105 [TRACE] - [T<-F,C] Processing command DropEndpoint { endpoint: Endpoint(127.0.0.1:47344) }\n",
      "\u001b[35mLTI(server)291: got transport_rsp back from Transport layer: TransportRsp::Accepted\u001b[0m\n",
      "Thu 2023-01-26 10:33:41.320898 [TRACE] - [F<-T,R] Command Accepted\n",
      "\u001b[35mLTI(server)292: got transport notifications: []\u001b[0m\n"
     ]
    }
   ],
   "source": [
    "server_notifications = server_fiface.get_notifications()\n",
    "server_notifications"
   ]
  },
  {
   "cell_type": "code",
   "execution_count": null,
   "id": "14369ed8",
   "metadata": {},
   "outputs": [],
   "source": [
    "await server_fiface.command_response(FilterCmdW(\"sendresponsecode\", endpoint=client_endpoint, code=response_ok))"
   ]
  },
  {
   "cell_type": "code",
   "execution_count": null,
   "id": "22e24814",
   "metadata": {
    "scrolled": true
   },
   "outputs": [],
   "source": [
    "client_notifications = client_fiface.get_notifications()\n",
    "assert len(client_notifications) > 0\n",
    "new_response_code = client_notifications[0]\n",
    "new_response_code"
   ]
  },
  {
   "cell_type": "code",
   "execution_count": null,
   "id": "26b24dce",
   "metadata": {},
   "outputs": [],
   "source": [
    "new_response_code.response_code"
   ]
  },
  {
   "cell_type": "code",
   "execution_count": null,
   "id": "b249bbc9",
   "metadata": {},
   "outputs": [],
   "source": [
    "cookie_from_server = new_response_code.response_code.cookie\n",
    "assert str(cookie_from_server) == str(cookie)"
   ]
  }
 ],
 "metadata": {
  "kernelspec": {
   "display_name": "Python 3 (ipykernel)",
   "language": "python",
   "name": "python3"
  },
  "language_info": {
   "codemirror_mode": {
    "name": "ipython",
    "version": 3
   },
   "file_extension": ".py",
   "mimetype": "text/x-python",
   "name": "python",
   "nbconvert_exporter": "python",
   "pygments_lexer": "ipython3",
   "version": "3.10.8"
  },
  "vscode": {
   "interpreter": {
    "hash": "916dbcbb3f70747c44a77c7bcd40155683ae19c65e1c03b4aa3499c5328201f1"
   }
  }
 },
 "nbformat": 4,
 "nbformat_minor": 5
}
