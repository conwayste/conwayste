{
 "cells": [
  {
   "cell_type": "markdown",
   "id": "aba2c68e",
   "metadata": {},
   "source": [
    "# Boilerplate"
   ]
  },
  {
   "cell_type": "code",
   "execution_count": 1,
   "id": "bf75903d",
   "metadata": {},
   "outputs": [],
   "source": [
    "import sys\n",
    "sys.path.insert(0, 'venv/lib/python3.10/site-packages')\n",
    "import asyncio\n",
    "import time\n",
    "import base64\n",
    "\n",
    "from nwv2_python_wrapper import *\n",
    "import nwv2_python_wrapper\n",
    "init_logging()"
   ]
  },
  {
   "cell_type": "markdown",
   "id": "4b39dc18",
   "metadata": {},
   "source": [
    "# Run"
   ]
  },
  {
   "cell_type": "markdown",
   "id": "a2c354f3",
   "metadata": {},
   "source": [
    "List all Python wrappers"
   ]
  },
  {
   "cell_type": "code",
   "execution_count": 2,
   "id": "37227bf5",
   "metadata": {},
   "outputs": [
    {
     "data": {
      "text/plain": [
       "['BroadcastChatMessageW',\n",
       " 'EndpointW',\n",
       " 'FilterCmdW',\n",
       " 'FilterInterface',\n",
       " 'FilterModeW',\n",
       " 'FilterNoticeW',\n",
       " 'FilterRspW',\n",
       " 'GameOptionsW',\n",
       " 'GameOutcomeW',\n",
       " 'GameUpdateW',\n",
       " 'GenPartInfoW',\n",
       " 'GenStateDiffPartW',\n",
       " 'GenStateDiffW',\n",
       " 'NetRegionW',\n",
       " 'PacketSettingsW',\n",
       " 'PacketW',\n",
       " 'PlayerInfoW',\n",
       " 'ProcessUniqueIdW',\n",
       " 'RequestActionW',\n",
       " 'ResponseCodeW',\n",
       " 'RoomListW',\n",
       " 'TransportCmdW',\n",
       " 'TransportInterface',\n",
       " 'TransportNoticeW',\n",
       " 'TransportRspW',\n",
       " 'UniUpdateW',\n",
       " 'debug_hello',\n",
       " 'init_logging',\n",
       " 'new_transport_interface']"
      ]
     },
     "execution_count": 2,
     "metadata": {},
     "output_type": "execute_result"
    }
   ],
   "source": [
    "[f for f in dir(nwv2_python_wrapper) if not f.startswith('__') and f != 'nwv2_python_wrapper']"
   ]
  },
  {
   "cell_type": "markdown",
   "id": "e28d4512",
   "metadata": {},
   "source": [
    "## Transport layer setup"
   ]
  },
  {
   "cell_type": "markdown",
   "id": "5d9622f6",
   "metadata": {},
   "source": [
    "Create a Client and Server Transport layer and run each in the background."
   ]
  },
  {
   "cell_type": "code",
   "execution_count": 3,
   "id": "495f6d91",
   "metadata": {},
   "outputs": [],
   "source": [
    "# Temporary workaround until the random port generated from `0` passed in can be obtained\n",
    "SERVER_PORT = 62013"
   ]
  },
  {
   "cell_type": "code",
   "execution_count": 4,
   "id": "38346200",
   "metadata": {},
   "outputs": [
    {
     "name": "stdout",
     "output_type": "stream",
     "text": [
      "15:38:18.177470 [TRACE] - registering event source with poller: token=Token(0), interests=READABLE | WRITABLE\n",
      "15:38:18.178259 [INFO ] - [T] Attempting to bind to 0.0.0.0:0\n",
      "15:38:18.178276 [TRACE] - registering event source with poller: token=Token(1), interests=READABLE | WRITABLE\n",
      "15:38:18.178896 [INFO ] - [T] Attempting to bind to 0.0.0.0:62013\n",
      "15:38:18.178904 [TRACE] - registering event source with poller: token=Token(2), interests=READABLE | WRITABLE\n"
     ]
    },
    {
     "data": {
      "text/plain": [
       "<Future pending cb=[<builtins.PyDoneCallback object at 0x7faf90b9e990>()]>"
      ]
     },
     "execution_count": 4,
     "metadata": {},
     "output_type": "execute_result"
    }
   ],
   "source": [
    "client_tiface = await new_transport_interface(\"0.0.0.0\", 0)\n",
    "client_tiface.run()\n",
    "\n",
    "server_tiface = await new_transport_interface(\"0.0.0.0\", SERVER_PORT)\n",
    "server_tiface.run()"
   ]
  },
  {
   "cell_type": "markdown",
   "id": "36a04bac",
   "metadata": {},
   "source": [
    "## Wrap the PYO3 Transport Interface in a Python class with the same methods"
   ]
  },
  {
   "cell_type": "markdown",
   "id": "9d109c58",
   "metadata": {},
   "source": [
    "Note that there is no `run()`. Hence, the passed in `TransportInterface` instance must have already had its `run()` method called."
   ]
  },
  {
   "cell_type": "code",
   "execution_count": 5,
   "id": "ab35c95a",
   "metadata": {},
   "outputs": [
    {
     "data": {
      "text/plain": [
       "{'c': TransportInterface{ transport: None,   cmd_tx: ...,   response_rx: ...,   notify_rx: ... },\n",
       " 's': TransportInterface{ transport: None,   cmd_tx: ...,   response_rx: ...,   notify_rx: ... }}"
      ]
     },
     "execution_count": 5,
     "metadata": {},
     "output_type": "execute_result"
    }
   ],
   "source": [
    "# ANSI escape codes for colors\n",
    "CRESET    = '\\33[0m'\n",
    "CGREEN  = '\\33[32m'\n",
    "CYELLOW = '\\33[33m'\n",
    "CVIOLET = '\\33[35m'\n",
    "\n",
    "import datetime\n",
    "t = lambda: datetime.datetime.now().strftime(\"%H:%M:%S.%f\")\n",
    "\n",
    "\n",
    "def cprint(tag, message):\n",
    "    if tag == \"client\":\n",
    "        color = CYELLOW\n",
    "    elif tag == \"server\":\n",
    "        color = CVIOLET\n",
    "    else:\n",
    "        color = CGREEN\n",
    "    print(f\"{color}{t()} {message}{CRESET}\", flush=True)\n",
    " \n",
    "#cprint = lambda tag, message: None    # Uncomment this to disable Python logging\n",
    "class LoggingTransportInterface:\n",
    "    def __init__(self, inner, tag):\n",
    "        self.inner = inner\n",
    "        self.ctr = 0\n",
    "        self.skipped_count = None\n",
    "        self.tag = tag\n",
    "        \n",
    "    async def command_response(self, transport_cmd):\n",
    "        cprint(self.tag, f\"LTI({self.tag}){self.ctr}{self.skipped()}: received transport_cmd {transport_cmd}\")\n",
    "        self.ctr += 1\n",
    "        transport_rsp = await self.inner.command_response(transport_cmd)\n",
    "        cprint(self.tag, f\"LTI({self.tag}){self.ctr}: got transport_rsp back from Transport layer: {transport_rsp}\")\n",
    "        self.ctr += 1\n",
    "        return transport_rsp\n",
    "    \n",
    "    def get_notifications(self):\n",
    "        transport_notif_list = self.inner.get_notifications()\n",
    "        if self.skipped_count is None:\n",
    "            cprint(self.tag, f\"LTI({self.tag}){self.ctr}: got transport notifications: {transport_notif_list}\")\n",
    "            self.skipped_count = 0\n",
    "            if len(transport_notif_list) > 0:\n",
    "                self.reset()\n",
    "        else:\n",
    "            self.skipped_count += 1\n",
    "        self.ctr += 1\n",
    "        return transport_notif_list\n",
    "    \n",
    "    def skipped(self):\n",
    "        if self.skipped_count is None:\n",
    "            return \"\"\n",
    "        count = self.skipped_count\n",
    "        self.skipped_count = None\n",
    "        return f\" skipped {count}\"\n",
    "    \n",
    "    def reset(self):\n",
    "        self.skipped_count = None\n",
    "        \n",
    "{\"c\": client_tiface, \"s\": server_tiface}"
   ]
  },
  {
   "cell_type": "markdown",
   "id": "344a2a3f",
   "metadata": {},
   "source": [
    "# Filter layer setup"
   ]
  },
  {
   "cell_type": "code",
   "execution_count": 6,
   "id": "6fa2ab7b",
   "metadata": {},
   "outputs": [
    {
     "data": {
      "text/plain": [
       "{'c': <FilterInterface at 0x7faf90c29480>,\n",
       " 's': <FilterInterface at 0x7faf90c295a0>}"
      ]
     },
     "execution_count": 6,
     "metadata": {},
     "output_type": "execute_result"
    }
   ],
   "source": [
    "client_fiface = FilterInterface(client_tiface, FilterModeW(\"client\"))\n",
    "server_fiface = FilterInterface(server_tiface, FilterModeW(\"server\"))\n",
    "\n",
    "{\"c\": client_fiface, \"s\": server_fiface}"
   ]
  },
  {
   "cell_type": "markdown",
   "id": "82345b04",
   "metadata": {},
   "source": [
    "Find methods to run"
   ]
  },
  {
   "cell_type": "code",
   "execution_count": 7,
   "id": "5e2d7d02",
   "metadata": {
    "scrolled": true
   },
   "outputs": [
    {
     "data": {
      "text/plain": [
       "['command',\n",
       " 'command_response',\n",
       " 'get_notifications',\n",
       " 'notif_poll_ms',\n",
       " 'response',\n",
       " 'run']"
      ]
     },
     "execution_count": 7,
     "metadata": {},
     "output_type": "execute_result"
    }
   ],
   "source": [
    "[m for m in dir(client_fiface) if not m.startswith('__')]"
   ]
  },
  {
   "cell_type": "markdown",
   "id": "794804e3",
   "metadata": {},
   "source": [
    "Run Client and Server Filter!"
   ]
  },
  {
   "cell_type": "code",
   "execution_count": 8,
   "id": "5cda3921",
   "metadata": {},
   "outputs": [
    {
     "name": "stdout",
     "output_type": "stream",
     "text": [
      "15:38:18.230686 [INFO ] - [F] About to send pings to servers: []\n"
     ]
    }
   ],
   "source": [
    "client_fiface_fut = client_fiface.run()\n",
    "server_fiface_fut = server_fiface.run()\n",
    "\n",
    "# After waiting a bit, the above future should not have completed\n",
    "time.sleep(0.1)\n",
    "assert not client_fiface_fut.done() and not server_fiface_fut.done()"
   ]
  },
  {
   "cell_type": "code",
   "execution_count": 9,
   "id": "598eed8b",
   "metadata": {},
   "outputs": [],
   "source": [
    "client_fiface.notif_poll_ms = 100\n"
   ]
  },
  {
   "cell_type": "markdown",
   "id": "f713c42a",
   "metadata": {},
   "source": [
    "## Filter layer operation for Pings"
   ]
  },
  {
   "cell_type": "markdown",
   "id": "17a3b5a9",
   "metadata": {},
   "source": [
    "### As a client, add server (both our local and Chococat) as ping endpoints"
   ]
  },
  {
   "cell_type": "code",
   "execution_count": 10,
   "id": "8f35a23d",
   "metadata": {},
   "outputs": [
    {
     "name": "stdout",
     "output_type": "stream",
     "text": [
      "15:38:18.431523 [INFO ] - [F] About to send pings to servers: []\n"
     ]
    },
    {
     "data": {
      "text/plain": [
       "'157.230.134.224'"
      ]
     },
     "execution_count": 10,
     "metadata": {},
     "output_type": "execute_result"
    }
   ],
   "source": [
    "import socket\n",
    "choco_ip = socket.gethostbyname_ex('chococat.conwayste.rs')[-1][0]\n",
    "choco_ip"
   ]
  },
  {
   "cell_type": "markdown",
   "id": "b7ab350a",
   "metadata": {},
   "source": [
    "# !!! COMMENTED OUT server_ept BELOW !!!"
   ]
  },
  {
   "cell_type": "code",
   "execution_count": 11,
   "id": "3b3a1776",
   "metadata": {},
   "outputs": [
    {
     "data": {
      "text/plain": [
       "AddPingEndpoints { endpoints: [Endpoint(157.230.134.224:2016)] }"
      ]
     },
     "execution_count": 11,
     "metadata": {},
     "output_type": "execute_result"
    }
   ],
   "source": [
    "#server_ept = EndpointW(f\"127.0.0.1:{SERVER_PORT}\")\n",
    "choco_ept  = EndpointW(f\"{choco_ip}:2016\")\n",
    "\n",
    "filter_cmd = FilterCmdW(\"addpingendpoints\", endpoints=[choco_ept])  # endpoints=[server_ept, choco_ept])\n",
    "filter_cmd"
   ]
  },
  {
   "cell_type": "code",
   "execution_count": 12,
   "id": "7b4b5724",
   "metadata": {
    "scrolled": true
   },
   "outputs": [
    {
     "name": "stdout",
     "output_type": "stream",
     "text": [
      "15:38:18.600504 [TRACE] - [F<-A,C] New command: AddPingEndpoints { endpoints: [Endpoint(157.230.134.224:2016)] }\n"
     ]
    },
    {
     "data": {
      "text/plain": [
       "Accepted"
      ]
     },
     "execution_count": 12,
     "metadata": {},
     "output_type": "execute_result"
    }
   ],
   "source": [
    "await client_fiface.command_response(filter_cmd)"
   ]
  },
  {
   "cell_type": "markdown",
   "id": "8199735f",
   "metadata": {},
   "source": [
    "### Here be dragons\n",
    "\n",
    "Unblock the Python async event loop by running some random async code. IDK why?\n",
    "\n",
    "**Anyway,** I just copied this shit from StackOverflow with slight modifications for Jupyter (event loop already running): https://stackoverflow.com/a/53420574"
   ]
  },
  {
   "cell_type": "code",
   "execution_count": 13,
   "id": "ba2fc216",
   "metadata": {},
   "outputs": [
    {
     "name": "stdout",
     "output_type": "stream",
     "text": [
      "Task A: Computing 0+1\n",
      "Time: 0.00\n",
      "Task B: Computing 0+1\n",
      "Time: 0.00\n",
      "15:38:18.630645 [INFO ] - [F] About to send pings to servers: [Endpoint(157.230.134.224:2016)]\n",
      "15:38:18.831482 [INFO ] - [F] About to send pings to servers: [Endpoint(157.230.134.224:2016)]\n",
      "15:38:19.031097 [INFO ] - [F] About to send pings to servers: [Endpoint(157.230.134.224:2016)]\n",
      "15:38:19.231218 [INFO ] - [F] About to send pings to servers: [Endpoint(157.230.134.224:2016)]\n",
      "15:38:19.430522 [INFO ] - [F] About to send pings to servers: [Endpoint(157.230.134.224:2016)]\n",
      "Task A: Computing 1+2\n",
      "Time: 1.00\n",
      "Task B: Computing 1+2\n",
      "Time: 1.00\n",
      "15:38:19.630884 [INFO ] - [F] About to send pings to servers: [Endpoint(157.230.134.224:2016)]\n",
      "15:38:19.830959 [INFO ] - [F] About to send pings to servers: [Endpoint(157.230.134.224:2016)]\n",
      "15:38:20.031869 [INFO ] - [F] About to send pings to servers: [Endpoint(157.230.134.224:2016)]\n",
      "15:38:20.230564 [INFO ] - [F] About to send pings to servers: [Endpoint(157.230.134.224:2016)]\n",
      "15:38:20.431138 [INFO ] - [F] About to send pings to servers: [Endpoint(157.230.134.224:2016)]\n",
      "Task A: Sum = 3\n",
      "\n",
      "Task B: Computing 3+3\n",
      "Time: 2.00\n",
      "15:38:20.631590 [INFO ] - [F] About to send pings to servers: [Endpoint(157.230.134.224:2016)]\n",
      "15:38:20.831552 [INFO ] - [F] About to send pings to servers: [Endpoint(157.230.134.224:2016)]\n",
      "15:38:21.030942 [INFO ] - [F] About to send pings to servers: [Endpoint(157.230.134.224:2016)]\n",
      "15:38:21.230606 [INFO ] - [F] About to send pings to servers: [Endpoint(157.230.134.224:2016)]\n",
      "15:38:21.430932 [INFO ] - [F] About to send pings to servers: [Endpoint(157.230.134.224:2016)]\n",
      "Task B: Sum = 6\n",
      "\n",
      "Time: 3.00 sec\n"
     ]
    }
   ],
   "source": [
    "import time\n",
    "import asyncio\n",
    "\n",
    "async def sleeper():\n",
    "    print(f'Time: {time.time() - start:.2f}')\n",
    "    await asyncio.sleep(1)\n",
    "async def sum(name, numbers):\n",
    "    total = 0\n",
    "    for number in numbers:\n",
    "        print(f'Task {name}: Computing {total}+{number}')\n",
    "        await sleeper()\n",
    "        total += number\n",
    "    print(f'Task {name}: Sum = {total}\\n')\n",
    "\n",
    "start = time.time()\n",
    "loop = asyncio.get_event_loop()\n",
    "tasks = [\n",
    "    loop.create_task(sum(\"A\", [1, 2])),\n",
    "    loop.create_task(sum(\"B\", [1, 2, 3])),\n",
    "]\n",
    "done, pending = await asyncio.wait(tasks)\n",
    "assert len(pending) == 0\n",
    "\n",
    "end = time.time()\n",
    "print(f'Time: {end-start:.2f} sec')"
   ]
  },
  {
   "cell_type": "markdown",
   "id": "f4617164",
   "metadata": {},
   "source": [
    "The client will repeatedly send pings. Need `LATENCY_FILTER_DEPTH` pings (currently 4) to be received back from server before we know the latency."
   ]
  },
  {
   "cell_type": "code",
   "execution_count": 14,
   "id": "508a922e",
   "metadata": {
    "scrolled": true
   },
   "outputs": [
    {
     "name": "stdout",
     "output_type": "stream",
     "text": [
      "15:38:21.631015 [INFO ] - [F] About to send pings to servers: [Endpoint(157.230.134.224:2016)]\n",
      "15:38:21.830628 [INFO ] - [F] About to send pings to servers: [Endpoint(157.230.134.224:2016)]\n",
      "15:38:22.031787 [INFO ] - [F] About to send pings to servers: [Endpoint(157.230.134.224:2016)]\n",
      "15:38:22.230789 [INFO ] - [F] About to send pings to servers: [Endpoint(157.230.134.224:2016)]\n",
      "15:38:22.430851 [INFO ] - [F] About to send pings to servers: [Endpoint(157.230.134.224:2016)]\n",
      "15:38:22.631390 [INFO ] - [F] About to send pings to servers: [Endpoint(157.230.134.224:2016)]\n",
      "15:38:22.830523 [INFO ] - [F] About to send pings to servers: [Endpoint(157.230.134.224:2016)]\n",
      "15:38:23.030574 [INFO ] - [F] About to send pings to servers: [Endpoint(157.230.134.224:2016)]\n",
      "15:38:23.230779 [INFO ] - [F] About to send pings to servers: [Endpoint(157.230.134.224:2016)]\n",
      "15:38:23.431327 [INFO ] - [F] About to send pings to servers: [Endpoint(157.230.134.224:2016)]\n",
      "15:38:23.631506 [INFO ] - [F] About to send pings to servers: [Endpoint(157.230.134.224:2016)]\n",
      "15:38:23.831521 [INFO ] - [F] About to send pings to servers: [Endpoint(157.230.134.224:2016)]\n",
      "15:38:24.030566 [INFO ] - [F] About to send pings to servers: [Endpoint(157.230.134.224:2016)]\n",
      "15:38:24.231246 [INFO ] - [F] About to send pings to servers: [Endpoint(157.230.134.224:2016)]\n",
      "15:38:24.430673 [INFO ] - [F] About to send pings to servers: [Endpoint(157.230.134.224:2016)]\n"
     ]
    },
    {
     "data": {
      "text/plain": [
       "[]"
      ]
     },
     "execution_count": 14,
     "metadata": {},
     "output_type": "execute_result"
    }
   ],
   "source": [
    "time.sleep(3.0)\n",
    "server_notifications = server_fiface.get_notifications()\n",
    "server_notifications"
   ]
  },
  {
   "cell_type": "code",
   "execution_count": 15,
   "id": "8430cea1",
   "metadata": {},
   "outputs": [
    {
     "data": {
      "text/plain": [
       "[]"
      ]
     },
     "execution_count": 15,
     "metadata": {},
     "output_type": "execute_result"
    }
   ],
   "source": [
    "client_notifications = client_fiface.get_notifications()\n",
    "client_notifications"
   ]
  },
  {
   "cell_type": "markdown",
   "id": "518e33cd",
   "metadata": {},
   "source": [
    "Sleeping again...."
   ]
  },
  {
   "cell_type": "code",
   "execution_count": 16,
   "id": "7e5a9914",
   "metadata": {},
   "outputs": [
    {
     "name": "stdout",
     "output_type": "stream",
     "text": [
      "15:38:24.631475 [INFO ] - [F] About to send pings to servers: [Endpoint(157.230.134.224:2016)]\n",
      "15:38:24.830860 [INFO ] - [F] About to send pings to servers: [Endpoint(157.230.134.224:2016)]\n",
      "15:38:25.030801 [INFO ] - [F] About to send pings to servers: [Endpoint(157.230.134.224:2016)]\n",
      "15:38:25.230851 [INFO ] - [F] About to send pings to servers: [Endpoint(157.230.134.224:2016)]\n",
      "15:38:25.431780 [INFO ] - [F] About to send pings to servers: [Endpoint(157.230.134.224:2016)]\n",
      "15:38:25.631641 [INFO ] - [F] About to send pings to servers: [Endpoint(157.230.134.224:2016)]\n",
      "15:38:25.830674 [INFO ] - [F] About to send pings to servers: [Endpoint(157.230.134.224:2016)]\n",
      "15:38:26.031573 [INFO ] - [F] About to send pings to servers: [Endpoint(157.230.134.224:2016)]\n",
      "15:38:26.231353 [INFO ] - [F] About to send pings to servers: [Endpoint(157.230.134.224:2016)]\n",
      "15:38:26.430783 [INFO ] - [F] About to send pings to servers: [Endpoint(157.230.134.224:2016)]\n",
      "15:38:26.630850 [INFO ] - [F] About to send pings to servers: [Endpoint(157.230.134.224:2016)]\n",
      "15:38:26.831452 [INFO ] - [F] About to send pings to servers: [Endpoint(157.230.134.224:2016)]\n",
      "15:38:27.031025 [INFO ] - [F] About to send pings to servers: [Endpoint(157.230.134.224:2016)]\n",
      "15:38:27.230662 [INFO ] - [F] About to send pings to servers: [Endpoint(157.230.134.224:2016)]\n",
      "15:38:27.430690 [INFO ] - [F] About to send pings to servers: [Endpoint(157.230.134.224:2016)]\n",
      "15:38:27.630869 [INFO ] - [F] About to send pings to servers: [Endpoint(157.230.134.224:2016)]\n",
      "15:38:27.830895 [INFO ] - [F] About to send pings to servers: [Endpoint(157.230.134.224:2016)]\n",
      "15:38:28.031529 [INFO ] - [F] About to send pings to servers: [Endpoint(157.230.134.224:2016)]\n",
      "15:38:28.231066 [INFO ] - [F] About to send pings to servers: [Endpoint(157.230.134.224:2016)]\n",
      "15:38:28.430535 [INFO ] - [F] About to send pings to servers: [Endpoint(157.230.134.224:2016)]\n",
      "15:38:28.631368 [INFO ] - [F] About to send pings to servers: [Endpoint(157.230.134.224:2016)]\n",
      "15:38:28.830725 [INFO ] - [F] About to send pings to servers: [Endpoint(157.230.134.224:2016)]\n",
      "15:38:29.031575 [INFO ] - [F] About to send pings to servers: [Endpoint(157.230.134.224:2016)]\n",
      "15:38:29.231563 [INFO ] - [F] About to send pings to servers: [Endpoint(157.230.134.224:2016)]\n",
      "15:38:29.431741 [INFO ] - [F] About to send pings to servers: [Endpoint(157.230.134.224:2016)]\n",
      "15:38:29.630745 [INFO ] - [F] About to send pings to servers: [Endpoint(157.230.134.224:2016)]\n",
      "15:38:29.831497 [INFO ] - [F] About to send pings to servers: [Endpoint(157.230.134.224:2016)]\n",
      "15:38:30.031402 [INFO ] - [F] About to send pings to servers: [Endpoint(157.230.134.224:2016)]\n",
      "15:38:30.230810 [INFO ] - [F] About to send pings to servers: [Endpoint(157.230.134.224:2016)]\n",
      "15:38:30.431490 [INFO ] - [F] About to send pings to servers: [Endpoint(157.230.134.224:2016)]\n",
      "15:38:30.631507 [INFO ] - [F] About to send pings to servers: [Endpoint(157.230.134.224:2016)]\n",
      "15:38:30.830520 [INFO ] - [F] About to send pings to servers: [Endpoint(157.230.134.224:2016)]\n",
      "15:38:31.031282 [INFO ] - [F] About to send pings to servers: [Endpoint(157.230.134.224:2016)]\n",
      "15:38:31.231171 [INFO ] - [F] About to send pings to servers: [Endpoint(157.230.134.224:2016)]\n",
      "15:38:31.431271 [INFO ] - [F] About to send pings to servers: [Endpoint(157.230.134.224:2016)]\n",
      "15:38:31.631147 [INFO ] - [F] About to send pings to servers: [Endpoint(157.230.134.224:2016)]\n",
      "15:38:31.830592 [INFO ] - [F] About to send pings to servers: [Endpoint(157.230.134.224:2016)]\n",
      "15:38:32.030690 [INFO ] - [F] About to send pings to servers: [Endpoint(157.230.134.224:2016)]\n",
      "15:38:32.230634 [INFO ] - [F] About to send pings to servers: [Endpoint(157.230.134.224:2016)]\n",
      "15:38:32.431298 [INFO ] - [F] About to send pings to servers: [Endpoint(157.230.134.224:2016)]\n",
      "15:38:32.630893 [INFO ] - [F] About to send pings to servers: [Endpoint(157.230.134.224:2016)]\n",
      "15:38:32.830858 [INFO ] - [F] About to send pings to servers: [Endpoint(157.230.134.224:2016)]\n",
      "15:38:33.031036 [INFO ] - [F] About to send pings to servers: [Endpoint(157.230.134.224:2016)]\n",
      "15:38:33.231611 [INFO ] - [F] About to send pings to servers: [Endpoint(157.230.134.224:2016)]\n",
      "15:38:33.430630 [INFO ] - [F] About to send pings to servers: [Endpoint(157.230.134.224:2016)]\n",
      "15:38:33.631576 [INFO ] - [F] About to send pings to servers: [Endpoint(157.230.134.224:2016)]\n",
      "15:38:33.830808 [INFO ] - [F] About to send pings to servers: [Endpoint(157.230.134.224:2016)]\n",
      "15:38:34.031487 [INFO ] - [F] About to send pings to servers: [Endpoint(157.230.134.224:2016)]\n",
      "15:38:34.230830 [INFO ] - [F] About to send pings to servers: [Endpoint(157.230.134.224:2016)]\n",
      "15:38:34.430783 [INFO ] - [F] About to send pings to servers: [Endpoint(157.230.134.224:2016)]\n",
      "15:38:34.631486 [INFO ] - [F] About to send pings to servers: [Endpoint(157.230.134.224:2016)]\n"
     ]
    },
    {
     "data": {
      "text/plain": [
       "[]"
      ]
     },
     "execution_count": 16,
     "metadata": {},
     "output_type": "execute_result"
    }
   ],
   "source": [
    "time.sleep(10.0)\n",
    "client_notifications = client_fiface.get_notifications()\n",
    "client_notifications"
   ]
  },
  {
   "cell_type": "code",
   "execution_count": 17,
   "id": "14369ed8",
   "metadata": {
    "scrolled": true
   },
   "outputs": [
    {
     "name": "stdout",
     "output_type": "stream",
     "text": [
      "15:38:34.658105 [TRACE] - [F<-A,C] New command: ClearPingEndpoints\n"
     ]
    },
    {
     "data": {
      "text/plain": [
       "Accepted"
      ]
     },
     "execution_count": 17,
     "metadata": {},
     "output_type": "execute_result"
    },
    {
     "name": "stdout",
     "output_type": "stream",
     "text": [
      "15:38:34.658117 [INFO ] - [F<-A,C] clearing ping endpoints: [Endpoint(157.230.134.224:2016)]\n"
     ]
    }
   ],
   "source": [
    "await client_fiface.command_response(FilterCmdW(\"clearpingendpoints\"))"
   ]
  },
  {
   "cell_type": "code",
   "execution_count": 18,
   "id": "7e747ddf",
   "metadata": {},
   "outputs": [
    {
     "data": {
      "text/plain": [
       "[]"
      ]
     },
     "execution_count": 18,
     "metadata": {},
     "output_type": "execute_result"
    }
   ],
   "source": [
    "client_notifications = client_fiface.get_notifications()\n",
    "client_notifications"
   ]
  },
  {
   "cell_type": "markdown",
   "id": "ab50b81d",
   "metadata": {},
   "source": [
    "### Now shutdown"
   ]
  },
  {
   "cell_type": "code",
   "execution_count": 19,
   "id": "ce1d2b49",
   "metadata": {},
   "outputs": [
    {
     "name": "stdout",
     "output_type": "stream",
     "text": [
      "15:38:34.831417 [INFO ] - [F] About to send pings to servers: []\n",
      "15:38:35.030839 [INFO ] - [F] About to send pings to servers: []\n",
      "15:38:35.230516 [INFO ] - [F] About to send pings to servers: []\n",
      "15:38:35.430929 [INFO ] - [F] About to send pings to servers: []\n",
      "15:38:35.630962 [INFO ] - [F] About to send pings to servers: []\n",
      "15:38:35.690365 [TRACE] - [F<-A,C] New command: Shutdown { graceful: true }\n",
      "15:38:35.690383 [INFO ] - [F] shutting down\n"
     ]
    }
   ],
   "source": [
    "time.sleep(1)\n",
    "await client_fiface.command_response(FilterCmdW(\"shutdown\", graceful=True))"
   ]
  },
  {
   "cell_type": "code",
   "execution_count": null,
   "id": "592f9659",
   "metadata": {},
   "outputs": [],
   "source": []
  }
 ],
 "metadata": {
  "kernelspec": {
   "display_name": "Python 3 (ipykernel)",
   "language": "python",
   "name": "python3"
  },
  "language_info": {
   "codemirror_mode": {
    "name": "ipython",
    "version": 3
   },
   "file_extension": ".py",
   "mimetype": "text/x-python",
   "name": "python",
   "nbconvert_exporter": "python",
   "pygments_lexer": "ipython3",
   "version": "3.10.6"
  },
  "vscode": {
   "interpreter": {
    "hash": "916dbcbb3f70747c44a77c7bcd40155683ae19c65e1c03b4aa3499c5328201f1"
   }
  }
 },
 "nbformat": 4,
 "nbformat_minor": 5
}
