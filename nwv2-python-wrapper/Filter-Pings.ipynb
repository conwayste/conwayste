{
 "cells": [
  {
   "cell_type": "markdown",
   "id": "aba2c68e",
   "metadata": {},
   "source": [
    "# Boilerplate"
   ]
  },
  {
   "cell_type": "code",
   "execution_count": 1,
   "id": "bf75903d",
   "metadata": {},
   "outputs": [],
   "source": [
    "import sys\n",
    "sys.path.insert(0, 'venv/lib/python3.10/site-packages')\n",
    "import asyncio\n",
    "import time\n",
    "import base64\n",
    "\n",
    "from nwv2_python_wrapper import *\n",
    "import nwv2_python_wrapper\n",
    "init_logging()"
   ]
  },
  {
   "cell_type": "markdown",
   "id": "4b39dc18",
   "metadata": {},
   "source": [
    "# Run"
   ]
  },
  {
   "cell_type": "markdown",
   "id": "a2c354f3",
   "metadata": {},
   "source": [
    "List all Python wrappers"
   ]
  },
  {
   "cell_type": "code",
   "execution_count": 2,
   "id": "37227bf5",
   "metadata": {},
   "outputs": [
    {
     "data": {
      "text/plain": [
       "['BroadcastChatMessageW',\n",
       " 'EndpointW',\n",
       " 'FilterCmdW',\n",
       " 'FilterInterface',\n",
       " 'FilterModeW',\n",
       " 'FilterNoticeW',\n",
       " 'FilterRspW',\n",
       " 'GameOptionsW',\n",
       " 'GameOutcomeW',\n",
       " 'GameUpdateW',\n",
       " 'GenPartInfoW',\n",
       " 'GenStateDiffPartW',\n",
       " 'GenStateDiffW',\n",
       " 'NetRegionW',\n",
       " 'PacketSettingsW',\n",
       " 'PacketW',\n",
       " 'PlayerInfoW',\n",
       " 'ProcessUniqueIdW',\n",
       " 'RequestActionW',\n",
       " 'ResponseCodeW',\n",
       " 'RoomListW',\n",
       " 'TransportCmdW',\n",
       " 'TransportInterface',\n",
       " 'TransportNoticeW',\n",
       " 'TransportRspW',\n",
       " 'UniUpdateW',\n",
       " 'debug_hello',\n",
       " 'init_logging',\n",
       " 'new_transport_interface']"
      ]
     },
     "execution_count": 2,
     "metadata": {},
     "output_type": "execute_result"
    }
   ],
   "source": [
    "[f for f in dir(nwv2_python_wrapper) if not f.startswith('__') and f != 'nwv2_python_wrapper']"
   ]
  },
  {
   "cell_type": "markdown",
   "id": "e28d4512",
   "metadata": {},
   "source": [
    "## Transport layer setup"
   ]
  },
  {
   "cell_type": "markdown",
   "id": "5d9622f6",
   "metadata": {},
   "source": [
    "Create a Client and Server Transport layer and run each in the background."
   ]
  },
  {
   "cell_type": "code",
   "execution_count": 3,
   "id": "495f6d91",
   "metadata": {},
   "outputs": [],
   "source": [
    "# Temporary workaround until the random port generated from `0` passed in can be obtained\n",
    "SERVER_PORT = 62013"
   ]
  },
  {
   "cell_type": "code",
   "execution_count": 4,
   "id": "38346200",
   "metadata": {},
   "outputs": [
    {
     "name": "stdout",
     "output_type": "stream",
     "text": [
      "09:42:58.262592 [TRACE] - registering event source with poller: token=Token(0), interests=READABLE | WRITABLE\n",
      "09:42:58.263659 [INFO ] - [T] Attempting to bind to 0.0.0.0:0\n",
      "09:42:58.263692 [TRACE] - registering event source with poller: token=Token(1), interests=READABLE | WRITABLE\n",
      "09:42:58.267809 [INFO ] - [T] Attempting to bind to 0.0.0.0:62013\n",
      "09:42:58.292429 [TRACE] - registering event source with poller: token=Token(2), interests=READABLE | WRITABLE\n"
     ]
    },
    {
     "data": {
      "text/plain": [
       "<Future pending cb=[<builtins.PyDoneCallback object at 0x7fd43f246b50>()]>"
      ]
     },
     "execution_count": 4,
     "metadata": {},
     "output_type": "execute_result"
    }
   ],
   "source": [
    "client_tiface_inner = await new_transport_interface(\"0.0.0.0\", 0)\n",
    "client_tiface_inner.run()\n",
    "\n",
    "server_tiface_inner = await new_transport_interface(\"0.0.0.0\", SERVER_PORT)\n",
    "server_tiface_inner.run()"
   ]
  },
  {
   "cell_type": "markdown",
   "id": "36a04bac",
   "metadata": {},
   "source": [
    "## Wrap the PYO3 Transport Interface in a Python class with the same methods"
   ]
  },
  {
   "cell_type": "markdown",
   "id": "9d109c58",
   "metadata": {},
   "source": [
    "Note that there is no `run()`. Hence, the passed in `TransportInterface` instance must have already had its `run()` method called."
   ]
  },
  {
   "cell_type": "code",
   "execution_count": 5,
   "id": "ab35c95a",
   "metadata": {},
   "outputs": [
    {
     "data": {
      "text/plain": [
       "{'c': <__main__.LoggingTransportInterface at 0x7fd43f0f2d70>,\n",
       " 's': <__main__.LoggingTransportInterface at 0x7fd43f0f2f50>}"
      ]
     },
     "execution_count": 5,
     "metadata": {},
     "output_type": "execute_result"
    }
   ],
   "source": [
    "# ANSI escape codes for colors\n",
    "CRESET    = '\\33[0m'\n",
    "CGREEN  = '\\33[32m'\n",
    "CYELLOW = '\\33[33m'\n",
    "CVIOLET = '\\33[35m'\n",
    "\n",
    "def cprint(tag, message):\n",
    "    if tag == \"client\":\n",
    "        color = CYELLOW\n",
    "    elif tag == \"server\":\n",
    "        color = CVIOLET\n",
    "    else:\n",
    "        color = CGREEN\n",
    "    print(f\"{color}{message}{CRESET}\")\n",
    "        \n",
    "#cprint = lambda tag, message: None    # Uncomment this to disable Python logging\n",
    "class LoggingTransportInterface:\n",
    "    def __init__(self, inner, tag):\n",
    "        self.inner = inner\n",
    "        self.ctr = 0\n",
    "        self.skipped_count = None\n",
    "        self.tag = tag\n",
    "        \n",
    "    async def command_response(self, transport_cmd):\n",
    "        cprint(self.tag, f\"LTI({self.tag}){self.ctr}{self.skipped()}: received transport_cmd {transport_cmd}\")\n",
    "        self.ctr += 1\n",
    "        transport_rsp = await self.inner.command_response(transport_cmd)\n",
    "        cprint(self.tag, f\"LTI({self.tag}){self.ctr}: got transport_rsp back from Transport layer: {transport_rsp}\")\n",
    "        self.ctr += 1\n",
    "        return transport_rsp\n",
    "    \n",
    "    def get_notifications(self):\n",
    "        transport_notif_list = self.inner.get_notifications()\n",
    "        if self.skipped_count is None:\n",
    "            cprint(self.tag, f\"LTI({self.tag}){self.ctr}: got transport notifications: {transport_notif_list}\")\n",
    "            self.skipped_count = 0\n",
    "            if len(transport_notif_list) > 0:\n",
    "                self.reset()\n",
    "        else:\n",
    "            self.skipped_count += 1\n",
    "        self.ctr += 1\n",
    "        return transport_notif_list\n",
    "    \n",
    "    def skipped(self):\n",
    "        if self.skipped_count is None:\n",
    "            return \"\"\n",
    "        count = self.skipped_count\n",
    "        self.skipped_count = None\n",
    "        return f\" skipped {count}\"\n",
    "    \n",
    "    def reset(self):\n",
    "        self.skipped_count = None\n",
    "        \n",
    "client_tiface = LoggingTransportInterface(client_tiface_inner, \"client\")\n",
    "server_tiface = LoggingTransportInterface(server_tiface_inner, \"server\")\n",
    "{\"c\": client_tiface, \"s\": server_tiface}"
   ]
  },
  {
   "cell_type": "markdown",
   "id": "344a2a3f",
   "metadata": {},
   "source": [
    "# Filter layer setup"
   ]
  },
  {
   "cell_type": "code",
   "execution_count": 6,
   "id": "6fa2ab7b",
   "metadata": {},
   "outputs": [
    {
     "data": {
      "text/plain": [
       "{'c': <FilterInterface at 0x7fd43f12cfb0>,\n",
       " 's': <FilterInterface at 0x7fd43f12e180>}"
      ]
     },
     "execution_count": 6,
     "metadata": {},
     "output_type": "execute_result"
    }
   ],
   "source": [
    "client_fiface = FilterInterface(client_tiface, FilterModeW(\"client\"))\n",
    "server_fiface = FilterInterface(server_tiface, FilterModeW(\"server\"))\n",
    "\n",
    "{\"c\": client_fiface, \"s\": server_fiface}"
   ]
  },
  {
   "cell_type": "markdown",
   "id": "82345b04",
   "metadata": {},
   "source": [
    "Find methods to run"
   ]
  },
  {
   "cell_type": "code",
   "execution_count": 7,
   "id": "5e2d7d02",
   "metadata": {
    "scrolled": true
   },
   "outputs": [
    {
     "data": {
      "text/plain": [
       "['command',\n",
       " 'command_response',\n",
       " 'get_notifications',\n",
       " 'notif_poll_ms',\n",
       " 'response',\n",
       " 'run']"
      ]
     },
     "execution_count": 7,
     "metadata": {},
     "output_type": "execute_result"
    }
   ],
   "source": [
    "[m for m in dir(client_fiface) if not m.startswith('__')]"
   ]
  },
  {
   "cell_type": "markdown",
   "id": "794804e3",
   "metadata": {},
   "source": [
    "Run Client and Server Filter!"
   ]
  },
  {
   "cell_type": "code",
   "execution_count": 8,
   "id": "5cda3921",
   "metadata": {},
   "outputs": [
    {
     "name": "stdout",
     "output_type": "stream",
     "text": [
      "\u001b[33mLTI(client)0: got transport notifications: []\u001b[0m\n",
      "09:42:58.376340 [INFO ] - [F] About to send pings to servers: []\n",
      "\u001b[35mLTI(server)0: got transport notifications: []\u001b[0m\n"
     ]
    }
   ],
   "source": [
    "client_fiface_fut = client_fiface.run()\n",
    "server_fiface_fut = server_fiface.run()\n",
    "\n",
    "# After waiting a bit, the above future should not have completed\n",
    "time.sleep(0.1)\n",
    "assert not client_fiface_fut.done() and not server_fiface_fut.done()"
   ]
  },
  {
   "cell_type": "code",
   "execution_count": 9,
   "id": "598eed8b",
   "metadata": {},
   "outputs": [],
   "source": [
    "client_fiface.notif_poll_ms = 100\n"
   ]
  },
  {
   "cell_type": "markdown",
   "id": "f713c42a",
   "metadata": {},
   "source": [
    "## Filter layer operation for Pings"
   ]
  },
  {
   "cell_type": "markdown",
   "id": "17a3b5a9",
   "metadata": {},
   "source": [
    "### As a client, add server (both our local and Chococat) as ping endpoints"
   ]
  },
  {
   "cell_type": "code",
   "execution_count": 10,
   "id": "936b4f0f",
   "metadata": {},
   "outputs": [
    {
     "name": "stdout",
     "output_type": "stream",
     "text": [
      "09:42:58.575264 [INFO ] - [F] About to send pings to servers: []\n",
      "09:42:58.775034 [INFO ] - [F] About to send pings to servers: []\n"
     ]
    },
    {
     "data": {
      "text/plain": [
       "'157.230.134.224'"
      ]
     },
     "execution_count": 10,
     "metadata": {},
     "output_type": "execute_result"
    }
   ],
   "source": [
    "import socket\n",
    "choco_ip = socket.gethostbyname_ex('chococat.conwayste.rs')[-1][0]\n",
    "choco_ip"
   ]
  },
  {
   "cell_type": "code",
   "execution_count": 11,
   "id": "3b3a1776",
   "metadata": {},
   "outputs": [
    {
     "data": {
      "text/plain": [
       "AddPingEndpoints { endpoints: [Endpoint(127.0.0.1:62013), Endpoint(157.230.134.224:2016)] }"
      ]
     },
     "execution_count": 11,
     "metadata": {},
     "output_type": "execute_result"
    }
   ],
   "source": [
    "server_ept = EndpointW(f\"127.0.0.1:{SERVER_PORT}\")\n",
    "choco_ept  = EndpointW(f\"{choco_ip}:2016\")\n",
    "\n",
    "filter_cmd = FilterCmdW(\"addpingendpoints\", endpoints=[server_ept, choco_ept])\n",
    "filter_cmd"
   ]
  },
  {
   "cell_type": "code",
   "execution_count": 12,
   "id": "7b4b5724",
   "metadata": {
    "scrolled": true
   },
   "outputs": [
    {
     "name": "stdout",
     "output_type": "stream",
     "text": [
      "09:42:58.970993 [TRACE] - [F<-A,C] New command: AddPingEndpoints { endpoints: [Endpoint(127.0.0.1:62013), Endpoint(157.230.134.224:2016)] }\n",
      "09:42:58.974978 [INFO ] - [F] About to send pings to servers: [Endpoint(127.0.0.1:62013), Endpoint(157.230.134.224:2016)]\n"
     ]
    },
    {
     "data": {
      "text/plain": [
       "Accepted"
      ]
     },
     "execution_count": 12,
     "metadata": {},
     "output_type": "execute_result"
    }
   ],
   "source": [
    "await client_fiface.command_response(filter_cmd)"
   ]
  },
  {
   "cell_type": "markdown",
   "id": "f4617164",
   "metadata": {},
   "source": [
    "The client will repeatedly send pings. Need `LATENCY_FILTER_DEPTH` pings (currently 4) to be received back from server before we know the latency."
   ]
  },
  {
   "cell_type": "code",
   "execution_count": 13,
   "id": "508a922e",
   "metadata": {
    "scrolled": true
   },
   "outputs": [
    {
     "name": "stdout",
     "output_type": "stream",
     "text": [
      "09:42:59.174693 [INFO ] - [F] About to send pings to servers: [Endpoint(127.0.0.1:62013), Endpoint(157.230.134.224:2016)]\n",
      "09:42:59.174739 [INFO ] - [F] send_pings for Endpoint(127.0.0.1:62013): skipping send because there's an active ping in progress: 18128269235191945562!\n",
      "09:42:59.174763 [INFO ] - [F] send_pings for Endpoint(157.230.134.224:2016): skipping send because there's an active ping in progress: 1762832923625281424!\n",
      "09:42:59.374974 [INFO ] - [F] About to send pings to servers: [Endpoint(127.0.0.1:62013), Endpoint(157.230.134.224:2016)]\n",
      "09:42:59.374996 [INFO ] - [F] send_pings for Endpoint(127.0.0.1:62013): skipping send because there's an active ping in progress: 18128269235191945562!\n",
      "09:42:59.374999 [INFO ] - [F] send_pings for Endpoint(157.230.134.224:2016): skipping send because there's an active ping in progress: 1762832923625281424!\n",
      "09:42:59.575388 [INFO ] - [F] About to send pings to servers: [Endpoint(127.0.0.1:62013), Endpoint(157.230.134.224:2016)]\n",
      "09:42:59.575410 [INFO ] - [F] send_pings for Endpoint(127.0.0.1:62013): skipping send because there's an active ping in progress: 18128269235191945562!\n",
      "09:42:59.575416 [INFO ] - [F] send_pings for Endpoint(157.230.134.224:2016): skipping send because there's an active ping in progress: 1762832923625281424!\n",
      "09:42:59.775615 [INFO ] - [F] About to send pings to servers: [Endpoint(127.0.0.1:62013), Endpoint(157.230.134.224:2016)]\n",
      "09:42:59.775675 [INFO ] - [F] send_pings for Endpoint(127.0.0.1:62013): skipping send because there's an active ping in progress: 18128269235191945562!\n",
      "09:42:59.775697 [INFO ] - [F] send_pings for Endpoint(157.230.134.224:2016): skipping send because there's an active ping in progress: 1762832923625281424!\n",
      "09:42:59.974701 [INFO ] - [F] About to send pings to servers: [Endpoint(127.0.0.1:62013), Endpoint(157.230.134.224:2016)]\n",
      "09:42:59.974784 [INFO ] - [F] send_pings for Endpoint(127.0.0.1:62013): skipping send because there's an active ping in progress: 18128269235191945562!\n",
      "09:42:59.974794 [INFO ] - [F] send_pings for Endpoint(157.230.134.224:2016): skipping send because there's an active ping in progress: 1762832923625281424!\n",
      "09:43:00.174746 [INFO ] - [F] About to send pings to servers: [Endpoint(127.0.0.1:62013), Endpoint(157.230.134.224:2016)]\n",
      "09:43:00.174801 [INFO ] - [F] send_pings for Endpoint(127.0.0.1:62013): skipping send because there's an active ping in progress: 18128269235191945562!\n",
      "09:43:00.174809 [INFO ] - [F] send_pings for Endpoint(157.230.134.224:2016): skipping send because there's an active ping in progress: 1762832923625281424!\n",
      "09:43:00.375291 [INFO ] - [F] About to send pings to servers: [Endpoint(127.0.0.1:62013), Endpoint(157.230.134.224:2016)]\n",
      "09:43:00.375311 [INFO ] - [F] send_pings for Endpoint(127.0.0.1:62013): skipping send because there's an active ping in progress: 18128269235191945562!\n",
      "09:43:00.375316 [INFO ] - [F] send_pings for Endpoint(157.230.134.224:2016): skipping send because there's an active ping in progress: 1762832923625281424!\n",
      "09:43:00.575671 [INFO ] - [F] About to send pings to servers: [Endpoint(127.0.0.1:62013), Endpoint(157.230.134.224:2016)]\n",
      "09:43:00.575695 [INFO ] - [F] send_pings for Endpoint(127.0.0.1:62013): skipping send because there's an active ping in progress: 18128269235191945562!\n",
      "09:43:00.575700 [INFO ] - [F] send_pings for Endpoint(157.230.134.224:2016): skipping send because there's an active ping in progress: 1762832923625281424!\n",
      "09:43:00.775396 [INFO ] - [F] About to send pings to servers: [Endpoint(127.0.0.1:62013), Endpoint(157.230.134.224:2016)]\n",
      "09:43:00.775454 [INFO ] - [F] send_pings for Endpoint(127.0.0.1:62013): skipping send because there's an active ping in progress: 18128269235191945562!\n",
      "09:43:00.775468 [INFO ] - [F] send_pings for Endpoint(157.230.134.224:2016): skipping send because there's an active ping in progress: 1762832923625281424!\n",
      "09:43:00.974680 [INFO ] - [F] About to send pings to servers: [Endpoint(127.0.0.1:62013), Endpoint(157.230.134.224:2016)]\n",
      "09:43:00.974702 [INFO ] - [F] send_pings for Endpoint(127.0.0.1:62013): skipping send because there's an active ping in progress: 18128269235191945562!\n",
      "09:43:00.974708 [INFO ] - [F] send_pings for Endpoint(157.230.134.224:2016): skipping send because there's an active ping in progress: 1762832923625281424!\n",
      "09:43:01.174707 [INFO ] - [F] About to send pings to servers: [Endpoint(127.0.0.1:62013), Endpoint(157.230.134.224:2016)]\n",
      "09:43:01.174752 [INFO ] - [F] send_pings for Endpoint(127.0.0.1:62013): skipping send because there's an active ping in progress: 18128269235191945562!\n",
      "09:43:01.174760 [INFO ] - [F] send_pings for Endpoint(157.230.134.224:2016): skipping send because there's an active ping in progress: 1762832923625281424!\n",
      "09:43:01.375403 [INFO ] - [F] About to send pings to servers: [Endpoint(127.0.0.1:62013), Endpoint(157.230.134.224:2016)]\n",
      "09:43:01.375429 [INFO ] - [F] send_pings for Endpoint(127.0.0.1:62013): skipping send because there's an active ping in progress: 18128269235191945562!\n",
      "09:43:01.375433 [INFO ] - [F] send_pings for Endpoint(157.230.134.224:2016): skipping send because there's an active ping in progress: 1762832923625281424!\n",
      "09:43:01.575110 [INFO ] - [F] About to send pings to servers: [Endpoint(127.0.0.1:62013), Endpoint(157.230.134.224:2016)]\n",
      "09:43:01.575137 [INFO ] - [F] send_pings for Endpoint(127.0.0.1:62013): skipping send because there's an active ping in progress: 18128269235191945562!\n",
      "09:43:01.575143 [INFO ] - [F] send_pings for Endpoint(157.230.134.224:2016): skipping send because there's an active ping in progress: 1762832923625281424!\n",
      "09:43:01.775176 [INFO ] - [F] About to send pings to servers: [Endpoint(127.0.0.1:62013), Endpoint(157.230.134.224:2016)]\n",
      "09:43:01.775197 [INFO ] - [F] send_pings for Endpoint(127.0.0.1:62013): skipping send because there's an active ping in progress: 18128269235191945562!\n",
      "09:43:01.775201 [INFO ] - [F] send_pings for Endpoint(157.230.134.224:2016): skipping send because there's an active ping in progress: 1762832923625281424!\n",
      "09:43:01.975131 [INFO ] - [F] About to send pings to servers: [Endpoint(127.0.0.1:62013), Endpoint(157.230.134.224:2016)]\n",
      "09:43:01.975155 [INFO ] - [F] send_pings for Endpoint(127.0.0.1:62013): skipping send because there's an active ping in progress: 18128269235191945562!\n",
      "09:43:01.975163 [INFO ] - [F] send_pings for Endpoint(157.230.134.224:2016): skipping send because there's an active ping in progress: 1762832923625281424!\n"
     ]
    },
    {
     "data": {
      "text/plain": [
       "[]"
      ]
     },
     "execution_count": 13,
     "metadata": {},
     "output_type": "execute_result"
    }
   ],
   "source": [
    "time.sleep(3.0)\n",
    "server_notifications = server_fiface.get_notifications()\n",
    "server_notifications"
   ]
  },
  {
   "cell_type": "code",
   "execution_count": 14,
   "id": "8430cea1",
   "metadata": {},
   "outputs": [
    {
     "data": {
      "text/plain": [
       "[]"
      ]
     },
     "execution_count": 14,
     "metadata": {},
     "output_type": "execute_result"
    }
   ],
   "source": [
    "client_notifications = client_fiface.get_notifications()\n",
    "client_notifications"
   ]
  },
  {
   "cell_type": "markdown",
   "id": "518e33cd",
   "metadata": {},
   "source": [
    "Sleeping again...."
   ]
  },
  {
   "cell_type": "code",
   "execution_count": 15,
   "id": "7e5a9914",
   "metadata": {},
   "outputs": [
    {
     "name": "stdout",
     "output_type": "stream",
     "text": [
      "09:43:02.175838 [INFO ] - [F] About to send pings to servers: [Endpoint(127.0.0.1:62013), Endpoint(157.230.134.224:2016)]\n",
      "09:43:02.175891 [INFO ] - [F] send_pings for Endpoint(127.0.0.1:62013): skipping send because there's an active ping in progress: 18128269235191945562!\n",
      "09:43:02.175900 [INFO ] - [F] send_pings for Endpoint(157.230.134.224:2016): skipping send because there's an active ping in progress: 1762832923625281424!\n",
      "09:43:02.375080 [INFO ] - [F] About to send pings to servers: [Endpoint(127.0.0.1:62013), Endpoint(157.230.134.224:2016)]\n",
      "09:43:02.375105 [INFO ] - [F] send_pings for Endpoint(127.0.0.1:62013): skipping send because there's an active ping in progress: 18128269235191945562!\n",
      "09:43:02.375109 [INFO ] - [F] send_pings for Endpoint(157.230.134.224:2016): skipping send because there's an active ping in progress: 1762832923625281424!\n",
      "09:43:02.575220 [INFO ] - [F] About to send pings to servers: [Endpoint(127.0.0.1:62013), Endpoint(157.230.134.224:2016)]\n",
      "09:43:02.575261 [INFO ] - [F] send_pings for Endpoint(127.0.0.1:62013): skipping send because there's an active ping in progress: 18128269235191945562!\n",
      "09:43:02.575271 [INFO ] - [F] send_pings for Endpoint(157.230.134.224:2016): skipping send because there's an active ping in progress: 1762832923625281424!\n",
      "09:43:02.775325 [INFO ] - [F] About to send pings to servers: [Endpoint(127.0.0.1:62013), Endpoint(157.230.134.224:2016)]\n",
      "09:43:02.775347 [INFO ] - [F] send_pings for Endpoint(127.0.0.1:62013): skipping send because there's an active ping in progress: 18128269235191945562!\n",
      "09:43:02.775353 [INFO ] - [F] send_pings for Endpoint(157.230.134.224:2016): skipping send because there's an active ping in progress: 1762832923625281424!\n",
      "09:43:02.975245 [INFO ] - [F] About to send pings to servers: [Endpoint(127.0.0.1:62013), Endpoint(157.230.134.224:2016)]\n",
      "09:43:02.975264 [INFO ] - [F] send_pings for Endpoint(127.0.0.1:62013): skipping send because there's an active ping in progress: 18128269235191945562!\n",
      "09:43:02.975270 [INFO ] - [F] send_pings for Endpoint(157.230.134.224:2016): skipping send because there's an active ping in progress: 1762832923625281424!\n",
      "09:43:03.175666 [INFO ] - [F] About to send pings to servers: [Endpoint(127.0.0.1:62013), Endpoint(157.230.134.224:2016)]\n",
      "09:43:03.175744 [INFO ] - [F] send_pings for Endpoint(127.0.0.1:62013): skipping send because there's an active ping in progress: 18128269235191945562!\n",
      "09:43:03.175757 [INFO ] - [F] send_pings for Endpoint(157.230.134.224:2016): skipping send because there's an active ping in progress: 1762832923625281424!\n",
      "09:43:03.375386 [INFO ] - [F] About to send pings to servers: [Endpoint(127.0.0.1:62013), Endpoint(157.230.134.224:2016)]\n",
      "09:43:03.375407 [INFO ] - [F] send_pings for Endpoint(127.0.0.1:62013): skipping send because there's an active ping in progress: 18128269235191945562!\n",
      "09:43:03.375415 [INFO ] - [F] send_pings for Endpoint(157.230.134.224:2016): skipping send because there's an active ping in progress: 1762832923625281424!\n",
      "09:43:03.574876 [INFO ] - [F] About to send pings to servers: [Endpoint(127.0.0.1:62013), Endpoint(157.230.134.224:2016)]\n",
      "09:43:03.574902 [INFO ] - [F] send_pings for Endpoint(127.0.0.1:62013): skipping send because there's an active ping in progress: 18128269235191945562!\n",
      "09:43:03.574908 [INFO ] - [F] send_pings for Endpoint(157.230.134.224:2016): skipping send because there's an active ping in progress: 1762832923625281424!\n",
      "09:43:03.774989 [INFO ] - [F] About to send pings to servers: [Endpoint(127.0.0.1:62013), Endpoint(157.230.134.224:2016)]\n",
      "09:43:03.775009 [INFO ] - [F] send_pings for Endpoint(127.0.0.1:62013): skipping send because there's an active ping in progress: 18128269235191945562!\n",
      "09:43:03.775013 [INFO ] - [F] send_pings for Endpoint(157.230.134.224:2016): skipping send because there's an active ping in progress: 1762832923625281424!\n",
      "09:43:03.974671 [INFO ] - [F] About to send pings to servers: [Endpoint(127.0.0.1:62013), Endpoint(157.230.134.224:2016)]\n",
      "09:43:03.974708 [INFO ] - [F] send_pings for Endpoint(127.0.0.1:62013): skipping send because there's an active ping in progress: 18128269235191945562!\n",
      "09:43:03.974716 [INFO ] - [F] send_pings for Endpoint(157.230.134.224:2016): skipping send because there's an active ping in progress: 1762832923625281424!\n",
      "09:43:04.175715 [INFO ] - [F] About to send pings to servers: [Endpoint(127.0.0.1:62013), Endpoint(157.230.134.224:2016)]\n",
      "09:43:04.175754 [INFO ] - [F] send_pings for Endpoint(127.0.0.1:62013): skipping send because there's an active ping in progress: 18128269235191945562!\n",
      "09:43:04.175764 [INFO ] - [F] send_pings for Endpoint(157.230.134.224:2016): skipping send because there's an active ping in progress: 1762832923625281424!\n",
      "09:43:04.374644 [INFO ] - [F] About to send pings to servers: [Endpoint(127.0.0.1:62013), Endpoint(157.230.134.224:2016)]\n",
      "09:43:04.374670 [INFO ] - [F] send_pings for Endpoint(127.0.0.1:62013): skipping send because there's an active ping in progress: 18128269235191945562!\n",
      "09:43:04.374676 [INFO ] - [F] send_pings for Endpoint(157.230.134.224:2016): skipping send because there's an active ping in progress: 1762832923625281424!\n",
      "09:43:04.575183 [INFO ] - [F] About to send pings to servers: [Endpoint(127.0.0.1:62013), Endpoint(157.230.134.224:2016)]\n",
      "09:43:04.575209 [INFO ] - [F] send_pings for Endpoint(127.0.0.1:62013): skipping send because there's an active ping in progress: 18128269235191945562!\n",
      "09:43:04.575213 [INFO ] - [F] send_pings for Endpoint(157.230.134.224:2016): skipping send because there's an active ping in progress: 1762832923625281424!\n",
      "09:43:04.775174 [INFO ] - [F] About to send pings to servers: [Endpoint(127.0.0.1:62013), Endpoint(157.230.134.224:2016)]\n",
      "09:43:04.775207 [INFO ] - [F] send_pings for Endpoint(127.0.0.1:62013): skipping send because there's an active ping in progress: 18128269235191945562!\n",
      "09:43:04.775214 [INFO ] - [F] send_pings for Endpoint(157.230.134.224:2016): skipping send because there's an active ping in progress: 1762832923625281424!\n",
      "09:43:04.975337 [INFO ] - [F] About to send pings to servers: [Endpoint(127.0.0.1:62013), Endpoint(157.230.134.224:2016)]\n",
      "09:43:04.975365 [INFO ] - [F] send_pings for Endpoint(127.0.0.1:62013): skipping send because there's an active ping in progress: 18128269235191945562!\n",
      "09:43:04.975369 [INFO ] - [F] send_pings for Endpoint(157.230.134.224:2016): skipping send because there's an active ping in progress: 1762832923625281424!\n",
      "09:43:05.175407 [INFO ] - [F] About to send pings to servers: [Endpoint(127.0.0.1:62013), Endpoint(157.230.134.224:2016)]\n",
      "09:43:05.175450 [INFO ] - [F] send_pings for Endpoint(127.0.0.1:62013): skipping send because there's an active ping in progress: 18128269235191945562!\n",
      "09:43:05.175457 [INFO ] - [F] send_pings for Endpoint(157.230.134.224:2016): skipping send because there's an active ping in progress: 1762832923625281424!\n",
      "09:43:05.375424 [INFO ] - [F] About to send pings to servers: [Endpoint(127.0.0.1:62013), Endpoint(157.230.134.224:2016)]\n",
      "09:43:05.375445 [INFO ] - [F] send_pings for Endpoint(127.0.0.1:62013): skipping send because there's an active ping in progress: 18128269235191945562!\n",
      "09:43:05.375452 [INFO ] - [F] send_pings for Endpoint(157.230.134.224:2016): skipping send because there's an active ping in progress: 1762832923625281424!\n",
      "09:43:05.575158 [INFO ] - [F] About to send pings to servers: [Endpoint(127.0.0.1:62013), Endpoint(157.230.134.224:2016)]\n",
      "09:43:05.575178 [INFO ] - [F] send_pings for Endpoint(127.0.0.1:62013): skipping send because there's an active ping in progress: 18128269235191945562!\n",
      "09:43:05.575184 [INFO ] - [F] send_pings for Endpoint(157.230.134.224:2016): skipping send because there's an active ping in progress: 1762832923625281424!\n",
      "09:43:05.775635 [INFO ] - [F] About to send pings to servers: [Endpoint(127.0.0.1:62013), Endpoint(157.230.134.224:2016)]\n",
      "09:43:05.775661 [INFO ] - [F] send_pings for Endpoint(127.0.0.1:62013): skipping send because there's an active ping in progress: 18128269235191945562!\n",
      "09:43:05.775667 [INFO ] - [F] send_pings for Endpoint(157.230.134.224:2016): skipping send because there's an active ping in progress: 1762832923625281424!\n",
      "09:43:05.975191 [INFO ] - [F] About to send pings to servers: [Endpoint(127.0.0.1:62013), Endpoint(157.230.134.224:2016)]\n",
      "09:43:05.975215 [INFO ] - [F] send_pings for Endpoint(127.0.0.1:62013): skipping send because there's an active ping in progress: 18128269235191945562!\n",
      "09:43:05.975221 [INFO ] - [F] send_pings for Endpoint(157.230.134.224:2016): skipping send because there's an active ping in progress: 1762832923625281424!\n"
     ]
    },
    {
     "name": "stdout",
     "output_type": "stream",
     "text": [
      "09:43:06.174948 [INFO ] - [F] About to send pings to servers: [Endpoint(127.0.0.1:62013), Endpoint(157.230.134.224:2016)]\n",
      "09:43:06.175027 [INFO ] - [F] send_pings for Endpoint(127.0.0.1:62013): skipping send because there's an active ping in progress: 18128269235191945562!\n",
      "09:43:06.175033 [INFO ] - [F] send_pings for Endpoint(157.230.134.224:2016): skipping send because there's an active ping in progress: 1762832923625281424!\n",
      "09:43:06.374649 [INFO ] - [F] About to send pings to servers: [Endpoint(127.0.0.1:62013), Endpoint(157.230.134.224:2016)]\n",
      "09:43:06.374676 [INFO ] - [F] send_pings for Endpoint(127.0.0.1:62013): skipping send because there's an active ping in progress: 18128269235191945562!\n",
      "09:43:06.374682 [INFO ] - [F] send_pings for Endpoint(157.230.134.224:2016): skipping send because there's an active ping in progress: 1762832923625281424!\n",
      "09:43:06.575628 [INFO ] - [F] About to send pings to servers: [Endpoint(127.0.0.1:62013), Endpoint(157.230.134.224:2016)]\n",
      "09:43:06.575655 [INFO ] - [F] send_pings for Endpoint(127.0.0.1:62013): skipping send because there's an active ping in progress: 18128269235191945562!\n",
      "09:43:06.575661 [INFO ] - [F] send_pings for Endpoint(157.230.134.224:2016): skipping send because there's an active ping in progress: 1762832923625281424!\n",
      "09:43:06.775028 [INFO ] - [F] About to send pings to servers: [Endpoint(127.0.0.1:62013), Endpoint(157.230.134.224:2016)]\n",
      "09:43:06.775086 [INFO ] - [F] send_pings for Endpoint(127.0.0.1:62013): skipping send because there's an active ping in progress: 18128269235191945562!\n",
      "09:43:06.775092 [INFO ] - [F] send_pings for Endpoint(157.230.134.224:2016): skipping send because there's an active ping in progress: 1762832923625281424!\n",
      "09:43:06.975533 [INFO ] - [F] About to send pings to servers: [Endpoint(127.0.0.1:62013), Endpoint(157.230.134.224:2016)]\n",
      "09:43:06.975556 [INFO ] - [F] send_pings for Endpoint(127.0.0.1:62013): skipping send because there's an active ping in progress: 18128269235191945562!\n",
      "09:43:06.975560 [INFO ] - [F] send_pings for Endpoint(157.230.134.224:2016): skipping send because there's an active ping in progress: 1762832923625281424!\n",
      "09:43:07.175049 [INFO ] - [F] About to send pings to servers: [Endpoint(127.0.0.1:62013), Endpoint(157.230.134.224:2016)]\n",
      "09:43:07.175095 [INFO ] - [F] send_pings for Endpoint(127.0.0.1:62013): skipping send because there's an active ping in progress: 18128269235191945562!\n",
      "09:43:07.175106 [INFO ] - [F] send_pings for Endpoint(157.230.134.224:2016): skipping send because there's an active ping in progress: 1762832923625281424!\n",
      "09:43:07.375144 [INFO ] - [F] About to send pings to servers: [Endpoint(127.0.0.1:62013), Endpoint(157.230.134.224:2016)]\n",
      "09:43:07.375166 [INFO ] - [F] send_pings for Endpoint(127.0.0.1:62013): skipping send because there's an active ping in progress: 18128269235191945562!\n",
      "09:43:07.375170 [INFO ] - [F] send_pings for Endpoint(157.230.134.224:2016): skipping send because there's an active ping in progress: 1762832923625281424!\n",
      "09:43:07.575019 [INFO ] - [F] About to send pings to servers: [Endpoint(127.0.0.1:62013), Endpoint(157.230.134.224:2016)]\n",
      "09:43:07.575044 [INFO ] - [F] send_pings for Endpoint(127.0.0.1:62013): skipping send because there's an active ping in progress: 18128269235191945562!\n",
      "09:43:07.575050 [INFO ] - [F] send_pings for Endpoint(157.230.134.224:2016): skipping send because there's an active ping in progress: 1762832923625281424!\n",
      "09:43:07.775006 [INFO ] - [F] About to send pings to servers: [Endpoint(127.0.0.1:62013), Endpoint(157.230.134.224:2016)]\n",
      "09:43:07.775032 [INFO ] - [F] send_pings for Endpoint(127.0.0.1:62013): skipping send because there's an active ping in progress: 18128269235191945562!\n",
      "09:43:07.775037 [INFO ] - [F] send_pings for Endpoint(157.230.134.224:2016): skipping send because there's an active ping in progress: 1762832923625281424!\n",
      "09:43:07.975058 [INFO ] - [F] About to send pings to servers: [Endpoint(127.0.0.1:62013), Endpoint(157.230.134.224:2016)]\n",
      "09:43:07.975089 [INFO ] - [F] send_pings for Endpoint(127.0.0.1:62013): skipping send because there's an active ping in progress: 18128269235191945562!\n",
      "09:43:07.975094 [INFO ] - [F] send_pings for Endpoint(157.230.134.224:2016): skipping send because there's an active ping in progress: 1762832923625281424!\n",
      "09:43:08.175599 [INFO ] - [F] About to send pings to servers: [Endpoint(127.0.0.1:62013), Endpoint(157.230.134.224:2016)]\n",
      "09:43:08.175688 [INFO ] - [F] send_pings for Endpoint(127.0.0.1:62013): skipping send because there's an active ping in progress: 18128269235191945562!\n",
      "09:43:08.175705 [INFO ] - [F] send_pings for Endpoint(157.230.134.224:2016): skipping send because there's an active ping in progress: 1762832923625281424!\n",
      "09:43:08.375042 [INFO ] - [F] About to send pings to servers: [Endpoint(127.0.0.1:62013), Endpoint(157.230.134.224:2016)]\n",
      "09:43:08.375066 [INFO ] - [F] send_pings for Endpoint(127.0.0.1:62013): skipping send because there's an active ping in progress: 18128269235191945562!\n",
      "09:43:08.375073 [INFO ] - [F] send_pings for Endpoint(157.230.134.224:2016): skipping send because there's an active ping in progress: 1762832923625281424!\n",
      "09:43:08.575112 [INFO ] - [F] About to send pings to servers: [Endpoint(127.0.0.1:62013), Endpoint(157.230.134.224:2016)]\n",
      "09:43:08.575134 [INFO ] - [F] send_pings for Endpoint(127.0.0.1:62013): skipping send because there's an active ping in progress: 18128269235191945562!\n",
      "09:43:08.575139 [INFO ] - [F] send_pings for Endpoint(157.230.134.224:2016): skipping send because there's an active ping in progress: 1762832923625281424!\n",
      "09:43:08.774840 [INFO ] - [F] About to send pings to servers: [Endpoint(127.0.0.1:62013), Endpoint(157.230.134.224:2016)]\n",
      "09:43:08.774860 [INFO ] - [F] send_pings for Endpoint(127.0.0.1:62013): skipping send because there's an active ping in progress: 18128269235191945562!\n",
      "09:43:08.774866 [INFO ] - [F] send_pings for Endpoint(157.230.134.224:2016): skipping send because there's an active ping in progress: 1762832923625281424!\n",
      "09:43:08.975080 [INFO ] - [F] About to send pings to servers: [Endpoint(127.0.0.1:62013), Endpoint(157.230.134.224:2016)]\n",
      "09:43:08.975102 [INFO ] - [F] send_pings for Endpoint(127.0.0.1:62013): skipping send because there's an active ping in progress: 18128269235191945562!\n",
      "09:43:08.975108 [INFO ] - [F] send_pings for Endpoint(157.230.134.224:2016): skipping send because there's an active ping in progress: 1762832923625281424!\n",
      "09:43:09.174772 [INFO ] - [F] About to send pings to servers: [Endpoint(127.0.0.1:62013), Endpoint(157.230.134.224:2016)]\n",
      "09:43:09.174885 [INFO ] - [F] send_pings for Endpoint(127.0.0.1:62013): skipping send because there's an active ping in progress: 18128269235191945562!\n",
      "09:43:09.174900 [INFO ] - [F] send_pings for Endpoint(157.230.134.224:2016): skipping send because there's an active ping in progress: 1762832923625281424!\n",
      "09:43:09.374985 [INFO ] - [F] About to send pings to servers: [Endpoint(127.0.0.1:62013), Endpoint(157.230.134.224:2016)]\n",
      "09:43:09.375011 [INFO ] - [F] send_pings for Endpoint(127.0.0.1:62013): skipping send because there's an active ping in progress: 18128269235191945562!\n",
      "09:43:09.375017 [INFO ] - [F] send_pings for Endpoint(157.230.134.224:2016): skipping send because there's an active ping in progress: 1762832923625281424!\n",
      "09:43:09.575162 [INFO ] - [F] About to send pings to servers: [Endpoint(127.0.0.1:62013), Endpoint(157.230.134.224:2016)]\n",
      "09:43:09.575188 [INFO ] - [F] send_pings for Endpoint(127.0.0.1:62013): skipping send because there's an active ping in progress: 18128269235191945562!\n",
      "09:43:09.575196 [INFO ] - [F] send_pings for Endpoint(157.230.134.224:2016): skipping send because there's an active ping in progress: 1762832923625281424!\n",
      "09:43:09.775050 [INFO ] - [F] About to send pings to servers: [Endpoint(127.0.0.1:62013), Endpoint(157.230.134.224:2016)]\n",
      "09:43:09.775076 [INFO ] - [F] send_pings for Endpoint(127.0.0.1:62013): skipping send because there's an active ping in progress: 18128269235191945562!\n",
      "09:43:09.775080 [INFO ] - [F] send_pings for Endpoint(157.230.134.224:2016): skipping send because there's an active ping in progress: 1762832923625281424!\n",
      "09:43:09.975243 [INFO ] - [F] About to send pings to servers: [Endpoint(127.0.0.1:62013), Endpoint(157.230.134.224:2016)]\n",
      "09:43:09.975279 [INFO ] - [F] send_pings for Endpoint(127.0.0.1:62013): skipping send because there's an active ping in progress: 18128269235191945562!\n",
      "09:43:09.975289 [INFO ] - [F] send_pings for Endpoint(157.230.134.224:2016): skipping send because there's an active ping in progress: 1762832923625281424!\n"
     ]
    },
    {
     "name": "stdout",
     "output_type": "stream",
     "text": [
      "09:43:10.174949 [INFO ] - [F] About to send pings to servers: [Endpoint(127.0.0.1:62013), Endpoint(157.230.134.224:2016)]\n",
      "09:43:10.175003 [INFO ] - [F] send_pings for Endpoint(127.0.0.1:62013): skipping send because there's an active ping in progress: 18128269235191945562!\n",
      "09:43:10.175012 [INFO ] - [F] send_pings for Endpoint(157.230.134.224:2016): skipping send because there's an active ping in progress: 1762832923625281424!\n",
      "09:43:10.375256 [INFO ] - [F] About to send pings to servers: [Endpoint(127.0.0.1:62013), Endpoint(157.230.134.224:2016)]\n",
      "09:43:10.375283 [INFO ] - [F] send_pings for Endpoint(127.0.0.1:62013): skipping send because there's an active ping in progress: 18128269235191945562!\n",
      "09:43:10.375290 [INFO ] - [F] send_pings for Endpoint(157.230.134.224:2016): skipping send because there's an active ping in progress: 1762832923625281424!\n",
      "09:43:10.575191 [INFO ] - [F] About to send pings to servers: [Endpoint(127.0.0.1:62013), Endpoint(157.230.134.224:2016)]\n",
      "09:43:10.575220 [INFO ] - [F] send_pings for Endpoint(127.0.0.1:62013): skipping send because there's an active ping in progress: 18128269235191945562!\n",
      "09:43:10.575227 [INFO ] - [F] send_pings for Endpoint(157.230.134.224:2016): skipping send because there's an active ping in progress: 1762832923625281424!\n",
      "09:43:10.775419 [INFO ] - [F] About to send pings to servers: [Endpoint(127.0.0.1:62013), Endpoint(157.230.134.224:2016)]\n",
      "09:43:10.775442 [INFO ] - [F] send_pings for Endpoint(127.0.0.1:62013): skipping send because there's an active ping in progress: 18128269235191945562!\n",
      "09:43:10.775448 [INFO ] - [F] send_pings for Endpoint(157.230.134.224:2016): skipping send because there's an active ping in progress: 1762832923625281424!\n",
      "09:43:10.975124 [INFO ] - [F] About to send pings to servers: [Endpoint(127.0.0.1:62013), Endpoint(157.230.134.224:2016)]\n",
      "09:43:10.975148 [INFO ] - [F] send_pings for Endpoint(127.0.0.1:62013): skipping send because there's an active ping in progress: 18128269235191945562!\n",
      "09:43:10.975152 [INFO ] - [F] send_pings for Endpoint(157.230.134.224:2016): skipping send because there's an active ping in progress: 1762832923625281424!\n",
      "09:43:11.175305 [INFO ] - [F] About to send pings to servers: [Endpoint(127.0.0.1:62013), Endpoint(157.230.134.224:2016)]\n",
      "09:43:11.175354 [INFO ] - [F] send_pings for Endpoint(127.0.0.1:62013): skipping send because there's an active ping in progress: 18128269235191945562!\n",
      "09:43:11.175364 [INFO ] - [F] send_pings for Endpoint(157.230.134.224:2016): skipping send because there's an active ping in progress: 1762832923625281424!\n",
      "09:43:11.375104 [INFO ] - [F] About to send pings to servers: [Endpoint(127.0.0.1:62013), Endpoint(157.230.134.224:2016)]\n",
      "09:43:11.375129 [INFO ] - [F] send_pings for Endpoint(127.0.0.1:62013): skipping send because there's an active ping in progress: 18128269235191945562!\n",
      "09:43:11.375136 [INFO ] - [F] send_pings for Endpoint(157.230.134.224:2016): skipping send because there's an active ping in progress: 1762832923625281424!\n",
      "09:43:11.575192 [INFO ] - [F] About to send pings to servers: [Endpoint(127.0.0.1:62013), Endpoint(157.230.134.224:2016)]\n",
      "09:43:11.575217 [INFO ] - [F] send_pings for Endpoint(127.0.0.1:62013): skipping send because there's an active ping in progress: 18128269235191945562!\n",
      "09:43:11.575224 [INFO ] - [F] send_pings for Endpoint(157.230.134.224:2016): skipping send because there's an active ping in progress: 1762832923625281424!\n",
      "09:43:11.775643 [INFO ] - [F] About to send pings to servers: [Endpoint(127.0.0.1:62013), Endpoint(157.230.134.224:2016)]\n",
      "09:43:11.775672 [INFO ] - [F] send_pings for Endpoint(127.0.0.1:62013): skipping send because there's an active ping in progress: 18128269235191945562!\n",
      "09:43:11.775682 [INFO ] - [F] send_pings for Endpoint(157.230.134.224:2016): skipping send because there's an active ping in progress: 1762832923625281424!\n",
      "09:43:11.975155 [INFO ] - [F] About to send pings to servers: [Endpoint(127.0.0.1:62013), Endpoint(157.230.134.224:2016)]\n",
      "09:43:11.975202 [INFO ] - [F] send_pings for Endpoint(127.0.0.1:62013): skipping send because there's an active ping in progress: 18128269235191945562!\n",
      "09:43:11.975210 [INFO ] - [F] send_pings for Endpoint(157.230.134.224:2016): skipping send because there's an active ping in progress: 1762832923625281424!\n"
     ]
    },
    {
     "data": {
      "text/plain": [
       "[]"
      ]
     },
     "execution_count": 15,
     "metadata": {},
     "output_type": "execute_result"
    }
   ],
   "source": [
    "time.sleep(10.0)\n",
    "client_notifications = client_fiface.get_notifications()\n",
    "client_notifications"
   ]
  },
  {
   "cell_type": "code",
   "execution_count": 16,
   "id": "14369ed8",
   "metadata": {
    "scrolled": true
   },
   "outputs": [
    {
     "name": "stdout",
     "output_type": "stream",
     "text": [
      "\u001b[33mLTI(client)138 skipped 137: received transport_cmd SendPackets { endpoint: Endpoint(127.0.0.1:62013), packet_infos: [PacketSettings { tid: ProcessUniqueId { prefix: 0, offset: 0 }, retry_interval: 0ns }], packets: [GetStatus { ping: PingPong { nonce: 18128269235191945562 } }] }\u001b[0m\n",
      "09:43:12.034873 [TRACE] - [T<-F,C] Processing command SendPackets { endpoint: Endpoint(127.0.0.1:62013), packet_infos: [PacketSettings { tid: ProcessUniqueId { prefix: 0, offset: 0 }, retry_interval: 0ns }], packets: [GetStatus { ping: PingPong { nonce: 18128269235191945562 } }] }\n",
      "09:43:12.034968 [TRACE] - [T<-UDP] GetStatus { ping: PingPong { nonce: 18128269235191945562 } }\n"
     ]
    },
    {
     "data": {
      "text/plain": [
       "Accepted"
      ]
     },
     "execution_count": 16,
     "metadata": {},
     "output_type": "execute_result"
    },
    {
     "name": "stdout",
     "output_type": "stream",
     "text": [
      "09:43:12.035803 [TRACE] - [F<-A,C] New command: ClearPingEndpoints\n",
      "09:43:12.035821 [INFO ] - [F<-A,C] clearing ping endpoints: [Endpoint(127.0.0.1:62013), Endpoint(157.230.134.224:2016)]\n"
     ]
    }
   ],
   "source": [
    "await client_fiface.command_response(FilterCmdW(\"clearpingendpoints\"))"
   ]
  },
  {
   "cell_type": "code",
   "execution_count": 17,
   "id": "7e747ddf",
   "metadata": {},
   "outputs": [
    {
     "data": {
      "text/plain": [
       "[]"
      ]
     },
     "execution_count": 17,
     "metadata": {},
     "output_type": "execute_result"
    }
   ],
   "source": [
    "client_notifications = client_fiface.get_notifications()\n",
    "client_notifications"
   ]
  },
  {
   "cell_type": "markdown",
   "id": "ab50b81d",
   "metadata": {},
   "source": [
    "### Now shutdown"
   ]
  },
  {
   "cell_type": "code",
   "execution_count": null,
   "id": "ce1d2b49",
   "metadata": {},
   "outputs": [
    {
     "name": "stdout",
     "output_type": "stream",
     "text": [
      "\u001b[33mLTI(client)139: got transport notifications: []\u001b[0m\n",
      "09:43:12.058832 [TRACE] - [F<-T,N] For Endpoint(127.0.0.1:51131), took packet GetStatus { ping: PingPong { nonce: 18128269235191945562 } }\n",
      "09:43:12.058861 [INFO ] - [F] Sending Status packet PingPong { nonce: 18128269235191945562 } back to client Endpoint(127.0.0.1:51131)\n",
      "\u001b[33mLTI(client)140: got transport_rsp back from Transport layer: TransportRsp::Accepted\u001b[0m\n",
      "09:43:12.060581 [TRACE] - [F<-A,C] New command: Shutdown { graceful: true }\n",
      "09:43:12.060604 [INFO ] - [F] shutting down\n",
      "\u001b[35mLTI(server)440 skipped 439: received transport_cmd SendPackets { endpoint: Endpoint(127.0.0.1:51131), packet_infos: [PacketSettings { tid: ProcessUniqueId { prefix: 0, offset: 2 }, retry_interval: 0ns }], packets: [Status { pong: PingPong { nonce: 18128269235191945562 }, server_version: \"placeholder server version\", player_count: 1234, room_count: 12456, server_name: \"placeholder server name\" }] }\u001b[0m\n",
      "\u001b[33mLTI(client)141 skipped 0: received transport_cmd SendPackets { endpoint: Endpoint(157.230.134.224:2016), packet_infos: [PacketSettings { tid: ProcessUniqueId { prefix: 0, offset: 1 }, retry_interval: 0ns }], packets: [GetStatus { ping: PingPong { nonce: 1762832923625281424 } }] }\u001b[0m\n",
      "09:43:12.061209 [TRACE] - [T<-F,C] Processing command SendPackets { endpoint: Endpoint(127.0.0.1:51131), packet_infos: [PacketSettings { tid: ProcessUniqueId { prefix: 0, offset: 2 }, retry_interval: 0ns }], packets: [Status { pong: PingPong { nonce: 18128269235191945562 }, server_version: \"placeholder server version\", player_count: 1234, room_count: 12456, server_name: \"placeholder server name\" }] }\n",
      "09:43:12.061329 [TRACE] - [T<-UDP] Status { pong: PingPong { nonce: 18128269235191945562 }, server_version: \"placeholder server version\", player_count: 1234, room_count: 12456, server_name: \"placeholder server name\" }\n",
      "09:43:12.061388 [TRACE] - [T<-F,C] Processing command SendPackets { endpoint: Endpoint(157.230.134.224:2016), packet_infos: [PacketSettings { tid: ProcessUniqueId { prefix: 0, offset: 1 }, retry_interval: 0ns }], packets: [GetStatus { ping: PingPong { nonce: 1762832923625281424 } }] }\n",
      "\u001b[35mLTI(server)441: got transport_rsp back from Transport layer: TransportRsp::Accepted\u001b[0m\n",
      "\u001b[33mLTI(client)142: got transport_rsp back from Transport layer: TransportRsp::Accepted\u001b[0m\n",
      "\u001b[33mLTI(client)143: received transport_cmd DropPacket { endpoint: Endpoint(127.0.0.1:62013), tid: ProcessUniqueId { prefix: 0, offset: 0 } }\u001b[0m\n",
      "09:43:12.061820 [TRACE] - [F<-T,R] Command Accepted\n",
      "09:43:12.062062 [TRACE] - [T<-F,C] Processing command DropPacket { endpoint: Endpoint(127.0.0.1:62013), tid: ProcessUniqueId { prefix: 0, offset: 0 } }\n",
      "\u001b[33mLTI(client)144: got transport_rsp back from Transport layer: TransportRsp::Accepted\u001b[0m\n",
      "\u001b[33mLTI(client)145: received transport_cmd DropEndpoint { endpoint: Endpoint(127.0.0.1:62013) }\u001b[0m\n",
      "\u001b[33mLTI(client)146: got transport_rsp back from Transport layer: TransportRsp::Accepted\u001b[0m\n",
      "\u001b[33mLTI(client)147: received transport_cmd DropPacket { endpoint: Endpoint(157.230.134.224:2016), tid: ProcessUniqueId { prefix: 0, offset: 1 } }\u001b[0m\n",
      "\u001b[33mLTI(client)148: got transport_rsp back from Transport layer: TransportRsp::Accepted\u001b[0m\n",
      "\u001b[33mLTI(client)149: received transport_cmd DropEndpoint { endpoint: Endpoint(157.230.134.224:2016) }\u001b[0m\n",
      "\u001b[33mLTI(client)150: got transport_rsp back from Transport layer: TransportRsp::Accepted\u001b[0m\n",
      "09:43:12.062741 [TRACE] - [T<-F,C] Processing command DropEndpoint { endpoint: Endpoint(127.0.0.1:62013) }\n",
      "09:43:12.063115 [TRACE] - [T<-F,C] Processing command DropPacket { endpoint: Endpoint(157.230.134.224:2016), tid: ProcessUniqueId { prefix: 0, offset: 1 } }\n",
      "09:43:12.063500 [TRACE] - [T<-F,C] Processing command DropEndpoint { endpoint: Endpoint(157.230.134.224:2016) }\n",
      "09:43:12.088432 [TRACE] - [T<-UDP] Status { pong: PingPong { nonce: 1762832923625281424 }, server_version: \"0.3.5\", player_count: 0, room_count: 1, server_name: \"Official Conwayste\" }\n",
      "\u001b[35mLTI(server)442: got transport notifications: []\u001b[0m\n",
      "\u001b[33mLTI(client)151: got transport notifications: [TransportNotice::PacketDelivery { endpoint: Endpoint(127.0.0.1:62013), packet: Status { pong: PingPong { nonce: 18128269235191945562 }, server_version: \"placeholder server version\", player_count: 1234, room_count: 12456, server_name: \"placeholder server name\" } }, TransportNotice::PacketDelivery { endpoint: Endpoint(157.230.134.224:2016), packet: Status { pong: PingPong { nonce: 1762832923625281424 }, server_version: \"0.3.5\", player_count: 0, room_count: 1, server_name: \"Official Conwayste\" } }]\u001b[0m\n",
      "\u001b[33mLTI(client)152: got transport notifications: []\u001b[0m\n",
      "09:43:17.071341 [INFO ] - [F<-T,N] Endpoint(127.0.0.1:51131) timed-out. Dropping.\n",
      "\u001b[35mLTI(server)603 skipped 160: received transport_cmd DropEndpoint { endpoint: Endpoint(127.0.0.1:51131) }\u001b[0m\n",
      "09:43:17.071657 [TRACE] - [T<-F,C] Processing command DropEndpoint { endpoint: Endpoint(127.0.0.1:51131) }\n",
      "\u001b[35mLTI(server)604: got transport_rsp back from Transport layer: TransportRsp::Accepted\u001b[0m\n",
      "09:43:17.071905 [TRACE] - [F<-T,R] Command Accepted\n",
      "\u001b[35mLTI(server)605: got transport notifications: []\u001b[0m\n"
     ]
    }
   ],
   "source": [
    "await client_fiface.command_response(FilterCmdW(\"shutdown\", graceful=True))"
   ]
  }
 ],
 "metadata": {
  "kernelspec": {
   "display_name": "Python 3 (ipykernel)",
   "language": "python",
   "name": "python3"
  },
  "language_info": {
   "codemirror_mode": {
    "name": "ipython",
    "version": 3
   },
   "file_extension": ".py",
   "mimetype": "text/x-python",
   "name": "python",
   "nbconvert_exporter": "python",
   "pygments_lexer": "ipython3",
   "version": "3.10.9"
  },
  "vscode": {
   "interpreter": {
    "hash": "916dbcbb3f70747c44a77c7bcd40155683ae19c65e1c03b4aa3499c5328201f1"
   }
  }
 },
 "nbformat": 4,
 "nbformat_minor": 5
}
