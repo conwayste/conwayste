{
 "cells": [
  {
   "cell_type": "markdown",
   "id": "aba2c68e",
   "metadata": {},
   "source": [
    "# Boilerplate"
   ]
  },
  {
   "cell_type": "code",
   "execution_count": 1,
   "id": "bf75903d",
   "metadata": {},
   "outputs": [],
   "source": [
    "import sys\n",
    "sys.path.insert(0, 'venv/lib/python3.10/site-packages')\n",
    "import asyncio\n",
    "import time\n",
    "import base64\n",
    "\n",
    "from nwv2_python_wrapper import *\n",
    "import nwv2_python_wrapper\n",
    "init_logging()"
   ]
  },
  {
   "cell_type": "markdown",
   "id": "4b39dc18",
   "metadata": {},
   "source": [
    "# Run"
   ]
  },
  {
   "cell_type": "markdown",
   "id": "a2c354f3",
   "metadata": {},
   "source": [
    "List all Python wrappers"
   ]
  },
  {
   "cell_type": "code",
   "execution_count": 2,
   "id": "37227bf5",
   "metadata": {},
   "outputs": [
    {
     "data": {
      "text/plain": [
       "['BroadcastChatMessageW',\n",
       " 'EndpointW',\n",
       " 'FilterCmdW',\n",
       " 'FilterInterface',\n",
       " 'FilterModeW',\n",
       " 'FilterNoticeW',\n",
       " 'FilterRspW',\n",
       " 'GameOptionsW',\n",
       " 'GameOutcomeW',\n",
       " 'GameUpdateW',\n",
       " 'GenPartInfoW',\n",
       " 'GenStateDiffPartW',\n",
       " 'GenStateDiffW',\n",
       " 'NetRegionW',\n",
       " 'PacketSettingsW',\n",
       " 'PacketW',\n",
       " 'PlayerInfoW',\n",
       " 'ProcessUniqueIdW',\n",
       " 'RequestActionW',\n",
       " 'ResponseCodeW',\n",
       " 'RoomListW',\n",
       " 'TransportCmdW',\n",
       " 'TransportInterface',\n",
       " 'TransportNoticeW',\n",
       " 'TransportRspW',\n",
       " 'UniUpdateW',\n",
       " 'debug_hello',\n",
       " 'init_logging',\n",
       " 'new_transport_interface']"
      ]
     },
     "execution_count": 2,
     "metadata": {},
     "output_type": "execute_result"
    }
   ],
   "source": [
    "[f for f in dir(nwv2_python_wrapper) if not f.startswith('__') and f != 'nwv2_python_wrapper']"
   ]
  },
  {
   "cell_type": "markdown",
   "id": "e28d4512",
   "metadata": {},
   "source": [
    "## Transport layer setup"
   ]
  },
  {
   "cell_type": "markdown",
   "id": "5d9622f6",
   "metadata": {},
   "source": [
    "Create a Client and Server Transport layer and run each in the background."
   ]
  },
  {
   "cell_type": "code",
   "execution_count": 3,
   "id": "495f6d91",
   "metadata": {},
   "outputs": [],
   "source": [
    "# Temporary workaround until the random port generated from `0` passed in can be obtained\n",
    "SERVER_PORT = 62013"
   ]
  },
  {
   "cell_type": "code",
   "execution_count": 4,
   "id": "38346200",
   "metadata": {},
   "outputs": [
    {
     "name": "stdout",
     "output_type": "stream",
     "text": [
      "17:54:39.913157 [TRACE] - registering event source with poller: token=Token(0), interests=READABLE | WRITABLE\n",
      "17:54:39.915533 [INFO ] - [T] Attempting to bind to 0.0.0.0:0\n",
      "17:54:39.915627 [TRACE] - registering event source with poller: token=Token(1), interests=READABLE | WRITABLE\n",
      "17:54:39.923852 [INFO ] - [T] Attempting to bind to 0.0.0.0:62013\n",
      "17:54:39.938940 [TRACE] - registering event source with poller: token=Token(2), interests=READABLE | WRITABLE\n"
     ]
    },
    {
     "data": {
      "text/plain": [
       "<Future pending cb=[<builtins.PyDoneCallback object at 0x7fb4d540ce70>()]>"
      ]
     },
     "execution_count": 4,
     "metadata": {},
     "output_type": "execute_result"
    }
   ],
   "source": [
    "client_tiface_inner = await new_transport_interface(\"0.0.0.0\", 0)\n",
    "client_tiface_inner.run()\n",
    "\n",
    "server_tiface_inner = await new_transport_interface(\"0.0.0.0\", SERVER_PORT)\n",
    "server_tiface_inner.run()"
   ]
  },
  {
   "cell_type": "markdown",
   "id": "36a04bac",
   "metadata": {},
   "source": [
    "## Wrap the PYO3 Transport Interface in a Python class with the same methods"
   ]
  },
  {
   "cell_type": "markdown",
   "id": "9d109c58",
   "metadata": {},
   "source": [
    "Note that there is no `run()`. Hence, the passed in `TransportInterface` instance must have already had its `run()` method called."
   ]
  },
  {
   "cell_type": "code",
   "execution_count": 5,
   "id": "ab35c95a",
   "metadata": {},
   "outputs": [
    {
     "data": {
      "text/plain": [
       "{'c': <__main__.LoggingTransportInterface at 0x7fb4d55cf970>,\n",
       " 's': <__main__.LoggingTransportInterface at 0x7fb4d55cc070>}"
      ]
     },
     "execution_count": 5,
     "metadata": {},
     "output_type": "execute_result"
    }
   ],
   "source": [
    "# ANSI escape codes for colors\n",
    "CRESET    = '\\33[0m'\n",
    "CGREEN  = '\\33[32m'\n",
    "CYELLOW = '\\33[33m'\n",
    "CVIOLET = '\\33[35m'\n",
    "\n",
    "import datetime\n",
    "t = lambda: datetime.datetime.now().strftime(\"%H:%M:%S.%f\")\n",
    "\n",
    "\n",
    "def cprint(tag, message):\n",
    "    if tag == \"client\":\n",
    "        color = CYELLOW\n",
    "    elif tag == \"server\":\n",
    "        color = CVIOLET\n",
    "    else:\n",
    "        color = CGREEN\n",
    "    print(f\"{color}{t()} {message}{CRESET}\", flush=True)\n",
    " \n",
    "#cprint = lambda tag, message: None    # Uncomment this to disable Python logging\n",
    "class LoggingTransportInterface:\n",
    "    def __init__(self, inner, tag):\n",
    "        self.inner = inner\n",
    "        self.ctr = 0\n",
    "        self.skipped_count = None\n",
    "        self.tag = tag\n",
    "        \n",
    "    async def command_response(self, transport_cmd):\n",
    "        cprint(self.tag, f\"LTI({self.tag}){self.ctr}{self.skipped()}: received transport_cmd {transport_cmd}\")\n",
    "        self.ctr += 1\n",
    "        transport_rsp = await self.inner.command_response(transport_cmd)\n",
    "        cprint(self.tag, f\"LTI({self.tag}){self.ctr}: got transport_rsp back from Transport layer: {transport_rsp}\")\n",
    "        self.ctr += 1\n",
    "        return transport_rsp\n",
    "    \n",
    "    def get_notifications(self):\n",
    "        transport_notif_list = self.inner.get_notifications()\n",
    "        if self.skipped_count is None:\n",
    "            cprint(self.tag, f\"LTI({self.tag}){self.ctr}: got transport notifications: {transport_notif_list}\")\n",
    "            self.skipped_count = 0\n",
    "            if len(transport_notif_list) > 0:\n",
    "                self.reset()\n",
    "        else:\n",
    "            self.skipped_count += 1\n",
    "        self.ctr += 1\n",
    "        return transport_notif_list\n",
    "    \n",
    "    def skipped(self):\n",
    "        if self.skipped_count is None:\n",
    "            return \"\"\n",
    "        count = self.skipped_count\n",
    "        self.skipped_count = None\n",
    "        return f\" skipped {count}\"\n",
    "    \n",
    "    def reset(self):\n",
    "        self.skipped_count = None\n",
    "        \n",
    "client_tiface = LoggingTransportInterface(client_tiface_inner, \"client\")\n",
    "server_tiface = LoggingTransportInterface(server_tiface_inner, \"server\")\n",
    "{\"c\": client_tiface, \"s\": server_tiface}"
   ]
  },
  {
   "cell_type": "markdown",
   "id": "344a2a3f",
   "metadata": {},
   "source": [
    "# Filter layer setup"
   ]
  },
  {
   "cell_type": "code",
   "execution_count": 6,
   "id": "6fa2ab7b",
   "metadata": {},
   "outputs": [
    {
     "data": {
      "text/plain": [
       "{'c': <FilterInterface at 0x7fb4d413c500>,\n",
       " 's': <FilterInterface at 0x7fb4d413c3d0>}"
      ]
     },
     "execution_count": 6,
     "metadata": {},
     "output_type": "execute_result"
    }
   ],
   "source": [
    "client_fiface = FilterInterface(client_tiface, FilterModeW(\"client\"))\n",
    "server_fiface = FilterInterface(server_tiface, FilterModeW(\"server\"))\n",
    "\n",
    "{\"c\": client_fiface, \"s\": server_fiface}"
   ]
  },
  {
   "cell_type": "markdown",
   "id": "82345b04",
   "metadata": {},
   "source": [
    "Find methods to run"
   ]
  },
  {
   "cell_type": "code",
   "execution_count": 7,
   "id": "5e2d7d02",
   "metadata": {
    "scrolled": true
   },
   "outputs": [
    {
     "data": {
      "text/plain": [
       "['command',\n",
       " 'command_response',\n",
       " 'get_notifications',\n",
       " 'notif_poll_ms',\n",
       " 'response',\n",
       " 'run']"
      ]
     },
     "execution_count": 7,
     "metadata": {},
     "output_type": "execute_result"
    }
   ],
   "source": [
    "[m for m in dir(client_fiface) if not m.startswith('__')]"
   ]
  },
  {
   "cell_type": "markdown",
   "id": "794804e3",
   "metadata": {},
   "source": [
    "Run Client and Server Filter!"
   ]
  },
  {
   "cell_type": "code",
   "execution_count": 8,
   "id": "5cda3921",
   "metadata": {},
   "outputs": [
    {
     "name": "stdout",
     "output_type": "stream",
     "text": [
      "\u001b[35m17:54:40.023651 LTI(server)0: got transport notifications: []\u001b[0m\u001b[33m17:54:40.024265 LTI(client)0: got transport notifications: []\u001b[0m\n",
      "17:54:40.025574 [INFO ] - [F] About to send pings to servers: []\n",
      "\n"
     ]
    }
   ],
   "source": [
    "client_fiface_fut = client_fiface.run()\n",
    "server_fiface_fut = server_fiface.run()\n",
    "\n",
    "# After waiting a bit, the above future should not have completed\n",
    "time.sleep(0.1)\n",
    "assert not client_fiface_fut.done() and not server_fiface_fut.done()"
   ]
  },
  {
   "cell_type": "code",
   "execution_count": 9,
   "id": "598eed8b",
   "metadata": {},
   "outputs": [],
   "source": [
    "client_fiface.notif_poll_ms = 100\n"
   ]
  },
  {
   "cell_type": "markdown",
   "id": "f713c42a",
   "metadata": {},
   "source": [
    "## Filter layer operation for Pings"
   ]
  },
  {
   "cell_type": "markdown",
   "id": "17a3b5a9",
   "metadata": {},
   "source": [
    "### As a client, add server (both our local and Chococat) as ping endpoints"
   ]
  },
  {
   "cell_type": "code",
   "execution_count": 10,
   "id": "8f35a23d",
   "metadata": {},
   "outputs": [
    {
     "name": "stdout",
     "output_type": "stream",
     "text": [
      "17:54:40.223561 [INFO ] - [F] About to send pings to servers: []\n",
      "17:54:40.423629 [INFO ] - [F] About to send pings to servers: []\n"
     ]
    },
    {
     "data": {
      "text/plain": [
       "'157.230.134.224'"
      ]
     },
     "execution_count": 10,
     "metadata": {},
     "output_type": "execute_result"
    }
   ],
   "source": [
    "import socket\n",
    "choco_ip = socket.gethostbyname_ex('chococat.conwayste.rs')[-1][0]\n",
    "choco_ip"
   ]
  },
  {
   "cell_type": "markdown",
   "id": "b7ab350a",
   "metadata": {},
   "source": [
    "# !!! COMMENTED OUT server_ept BELOW !!!"
   ]
  },
  {
   "cell_type": "code",
   "execution_count": 11,
   "id": "3b3a1776",
   "metadata": {},
   "outputs": [
    {
     "data": {
      "text/plain": [
       "AddPingEndpoints { endpoints: [Endpoint(157.230.134.224:2016)] }"
      ]
     },
     "execution_count": 11,
     "metadata": {},
     "output_type": "execute_result"
    }
   ],
   "source": [
    "#server_ept = EndpointW(f\"127.0.0.1:{SERVER_PORT}\")\n",
    "choco_ept  = EndpointW(f\"{choco_ip}:2016\")\n",
    "\n",
    "filter_cmd = FilterCmdW(\"addpingendpoints\", endpoints=[choco_ept])  # endpoints=[server_ept, choco_ept])\n",
    "filter_cmd"
   ]
  },
  {
   "cell_type": "code",
   "execution_count": 12,
   "id": "7b4b5724",
   "metadata": {
    "scrolled": true
   },
   "outputs": [
    {
     "name": "stdout",
     "output_type": "stream",
     "text": [
      "17:54:40.612191 [TRACE] - [F<-A,C] New command: AddPingEndpoints { endpoints: [Endpoint(157.230.134.224:2016)] }\n"
     ]
    },
    {
     "data": {
      "text/plain": [
       "Accepted"
      ]
     },
     "execution_count": 12,
     "metadata": {},
     "output_type": "execute_result"
    }
   ],
   "source": [
    "await client_fiface.command_response(filter_cmd)"
   ]
  },
  {
   "cell_type": "markdown",
   "id": "8199735f",
   "metadata": {},
   "source": [
    "### Here be dragons\n",
    "\n",
    "Unblock the Python async event loop by running some random async code. IDK why?\n",
    "\n",
    "**Anyway,** I just copied this shit from StackOverflow with slight modifications for Jupyter (event loop already running): https://stackoverflow.com/a/53420574"
   ]
  },
  {
   "cell_type": "code",
   "execution_count": 13,
   "id": "ba2fc216",
   "metadata": {},
   "outputs": [
    {
     "name": "stdout",
     "output_type": "stream",
     "text": [
      "Task A: Computing 0+117:54:40.623944 [INFO ] - [F] About to send pings to servers: [Endpoint(157.230.134.224:2016)]\n",
      "\n",
      "Time: 0.00\n",
      "Task B: Computing 0+1\n",
      "Time: 0.00\n",
      "\u001b[33m17:54:40.625605 LTI(client)9 skipped 8: received transport_cmd SendPackets { endpoint: Endpoint(157.230.134.224:2016), packet_infos: [PacketSettings { tid: ProcessUniqueId { prefix: 0, offset: 0 }, retry_interval: 0ns }], packets: [GetStatus { ping: PingPong { nonce: 15316352245136124142 } }] }\u001b[0m\n",
      "17:54:40.628500 [TRACE] - [T<-F,C] Processing command SendPackets { endpoint: Endpoint(157.230.134.224:2016), packet_infos: [PacketSettings { tid: ProcessUniqueId { prefix: 0, offset: 0 }, retry_interval: 0ns }], packets: [GetStatus { ping: PingPong { nonce: 15316352245136124142 } }] }\n",
      "\u001b[33m17:54:40.630096 LTI(client)10: got transport_rsp back from Transport layer: TransportRsp::Accepted\u001b[0m\n",
      "17:54:40.631894 [TRACE] - [F<-T,R] Command Accepted\n",
      "17:54:40.655922 [TRACE] - [T<-UDP] Status { pong: PingPong { nonce: 15316352245136124142 }, server_version: \"0.3.5\", player_count: 0, room_count: 1, server_name: \"Official Conwayste\" }\n",
      "\u001b[33m17:54:40.657089 LTI(client)11: got transport notifications: [TransportNotice::PacketDelivery { endpoint: Endpoint(157.230.134.224:2016), packet: Status { pong: PingPong { nonce: 15316352245136124142 }, server_version: \"0.3.5\", player_count: 0, room_count: 1, server_name: \"Official Conwayste\" } }]\u001b[0m\n",
      "17:54:40.658476 [TRACE] - [F<-T,N] For Endpoint(157.230.134.224:2016), took packet Status { pong: PingPong { nonce: 15316352245136124142 }, server_version: \"0.3.5\", player_count: 0, room_count: 1, server_name: \"Official Conwayste\" }\n",
      "17:54:40.658520 [INFO ] - [F] Latency for remote server Endpoint(157.230.134.224:2016) is None\n",
      "\u001b[33m17:54:40.759816 LTI(client)12: got transport notifications: []\u001b[0m\n",
      "17:54:40.824407 [INFO ] - [F] About to send pings to servers: [Endpoint(157.230.134.224:2016)]\n",
      "\u001b[33m17:54:40.824739 LTI(client)13 skipped 0: received transport_cmd SendPackets { endpoint: Endpoint(157.230.134.224:2016), packet_infos: [PacketSettings { tid: ProcessUniqueId { prefix: 0, offset: 1 }, retry_interval: 0ns }], packets: [GetStatus { ping: PingPong { nonce: 6889923936722281332 } }] }\u001b[0m\n",
      "\u001b[33m17:54:40.826100 LTI(client)14: got transport_rsp back from Transport layer: TransportRsp::Accepted\u001b[0m\n",
      "17:54:40.825760 [TRACE] - [T<-F,C] Processing command SendPackets { endpoint: Endpoint(157.230.134.224:2016), packet_infos: [PacketSettings { tid: ProcessUniqueId { prefix: 0, offset: 1 }, retry_interval: 0ns }], packets: [GetStatus { ping: PingPong { nonce: 6889923936722281332 } }] }\n",
      "17:54:40.827303 [TRACE] - [F<-T,R] Command Accepted\n",
      "17:54:40.851454 [TRACE] - [T<-UDP] Status { pong: PingPong { nonce: 6889923936722281332 }, server_version: \"0.3.5\", player_count: 0, room_count: 1, server_name: \"Official Conwayste\" }\n",
      "\u001b[33m17:54:40.861817 LTI(client)15: got transport notifications: [TransportNotice::PacketDelivery { endpoint: Endpoint(157.230.134.224:2016), packet: Status { pong: PingPong { nonce: 6889923936722281332 }, server_version: \"0.3.5\", player_count: 0, room_count: 1, server_name: \"Official Conwayste\" } }]\u001b[0m\n",
      "17:54:40.865240 [TRACE] - [F<-T,N] For Endpoint(157.230.134.224:2016), took packet Status { pong: PingPong { nonce: 6889923936722281332 }, server_version: \"0.3.5\", player_count: 0, room_count: 1, server_name: \"Official Conwayste\" }\n",
      "17:54:40.865276 [INFO ] - [F] Latency for remote server Endpoint(157.230.134.224:2016) is None\n",
      "\u001b[33m17:54:40.965996 LTI(client)16: got transport notifications: []\u001b[0m\n",
      "17:54:41.024365 [INFO ] - [F] About to send pings to servers: [Endpoint(157.230.134.224:2016)]\n",
      "\u001b[33m17:54:41.024683 LTI(client)17 skipped 0: received transport_cmd SendPackets { endpoint: Endpoint(157.230.134.224:2016), packet_infos: [PacketSettings { tid: ProcessUniqueId { prefix: 1, offset: 0 }, retry_interval: 0ns }], packets: [GetStatus { ping: PingPong { nonce: 1578008162315119731 } }] }\u001b[0m\n",
      "17:54:41.025265 [TRACE] - [T<-F,C] Processing command SendPackets { endpoint: Endpoint(157.230.134.224:2016), packet_infos: [PacketSettings { tid: ProcessUniqueId { prefix: 1, offset: 0 }, retry_interval: 0ns }], packets: [GetStatus { ping: PingPong { nonce: 1578008162315119731 } }] }\n",
      "\u001b[33m17:54:41.026315 LTI(client)18: got transport_rsp back from Transport layer: TransportRsp::Accepted\u001b[0m\n",
      "17:54:41.026983 [TRACE] - [F<-T,R] Command Accepted\n",
      "17:54:41.049551 [TRACE] - [T<-UDP] Status { pong: PingPong { nonce: 1578008162315119731 }, server_version: \"0.3.5\", player_count: 0, room_count: 1, server_name: \"Official Conwayste\" }\n",
      "\u001b[33m17:54:41.068347 LTI(client)19: got transport notifications: [TransportNotice::PacketDelivery { endpoint: Endpoint(157.230.134.224:2016), packet: Status { pong: PingPong { nonce: 1578008162315119731 }, server_version: \"0.3.5\", player_count: 0, room_count: 1, server_name: \"Official Conwayste\" } }]\u001b[0m\n",
      "17:54:41.069264 [TRACE] - [F<-T,N] For Endpoint(157.230.134.224:2016), took packet Status { pong: PingPong { nonce: 1578008162315119731 }, server_version: \"0.3.5\", player_count: 0, room_count: 1, server_name: \"Official Conwayste\" }\n",
      "17:54:41.069293 [INFO ] - [F] Latency for remote server Endpoint(157.230.134.224:2016) is None\n",
      "\u001b[33m17:54:41.169844 LTI(client)20: got transport notifications: []\u001b[0m\n",
      "17:54:41.224431 [INFO ] - [F] About to send pings to servers: [Endpoint(157.230.134.224:2016)]\n",
      "\u001b[33m17:54:41.224736 LTI(client)21 skipped 0: received transport_cmd SendPackets { endpoint: Endpoint(157.230.134.224:2016), packet_infos: [PacketSettings { tid: ProcessUniqueId { prefix: 1, offset: 1 }, retry_interval: 0ns }], packets: [GetStatus { ping: PingPong { nonce: 7964224796433858793 } }] }\u001b[0m\n",
      "17:54:41.225382 [TRACE] - [T<-F,C] Processing command SendPackets { endpoint: Endpoint(157.230.134.224:2016), packet_infos: [PacketSettings { tid: ProcessUniqueId { prefix: 1, offset: 1 }, retry_interval: 0ns }], packets: [GetStatus { ping: PingPong { nonce: 7964224796433858793 } }] }\n",
      "\u001b[33m17:54:41.226662 LTI(client)22: got transport_rsp back from Transport layer: TransportRsp::Accepted\u001b[0m\n",
      "17:54:41.227194 [TRACE] - [F<-T,R] Command Accepted\n",
      "17:54:41.249619 [TRACE] - [T<-UDP] Status { pong: PingPong { nonce: 7964224796433858793 }, server_version: \"0.3.5\", player_count: 0, room_count: 1, server_name: \"Official Conwayste\" }\n",
      "\u001b[33m17:54:41.272377 LTI(client)23: got transport notifications: [TransportNotice::PacketDelivery { endpoint: Endpoint(157.230.134.224:2016), packet: Status { pong: PingPong { nonce: 7964224796433858793 }, server_version: \"0.3.5\", player_count: 0, room_count: 1, server_name: \"Official Conwayste\" } }]\u001b[0m\n",
      "17:54:41.273804 [TRACE] - [F<-T,N] For Endpoint(157.230.134.224:2016), took packet Status { pong: PingPong { nonce: 7964224796433858793 }, server_version: \"0.3.5\", player_count: 0, room_count: 1, server_name: \"Official Conwayste\" }\n",
      "17:54:41.273861 [INFO ] - [F] Latency for remote server Endpoint(157.230.134.224:2016) is None\n",
      "\u001b[33m17:54:41.374777 LTI(client)24: got transport notifications: []\u001b[0m\n",
      "17:54:41.423328 [INFO ] - [F] About to send pings to servers: [Endpoint(157.230.134.224:2016)]\n",
      "\u001b[33m17:54:41.424445 LTI(client)25 skipped 0: received transport_cmd SendPackets { endpoint: Endpoint(157.230.134.224:2016), packet_infos: [PacketSettings { tid: ProcessUniqueId { prefix: 2, offset: 0 }, retry_interval: 0ns }], packets: [GetStatus { ping: PingPong { nonce: 6286671867149777893 } }] }\u001b[0m\n",
      "17:54:41.425912 [TRACE] - [T<-F,C] Processing command SendPackets { endpoint: Endpoint(157.230.134.224:2016), packet_infos: [PacketSettings { tid: ProcessUniqueId { prefix: 2, offset: 0 }, retry_interval: 0ns }], packets: [GetStatus { ping: PingPong { nonce: 6286671867149777893 } }] }\n",
      "\u001b[33m17:54:41.426560 LTI(client)26: got transport_rsp back from Transport layer: TransportRsp::Accepted\u001b[0m\n",
      "17:54:41.427349 [TRACE] - [F<-T,R] Command Accepted\n",
      "17:54:41.451766 [TRACE] - [T<-UDP] Status { pong: PingPong { nonce: 6286671867149777893 }, server_version: \"0.3.5\", player_count: 0, room_count: 1, server_name: \"Official Conwayste\" }\n",
      "\u001b[33m17:54:41.476799 LTI(client)27: got transport notifications: [TransportNotice::PacketDelivery { endpoint: Endpoint(157.230.134.224:2016), packet: Status { pong: PingPong { nonce: 6286671867149777893 }, server_version: \"0.3.5\", player_count: 0, room_count: 1, server_name: \"Official Conwayste\" } }]\u001b[0m\n"
     ]
    },
    {
     "name": "stdout",
     "output_type": "stream",
     "text": [
      "17:54:41.479310 [TRACE] - [F<-T,N] For Endpoint(157.230.134.224:2016), took packet Status { pong: PingPong { nonce: 6286671867149777893 }, server_version: \"0.3.5\", player_count: 0, room_count: 1, server_name: \"Official Conwayste\" }\n",
      "17:54:41.479374 [INFO ] - [F] Latency for remote server Endpoint(157.230.134.224:2016) is Some(23)\n",
      "\u001b[33m17:54:41.579658 LTI(client)28: got transport notifications: []\u001b[0m\n",
      "17:54:41.624057 [INFO ] - [F] About to send pings to servers: [Endpoint(157.230.134.224:2016)]\n",
      "\u001b[33m17:54:41.625347 LTI(client)29 skipped 0: received transport_cmd SendPackets { endpoint: Endpoint(157.230.134.224:2016), packet_infos: [PacketSettings { tid: ProcessUniqueId { prefix: 0, offset: 2 }, retry_interval: 0ns }], packets: [GetStatus { ping: PingPong { nonce: 2582219751946802826 } }] }\u001b[0m\n",
      "Task A: Computing 1+2\n",
      "Time: 1.00\n",
      "Task B: Computing 1+2\n",
      "Time: 1.00\n",
      "17:54:41.626777 [TRACE] - [T<-F,C] Processing command SendPackets { endpoint: Endpoint(157.230.134.224:2016), packet_infos: [PacketSettings { tid: ProcessUniqueId { prefix: 0, offset: 2 }, retry_interval: 0ns }], packets: [GetStatus { ping: PingPong { nonce: 2582219751946802826 } }] }\n",
      "\u001b[33m17:54:41.627176 LTI(client)30: got transport_rsp back from Transport layer: TransportRsp::Accepted\u001b[0m\n",
      "17:54:41.628318 [TRACE] - [F<-T,R] Command Accepted\n",
      "17:54:41.650714 [TRACE] - [T<-UDP] Status { pong: PingPong { nonce: 2582219751946802826 }, server_version: \"0.3.5\", player_count: 0, room_count: 1, server_name: \"Official Conwayste\" }\n",
      "\u001b[33m17:54:41.681698 LTI(client)31: got transport notifications: [TransportNotice::PacketDelivery { endpoint: Endpoint(157.230.134.224:2016), packet: Status { pong: PingPong { nonce: 2582219751946802826 }, server_version: \"0.3.5\", player_count: 0, room_count: 1, server_name: \"Official Conwayste\" } }]\u001b[0m\n",
      "17:54:41.683149 [TRACE] - [F<-T,N] For Endpoint(157.230.134.224:2016), took packet Status { pong: PingPong { nonce: 2582219751946802826 }, server_version: \"0.3.5\", player_count: 0, room_count: 1, server_name: \"Official Conwayste\" }\n",
      "17:54:41.683215 [INFO ] - [F] Latency for remote server Endpoint(157.230.134.224:2016) is Some(25)\n",
      "\u001b[33m17:54:41.784001 LTI(client)32: got transport notifications: []\u001b[0m\n",
      "17:54:41.824057 [INFO ] - [F] About to send pings to servers: [Endpoint(157.230.134.224:2016)]\n",
      "\u001b[33m17:54:41.824696 LTI(client)33 skipped 0: received transport_cmd SendPackets { endpoint: Endpoint(157.230.134.224:2016), packet_infos: [PacketSettings { tid: ProcessUniqueId { prefix: 1, offset: 2 }, retry_interval: 0ns }], packets: [GetStatus { ping: PingPong { nonce: 9446613831501553631 } }] }\u001b[0m\n",
      "17:54:41.825692 [TRACE] - [T<-F,C] Processing command SendPackets { endpoint: Endpoint(157.230.134.224:2016), packet_infos: [PacketSettings { tid: ProcessUniqueId { prefix: 1, offset: 2 }, retry_interval: 0ns }], packets: [GetStatus { ping: PingPong { nonce: 9446613831501553631 } }] }\n",
      "\u001b[33m17:54:41.825912 LTI(client)34: got transport_rsp back from Transport layer: TransportRsp::Accepted\u001b[0m\n",
      "17:54:41.827103 [TRACE] - [F<-T,R] Command Accepted\n",
      "17:54:41.849154 [TRACE] - [T<-UDP] Status { pong: PingPong { nonce: 9446613831501553631 }, server_version: \"0.3.5\", player_count: 0, room_count: 1, server_name: \"Official Conwayste\" }\n",
      "\u001b[33m17:54:41.886308 LTI(client)35: got transport notifications: [TransportNotice::PacketDelivery { endpoint: Endpoint(157.230.134.224:2016), packet: Status { pong: PingPong { nonce: 9446613831501553631 }, server_version: \"0.3.5\", player_count: 0, room_count: 1, server_name: \"Official Conwayste\" } }]\u001b[0m\n",
      "17:54:41.887478 [TRACE] - [F<-T,N] For Endpoint(157.230.134.224:2016), took packet Status { pong: PingPong { nonce: 9446613831501553631 }, server_version: \"0.3.5\", player_count: 0, room_count: 1, server_name: \"Official Conwayste\" }\n",
      "17:54:41.887509 [INFO ] - [F] Latency for remote server Endpoint(157.230.134.224:2016) is Some(28)\n",
      "\u001b[33m17:54:41.988550 LTI(client)36: got transport notifications: []\u001b[0m\n",
      "17:54:42.023549 [INFO ] - [F] About to send pings to servers: [Endpoint(157.230.134.224:2016)]\n",
      "\u001b[33m17:54:42.024188 LTI(client)37 skipped 0: received transport_cmd SendPackets { endpoint: Endpoint(157.230.134.224:2016), packet_infos: [PacketSettings { tid: ProcessUniqueId { prefix: 2, offset: 1 }, retry_interval: 0ns }], packets: [GetStatus { ping: PingPong { nonce: 12895206504178649444 } }] }\u001b[0m\n",
      "17:54:42.025535 [TRACE] - [T<-F,C] Processing command SendPackets { endpoint: Endpoint(157.230.134.224:2016), packet_infos: [PacketSettings { tid: ProcessUniqueId { prefix: 2, offset: 1 }, retry_interval: 0ns }], packets: [GetStatus { ping: PingPong { nonce: 12895206504178649444 } }] }\n",
      "\u001b[33m17:54:42.025971 LTI(client)38: got transport_rsp back from Transport layer: TransportRsp::Accepted\u001b[0m\n",
      "17:54:42.026859 [TRACE] - [F<-T,R] Command Accepted\n",
      "17:54:42.051100 [TRACE] - [T<-UDP] Status { pong: PingPong { nonce: 12895206504178649444 }, server_version: \"0.3.5\", player_count: 0, room_count: 1, server_name: \"Official Conwayste\" }\n",
      "\u001b[33m17:54:42.091323 LTI(client)39: got transport notifications: [TransportNotice::PacketDelivery { endpoint: Endpoint(157.230.134.224:2016), packet: Status { pong: PingPong { nonce: 12895206504178649444 }, server_version: \"0.3.5\", player_count: 0, room_count: 1, server_name: \"Official Conwayste\" } }]\u001b[0m\n",
      "17:54:42.092107 [TRACE] - [F<-T,N] For Endpoint(157.230.134.224:2016), took packet Status { pong: PingPong { nonce: 12895206504178649444 }, server_version: \"0.3.5\", player_count: 0, room_count: 1, server_name: \"Official Conwayste\" }\n",
      "17:54:42.092143 [INFO ] - [F] Latency for remote server Endpoint(157.230.134.224:2016) is Some(30)\n",
      "\u001b[33m17:54:42.192548 LTI(client)40: got transport notifications: []\u001b[0m\n",
      "17:54:42.223391 [INFO ] - [F] About to send pings to servers: [Endpoint(157.230.134.224:2016)]\n",
      "\u001b[33m17:54:42.223905 LTI(client)41 skipped 0: received transport_cmd SendPackets { endpoint: Endpoint(157.230.134.224:2016), packet_infos: [PacketSettings { tid: ProcessUniqueId { prefix: 1, offset: 3 }, retry_interval: 0ns }], packets: [GetStatus { ping: PingPong { nonce: 4943340065701850857 } }] }\u001b[0m\n",
      "17:54:42.224444 [TRACE] - [T<-F,C] Processing command SendPackets { endpoint: Endpoint(157.230.134.224:2016), packet_infos: [PacketSettings { tid: ProcessUniqueId { prefix: 1, offset: 3 }, retry_interval: 0ns }], packets: [GetStatus { ping: PingPong { nonce: 4943340065701850857 } }] }\n",
      "\u001b[33m17:54:42.224701 LTI(client)42: got transport_rsp back from Transport layer: TransportRsp::Accepted\u001b[0m\n",
      "17:54:42.225643 [TRACE] - [F<-T,R] Command Accepted\n",
      "17:54:42.249303 [TRACE] - [T<-UDP] Status { pong: PingPong { nonce: 4943340065701850857 }, server_version: \"0.3.5\", player_count: 0, room_count: 1, server_name: \"Official Conwayste\" }\n",
      "\u001b[33m17:54:42.294674 LTI(client)43: got transport notifications: [TransportNotice::PacketDelivery { endpoint: Endpoint(157.230.134.224:2016), packet: Status { pong: PingPong { nonce: 4943340065701850857 }, server_version: \"0.3.5\", player_count: 0, room_count: 1, server_name: \"Official Conwayste\" } }]\u001b[0m\n",
      "17:54:42.296127 [TRACE] - [F<-T,N] For Endpoint(157.230.134.224:2016), took packet Status { pong: PingPong { nonce: 4943340065701850857 }, server_version: \"0.3.5\", player_count: 0, room_count: 1, server_name: \"Official Conwayste\" }\n",
      "17:54:42.296177 [INFO ] - [F] Latency for remote server Endpoint(157.230.134.224:2016) is Some(32)\n",
      "\u001b[33m17:54:42.397576 LTI(client)44: got transport notifications: []\u001b[0m\n",
      "\u001b[33m17:54:42.425778 LTI(client)45 skipped 0: received transport_cmd SendPackets { endpoint: Endpoint(157.230.134.224:2016), packet_infos: [PacketSettings { tid: ProcessUniqueId { prefix: 0, offset: 3 }, retry_interval: 0ns }], packets: [GetStatus { ping: PingPong { nonce: 2388099686841935519 } }] }\u001b[0m\n",
      "17:54:42.424396 [INFO ] - [F] About to send pings to servers: [Endpoint(157.230.134.224:2016)]\n",
      "17:54:42.427418 [TRACE] - [T<-F,C] Processing command SendPackets { endpoint: Endpoint(157.230.134.224:2016), packet_infos: [PacketSettings { tid: ProcessUniqueId { prefix: 0, offset: 3 }, retry_interval: 0ns }], packets: [GetStatus { ping: PingPong { nonce: 2388099686841935519 } }] }\n",
      "\u001b[33m17:54:42.427648 LTI(client)46: got transport_rsp back from Transport layer: TransportRsp::Accepted\u001b[0m\n"
     ]
    },
    {
     "name": "stdout",
     "output_type": "stream",
     "text": [
      "17:54:42.428770 [TRACE] - [F<-T,R] Command Accepted\n",
      "17:54:42.451010 [TRACE] - [T<-UDP] Status { pong: PingPong { nonce: 2388099686841935519 }, server_version: \"0.3.5\", player_count: 0, room_count: 1, server_name: \"Official Conwayste\" }\n",
      "\u001b[33m17:54:42.500748 LTI(client)47: got transport notifications: [TransportNotice::PacketDelivery { endpoint: Endpoint(157.230.134.224:2016), packet: Status { pong: PingPong { nonce: 2388099686841935519 }, server_version: \"0.3.5\", player_count: 0, room_count: 1, server_name: \"Official Conwayste\" } }]\u001b[0m\n",
      "17:54:42.501628 [TRACE] - [F<-T,N] For Endpoint(157.230.134.224:2016), took packet Status { pong: PingPong { nonce: 2388099686841935519 }, server_version: \"0.3.5\", player_count: 0, room_count: 1, server_name: \"Official Conwayste\" }\n",
      "17:54:42.501655 [INFO ] - [F] Latency for remote server Endpoint(157.230.134.224:2016) is Some(35)\n",
      "\u001b[33m17:54:42.602438 LTI(client)48: got transport notifications: []\u001b[0m\n",
      "17:54:42.624031 [INFO ] - [F] About to send pings to servers: [Endpoint(157.230.134.224:2016)]\n",
      "\u001b[33m17:54:42.624828 LTI(client)49 skipped 0: received transport_cmd SendPackets { endpoint: Endpoint(157.230.134.224:2016), packet_infos: [PacketSettings { tid: ProcessUniqueId { prefix: 0, offset: 4 }, retry_interval: 0ns }], packets: [GetStatus { ping: PingPong { nonce: 15930278228343919001 } }] }\u001b[0m\n",
      "17:54:42.625475 [TRACE] - [T<-F,C] Processing command SendPackets { endpoint: Endpoint(157.230.134.224:2016), packet_infos: [PacketSettings { tid: ProcessUniqueId { prefix: 0, offset: 4 }, retry_interval: 0ns }], packets: [GetStatus { ping: PingPong { nonce: 15930278228343919001 } }] }\n",
      "\u001b[33m17:54:42.626208 LTI(client)50: got transport_rsp back from Transport layer: TransportRsp::Accepted\u001b[0m\n",
      "Task A: Sum = 3\n",
      "\n",
      "Task B: Computing 3+3\n",
      "Time: 2.00\n",
      "17:54:42.627505 [TRACE] - [F<-T,R] Command Accepted\n",
      "17:54:42.650004 [TRACE] - [T<-UDP] Status { pong: PingPong { nonce: 15930278228343919001 }, server_version: \"0.3.5\", player_count: 0, room_count: 1, server_name: \"Official Conwayste\" }\n",
      "\u001b[33m17:54:42.704581 LTI(client)51: got transport notifications: [TransportNotice::PacketDelivery { endpoint: Endpoint(157.230.134.224:2016), packet: Status { pong: PingPong { nonce: 15930278228343919001 }, server_version: \"0.3.5\", player_count: 0, room_count: 1, server_name: \"Official Conwayste\" } }]\u001b[0m\n",
      "17:54:42.705566 [TRACE] - [F<-T,N] For Endpoint(157.230.134.224:2016), took packet Status { pong: PingPong { nonce: 15930278228343919001 }, server_version: \"0.3.5\", player_count: 0, room_count: 1, server_name: \"Official Conwayste\" }\n",
      "17:54:42.705598 [INFO ] - [F] Latency for remote server Endpoint(157.230.134.224:2016) is Some(37)\n",
      "\u001b[33m17:54:42.807140 LTI(client)52: got transport notifications: []\u001b[0m\n",
      "17:54:42.823419 [INFO ] - [F] About to send pings to servers: [Endpoint(157.230.134.224:2016)]\n",
      "\u001b[33m17:54:42.823881 LTI(client)53 skipped 0: received transport_cmd SendPackets { endpoint: Endpoint(157.230.134.224:2016), packet_infos: [PacketSettings { tid: ProcessUniqueId { prefix: 1, offset: 4 }, retry_interval: 0ns }], packets: [GetStatus { ping: PingPong { nonce: 2188648810392656817 } }] }\u001b[0m\n",
      "17:54:42.824469 [TRACE] - [T<-F,C] Processing command SendPackets { endpoint: Endpoint(157.230.134.224:2016), packet_infos: [PacketSettings { tid: ProcessUniqueId { prefix: 1, offset: 4 }, retry_interval: 0ns }], packets: [GetStatus { ping: PingPong { nonce: 2188648810392656817 } }] }\n",
      "\u001b[33m17:54:42.824839 LTI(client)54: got transport_rsp back from Transport layer: TransportRsp::Accepted\u001b[0m\n",
      "17:54:42.826538 [TRACE] - [F<-T,R] Command Accepted\n",
      "17:54:42.848980 [TRACE] - [T<-UDP] Status { pong: PingPong { nonce: 2188648810392656817 }, server_version: \"0.3.5\", player_count: 0, room_count: 1, server_name: \"Official Conwayste\" }\n",
      "\u001b[33m17:54:42.909182 LTI(client)55: got transport notifications: [TransportNotice::PacketDelivery { endpoint: Endpoint(157.230.134.224:2016), packet: Status { pong: PingPong { nonce: 2188648810392656817 }, server_version: \"0.3.5\", player_count: 0, room_count: 1, server_name: \"Official Conwayste\" } }]\u001b[0m\n",
      "17:54:42.914000 [TRACE] - [F<-T,N] For Endpoint(157.230.134.224:2016), took packet Status { pong: PingPong { nonce: 2188648810392656817 }, server_version: \"0.3.5\", player_count: 0, room_count: 1, server_name: \"Official Conwayste\" }\n",
      "17:54:42.914080 [INFO ] - [F] Latency for remote server Endpoint(157.230.134.224:2016) is Some(40)\n",
      "\u001b[33m17:54:43.014555 LTI(client)56: got transport notifications: []\u001b[0m\n",
      "17:54:43.023798 [INFO ] - [F] About to send pings to servers: [Endpoint(157.230.134.224:2016)]\n",
      "\u001b[33m17:54:43.024105 LTI(client)57 skipped 0: received transport_cmd SendPackets { endpoint: Endpoint(157.230.134.224:2016), packet_infos: [PacketSettings { tid: ProcessUniqueId { prefix: 0, offset: 5 }, retry_interval: 0ns }], packets: [GetStatus { ping: PingPong { nonce: 1150520829971917137 } }] }\u001b[0m\n",
      "17:54:43.024767 [TRACE] - [T<-F,C] Processing command SendPackets { endpoint: Endpoint(157.230.134.224:2016), packet_infos: [PacketSettings { tid: ProcessUniqueId { prefix: 0, offset: 5 }, retry_interval: 0ns }], packets: [GetStatus { ping: PingPong { nonce: 1150520829971917137 } }] }\n",
      "\u001b[33m17:54:43.025313 LTI(client)58: got transport_rsp back from Transport layer: TransportRsp::Accepted\u001b[0m\n",
      "17:54:43.025986 [TRACE] - [F<-T,R] Command Accepted\n",
      "17:54:43.049785 [TRACE] - [T<-UDP] Status { pong: PingPong { nonce: 1150520829971917137 }, server_version: \"0.3.5\", player_count: 0, room_count: 1, server_name: \"Official Conwayste\" }\n",
      "\u001b[33m17:54:43.116523 LTI(client)59: got transport notifications: [TransportNotice::PacketDelivery { endpoint: Endpoint(157.230.134.224:2016), packet: Status { pong: PingPong { nonce: 1150520829971917137 }, server_version: \"0.3.5\", player_count: 0, room_count: 1, server_name: \"Official Conwayste\" } }]\u001b[0m\n",
      "17:54:43.117363 [TRACE] - [F<-T,N] For Endpoint(157.230.134.224:2016), took packet Status { pong: PingPong { nonce: 1150520829971917137 }, server_version: \"0.3.5\", player_count: 0, room_count: 1, server_name: \"Official Conwayste\" }\n",
      "17:54:43.117394 [INFO ] - [F] Latency for remote server Endpoint(157.230.134.224:2016) is Some(42)\n",
      "\u001b[33m17:54:43.218998 LTI(client)60: got transport notifications: []\u001b[0m\n",
      "17:54:43.223878 [INFO ] - [F] About to send pings to servers: [Endpoint(157.230.134.224:2016)]\n",
      "\u001b[33m17:54:43.224619 LTI(client)61 skipped 0: received transport_cmd SendPackets { endpoint: Endpoint(157.230.134.224:2016), packet_infos: [PacketSettings { tid: ProcessUniqueId { prefix: 1, offset: 5 }, retry_interval: 0ns }], packets: [GetStatus { ping: PingPong { nonce: 11339693074206577644 } }] }\u001b[0m\n",
      "17:54:43.225241 [TRACE] - [T<-F,C] Processing command SendPackets { endpoint: Endpoint(157.230.134.224:2016), packet_infos: [PacketSettings { tid: ProcessUniqueId { prefix: 1, offset: 5 }, retry_interval: 0ns }], packets: [GetStatus { ping: PingPong { nonce: 11339693074206577644 } }] }\n",
      "\u001b[33m17:54:43.225841 LTI(client)62: got transport_rsp back from Transport layer: TransportRsp::Accepted\u001b[0m\n",
      "17:54:43.226418 [TRACE] - [F<-T,R] Command Accepted\n",
      "17:54:43.248786 [TRACE] - [T<-UDP] Status { pong: PingPong { nonce: 11339693074206577644 }, server_version: \"0.3.5\", player_count: 0, room_count: 1, server_name: \"Official Conwayste\" }\n",
      "\u001b[33m17:54:43.320645 LTI(client)63: got transport notifications: [TransportNotice::PacketDelivery { endpoint: Endpoint(157.230.134.224:2016), packet: Status { pong: PingPong { nonce: 11339693074206577644 }, server_version: \"0.3.5\", player_count: 0, room_count: 1, server_name: \"Official Conwayste\" } }]\u001b[0m\n",
      "17:54:43.321486 [TRACE] - [F<-T,N] For Endpoint(157.230.134.224:2016), took packet Status { pong: PingPong { nonce: 11339693074206577644 }, server_version: \"0.3.5\", player_count: 0, room_count: 1, server_name: \"Official Conwayste\" }\n",
      "17:54:43.321516 [INFO ] - [F] Latency for remote server Endpoint(157.230.134.224:2016) is Some(45)\n",
      "\u001b[33m17:54:43.422716 LTI(client)64: got transport notifications: []\u001b[0m\n",
      "17:54:43.425151 [INFO ] - [F] About to send pings to servers: [Endpoint(157.230.134.224:2016)]\n",
      "\u001b[33m17:54:43.426491 LTI(client)65 skipped 0: received transport_cmd SendPackets { endpoint: Endpoint(157.230.134.224:2016), packet_infos: [PacketSettings { tid: ProcessUniqueId { prefix: 1, offset: 6 }, retry_interval: 0ns }], packets: [GetStatus { ping: PingPong { nonce: 13767917458042532214 } }] }\u001b[0m\n"
     ]
    },
    {
     "name": "stdout",
     "output_type": "stream",
     "text": [
      "17:54:43.428092 [TRACE] - [T<-F,C] Processing command SendPackets { endpoint: Endpoint(157.230.134.224:2016), packet_infos: [PacketSettings { tid: ProcessUniqueId { prefix: 1, offset: 6 }, retry_interval: 0ns }], packets: [GetStatus { ping: PingPong { nonce: 13767917458042532214 } }] }\n",
      "\u001b[33m17:54:43.428423 LTI(client)66: got transport_rsp back from Transport layer: TransportRsp::Accepted\u001b[0m\n",
      "17:54:43.431452 [TRACE] - [F<-T,R] Command Accepted\n",
      "17:54:43.452589 [TRACE] - [T<-UDP] Status { pong: PingPong { nonce: 13767917458042532214 }, server_version: \"0.3.5\", player_count: 0, room_count: 1, server_name: \"Official Conwayste\" }\n",
      "\u001b[33m17:54:43.525878 LTI(client)67: got transport notifications: [TransportNotice::PacketDelivery { endpoint: Endpoint(157.230.134.224:2016), packet: Status { pong: PingPong { nonce: 13767917458042532214 }, server_version: \"0.3.5\", player_count: 0, room_count: 1, server_name: \"Official Conwayste\" } }]\u001b[0m\n",
      "17:54:43.526933 [TRACE] - [F<-T,N] For Endpoint(157.230.134.224:2016), took packet Status { pong: PingPong { nonce: 13767917458042532214 }, server_version: \"0.3.5\", player_count: 0, room_count: 1, server_name: \"Official Conwayste\" }\n",
      "17:54:43.526968 [INFO ] - [F] Latency for remote server Endpoint(157.230.134.224:2016) is Some(47)\n",
      "17:54:43.623342 [INFO ] - [F] About to send pings to servers: [Endpoint(157.230.134.224:2016)]\n",
      "\u001b[33m17:54:43.623642 LTI(client)68: received transport_cmd SendPackets { endpoint: Endpoint(157.230.134.224:2016), packet_infos: [PacketSettings { tid: ProcessUniqueId { prefix: 0, offset: 6 }, retry_interval: 0ns }], packets: [GetStatus { ping: PingPong { nonce: 15425400246305596496 } }] }\u001b[0m\n",
      "17:54:43.624810 [TRACE] - [T<-F,C] Processing command SendPackets { endpoint: Endpoint(157.230.134.224:2016), packet_infos: [PacketSettings { tid: ProcessUniqueId { prefix: 0, offset: 6 }, retry_interval: 0ns }], packets: [GetStatus { ping: PingPong { nonce: 15425400246305596496 } }] }\n",
      "\u001b[33m17:54:43.625304 LTI(client)69: got transport_rsp back from Transport layer: TransportRsp::Accepted\u001b[0m\n",
      "17:54:43.626139 [TRACE] - [F<-T,R] Command Accepted\n",
      "\u001b[33m17:54:43.628422 LTI(client)70: got transport notifications: []\u001b[0m\n",
      "Task B: Sum = 6\n",
      "\n",
      "Time: 3.00 sec\n"
     ]
    }
   ],
   "source": [
    "import time\n",
    "import asyncio\n",
    "\n",
    "async def sleeper():\n",
    "    print(f'Time: {time.time() - start:.2f}')\n",
    "    await asyncio.sleep(1)\n",
    "async def sum(name, numbers):\n",
    "    total = 0\n",
    "    for number in numbers:\n",
    "        print(f'Task {name}: Computing {total}+{number}')\n",
    "        await sleeper()\n",
    "        total += number\n",
    "    print(f'Task {name}: Sum = {total}\\n')\n",
    "\n",
    "start = time.time()\n",
    "loop = asyncio.get_event_loop()\n",
    "tasks = [\n",
    "    loop.create_task(sum(\"A\", [1, 2])),\n",
    "    loop.create_task(sum(\"B\", [1, 2, 3])),\n",
    "]\n",
    "done, pending = await asyncio.wait(tasks)\n",
    "assert len(pending) == 0\n",
    "\n",
    "end = time.time()\n",
    "print(f'Time: {end-start:.2f} sec')"
   ]
  },
  {
   "cell_type": "markdown",
   "id": "f4617164",
   "metadata": {},
   "source": [
    "The client will repeatedly send pings. Need `LATENCY_FILTER_DEPTH` pings (currently 4) to be received back from server before we know the latency."
   ]
  },
  {
   "cell_type": "code",
   "execution_count": 14,
   "id": "508a922e",
   "metadata": {
    "scrolled": true
   },
   "outputs": [
    {
     "name": "stdout",
     "output_type": "stream",
     "text": [
      "17:54:43.649037 [TRACE] - [T<-UDP] Status { pong: PingPong { nonce: 15425400246305596496 }, server_version: \"0.3.5\", player_count: 0, room_count: 1, server_name: \"Official Conwayste\" }\n",
      "17:54:43.732250 [TRACE] - [F<-T,N] For Endpoint(157.230.134.224:2016), took packet Status { pong: PingPong { nonce: 15425400246305596496 }, server_version: \"0.3.5\", player_count: 0, room_count: 1, server_name: \"Official Conwayste\" }\n",
      "17:54:43.732278 [INFO ] - [F] Latency for remote server Endpoint(157.230.134.224:2016) is Some(49)\n",
      "17:54:43.823555 [INFO ] - [F] About to send pings to servers: [Endpoint(157.230.134.224:2016)]\n",
      "17:54:44.023473 [INFO ] - [F] About to send pings to servers: [Endpoint(157.230.134.224:2016)]\n",
      "17:54:44.223331 [INFO ] - [F] About to send pings to servers: [Endpoint(157.230.134.224:2016)]\n",
      "17:54:44.423923 [INFO ] - [F] About to send pings to servers: [Endpoint(157.230.134.224:2016)]\n",
      "17:54:44.624219 [INFO ] - [F] About to send pings to servers: [Endpoint(157.230.134.224:2016)]\n",
      "17:54:44.823604 [INFO ] - [F] About to send pings to servers: [Endpoint(157.230.134.224:2016)]\n",
      "17:54:45.023663 [INFO ] - [F] About to send pings to servers: [Endpoint(157.230.134.224:2016)]\n",
      "17:54:45.223593 [INFO ] - [F] About to send pings to servers: [Endpoint(157.230.134.224:2016)]\n",
      "17:54:45.423320 [INFO ] - [F] About to send pings to servers: [Endpoint(157.230.134.224:2016)]\n",
      "17:54:45.623747 [INFO ] - [F] About to send pings to servers: [Endpoint(157.230.134.224:2016)]\n",
      "17:54:45.824034 [INFO ] - [F] About to send pings to servers: [Endpoint(157.230.134.224:2016)]\n",
      "17:54:46.023402 [INFO ] - [F] About to send pings to servers: [Endpoint(157.230.134.224:2016)]\n",
      "17:54:46.223698 [INFO ] - [F] About to send pings to servers: [Endpoint(157.230.134.224:2016)]\n",
      "17:54:46.424341 [INFO ] - [F] About to send pings to servers: [Endpoint(157.230.134.224:2016)]\n",
      "17:54:46.623326 [INFO ] - [F] About to send pings to servers: [Endpoint(157.230.134.224:2016)]\n"
     ]
    },
    {
     "data": {
      "text/plain": [
       "[]"
      ]
     },
     "execution_count": 14,
     "metadata": {},
     "output_type": "execute_result"
    }
   ],
   "source": [
    "time.sleep(3.0)\n",
    "server_notifications = server_fiface.get_notifications()\n",
    "server_notifications"
   ]
  },
  {
   "cell_type": "code",
   "execution_count": 15,
   "id": "8430cea1",
   "metadata": {},
   "outputs": [
    {
     "data": {
      "text/plain": [
       "[PingResult { endpoint: Endpoint(157.230.134.224:2016), latency: None, server_name: \"Official Conwayste\", server_version: \"0.3.5\", room_count: 1, player_count: 0 },\n",
       " PingResult { endpoint: Endpoint(157.230.134.224:2016), latency: None, server_name: \"Official Conwayste\", server_version: \"0.3.5\", room_count: 1, player_count: 0 },\n",
       " PingResult { endpoint: Endpoint(157.230.134.224:2016), latency: None, server_name: \"Official Conwayste\", server_version: \"0.3.5\", room_count: 1, player_count: 0 },\n",
       " PingResult { endpoint: Endpoint(157.230.134.224:2016), latency: None, server_name: \"Official Conwayste\", server_version: \"0.3.5\", room_count: 1, player_count: 0 },\n",
       " PingResult { endpoint: Endpoint(157.230.134.224:2016), latency: Some(23), server_name: \"Official Conwayste\", server_version: \"0.3.5\", room_count: 1, player_count: 0 },\n",
       " PingResult { endpoint: Endpoint(157.230.134.224:2016), latency: Some(25), server_name: \"Official Conwayste\", server_version: \"0.3.5\", room_count: 1, player_count: 0 },\n",
       " PingResult { endpoint: Endpoint(157.230.134.224:2016), latency: Some(28), server_name: \"Official Conwayste\", server_version: \"0.3.5\", room_count: 1, player_count: 0 },\n",
       " PingResult { endpoint: Endpoint(157.230.134.224:2016), latency: Some(30), server_name: \"Official Conwayste\", server_version: \"0.3.5\", room_count: 1, player_count: 0 },\n",
       " PingResult { endpoint: Endpoint(157.230.134.224:2016), latency: Some(32), server_name: \"Official Conwayste\", server_version: \"0.3.5\", room_count: 1, player_count: 0 },\n",
       " PingResult { endpoint: Endpoint(157.230.134.224:2016), latency: Some(35), server_name: \"Official Conwayste\", server_version: \"0.3.5\", room_count: 1, player_count: 0 },\n",
       " PingResult { endpoint: Endpoint(157.230.134.224:2016), latency: Some(37), server_name: \"Official Conwayste\", server_version: \"0.3.5\", room_count: 1, player_count: 0 },\n",
       " PingResult { endpoint: Endpoint(157.230.134.224:2016), latency: Some(40), server_name: \"Official Conwayste\", server_version: \"0.3.5\", room_count: 1, player_count: 0 },\n",
       " PingResult { endpoint: Endpoint(157.230.134.224:2016), latency: Some(42), server_name: \"Official Conwayste\", server_version: \"0.3.5\", room_count: 1, player_count: 0 },\n",
       " PingResult { endpoint: Endpoint(157.230.134.224:2016), latency: Some(45), server_name: \"Official Conwayste\", server_version: \"0.3.5\", room_count: 1, player_count: 0 },\n",
       " PingResult { endpoint: Endpoint(157.230.134.224:2016), latency: Some(47), server_name: \"Official Conwayste\", server_version: \"0.3.5\", room_count: 1, player_count: 0 },\n",
       " PingResult { endpoint: Endpoint(157.230.134.224:2016), latency: Some(49), server_name: \"Official Conwayste\", server_version: \"0.3.5\", room_count: 1, player_count: 0 }]"
      ]
     },
     "execution_count": 15,
     "metadata": {},
     "output_type": "execute_result"
    }
   ],
   "source": [
    "client_notifications = client_fiface.get_notifications()\n",
    "client_notifications"
   ]
  },
  {
   "cell_type": "markdown",
   "id": "518e33cd",
   "metadata": {},
   "source": [
    "Sleeping again...."
   ]
  },
  {
   "cell_type": "code",
   "execution_count": 16,
   "id": "7e5a9914",
   "metadata": {},
   "outputs": [
    {
     "name": "stdout",
     "output_type": "stream",
     "text": [
      "17:54:46.823738 [INFO ] - [F] About to send pings to servers: [Endpoint(157.230.134.224:2016)]\n",
      "17:54:47.023371 [INFO ] - [F] About to send pings to servers: [Endpoint(157.230.134.224:2016)]\n",
      "17:54:47.223731 [INFO ] - [F] About to send pings to servers: [Endpoint(157.230.134.224:2016)]\n",
      "17:54:47.423922 [INFO ] - [F] About to send pings to servers: [Endpoint(157.230.134.224:2016)]\n",
      "17:54:47.623502 [INFO ] - [F] About to send pings to servers: [Endpoint(157.230.134.224:2016)]\n",
      "17:54:47.823917 [INFO ] - [F] About to send pings to servers: [Endpoint(157.230.134.224:2016)]\n",
      "17:54:48.023774 [INFO ] - [F] About to send pings to servers: [Endpoint(157.230.134.224:2016)]\n",
      "17:54:48.224402 [INFO ] - [F] About to send pings to servers: [Endpoint(157.230.134.224:2016)]\n",
      "17:54:48.423970 [INFO ] - [F] About to send pings to servers: [Endpoint(157.230.134.224:2016)]\n",
      "17:54:48.623895 [INFO ] - [F] About to send pings to servers: [Endpoint(157.230.134.224:2016)]\n",
      "17:54:48.686937 [INFO ] - [F<-T,N] Endpoint(157.230.134.224:2016) timed-out. Dropping.\n",
      "17:54:48.824001 [INFO ] - [F] About to send pings to servers: [Endpoint(157.230.134.224:2016)]\n",
      "17:54:49.024032 [INFO ] - [F] About to send pings to servers: [Endpoint(157.230.134.224:2016)]\n",
      "17:54:49.223778 [INFO ] - [F] About to send pings to servers: [Endpoint(157.230.134.224:2016)]\n",
      "17:54:49.423634 [INFO ] - [F] About to send pings to servers: [Endpoint(157.230.134.224:2016)]\n",
      "17:54:49.624345 [INFO ] - [F] About to send pings to servers: [Endpoint(157.230.134.224:2016)]\n",
      "17:54:49.823812 [INFO ] - [F] About to send pings to servers: [Endpoint(157.230.134.224:2016)]\n",
      "17:54:50.023906 [INFO ] - [F] About to send pings to servers: [Endpoint(157.230.134.224:2016)]\n",
      "17:54:50.224406 [INFO ] - [F] About to send pings to servers: [Endpoint(157.230.134.224:2016)]\n",
      "17:54:50.424340 [INFO ] - [F] About to send pings to servers: [Endpoint(157.230.134.224:2016)]\n",
      "17:54:50.623986 [INFO ] - [F] About to send pings to servers: [Endpoint(157.230.134.224:2016)]\n",
      "17:54:50.824091 [INFO ] - [F] About to send pings to servers: [Endpoint(157.230.134.224:2016)]\n",
      "17:54:51.023649 [INFO ] - [F] About to send pings to servers: [Endpoint(157.230.134.224:2016)]\n",
      "17:54:51.224139 [INFO ] - [F] About to send pings to servers: [Endpoint(157.230.134.224:2016)]\n",
      "17:54:51.424239 [INFO ] - [F] About to send pings to servers: [Endpoint(157.230.134.224:2016)]\n",
      "17:54:51.624145 [INFO ] - [F] About to send pings to servers: [Endpoint(157.230.134.224:2016)]\n",
      "17:54:51.824069 [INFO ] - [F] About to send pings to servers: [Endpoint(157.230.134.224:2016)]\n",
      "17:54:52.023374 [INFO ] - [F] About to send pings to servers: [Endpoint(157.230.134.224:2016)]\n",
      "17:54:52.224149 [INFO ] - [F] About to send pings to servers: [Endpoint(157.230.134.224:2016)]\n",
      "17:54:52.423977 [INFO ] - [F] About to send pings to servers: [Endpoint(157.230.134.224:2016)]\n",
      "17:54:52.623936 [INFO ] - [F] About to send pings to servers: [Endpoint(157.230.134.224:2016)]\n",
      "17:54:52.824124 [INFO ] - [F] About to send pings to servers: [Endpoint(157.230.134.224:2016)]\n",
      "17:54:53.023727 [INFO ] - [F] About to send pings to servers: [Endpoint(157.230.134.224:2016)]\n",
      "17:54:53.223398 [INFO ] - [F] About to send pings to servers: [Endpoint(157.230.134.224:2016)]\n",
      "17:54:53.423687 [INFO ] - [F] About to send pings to servers: [Endpoint(157.230.134.224:2016)]\n",
      "17:54:53.623923 [INFO ] - [F] About to send pings to servers: [Endpoint(157.230.134.224:2016)]\n",
      "17:54:53.823971 [INFO ] - [F] About to send pings to servers: [Endpoint(157.230.134.224:2016)]\n",
      "17:54:54.023853 [INFO ] - [F] About to send pings to servers: [Endpoint(157.230.134.224:2016)]\n",
      "17:54:54.223351 [INFO ] - [F] About to send pings to servers: [Endpoint(157.230.134.224:2016)]\n",
      "17:54:54.424415 [INFO ] - [F] About to send pings to servers: [Endpoint(157.230.134.224:2016)]\n",
      "17:54:54.624176 [INFO ] - [F] About to send pings to servers: [Endpoint(157.230.134.224:2016)]\n",
      "17:54:54.824242 [INFO ] - [F] About to send pings to servers: [Endpoint(157.230.134.224:2016)]\n",
      "17:54:55.023791 [INFO ] - [F] About to send pings to servers: [Endpoint(157.230.134.224:2016)]\n",
      "17:54:55.223706 [INFO ] - [F] About to send pings to servers: [Endpoint(157.230.134.224:2016)]\n",
      "17:54:55.423648 [INFO ] - [F] About to send pings to servers: [Endpoint(157.230.134.224:2016)]\n",
      "17:54:55.623624 [INFO ] - [F] About to send pings to servers: [Endpoint(157.230.134.224:2016)]\n",
      "17:54:55.823877 [INFO ] - [F] About to send pings to servers: [Endpoint(157.230.134.224:2016)]\n",
      "17:54:56.024229 [INFO ] - [F] About to send pings to servers: [Endpoint(157.230.134.224:2016)]\n",
      "17:54:56.224184 [INFO ] - [F] About to send pings to servers: [Endpoint(157.230.134.224:2016)]\n",
      "17:54:56.423384 [INFO ] - [F] About to send pings to servers: [Endpoint(157.230.134.224:2016)]\n",
      "17:54:56.624065 [INFO ] - [F] About to send pings to servers: [Endpoint(157.230.134.224:2016)]\n"
     ]
    },
    {
     "data": {
      "text/plain": [
       "[]"
      ]
     },
     "execution_count": 16,
     "metadata": {},
     "output_type": "execute_result"
    }
   ],
   "source": [
    "time.sleep(10.0)\n",
    "client_notifications = client_fiface.get_notifications()\n",
    "client_notifications"
   ]
  },
  {
   "cell_type": "code",
   "execution_count": 17,
   "id": "14369ed8",
   "metadata": {
    "scrolled": true
   },
   "outputs": [
    {
     "name": "stdout",
     "output_type": "stream",
     "text": [
      "\u001b[33m17:54:56.679108 LTI(client)199 skipped 128: received transport_cmd SendPackets { endpoint: Endpoint(157.230.134.224:2016), packet_infos: [PacketSettings { tid: ProcessUniqueId { prefix: 1, offset: 7 }, retry_interval: 0ns }], packets: [GetStatus { ping: PingPong { nonce: 13049980209706646729 } }] }\u001b[0m\u001b[33m17:54:56.679960 LTI(client)199: got transport notifications: []\u001b[0m\n",
      "17:54:56.678844 [TRACE] - [F<-A,C] New command: ClearPingEndpoints\n",
      "17:54:56.678865 [INFO ] - [F<-A,C] clearing ping endpoints: [Endpoint(157.230.134.224:2016)]\n",
      "\n",
      "17:54:56.684238 [TRACE] - [T<-F,C] Processing command SendPackets { endpoint: Endpoint(157.230.134.224:2016), packet_infos: [PacketSettings { tid: ProcessUniqueId { prefix: 1, offset: 7 }, retry_interval: 0ns }], packets: [GetStatus { ping: PingPong { nonce: 13049980209706646729 } }] }\n"
     ]
    },
    {
     "data": {
      "text/plain": [
       "Accepted"
      ]
     },
     "execution_count": 17,
     "metadata": {},
     "output_type": "execute_result"
    },
    {
     "name": "stdout",
     "output_type": "stream",
     "text": [
      "\u001b[33m17:54:56.687917 LTI(client)201: got transport_rsp back from Transport layer: TransportRsp::Accepted\u001b[0m\n"
     ]
    }
   ],
   "source": [
    "await client_fiface.command_response(FilterCmdW(\"clearpingendpoints\"))"
   ]
  },
  {
   "cell_type": "code",
   "execution_count": 18,
   "id": "7e747ddf",
   "metadata": {},
   "outputs": [
    {
     "data": {
      "text/plain": [
       "[]"
      ]
     },
     "execution_count": 18,
     "metadata": {},
     "output_type": "execute_result"
    },
    {
     "name": "stdout",
     "output_type": "stream",
     "text": [
      "17:54:56.708693 [TRACE] - [T<-UDP] Status { pong: PingPong { nonce: 13049980209706646729 }, server_version: \"0.3.5\", player_count: 0, room_count: 1, server_name: \"Official Conwayste\" }\n"
     ]
    }
   ],
   "source": [
    "client_notifications = client_fiface.get_notifications()\n",
    "client_notifications"
   ]
  },
  {
   "cell_type": "markdown",
   "id": "ab50b81d",
   "metadata": {},
   "source": [
    "### Now shutdown"
   ]
  },
  {
   "cell_type": "code",
   "execution_count": null,
   "id": "ce1d2b49",
   "metadata": {},
   "outputs": [],
   "source": [
    "sleep(1)\n",
    "await client_fiface.command_response(FilterCmdW(\"shutdown\", graceful=True))"
   ]
  },
  {
   "cell_type": "code",
   "execution_count": null,
   "id": "592f9659",
   "metadata": {},
   "outputs": [],
   "source": []
  }
 ],
 "metadata": {
  "kernelspec": {
   "display_name": "Python 3 (ipykernel)",
   "language": "python",
   "name": "python3"
  },
  "language_info": {
   "codemirror_mode": {
    "name": "ipython",
    "version": 3
   },
   "file_extension": ".py",
   "mimetype": "text/x-python",
   "name": "python",
   "nbconvert_exporter": "python",
   "pygments_lexer": "ipython3",
   "version": "3.10.9"
  },
  "vscode": {
   "interpreter": {
    "hash": "916dbcbb3f70747c44a77c7bcd40155683ae19c65e1c03b4aa3499c5328201f1"
   }
  }
 },
 "nbformat": 4,
 "nbformat_minor": 5
}
