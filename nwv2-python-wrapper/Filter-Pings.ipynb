{
 "cells": [
  {
   "cell_type": "markdown",
   "id": "aba2c68e",
   "metadata": {},
   "source": [
    "# Boilerplate"
   ]
  },
  {
   "cell_type": "code",
   "execution_count": null,
   "id": "bf75903d",
   "metadata": {},
   "outputs": [],
   "source": [
    "import sys\n",
    "sys.path.insert(0, 'venv/lib/python3.10/site-packages')\n",
    "import asyncio\n",
    "import time\n",
    "import base64\n",
    "\n",
    "from nwv2_python_wrapper import *\n",
    "import nwv2_python_wrapper\n",
    "init_logging()"
   ]
  },
  {
   "cell_type": "markdown",
   "id": "4b39dc18",
   "metadata": {},
   "source": [
    "# Run"
   ]
  },
  {
   "cell_type": "markdown",
   "id": "a2c354f3",
   "metadata": {},
   "source": [
    "List all Python wrappers"
   ]
  },
  {
   "cell_type": "code",
   "execution_count": null,
   "id": "37227bf5",
   "metadata": {},
   "outputs": [],
   "source": [
    "[f for f in dir(nwv2_python_wrapper) if not f.startswith('__') and f != 'nwv2_python_wrapper']"
   ]
  },
  {
   "cell_type": "markdown",
   "id": "e28d4512",
   "metadata": {},
   "source": [
    "## Transport layer setup"
   ]
  },
  {
   "cell_type": "markdown",
   "id": "5d9622f6",
   "metadata": {},
   "source": [
    "Create a Client and Server Transport layer and run each in the background."
   ]
  },
  {
   "cell_type": "code",
   "execution_count": null,
   "id": "495f6d91",
   "metadata": {},
   "outputs": [],
   "source": [
    "# Temporary workaround until the random port generated from `0` passed in can be obtained\n",
    "SERVER_PORT = 62013"
   ]
  },
  {
   "cell_type": "code",
   "execution_count": null,
   "id": "38346200",
   "metadata": {},
   "outputs": [],
   "source": [
    "client_tiface = await new_transport_interface(\"0.0.0.0\", 0, TransportModeW(\"client\"))\n",
    "client_tiface.run()\n",
    "\n",
    "server_tiface = await new_transport_interface(\"0.0.0.0\", SERVER_PORT, TransportModeW(\"server\"))\n",
    "server_tiface.run()"
   ]
  },
  {
   "cell_type": "markdown",
   "id": "344a2a3f",
   "metadata": {},
   "source": [
    "# Filter layer setup"
   ]
  },
  {
   "cell_type": "code",
   "execution_count": null,
   "id": "6fa2ab7b",
   "metadata": {},
   "outputs": [],
   "source": [
    "client_fiface = FilterInterface(client_tiface, FilterModeW(\"client\"))\n",
    "server_fiface = FilterInterface(server_tiface, FilterModeW(\"server\"))\n",
    "\n",
    "{\"c\": client_fiface, \"s\": server_fiface}"
   ]
  },
  {
   "cell_type": "markdown",
   "id": "82345b04",
   "metadata": {},
   "source": [
    "Find methods to run, for informational purposes."
   ]
  },
  {
   "cell_type": "code",
   "execution_count": null,
   "id": "5e2d7d02",
   "metadata": {
    "scrolled": true
   },
   "outputs": [],
   "source": [
    "[m for m in dir(client_fiface) if not m.startswith('__')]"
   ]
  },
  {
   "cell_type": "markdown",
   "id": "794804e3",
   "metadata": {},
   "source": [
    "### Run Client and Server Filter!"
   ]
  },
  {
   "cell_type": "code",
   "execution_count": null,
   "id": "5cda3921",
   "metadata": {},
   "outputs": [],
   "source": [
    "client_fiface_fut = client_fiface.run()\n",
    "server_fiface_fut = server_fiface.run()\n",
    "\n",
    "# After waiting a bit, the above futures should not have completed\n",
    "time.sleep(0.1)\n",
    "assert not client_fiface_fut.done() and not server_fiface_fut.done()"
   ]
  },
  {
   "cell_type": "markdown",
   "id": "f713c42a",
   "metadata": {},
   "source": [
    "## Filter layer operation for Pings"
   ]
  },
  {
   "cell_type": "markdown",
   "id": "12b67a80",
   "metadata": {},
   "source": [
    "### Change the server status to something meaningful"
   ]
  },
  {
   "cell_type": "code",
   "execution_count": null,
   "id": "c91bb8be",
   "metadata": {},
   "outputs": [],
   "source": [
    "server_name = \"Local Conwayste Server (notebook)\"\n",
    "server_version = \"1.2.34.56\"\n",
    "player_count = 8675309\n",
    "room_count = 9001\n",
    "await server_fiface.command_response(FilterCmdW(\"changeserverstatus\",\n",
    "                                                server_name=server_name,\n",
    "                                                server_version=server_version,\n",
    "                                                player_count=player_count,\n",
    "                                                room_count=room_count))"
   ]
  },
  {
   "cell_type": "markdown",
   "id": "17a3b5a9",
   "metadata": {},
   "source": [
    "### As a client, add server (both our local and Chococat) as ping endpoints"
   ]
  },
  {
   "cell_type": "markdown",
   "id": "1619af3a",
   "metadata": {},
   "source": [
    "#### First, resolve DNS for Chococat."
   ]
  },
  {
   "cell_type": "code",
   "execution_count": null,
   "id": "8f35a23d",
   "metadata": {},
   "outputs": [],
   "source": [
    "import socket\n",
    "choco_ip = socket.gethostbyname_ex('chococat.conwayste.rs')[-1][0]\n",
    "choco_ip"
   ]
  },
  {
   "cell_type": "code",
   "execution_count": null,
   "id": "3b3a1776",
   "metadata": {},
   "outputs": [],
   "source": [
    "server_ept = EndpointW(f\"127.0.0.1:{SERVER_PORT}\")\n",
    "choco_ept  = EndpointW(f\"{choco_ip}:2016\")\n",
    "\n",
    "filter_cmd = FilterCmdW(\"addpingendpoints\", endpoints=[server_ept, choco_ept])\n",
    "filter_cmd"
   ]
  },
  {
   "cell_type": "code",
   "execution_count": null,
   "id": "7b4b5724",
   "metadata": {
    "scrolled": true
   },
   "outputs": [],
   "source": [
    "await client_fiface.command_response(filter_cmd)"
   ]
  },
  {
   "cell_type": "markdown",
   "id": "f4617164",
   "metadata": {},
   "source": [
    "The client will repeatedly send pings. Need `LATENCY_FILTER_DEPTH` pings (currently 4) to be received back from server before we know the latency."
   ]
  },
  {
   "cell_type": "markdown",
   "id": "f2f9ef75",
   "metadata": {},
   "source": [
    "### Sleep for a bit\n",
    "\n",
    "We need time to get some pings."
   ]
  },
  {
   "cell_type": "code",
   "execution_count": null,
   "id": "508a922e",
   "metadata": {
    "scrolled": true
   },
   "outputs": [],
   "source": [
    "time.sleep(3.0)"
   ]
  },
  {
   "cell_type": "markdown",
   "id": "8868901f",
   "metadata": {},
   "source": [
    "### Clear ping endpoints"
   ]
  },
  {
   "cell_type": "code",
   "execution_count": null,
   "id": "14369ed8",
   "metadata": {
    "scrolled": true
   },
   "outputs": [],
   "source": [
    "await client_fiface.command_response(FilterCmdW(\"clearpingendpoints\"))"
   ]
  },
  {
   "cell_type": "markdown",
   "id": "ed9711a5",
   "metadata": {},
   "source": [
    "### Get notifications from client and server\n",
    "\n",
    "Normally the App layer would be getting these continuously."
   ]
  },
  {
   "cell_type": "code",
   "execution_count": null,
   "id": "412733dc",
   "metadata": {},
   "outputs": [],
   "source": [
    "server_notifications = server_fiface.get_notifications()\n",
    "server_notifications"
   ]
  },
  {
   "cell_type": "code",
   "execution_count": null,
   "id": "8430cea1",
   "metadata": {},
   "outputs": [],
   "source": [
    "client_notifications = client_fiface.get_notifications()\n",
    "len(client_notifications)"
   ]
  },
  {
   "cell_type": "code",
   "execution_count": null,
   "id": "abb0c81c",
   "metadata": {},
   "outputs": [],
   "source": [
    "list(map(lambda n: n.variant, client_notifications))"
   ]
  },
  {
   "cell_type": "code",
   "execution_count": null,
   "id": "f0334f39",
   "metadata": {},
   "outputs": [],
   "source": [
    "def server_info(notif):\n",
    "    assert notif.variant.lower() == 'pingresult'\n",
    "    return {'latency_ms':notif.latency, 'server_name': notif.server_name, 'room_count': notif.room_count, 'REPR': repr(notif)}"
   ]
  },
  {
   "cell_type": "code",
   "execution_count": null,
   "id": "f7206feb",
   "metadata": {},
   "outputs": [],
   "source": [
    "server_info(client_notifications[-1])"
   ]
  },
  {
   "cell_type": "code",
   "execution_count": null,
   "id": "b2c1514f",
   "metadata": {},
   "outputs": [],
   "source": [
    "server_info(client_notifications[-2])"
   ]
  },
  {
   "cell_type": "markdown",
   "id": "518e33cd",
   "metadata": {},
   "source": [
    "Sleeping again...."
   ]
  },
  {
   "cell_type": "code",
   "execution_count": null,
   "id": "7e747ddf",
   "metadata": {},
   "outputs": [],
   "source": [
    "client_notifications = client_fiface.get_notifications()\n",
    "client_notifications"
   ]
  },
  {
   "cell_type": "markdown",
   "id": "ab50b81d",
   "metadata": {},
   "source": [
    "### Now shutdown"
   ]
  },
  {
   "cell_type": "code",
   "execution_count": null,
   "id": "ce1d2b49",
   "metadata": {},
   "outputs": [],
   "source": [
    "time.sleep(1)\n",
    "await client_fiface.command_response(FilterCmdW(\"shutdown\", graceful=True))"
   ]
  }
 ],
 "metadata": {
  "kernelspec": {
   "display_name": "Python 3 (ipykernel)",
   "language": "python",
   "name": "python3"
  },
  "language_info": {
   "codemirror_mode": {
    "name": "ipython",
    "version": 3
   },
   "file_extension": ".py",
   "mimetype": "text/x-python",
   "name": "python",
   "nbconvert_exporter": "python",
   "pygments_lexer": "ipython3",
   "version": "3.10.9"
  },
  "vscode": {
   "interpreter": {
    "hash": "916dbcbb3f70747c44a77c7bcd40155683ae19c65e1c03b4aa3499c5328201f1"
   }
  }
 },
 "nbformat": 4,
 "nbformat_minor": 5
}
